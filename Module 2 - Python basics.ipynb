{
 "cells": [
  {
   "cell_type": "markdown",
   "id": "2936ff5f",
   "metadata": {},
   "source": [
    "Programming languages used for machine learning\n",
    "- python\n",
    "- R"
   ]
  },
  {
   "cell_type": "markdown",
   "id": "40620092",
   "metadata": {},
   "source": [
    "# List Tuple Set Dictonary\n",
    "### Type of Objects in Python\n",
    "- Immutable objects:- unchangeable\n",
    "- Mutable objects:- changeable\n",
    "### Immutable Objects:\n",
    "- int\n",
    "- float\n",
    "- bool\n",
    "- string\n",
    "- tuple\n",
    "### Mutable objects\n",
    "- List\n",
    "- Set\n",
    "- Dictionary\n"
   ]
  },
  {
   "cell_type": "code",
   "execution_count": 4,
   "id": "cdb6dcac",
   "metadata": {},
   "outputs": [
    {
     "data": {
      "text/plain": [
       "list"
      ]
     },
     "execution_count": 4,
     "metadata": {},
     "output_type": "execute_result"
    }
   ],
   "source": [
    "# List should be included in the square brackets\n",
    "a = [1,23,4,6,7]\n",
    "type(a)"
   ]
  },
  {
   "cell_type": "code",
   "execution_count": 5,
   "id": "11534662",
   "metadata": {},
   "outputs": [
    {
     "name": "stdout",
     "output_type": "stream",
     "text": [
      "[2, 3, 2.3, 4.67, 'hello']\n"
     ]
    },
    {
     "data": {
      "text/plain": [
       "list"
      ]
     },
     "execution_count": 5,
     "metadata": {},
     "output_type": "execute_result"
    }
   ],
   "source": [
    "# List can store multiple data-type\n",
    "my_list = [2,3,2.3,4.67,'hello']\n",
    "print(my_list)\n",
    "type(my_list)"
   ]
  },
  {
   "cell_type": "code",
   "execution_count": 6,
   "id": "bf01082f",
   "metadata": {},
   "outputs": [
    {
     "name": "stdout",
     "output_type": "stream",
     "text": [
      "[2, 3, 'name', 4.67, 'hello']\n"
     ]
    }
   ],
   "source": [
    "# List are mutable ---> they are changeable\n",
    "my_list = [2,3,2.3,4.67,'hello']\n",
    "my_list[2]='name'\n",
    "print(my_list)"
   ]
  },
  {
   "cell_type": "code",
   "execution_count": 7,
   "id": "23911016",
   "metadata": {},
   "outputs": [
    {
     "name": "stdout",
     "output_type": "stream",
     "text": [
      "[2, 3, 'name', 4.67, 'hello', 9]\n"
     ]
    }
   ],
   "source": [
    "my_list.append(9)\n",
    "print(my_list)"
   ]
  },
  {
   "cell_type": "code",
   "execution_count": 8,
   "id": "991b7dae",
   "metadata": {},
   "outputs": [
    {
     "name": "stdout",
     "output_type": "stream",
     "text": [
      "[1, 2, 2, 4, 4, 4, 5]\n"
     ]
    }
   ],
   "source": [
    "# list allow  duplicate values\n",
    "list_1 = [1,2,2,4,4,4,5]\n",
    "print(list_1)"
   ]
  },
  {
   "cell_type": "code",
   "execution_count": 9,
   "id": "265bb73f",
   "metadata": {},
   "outputs": [
    {
     "data": {
      "text/plain": [
       "<function list.count(value, /)>"
      ]
     },
     "execution_count": 9,
     "metadata": {},
     "output_type": "execute_result"
    }
   ],
   "source": [
    "list_1.count"
   ]
  },
  {
   "cell_type": "code",
   "execution_count": 10,
   "id": "18650d6a",
   "metadata": {},
   "outputs": [
    {
     "data": {
      "text/plain": [
       "3"
      ]
     },
     "execution_count": 10,
     "metadata": {},
     "output_type": "execute_result"
    }
   ],
   "source": [
    "list_1.count(4)"
   ]
  },
  {
   "cell_type": "code",
   "execution_count": 11,
   "id": "22968e8e",
   "metadata": {},
   "outputs": [
    {
     "name": "stdout",
     "output_type": "stream",
     "text": [
      "7\n"
     ]
    }
   ],
   "source": [
    "print(len(list_1))"
   ]
  },
  {
   "cell_type": "code",
   "execution_count": 12,
   "id": "53eb4988",
   "metadata": {},
   "outputs": [
    {
     "name": "stdout",
     "output_type": "stream",
     "text": [
      "[]\n"
     ]
    }
   ],
   "source": [
    "# intiating an empty list\n",
    "list_2 = []\n",
    "print(list_2)"
   ]
  },
  {
   "cell_type": "code",
   "execution_count": 15,
   "id": "6f5afb52",
   "metadata": {},
   "outputs": [
    {
     "name": "stdout",
     "output_type": "stream",
     "text": [
      "[3, 3]\n"
     ]
    }
   ],
   "source": [
    "list_2.append(3)\n",
    "print(list_2)"
   ]
  },
  {
   "cell_type": "code",
   "execution_count": 16,
   "id": "9769ccf6",
   "metadata": {},
   "outputs": [
    {
     "name": "stdout",
     "output_type": "stream",
     "text": [
      "[1, 2, 4, 5, 6, 7, 8, 9]\n"
     ]
    }
   ],
   "source": [
    "# join two lists\n",
    "list_3 = [1,2,4,5,6]\n",
    "list_4 = [7,8,9]\n",
    "\n",
    "list_5 = list_3 + list_4\n",
    "print(list_5)"
   ]
  },
  {
   "cell_type": "markdown",
   "id": "6ecb7010",
   "metadata": {},
   "source": [
    "## Tuple"
   ]
  },
  {
   "cell_type": "code",
   "execution_count": 17,
   "id": "53eaff83",
   "metadata": {},
   "outputs": [
    {
     "name": "stdout",
     "output_type": "stream",
     "text": [
      "(2, 3, 4, 5)\n"
     ]
    },
    {
     "data": {
      "text/plain": [
       "tuple"
      ]
     },
     "execution_count": 17,
     "metadata": {},
     "output_type": "execute_result"
    }
   ],
   "source": [
    "# tuple are enclosed in parenthese\n",
    "tuple_1 = (2,3,4,5)\n",
    "print(tuple_1)\n",
    "type(tuple_1)"
   ]
  },
  {
   "cell_type": "code",
   "execution_count": 18,
   "id": "e625e421",
   "metadata": {},
   "outputs": [
    {
     "name": "stdout",
     "output_type": "stream",
     "text": [
      "(2, 3, 1.4, 3.5, 'name')\n"
     ]
    }
   ],
   "source": [
    "# tuple allow multiple data types\n",
    "tuple_2 = (2,3,1.4,3.5,'name')\n",
    "print(tuple_2)"
   ]
  },
  {
   "cell_type": "code",
   "execution_count": 19,
   "id": "9f11a72c",
   "metadata": {},
   "outputs": [
    {
     "name": "stdout",
     "output_type": "stream",
     "text": [
      "[3, 4, 5, 6, 7]\n",
      "(3, 4, 5, 6, 7)\n"
     ]
    }
   ],
   "source": [
    "# converting a list into a tuple\n",
    "my_list= [3,4,5,6,7]\n",
    "print(my_list)\n",
    "\n",
    "my_tuple = tuple(my_list)\n",
    "print(my_tuple)"
   ]
  },
  {
   "cell_type": "code",
   "execution_count": 20,
   "id": "8b828f22",
   "metadata": {},
   "outputs": [
    {
     "ename": "AttributeError",
     "evalue": "'tuple' object has no attribute 'append'",
     "output_type": "error",
     "traceback": [
      "\u001b[1;31m---------------------------------------------------------------------------\u001b[0m",
      "\u001b[1;31mAttributeError\u001b[0m                            Traceback (most recent call last)",
      "Input \u001b[1;32mIn [20]\u001b[0m, in \u001b[0;36m<cell line: 2>\u001b[1;34m()\u001b[0m\n\u001b[0;32m      1\u001b[0m \u001b[38;5;66;03m# tuples are immutable --> are not changleable\u001b[39;00m\n\u001b[1;32m----> 2\u001b[0m \u001b[43mmy_tuple\u001b[49m\u001b[38;5;241;43m.\u001b[39;49m\u001b[43mappend\u001b[49m(\u001b[38;5;241m5\u001b[39m)\n",
      "\u001b[1;31mAttributeError\u001b[0m: 'tuple' object has no attribute 'append'"
     ]
    }
   ],
   "source": [
    "# tuples are immutable --> are not changleable\n",
    "my_tuple.append(5)"
   ]
  },
  {
   "cell_type": "code",
   "execution_count": 21,
   "id": "76414193",
   "metadata": {},
   "outputs": [
    {
     "name": "stdout",
     "output_type": "stream",
     "text": [
      "5\n"
     ]
    }
   ],
   "source": [
    "print(len(my_tuple))"
   ]
  },
  {
   "cell_type": "markdown",
   "id": "a4236759",
   "metadata": {},
   "source": [
    "## Set"
   ]
  },
  {
   "cell_type": "code",
   "execution_count": 22,
   "id": "9d3c21e1",
   "metadata": {},
   "outputs": [
    {
     "name": "stdout",
     "output_type": "stream",
     "text": [
      "{1, 2, 4, 5, 6}\n"
     ]
    },
    {
     "data": {
      "text/plain": [
       "set"
      ]
     },
     "execution_count": 22,
     "metadata": {},
     "output_type": "execute_result"
    }
   ],
   "source": [
    "# set --> curly brackets\n",
    "my_set = {1,2,4,5,6}\n",
    "print(my_set)\n",
    "type(my_set)"
   ]
  },
  {
   "cell_type": "code",
   "execution_count": 23,
   "id": "b8629c4a",
   "metadata": {},
   "outputs": [
    {
     "ename": "TypeError",
     "evalue": "'set' object is not subscriptable",
     "output_type": "error",
     "traceback": [
      "\u001b[1;31m---------------------------------------------------------------------------\u001b[0m",
      "\u001b[1;31mTypeError\u001b[0m                                 Traceback (most recent call last)",
      "Input \u001b[1;32mIn [23]\u001b[0m, in \u001b[0;36m<cell line: 2>\u001b[1;34m()\u001b[0m\n\u001b[0;32m      1\u001b[0m \u001b[38;5;66;03m# SET  doesnot support indexing\u001b[39;00m\n\u001b[1;32m----> 2\u001b[0m \u001b[38;5;28mprint\u001b[39m(\u001b[43mmy_set\u001b[49m\u001b[43m[\u001b[49m\u001b[38;5;241;43m2\u001b[39;49m\u001b[43m]\u001b[49m)\n",
      "\u001b[1;31mTypeError\u001b[0m: 'set' object is not subscriptable"
     ]
    }
   ],
   "source": [
    "# SET  doesnot support indexing\n",
    "print(my_set[2])"
   ]
  },
  {
   "cell_type": "code",
   "execution_count": 24,
   "id": "dcda1213",
   "metadata": {},
   "outputs": [
    {
     "name": "stdout",
     "output_type": "stream",
     "text": [
      "{4, 6, 7, 8, 9}\n"
     ]
    },
    {
     "data": {
      "text/plain": [
       "set"
      ]
     },
     "execution_count": 24,
     "metadata": {},
     "output_type": "execute_result"
    }
   ],
   "source": [
    "# convert a list into a set\n",
    "list_5 = [4,6,7,8,9]\n",
    "x =set(list_5)\n",
    "print(x)\n",
    "type(x)"
   ]
  },
  {
   "cell_type": "code",
   "execution_count": 25,
   "id": "23dbaea5",
   "metadata": {},
   "outputs": [
    {
     "name": "stdout",
     "output_type": "stream",
     "text": [
      "{1, 2, 3, 4, 5, 6}\n"
     ]
    }
   ],
   "source": [
    "# set doesn't allow duplicate value\n",
    "set_3 = {1,2,4,4,5,5,6,3}\n",
    "print(set_3)"
   ]
  },
  {
   "cell_type": "markdown",
   "id": "1d13be9c",
   "metadata": {},
   "source": [
    "## Dictionary"
   ]
  },
  {
   "cell_type": "code",
   "execution_count": 26,
   "id": "67ad5fce",
   "metadata": {},
   "outputs": [
    {
     "name": "stdout",
     "output_type": "stream",
     "text": [
      "{'name': 'David', 'age': 30, 'country': 'India'}\n"
     ]
    },
    {
     "data": {
      "text/plain": [
       "dict"
      ]
     },
     "execution_count": 26,
     "metadata": {},
     "output_type": "execute_result"
    }
   ],
   "source": [
    "# Dictionary have key:value pair\n",
    "my_dic = {'name':'David','age':30, 'country': 'India'}\n",
    "print(my_dic)\n",
    "type(my_dic)"
   ]
  },
  {
   "cell_type": "code",
   "execution_count": 27,
   "id": "b90042da",
   "metadata": {},
   "outputs": [
    {
     "name": "stdout",
     "output_type": "stream",
     "text": [
      "David\n",
      "30\n"
     ]
    }
   ],
   "source": [
    "# call value with the help of key no indexing use\n",
    "print(my_dic['name'])\n",
    "print(my_dic['age'])"
   ]
  },
  {
   "cell_type": "code",
   "execution_count": 28,
   "id": "fae31796",
   "metadata": {},
   "outputs": [],
   "source": [
    "# Dictionary doesn't allow duplicate value\n",
    "dic_1 = {'name': 'David', 'age': 30, 'country': 'India','name': 'David', 'age': 30, 'country': 'India'}"
   ]
  },
  {
   "cell_type": "code",
   "execution_count": 29,
   "id": "a52726b2",
   "metadata": {},
   "outputs": [
    {
     "name": "stdout",
     "output_type": "stream",
     "text": [
      "{'name': 'David', 'age': 30, 'country': 'India'}\n"
     ]
    }
   ],
   "source": [
    "print(dic_1)"
   ]
  },
  {
   "cell_type": "markdown",
   "id": "9fe5825f",
   "metadata": {},
   "source": [
    "# Operators in Python\n",
    "- Arithmetic Operator\n",
    "- Assignment opeartor\n",
    "- comparison opeartor\n",
    "- Logical Operators\n",
    "- Identity Operators\n",
    "- Membership Operators\n"
   ]
  },
  {
   "cell_type": "markdown",
   "id": "9c8f290b",
   "metadata": {},
   "source": [
    "### Arithmetic operators"
   ]
  },
  {
   "cell_type": "code",
   "execution_count": 31,
   "id": "42ec50e5",
   "metadata": {},
   "outputs": [
    {
     "name": "stdout",
     "output_type": "stream",
     "text": [
      "sum =  30\n",
      "differnce =  10\n",
      "multiple =  200\n",
      "exponent =  10240000000000\n",
      "module =  0\n"
     ]
    }
   ],
   "source": [
    "num_1 = 20\n",
    "num_2 = 10\n",
    "\n",
    "# addition\n",
    "sum = num_1 + num_2\n",
    "print('sum = ', sum)\n",
    "\n",
    "# substraction\n",
    "diff = num_1 - num_2\n",
    "print('differnce = ', diff)\n",
    "\n",
    "# multiple\n",
    "multi = num_1 * num_2\n",
    "print('multiple = ',multi)\n",
    "\n",
    "# exponent\n",
    "exp = num_1 ** num_2\n",
    "print('exponent = ',exp)\n",
    "\n",
    "# Modulus\n",
    "mod = num_1 % num_2\n",
    "print(\"module = \", mod)"
   ]
  },
  {
   "cell_type": "markdown",
   "id": "e92f9751",
   "metadata": {},
   "source": [
    "### Assignment operators"
   ]
  },
  {
   "cell_type": "code",
   "execution_count": 33,
   "id": "0a33aded",
   "metadata": {},
   "outputs": [
    {
     "name": "stdout",
     "output_type": "stream",
     "text": [
      "5\n",
      "9\n",
      "6\n"
     ]
    }
   ],
   "source": [
    "a = 5\n",
    "print(a)\n",
    "\n",
    "a += 4\n",
    "print(a)\n",
    "\n",
    "a -= 3\n",
    "print(a)"
   ]
  },
  {
   "cell_type": "markdown",
   "id": "c6045a55",
   "metadata": {},
   "source": [
    "### Comparison Operators\n"
   ]
  },
  {
   "cell_type": "code",
   "execution_count": 36,
   "id": "9e74bf26",
   "metadata": {},
   "outputs": [
    {
     "name": "stdout",
     "output_type": "stream",
     "text": [
      "False\n",
      "True\n",
      "False\n",
      "True\n",
      "True\n"
     ]
    }
   ],
   "source": [
    "a =5\n",
    "b = 10\n",
    "print(a == b)\n",
    "print(a != b)\n",
    "print(a > b)\n",
    "print(a < b)\n",
    "print(a <= b)"
   ]
  },
  {
   "cell_type": "markdown",
   "id": "bb917d5c",
   "metadata": {},
   "source": [
    "### Logical operators\n"
   ]
  },
  {
   "cell_type": "code",
   "execution_count": 38,
   "id": "c895ccd5",
   "metadata": {},
   "outputs": [
    {
     "name": "stdout",
     "output_type": "stream",
     "text": [
      "False\n",
      "True\n",
      "True\n"
     ]
    }
   ],
   "source": [
    "# There are 3 logical operators---> and, or , not\n",
    "a =10\n",
    "\n",
    "print(a > 20 and a > 5) # all condition need to be true\n",
    "print(a>20 or a > 5) # alteast one condition need to be true for true\n",
    "print(not(a>20 and a>5)) # inverted the result"
   ]
  },
  {
   "cell_type": "markdown",
   "id": "01be27e6",
   "metadata": {},
   "source": [
    "### Identity operators\n"
   ]
  },
  {
   "cell_type": "code",
   "execution_count": 39,
   "id": "601a5985",
   "metadata": {},
   "outputs": [
    {
     "name": "stdout",
     "output_type": "stream",
     "text": [
      "False\n",
      "True\n"
     ]
    }
   ],
   "source": [
    "## 'is' and 'is not'\n",
    "x =5\n",
    "y = 10\n",
    "\n",
    "print(x is y)\n",
    "print(x is not y)"
   ]
  },
  {
   "cell_type": "markdown",
   "id": "7b61e3ce",
   "metadata": {},
   "source": [
    "### Membership opeartors\n",
    "There are two type:\n",
    "- in\n",
    "- not in"
   ]
  },
  {
   "cell_type": "code",
   "execution_count": 41,
   "id": "69cac314",
   "metadata": {},
   "outputs": [
    {
     "name": "stdout",
     "output_type": "stream",
     "text": [
      "True\n",
      "False\n",
      "True\n",
      "False\n"
     ]
    }
   ],
   "source": [
    "a =5\n",
    "b =10\n",
    "\n",
    "c = [1,2,4,5,7,3]\n",
    "print(a in c)\n",
    "print(a not in c)\n",
    "print(b not in c)\n",
    "print(b in c)"
   ]
  },
  {
   "cell_type": "markdown",
   "id": "fd5e03a1",
   "metadata": {},
   "source": [
    "# if- else statement"
   ]
  },
  {
   "cell_type": "code",
   "execution_count": 42,
   "id": "8e1a7e52",
   "metadata": {},
   "outputs": [
    {
     "name": "stdout",
     "output_type": "stream",
     "text": [
      "b is the greatest number\n"
     ]
    }
   ],
   "source": [
    "# simple if-else statement\n",
    "a = 30\n",
    "b = 50\n",
    "\n",
    "if a>b:\n",
    "    print(\"a is greatest number\")\n",
    "else:\n",
    "    print(\"b is the greatest number\")"
   ]
  },
  {
   "cell_type": "code",
   "execution_count": 43,
   "id": "96bcca9d",
   "metadata": {},
   "outputs": [
    {
     "name": "stdout",
     "output_type": "stream",
     "text": [
      "Enter the first number: 100\n",
      "Enter the seconf number: 30\n",
      "a is greatest number\n"
     ]
    }
   ],
   "source": [
    "a = int(input('Enter the first number: '))\n",
    "b = int(input('Enter the seconf number: '))\n",
    "\n",
    "if a>b:\n",
    "    print(\"a is greatest number\")\n",
    "else:\n",
    "    print(\"b is the greatest number\")"
   ]
  },
  {
   "cell_type": "code",
   "execution_count": 44,
   "id": "ab798535",
   "metadata": {},
   "outputs": [
    {
     "name": "stdout",
     "output_type": "stream",
     "text": [
      "c is greater\n"
     ]
    }
   ],
   "source": [
    "## if - elif- else statement\n",
    "### we use it, when we have more than two statement\n",
    "a= 15\n",
    "b = 25\n",
    "c =  30\n",
    "\n",
    "if (b<a>c):\n",
    "    print('a is greater')\n",
    "elif (a<b>c):\n",
    "    print('b is greater')\n",
    "else:\n",
    "    print('c is greater')"
   ]
  },
  {
   "cell_type": "code",
   "execution_count": 45,
   "id": "4bae90ff",
   "metadata": {},
   "outputs": [
    {
     "name": "stdout",
     "output_type": "stream",
     "text": [
      "c is the greatest number\n"
     ]
    }
   ],
   "source": [
    "## Nested if statements\n",
    "\n",
    "a= 20\n",
    "b = 40\n",
    "c = 60\n",
    "\n",
    "if(a>b):\n",
    "    if(a>c):\n",
    "        print('a is the greatest number')\n",
    "    else:\n",
    "        print('c is the greatest number')\n",
    "else:\n",
    "    if (b>c):\n",
    "        print('b is the greatest number')\n",
    "    else:\n",
    "        print('c is the greatest number')\n",
    "    "
   ]
  },
  {
   "cell_type": "markdown",
   "id": "6730a2e1",
   "metadata": {},
   "source": [
    "# Loops in python\n",
    "- for loop\n",
    "- while loop"
   ]
  },
  {
   "cell_type": "markdown",
   "id": "2460f016",
   "metadata": {},
   "source": [
    "### for loop"
   ]
  },
  {
   "cell_type": "code",
   "execution_count": 47,
   "id": "1923e3b1",
   "metadata": {},
   "outputs": [
    {
     "name": "stdout",
     "output_type": "stream",
     "text": [
      "Enter the price of the laptop: 200000\n"
     ]
    },
    {
     "data": {
      "text/plain": [
       "str"
      ]
     },
     "execution_count": 47,
     "metadata": {},
     "output_type": "execute_result"
    }
   ],
   "source": [
    "laptop1 = input('Enter the price of the laptop: ')\n",
    "type(laptop1)"
   ]
  },
  {
   "cell_type": "code",
   "execution_count": 48,
   "id": "54d701c0",
   "metadata": {},
   "outputs": [
    {
     "name": "stdout",
     "output_type": "stream",
     "text": [
      "Enter the price of the laptop: 30000\n"
     ]
    },
    {
     "data": {
      "text/plain": [
       "int"
      ]
     },
     "execution_count": 48,
     "metadata": {},
     "output_type": "execute_result"
    }
   ],
   "source": [
    "## when a input taken from user as it interger, float or any other data type it always consider as string\n",
    "laptop3 =int( input('Enter the price of the laptop: '))\n",
    "type(laptop3)"
   ]
  },
  {
   "cell_type": "code",
   "execution_count": 55,
   "id": "b49d6ca0",
   "metadata": {},
   "outputs": [
    {
     "name": "stdout",
     "output_type": "stream",
     "text": [
      "table of 2 * 1 2\n",
      "table of 2 * 2 4\n",
      "table of 2 * 3 6\n",
      "table of 2 * 4 8\n",
      "table of 2 * 5 10\n",
      "table of 2 * 6 12\n",
      "table of 2 * 7 14\n",
      "table of 2 * 8 16\n",
      "table of 2 * 9 18\n"
     ]
    }
   ],
   "source": [
    "for i in range(1,10): ## 0,1,2......,8,9\n",
    "    print('table of 2 *', i, 2*i)"
   ]
  },
  {
   "cell_type": "code",
   "execution_count": 56,
   "id": "5a960080",
   "metadata": {},
   "outputs": [
    {
     "name": "stdout",
     "output_type": "stream",
     "text": [
      "50\n",
      "10\n",
      "200\n",
      "20\n"
     ]
    }
   ],
   "source": [
    "number = [50,10,200,20]\n",
    "\n",
    "for i in number:\n",
    "    print(i)"
   ]
  },
  {
   "cell_type": "markdown",
   "id": "be00b059",
   "metadata": {},
   "source": [
    "### While loop\n",
    "intial\n",
    "while condition:\n",
    "   statement\n",
    "   increment/decrement"
   ]
  },
  {
   "cell_type": "code",
   "execution_count": 57,
   "id": "2960afd6",
   "metadata": {},
   "outputs": [
    {
     "name": "stdout",
     "output_type": "stream",
     "text": [
      "0\n",
      "1\n",
      "2\n",
      "3\n",
      "4\n",
      "5\n",
      "6\n",
      "7\n",
      "8\n",
      "9\n"
     ]
    }
   ],
   "source": [
    "i =0\n",
    "while i<10:\n",
    "    print(i)\n",
    "    i += 1"
   ]
  },
  {
   "cell_type": "markdown",
   "id": "ff3f2244",
   "metadata": {},
   "source": [
    "# Function in a python\n",
    "function is a block of code that can be reused in python"
   ]
  },
  {
   "cell_type": "code",
   "execution_count": 3,
   "id": "75cda3e3",
   "metadata": {},
   "outputs": [
    {
     "name": "stdout",
     "output_type": "stream",
     "text": [
      "Enter the number to find its factorial: 10\n",
      "the factorial of  10 is 3628800\n"
     ]
    }
   ],
   "source": [
    "##Factorial of a number\n",
    "## factorial of 5 --> 1x2x3x4x5 = 120\n",
    "number = int(input('Enter the number to find its factorial: '))\n",
    "factorial = 1\n",
    "if number == 0:\n",
    "    print('The factorial of 0 is 1')\n",
    "else:\n",
    "    for i in range(1, number+1):  ## range(1,6)\n",
    "        factorial = factorial*i\n",
    "    print(\"the factorial of \", number,'is', factorial)"
   ]
  },
  {
   "cell_type": "code",
   "execution_count": 4,
   "id": "25cfb4eb",
   "metadata": {},
   "outputs": [],
   "source": [
    "## Factorial function\n",
    "def factorial_value(num):  # function call\n",
    "    factorial = 1\n",
    "    \n",
    "    if num == 0:\n",
    "        return factorial\n",
    "    else:\n",
    "        for i in range(1, num+1):\n",
    "            factorial = factorial *i\n",
    "        return factorial\n",
    "    \n"
   ]
  },
  {
   "cell_type": "code",
   "execution_count": 5,
   "id": "9efc5ad7",
   "metadata": {},
   "outputs": [
    {
     "name": "stdout",
     "output_type": "stream",
     "text": [
      "120\n"
     ]
    }
   ],
   "source": [
    "print(factorial_value(5))"
   ]
  },
  {
   "cell_type": "code",
   "execution_count": 6,
   "id": "4244c689",
   "metadata": {},
   "outputs": [
    {
     "name": "stdout",
     "output_type": "stream",
     "text": [
      "3628800\n"
     ]
    }
   ],
   "source": [
    "print(factorial_value(10)) # function call"
   ]
  },
  {
   "cell_type": "code",
   "execution_count": null,
   "id": "ebf788db",
   "metadata": {},
   "outputs": [],
   "source": []
  }
 ],
 "metadata": {
  "kernelspec": {
   "display_name": "Python 3 (ipykernel)",
   "language": "python",
   "name": "python3"
  },
  "language_info": {
   "codemirror_mode": {
    "name": "ipython",
    "version": 3
   },
   "file_extension": ".py",
   "mimetype": "text/x-python",
   "name": "python",
   "nbconvert_exporter": "python",
   "pygments_lexer": "ipython3",
   "version": "3.9.12"
  }
 },
 "nbformat": 4,
 "nbformat_minor": 5
}
