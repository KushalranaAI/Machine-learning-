{
  "nbformat": 4,
  "nbformat_minor": 0,
  "metadata": {
    "colab": {
      "provenance": [],
      "authorship_tag": "ABX9TyO5WTwfR/V79BfK3u0vflnA",
      "include_colab_link": true
    },
    "kernelspec": {
      "name": "python3",
      "display_name": "Python 3"
    },
    "language_info": {
      "name": "python"
    }
  },
  "cells": [
    {
      "cell_type": "markdown",
      "metadata": {
        "id": "view-in-github",
        "colab_type": "text"
      },
      "source": [
        "<a href=\"https://colab.research.google.com/github/KushalranaAI/Machine-learning-/blob/main/Module_4_Data_collection_%26_Pre_processing.ipynb\" target=\"_parent\"><img src=\"https://colab.research.google.com/assets/colab-badge.svg\" alt=\"Open In Colab\"/></a>"
      ]
    },
    {
      "cell_type": "markdown",
      "source": [
        "Where to collect data for machine learning?"
      ],
      "metadata": {
        "id": "xPId-HTMzI5J"
      }
    },
    {
      "cell_type": "markdown",
      "source": [
        "Question need to be answer or understnad:\n",
        "1. Importance of Data in Machine Learning?\n",
        "- Ans: Data is crucial in machine learning as it is the input used to train algorithms and make predictions. The quality and quantity of data can greatly affect the accuracy and performance of a model. Good data should be representative, diverse, and labeled, and should avoid bias to ensure the model can generalize to new examples. The more data a model is trained on, the better it will be able to learn patterns and make predictions, but too much data can also lead to overfitting. Therefore, finding the right balance of data quality and quantity is important in machine learning.\n",
        "2. Where to collect the data?\n",
        "- kaggle\n",
        "- UCI machine learning repository\n",
        "- Google dataset search\n",
        "\n",
        "3. Demonstration of data collection."
      ],
      "metadata": {
        "id": "NufK8qr6zQdc"
      }
    },
    {
      "cell_type": "code",
      "execution_count": null,
      "metadata": {
        "id": "pnuNI-T0Ex9c"
      },
      "outputs": [],
      "source": []
    }
  ]
}