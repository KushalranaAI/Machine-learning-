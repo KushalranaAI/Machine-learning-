{
  "nbformat": 4,
  "nbformat_minor": 0,
  "metadata": {
    "colab": {
      "provenance": [],
      "authorship_tag": "ABX9TyPkTQf3OkyX2qTpl+L1Ofre",
      "include_colab_link": true
    },
    "kernelspec": {
      "name": "python3",
      "display_name": "Python 3"
    },
    "language_info": {
      "name": "python"
    }
  },
  "cells": [
    {
      "cell_type": "markdown",
      "metadata": {
        "id": "view-in-github",
        "colab_type": "text"
      },
      "source": [
        "<a href=\"https://colab.research.google.com/github/KushalranaAI/Machine-learning-/blob/main/Module_5_Mathematics_for_ML.ipynb\" target=\"_parent\"><img src=\"https://colab.research.google.com/assets/colab-badge.svg\" alt=\"Open In Colab\"/></a>"
      ]
    },
    {
      "cell_type": "markdown",
      "source": [
        "#LINEAR ALGEBRA \n",
        "Linear algebra is a branch of mathematics that deals with linear equations and their representations through matrices and vectors. In machine learning, linear algebra plays a crucial role in several aspects such as data preprocessing, model optimization, and deep learning.\n",
        "\n",
        "In data preprocessing, linear algebra is used to perform operations like scaling, normalization, and feature extraction. These operations involve transformations of the input data, and linear algebra provides an efficient way to represent and perform these transformations using matrix operations.\n",
        "\n",
        "In model optimization, linear algebra is used to solve the optimization problems that arise during the training of machine learning models. These optimization problems are typically represented as systems of linear equations, and linear algebra provides methods for solving them efficiently, such as the use of matrix factorization and eigenvalue decomposition.\n",
        "\n",
        "In deep learning, linear algebra is used extensively to represent and manipulate the parameters of neural networks, such as weights and biases. Neural networks are composed of layers of interconnected nodes, and linear algebra provides an efficient way to represent these layers as matrices and perform operations on them, such as matrix multiplication and convolution.\n",
        "\n",
        "Overall, linear algebra is a fundamental tool for machine learning, providing a powerful mathematical framework for representing and manipulating data, models, and optimization problems."
      ],
      "metadata": {
        "id": "2PBYG6pQ8dOS"
      }
    },
    {
      "cell_type": "markdown",
      "source": [
        "##vector- mathematics based approach\n",
        "\n",
        "**vector have:** Magnitude and Direction\n",
        "\n",
        "**Magnitude of Vector:**  root(x1.sqa + x2.sqa)\n",
        "\n",
        "\n",
        "\n"
      ],
      "metadata": {
        "id": "NZ_cDcpN8muL"
      }
    },
    {
      "cell_type": "markdown",
      "source": [
        "## Vector operations\n",
        "\n",
        "* vector addition\n",
        "* vector substraction\n",
        "* Multiplying a vector by a scaler\n",
        "* Angle between 2 vectors\n",
        "  - if the angle between 2 vector is small then the 2 vector are simillar.\n",
        "  - if the angle between 2 vector is large then the 2 vector are very different.\n",
        "\n",
        "\n",
        "\n"
      ],
      "metadata": {
        "id": "xWp60XSRBl4T"
      }
    },
    {
      "cell_type": "code",
      "execution_count": null,
      "metadata": {
        "id": "PYCLVRlxidz-"
      },
      "outputs": [],
      "source": [
        "import numpy as np\n",
        "import matplotlib.pyplot as plt\n",
        "import seaborn as sns \n"
      ]
    },
    {
      "cell_type": "code",
      "source": [
        "sns.set()"
      ],
      "metadata": {
        "id": "zEoBuvjXPsQY"
      },
      "execution_count": null,
      "outputs": []
    },
    {
      "cell_type": "markdown",
      "source": [
        "plottting a vector"
      ],
      "metadata": {
        "id": "zwwhngZJPwyV"
      }
    },
    {
      "cell_type": "code",
      "source": [
        "plt.quiver(0,0,4,5)\n",
        "plt.show()"
      ],
      "metadata": {
        "colab": {
          "base_uri": "https://localhost:8080/",
          "height": 268
        },
        "id": "CdnRE_p7Ptuc",
        "outputId": "682f0976-b5d7-48c0-bbad-45687f6feec7"
      },
      "execution_count": null,
      "outputs": [
        {
          "output_type": "display_data",
          "data": {
            "text/plain": [
              "<Figure size 432x288 with 1 Axes>"
            ],
            "image/png": "[encoded data removed]"
          },
          "metadata": {}
        }
      ]
    },
    {
      "cell_type": "code",
      "source": [
        "plt.quiver(0,0,4,5, scale_units = 'xy', angles='xy', scale=1)\n",
        "plt.xlim(-8,8)\n",
        "plt.ylim(-8,8)\n",
        "plt.show()"
      ],
      "metadata": {
        "colab": {
          "base_uri": "https://localhost:8080/",
          "height": 272
        },
        "id": "cwq41HZtP9dT",
        "outputId": "fd3646b1-db34-4732-a20c-7203fd4f8a0f"
      },
      "execution_count": null,
      "outputs": [
        {
          "output_type": "display_data",
          "data": {
            "text/plain": [
              "<Figure size 432x288 with 1 Axes>"
            ],
            "image/png": "[encoded data removed]"
          },
          "metadata": {}
        }
      ]
    },
    {
      "cell_type": "markdown",
      "source": [
        "Addition of two vectors"
      ],
      "metadata": {
        "id": "K7CDhRHPQyWX"
      }
    },
    {
      "cell_type": "code",
      "source": [
        "vector_1 = np.asarray([0,0,2,3])\n",
        "\n",
        "vector_2 = np.asarray([0,0,3,-2])\n",
        "\n",
        "sum = vector_1 + vector_2\n",
        "print(sum)"
      ],
      "metadata": {
        "colab": {
          "base_uri": "https://localhost:8080/"
        },
        "id": "EyUPS_jUQWZl",
        "outputId": "53817094-cf46-4de1-b1d2-50d26ef293c4"
      },
      "execution_count": null,
      "outputs": [
        {
          "output_type": "stream",
          "name": "stdout",
          "text": [
            "[0 0 5 1]\n"
          ]
        }
      ]
    },
    {
      "cell_type": "code",
      "source": [
        "plt.quiver(0,0,2,3, scale_units = 'xy', angles='xy', scale=1, color='y')\n",
        "plt.quiver(0,0,3,-2, scale_units = 'xy', angles='xy', scale=1, color='b')\n",
        "plt.quiver(0,0,5,1, scale_units = 'xy', angles='xy', scale=1, color='r')\n",
        "plt.xlim(-8,8)\n",
        "plt.ylim(-8,8)\n",
        "plt.show()"
      ],
      "metadata": {
        "colab": {
          "base_uri": "https://localhost:8080/",
          "height": 272
        },
        "id": "2jU4ZNLuRKUv",
        "outputId": "7e211e1b-0486-4810-de3d-98b7a41747cc"
      },
      "execution_count": null,
      "outputs": [
        {
          "output_type": "display_data",
          "data": {
            "text/plain": [
              "<Figure size 432x288 with 1 Axes>"
            ],
            "image/png": "[encoded data removed]"
          },
          "metadata": {}
        }
      ]
    },
    {
      "cell_type": "markdown",
      "source": [
        "Substraction of two vector"
      ],
      "metadata": {
        "id": "HULh9mqmRrPV"
      }
    },
    {
      "cell_type": "code",
      "source": [
        "vector_1 = np.asarray([0,0,2,3])\n",
        "\n",
        "vector_2 = np.asarray([0,0,3,-2])\n",
        "\n",
        "differnce = vector_1 - vector_2\n",
        "print(differnce)"
      ],
      "metadata": {
        "colab": {
          "base_uri": "https://localhost:8080/"
        },
        "id": "EPnahpIvRi9Y",
        "outputId": "941358c2-6082-486e-8600-d6267fd006f4"
      },
      "execution_count": null,
      "outputs": [
        {
          "output_type": "stream",
          "name": "stdout",
          "text": [
            "[ 0  0 -1  5]\n"
          ]
        }
      ]
    },
    {
      "cell_type": "code",
      "source": [
        "plt.quiver(0,0,2,3, scale_units = 'xy', angles='xy', scale=1, color='y')\n",
        "plt.quiver(0,0,3,-2, scale_units = 'xy', angles='xy', scale=1, color='b')\n",
        "plt.quiver(0,0,-1,5, scale_units = 'xy', angles='xy', scale=1, color='r')\n",
        "plt.xlim(-8,8)\n",
        "plt.ylim(-8,8)\n",
        "plt.show()"
      ],
      "metadata": {
        "colab": {
          "base_uri": "https://localhost:8080/",
          "height": 272
        },
        "id": "_9lSg_-iRxgI",
        "outputId": "de42dfcb-fc57-4bf3-c7e5-d2ff585a6e81"
      },
      "execution_count": null,
      "outputs": [
        {
          "output_type": "display_data",
          "data": {
            "text/plain": [
              "<Figure size 432x288 with 1 Axes>"
            ],
            "image/png": "[encoded data removed]"
          },
          "metadata": {}
        }
      ]
    },
    {
      "cell_type": "markdown",
      "source": [
        "Multipying a vector a scaler"
      ],
      "metadata": {
        "id": "WEUC_tX7R8oP"
      }
    },
    {
      "cell_type": "code",
      "source": [
        "vector_1 = np.asarray([0,0,2,3])\n",
        "\n",
        "vector_2 = 2* vector_1\n",
        "\n",
        "print(vector_2)"
      ],
      "metadata": {
        "colab": {
          "base_uri": "https://localhost:8080/"
        },
        "id": "s9lWrRgdR2Dp",
        "outputId": "22171c16-9a58-435d-8e13-e18dafab5d0e"
      },
      "execution_count": null,
      "outputs": [
        {
          "output_type": "stream",
          "name": "stdout",
          "text": [
            "[0 0 4 6]\n"
          ]
        }
      ]
    },
    {
      "cell_type": "code",
      "source": [
        "plt.quiver(0,0,2,3, scale_units = 'xy', angles='xy', scale=1, color='y')\n",
        "plt.quiver(0,0,4,6, scale_units = 'xy', angles='xy', scale=1, color='b')\n",
        "plt.xlim(-8,8)\n",
        "plt.ylim(-8,8)\n",
        "plt.show()"
      ],
      "metadata": {
        "colab": {
          "base_uri": "https://localhost:8080/",
          "height": 272
        },
        "id": "jxOwnB1OSXht",
        "outputId": "fe9df486-f19d-4b08-a61c-131d9915a053"
      },
      "execution_count": null,
      "outputs": [
        {
          "output_type": "display_data",
          "data": {
            "text/plain": [
              "<Figure size 432x288 with 1 Axes>"
            ],
            "image/png": "[encoded data removed]"
          },
          "metadata": {}
        }
      ]
    },
    {
      "cell_type": "markdown",
      "source": [
        "Dot product of 2 vector"
      ],
      "metadata": {
        "id": "49ylum9CUSjJ"
      }
    },
    {
      "cell_type": "code",
      "source": [
        "a = np.array([2, 3])\n",
        "b = np.array([4,4])\n",
        "\n",
        "a_dot_b = np.dot(a, b)\n",
        "print(a_dot_b)"
      ],
      "metadata": {
        "colab": {
          "base_uri": "https://localhost:8080/"
        },
        "id": "4QA8OOwrScpC",
        "outputId": "55c14e49-d920-49b4-b957-0452ca063b83"
      },
      "execution_count": null,
      "outputs": [
        {
          "output_type": "stream",
          "name": "stdout",
          "text": [
            "20\n"
          ]
        }
      ]
    },
    {
      "cell_type": "code",
      "source": [
        "c = np.array([40,20,35])\n",
        "\n",
        "d = np.array([53,24,68])\n",
        "\n",
        "c_dot_d = np.dot(c ,d)"
      ],
      "metadata": {
        "id": "SCN3PaHJUm7x"
      },
      "execution_count": null,
      "outputs": []
    },
    {
      "cell_type": "markdown",
      "source": [],
      "metadata": {
        "id": "kT8N_ZMKVrN2"
      }
    },
    {
      "cell_type": "code",
      "source": [
        "print(c_dot_d)"
      ],
      "metadata": {
        "colab": {
          "base_uri": "https://localhost:8080/"
        },
        "id": "MhP2WlzeVemk",
        "outputId": "bd4a57f2-da10-42cb-d8d9-8daa822e231b"
      },
      "execution_count": null,
      "outputs": [
        {
          "output_type": "stream",
          "name": "stdout",
          "text": [
            "4980\n"
          ]
        }
      ]
    },
    {
      "cell_type": "markdown",
      "source": [
        "Cross product of two vectors"
      ],
      "metadata": {
        "id": "ed1033xTVkMR"
      }
    },
    {
      "cell_type": "code",
      "source": [
        "a = np.array([2, 3])\n",
        "b = np.array([4,4])\n",
        "\n",
        "a_cross_b = np.cross(a, b)"
      ],
      "metadata": {
        "id": "Tzh-IqCgVgI7"
      },
      "execution_count": null,
      "outputs": []
    },
    {
      "cell_type": "code",
      "source": [
        "print(a_cross_b)"
      ],
      "metadata": {
        "colab": {
          "base_uri": "https://localhost:8080/"
        },
        "id": "ELLmz2NnWMmB",
        "outputId": "59473b16-b5a4-445d-876e-5742cf67cbd8"
      },
      "execution_count": null,
      "outputs": [
        {
          "output_type": "stream",
          "name": "stdout",
          "text": [
            "-4\n"
          ]
        }
      ]
    },
    {
      "cell_type": "markdown",
      "source": [
        "projection of 'a' vector on 'v' vector"
      ],
      "metadata": {
        "id": "AeRBB-A1WaNY"
      }
    },
    {
      "cell_type": "code",
      "source": [
        "import numpy as np\n",
        "a = np.array([2,5])\n",
        "\n",
        "v =  np.array([8, -6])\n",
        "\n",
        "# magnitude of v vector\n",
        "\n",
        "magnitude_of_v = np.sqrt(np.sum(v**2))\n",
        "\n",
        "projection = (np.dot(a, v)/magnitude_of_v**2)*v"
      ],
      "metadata": {
        "id": "eyd0aRZlWk09"
      },
      "execution_count": null,
      "outputs": []
    },
    {
      "cell_type": "code",
      "source": [
        " print(projection)"
      ],
      "metadata": {
        "colab": {
          "base_uri": "https://localhost:8080/"
        },
        "id": "YOxRnszIWOTE",
        "outputId": "513c1a6e-4e9b-4a9b-8099-988a304adbcf"
      },
      "execution_count": null,
      "outputs": [
        {
          "output_type": "stream",
          "name": "stdout",
          "text": [
            "[-1.12  0.84]\n"
          ]
        }
      ]
    },
    {
      "cell_type": "markdown",
      "source": [
        "### Matrix - Basic\n",
        "- scalars; vectors; Matrix\n",
        "- Shape of a Matrix\n",
        "- Different type of matrix\n",
        "- Transpose of matrix\n",
        "- role of matrix in machine learning"
      ],
      "metadata": {
        "id": "lL_2do-LZagQ"
      }
    },
    {
      "cell_type": "markdown",
      "source": [
        "### Working with Matrix"
      ],
      "metadata": {
        "id": "iFUTNDn6v-Xk"
      }
    },
    {
      "cell_type": "code",
      "source": [
        "import numpy as np\n"
      ],
      "metadata": {
        "id": "ZYoRFr1wZNrV"
      },
      "execution_count": null,
      "outputs": []
    },
    {
      "cell_type": "markdown",
      "source": [
        "Creating matrix using numpy"
      ],
      "metadata": {
        "id": "cuEWhcgO135n"
      }
    },
    {
      "cell_type": "code",
      "source": [
        "matrix_1 = np.array([[2,3],[6,7]])\n",
        "print(matrix_1)"
      ],
      "metadata": {
        "colab": {
          "base_uri": "https://localhost:8080/"
        },
        "id": "qqy_mnfw13KW",
        "outputId": "388cc1d7-1036-49da-e82a-a92a05b98e51"
      },
      "execution_count": null,
      "outputs": [
        {
          "output_type": "stream",
          "name": "stdout",
          "text": [
            "[[2 3]\n",
            " [6 7]]\n"
          ]
        }
      ]
    },
    {
      "cell_type": "code",
      "source": [
        "matrix_1.shape"
      ],
      "metadata": {
        "colab": {
          "base_uri": "https://localhost:8080/"
        },
        "id": "zxgiuFTL2FeG",
        "outputId": "cebc6013-5f68-4a67-87af-c68a5feb9beb"
      },
      "execution_count": null,
      "outputs": [
        {
          "output_type": "execute_result",
          "data": {
            "text/plain": [
              "(2, 2)"
            ]
          },
          "metadata": {},
          "execution_count": 4
        }
      ]
    },
    {
      "cell_type": "code",
      "source": [
        "matrix_2 = np.array([[10,4],[15,20],[3,20]])\n",
        "print(matrix_2)\n",
        "matrix_2.shape"
      ],
      "metadata": {
        "colab": {
          "base_uri": "https://localhost:8080/"
        },
        "id": "Nlt638f92Sdw",
        "outputId": "b17d977a-81ff-4b49-e857-1551dc050e81"
      },
      "execution_count": null,
      "outputs": [
        {
          "output_type": "stream",
          "name": "stdout",
          "text": [
            "[[10  4]\n",
            " [15 20]\n",
            " [ 3 20]]\n"
          ]
        },
        {
          "output_type": "execute_result",
          "data": {
            "text/plain": [
              "(3, 2)"
            ]
          },
          "metadata": {},
          "execution_count": 6
        }
      ]
    },
    {
      "cell_type": "markdown",
      "source": [
        "Creating matrices with random values"
      ],
      "metadata": {
        "id": "4GnCKTJl2zL_"
      }
    },
    {
      "cell_type": "code",
      "source": [
        "random_matrix = np.random.rand(3,3)\n",
        "print(random_matrix)"
      ],
      "metadata": {
        "colab": {
          "base_uri": "https://localhost:8080/"
        },
        "id": "XY62_8FU2rY8",
        "outputId": "6d4f9f1c-c6e9-4e0f-fc62-f5e70febd2a8"
      },
      "execution_count": null,
      "outputs": [
        {
          "output_type": "stream",
          "name": "stdout",
          "text": [
            "[[0.23685385 0.52430103 0.62952796]\n",
            " [0.09324311 0.81727356 0.41600437]\n",
            " [0.7397074  0.46998909 0.74617927]]\n"
          ]
        }
      ]
    },
    {
      "cell_type": "markdown",
      "source": [
        "`"
      ],
      "metadata": {
        "id": "6RcFH7KZ3PJ6"
      }
    },
    {
      "cell_type": "code",
      "source": [
        "# creating matrix with random integer\n",
        "random_integer_matrix = np.random.randint(100,size=(4,5))\n",
        "print(random_integer_matrix)"
      ],
      "metadata": {
        "colab": {
          "base_uri": "https://localhost:8080/"
        },
        "id": "gaxRdQD43IRO",
        "outputId": "4d1b20c7-bf5b-41e7-8a70-e4354d6c43a8"
      },
      "execution_count": null,
      "outputs": [
        {
          "output_type": "stream",
          "name": "stdout",
          "text": [
            "[[17 62 89 56 89]\n",
            " [68 39 68 94 12]\n",
            " [13 48 93 13 34]\n",
            " [83 31 92  9  8]]\n"
          ]
        }
      ]
    },
    {
      "cell_type": "markdown",
      "source": [
        "Matrix with all the values as 1"
      ],
      "metadata": {
        "id": "i3iGGuBA3ocP"
      }
    },
    {
      "cell_type": "code",
      "source": [
        "matrix_3 = np.ones((2,3), dtype=int)\n",
        "print(matrix_3)"
      ],
      "metadata": {
        "colab": {
          "base_uri": "https://localhost:8080/"
        },
        "id": "W0bKjJwB3gpN",
        "outputId": "78cbcd22-96c9-4b27-9211-abf7c7ece5d2"
      },
      "execution_count": null,
      "outputs": [
        {
          "output_type": "stream",
          "name": "stdout",
          "text": [
            "[[1 1 1]\n",
            " [1 1 1]]\n"
          ]
        }
      ]
    },
    {
      "cell_type": "markdown",
      "source": [
        "## Matrix in machine learning\n",
        "bold text\n",
        "\n",
        "In machine learning, a matrix is a two-dimensional array of numbers that represents a dataset or a mathematical object that can be manipulated using linear algebra. Matrices are commonly used to represent data in the form of rows and columns, where each row corresponds to a data point or observation, and each column represents a feature or variable.\n",
        "\n",
        "Matrices can be used to perform various operations in machine learning, such as matrix multiplication, inverse, determinant, and eigenvalues. These operations are essential for solving linear equations, linear regression, principal component analysis, and other algorithms that rely on linear algebra.\n",
        "\n",
        "### **Matrix additon and substraction**\n",
        "Rule :- Two matrices can be added and substracted only if the have the same shape, that is, both the matrix should have the same number of rows and columns\n",
        "\n",
        "### **Multiplying 2 matrices**\n",
        "Rule :- The number of columns in the first matrix should be equal to the number of rows in the second matrix"
      ],
      "metadata": {
        "id": "a8s2hpEC5ouC"
      }
    },
    {
      "cell_type": "code",
      "source": [
        "import numpy as np\n"
      ],
      "metadata": {
        "id": "otm7_ic-3z_L"
      },
      "execution_count": null,
      "outputs": []
    },
    {
      "cell_type": "markdown",
      "source": [
        "***Matrix addition***"
      ],
      "metadata": {
        "id": "FIHvP51x7zy6"
      }
    },
    {
      "cell_type": "code",
      "source": [
        "matrix_1 = np.random.randint(10,size=(3,3))\n",
        "matrix_2 = np.random.randint(20, size=(3,3))\n",
        "print(matrix_1, matrix_2)"
      ],
      "metadata": {
        "colab": {
          "base_uri": "https://localhost:8080/"
        },
        "id": "WkW3tzdl8BrQ",
        "outputId": "54c2298d-bc51-43e3-e855-cf503a015f7e"
      },
      "execution_count": null,
      "outputs": [
        {
          "output_type": "stream",
          "name": "stdout",
          "text": [
            "[[6 7 1]\n",
            " [0 8 0]\n",
            " [8 7 0]] [[11  4 10]\n",
            " [11  3 10]\n",
            " [19 12  0]]\n"
          ]
        }
      ]
    },
    {
      "cell_type": "code",
      "source": [
        "sum = matrix_1 + matrix_2\n",
        "print(sum)"
      ],
      "metadata": {
        "colab": {
          "base_uri": "https://localhost:8080/"
        },
        "id": "iITR5ZJE8XOF",
        "outputId": "22157d07-4017-4d57-82db-77b7d465136f"
      },
      "execution_count": null,
      "outputs": [
        {
          "output_type": "stream",
          "name": "stdout",
          "text": [
            "[[17 11 11]\n",
            " [11 11 10]\n",
            " [27 19  0]]\n"
          ]
        }
      ]
    },
    {
      "cell_type": "code",
      "source": [],
      "metadata": {
        "id": "fWyhKmip8hoN"
      },
      "execution_count": null,
      "outputs": []
    },
    {
      "cell_type": "markdown",
      "source": [
        "# **Statistics for machine learning**"
      ],
      "metadata": {
        "id": "W_TM5PQh9OfR"
      }
    },
    {
      "cell_type": "markdown",
      "source": [
        "## **What is Statistics?**\n",
        "Statistics is the sciecne concerned with developing and studying methods for collecting, analysing, interpreting and presenting data.\n",
        "\n",
        "**Statistical Measures:**\n",
        "- Range\n",
        "- Mean\n",
        "- Standard deviation "
      ],
      "metadata": {
        "id": "nqH-kunZtuUQ"
      }
    },
    {
      "cell_type": "markdown",
      "source": [
        "## **Basics of Statistics & Types of Data**\n",
        "**Why we need Statistics?**\n",
        "\n",
        "Statistcs is a tool that helps us to extract information & knowledge from data.\n",
        "\n",
        "\n",
        "Statistics plays a fundamental role in machine learning because it provides the mathematical foundation for many of the algorithms and techniques used in the field. Here are some specific reasons why statistics is important in machine learning:\n",
        "\n",
        "- **Data Analysis**: Statistics allows us to analyze and understand the patterns, trends, and relationships within a dataset. This is crucial in machine learning because the quality and quantity of data are essential to the success of a machine learning model.\n",
        "\n",
        "- **Hypothesis Testing**: Statistics provides a framework for testing hypotheses and making decisions based on the results of those tests. In machine learning, hypothesis testing can be used to determine whether a model is performing well or whether changes need to be made.\n",
        "\n",
        "- **Probability Theory**: Probability theory is a branch of statistics that provides.\n",
        "\n",
        "\n",
        "\n"
      ],
      "metadata": {
        "id": "6RY9vQ8evmDp"
      }
    },
    {
      "cell_type": "markdown",
      "source": [
        "## **Type of Data**\n",
        "* **Categorical data**: Categorical data is data that can be grouped into categories or classes based on qualitative or non-numeric characteristics. Examples of categorical data include gender, race, country of origin, hair color, and type of car.\n",
        "   - **Nominal** : it is a classification of  categorical variable, that do not provide any quantitative value.\n",
        "   Example:  Colors (red, blue, green, etc.), Types of fruit (apple, banana, orange, etc.), Marital status (single, married, divorced, etc.)\n",
        "   - **Ordinal** : it is a type of data in which the values follow a natural order.\n",
        "   \n",
        "   Example: Education level (high school, some college, bachelor's degree, etc.)\n",
        ", Income level (low, medium, high), Customer satisfaction ratings (very dissatisfied, somewhat dissatisfied, neutral, somewhat satisfied, very satisfied)\n",
        "\n",
        "* **Numerical data** : Numerical data, on the other hand, consists of numerical values that can be measured or counted.\n",
        "   - **Discrete** :it is a type of data that can only take certain values. \n",
        "   - **Continuous** : It can have almost anu numeric value. Unlike Discrete data, they can have decimal values."
      ],
      "metadata": {
        "id": "13bXmMaNxhEs"
      }
    },
    {
      "cell_type": "markdown",
      "source": [
        "## **Type of statistics**\n",
        "* **Descriptive Statistics** : \n",
        "It is concerned with summarizing and describing the features of a dataset. It involves calculating and analyzing ***measures of central tendency (such as mean, median, and mode), measures of variability (such as range, variance, and standard deviation)***, and graphical representations of the data (such as histograms, box plots, and scatter plots). Descriptive statistics is useful for providing a clear and concise summary of the data and identifying patterns and relationships within the dataset.\n",
        "* **Inferential Statistics**: It involves making inferences and drawing conclusions about a population based on a sample of data. This includes hypothesis testing, confidence intervals, and regression analysis. The goal of inferential statistics is to make generalizations about a population based on the characteristics of a sample."
      ],
      "metadata": {
        "id": "fJiOyVho0gHk"
      }
    },
    {
      "cell_type": "markdown",
      "source": [
        "## **Type of Statistical studies**\n",
        "\n",
        "\n",
        "### **Sample study**: \n",
        "*A sample study is a study which is carried out on a sample which represents the total population.Here's an example:*\n",
        "\n",
        "Suppose a researcher is interested in studying the average height of adult males in the United States. It would be impractical to measure the height of every adult male in the country, so the researcher might select a sample of, say, 500 adult males to study. The sample should be representative of the population, meaning that it should have similar characteristics to the population as a whole.\n",
        "\n",
        "The researcher would then measure the height of each individual in the sample and calculate the sample mean height. This sample mean could be used as an estimate of the population mean height, with some margin of error due to the fact that the sample is only a subset of the population. The researcher could also calculate a confidence interval, which would provide a range of values within which the population mean height is likely to fall.\n",
        "\n",
        "If the researcher wanted to test a hypothesis about the population mean height, such as whether it is different from a certain value or whether it has changed over time, they could use statistical tests to analyze the sample data and make inferences about the population. For example, they might use a t-test to compare the sample mean height to a hypothesized population mean height and determine whether the difference is statistically significant.\n",
        "### **Observational study**:\n",
        "*An observational study is a study where we simply collect and analyze data. We won't inject any changes. We just observe the correlation in the data.*\n",
        "\n",
        "For example, a researcher may conduct an observational study to investigate the relationship between regular exercise and heart health. The researcher could observe a group of individuals who regularly exercise and compare their heart health outcomes to a group of individuals who do not exercise regularly. By collecting data on factors such as blood pressure, cholesterol levels, and incidence of heart disease, the researcher can look for potential associations between exercise and heart health.\n",
        "### **Experimental study**:\n",
        "*An experimental study is a study in which condition are controlled and  manipulated by the experimenter.*\n",
        "\n",
        "For example, let's say a researcher wants to study the effect of a new drug on blood pressure. They would randomly assign participants to two groups: one group receives the new drug, and the other group receives a placebo. The independent variable is the drug (or placebo), and the dependent variable is the blood pressure.\n",
        "\n",
        "The researcher would measure the blood pressure of both groups before and after the intervention, and compare the changes between the two groups. By controlling for other variables that may affect blood pressure, such as age and weight, the researcher can be more confident that any differences observed between the groups are due to the intervention (the drug or placebo) rather than other factors.\n"
      ],
      "metadata": {
        "id": "MHD4exiP32zW"
      }
    },
    {
      "cell_type": "markdown",
      "source": [
        "## **Population & sample: Type of sampling Techniques**\n",
        "\n",
        "- Simple random sampling\n",
        "- Systematic sampling\n",
        "- Stratified random sampling\n",
        "- cluster sampling\n",
        "\n",
        "### **Simple random  sampling**\n",
        "\n",
        "In simple random sampling, the sample is randomly picked from a larger population. Hence, all the individual datapoint has an equal probability to be selected as sample data.\n",
        "\n",
        "Example: Employee survey in a company\n",
        "\n",
        "**Pros:**\n",
        "- No sample bias\n",
        "- Balanced sample\n",
        "- simple method of sampling\n",
        "- Requires less domain knowledge\n",
        "\n",
        "**Cons:**\n",
        "- Population size should be high\n",
        "- Cannot represent the population well sometimes\n",
        "\n",
        "### **Systematic sampling**\n",
        "In Systematic Sampling, the sample is picked from the population at regular intervals. This type of sampling is carried out if the population is homogeneous and the data point are uniformly distributed.\n",
        "\n",
        "Example: Selecting every 10th memeber from population of 10,000\n",
        "\n",
        "**Pros:**\n",
        "- Quick & easy\n",
        "- Less bias\n",
        "- Even distribution of data\n",
        "\n",
        "**Cons:**\n",
        "- Data manipulation risk\n",
        "- Requires randomness in data\n",
        "- Population should not have patterns\n",
        "\n",
        "### **Stratified random smapling**\n",
        "In stratified random sampling, the population is subdivided into smaller group called strata. Samples are obtained randomly from all these strata\n",
        "\n",
        "Example: Smartphones sales in all the states\n",
        "\n",
        "**Pros:**\n",
        "- Find important characteristics in the population\n",
        "- High precision can be obtained if the differneces in the strata is high\n",
        "\n",
        "**Cons:**\n",
        "- Cannot be performed on populations that cannot be classified into groups.\n",
        "- Overlapping data points\n",
        "\n",
        "### **Cluster sampling**\n",
        " It is carried out on population that has inherents groups. This population is subdivided into clusters and then random clusters are taken as sample.\n",
        "\n",
        "Example: Smartphones sale in the random states\n",
        "\n",
        "**Pros:**\n",
        "- Requires only fewer resources\n",
        "- Reduced variability\n",
        "- Advantage of both random smapling and stratified sampling\n",
        "\n",
        "**Cons:**\n",
        "- cannot be performed on populations with out natural groups\n",
        "- overlapping data points\n",
        "- Can't provide a general insights for the entire population."
      ],
      "metadata": {
        "id": "I_T9OtqOB03m"
      }
    },
    {
      "cell_type": "markdown",
      "source": [
        "## **Measure of Central Tendencies**\n",
        "\n",
        "#### **Central Tendency**:\n",
        "A measure of central tendency is a value that represent the center point ir typically value of a dataset. It is a value that summarizes the data.\n",
        "\n",
        "The **Mean or arithmetic mean** is the sum of values divided by the number of values.\n",
        "\n",
        "**Pros**:\n",
        "The mean is very sensitive to changes in the data set, making it useful for detecting small variations or outliers.\n",
        "- It is easy to calculate and widely used, making it a popular measure of central tendency.\n",
        "\n",
        "**Cons**:\n",
        "- The mean can be skewed by outliers, making it less representative of the data set as a whole.\n",
        "- The mean can also be affected by the presence of extreme values, making it less reliable when the data is not normally distributed.\n",
        "\n",
        "The **Medium** is the middle  value in the list of number. To find the medium, the  numbers have to be listed in numerical order from smallest to largest.\n",
        "\n",
        "**Pros:**\n",
        "- The median is not influenced by outliers, making it a more robust measure of central tendency than the mean.\n",
        "- It is also useful when the data is skewed, as it represents the value that divides the data set into two equal halves.\n",
        "\n",
        "**Cons:**\n",
        "- The median is less sensitive to changes in the data set, making it less useful for detecting small variations or outliers.\n",
        "- It is also more difficult to calculate than the mean, especially for large data sets.\n",
        "\n",
        "\n",
        "The **Mode** is the value that occurs most often, if no number in the list is repeated then there is no mode for the list.\n",
        "\n",
        "**Pros:**\n",
        "- The mode is easy to identify and calculate, making it a quick and simple measure of central tendency.\n",
        "- It is also useful when the data set is discrete, as it represents the most common value.\n",
        "\n",
        "**Cons:**\n",
        "- The mode is not always well-defined or unique, especially when the data set is continuous or multimodal.\n",
        "- It is also less representative of the data set as a whole, as it only reflects one specific value.\n",
        "\n",
        "\n"
      ],
      "metadata": {
        "id": "cTpTKPzZJFzZ"
      }
    },
    {
      "cell_type": "markdown",
      "source": [
        "## **Central Tendencies in Data Pre-processing**\n",
        "Central tendencies are very useful in handling the missing values in a dataset\n",
        "\n",
        "**Mean:** Missing values in a dataset can be replaced with mean value, if the data is uniformly distributed.\n",
        "\n",
        "**Medium:** Missing values in a dataset can be replaced with median value, if the data is skewed(data is biased).\n",
        "\n",
        "**Mode:** Missing value in a dataset can be replaced with mode value, if the data is skewed. Missing categorical value can be also replaced with mode values.\n"
      ],
      "metadata": {
        "id": "eVZ8Zm42Etic"
      }
    },
    {
      "cell_type": "markdown",
      "source": [
        "## **Measure of variability**\n",
        "\n",
        "In statistics, variability refers to the degree of spread or dispersion of a set of data. A measure of variability is a statistical measure that quantifies the extent to which the data points in a dataset differ from each other.\n",
        "\n",
        "### **Range**\n",
        "The range of a set of data is the differnce between the largest and smallest values. It can give a rough idea about the distribution of our dataset.\n",
        "\n",
        "### **Variance**\n",
        "Variance is a measure of how far each number in the set is from the mean and therefore from every ither number in the dataset.\n",
        "\n",
        "Variance = **Σ(x - μ)² / n**, where Σ represents the sum, x represents each data point, μ represents the mean, and n represents the number of data points.\n",
        "\n",
        "### **Standard Deviation**\n",
        "It is a square root of variance. Standard deviation looks at how spread out  a group of number is from the mean.\n",
        "\n",
        "Standard deviation =**√(Σ(x - μ)² / n)**, where Σ represents the sum, x represents each data point, μ represents the mean, and n represents the number of data points.\n",
        "\n",
        "### **Interquartile range (IQR)**\n",
        "The IQR is the difference between the third quartile and the first quartile. It is a measure of the spread of the middle 50% of the data.\n",
        "\n",
        "**IQR = Q3 - Q1**, where Q3 represents the third quartile and Q1 represents the first quartile.\n",
        "\n",
        "\n",
        "\n"
      ],
      "metadata": {
        "id": "zP_hq2do1DAf"
      }
    },
    {
      "cell_type": "markdown",
      "source": [
        "## **Percentiles & Quantiles**\n",
        "\n",
        "Purpose of these measurements\n",
        "- distribution of data points in a dataset\n",
        "\n",
        "#### **Percentiles**\n",
        "Percentile is a value on a scale of 100 that indicate the percent of a distribution that is equal tp or below it.\n",
        "\n",
        "For example, if a student scores in the 90th percentile on a standardized test, it means that their score is higher than 90% of the scores of other students who took the same test.\n",
        "\n",
        "To calculate a percentile, you need to first order the data set from smallest to largest. Then, you can find the percentile by dividing the number of values that are below the given value by the total number of values in the data set, and multiplying the result by 100.\n",
        "\n",
        "For example, suppose you have a data set of 20 test scores:\n",
        "\n",
        "75, 82, 86, 90, 91, 92, 93, 94, 95, 96, 96, 97, 98, 98, 99, 99, 99, 99, 100, 100\n",
        "\n",
        "To find the 75th percentile, you would first calculate the index of the value that corresponds to the 75th percentile:\n",
        "\n",
        "Index = (75 / 100) * 20 = 15 \n",
        "\n",
        "The 15th value in the ordered data set is 99, so the 75th percentile is 99.\n",
        "\n",
        "This means that 75% of the values in the data set are below 99, and 25% of the values are equal to or greater than 99.\n",
        "\n",
        "\n",
        "#### **Quantiles**\n",
        "Quantiles is a measure that tells how many values in a dataset are above or below a certain limit. It divide the measure of the dataset into equally_sized subgroups.\n",
        "\n",
        "OR\n",
        "\n",
        "Quantiles are values that divide a set of data into equal portions or segments. The most commonly used quantiles are the quartiles, which divide the data into four equal parts. Here's an example to illustrate:\n",
        "\n",
        "Suppose we have the following dataset of test scores for 10 students:\n",
        "\n",
        "55, 60, 62, 65, 68, 70, 75, 80, 85, 90\n",
        "\n",
        "To find the quartiles, we first need to order the data from lowest to highest:\n",
        "\n",
        "55, 60, 62, 65, 68, 70, 75, 80, 85, 90\n",
        "\n",
        "The first quartile (Q1) is the value that separates the lowest 25% of the data from the rest. To find Q1, we take the median of the lowest half of the data:\n",
        "\n",
        "- Q1 = median(55, 60, 62, 65, 68) = 62\n",
        "\n",
        "The second quartile (Q2) is the same as the median, which is the value that separates the lowest 50% of the data from the highest 50%. In this case, Q2 is:\n",
        "\n",
        "- Q2 = median(55, 60, 62, 65, 68, 70, 75, 80, 85, 90) = 70\n",
        "\n",
        "The third quartile (Q3) is the value that separates the highest 25% of the data from the rest. To find Q3, we take the median of the highest half of the data:\n",
        "\n",
        "- Q3 = median(68, 70, 75, 80, 85, 90) = 77.5\n",
        "\n",
        "Now we have divided the data into four equal parts, and we can use the quartiles to identify potential outliers or to compare the distribution of the data to other datasets."
      ],
      "metadata": {
        "id": "rEABtl-j4rsx"
      }
    },
    {
      "cell_type": "markdown",
      "source": [
        "## Correlation and Causation\n",
        "\n",
        "**Correlation** refers to the degree of association or relationship between two variables. In statistical analysis, correlation measures the strength and direction of the linear relationship between two quantitative variables.\n",
        "\n",
        "The **correlation coefficient (r)** is a numerical value that ranges from -1 to +1 and represents the strength and direction of the relationship.\n",
        "\n",
        "- A **positive correlation** (r > 0) means that the two variables move in the same direction; as one variable increases, the other variable also tends to increase. For example, there may be a positive correlation between hours of study and exam scores.\n",
        "\n",
        "- A **negative correlation** (r < 0) means that the two variables move in opposite directions; as one variable increases, the other variable tends to decrease. For example, there may be a negative correlation between the amount of exercise someone gets and their body weight.\n",
        "\n",
        "- A correlation coefficient of zero (r = 0) means that there is no linear relationship between the two variables.\n",
        "\n",
        "**It's important to note that correlation does not imply causation**. Just because two variables are correlated does not necessarily mean that one variable causes the other. Additional research and analysis is often needed to determine if a causal relationship exists.\n",
        "\n",
        "\n",
        "In statistics, **Causation** means that one event cause another event to occur. Thus, there is a cause and effect realtionship between the two variable in a dataset.\n",
        "\n",
        "For causation to exist, three conditions must be met:\n",
        "\n",
        "- Temporal precedence: The cause must occur before the effect.\n",
        "\n",
        "- Covariation: There must be a relationship between the cause and the effect. This means that when the cause is present, the effect occurs, and when the cause is absent, the effect does not occur.\n",
        "\n",
        "- Non-spuriousness: The relationship between the cause and the effect must not be due to a third variable (confounding variable) that could explain the relationship.\n",
        "\n",
        "Determining causation can be difficult in many situations because there may be multiple variables at play, and it can be challenging to establish that one variable directly causes another. In scientific research, randomized controlled experiments are often used to try to establish causality by manipulating one variable and measuring the effect on another variable while controlling for confounding variables."
      ],
      "metadata": {
        "id": "uIC58iHl-HeY"
      }
    },
    {
      "cell_type": "markdown",
      "source": [
        "## **Hypothesis Testing**\n",
        "\n",
        "Hypothesis is an assumption that is made based on the observation of an experiment.\n",
        "Hypothesis Testing is a method carried out to test the assimptions made in the experiment.\n",
        "\n",
        "- **Null hypothesis**: It is the commonly accepted fact.\n",
        "- **Alternative Hypothesis**: It is opposite to null hypothesis and it chanllenges the null hypothesis.\n",
        "\n",
        "The process typically involves the following steps:\n",
        "\n",
        "- Formulate a hypothesis: This involves stating the null hypothesis (H0) and the alternative hypothesis (Ha). The null hypothesis is a statement that assumes that there is no significant difference or relationship between variables, while the alternative hypothesis is the opposite of the null hypothesis.\n",
        "\n",
        "- Choose a significance level: The significance level, denoted by alpha (α), is the probability of rejecting the null hypothesis when it is actually true. It is usually set at 0.05, but can vary depending on the context and the level of evidence required.\n",
        "\n",
        "- Collect data: A sample is collected from the population of interest.\n",
        "\n",
        "- Calculate test statistic: A test statistic is calculated from the sample data. The test statistic measures the difference between the sample data and what we would expect if the null hypothesis were true.\n",
        "\n",
        "- Determine p-value: The p-value is the probability of obtaining a test statistic as extreme or more extreme than the one observed, assuming the null hypothesis is true.\n",
        "\n",
        "- Draw a conclusion: If the p-value is less than or equal to the significance level (α), we reject the null hypothesis and conclude that there is evidence to support the alternative hypothesis. If the p-value is greater than the significance level, we fail to reject the null hypothesis and conclude that there is not enough evidence to support the alternative hypothesis.\n",
        "\n",
        "Hypothesis testing is commonly used in scientific research to make inferences about population parameters based on sample data. It is a powerful tool for making decisions and drawing conclusions based on data."
      ],
      "metadata": {
        "id": "XyxzEcTIAr6p"
      }
    },
    {
      "cell_type": "markdown",
      "source": [
        "# **Probability for machine learning**\n",
        "\n",
        "## **What is probability?**\n",
        "\n",
        "Probability is a branch of mathematics that deals with calcultating the likelihood of a given event to occur.\n",
        "\n",
        "\n",
        "In the context of machine learning, probability is a fundamental concept that is used to quantify uncertainty and make predictions.\n",
        "\n",
        "Machine learning algorithms often rely on probabilistic models to represent the uncertainty in the data and the parameters of the model. For example, in classification problems, a probabilistic model might be used to assign a probability to each possible class label given the input data. In regression problems, a probabilistic model might be used to estimate the probability distribution of the target variable given the input data.\n",
        "\n",
        "Probability theory is also used in machine learning to evaluate the performance of models and to make decisions based on the predictions made by those models. For example, the accuracy of a classification model can be evaluated using measures such as precision, recall, and F1 score, which are all based on probabilities and conditional probabilities.\n",
        "\n",
        "Overall, probability plays a crucial role in machine learning by providing a framework for reasoning under uncertainty, making predictions, and evaluating the performance of models.\n",
        "\n",
        "## **Basics of probability**\n",
        "\n",
        "The probability value lies between 0 and 1.\n",
        "\n",
        "- P = Probability of an even occur\n",
        "- N = Number of ways an event can occur\n",
        "- T = Total number of outcomes\n",
        "\n",
        "**P = N/T**\n",
        "\n",
        "### **Random variables**\n",
        "A random variable is a numerical description of the outcomes of Random events.\n",
        "\n",
        "In other words, a random variable maps the outcomes of random events to numerical values."
      ],
      "metadata": {
        "id": "zESCkxcPC_F8"
      }
    },
    {
      "cell_type": "code",
      "source": [],
      "metadata": {
        "id": "CyCKSaynvfPM"
      },
      "execution_count": null,
      "outputs": []
    }
  ]
}