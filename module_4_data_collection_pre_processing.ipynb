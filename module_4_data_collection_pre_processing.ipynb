{
  "nbformat": 4,
  "nbformat_minor": 0,
  "metadata": {
    "colab": {
      "provenance": [],
      "mount_file_id": "https://gist.github.com/KushalranaAI/85737b57eb636771eb5af1c68a499590#file-module-4-data-collection-pre-processing-ipynb",
      "authorship_tag": "ABX9TyPCPoAomehRp/GRyX8Kh7Wn",
      "include_colab_link": true
    },
    "kernelspec": {
      "name": "python3",
      "display_name": "Python 3"
    },
    "language_info": {
      "name": "python"
    }
  },
  "cells": [
    {
      "cell_type": "markdown",
      "metadata": {
        "id": "view-in-github",
        "colab_type": "text"
      },
      "source": [
        "<a href=\"https://colab.research.google.com/github/KushalranaAI/Machine-learning-/blob/main/module_4_data_collection_pre_processing.ipynb\" target=\"_parent\"><img src=\"https://colab.research.google.com/assets/colab-badge.svg\" alt=\"Open In Colab\"/></a>"
      ]
    },
    {
      "cell_type": "markdown",
      "source": [
        "Where to collect data for machine learning?"
      ],
      "metadata": {
        "id": "xPId-HTMzI5J"
      }
    },
    {
      "cell_type": "markdown",
      "source": [
        "Question need to be answer or understnad:\n",
        "1. Importance of Data in Machine Learning?\n",
        "- Ans: Data is crucial in machine learning as it is the input used to train algorithms and make predictions. The quality and quantity of data can greatly affect the accuracy and performance of a model. Good data should be representative, diverse, and labeled, and should avoid bias to ensure the model can generalize to new examples. The more data a model is trained on, the better it will be able to learn patterns and make predictions, but too much data can also lead to overfitting. Therefore, finding the right balance of data quality and quantity is important in machine learning.\n",
        "2. Where to collect the data?\n",
        "- kaggle\n",
        "- UCI machine learning repository\n",
        "- Google dataset search\n",
        "\n",
        "3. Demonstration of data collection."
      ],
      "metadata": {
        "id": "NufK8qr6zQdc"
      }
    },
    {
      "cell_type": "markdown",
      "source": [
        "Importing dataset using kaggle API\n"
      ],
      "metadata": {
        "id": "XTajQR1RrwOl"
      }
    },
    {
      "cell_type": "code",
      "execution_count": null,
      "metadata": {
        "id": "pnuNI-T0Ex9c",
        "colab": {
          "base_uri": "https://localhost:8080/"
        },
        "outputId": "93382f29-a9d3-4ac6-ab34-b0c7f43fe295"
      },
      "outputs": [
        {
          "output_type": "stream",
          "name": "stdout",
          "text": [
            "Looking in indexes: https://pypi.org/simple, https://us-python.pkg.dev/colab-wheels/public/simple/\n",
            "Requirement already satisfied: kaggle in /usr/local/lib/python3.8/dist-packages (1.5.12)\n",
            "Requirement already satisfied: python-slugify in /usr/local/lib/python3.8/dist-packages (from kaggle) (8.0.0)\n",
            "Requirement already satisfied: urllib3 in /usr/local/lib/python3.8/dist-packages (from kaggle) (1.24.3)\n",
            "Requirement already satisfied: six>=1.10 in /usr/local/lib/python3.8/dist-packages (from kaggle) (1.15.0)\n",
            "Requirement already satisfied: python-dateutil in /usr/local/lib/python3.8/dist-packages (from kaggle) (2.8.2)\n",
            "Requirement already satisfied: requests in /usr/local/lib/python3.8/dist-packages (from kaggle) (2.25.1)\n",
            "Requirement already satisfied: tqdm in /usr/local/lib/python3.8/dist-packages (from kaggle) (4.64.1)\n",
            "Requirement already satisfied: certifi in /usr/local/lib/python3.8/dist-packages (from kaggle) (2022.12.7)\n",
            "Requirement already satisfied: text-unidecode>=1.3 in /usr/local/lib/python3.8/dist-packages (from python-slugify->kaggle) (1.3)\n",
            "Requirement already satisfied: idna<3,>=2.5 in /usr/local/lib/python3.8/dist-packages (from requests->kaggle) (2.10)\n",
            "Requirement already satisfied: chardet<5,>=3.0.2 in /usr/local/lib/python3.8/dist-packages (from requests->kaggle) (4.0.0)\n"
          ]
        }
      ],
      "source": [
        "! pip install kaggle"
      ]
    },
    {
      "cell_type": "code",
      "source": [
        "! mkdir ~/.kaggle1"
      ],
      "metadata": {
        "id": "s6zA07-dstFK"
      },
      "execution_count": null,
      "outputs": []
    },
    {
      "cell_type": "code",
      "source": [
        "! cp kaggle.json ~/.kaggle1/\n",
        "import json\n",
        "token = {\"username\":\"kushalrana\",\"key\":\"c16b1a373464c70b5382e43e1c729e77\"}\n",
        "with open('/root/.kaggle/kaggle.json', 'w') as file:\n",
        "    json.dump(token, file)"
      ],
      "metadata": {
        "id": "dEtHsVaUs-Xp"
      },
      "execution_count": null,
      "outputs": []
    },
    {
      "cell_type": "code",
      "source": [
        "! chmod 600 ~/.kaggle1/kaggle.json"
      ],
      "metadata": {
        "id": "J838scUqtDVf"
      },
      "execution_count": null,
      "outputs": []
    },
    {
      "cell_type": "code",
      "source": [
        "!kaggle competitions download -c LANL-Earthquake-Prediction"
      ],
      "metadata": {
        "colab": {
          "base_uri": "https://localhost:8080/"
        },
        "id": "QORO36a2wW9m",
        "outputId": "86e795f2-b739-4e9a-e2e6-b44026ca5341"
      },
      "execution_count": null,
      "outputs": [
        {
          "output_type": "stream",
          "name": "stdout",
          "text": [
            "Downloading LANL-Earthquake-Prediction.zip to /content\n",
            "100% 2.27G/2.27G [00:19<00:00, 133MB/s]\n",
            "100% 2.27G/2.27G [00:19<00:00, 128MB/s]\n"
          ]
        }
      ]
    },
    {
      "cell_type": "code",
      "source": [
        "# extract a compressed file\n",
        "from zipfile import ZipFile\n",
        "dataset = '/content/LANL-Earthquake-Prediction.zip'\n",
        "\n",
        "with ZipFile(dataset,'r') as zip:\n",
        "  zip.extractall()\n",
        "  print('The dataset is Extracted')"
      ],
      "metadata": {
        "colab": {
          "base_uri": "https://localhost:8080/"
        },
        "id": "5xUtfosywfKb",
        "outputId": "77cee488-184c-4b17-c3e4-692963a5e0d7"
      },
      "execution_count": null,
      "outputs": [
        {
          "output_type": "stream",
          "name": "stdout",
          "text": [
            "The dataset is Extracted\n"
          ]
        }
      ]
    },
    {
      "cell_type": "code",
      "source": [
        "import pandas as pd\n",
        "dataset1=pd.read_csv('/content/train.csv')\n",
        "dataset1.head()"
      ],
      "metadata": {
        "id": "A8OLzV4Iyfwb"
      },
      "execution_count": null,
      "outputs": []
    },
    {
      "cell_type": "markdown",
      "source": [
        "### Handling the missing value"
      ],
      "metadata": {
        "id": "HMmHMB01zUBK"
      }
    },
    {
      "cell_type": "markdown",
      "source": [
        "Handling missing values in a dataset is a common challenge in data pre-processing and there are several methods to deal with it. Some of the most common methods include:\n",
        "\n",
        "1. Deletion: This involves removing the entire row or column with missing values. This method is appropriate when the missing values are only a small portion of the dataset, and if the missing values are not randomly distributed.\n",
        "\n",
        "2. Imputation: This involves replacing missing values with substitute values. There are several imputation methods, such as:\n",
        "\n",
        "- Mean/Median/Mode Imputation: This method replaces missing values with the mean, median, or mode of the non-missing values in the same column.\n",
        "- Regression Imputation: This method uses regression analysis to predict missing values based on the values of other variables in the dataset.\n",
        "- Multiple Imputation: This method uses statistical models to create several imputed datasets, each with different missing values filled in, and then combines the results to provide a final estimate.\n",
        "3. Interpolation: This involves estimating missing values based on the values of other observations in the dataset.\n",
        "\n",
        "4. Extrapolation: This involves estimating missing values based on values outside the range of the observed data.\n",
        "\n",
        "5. Data Wrangling: This involves using other available sources of data or knowledge to infer missing values.\n",
        "\n",
        "The appropriate method depends on the amount of missing data, the reason for the missing values, and the structure of the dataset. It's important to choose a method that preserves the underlying relationships in the data and doesn't introduce any significant biases.\n",
        "\n",
        "\n",
        "\n"
      ],
      "metadata": {
        "id": "LSKALeGp0ABg"
      }
    },
    {
      "cell_type": "code",
      "source": [
        "# importing the libraries\n",
        "import pandas as pd\n",
        "import matplotlib.pyplot as plt\n",
        "import seaborn as sns"
      ],
      "metadata": {
        "id": "aGFFz2O_zO_P"
      },
      "execution_count": null,
      "outputs": []
    },
    {
      "cell_type": "code",
      "source": [
        "# loading the dataset \n",
        "dataset = pd.read_csv('/content/Placement_Dataset.csv')"
      ],
      "metadata": {
        "id": "G5R2Vyiv0sbY"
      },
      "execution_count": null,
      "outputs": []
    },
    {
      "cell_type": "code",
      "source": [
        "# to see the first five rows of dataset\n",
        "dataset.head()"
      ],
      "metadata": {
        "colab": {
          "base_uri": "https://localhost:8080/",
          "height": 287
        },
        "id": "3uIu5Dz703Ej",
        "outputId": "8ed2ed20-99d3-45d7-aa27-149d2a3c2046"
      },
      "execution_count": null,
      "outputs": [
        {
          "output_type": "execute_result",
          "data": {
            "text/plain": [
              "   sl_no gender  ssc_p    ssc_b  hsc_p    hsc_b     hsc_s  degree_p  \\\n",
              "0      1      M  67.00   Others  91.00   Others  Commerce     58.00   \n",
              "1      2      M  79.33  Central  78.33   Others   Science     77.48   \n",
              "2      3      M  65.00  Central  68.00  Central      Arts     64.00   \n",
              "3      4      M  56.00  Central  52.00  Central   Science     52.00   \n",
              "4      5      M  85.80  Central  73.60  Central  Commerce     73.30   \n",
              "\n",
              "    degree_t workex  etest_p specialisation  mba_p      status    salary  \n",
              "0   Sci&Tech     No     55.0         Mkt&HR  58.80      Placed  270000.0  \n",
              "1   Sci&Tech    Yes     86.5        Mkt&Fin  66.28      Placed  200000.0  \n",
              "2  Comm&Mgmt     No     75.0        Mkt&Fin  57.80      Placed  250000.0  \n",
              "3   Sci&Tech     No     66.0         Mkt&HR  59.43  Not Placed       NaN  \n",
              "4  Comm&Mgmt     No     96.8        Mkt&Fin  55.50      Placed  425000.0  "
            ],
            "text/html": [
              "\n",
              "  <div id=\"df-3133fbdb-f5ee-4450-9a8f-ad6083eae537\">\n",
              "    <div class=\"colab-df-container\">\n",
              "      <div>\n",
              "<style scoped>\n",
              "    .dataframe tbody tr th:only-of-type {\n",
              "        vertical-align: middle;\n",
              "    }\n",
              "\n",
              "    .dataframe tbody tr th {\n",
              "        vertical-align: top;\n",
              "    }\n",
              "\n",
              "    .dataframe thead th {\n",
              "        text-align: right;\n",
              "    }\n",
              "</style>\n",
              "<table border=\"1\" class=\"dataframe\">\n",
              "  <thead>\n",
              "    <tr style=\"text-align: right;\">\n",
              "      <th></th>\n",
              "      <th>sl_no</th>\n",
              "      <th>gender</th>\n",
              "      <th>ssc_p</th>\n",
              "      <th>ssc_b</th>\n",
              "      <th>hsc_p</th>\n",
              "      <th>hsc_b</th>\n",
              "      <th>hsc_s</th>\n",
              "      <th>degree_p</th>\n",
              "      <th>degree_t</th>\n",
              "      <th>workex</th>\n",
              "      <th>etest_p</th>\n",
              "      <th>specialisation</th>\n",
              "      <th>mba_p</th>\n",
              "      <th>status</th>\n",
              "      <th>salary</th>\n",
              "    </tr>\n",
              "  </thead>\n",
              "  <tbody>\n",
              "    <tr>\n",
              "      <th>0</th>\n",
              "      <td>1</td>\n",
              "      <td>M</td>\n",
              "      <td>67.00</td>\n",
              "      <td>Others</td>\n",
              "      <td>91.00</td>\n",
              "      <td>Others</td>\n",
              "      <td>Commerce</td>\n",
              "      <td>58.00</td>\n",
              "      <td>Sci&amp;Tech</td>\n",
              "      <td>No</td>\n",
              "      <td>55.0</td>\n",
              "      <td>Mkt&amp;HR</td>\n",
              "      <td>58.80</td>\n",
              "      <td>Placed</td>\n",
              "      <td>270000.0</td>\n",
              "    </tr>\n",
              "    <tr>\n",
              "      <th>1</th>\n",
              "      <td>2</td>\n",
              "      <td>M</td>\n",
              "      <td>79.33</td>\n",
              "      <td>Central</td>\n",
              "      <td>78.33</td>\n",
              "      <td>Others</td>\n",
              "      <td>Science</td>\n",
              "      <td>77.48</td>\n",
              "      <td>Sci&amp;Tech</td>\n",
              "      <td>Yes</td>\n",
              "      <td>86.5</td>\n",
              "      <td>Mkt&amp;Fin</td>\n",
              "      <td>66.28</td>\n",
              "      <td>Placed</td>\n",
              "      <td>200000.0</td>\n",
              "    </tr>\n",
              "    <tr>\n",
              "      <th>2</th>\n",
              "      <td>3</td>\n",
              "      <td>M</td>\n",
              "      <td>65.00</td>\n",
              "      <td>Central</td>\n",
              "      <td>68.00</td>\n",
              "      <td>Central</td>\n",
              "      <td>Arts</td>\n",
              "      <td>64.00</td>\n",
              "      <td>Comm&amp;Mgmt</td>\n",
              "      <td>No</td>\n",
              "      <td>75.0</td>\n",
              "      <td>Mkt&amp;Fin</td>\n",
              "      <td>57.80</td>\n",
              "      <td>Placed</td>\n",
              "      <td>250000.0</td>\n",
              "    </tr>\n",
              "    <tr>\n",
              "      <th>3</th>\n",
              "      <td>4</td>\n",
              "      <td>M</td>\n",
              "      <td>56.00</td>\n",
              "      <td>Central</td>\n",
              "      <td>52.00</td>\n",
              "      <td>Central</td>\n",
              "      <td>Science</td>\n",
              "      <td>52.00</td>\n",
              "      <td>Sci&amp;Tech</td>\n",
              "      <td>No</td>\n",
              "      <td>66.0</td>\n",
              "      <td>Mkt&amp;HR</td>\n",
              "      <td>59.43</td>\n",
              "      <td>Not Placed</td>\n",
              "      <td>NaN</td>\n",
              "    </tr>\n",
              "    <tr>\n",
              "      <th>4</th>\n",
              "      <td>5</td>\n",
              "      <td>M</td>\n",
              "      <td>85.80</td>\n",
              "      <td>Central</td>\n",
              "      <td>73.60</td>\n",
              "      <td>Central</td>\n",
              "      <td>Commerce</td>\n",
              "      <td>73.30</td>\n",
              "      <td>Comm&amp;Mgmt</td>\n",
              "      <td>No</td>\n",
              "      <td>96.8</td>\n",
              "      <td>Mkt&amp;Fin</td>\n",
              "      <td>55.50</td>\n",
              "      <td>Placed</td>\n",
              "      <td>425000.0</td>\n",
              "    </tr>\n",
              "  </tbody>\n",
              "</table>\n",
              "</div>\n",
              "      <button class=\"colab-df-convert\" onclick=\"convertToInteractive('df-3133fbdb-f5ee-4450-9a8f-ad6083eae537')\"\n",
              "              title=\"Convert this dataframe to an interactive table.\"\n",
              "              style=\"display:none;\">\n",
              "        \n",
              "  <svg xmlns=\"http://www.w3.org/2000/svg\" height=\"24px\"viewBox=\"0 0 24 24\"\n",
              "       width=\"24px\">\n",
              "    <path d=\"M0 0h24v24H0V0z\" fill=\"none\"/>\n",
              "    <path d=\"M18.56 5.44l.94 2.06.94-2.06 2.06-.94-2.06-.94-.94-2.06-.94 2.06-2.06.94zm-11 1L8.5 8.5l.94-2.06 2.06-.94-2.06-.94L8.5 2.5l-.94 2.06-2.06.94zm10 10l.94 2.06.94-2.06 2.06-.94-2.06-.94-.94-2.06-.94 2.06-2.06.94z\"/><path d=\"M17.41 7.96l-1.37-1.37c-.4-.4-.92-.59-1.43-.59-.52 0-1.04.2-1.43.59L10.3 9.45l-7.72 7.72c-.78.78-.78 2.05 0 2.83L4 21.41c.39.39.9.59 1.41.59.51 0 1.02-.2 1.41-.59l7.78-7.78 2.81-2.81c.8-.78.8-2.07 0-2.86zM5.41 20L4 18.59l7.72-7.72 1.47 1.35L5.41 20z\"/>\n",
              "  </svg>\n",
              "      </button>\n",
              "      \n",
              "  <style>\n",
              "    .colab-df-container {\n",
              "      display:flex;\n",
              "      flex-wrap:wrap;\n",
              "      gap: 12px;\n",
              "    }\n",
              "\n",
              "    .colab-df-convert {\n",
              "      background-color: #E8F0FE;\n",
              "      border: none;\n",
              "      border-radius: 50%;\n",
              "      cursor: pointer;\n",
              "      display: none;\n",
              "      fill: #1967D2;\n",
              "      height: 32px;\n",
              "      padding: 0 0 0 0;\n",
              "      width: 32px;\n",
              "    }\n",
              "\n",
              "    .colab-df-convert:hover {\n",
              "      background-color: #E2EBFA;\n",
              "      box-shadow: 0px 1px 2px rgba(60, 64, 67, 0.3), 0px 1px 3px 1px rgba(60, 64, 67, 0.15);\n",
              "      fill: #174EA6;\n",
              "    }\n",
              "\n",
              "    [theme=dark] .colab-df-convert {\n",
              "      background-color: #3B4455;\n",
              "      fill: #D2E3FC;\n",
              "    }\n",
              "\n",
              "    [theme=dark] .colab-df-convert:hover {\n",
              "      background-color: #434B5C;\n",
              "      box-shadow: 0px 1px 3px 1px rgba(0, 0, 0, 0.15);\n",
              "      filter: drop-shadow(0px 1px 2px rgba(0, 0, 0, 0.3));\n",
              "      fill: #FFFFFF;\n",
              "    }\n",
              "  </style>\n",
              "\n",
              "      <script>\n",
              "        const buttonEl =\n",
              "          document.querySelector('#df-3133fbdb-f5ee-4450-9a8f-ad6083eae537 button.colab-df-convert');\n",
              "        buttonEl.style.display =\n",
              "          google.colab.kernel.accessAllowed ? 'block' : 'none';\n",
              "\n",
              "        async function convertToInteractive(key) {\n",
              "          const element = document.querySelector('#df-3133fbdb-f5ee-4450-9a8f-ad6083eae537');\n",
              "          const dataTable =\n",
              "            await google.colab.kernel.invokeFunction('convertToInteractive',\n",
              "                                                     [key], {});\n",
              "          if (!dataTable) return;\n",
              "\n",
              "          const docLinkHtml = 'Like what you see? Visit the ' +\n",
              "            '<a target=\"_blank\" href=https://colab.research.google.com/notebooks/data_table.ipynb>data table notebook</a>'\n",
              "            + ' to learn more about interactive tables.';\n",
              "          element.innerHTML = '';\n",
              "          dataTable['output_type'] = 'display_data';\n",
              "          await google.colab.output.renderOutput(dataTable, element);\n",
              "          const docLink = document.createElement('div');\n",
              "          docLink.innerHTML = docLinkHtml;\n",
              "          element.appendChild(docLink);\n",
              "        }\n",
              "      </script>\n",
              "    </div>\n",
              "  </div>\n",
              "  "
            ]
          },
          "metadata": {},
          "execution_count": 4
        }
      ]
    },
    {
      "cell_type": "code",
      "source": [
        "dataset.shape"
      ],
      "metadata": {
        "colab": {
          "base_uri": "https://localhost:8080/"
        },
        "id": "bgBJk1B81Nrk",
        "outputId": "4df66ba1-3397-4550-e719-4aaa305b3f1e"
      },
      "execution_count": null,
      "outputs": [
        {
          "output_type": "execute_result",
          "data": {
            "text/plain": [
              "(215, 15)"
            ]
          },
          "metadata": {},
          "execution_count": 5
        }
      ]
    },
    {
      "cell_type": "code",
      "source": [
        "# checking the missing values in a dataset\n",
        "dataset.isnull().sum()"
      ],
      "metadata": {
        "colab": {
          "base_uri": "https://localhost:8080/"
        },
        "id": "GkNkmkoW1W46",
        "outputId": "650f49a8-ff4f-43a8-91a0-9d456f36881d"
      },
      "execution_count": null,
      "outputs": [
        {
          "output_type": "execute_result",
          "data": {
            "text/plain": [
              "sl_no              0\n",
              "gender             0\n",
              "ssc_p              0\n",
              "ssc_b              0\n",
              "hsc_p              0\n",
              "hsc_b              0\n",
              "hsc_s              0\n",
              "degree_p           0\n",
              "degree_t           0\n",
              "workex             0\n",
              "etest_p            0\n",
              "specialisation     0\n",
              "mba_p              0\n",
              "status             0\n",
              "salary            67\n",
              "dtype: int64"
            ]
          },
          "metadata": {},
          "execution_count": 6
        }
      ]
    },
    {
      "cell_type": "markdown",
      "source": [
        "### Central Tendencies\n",
        "Central tendencies refer to a summary measure that gives us an idea of where the majority of the data in a dataset lies. There are three common measures of central tendency: mean, median, and mode.\n",
        "\n",
        "- Mean: The mean is the average of a set of numbers and is calculated by summing all the values and dividing by the total number of values. The mean is sensitive to outliers and extreme values, so it may not always give a representative picture of the data.\n",
        "\n",
        "- Median: The median is the middle value of a set of numbers when the data is ordered from smallest to largest. If there are an odd number of observations, the median is the middle value. If there are an even number of observations, the median is the average of the two middle values. The median is a robust statistic, meaning that it is not affected by outliers or extreme values.\n",
        "\n",
        "- Mode: The mode is the most frequently occurring value in a dataset. A dataset can have one mode, multiple modes, or no mode at all. The mode is a useful measure of central tendency for nominal or ordinal data, but it is not useful for continuous or interval data.\n",
        "\n",
        "It's important to choose the appropriate measure of central tendency depending on the type of data and the goals of the analysis. For example, if the data has a skewed distribution, the median may be a more appropriate measure of central tendency than the mean."
      ],
      "metadata": {
        "id": "J1TiytSf1tr2"
      }
    },
    {
      "cell_type": "code",
      "source": [
        "# analyze a distribution of data in a salary column\n",
        "fig, ax = plt.subplots(figsize =(8,8))\n",
        "sns.distplot(dataset.salary)\n"
      ],
      "metadata": {
        "colab": {
          "base_uri": "https://localhost:8080/",
          "height": 580
        },
        "id": "MP5p6Kp-1bL_",
        "outputId": "855688a3-f67a-407b-f177-47e9e3b8d076"
      },
      "execution_count": null,
      "outputs": [
        {
          "output_type": "stream",
          "name": "stderr",
          "text": [
            "/usr/local/lib/python3.8/dist-packages/seaborn/distributions.py:2619: FutureWarning: `distplot` is a deprecated function and will be removed in a future version. Please adapt your code to use either `displot` (a figure-level function with similar flexibility) or `histplot` (an axes-level function for histograms).\n",
            "  warnings.warn(msg, FutureWarning)\n"
          ]
        },
        {
          "output_type": "execute_result",
          "data": {
            "text/plain": [
              "<matplotlib.axes._subplots.AxesSubplot at 0x7fa8c97c2fa0>"
            ]
          },
          "metadata": {},
          "execution_count": 8
        },
        {
          "output_type": "display_data",
          "data": {
            "text/plain": [
              "<Figure size 576x576 with 1 Axes>"
            ],
            "image/png": "[encoded data removed]"
          },
          "metadata": {
            "needs_background": "light"
          }
        }
      ]
    },
    {
      "cell_type": "code",
      "source": [
        "# using imputation to handle a missing value\n",
        "# Replace the missing value with MEdium value\n",
        "\n",
        "dataset['salary'].fillna(dataset['salary'].median(), inplace =True)"
      ],
      "metadata": {
        "id": "gepQ8vXQ23w4"
      },
      "execution_count": null,
      "outputs": []
    },
    {
      "cell_type": "code",
      "source": [
        "dataset.head()"
      ],
      "metadata": {
        "colab": {
          "base_uri": "https://localhost:8080/",
          "height": 287
        },
        "id": "R5rzQuDG6bAe",
        "outputId": "8a78f542-23dc-47f9-c8ea-176d7a639236"
      },
      "execution_count": null,
      "outputs": [
        {
          "output_type": "execute_result",
          "data": {
            "text/plain": [
              "   sl_no gender  ssc_p    ssc_b  hsc_p    hsc_b     hsc_s  degree_p  \\\n",
              "0      1      M  67.00   Others  91.00   Others  Commerce     58.00   \n",
              "1      2      M  79.33  Central  78.33   Others   Science     77.48   \n",
              "2      3      M  65.00  Central  68.00  Central      Arts     64.00   \n",
              "3      4      M  56.00  Central  52.00  Central   Science     52.00   \n",
              "4      5      M  85.80  Central  73.60  Central  Commerce     73.30   \n",
              "\n",
              "    degree_t workex  etest_p specialisation  mba_p      status    salary  \n",
              "0   Sci&Tech     No     55.0         Mkt&HR  58.80      Placed  270000.0  \n",
              "1   Sci&Tech    Yes     86.5        Mkt&Fin  66.28      Placed  200000.0  \n",
              "2  Comm&Mgmt     No     75.0        Mkt&Fin  57.80      Placed  250000.0  \n",
              "3   Sci&Tech     No     66.0         Mkt&HR  59.43  Not Placed  265000.0  \n",
              "4  Comm&Mgmt     No     96.8        Mkt&Fin  55.50      Placed  425000.0  "
            ],
            "text/html": [
              "\n",
              "  <div id=\"df-99e7ef7c-414e-4a5b-a1cc-3480f3067fa1\">\n",
              "    <div class=\"colab-df-container\">\n",
              "      <div>\n",
              "<style scoped>\n",
              "    .dataframe tbody tr th:only-of-type {\n",
              "        vertical-align: middle;\n",
              "    }\n",
              "\n",
              "    .dataframe tbody tr th {\n",
              "        vertical-align: top;\n",
              "    }\n",
              "\n",
              "    .dataframe thead th {\n",
              "        text-align: right;\n",
              "    }\n",
              "</style>\n",
              "<table border=\"1\" class=\"dataframe\">\n",
              "  <thead>\n",
              "    <tr style=\"text-align: right;\">\n",
              "      <th></th>\n",
              "      <th>sl_no</th>\n",
              "      <th>gender</th>\n",
              "      <th>ssc_p</th>\n",
              "      <th>ssc_b</th>\n",
              "      <th>hsc_p</th>\n",
              "      <th>hsc_b</th>\n",
              "      <th>hsc_s</th>\n",
              "      <th>degree_p</th>\n",
              "      <th>degree_t</th>\n",
              "      <th>workex</th>\n",
              "      <th>etest_p</th>\n",
              "      <th>specialisation</th>\n",
              "      <th>mba_p</th>\n",
              "      <th>status</th>\n",
              "      <th>salary</th>\n",
              "    </tr>\n",
              "  </thead>\n",
              "  <tbody>\n",
              "    <tr>\n",
              "      <th>0</th>\n",
              "      <td>1</td>\n",
              "      <td>M</td>\n",
              "      <td>67.00</td>\n",
              "      <td>Others</td>\n",
              "      <td>91.00</td>\n",
              "      <td>Others</td>\n",
              "      <td>Commerce</td>\n",
              "      <td>58.00</td>\n",
              "      <td>Sci&amp;Tech</td>\n",
              "      <td>No</td>\n",
              "      <td>55.0</td>\n",
              "      <td>Mkt&amp;HR</td>\n",
              "      <td>58.80</td>\n",
              "      <td>Placed</td>\n",
              "      <td>270000.0</td>\n",
              "    </tr>\n",
              "    <tr>\n",
              "      <th>1</th>\n",
              "      <td>2</td>\n",
              "      <td>M</td>\n",
              "      <td>79.33</td>\n",
              "      <td>Central</td>\n",
              "      <td>78.33</td>\n",
              "      <td>Others</td>\n",
              "      <td>Science</td>\n",
              "      <td>77.48</td>\n",
              "      <td>Sci&amp;Tech</td>\n",
              "      <td>Yes</td>\n",
              "      <td>86.5</td>\n",
              "      <td>Mkt&amp;Fin</td>\n",
              "      <td>66.28</td>\n",
              "      <td>Placed</td>\n",
              "      <td>200000.0</td>\n",
              "    </tr>\n",
              "    <tr>\n",
              "      <th>2</th>\n",
              "      <td>3</td>\n",
              "      <td>M</td>\n",
              "      <td>65.00</td>\n",
              "      <td>Central</td>\n",
              "      <td>68.00</td>\n",
              "      <td>Central</td>\n",
              "      <td>Arts</td>\n",
              "      <td>64.00</td>\n",
              "      <td>Comm&amp;Mgmt</td>\n",
              "      <td>No</td>\n",
              "      <td>75.0</td>\n",
              "      <td>Mkt&amp;Fin</td>\n",
              "      <td>57.80</td>\n",
              "      <td>Placed</td>\n",
              "      <td>250000.0</td>\n",
              "    </tr>\n",
              "    <tr>\n",
              "      <th>3</th>\n",
              "      <td>4</td>\n",
              "      <td>M</td>\n",
              "      <td>56.00</td>\n",
              "      <td>Central</td>\n",
              "      <td>52.00</td>\n",
              "      <td>Central</td>\n",
              "      <td>Science</td>\n",
              "      <td>52.00</td>\n",
              "      <td>Sci&amp;Tech</td>\n",
              "      <td>No</td>\n",
              "      <td>66.0</td>\n",
              "      <td>Mkt&amp;HR</td>\n",
              "      <td>59.43</td>\n",
              "      <td>Not Placed</td>\n",
              "      <td>265000.0</td>\n",
              "    </tr>\n",
              "    <tr>\n",
              "      <th>4</th>\n",
              "      <td>5</td>\n",
              "      <td>M</td>\n",
              "      <td>85.80</td>\n",
              "      <td>Central</td>\n",
              "      <td>73.60</td>\n",
              "      <td>Central</td>\n",
              "      <td>Commerce</td>\n",
              "      <td>73.30</td>\n",
              "      <td>Comm&amp;Mgmt</td>\n",
              "      <td>No</td>\n",
              "      <td>96.8</td>\n",
              "      <td>Mkt&amp;Fin</td>\n",
              "      <td>55.50</td>\n",
              "      <td>Placed</td>\n",
              "      <td>425000.0</td>\n",
              "    </tr>\n",
              "  </tbody>\n",
              "</table>\n",
              "</div>\n",
              "      <button class=\"colab-df-convert\" onclick=\"convertToInteractive('df-99e7ef7c-414e-4a5b-a1cc-3480f3067fa1')\"\n",
              "              title=\"Convert this dataframe to an interactive table.\"\n",
              "              style=\"display:none;\">\n",
              "        \n",
              "  <svg xmlns=\"http://www.w3.org/2000/svg\" height=\"24px\"viewBox=\"0 0 24 24\"\n",
              "       width=\"24px\">\n",
              "    <path d=\"M0 0h24v24H0V0z\" fill=\"none\"/>\n",
              "    <path d=\"M18.56 5.44l.94 2.06.94-2.06 2.06-.94-2.06-.94-.94-2.06-.94 2.06-2.06.94zm-11 1L8.5 8.5l.94-2.06 2.06-.94-2.06-.94L8.5 2.5l-.94 2.06-2.06.94zm10 10l.94 2.06.94-2.06 2.06-.94-2.06-.94-.94-2.06-.94 2.06-2.06.94z\"/><path d=\"M17.41 7.96l-1.37-1.37c-.4-.4-.92-.59-1.43-.59-.52 0-1.04.2-1.43.59L10.3 9.45l-7.72 7.72c-.78.78-.78 2.05 0 2.83L4 21.41c.39.39.9.59 1.41.59.51 0 1.02-.2 1.41-.59l7.78-7.78 2.81-2.81c.8-.78.8-2.07 0-2.86zM5.41 20L4 18.59l7.72-7.72 1.47 1.35L5.41 20z\"/>\n",
              "  </svg>\n",
              "      </button>\n",
              "      \n",
              "  <style>\n",
              "    .colab-df-container {\n",
              "      display:flex;\n",
              "      flex-wrap:wrap;\n",
              "      gap: 12px;\n",
              "    }\n",
              "\n",
              "    .colab-df-convert {\n",
              "      background-color: #E8F0FE;\n",
              "      border: none;\n",
              "      border-radius: 50%;\n",
              "      cursor: pointer;\n",
              "      display: none;\n",
              "      fill: #1967D2;\n",
              "      height: 32px;\n",
              "      padding: 0 0 0 0;\n",
              "      width: 32px;\n",
              "    }\n",
              "\n",
              "    .colab-df-convert:hover {\n",
              "      background-color: #E2EBFA;\n",
              "      box-shadow: 0px 1px 2px rgba(60, 64, 67, 0.3), 0px 1px 3px 1px rgba(60, 64, 67, 0.15);\n",
              "      fill: #174EA6;\n",
              "    }\n",
              "\n",
              "    [theme=dark] .colab-df-convert {\n",
              "      background-color: #3B4455;\n",
              "      fill: #D2E3FC;\n",
              "    }\n",
              "\n",
              "    [theme=dark] .colab-df-convert:hover {\n",
              "      background-color: #434B5C;\n",
              "      box-shadow: 0px 1px 3px 1px rgba(0, 0, 0, 0.15);\n",
              "      filter: drop-shadow(0px 1px 2px rgba(0, 0, 0, 0.3));\n",
              "      fill: #FFFFFF;\n",
              "    }\n",
              "  </style>\n",
              "\n",
              "      <script>\n",
              "        const buttonEl =\n",
              "          document.querySelector('#df-99e7ef7c-414e-4a5b-a1cc-3480f3067fa1 button.colab-df-convert');\n",
              "        buttonEl.style.display =\n",
              "          google.colab.kernel.accessAllowed ? 'block' : 'none';\n",
              "\n",
              "        async function convertToInteractive(key) {\n",
              "          const element = document.querySelector('#df-99e7ef7c-414e-4a5b-a1cc-3480f3067fa1');\n",
              "          const dataTable =\n",
              "            await google.colab.kernel.invokeFunction('convertToInteractive',\n",
              "                                                     [key], {});\n",
              "          if (!dataTable) return;\n",
              "\n",
              "          const docLinkHtml = 'Like what you see? Visit the ' +\n",
              "            '<a target=\"_blank\" href=https://colab.research.google.com/notebooks/data_table.ipynb>data table notebook</a>'\n",
              "            + ' to learn more about interactive tables.';\n",
              "          element.innerHTML = '';\n",
              "          dataTable['output_type'] = 'display_data';\n",
              "          await google.colab.output.renderOutput(dataTable, element);\n",
              "          const docLink = document.createElement('div');\n",
              "          docLink.innerHTML = docLinkHtml;\n",
              "          element.appendChild(docLink);\n",
              "        }\n",
              "      </script>\n",
              "    </div>\n",
              "  </div>\n",
              "  "
            ]
          },
          "metadata": {},
          "execution_count": 10
        }
      ]
    },
    {
      "cell_type": "code",
      "source": [
        "dataset.isnull().sum()"
      ],
      "metadata": {
        "colab": {
          "base_uri": "https://localhost:8080/"
        },
        "id": "6UIvkfUn6deY",
        "outputId": "b0df96be-a503-4190-b5a2-dcb7f4a6f846"
      },
      "execution_count": null,
      "outputs": [
        {
          "output_type": "execute_result",
          "data": {
            "text/plain": [
              "sl_no             0\n",
              "gender            0\n",
              "ssc_p             0\n",
              "ssc_b             0\n",
              "hsc_p             0\n",
              "hsc_b             0\n",
              "hsc_s             0\n",
              "degree_p          0\n",
              "degree_t          0\n",
              "workex            0\n",
              "etest_p           0\n",
              "specialisation    0\n",
              "mba_p             0\n",
              "status            0\n",
              "salary            0\n",
              "dtype: int64"
            ]
          },
          "metadata": {},
          "execution_count": 11
        }
      ]
    },
    {
      "cell_type": "code",
      "source": [
        "## droping method\n",
        "salary_dataset = pd.read_csv('/content/Placement_Dataset.csv')"
      ],
      "metadata": {
        "id": "EmPEaMff6i5A"
      },
      "execution_count": null,
      "outputs": []
    },
    {
      "cell_type": "code",
      "source": [
        "## drop the missng value\n",
        "salary_dataset = salary_dataset.dropna(how = 'any')"
      ],
      "metadata": {
        "id": "PFOycSbJ7Rk_"
      },
      "execution_count": null,
      "outputs": []
    },
    {
      "cell_type": "code",
      "source": [
        "salary_dataset.isnull().sum()"
      ],
      "metadata": {
        "colab": {
          "base_uri": "https://localhost:8080/"
        },
        "id": "r4ZeTuFD7iX5",
        "outputId": "d45f1359-2e65-4c4a-efac-85a0e96a3444"
      },
      "execution_count": null,
      "outputs": [
        {
          "output_type": "execute_result",
          "data": {
            "text/plain": [
              "sl_no             0\n",
              "gender            0\n",
              "ssc_p             0\n",
              "ssc_b             0\n",
              "hsc_p             0\n",
              "hsc_b             0\n",
              "hsc_s             0\n",
              "degree_p          0\n",
              "degree_t          0\n",
              "workex            0\n",
              "etest_p           0\n",
              "specialisation    0\n",
              "mba_p             0\n",
              "status            0\n",
              "salary            0\n",
              "dtype: int64"
            ]
          },
          "metadata": {},
          "execution_count": 14
        }
      ]
    },
    {
      "cell_type": "code",
      "source": [
        "salary_dataset.shape"
      ],
      "metadata": {
        "colab": {
          "base_uri": "https://localhost:8080/"
        },
        "id": "7WfgW6KJ7nNs",
        "outputId": "3add2ed0-7055-414e-8dd3-6d551dbe248e"
      },
      "execution_count": null,
      "outputs": [
        {
          "output_type": "execute_result",
          "data": {
            "text/plain": [
              "(148, 15)"
            ]
          },
          "metadata": {},
          "execution_count": 15
        }
      ]
    },
    {
      "cell_type": "markdown",
      "source": [
        "# Data standardization\n",
        "Data standardization is a process of transforming the values in a dataset to have a common scale. This is useful when comparing values that have different units or scales, or when working with algorithms that are sensitive to the scale of the input data.\n",
        "\n",
        "There are two common methods of standardizing data:\n",
        "\n",
        "- Min-Max Scaling: This method transforms the data to a scale between 0 and 1 by subtracting the minimum value from each data point and dividing by the range (maximum value minus minimum value).\n",
        "\n",
        "- Standardization: This method transforms the data to have a mean of 0 and a standard deviation of 1. The standardization is done by subtracting the mean from each data point and dividing by the standard deviation.\n",
        "\n",
        "Standardizing data can improve the performance of some machine learning algorithms and is often a required pre-processing step for many data analysis tasks. However, it's important to note that standardization can have an impact on the interpretation of the data and its relationship to other variables, so it's important to choose the appropriate method and carefully consider the implications of the transformation."
      ],
      "metadata": {
        "id": "N1r_y2p07u6V"
      }
    },
    {
      "cell_type": "code",
      "source": [
        "import numpy as np\n",
        "import pandas as pd\n",
        "import sklearn.datasets\n",
        "from sklearn.preprocessing import StandardScaler\n",
        "from sklearn.model_selection import train_test_split"
      ],
      "metadata": {
        "id": "Q88lyeWD7reX"
      },
      "execution_count": null,
      "outputs": []
    },
    {
      "cell_type": "code",
      "source": [
        "# loading the datasets\n",
        "dataset = sklearn.datasets.load_breast_cancer()"
      ],
      "metadata": {
        "id": "XS4gWehO9VxX"
      },
      "execution_count": null,
      "outputs": []
    },
    {
      "cell_type": "code",
      "source": [
        "print(dataset)"
      ],
      "metadata": {
        "colab": {
          "base_uri": "https://localhost:8080/"
        },
        "id": "Mxw_6x_w9e-F",
        "outputId": "013f2711-52e1-4e89-e219-3a68545758e9"
      },
      "execution_count": null,
      "outputs": [
        {
          "output_type": "stream",
          "name": "stdout",
          "text": [
            "{'data': array([[1.799e+01, 1.038e+01, 1.228e+02, ..., 2.654e-01, 4.601e-01,\n",
            "        1.189e-01],\n",
            "       [2.057e+01, 1.777e+01, 1.329e+02, ..., 1.860e-01, 2.750e-01,\n",
            "        8.902e-02],\n",
            "       [1.969e+01, 2.125e+01, 1.300e+02, ..., 2.430e-01, 3.613e-01,\n",
            "        8.758e-02],\n",
            "       ...,\n",
            "       [1.660e+01, 2.808e+01, 1.083e+02, ..., 1.418e-01, 2.218e-01,\n",
            "        7.820e-02],\n",
            "       [2.060e+01, 2.933e+01, 1.401e+02, ..., 2.650e-01, 4.087e-01,\n",
            "        1.240e-01],\n",
            "       [7.760e+00, 2.454e+01, 4.792e+01, ..., 0.000e+00, 2.871e-01,\n",
            "        7.039e-02]]), 'target': array([0, 0, 0, 0, 0, 0, 0, 0, 0, 0, 0, 0, 0, 0, 0, 0, 0, 0, 0, 1, 1, 1,\n",
            "       0, 0, 0, 0, 0, 0, 0, 0, 0, 0, 0, 0, 0, 0, 0, 1, 0, 0, 0, 0, 0, 0,\n",
            "       0, 0, 1, 0, 1, 1, 1, 1, 1, 0, 0, 1, 0, 0, 1, 1, 1, 1, 0, 1, 0, 0,\n",
            "       1, 1, 1, 1, 0, 1, 0, 0, 1, 0, 1, 0, 0, 1, 1, 1, 0, 0, 1, 0, 0, 0,\n",
            "       1, 1, 1, 0, 1, 1, 0, 0, 1, 1, 1, 0, 0, 1, 1, 1, 1, 0, 1, 1, 0, 1,\n",
            "       1, 1, 1, 1, 1, 1, 1, 0, 0, 0, 1, 0, 0, 1, 1, 1, 0, 0, 1, 0, 1, 0,\n",
            "       0, 1, 0, 0, 1, 1, 0, 1, 1, 0, 1, 1, 1, 1, 0, 1, 1, 1, 1, 1, 1, 1,\n",
            "       1, 1, 0, 1, 1, 1, 1, 0, 0, 1, 0, 1, 1, 0, 0, 1, 1, 0, 0, 1, 1, 1,\n",
            "       1, 0, 1, 1, 0, 0, 0, 1, 0, 1, 0, 1, 1, 1, 0, 1, 1, 0, 0, 1, 0, 0,\n",
            "       0, 0, 1, 0, 0, 0, 1, 0, 1, 0, 1, 1, 0, 1, 0, 0, 0, 0, 1, 1, 0, 0,\n",
            "       1, 1, 1, 0, 1, 1, 1, 1, 1, 0, 0, 1, 1, 0, 1, 1, 0, 0, 1, 0, 1, 1,\n",
            "       1, 1, 0, 1, 1, 1, 1, 1, 0, 1, 0, 0, 0, 0, 0, 0, 0, 0, 0, 0, 0, 0,\n",
            "       0, 0, 1, 1, 1, 1, 1, 1, 0, 1, 0, 1, 1, 0, 1, 1, 0, 1, 0, 0, 1, 1,\n",
            "       1, 1, 1, 1, 1, 1, 1, 1, 1, 1, 1, 0, 1, 1, 0, 1, 0, 1, 1, 1, 1, 1,\n",
            "       1, 1, 1, 1, 1, 1, 1, 1, 1, 0, 1, 1, 1, 0, 1, 0, 1, 1, 1, 1, 0, 0,\n",
            "       0, 1, 1, 1, 1, 0, 1, 0, 1, 0, 1, 1, 1, 0, 1, 1, 1, 1, 1, 1, 1, 0,\n",
            "       0, 0, 1, 1, 1, 1, 1, 1, 1, 1, 1, 1, 1, 0, 0, 1, 0, 0, 0, 1, 0, 0,\n",
            "       1, 1, 1, 1, 1, 0, 1, 1, 1, 1, 1, 0, 1, 1, 1, 0, 1, 1, 0, 0, 1, 1,\n",
            "       1, 1, 1, 1, 0, 1, 1, 1, 1, 1, 1, 1, 0, 1, 1, 1, 1, 1, 0, 1, 1, 0,\n",
            "       1, 1, 1, 1, 1, 1, 1, 1, 1, 1, 1, 1, 0, 1, 0, 0, 1, 0, 1, 1, 1, 1,\n",
            "       1, 0, 1, 1, 0, 1, 0, 1, 1, 0, 1, 0, 1, 1, 1, 1, 1, 1, 1, 1, 0, 0,\n",
            "       1, 1, 1, 1, 1, 1, 0, 1, 1, 1, 1, 1, 1, 1, 1, 1, 1, 0, 1, 1, 1, 1,\n",
            "       1, 1, 1, 0, 1, 0, 1, 1, 0, 1, 1, 1, 1, 1, 0, 0, 1, 0, 1, 0, 1, 1,\n",
            "       1, 1, 1, 0, 1, 1, 0, 1, 0, 1, 0, 0, 1, 1, 1, 0, 1, 1, 1, 1, 1, 1,\n",
            "       1, 1, 1, 1, 1, 0, 1, 0, 0, 1, 1, 1, 1, 1, 1, 1, 1, 1, 1, 1, 1, 1,\n",
            "       1, 1, 1, 1, 1, 1, 1, 1, 1, 1, 1, 1, 0, 0, 0, 0, 0, 0, 1]), 'frame': None, 'target_names': array(['malignant', 'benign'], dtype='<U9'), 'DESCR': '.. _breast_cancer_dataset:\\n\\nBreast cancer wisconsin (diagnostic) dataset\\n--------------------------------------------\\n\\n**Data Set Characteristics:**\\n\\n    :Number of Instances: 569\\n\\n    :Number of Attributes: 30 numeric, predictive attributes and the class\\n\\n    :Attribute Information:\\n        - radius (mean of distances from center to points on the perimeter)\\n        - texture (standard deviation of gray-scale values)\\n        - perimeter\\n        - area\\n        - smoothness (local variation in radius lengths)\\n        - compactness (perimeter^2 / area - 1.0)\\n        - concavity (severity of concave portions of the contour)\\n        - concave points (number of concave portions of the contour)\\n        - symmetry\\n        - fractal dimension (\"coastline approximation\" - 1)\\n\\n        The mean, standard error, and \"worst\" or largest (mean of the three\\n        worst/largest values) of these features were computed for each image,\\n        resulting in 30 features.  For instance, field 0 is Mean Radius, field\\n        10 is Radius SE, field 20 is Worst Radius.\\n\\n        - class:\\n                - WDBC-Malignant\\n                - WDBC-Benign\\n\\n    :Summary Statistics:\\n\\n    ===================================== ====== ======\\n                                           Min    Max\\n    ===================================== ====== ======\\n    radius (mean):                        6.981  28.11\\n    texture (mean):                       9.71   39.28\\n    perimeter (mean):                     43.79  188.5\\n    area (mean):                          143.5  2501.0\\n    smoothness (mean):                    0.053  0.163\\n    compactness (mean):                   0.019  0.345\\n    concavity (mean):                     0.0    0.427\\n    concave points (mean):                0.0    0.201\\n    symmetry (mean):                      0.106  0.304\\n    fractal dimension (mean):             0.05   0.097\\n    radius (standard error):              0.112  2.873\\n    texture (standard error):             0.36   4.885\\n    perimeter (standard error):           0.757  21.98\\n    area (standard error):                6.802  542.2\\n    smoothness (standard error):          0.002  0.031\\n    compactness (standard error):         0.002  0.135\\n    concavity (standard error):           0.0    0.396\\n    concave points (standard error):      0.0    0.053\\n    symmetry (standard error):            0.008  0.079\\n    fractal dimension (standard error):   0.001  0.03\\n    radius (worst):                       7.93   36.04\\n    texture (worst):                      12.02  49.54\\n    perimeter (worst):                    50.41  251.2\\n    area (worst):                         185.2  4254.0\\n    smoothness (worst):                   0.071  0.223\\n    compactness (worst):                  0.027  1.058\\n    concavity (worst):                    0.0    1.252\\n    concave points (worst):               0.0    0.291\\n    symmetry (worst):                     0.156  0.664\\n    fractal dimension (worst):            0.055  0.208\\n    ===================================== ====== ======\\n\\n    :Missing Attribute Values: None\\n\\n    :Class Distribution: 212 - Malignant, 357 - Benign\\n\\n    :Creator:  Dr. William H. Wolberg, W. Nick Street, Olvi L. Mangasarian\\n\\n    :Donor: Nick Street\\n\\n    :Date: November, 1995\\n\\nThis is a copy of UCI ML Breast Cancer Wisconsin (Diagnostic) datasets.\\nhttps://goo.gl/U2Uwz2\\n\\nFeatures are computed from a digitized image of a fine needle\\naspirate (FNA) of a breast mass.  They describe\\ncharacteristics of the cell nuclei present in the image.\\n\\nSeparating plane described above was obtained using\\nMultisurface Method-Tree (MSM-T) [K. P. Bennett, \"Decision Tree\\nConstruction Via Linear Programming.\" Proceedings of the 4th\\nMidwest Artificial Intelligence and Cognitive Science Society,\\npp. 97-101, 1992], a classification method which uses linear\\nprogramming to construct a decision tree.  Relevant features\\nwere selected using an exhaustive search in the space of 1-4\\nfeatures and 1-3 separating planes.\\n\\nThe actual linear program used to obtain the separating plane\\nin the 3-dimensional space is that described in:\\n[K. P. Bennett and O. L. Mangasarian: \"Robust Linear\\nProgramming Discrimination of Two Linearly Inseparable Sets\",\\nOptimization Methods and Software 1, 1992, 23-34].\\n\\nThis database is also available through the UW CS ftp server:\\n\\nftp ftp.cs.wisc.edu\\ncd math-prog/cpo-dataset/machine-learn/WDBC/\\n\\n.. topic:: References\\n\\n   - W.N. Street, W.H. Wolberg and O.L. Mangasarian. Nuclear feature extraction \\n     for breast tumor diagnosis. IS&T/SPIE 1993 International Symposium on \\n     Electronic Imaging: Science and Technology, volume 1905, pages 861-870,\\n     San Jose, CA, 1993.\\n   - O.L. Mangasarian, W.N. Street and W.H. Wolberg. Breast cancer diagnosis and \\n     prognosis via linear programming. Operations Research, 43(4), pages 570-577, \\n     July-August 1995.\\n   - W.H. Wolberg, W.N. Street, and O.L. Mangasarian. Machine learning techniques\\n     to diagnose breast cancer from fine-needle aspirates. Cancer Letters 77 (1994) \\n     163-171.', 'feature_names': array(['mean radius', 'mean texture', 'mean perimeter', 'mean area',\n",
            "       'mean smoothness', 'mean compactness', 'mean concavity',\n",
            "       'mean concave points', 'mean symmetry', 'mean fractal dimension',\n",
            "       'radius error', 'texture error', 'perimeter error', 'area error',\n",
            "       'smoothness error', 'compactness error', 'concavity error',\n",
            "       'concave points error', 'symmetry error',\n",
            "       'fractal dimension error', 'worst radius', 'worst texture',\n",
            "       'worst perimeter', 'worst area', 'worst smoothness',\n",
            "       'worst compactness', 'worst concavity', 'worst concave points',\n",
            "       'worst symmetry', 'worst fractal dimension'], dtype='<U23'), 'filename': 'breast_cancer.csv', 'data_module': 'sklearn.datasets.data'}\n"
          ]
        }
      ]
    },
    {
      "cell_type": "code",
      "source": [
        "# loading the data to a pandas dataframe\n",
        "df = pd.DataFrame(dataset.data, columns=dataset.feature_names)"
      ],
      "metadata": {
        "id": "Bo0YB5Jw9hLo"
      },
      "execution_count": null,
      "outputs": []
    },
    {
      "cell_type": "code",
      "source": [
        "df.head()"
      ],
      "metadata": {
        "colab": {
          "base_uri": "https://localhost:8080/",
          "height": 334
        },
        "id": "4UvFzVRJ-B1Y",
        "outputId": "9f7ef22e-ac73-48aa-d48e-18d460bd00fd"
      },
      "execution_count": null,
      "outputs": [
        {
          "output_type": "execute_result",
          "data": {
            "text/plain": [
              "   mean radius  mean texture  mean perimeter  mean area  mean smoothness  \\\n",
              "0        17.99         10.38          122.80     1001.0          0.11840   \n",
              "1        20.57         17.77          132.90     1326.0          0.08474   \n",
              "2        19.69         21.25          130.00     1203.0          0.10960   \n",
              "3        11.42         20.38           77.58      386.1          0.14250   \n",
              "4        20.29         14.34          135.10     1297.0          0.10030   \n",
              "\n",
              "   mean compactness  mean concavity  mean concave points  mean symmetry  \\\n",
              "0           0.27760          0.3001              0.14710         0.2419   \n",
              "1           0.07864          0.0869              0.07017         0.1812   \n",
              "2           0.15990          0.1974              0.12790         0.2069   \n",
              "3           0.28390          0.2414              0.10520         0.2597   \n",
              "4           0.13280          0.1980              0.10430         0.1809   \n",
              "\n",
              "   mean fractal dimension  ...  worst radius  worst texture  worst perimeter  \\\n",
              "0                 0.07871  ...         25.38          17.33           184.60   \n",
              "1                 0.05667  ...         24.99          23.41           158.80   \n",
              "2                 0.05999  ...         23.57          25.53           152.50   \n",
              "3                 0.09744  ...         14.91          26.50            98.87   \n",
              "4                 0.05883  ...         22.54          16.67           152.20   \n",
              "\n",
              "   worst area  worst smoothness  worst compactness  worst concavity  \\\n",
              "0      2019.0            0.1622             0.6656           0.7119   \n",
              "1      1956.0            0.1238             0.1866           0.2416   \n",
              "2      1709.0            0.1444             0.4245           0.4504   \n",
              "3       567.7            0.2098             0.8663           0.6869   \n",
              "4      1575.0            0.1374             0.2050           0.4000   \n",
              "\n",
              "   worst concave points  worst symmetry  worst fractal dimension  \n",
              "0                0.2654          0.4601                  0.11890  \n",
              "1                0.1860          0.2750                  0.08902  \n",
              "2                0.2430          0.3613                  0.08758  \n",
              "3                0.2575          0.6638                  0.17300  \n",
              "4                0.1625          0.2364                  0.07678  \n",
              "\n",
              "[5 rows x 30 columns]"
            ],
            "text/html": [
              "\n",
              "  <div id=\"df-6e319284-6504-4ae9-ac73-facecfe736cf\">\n",
              "    <div class=\"colab-df-container\">\n",
              "      <div>\n",
              "<style scoped>\n",
              "    .dataframe tbody tr th:only-of-type {\n",
              "        vertical-align: middle;\n",
              "    }\n",
              "\n",
              "    .dataframe tbody tr th {\n",
              "        vertical-align: top;\n",
              "    }\n",
              "\n",
              "    .dataframe thead th {\n",
              "        text-align: right;\n",
              "    }\n",
              "</style>\n",
              "<table border=\"1\" class=\"dataframe\">\n",
              "  <thead>\n",
              "    <tr style=\"text-align: right;\">\n",
              "      <th></th>\n",
              "      <th>mean radius</th>\n",
              "      <th>mean texture</th>\n",
              "      <th>mean perimeter</th>\n",
              "      <th>mean area</th>\n",
              "      <th>mean smoothness</th>\n",
              "      <th>mean compactness</th>\n",
              "      <th>mean concavity</th>\n",
              "      <th>mean concave points</th>\n",
              "      <th>mean symmetry</th>\n",
              "      <th>mean fractal dimension</th>\n",
              "      <th>...</th>\n",
              "      <th>worst radius</th>\n",
              "      <th>worst texture</th>\n",
              "      <th>worst perimeter</th>\n",
              "      <th>worst area</th>\n",
              "      <th>worst smoothness</th>\n",
              "      <th>worst compactness</th>\n",
              "      <th>worst concavity</th>\n",
              "      <th>worst concave points</th>\n",
              "      <th>worst symmetry</th>\n",
              "      <th>worst fractal dimension</th>\n",
              "    </tr>\n",
              "  </thead>\n",
              "  <tbody>\n",
              "    <tr>\n",
              "      <th>0</th>\n",
              "      <td>17.99</td>\n",
              "      <td>10.38</td>\n",
              "      <td>122.80</td>\n",
              "      <td>1001.0</td>\n",
              "      <td>0.11840</td>\n",
              "      <td>0.27760</td>\n",
              "      <td>0.3001</td>\n",
              "      <td>0.14710</td>\n",
              "      <td>0.2419</td>\n",
              "      <td>0.07871</td>\n",
              "      <td>...</td>\n",
              "      <td>25.38</td>\n",
              "      <td>17.33</td>\n",
              "      <td>184.60</td>\n",
              "      <td>2019.0</td>\n",
              "      <td>0.1622</td>\n",
              "      <td>0.6656</td>\n",
              "      <td>0.7119</td>\n",
              "      <td>0.2654</td>\n",
              "      <td>0.4601</td>\n",
              "      <td>0.11890</td>\n",
              "    </tr>\n",
              "    <tr>\n",
              "      <th>1</th>\n",
              "      <td>20.57</td>\n",
              "      <td>17.77</td>\n",
              "      <td>132.90</td>\n",
              "      <td>1326.0</td>\n",
              "      <td>0.08474</td>\n",
              "      <td>0.07864</td>\n",
              "      <td>0.0869</td>\n",
              "      <td>0.07017</td>\n",
              "      <td>0.1812</td>\n",
              "      <td>0.05667</td>\n",
              "      <td>...</td>\n",
              "      <td>24.99</td>\n",
              "      <td>23.41</td>\n",
              "      <td>158.80</td>\n",
              "      <td>1956.0</td>\n",
              "      <td>0.1238</td>\n",
              "      <td>0.1866</td>\n",
              "      <td>0.2416</td>\n",
              "      <td>0.1860</td>\n",
              "      <td>0.2750</td>\n",
              "      <td>0.08902</td>\n",
              "    </tr>\n",
              "    <tr>\n",
              "      <th>2</th>\n",
              "      <td>19.69</td>\n",
              "      <td>21.25</td>\n",
              "      <td>130.00</td>\n",
              "      <td>1203.0</td>\n",
              "      <td>0.10960</td>\n",
              "      <td>0.15990</td>\n",
              "      <td>0.1974</td>\n",
              "      <td>0.12790</td>\n",
              "      <td>0.2069</td>\n",
              "      <td>0.05999</td>\n",
              "      <td>...</td>\n",
              "      <td>23.57</td>\n",
              "      <td>25.53</td>\n",
              "      <td>152.50</td>\n",
              "      <td>1709.0</td>\n",
              "      <td>0.1444</td>\n",
              "      <td>0.4245</td>\n",
              "      <td>0.4504</td>\n",
              "      <td>0.2430</td>\n",
              "      <td>0.3613</td>\n",
              "      <td>0.08758</td>\n",
              "    </tr>\n",
              "    <tr>\n",
              "      <th>3</th>\n",
              "      <td>11.42</td>\n",
              "      <td>20.38</td>\n",
              "      <td>77.58</td>\n",
              "      <td>386.1</td>\n",
              "      <td>0.14250</td>\n",
              "      <td>0.28390</td>\n",
              "      <td>0.2414</td>\n",
              "      <td>0.10520</td>\n",
              "      <td>0.2597</td>\n",
              "      <td>0.09744</td>\n",
              "      <td>...</td>\n",
              "      <td>14.91</td>\n",
              "      <td>26.50</td>\n",
              "      <td>98.87</td>\n",
              "      <td>567.7</td>\n",
              "      <td>0.2098</td>\n",
              "      <td>0.8663</td>\n",
              "      <td>0.6869</td>\n",
              "      <td>0.2575</td>\n",
              "      <td>0.6638</td>\n",
              "      <td>0.17300</td>\n",
              "    </tr>\n",
              "    <tr>\n",
              "      <th>4</th>\n",
              "      <td>20.29</td>\n",
              "      <td>14.34</td>\n",
              "      <td>135.10</td>\n",
              "      <td>1297.0</td>\n",
              "      <td>0.10030</td>\n",
              "      <td>0.13280</td>\n",
              "      <td>0.1980</td>\n",
              "      <td>0.10430</td>\n",
              "      <td>0.1809</td>\n",
              "      <td>0.05883</td>\n",
              "      <td>...</td>\n",
              "      <td>22.54</td>\n",
              "      <td>16.67</td>\n",
              "      <td>152.20</td>\n",
              "      <td>1575.0</td>\n",
              "      <td>0.1374</td>\n",
              "      <td>0.2050</td>\n",
              "      <td>0.4000</td>\n",
              "      <td>0.1625</td>\n",
              "      <td>0.2364</td>\n",
              "      <td>0.07678</td>\n",
              "    </tr>\n",
              "  </tbody>\n",
              "</table>\n",
              "<p>5 rows × 30 columns</p>\n",
              "</div>\n",
              "      <button class=\"colab-df-convert\" onclick=\"convertToInteractive('df-6e319284-6504-4ae9-ac73-facecfe736cf')\"\n",
              "              title=\"Convert this dataframe to an interactive table.\"\n",
              "              style=\"display:none;\">\n",
              "        \n",
              "  <svg xmlns=\"http://www.w3.org/2000/svg\" height=\"24px\"viewBox=\"0 0 24 24\"\n",
              "       width=\"24px\">\n",
              "    <path d=\"M0 0h24v24H0V0z\" fill=\"none\"/>\n",
              "    <path d=\"M18.56 5.44l.94 2.06.94-2.06 2.06-.94-2.06-.94-.94-2.06-.94 2.06-2.06.94zm-11 1L8.5 8.5l.94-2.06 2.06-.94-2.06-.94L8.5 2.5l-.94 2.06-2.06.94zm10 10l.94 2.06.94-2.06 2.06-.94-2.06-.94-.94-2.06-.94 2.06-2.06.94z\"/><path d=\"M17.41 7.96l-1.37-1.37c-.4-.4-.92-.59-1.43-.59-.52 0-1.04.2-1.43.59L10.3 9.45l-7.72 7.72c-.78.78-.78 2.05 0 2.83L4 21.41c.39.39.9.59 1.41.59.51 0 1.02-.2 1.41-.59l7.78-7.78 2.81-2.81c.8-.78.8-2.07 0-2.86zM5.41 20L4 18.59l7.72-7.72 1.47 1.35L5.41 20z\"/>\n",
              "  </svg>\n",
              "      </button>\n",
              "      \n",
              "  <style>\n",
              "    .colab-df-container {\n",
              "      display:flex;\n",
              "      flex-wrap:wrap;\n",
              "      gap: 12px;\n",
              "    }\n",
              "\n",
              "    .colab-df-convert {\n",
              "      background-color: #E8F0FE;\n",
              "      border: none;\n",
              "      border-radius: 50%;\n",
              "      cursor: pointer;\n",
              "      display: none;\n",
              "      fill: #1967D2;\n",
              "      height: 32px;\n",
              "      padding: 0 0 0 0;\n",
              "      width: 32px;\n",
              "    }\n",
              "\n",
              "    .colab-df-convert:hover {\n",
              "      background-color: #E2EBFA;\n",
              "      box-shadow: 0px 1px 2px rgba(60, 64, 67, 0.3), 0px 1px 3px 1px rgba(60, 64, 67, 0.15);\n",
              "      fill: #174EA6;\n",
              "    }\n",
              "\n",
              "    [theme=dark] .colab-df-convert {\n",
              "      background-color: #3B4455;\n",
              "      fill: #D2E3FC;\n",
              "    }\n",
              "\n",
              "    [theme=dark] .colab-df-convert:hover {\n",
              "      background-color: #434B5C;\n",
              "      box-shadow: 0px 1px 3px 1px rgba(0, 0, 0, 0.15);\n",
              "      filter: drop-shadow(0px 1px 2px rgba(0, 0, 0, 0.3));\n",
              "      fill: #FFFFFF;\n",
              "    }\n",
              "  </style>\n",
              "\n",
              "      <script>\n",
              "        const buttonEl =\n",
              "          document.querySelector('#df-6e319284-6504-4ae9-ac73-facecfe736cf button.colab-df-convert');\n",
              "        buttonEl.style.display =\n",
              "          google.colab.kernel.accessAllowed ? 'block' : 'none';\n",
              "\n",
              "        async function convertToInteractive(key) {\n",
              "          const element = document.querySelector('#df-6e319284-6504-4ae9-ac73-facecfe736cf');\n",
              "          const dataTable =\n",
              "            await google.colab.kernel.invokeFunction('convertToInteractive',\n",
              "                                                     [key], {});\n",
              "          if (!dataTable) return;\n",
              "\n",
              "          const docLinkHtml = 'Like what you see? Visit the ' +\n",
              "            '<a target=\"_blank\" href=https://colab.research.google.com/notebooks/data_table.ipynb>data table notebook</a>'\n",
              "            + ' to learn more about interactive tables.';\n",
              "          element.innerHTML = '';\n",
              "          dataTable['output_type'] = 'display_data';\n",
              "          await google.colab.output.renderOutput(dataTable, element);\n",
              "          const docLink = document.createElement('div');\n",
              "          docLink.innerHTML = docLinkHtml;\n",
              "          element.appendChild(docLink);\n",
              "        }\n",
              "      </script>\n",
              "    </div>\n",
              "  </div>\n",
              "  "
            ]
          },
          "metadata": {},
          "execution_count": 22
        }
      ]
    },
    {
      "cell_type": "code",
      "source": [
        "df.shape"
      ],
      "metadata": {
        "colab": {
          "base_uri": "https://localhost:8080/"
        },
        "id": "OZtQBc9d-KSS",
        "outputId": "450bbb8c-933e-44a9-a929-eac370e05926"
      },
      "execution_count": null,
      "outputs": [
        {
          "output_type": "execute_result",
          "data": {
            "text/plain": [
              "(569, 30)"
            ]
          },
          "metadata": {},
          "execution_count": 23
        }
      ]
    },
    {
      "cell_type": "code",
      "source": [
        "X = df\n",
        "Y = dataset.target"
      ],
      "metadata": {
        "id": "djtviBwo-ZsF"
      },
      "execution_count": null,
      "outputs": []
    },
    {
      "cell_type": "code",
      "source": [
        "print(X)"
      ],
      "metadata": {
        "colab": {
          "base_uri": "https://localhost:8080/"
        },
        "id": "t9R-fnIF-mw-",
        "outputId": "ce12b130-bb9b-4936-d6af-2485df965f0e"
      },
      "execution_count": null,
      "outputs": [
        {
          "output_type": "stream",
          "name": "stdout",
          "text": [
            "     mean radius  mean texture  mean perimeter  mean area  mean smoothness  \\\n",
            "0          17.99         10.38          122.80     1001.0          0.11840   \n",
            "1          20.57         17.77          132.90     1326.0          0.08474   \n",
            "2          19.69         21.25          130.00     1203.0          0.10960   \n",
            "3          11.42         20.38           77.58      386.1          0.14250   \n",
            "4          20.29         14.34          135.10     1297.0          0.10030   \n",
            "..           ...           ...             ...        ...              ...   \n",
            "564        21.56         22.39          142.00     1479.0          0.11100   \n",
            "565        20.13         28.25          131.20     1261.0          0.09780   \n",
            "566        16.60         28.08          108.30      858.1          0.08455   \n",
            "567        20.60         29.33          140.10     1265.0          0.11780   \n",
            "568         7.76         24.54           47.92      181.0          0.05263   \n",
            "\n",
            "     mean compactness  mean concavity  mean concave points  mean symmetry  \\\n",
            "0             0.27760         0.30010              0.14710         0.2419   \n",
            "1             0.07864         0.08690              0.07017         0.1812   \n",
            "2             0.15990         0.19740              0.12790         0.2069   \n",
            "3             0.28390         0.24140              0.10520         0.2597   \n",
            "4             0.13280         0.19800              0.10430         0.1809   \n",
            "..                ...             ...                  ...            ...   \n",
            "564           0.11590         0.24390              0.13890         0.1726   \n",
            "565           0.10340         0.14400              0.09791         0.1752   \n",
            "566           0.10230         0.09251              0.05302         0.1590   \n",
            "567           0.27700         0.35140              0.15200         0.2397   \n",
            "568           0.04362         0.00000              0.00000         0.1587   \n",
            "\n",
            "     mean fractal dimension  ...  worst radius  worst texture  \\\n",
            "0                   0.07871  ...        25.380          17.33   \n",
            "1                   0.05667  ...        24.990          23.41   \n",
            "2                   0.05999  ...        23.570          25.53   \n",
            "3                   0.09744  ...        14.910          26.50   \n",
            "4                   0.05883  ...        22.540          16.67   \n",
            "..                      ...  ...           ...            ...   \n",
            "564                 0.05623  ...        25.450          26.40   \n",
            "565                 0.05533  ...        23.690          38.25   \n",
            "566                 0.05648  ...        18.980          34.12   \n",
            "567                 0.07016  ...        25.740          39.42   \n",
            "568                 0.05884  ...         9.456          30.37   \n",
            "\n",
            "     worst perimeter  worst area  worst smoothness  worst compactness  \\\n",
            "0             184.60      2019.0           0.16220            0.66560   \n",
            "1             158.80      1956.0           0.12380            0.18660   \n",
            "2             152.50      1709.0           0.14440            0.42450   \n",
            "3              98.87       567.7           0.20980            0.86630   \n",
            "4             152.20      1575.0           0.13740            0.20500   \n",
            "..               ...         ...               ...                ...   \n",
            "564           166.10      2027.0           0.14100            0.21130   \n",
            "565           155.00      1731.0           0.11660            0.19220   \n",
            "566           126.70      1124.0           0.11390            0.30940   \n",
            "567           184.60      1821.0           0.16500            0.86810   \n",
            "568            59.16       268.6           0.08996            0.06444   \n",
            "\n",
            "     worst concavity  worst concave points  worst symmetry  \\\n",
            "0             0.7119                0.2654          0.4601   \n",
            "1             0.2416                0.1860          0.2750   \n",
            "2             0.4504                0.2430          0.3613   \n",
            "3             0.6869                0.2575          0.6638   \n",
            "4             0.4000                0.1625          0.2364   \n",
            "..               ...                   ...             ...   \n",
            "564           0.4107                0.2216          0.2060   \n",
            "565           0.3215                0.1628          0.2572   \n",
            "566           0.3403                0.1418          0.2218   \n",
            "567           0.9387                0.2650          0.4087   \n",
            "568           0.0000                0.0000          0.2871   \n",
            "\n",
            "     worst fractal dimension  \n",
            "0                    0.11890  \n",
            "1                    0.08902  \n",
            "2                    0.08758  \n",
            "3                    0.17300  \n",
            "4                    0.07678  \n",
            "..                       ...  \n",
            "564                  0.07115  \n",
            "565                  0.06637  \n",
            "566                  0.07820  \n",
            "567                  0.12400  \n",
            "568                  0.07039  \n",
            "\n",
            "[569 rows x 30 columns]\n"
          ]
        }
      ]
    },
    {
      "cell_type": "markdown",
      "source": [
        "Splitting the data into training data and test data\n"
      ],
      "metadata": {
        "id": "0xHH8X5p-ykU"
      }
    },
    {
      "cell_type": "code",
      "source": [
        "X_train, X_test, Y_train, Y_test = train_test_split(X,Y, test_size=0.2, random_state=3)"
      ],
      "metadata": {
        "id": "HTAw4CQ0-vSl"
      },
      "execution_count": null,
      "outputs": []
    },
    {
      "cell_type": "code",
      "source": [
        "print(X.shape,X_train.shape, X_test.shape)"
      ],
      "metadata": {
        "colab": {
          "base_uri": "https://localhost:8080/"
        },
        "id": "PlHlBdH-_7dg",
        "outputId": "2a306bc2-acbc-4146-c571-e63640f6e09d"
      },
      "execution_count": null,
      "outputs": [
        {
          "output_type": "stream",
          "name": "stdout",
          "text": [
            "(569, 30) (455, 30) (114, 30)\n"
          ]
        }
      ]
    },
    {
      "cell_type": "markdown",
      "source": [
        "Standardize the data"
      ],
      "metadata": {
        "id": "ZyR5XatbAFgG"
      }
    },
    {
      "cell_type": "code",
      "source": [
        "print(dataset.data.std())"
      ],
      "metadata": {
        "colab": {
          "base_uri": "https://localhost:8080/"
        },
        "id": "4sS0teSmABL2",
        "outputId": "426de60a-23c7-46be-cefb-a993e239ce6f"
      },
      "execution_count": null,
      "outputs": [
        {
          "output_type": "stream",
          "name": "stdout",
          "text": [
            "228.29740508276657\n"
          ]
        }
      ]
    },
    {
      "cell_type": "code",
      "source": [
        "scaler = StandardScaler()"
      ],
      "metadata": {
        "id": "R8E9Llv5ANTl"
      },
      "execution_count": null,
      "outputs": []
    },
    {
      "cell_type": "code",
      "source": [
        "scaler.fit(X_train)"
      ],
      "metadata": {
        "colab": {
          "base_uri": "https://localhost:8080/"
        },
        "id": "3cCYbS3_AlP9",
        "outputId": "ab4849dd-c7d4-49dc-9350-87a7f17f45a8"
      },
      "execution_count": null,
      "outputs": [
        {
          "output_type": "execute_result",
          "data": {
            "text/plain": [
              "StandardScaler()"
            ]
          },
          "metadata": {},
          "execution_count": 33
        }
      ]
    },
    {
      "cell_type": "code",
      "source": [
        "X_train_standardized = scaler.transform(X_train)"
      ],
      "metadata": {
        "id": "oMRxNGq0AokD"
      },
      "execution_count": null,
      "outputs": []
    },
    {
      "cell_type": "code",
      "source": [
        "print(X_train_standardized)"
      ],
      "metadata": {
        "colab": {
          "base_uri": "https://localhost:8080/"
        },
        "id": "pZyqg-cZAzTl",
        "outputId": "a110763d-4a8b-401a-8413-b3ce0a08fe26"
      },
      "execution_count": null,
      "outputs": [
        {
          "output_type": "stream",
          "name": "stdout",
          "text": [
            "[[ 1.40381088  1.79283426  1.37960065 ...  1.044121    0.52295995\n",
            "   0.64990763]\n",
            " [ 1.16565505 -0.14461158  1.07121375 ...  0.5940779   0.44153782\n",
            "  -0.85281516]\n",
            " [-0.0307278  -0.77271123 -0.09822185 ... -0.64047556 -0.31161687\n",
            "  -0.69292805]\n",
            " ...\n",
            " [ 1.06478904  0.20084323  0.89267396 ...  0.01694621  3.06583565\n",
            "  -1.29952679]\n",
            " [ 1.51308238  2.3170559   1.67987211 ...  1.14728703 -0.16599653\n",
            "   0.82816016]\n",
            " [-0.73678981 -1.02636686 -0.74380549 ... -0.31826862 -0.40713129\n",
            "  -0.38233653]]\n"
          ]
        }
      ]
    },
    {
      "cell_type": "code",
      "source": [
        "X_test_standardized = scaler.transform(X_test)"
      ],
      "metadata": {
        "id": "6G5QH0vdA34h"
      },
      "execution_count": null,
      "outputs": []
    },
    {
      "cell_type": "code",
      "source": [
        "print(X_train_standardized.std())"
      ],
      "metadata": {
        "colab": {
          "base_uri": "https://localhost:8080/"
        },
        "id": "e-_ejOv8BGU0",
        "outputId": "643e1cdb-b62c-454b-ef50-2ce3c0e8684a"
      },
      "execution_count": null,
      "outputs": [
        {
          "output_type": "stream",
          "name": "stdout",
          "text": [
            "1.0\n"
          ]
        }
      ]
    },
    {
      "cell_type": "code",
      "source": [
        "print(X_test_standardized.std())"
      ],
      "metadata": {
        "colab": {
          "base_uri": "https://localhost:8080/"
        },
        "id": "qqjTeAf8BMY6",
        "outputId": "1e39e7b9-3a7f-4f81-e1b2-067d1de645db"
      },
      "execution_count": null,
      "outputs": [
        {
          "output_type": "stream",
          "name": "stdout",
          "text": [
            "0.8654541077212674\n"
          ]
        }
      ]
    },
    {
      "cell_type": "markdown",
      "source": [
        "# Label Encoding\n",
        "Label Encoding is a method of transforming categorical variables into numerical values. This is done by assigning a unique numerical value to each category in a categorical variable. The transformed variables can then be used as input to machine learning algorithms, which typically require numerical input data.\n",
        "\n",
        "For example, suppose we have a categorical variable \"color\" with three categories: red, green, and blue. Label encoding would transform these categories into numerical values, such as red=1, green=2, blue=3.\n",
        "\n",
        "Label encoding is a simple method, but it has some drawbacks. For example, it can introduce an arbitrary ordering of the categories that may not reflect any underlying relationship. Additionally, algorithms such as linear regression can assign different weights to the encoded categories, which can lead to biased results.\n",
        "\n",
        "To overcome these limitations, another encoding method called One-Hot Encoding is often used, which creates a separate binary column for each category and assigns a value of 1 or 0 to indicate the presence or absence of that category in a particular row. This method does not introduce any arbitrary ordering of the categories and is often used with algorithms that can handle sparse data, such as decision trees and neural networks."
      ],
      "metadata": {
        "id": "Qvkwi4rYBdtZ"
      }
    },
    {
      "cell_type": "code",
      "source": [
        " # importing the dependencies\n",
        " import pandas as pd\n",
        " from sklearn.preprocessing import LabelEncoder"
      ],
      "metadata": {
        "id": "IviqsgL7BTzT"
      },
      "execution_count": null,
      "outputs": []
    },
    {
      "cell_type": "markdown",
      "source": [
        "Label encoding of bread cancer dataset"
      ],
      "metadata": {
        "id": "EKJt1H3ZC8Kq"
      }
    },
    {
      "cell_type": "code",
      "source": [
        "# loading a data from csv file to pandas dataframe\n",
        "cancer_data = pd.read_csv('/content/breast_cancer_data.csv')"
      ],
      "metadata": {
        "id": "dzrzQUc-C6bJ"
      },
      "execution_count": null,
      "outputs": []
    },
    {
      "cell_type": "code",
      "source": [
        "cancer_data.head()"
      ],
      "metadata": {
        "id": "Sy6AI_rIDNFV",
        "outputId": "026340f9-d881-44cf-8ad0-3555bee5cf30",
        "colab": {
          "base_uri": "https://localhost:8080/",
          "height": 317
        }
      },
      "execution_count": null,
      "outputs": [
        {
          "output_type": "execute_result",
          "data": {
            "text/plain": [
              "         id diagnosis  radius_mean  texture_mean  perimeter_mean  area_mean  \\\n",
              "0    842302         M        17.99         10.38          122.80     1001.0   \n",
              "1    842517         M        20.57         17.77          132.90     1326.0   \n",
              "2  84300903         M        19.69         21.25          130.00     1203.0   \n",
              "3  84348301         M        11.42         20.38           77.58      386.1   \n",
              "4  84358402         M        20.29         14.34          135.10     1297.0   \n",
              "\n",
              "   smoothness_mean  compactness_mean  concavity_mean  concave points_mean  \\\n",
              "0          0.11840           0.27760          0.3001              0.14710   \n",
              "1          0.08474           0.07864          0.0869              0.07017   \n",
              "2          0.10960           0.15990          0.1974              0.12790   \n",
              "3          0.14250           0.28390          0.2414              0.10520   \n",
              "4          0.10030           0.13280          0.1980              0.10430   \n",
              "\n",
              "   ...  texture_worst  perimeter_worst  area_worst  smoothness_worst  \\\n",
              "0  ...          17.33           184.60      2019.0            0.1622   \n",
              "1  ...          23.41           158.80      1956.0            0.1238   \n",
              "2  ...          25.53           152.50      1709.0            0.1444   \n",
              "3  ...          26.50            98.87       567.7            0.2098   \n",
              "4  ...          16.67           152.20      1575.0            0.1374   \n",
              "\n",
              "   compactness_worst  concavity_worst  concave points_worst  symmetry_worst  \\\n",
              "0             0.6656           0.7119                0.2654          0.4601   \n",
              "1             0.1866           0.2416                0.1860          0.2750   \n",
              "2             0.4245           0.4504                0.2430          0.3613   \n",
              "3             0.8663           0.6869                0.2575          0.6638   \n",
              "4             0.2050           0.4000                0.1625          0.2364   \n",
              "\n",
              "   fractal_dimension_worst  Unnamed: 32  \n",
              "0                  0.11890          NaN  \n",
              "1                  0.08902          NaN  \n",
              "2                  0.08758          NaN  \n",
              "3                  0.17300          NaN  \n",
              "4                  0.07678          NaN  \n",
              "\n",
              "[5 rows x 33 columns]"
            ],
            "text/html": [
              "\n",
              "  <div id=\"df-0b70d024-8b20-4d6d-a1dc-6de676ccf82b\">\n",
              "    <div class=\"colab-df-container\">\n",
              "      <div>\n",
              "<style scoped>\n",
              "    .dataframe tbody tr th:only-of-type {\n",
              "        vertical-align: middle;\n",
              "    }\n",
              "\n",
              "    .dataframe tbody tr th {\n",
              "        vertical-align: top;\n",
              "    }\n",
              "\n",
              "    .dataframe thead th {\n",
              "        text-align: right;\n",
              "    }\n",
              "</style>\n",
              "<table border=\"1\" class=\"dataframe\">\n",
              "  <thead>\n",
              "    <tr style=\"text-align: right;\">\n",
              "      <th></th>\n",
              "      <th>id</th>\n",
              "      <th>diagnosis</th>\n",
              "      <th>radius_mean</th>\n",
              "      <th>texture_mean</th>\n",
              "      <th>perimeter_mean</th>\n",
              "      <th>area_mean</th>\n",
              "      <th>smoothness_mean</th>\n",
              "      <th>compactness_mean</th>\n",
              "      <th>concavity_mean</th>\n",
              "      <th>concave points_mean</th>\n",
              "      <th>...</th>\n",
              "      <th>texture_worst</th>\n",
              "      <th>perimeter_worst</th>\n",
              "      <th>area_worst</th>\n",
              "      <th>smoothness_worst</th>\n",
              "      <th>compactness_worst</th>\n",
              "      <th>concavity_worst</th>\n",
              "      <th>concave points_worst</th>\n",
              "      <th>symmetry_worst</th>\n",
              "      <th>fractal_dimension_worst</th>\n",
              "      <th>Unnamed: 32</th>\n",
              "    </tr>\n",
              "  </thead>\n",
              "  <tbody>\n",
              "    <tr>\n",
              "      <th>0</th>\n",
              "      <td>842302</td>\n",
              "      <td>M</td>\n",
              "      <td>17.99</td>\n",
              "      <td>10.38</td>\n",
              "      <td>122.80</td>\n",
              "      <td>1001.0</td>\n",
              "      <td>0.11840</td>\n",
              "      <td>0.27760</td>\n",
              "      <td>0.3001</td>\n",
              "      <td>0.14710</td>\n",
              "      <td>...</td>\n",
              "      <td>17.33</td>\n",
              "      <td>184.60</td>\n",
              "      <td>2019.0</td>\n",
              "      <td>0.1622</td>\n",
              "      <td>0.6656</td>\n",
              "      <td>0.7119</td>\n",
              "      <td>0.2654</td>\n",
              "      <td>0.4601</td>\n",
              "      <td>0.11890</td>\n",
              "      <td>NaN</td>\n",
              "    </tr>\n",
              "    <tr>\n",
              "      <th>1</th>\n",
              "      <td>842517</td>\n",
              "      <td>M</td>\n",
              "      <td>20.57</td>\n",
              "      <td>17.77</td>\n",
              "      <td>132.90</td>\n",
              "      <td>1326.0</td>\n",
              "      <td>0.08474</td>\n",
              "      <td>0.07864</td>\n",
              "      <td>0.0869</td>\n",
              "      <td>0.07017</td>\n",
              "      <td>...</td>\n",
              "      <td>23.41</td>\n",
              "      <td>158.80</td>\n",
              "      <td>1956.0</td>\n",
              "      <td>0.1238</td>\n",
              "      <td>0.1866</td>\n",
              "      <td>0.2416</td>\n",
              "      <td>0.1860</td>\n",
              "      <td>0.2750</td>\n",
              "      <td>0.08902</td>\n",
              "      <td>NaN</td>\n",
              "    </tr>\n",
              "    <tr>\n",
              "      <th>2</th>\n",
              "      <td>84300903</td>\n",
              "      <td>M</td>\n",
              "      <td>19.69</td>\n",
              "      <td>21.25</td>\n",
              "      <td>130.00</td>\n",
              "      <td>1203.0</td>\n",
              "      <td>0.10960</td>\n",
              "      <td>0.15990</td>\n",
              "      <td>0.1974</td>\n",
              "      <td>0.12790</td>\n",
              "      <td>...</td>\n",
              "      <td>25.53</td>\n",
              "      <td>152.50</td>\n",
              "      <td>1709.0</td>\n",
              "      <td>0.1444</td>\n",
              "      <td>0.4245</td>\n",
              "      <td>0.4504</td>\n",
              "      <td>0.2430</td>\n",
              "      <td>0.3613</td>\n",
              "      <td>0.08758</td>\n",
              "      <td>NaN</td>\n",
              "    </tr>\n",
              "    <tr>\n",
              "      <th>3</th>\n",
              "      <td>84348301</td>\n",
              "      <td>M</td>\n",
              "      <td>11.42</td>\n",
              "      <td>20.38</td>\n",
              "      <td>77.58</td>\n",
              "      <td>386.1</td>\n",
              "      <td>0.14250</td>\n",
              "      <td>0.28390</td>\n",
              "      <td>0.2414</td>\n",
              "      <td>0.10520</td>\n",
              "      <td>...</td>\n",
              "      <td>26.50</td>\n",
              "      <td>98.87</td>\n",
              "      <td>567.7</td>\n",
              "      <td>0.2098</td>\n",
              "      <td>0.8663</td>\n",
              "      <td>0.6869</td>\n",
              "      <td>0.2575</td>\n",
              "      <td>0.6638</td>\n",
              "      <td>0.17300</td>\n",
              "      <td>NaN</td>\n",
              "    </tr>\n",
              "    <tr>\n",
              "      <th>4</th>\n",
              "      <td>84358402</td>\n",
              "      <td>M</td>\n",
              "      <td>20.29</td>\n",
              "      <td>14.34</td>\n",
              "      <td>135.10</td>\n",
              "      <td>1297.0</td>\n",
              "      <td>0.10030</td>\n",
              "      <td>0.13280</td>\n",
              "      <td>0.1980</td>\n",
              "      <td>0.10430</td>\n",
              "      <td>...</td>\n",
              "      <td>16.67</td>\n",
              "      <td>152.20</td>\n",
              "      <td>1575.0</td>\n",
              "      <td>0.1374</td>\n",
              "      <td>0.2050</td>\n",
              "      <td>0.4000</td>\n",
              "      <td>0.1625</td>\n",
              "      <td>0.2364</td>\n",
              "      <td>0.07678</td>\n",
              "      <td>NaN</td>\n",
              "    </tr>\n",
              "  </tbody>\n",
              "</table>\n",
              "<p>5 rows × 33 columns</p>\n",
              "</div>\n",
              "      <button class=\"colab-df-convert\" onclick=\"convertToInteractive('df-0b70d024-8b20-4d6d-a1dc-6de676ccf82b')\"\n",
              "              title=\"Convert this dataframe to an interactive table.\"\n",
              "              style=\"display:none;\">\n",
              "        \n",
              "  <svg xmlns=\"http://www.w3.org/2000/svg\" height=\"24px\"viewBox=\"0 0 24 24\"\n",
              "       width=\"24px\">\n",
              "    <path d=\"M0 0h24v24H0V0z\" fill=\"none\"/>\n",
              "    <path d=\"M18.56 5.44l.94 2.06.94-2.06 2.06-.94-2.06-.94-.94-2.06-.94 2.06-2.06.94zm-11 1L8.5 8.5l.94-2.06 2.06-.94-2.06-.94L8.5 2.5l-.94 2.06-2.06.94zm10 10l.94 2.06.94-2.06 2.06-.94-2.06-.94-.94-2.06-.94 2.06-2.06.94z\"/><path d=\"M17.41 7.96l-1.37-1.37c-.4-.4-.92-.59-1.43-.59-.52 0-1.04.2-1.43.59L10.3 9.45l-7.72 7.72c-.78.78-.78 2.05 0 2.83L4 21.41c.39.39.9.59 1.41.59.51 0 1.02-.2 1.41-.59l7.78-7.78 2.81-2.81c.8-.78.8-2.07 0-2.86zM5.41 20L4 18.59l7.72-7.72 1.47 1.35L5.41 20z\"/>\n",
              "  </svg>\n",
              "      </button>\n",
              "      \n",
              "  <style>\n",
              "    .colab-df-container {\n",
              "      display:flex;\n",
              "      flex-wrap:wrap;\n",
              "      gap: 12px;\n",
              "    }\n",
              "\n",
              "    .colab-df-convert {\n",
              "      background-color: #E8F0FE;\n",
              "      border: none;\n",
              "      border-radius: 50%;\n",
              "      cursor: pointer;\n",
              "      display: none;\n",
              "      fill: #1967D2;\n",
              "      height: 32px;\n",
              "      padding: 0 0 0 0;\n",
              "      width: 32px;\n",
              "    }\n",
              "\n",
              "    .colab-df-convert:hover {\n",
              "      background-color: #E2EBFA;\n",
              "      box-shadow: 0px 1px 2px rgba(60, 64, 67, 0.3), 0px 1px 3px 1px rgba(60, 64, 67, 0.15);\n",
              "      fill: #174EA6;\n",
              "    }\n",
              "\n",
              "    [theme=dark] .colab-df-convert {\n",
              "      background-color: #3B4455;\n",
              "      fill: #D2E3FC;\n",
              "    }\n",
              "\n",
              "    [theme=dark] .colab-df-convert:hover {\n",
              "      background-color: #434B5C;\n",
              "      box-shadow: 0px 1px 3px 1px rgba(0, 0, 0, 0.15);\n",
              "      filter: drop-shadow(0px 1px 2px rgba(0, 0, 0, 0.3));\n",
              "      fill: #FFFFFF;\n",
              "    }\n",
              "  </style>\n",
              "\n",
              "      <script>\n",
              "        const buttonEl =\n",
              "          document.querySelector('#df-0b70d024-8b20-4d6d-a1dc-6de676ccf82b button.colab-df-convert');\n",
              "        buttonEl.style.display =\n",
              "          google.colab.kernel.accessAllowed ? 'block' : 'none';\n",
              "\n",
              "        async function convertToInteractive(key) {\n",
              "          const element = document.querySelector('#df-0b70d024-8b20-4d6d-a1dc-6de676ccf82b');\n",
              "          const dataTable =\n",
              "            await google.colab.kernel.invokeFunction('convertToInteractive',\n",
              "                                                     [key], {});\n",
              "          if (!dataTable) return;\n",
              "\n",
              "          const docLinkHtml = 'Like what you see? Visit the ' +\n",
              "            '<a target=\"_blank\" href=https://colab.research.google.com/notebooks/data_table.ipynb>data table notebook</a>'\n",
              "            + ' to learn more about interactive tables.';\n",
              "          element.innerHTML = '';\n",
              "          dataTable['output_type'] = 'display_data';\n",
              "          await google.colab.output.renderOutput(dataTable, element);\n",
              "          const docLink = document.createElement('div');\n",
              "          docLink.innerHTML = docLinkHtml;\n",
              "          element.appendChild(docLink);\n",
              "        }\n",
              "      </script>\n",
              "    </div>\n",
              "  </div>\n",
              "  "
            ]
          },
          "metadata": {},
          "execution_count": 43
        }
      ]
    },
    {
      "cell_type": "code",
      "source": [
        "cancer_data.shape"
      ],
      "metadata": {
        "id": "m_xaARa3DQPE",
        "outputId": "c5a93ace-a40c-47d6-d26e-f69f19ceb698",
        "colab": {
          "base_uri": "https://localhost:8080/"
        }
      },
      "execution_count": null,
      "outputs": [
        {
          "output_type": "execute_result",
          "data": {
            "text/plain": [
              "(569, 33)"
            ]
          },
          "metadata": {},
          "execution_count": 45
        }
      ]
    },
    {
      "cell_type": "code",
      "source": [
        "# finding the count of different labels\n",
        "cancer_data['diagnosis'].value_counts()"
      ],
      "metadata": {
        "id": "lOGpqH4fDWg4",
        "outputId": "6798e721-0d76-4944-db8a-a599d4c3d735",
        "colab": {
          "base_uri": "https://localhost:8080/"
        }
      },
      "execution_count": null,
      "outputs": [
        {
          "output_type": "execute_result",
          "data": {
            "text/plain": [
              "B    357\n",
              "M    212\n",
              "Name: diagnosis, dtype: int64"
            ]
          },
          "metadata": {},
          "execution_count": 48
        }
      ]
    },
    {
      "cell_type": "code",
      "source": [
        "# load the label encoder function\n",
        "label_encode = LabelEncoder()"
      ],
      "metadata": {
        "id": "MI0ib-kvDtxl"
      },
      "execution_count": null,
      "outputs": []
    },
    {
      "cell_type": "code",
      "source": [
        "labels = label_encode.fit_transform(cancer_data.diagnosis)"
      ],
      "metadata": {
        "id": "T_ESKPJ7D-RP"
      },
      "execution_count": null,
      "outputs": []
    },
    {
      "cell_type": "code",
      "source": [
        "## apending the label to the dataframe\n",
        "cancer_data['target']= labels"
      ],
      "metadata": {
        "id": "rVzRiVE2ENvZ"
      },
      "execution_count": null,
      "outputs": []
    },
    {
      "cell_type": "code",
      "source": [
        "cancer_data.head()"
      ],
      "metadata": {
        "id": "qX2ivL_NEVuk",
        "outputId": "d45d9e7e-bf57-4569-d81d-08b9b99501aa",
        "colab": {
          "base_uri": "https://localhost:8080/",
          "height": 317
        }
      },
      "execution_count": null,
      "outputs": [
        {
          "output_type": "execute_result",
          "data": {
            "text/plain": [
              "         id diagnosis  radius_mean  texture_mean  perimeter_mean  area_mean  \\\n",
              "0    842302         M        17.99         10.38          122.80     1001.0   \n",
              "1    842517         M        20.57         17.77          132.90     1326.0   \n",
              "2  84300903         M        19.69         21.25          130.00     1203.0   \n",
              "3  84348301         M        11.42         20.38           77.58      386.1   \n",
              "4  84358402         M        20.29         14.34          135.10     1297.0   \n",
              "\n",
              "   smoothness_mean  compactness_mean  concavity_mean  concave points_mean  \\\n",
              "0          0.11840           0.27760          0.3001              0.14710   \n",
              "1          0.08474           0.07864          0.0869              0.07017   \n",
              "2          0.10960           0.15990          0.1974              0.12790   \n",
              "3          0.14250           0.28390          0.2414              0.10520   \n",
              "4          0.10030           0.13280          0.1980              0.10430   \n",
              "\n",
              "   ...  perimeter_worst  area_worst  smoothness_worst  compactness_worst  \\\n",
              "0  ...           184.60      2019.0            0.1622             0.6656   \n",
              "1  ...           158.80      1956.0            0.1238             0.1866   \n",
              "2  ...           152.50      1709.0            0.1444             0.4245   \n",
              "3  ...            98.87       567.7            0.2098             0.8663   \n",
              "4  ...           152.20      1575.0            0.1374             0.2050   \n",
              "\n",
              "   concavity_worst  concave points_worst  symmetry_worst  \\\n",
              "0           0.7119                0.2654          0.4601   \n",
              "1           0.2416                0.1860          0.2750   \n",
              "2           0.4504                0.2430          0.3613   \n",
              "3           0.6869                0.2575          0.6638   \n",
              "4           0.4000                0.1625          0.2364   \n",
              "\n",
              "   fractal_dimension_worst  Unnamed: 32  target  \n",
              "0                  0.11890          NaN       1  \n",
              "1                  0.08902          NaN       1  \n",
              "2                  0.08758          NaN       1  \n",
              "3                  0.17300          NaN       1  \n",
              "4                  0.07678          NaN       1  \n",
              "\n",
              "[5 rows x 34 columns]"
            ],
            "text/html": [
              "\n",
              "  <div id=\"df-cc094947-681b-4653-848c-389b07c64827\">\n",
              "    <div class=\"colab-df-container\">\n",
              "      <div>\n",
              "<style scoped>\n",
              "    .dataframe tbody tr th:only-of-type {\n",
              "        vertical-align: middle;\n",
              "    }\n",
              "\n",
              "    .dataframe tbody tr th {\n",
              "        vertical-align: top;\n",
              "    }\n",
              "\n",
              "    .dataframe thead th {\n",
              "        text-align: right;\n",
              "    }\n",
              "</style>\n",
              "<table border=\"1\" class=\"dataframe\">\n",
              "  <thead>\n",
              "    <tr style=\"text-align: right;\">\n",
              "      <th></th>\n",
              "      <th>id</th>\n",
              "      <th>diagnosis</th>\n",
              "      <th>radius_mean</th>\n",
              "      <th>texture_mean</th>\n",
              "      <th>perimeter_mean</th>\n",
              "      <th>area_mean</th>\n",
              "      <th>smoothness_mean</th>\n",
              "      <th>compactness_mean</th>\n",
              "      <th>concavity_mean</th>\n",
              "      <th>concave points_mean</th>\n",
              "      <th>...</th>\n",
              "      <th>perimeter_worst</th>\n",
              "      <th>area_worst</th>\n",
              "      <th>smoothness_worst</th>\n",
              "      <th>compactness_worst</th>\n",
              "      <th>concavity_worst</th>\n",
              "      <th>concave points_worst</th>\n",
              "      <th>symmetry_worst</th>\n",
              "      <th>fractal_dimension_worst</th>\n",
              "      <th>Unnamed: 32</th>\n",
              "      <th>target</th>\n",
              "    </tr>\n",
              "  </thead>\n",
              "  <tbody>\n",
              "    <tr>\n",
              "      <th>0</th>\n",
              "      <td>842302</td>\n",
              "      <td>M</td>\n",
              "      <td>17.99</td>\n",
              "      <td>10.38</td>\n",
              "      <td>122.80</td>\n",
              "      <td>1001.0</td>\n",
              "      <td>0.11840</td>\n",
              "      <td>0.27760</td>\n",
              "      <td>0.3001</td>\n",
              "      <td>0.14710</td>\n",
              "      <td>...</td>\n",
              "      <td>184.60</td>\n",
              "      <td>2019.0</td>\n",
              "      <td>0.1622</td>\n",
              "      <td>0.6656</td>\n",
              "      <td>0.7119</td>\n",
              "      <td>0.2654</td>\n",
              "      <td>0.4601</td>\n",
              "      <td>0.11890</td>\n",
              "      <td>NaN</td>\n",
              "      <td>1</td>\n",
              "    </tr>\n",
              "    <tr>\n",
              "      <th>1</th>\n",
              "      <td>842517</td>\n",
              "      <td>M</td>\n",
              "      <td>20.57</td>\n",
              "      <td>17.77</td>\n",
              "      <td>132.90</td>\n",
              "      <td>1326.0</td>\n",
              "      <td>0.08474</td>\n",
              "      <td>0.07864</td>\n",
              "      <td>0.0869</td>\n",
              "      <td>0.07017</td>\n",
              "      <td>...</td>\n",
              "      <td>158.80</td>\n",
              "      <td>1956.0</td>\n",
              "      <td>0.1238</td>\n",
              "      <td>0.1866</td>\n",
              "      <td>0.2416</td>\n",
              "      <td>0.1860</td>\n",
              "      <td>0.2750</td>\n",
              "      <td>0.08902</td>\n",
              "      <td>NaN</td>\n",
              "      <td>1</td>\n",
              "    </tr>\n",
              "    <tr>\n",
              "      <th>2</th>\n",
              "      <td>84300903</td>\n",
              "      <td>M</td>\n",
              "      <td>19.69</td>\n",
              "      <td>21.25</td>\n",
              "      <td>130.00</td>\n",
              "      <td>1203.0</td>\n",
              "      <td>0.10960</td>\n",
              "      <td>0.15990</td>\n",
              "      <td>0.1974</td>\n",
              "      <td>0.12790</td>\n",
              "      <td>...</td>\n",
              "      <td>152.50</td>\n",
              "      <td>1709.0</td>\n",
              "      <td>0.1444</td>\n",
              "      <td>0.4245</td>\n",
              "      <td>0.4504</td>\n",
              "      <td>0.2430</td>\n",
              "      <td>0.3613</td>\n",
              "      <td>0.08758</td>\n",
              "      <td>NaN</td>\n",
              "      <td>1</td>\n",
              "    </tr>\n",
              "    <tr>\n",
              "      <th>3</th>\n",
              "      <td>84348301</td>\n",
              "      <td>M</td>\n",
              "      <td>11.42</td>\n",
              "      <td>20.38</td>\n",
              "      <td>77.58</td>\n",
              "      <td>386.1</td>\n",
              "      <td>0.14250</td>\n",
              "      <td>0.28390</td>\n",
              "      <td>0.2414</td>\n",
              "      <td>0.10520</td>\n",
              "      <td>...</td>\n",
              "      <td>98.87</td>\n",
              "      <td>567.7</td>\n",
              "      <td>0.2098</td>\n",
              "      <td>0.8663</td>\n",
              "      <td>0.6869</td>\n",
              "      <td>0.2575</td>\n",
              "      <td>0.6638</td>\n",
              "      <td>0.17300</td>\n",
              "      <td>NaN</td>\n",
              "      <td>1</td>\n",
              "    </tr>\n",
              "    <tr>\n",
              "      <th>4</th>\n",
              "      <td>84358402</td>\n",
              "      <td>M</td>\n",
              "      <td>20.29</td>\n",
              "      <td>14.34</td>\n",
              "      <td>135.10</td>\n",
              "      <td>1297.0</td>\n",
              "      <td>0.10030</td>\n",
              "      <td>0.13280</td>\n",
              "      <td>0.1980</td>\n",
              "      <td>0.10430</td>\n",
              "      <td>...</td>\n",
              "      <td>152.20</td>\n",
              "      <td>1575.0</td>\n",
              "      <td>0.1374</td>\n",
              "      <td>0.2050</td>\n",
              "      <td>0.4000</td>\n",
              "      <td>0.1625</td>\n",
              "      <td>0.2364</td>\n",
              "      <td>0.07678</td>\n",
              "      <td>NaN</td>\n",
              "      <td>1</td>\n",
              "    </tr>\n",
              "  </tbody>\n",
              "</table>\n",
              "<p>5 rows × 34 columns</p>\n",
              "</div>\n",
              "      <button class=\"colab-df-convert\" onclick=\"convertToInteractive('df-cc094947-681b-4653-848c-389b07c64827')\"\n",
              "              title=\"Convert this dataframe to an interactive table.\"\n",
              "              style=\"display:none;\">\n",
              "        \n",
              "  <svg xmlns=\"http://www.w3.org/2000/svg\" height=\"24px\"viewBox=\"0 0 24 24\"\n",
              "       width=\"24px\">\n",
              "    <path d=\"M0 0h24v24H0V0z\" fill=\"none\"/>\n",
              "    <path d=\"M18.56 5.44l.94 2.06.94-2.06 2.06-.94-2.06-.94-.94-2.06-.94 2.06-2.06.94zm-11 1L8.5 8.5l.94-2.06 2.06-.94-2.06-.94L8.5 2.5l-.94 2.06-2.06.94zm10 10l.94 2.06.94-2.06 2.06-.94-2.06-.94-.94-2.06-.94 2.06-2.06.94z\"/><path d=\"M17.41 7.96l-1.37-1.37c-.4-.4-.92-.59-1.43-.59-.52 0-1.04.2-1.43.59L10.3 9.45l-7.72 7.72c-.78.78-.78 2.05 0 2.83L4 21.41c.39.39.9.59 1.41.59.51 0 1.02-.2 1.41-.59l7.78-7.78 2.81-2.81c.8-.78.8-2.07 0-2.86zM5.41 20L4 18.59l7.72-7.72 1.47 1.35L5.41 20z\"/>\n",
              "  </svg>\n",
              "      </button>\n",
              "      \n",
              "  <style>\n",
              "    .colab-df-container {\n",
              "      display:flex;\n",
              "      flex-wrap:wrap;\n",
              "      gap: 12px;\n",
              "    }\n",
              "\n",
              "    .colab-df-convert {\n",
              "      background-color: #E8F0FE;\n",
              "      border: none;\n",
              "      border-radius: 50%;\n",
              "      cursor: pointer;\n",
              "      display: none;\n",
              "      fill: #1967D2;\n",
              "      height: 32px;\n",
              "      padding: 0 0 0 0;\n",
              "      width: 32px;\n",
              "    }\n",
              "\n",
              "    .colab-df-convert:hover {\n",
              "      background-color: #E2EBFA;\n",
              "      box-shadow: 0px 1px 2px rgba(60, 64, 67, 0.3), 0px 1px 3px 1px rgba(60, 64, 67, 0.15);\n",
              "      fill: #174EA6;\n",
              "    }\n",
              "\n",
              "    [theme=dark] .colab-df-convert {\n",
              "      background-color: #3B4455;\n",
              "      fill: #D2E3FC;\n",
              "    }\n",
              "\n",
              "    [theme=dark] .colab-df-convert:hover {\n",
              "      background-color: #434B5C;\n",
              "      box-shadow: 0px 1px 3px 1px rgba(0, 0, 0, 0.15);\n",
              "      filter: drop-shadow(0px 1px 2px rgba(0, 0, 0, 0.3));\n",
              "      fill: #FFFFFF;\n",
              "    }\n",
              "  </style>\n",
              "\n",
              "      <script>\n",
              "        const buttonEl =\n",
              "          document.querySelector('#df-cc094947-681b-4653-848c-389b07c64827 button.colab-df-convert');\n",
              "        buttonEl.style.display =\n",
              "          google.colab.kernel.accessAllowed ? 'block' : 'none';\n",
              "\n",
              "        async function convertToInteractive(key) {\n",
              "          const element = document.querySelector('#df-cc094947-681b-4653-848c-389b07c64827');\n",
              "          const dataTable =\n",
              "            await google.colab.kernel.invokeFunction('convertToInteractive',\n",
              "                                                     [key], {});\n",
              "          if (!dataTable) return;\n",
              "\n",
              "          const docLinkHtml = 'Like what you see? Visit the ' +\n",
              "            '<a target=\"_blank\" href=https://colab.research.google.com/notebooks/data_table.ipynb>data table notebook</a>'\n",
              "            + ' to learn more about interactive tables.';\n",
              "          element.innerHTML = '';\n",
              "          dataTable['output_type'] = 'display_data';\n",
              "          await google.colab.output.renderOutput(dataTable, element);\n",
              "          const docLink = document.createElement('div');\n",
              "          docLink.innerHTML = docLinkHtml;\n",
              "          element.appendChild(docLink);\n",
              "        }\n",
              "      </script>\n",
              "    </div>\n",
              "  </div>\n",
              "  "
            ]
          },
          "metadata": {},
          "execution_count": 52
        }
      ]
    },
    {
      "cell_type": "code",
      "source": [
        "cancer_data['target'].value_counts()"
      ],
      "metadata": {
        "id": "QEjyPh0PEdeK",
        "outputId": "fe532964-90e2-424a-b4e4-8c8e3373b4da",
        "colab": {
          "base_uri": "https://localhost:8080/"
        }
      },
      "execution_count": null,
      "outputs": [
        {
          "output_type": "execute_result",
          "data": {
            "text/plain": [
              "0    357\n",
              "1    212\n",
              "Name: target, dtype: int64"
            ]
          },
          "metadata": {},
          "execution_count": 54
        }
      ]
    },
    {
      "cell_type": "markdown",
      "source": [
        "Endcoing the iris data set"
      ],
      "metadata": {
        "id": "--Jy5PXyE796"
      }
    },
    {
      "cell_type": "code",
      "source": [
        "iris_data = pd.read_csv('/content/iris_data.csv')"
      ],
      "metadata": {
        "id": "Mo2Qy4h2Emas"
      },
      "execution_count": null,
      "outputs": []
    },
    {
      "cell_type": "code",
      "source": [
        "iris_data.head()"
      ],
      "metadata": {
        "id": "qVo5lRb0FKMl",
        "outputId": "672a04c9-f734-4af2-8dc5-65161c5e0ff2",
        "colab": {
          "base_uri": "https://localhost:8080/",
          "height": 250
        }
      },
      "execution_count": null,
      "outputs": [
        {
          "output_type": "execute_result",
          "data": {
            "text/plain": [
              "   Id  SepalLengthCm  SepalWidthCm  PetalLengthCm  PetalWidthCm      Species\n",
              "0   1            5.1           3.5            1.4           0.2  Iris-setosa\n",
              "1   2            4.9           3.0            1.4           0.2  Iris-setosa\n",
              "2   3            4.7           3.2            1.3           0.2  Iris-setosa\n",
              "3   4            4.6           3.1            1.5           0.2  Iris-setosa\n",
              "4   5            5.0           3.6            1.4           0.2  Iris-setosa"
            ],
            "text/html": [
              "\n",
              "  <div id=\"df-388d50cd-19d2-4839-8c55-2737c9d5687b\">\n",
              "    <div class=\"colab-df-container\">\n",
              "      <div>\n",
              "<style scoped>\n",
              "    .dataframe tbody tr th:only-of-type {\n",
              "        vertical-align: middle;\n",
              "    }\n",
              "\n",
              "    .dataframe tbody tr th {\n",
              "        vertical-align: top;\n",
              "    }\n",
              "\n",
              "    .dataframe thead th {\n",
              "        text-align: right;\n",
              "    }\n",
              "</style>\n",
              "<table border=\"1\" class=\"dataframe\">\n",
              "  <thead>\n",
              "    <tr style=\"text-align: right;\">\n",
              "      <th></th>\n",
              "      <th>Id</th>\n",
              "      <th>SepalLengthCm</th>\n",
              "      <th>SepalWidthCm</th>\n",
              "      <th>PetalLengthCm</th>\n",
              "      <th>PetalWidthCm</th>\n",
              "      <th>Species</th>\n",
              "    </tr>\n",
              "  </thead>\n",
              "  <tbody>\n",
              "    <tr>\n",
              "      <th>0</th>\n",
              "      <td>1</td>\n",
              "      <td>5.1</td>\n",
              "      <td>3.5</td>\n",
              "      <td>1.4</td>\n",
              "      <td>0.2</td>\n",
              "      <td>Iris-setosa</td>\n",
              "    </tr>\n",
              "    <tr>\n",
              "      <th>1</th>\n",
              "      <td>2</td>\n",
              "      <td>4.9</td>\n",
              "      <td>3.0</td>\n",
              "      <td>1.4</td>\n",
              "      <td>0.2</td>\n",
              "      <td>Iris-setosa</td>\n",
              "    </tr>\n",
              "    <tr>\n",
              "      <th>2</th>\n",
              "      <td>3</td>\n",
              "      <td>4.7</td>\n",
              "      <td>3.2</td>\n",
              "      <td>1.3</td>\n",
              "      <td>0.2</td>\n",
              "      <td>Iris-setosa</td>\n",
              "    </tr>\n",
              "    <tr>\n",
              "      <th>3</th>\n",
              "      <td>4</td>\n",
              "      <td>4.6</td>\n",
              "      <td>3.1</td>\n",
              "      <td>1.5</td>\n",
              "      <td>0.2</td>\n",
              "      <td>Iris-setosa</td>\n",
              "    </tr>\n",
              "    <tr>\n",
              "      <th>4</th>\n",
              "      <td>5</td>\n",
              "      <td>5.0</td>\n",
              "      <td>3.6</td>\n",
              "      <td>1.4</td>\n",
              "      <td>0.2</td>\n",
              "      <td>Iris-setosa</td>\n",
              "    </tr>\n",
              "  </tbody>\n",
              "</table>\n",
              "</div>\n",
              "      <button class=\"colab-df-convert\" onclick=\"convertToInteractive('df-388d50cd-19d2-4839-8c55-2737c9d5687b')\"\n",
              "              title=\"Convert this dataframe to an interactive table.\"\n",
              "              style=\"display:none;\">\n",
              "        \n",
              "  <svg xmlns=\"http://www.w3.org/2000/svg\" height=\"24px\"viewBox=\"0 0 24 24\"\n",
              "       width=\"24px\">\n",
              "    <path d=\"M0 0h24v24H0V0z\" fill=\"none\"/>\n",
              "    <path d=\"M18.56 5.44l.94 2.06.94-2.06 2.06-.94-2.06-.94-.94-2.06-.94 2.06-2.06.94zm-11 1L8.5 8.5l.94-2.06 2.06-.94-2.06-.94L8.5 2.5l-.94 2.06-2.06.94zm10 10l.94 2.06.94-2.06 2.06-.94-2.06-.94-.94-2.06-.94 2.06-2.06.94z\"/><path d=\"M17.41 7.96l-1.37-1.37c-.4-.4-.92-.59-1.43-.59-.52 0-1.04.2-1.43.59L10.3 9.45l-7.72 7.72c-.78.78-.78 2.05 0 2.83L4 21.41c.39.39.9.59 1.41.59.51 0 1.02-.2 1.41-.59l7.78-7.78 2.81-2.81c.8-.78.8-2.07 0-2.86zM5.41 20L4 18.59l7.72-7.72 1.47 1.35L5.41 20z\"/>\n",
              "  </svg>\n",
              "      </button>\n",
              "      \n",
              "  <style>\n",
              "    .colab-df-container {\n",
              "      display:flex;\n",
              "      flex-wrap:wrap;\n",
              "      gap: 12px;\n",
              "    }\n",
              "\n",
              "    .colab-df-convert {\n",
              "      background-color: #E8F0FE;\n",
              "      border: none;\n",
              "      border-radius: 50%;\n",
              "      cursor: pointer;\n",
              "      display: none;\n",
              "      fill: #1967D2;\n",
              "      height: 32px;\n",
              "      padding: 0 0 0 0;\n",
              "      width: 32px;\n",
              "    }\n",
              "\n",
              "    .colab-df-convert:hover {\n",
              "      background-color: #E2EBFA;\n",
              "      box-shadow: 0px 1px 2px rgba(60, 64, 67, 0.3), 0px 1px 3px 1px rgba(60, 64, 67, 0.15);\n",
              "      fill: #174EA6;\n",
              "    }\n",
              "\n",
              "    [theme=dark] .colab-df-convert {\n",
              "      background-color: #3B4455;\n",
              "      fill: #D2E3FC;\n",
              "    }\n",
              "\n",
              "    [theme=dark] .colab-df-convert:hover {\n",
              "      background-color: #434B5C;\n",
              "      box-shadow: 0px 1px 3px 1px rgba(0, 0, 0, 0.15);\n",
              "      filter: drop-shadow(0px 1px 2px rgba(0, 0, 0, 0.3));\n",
              "      fill: #FFFFFF;\n",
              "    }\n",
              "  </style>\n",
              "\n",
              "      <script>\n",
              "        const buttonEl =\n",
              "          document.querySelector('#df-388d50cd-19d2-4839-8c55-2737c9d5687b button.colab-df-convert');\n",
              "        buttonEl.style.display =\n",
              "          google.colab.kernel.accessAllowed ? 'block' : 'none';\n",
              "\n",
              "        async function convertToInteractive(key) {\n",
              "          const element = document.querySelector('#df-388d50cd-19d2-4839-8c55-2737c9d5687b');\n",
              "          const dataTable =\n",
              "            await google.colab.kernel.invokeFunction('convertToInteractive',\n",
              "                                                     [key], {});\n",
              "          if (!dataTable) return;\n",
              "\n",
              "          const docLinkHtml = 'Like what you see? Visit the ' +\n",
              "            '<a target=\"_blank\" href=https://colab.research.google.com/notebooks/data_table.ipynb>data table notebook</a>'\n",
              "            + ' to learn more about interactive tables.';\n",
              "          element.innerHTML = '';\n",
              "          dataTable['output_type'] = 'display_data';\n",
              "          await google.colab.output.renderOutput(dataTable, element);\n",
              "          const docLink = document.createElement('div');\n",
              "          docLink.innerHTML = docLinkHtml;\n",
              "          element.appendChild(docLink);\n",
              "        }\n",
              "      </script>\n",
              "    </div>\n",
              "  </div>\n",
              "  "
            ]
          },
          "metadata": {},
          "execution_count": 56
        }
      ]
    },
    {
      "cell_type": "code",
      "source": [
        "iris_data['Species'].value_counts()"
      ],
      "metadata": {
        "id": "XCjjhPwDFPJW",
        "outputId": "e6c8a3f8-5d27-4566-f056-35a482e7a7e7",
        "colab": {
          "base_uri": "https://localhost:8080/"
        }
      },
      "execution_count": null,
      "outputs": [
        {
          "output_type": "execute_result",
          "data": {
            "text/plain": [
              "Iris-setosa        50\n",
              "Iris-versicolor    50\n",
              "Iris-virginica     50\n",
              "Name: Species, dtype: int64"
            ]
          },
          "metadata": {},
          "execution_count": 58
        }
      ]
    },
    {
      "cell_type": "code",
      "source": [
        "# loadint the label encoder\n",
        "label_encoder_1= LabelEncoder()"
      ],
      "metadata": {
        "id": "27DPGdmeFW3W"
      },
      "execution_count": null,
      "outputs": []
    },
    {
      "cell_type": "code",
      "source": [
        "iris_labels = label_encoder_1.fit_transform(iris_data.Species )"
      ],
      "metadata": {
        "id": "z4xIM1WmFkjw"
      },
      "execution_count": null,
      "outputs": []
    },
    {
      "cell_type": "code",
      "source": [
        "iris_data['target']= iris_labels"
      ],
      "metadata": {
        "id": "FSykfMJ2Fyid"
      },
      "execution_count": null,
      "outputs": []
    },
    {
      "cell_type": "code",
      "source": [
        "iris_data.head()"
      ],
      "metadata": {
        "id": "ql3FsN-OF795",
        "outputId": "65b55349-5764-4947-de92-2d0bdb0035d0",
        "colab": {
          "base_uri": "https://localhost:8080/",
          "height": 357
        }
      },
      "execution_count": null,
      "outputs": [
        {
          "output_type": "execute_result",
          "data": {
            "text/plain": [
              "   Id  SepalLengthCm  SepalWidthCm  PetalLengthCm  PetalWidthCm      Species  \\\n",
              "0   1            5.1           3.5            1.4           0.2  Iris-setosa   \n",
              "1   2            4.9           3.0            1.4           0.2  Iris-setosa   \n",
              "2   3            4.7           3.2            1.3           0.2  Iris-setosa   \n",
              "3   4            4.6           3.1            1.5           0.2  Iris-setosa   \n",
              "4   5            5.0           3.6            1.4           0.2  Iris-setosa   \n",
              "\n",
              "   target  \n",
              "0       0  \n",
              "1       0  \n",
              "2       0  \n",
              "3       0  \n",
              "4       0  "
            ],
            "text/html": [
              "\n",
              "  <div id=\"df-d0422258-2cdb-434d-95a9-51733df05999\">\n",
              "    <div class=\"colab-df-container\">\n",
              "      <div>\n",
              "<style scoped>\n",
              "    .dataframe tbody tr th:only-of-type {\n",
              "        vertical-align: middle;\n",
              "    }\n",
              "\n",
              "    .dataframe tbody tr th {\n",
              "        vertical-align: top;\n",
              "    }\n",
              "\n",
              "    .dataframe thead th {\n",
              "        text-align: right;\n",
              "    }\n",
              "</style>\n",
              "<table border=\"1\" class=\"dataframe\">\n",
              "  <thead>\n",
              "    <tr style=\"text-align: right;\">\n",
              "      <th></th>\n",
              "      <th>Id</th>\n",
              "      <th>SepalLengthCm</th>\n",
              "      <th>SepalWidthCm</th>\n",
              "      <th>PetalLengthCm</th>\n",
              "      <th>PetalWidthCm</th>\n",
              "      <th>Species</th>\n",
              "      <th>target</th>\n",
              "    </tr>\n",
              "  </thead>\n",
              "  <tbody>\n",
              "    <tr>\n",
              "      <th>0</th>\n",
              "      <td>1</td>\n",
              "      <td>5.1</td>\n",
              "      <td>3.5</td>\n",
              "      <td>1.4</td>\n",
              "      <td>0.2</td>\n",
              "      <td>Iris-setosa</td>\n",
              "      <td>0</td>\n",
              "    </tr>\n",
              "    <tr>\n",
              "      <th>1</th>\n",
              "      <td>2</td>\n",
              "      <td>4.9</td>\n",
              "      <td>3.0</td>\n",
              "      <td>1.4</td>\n",
              "      <td>0.2</td>\n",
              "      <td>Iris-setosa</td>\n",
              "      <td>0</td>\n",
              "    </tr>\n",
              "    <tr>\n",
              "      <th>2</th>\n",
              "      <td>3</td>\n",
              "      <td>4.7</td>\n",
              "      <td>3.2</td>\n",
              "      <td>1.3</td>\n",
              "      <td>0.2</td>\n",
              "      <td>Iris-setosa</td>\n",
              "      <td>0</td>\n",
              "    </tr>\n",
              "    <tr>\n",
              "      <th>3</th>\n",
              "      <td>4</td>\n",
              "      <td>4.6</td>\n",
              "      <td>3.1</td>\n",
              "      <td>1.5</td>\n",
              "      <td>0.2</td>\n",
              "      <td>Iris-setosa</td>\n",
              "      <td>0</td>\n",
              "    </tr>\n",
              "    <tr>\n",
              "      <th>4</th>\n",
              "      <td>5</td>\n",
              "      <td>5.0</td>\n",
              "      <td>3.6</td>\n",
              "      <td>1.4</td>\n",
              "      <td>0.2</td>\n",
              "      <td>Iris-setosa</td>\n",
              "      <td>0</td>\n",
              "    </tr>\n",
              "  </tbody>\n",
              "</table>\n",
              "</div>\n",
              "      <button class=\"colab-df-convert\" onclick=\"convertToInteractive('df-d0422258-2cdb-434d-95a9-51733df05999')\"\n",
              "              title=\"Convert this dataframe to an interactive table.\"\n",
              "              style=\"display:none;\">\n",
              "        \n",
              "  <svg xmlns=\"http://www.w3.org/2000/svg\" height=\"24px\"viewBox=\"0 0 24 24\"\n",
              "       width=\"24px\">\n",
              "    <path d=\"M0 0h24v24H0V0z\" fill=\"none\"/>\n",
              "    <path d=\"M18.56 5.44l.94 2.06.94-2.06 2.06-.94-2.06-.94-.94-2.06-.94 2.06-2.06.94zm-11 1L8.5 8.5l.94-2.06 2.06-.94-2.06-.94L8.5 2.5l-.94 2.06-2.06.94zm10 10l.94 2.06.94-2.06 2.06-.94-2.06-.94-.94-2.06-.94 2.06-2.06.94z\"/><path d=\"M17.41 7.96l-1.37-1.37c-.4-.4-.92-.59-1.43-.59-.52 0-1.04.2-1.43.59L10.3 9.45l-7.72 7.72c-.78.78-.78 2.05 0 2.83L4 21.41c.39.39.9.59 1.41.59.51 0 1.02-.2 1.41-.59l7.78-7.78 2.81-2.81c.8-.78.8-2.07 0-2.86zM5.41 20L4 18.59l7.72-7.72 1.47 1.35L5.41 20z\"/>\n",
              "  </svg>\n",
              "      </button>\n",
              "      \n",
              "  <style>\n",
              "    .colab-df-container {\n",
              "      display:flex;\n",
              "      flex-wrap:wrap;\n",
              "      gap: 12px;\n",
              "    }\n",
              "\n",
              "    .colab-df-convert {\n",
              "      background-color: #E8F0FE;\n",
              "      border: none;\n",
              "      border-radius: 50%;\n",
              "      cursor: pointer;\n",
              "      display: none;\n",
              "      fill: #1967D2;\n",
              "      height: 32px;\n",
              "      padding: 0 0 0 0;\n",
              "      width: 32px;\n",
              "    }\n",
              "\n",
              "    .colab-df-convert:hover {\n",
              "      background-color: #E2EBFA;\n",
              "      box-shadow: 0px 1px 2px rgba(60, 64, 67, 0.3), 0px 1px 3px 1px rgba(60, 64, 67, 0.15);\n",
              "      fill: #174EA6;\n",
              "    }\n",
              "\n",
              "    [theme=dark] .colab-df-convert {\n",
              "      background-color: #3B4455;\n",
              "      fill: #D2E3FC;\n",
              "    }\n",
              "\n",
              "    [theme=dark] .colab-df-convert:hover {\n",
              "      background-color: #434B5C;\n",
              "      box-shadow: 0px 1px 3px 1px rgba(0, 0, 0, 0.15);\n",
              "      filter: drop-shadow(0px 1px 2px rgba(0, 0, 0, 0.3));\n",
              "      fill: #FFFFFF;\n",
              "    }\n",
              "  </style>\n",
              "\n",
              "      <script>\n",
              "        const buttonEl =\n",
              "          document.querySelector('#df-d0422258-2cdb-434d-95a9-51733df05999 button.colab-df-convert');\n",
              "        buttonEl.style.display =\n",
              "          google.colab.kernel.accessAllowed ? 'block' : 'none';\n",
              "\n",
              "        async function convertToInteractive(key) {\n",
              "          const element = document.querySelector('#df-d0422258-2cdb-434d-95a9-51733df05999');\n",
              "          const dataTable =\n",
              "            await google.colab.kernel.invokeFunction('convertToInteractive',\n",
              "                                                     [key], {});\n",
              "          if (!dataTable) return;\n",
              "\n",
              "          const docLinkHtml = 'Like what you see? Visit the ' +\n",
              "            '<a target=\"_blank\" href=https://colab.research.google.com/notebooks/data_table.ipynb>data table notebook</a>'\n",
              "            + ' to learn more about interactive tables.';\n",
              "          element.innerHTML = '';\n",
              "          dataTable['output_type'] = 'display_data';\n",
              "          await google.colab.output.renderOutput(dataTable, element);\n",
              "          const docLink = document.createElement('div');\n",
              "          docLink.innerHTML = docLinkHtml;\n",
              "          element.appendChild(docLink);\n",
              "        }\n",
              "      </script>\n",
              "    </div>\n",
              "  </div>\n",
              "  "
            ]
          },
          "metadata": {},
          "execution_count": 64
        }
      ]
    },
    {
      "cell_type": "code",
      "source": [
        "iris_data['target'].value_counts()"
      ],
      "metadata": {
        "id": "mHsk_3AyGCXF",
        "outputId": "5abfdc12-2335-4df5-9bdb-8607106fcc70",
        "colab": {
          "base_uri": "https://localhost:8080/"
        }
      },
      "execution_count": null,
      "outputs": [
        {
          "output_type": "execute_result",
          "data": {
            "text/plain": [
              "0    50\n",
              "1    50\n",
              "2    50\n",
              "Name: target, dtype: int64"
            ]
          },
          "metadata": {},
          "execution_count": 65
        }
      ]
    },
    {
      "cell_type": "markdown",
      "source": [
        "# Train Test split in Machine learning\n",
        "Splitting a dataset into a training set and a testing set is a common practice in machine learning. The main reason is to evaluate the performance of a model. The training set is used to train the model, while the testing set is used to evaluate the model's performance on unseen data.\n",
        "\n",
        "By evaluating the model on a separate dataset, we can get a more accurate measure of its generalization ability. If we evaluate the model on the same data that was used to train it, then we run the risk of overfitting, which occurs when a model becomes too specialized to the training data and cannot generalize well to new, unseen data.\n",
        "\n",
        "Additionally, splitting the dataset into training and testing sets helps us determine if the model is underfitting or overfitting the data. If the model is underfitting, it means that the model is too simple and cannot capture the underlying patterns in the data. If the model is overfitting, it means that the model is too complex and is modeling the noise in the data rather than the underlying patterns.\n",
        "\n",
        "In conclusion, splitting the dataset into training and testing sets is an essential step in the machine learning process as it allows us to evaluate the performance of the model and avoid overfitting."
      ],
      "metadata": {
        "id": "zKfQcv-rGSht"
      }
    },
    {
      "cell_type": "markdown",
      "source": [
        "![Screenshot (364).png](data:image/png;base64,iVBORw0KGgoAAAANSUhEUgAAA7EAAAIYCAYAAAC7R2vLAAAAAXNSR0IArs4c6QAAAARnQU1BAACxjwv8YQUAAAAJcEhZcwAADsMAAA7DAcdvqGQAAP+lSURBVHhe7J0FYB1V+vafm2vxpPEmTZu6u3sLFFuK68LCsiyswsIKy3/3211WsUUWd9dSCrRIhRoVKHV3jTRJ454ryfc+ZzLNbUgLRRt4f+3JzJ05c+acc2fe+z5zZBxjxoxphLBs2TIuFEVRFEVRFEVRFOWEJaxpqSiKoiiKoiiKoignPCpiFUVRFEVRFEVRlDaDilhFURRFURRFURSlzaAiVlEURVEURVEURWkzqIhVFEVRFEVRFEVR2gwqYhVFURRFURRFUZQ2g4pYRVEURVEURVEUpc2gIlZRFEVRFEVRFEVpM6iIVRRFUZRvgcbjDIqiKIqiWKiIVRRFUZRvGIrSoITA5wyMq0JWURRFUSxUxCqKoijKt4CKUkVRFEX5YqiIVRRFURRFURRFUdoMKmIVRVEURVEURVGUNoOKWEVRFEX5hnFIcLYS9Ef586AdsRVFUb7v6O+loihKG4cu/WeFz+b4j/gsWqb41aR6nHyrJz82FLKthROPpso7XI9fsEKPcsjxpdQY8q85J8eXhqIoitLWURGrKIrShmmQ0NpstgFx6wOyl8Fy948FU2HgHLgM9mc7fNbxLWUE1xvkH/PQnCem9NVinefTwc6PrDtC8hWy+m3DrLQ2OzG3fT5aK/PXgZ3T0PS5znN+EexjrWBfI8dOrfmY5muq+fpm4PbW+TJ5VRRFUU5UVMQqiqK0OY4UAtbn1raRz2jfawyNx58EO9jHHePYY9JoUnGFhE/94NjZtkMIrZXkiyFH20L2ixblayK0XFy3P4fJmrNFsL+RZloWJjSFo8MY9qOK0MB6Pjo8uxzpkFgMpPF4K7PpeDkTH6q0fl7mzorz6fDZZTs2X/Z4RVEU5UTiUz6FoiiKcqIT6uxz3Q4kdJ1C4xhiw0ST/RQkdjh8TMtwLFqPE3p06zGODktmt07apfli8GhJTQRU09qXTO+rhXlpDlbOrHpqlKUdWqs7bqHctY61rwY7WCm1Tsu4dmgd6zxH5oDn/XSOPhvrLPwblOMZGiQ0l6FRgtWuauWJ+7nNDscul6IoivL9wTFmzBjzm7Bs2TKzQVEURTnRsVx8Cgs6+n5Zc4qwaGovMwRlzWn2W5KD68ekkTJBpImD8exw/DQ22mk055Iwb596atqaImk6rd3FlFHcElp/4sq9n06ExzIh1kHA7zf5CQuTGpJg7bFahr9YCY8Oy25j10FrMB5rO+gIO1xG5oz5DWvKVWh57XUr983wOLZm2vAz03WYf62XkXGs+jkSO35LGL8u2IBdu/Zgx46d8Hg86NmzO7I6ZcJzjDLa2NdDo1xf9rXF69W+Lgi3sozMexh8qPEHsH7dVhTkFyMxKRb9B/RBTFSUxLCuYkv2HgnrrfVrnHEZrCMVRVGU7wYqYhVFUdoctvShCHKgsq4ONTV1aGhwiGgLwON1IzY2Cm6X7fQ3u+8UC4FAAFW1NXKMX1JxgdouPMKDqMhwERpWG1ttdR18sl82IDEx1oiRsLDPJwJ8Pj8qK6pREwyKYLKOoX6hiIkMj0C0x4lwt+RNRJzZ3VKTyDZusrubttoV2cBYzQdzzaoZikQHPly6HO+9Nxtutwenn346Ro8eYU7HcGSaLTNgw5jHplmkNYv3zwPzeaiyAtU1NebYpOQkeJxukxMGpuRvCKKqssp8X40iJNMTEuFxhTWfU+JUi0ivrq5FIGiNfk5oFw+XfKE8nuK/ZY543tZat1kXjB8K45p8lpTjvvsewquvvo4OHTLxh5tvxA9OP+lT8VuDeWXwSxkqa6pQ62M+w4yAdzRa34CpNxG50dFuxES6sWPPAfzpln9g48ZdGD9+GP75r78gLSVBYh4pYkPLdjQRa10Ldo1+en9LGKP1a01RFEU5kVARqyiK0uZokiCyqKitx7S3Z+L5519FeXm1CAYHOnfphN/85hcYM2LQpxxyHrl7zz48/vTTWPbROtT7ZFujH+efOxW//90v4REvPv9QIR544GEsW/QxEhPa4c47/oNePTuL6Di2UKNgYBfRD5d8hAcefBz78wvhl2O4p6GhQYR1HPr1G4DLzv0BRg7pj6jwprY/E6cFchrKaQpZtkBaZw2Nx3Vu5VmtddO6KYGdUbNzD+Lvt96OufMWw+ly46fX/gS3/PE3h1snjxR4Vh5bYo1EDcU6j31mc3bmXerEJ2Jy1+59qKyqRnx8PLI6doDX47LiSLCxP1Mc3v3Io3j19TdkLQx//OMfcMZpp5iy2vtXr9uMe+77H/bv24cIrxeP/e9+9OvVGWFyzjA5J1s0l61YhX/++04UHjqESZPG4/9u+S1S4uLN8S75y9xa5bT+Mm1bxNp7CEvaXM/Eqnumsz+7ADf+4S9YtvwTDBo4AH//2x8xamhfeE3k0NLZcIf1vXBvUL77QyWlePDxJzDng0Xw1Vvfapg51CEiPQi304GLLj4HV//0UqxauRl/vOWfKC3zYepZk3Dbf/4fosMpUe3vo8Hk1YLnsvZQyFq54V+rJLwm7OvD3ka4pXl7M3Y9WFip2Vjt24qiKMqJQMtfaEVRFOWEgU40ZURLxJmWXdx7QITizLmLsXLrAWzaX4ztByswf9UWLF6zCWVBayZXwrhc332wCPc89RKenTEHq3YfxMbcEuyQYw6W1KGu3mqhPHCwAItXrsPG7EIU1TUg4A43uWg8hoDlGQIiewqrKvHO0o/w4Zbd2JFXjtxSH0ok3fxKP1ZvO4Dnp8/Gz0WgPC3LosqgVbpGk7r8F3HDSZjMREyUWGwnbikzJI6IbhgJZ8WyZqqlgKVk8UkIM+Lc4YxEu5Qu6D5gFAaOHm/iE6Zn0uRpmpYmC58+k6kzBr+kzcDz+Mx5LChsuL5t71787s9/xzmXXI2b/3aH1Gfl4Th2OlxaOWcacsz+PGzaV2C+s20HCuGTCCwvRVRZWT2mvzUHC5ZulLSLsWnXQWzLL0ON7As2ZbPgUDFef+s9LFm9BXvyK+CKToE3Mtacp8HUBs8klY86KSCXfsmtCEY5u1NyZI9ItUrA+mPLOQPLaV15DCVVNdhfVo1ydyQiMjogKT0dojllp8RikGMaG+0SNpea34pPzulzBLG3MB/zV6/F1txi7C2qQVllA6pqGlFb40C9X66vxkgkJXVC0B+JrduzUVotOYmMQ3pWF0SGe+QbpYi1apv5dkn6LllnffFRgaPBqhTrrKxv65rgViuew8QNa5CrQwplPSxgTOtbZzm5ZGgqkSxZD1adNH/jiqIoyomAilhFUZS2hqU5xON24FBxGXJFmDbAg+h2qXBGxYlscWFXdh7KquuMc87A6DU+HxYsXmpawxocXsQmpUj8SHjj4pCUkYGgePaMm5tfJKEEYSJaMjuJiIiK+RwuPN3/MAQkgd179qO6ph7tElJx/fU34fHHH8Odd92GKaeeBFe4Fzv35+L5GTOxPTfPSCzTn5ldi8OMzDCBQpQyi2KPgXLMmghIJInDI5+8stWaHCgocS3hZrWtUXRkde6Ev/7t73ju2Wdw33/vxPhRQ2RPc9VRqJh5rIjUoyOM57XKYJ3fatllfTBtbqOQYhyOP+Y2ClIKSh5xIP+QiNJclMvGmJQOcMe0M6lRDB2t7jzeSCm6CLgGF8rKq2Rp1T/PsnX7TixcvAz+RicawyJMKC0vg19ObOW/EbvlfAuWfgy/04VuffvgrHOmwutmvTGOU87tlfQi5XOklDVCPnskUL66muLwH4Uhy8Z/lHtO+ctg1YZPMrV9724UlZaZzCUmpyAmLtY6nt9XGNu0RSI6WnZetuSmSdvhwsFDpSJky+FzR2DQqNG4/Z478eRTj+GJJx+W5SN45NEH8IOzzpBTOLB1x25U1dYjOiYWXbv3MOdivTCw7Fa7q0eCdb1U14lIl01+KV2o+LTabnl9sMxN33mYbJO4zCllrT2JFFO0c2+tM/9cY1AURVFONNQ6K4qitDXobYszTqe8uKwSxSVVcIng7Nm3PxJS2yMQaERhSTnqxTuvEVecIpDO/+79OZg9bwEKCkvRoWNXpLbvIIopDG6vF+0z040eqZV4BSI4KqvqRWB50CGzI+Jios0pQyVK64ShsKAEB0RcBUXNpqak4aSJEzFqYEf84NSRuOJHFyM1PRnwhqNIBHZxVS2qJXMrNmzFk6/OwMyFy7C3pBKL1m7Gk6/PwLyPPkZxXa3JU7UUoKCyBotWrsULb76LR194A8+8/g7mLVmBYtkekHNbYlZES2MjsvMK8fGqtVi3dq2oFx+iRfOwDig+WR978wvw7qLlJp2Hn38d099dgE3bDohotAWTJZBZx4y/cuM2vPLW+3j8+dfw/OszsXjFGuQVlSNH8vvCu3Px8oxZyJXvIeiNRn5FLaa99S7emLcYhWWl5rytwe7VLpdXvi+gvl6klqhX/ihXiRBeImXfl50Hv2QmKF8M2x2rqqqlbDzSgfKaaixcshz7cgrgjorC6LGjMaBfJ5N3RskuKsKshYvx+Guv4/Fp0/Hiu+9hw74DqJYz1EpafhF27JRbXF2F2Ys/xFOvTsPyjZuxr7AI7y5ZipfenolNO3agps6Pfbl5qKurh9sTLt9pKiKjnGCP4E279uDlN2fi2Zdfw4qVq+FnZk0J7BKbCxV1Ph+yc/JFCNch6GtEx04dMXbsEAwb0gVjhnXB8CGZGDqoI+LjWcYq+e7yIZcwYmJi0LlL56bvwxKhFZLWqi1b8OJbb+O519/EC2/MwuKPV+JAcTHqpTx+OV+Frx4frVmDZ6e/hrfmz5O6KJYjrVxVB/xYsmoVnn1tGt6ftxDFpRUmbVJaU4t3ZNszr0zH+ws/RGlltRzzRWdiVhRFUb5OnJmZmbdy5ZprrjEbFEVRlBONZieaYzAbHFZ3z6q6ABYsW4UPl69FY5gX408+CXVBP/LyDiI6LgqnTJmIhOgIIyso3l578z3MfG8BHO4ojJ00GZW1NcjLzUZqchIuOOcMdM1IQk11NWbP/RAr12xGRFQ0zj5zCkYP7dHU7nlsqGGWfbIO781ZhIrqAIYPGozLLz4FMU0CMq+kAO/PX4jy4nLEJCbj7FNPQlJ8PB569HHc+fAT2JNbhN0HCvHQY8/htelvYc+BHIybNAHe6CgRdWtxz/2P43kRGG/Omos5Cz7CvPmLsFwEzPZde5HWoQMSU5KknFI/jWF4+bW38Z+7Hsac2bPRvUsnDO7fC36piNLqSqmDubjjnkfw8vR38dZ7izBz9jzMX7xc8r4G7vAodOnWzQjKOsnzrgN5+N/9T+LRJ17AGyJM35Fj5y9casaHhrk9yCstx5/++R+sWLMJDc4YCV7sFbG4eOEC5Gbvxvgxw5CcmGTqLrT+KIxWb9qOj1duFAELDB08CBPHDoVHzrsrOwePP/sK9h0sQVhElCkPx5VOHDsCIwb1glvKsXvvXjz5wmvYKfnL7NwFv/n1deicloCyimq8KoL6trvvx0uvzsCs9z8QsfYh5ixaJnW4GvlS9+ldskSIRsl14cDmnbvxj3/9Fy+8+haKqurx3tyFePqZF/DB3AXmIUS/gUMw8/35WLd+C8LDvTjnrDPQq1sWPlmxGv/893/x4gvT8PHHq9ApKwuD+veDi5N/HS4oW7OdKC2rknpbgHUbdsPrdOOsUyZj4si+iJDrhd2SeW3yGF4jHK/NLtLFpZXo3bsXLr34LESGU0g2YMOOnXjg0Wfw2JOv4o0Z7+Gd2Qswd/4yEfMfYeX6zYiMT0JmVgZyi0rw1PMv4b4HnsCK1RvRrUcP9OiaZVr9t4vw/se/7sAzUr/r1m/HwMGD0TmzvWlVX7FqnRlfPO31mcgvKBKhPQYJ8TGSNatFl0FRFEU5MaBvoyiKorQROLESnWm3hOrqKuzevRN1vlpEx0age7eO6NQhVSx7AypLy1Ccf0gkhCUSVq7djPdnL0KViMvxE07CyJHD4aurBWp9aJ+cgmQRk+ygWVddhz17D0iaAURHxyAtNRlBKmZOYMTQAjOxUUOjGVPKFuC9+7JRXlkDjzccnTt3gEv8/gbJAN3/LVu2orSi3PzypMTFoENSIupq67Fl515UB5zYtTcP06e/g/17DyJY70BWehY8DjfmzFuK2//7IN6bt0REWAX6DxmOM6eeJ+KtJw7kluDNtz/AU8++iuLyaimvB9WS9+37c1BYWQtXdCzikpPNOetEZU9/833cdtdDIujWipBOxQ8uOh+nnn0uGiNisGrrDjzw1DPYsHOXEVQ5hwpx34MPi8B7HXv25aJb97644MJLMfmUMxHmjUKN1EtKRkeMnXwqwhOk3h0eeER0nnTqybjskotw0fnnI1Xq9mh4vfwWrU7LDVJJHHLM72rpxyuwbZcIvshI9OnXB54or+S/ET5/vekCzbyt27hZBNk+OMLCMW70GPQW4V1WVYcnRIDecf+jWLVpF2JiEnHmGedi6tkXISa2vYjIPXjiqdelPpehSvJOkb4nOx/7ckvhDE/CslXbMGfhChSU1MIdGY+ktCzI14Nde3JRVxdAZEQksjp1xOZt+/G/h57C6rU7EBmdiiuuvA6nnHIG3FKeI70KS/TV1vuQk5uHhkBQxHMEOnXtbLr0NrikLBKFk4kxZoNcR9m5uaiWa9IbHi3XXns43ezyC6wWkXrrP+/ECy/NkDil6Nl3CKaefyn6Dx2BwpJqLP1oHV585W3sLyyDNyoarvBI1Mg1VFYZQGkVO6NDyuzHEhHfq9btgC8YgcraRlTWcOQwZ3luxDIR47mFxXBFxaD/4GFIEhHPfHE8rQpYRVGUEwsVsYqiKG0MtgzxXy1bUg/moa6+VgRLJLpkdUBmeoronSBqKiuRvT/XdI8tKqnAq6+/iY2bdiA2NkGE2IUID3ehpOiQUURpKalIiI01aZeWlEqa+UZwJCS2Q6qIWK8ZIEml8WlH3sxWHCa5kV+T2tpq7NufjYqqGkk/CpkdMiAaxAx53bpjLz744ENUFJcjUsTZyWNGIjUhFgflXIVF7HLrRmFhEVxOF665+sf425//jKsuv0JEtQ8vvjhNBNhWETQRuEy23Xvv3fjfPb/DH//4R3Tq3A31ficWLvpY0qkwUqOiuh77sg8i4A8iPiUZ6R06wC071ksaT4vYzckrwaSTThcx+1/8+7bf4dZ//wP9Bg9FwOnFvrwCZBceQpEInulvzcLMd9+X9Goxetx4/PVvf8UD9/0/3HHnP3HnXXfhggvOx6ShPfCzn/0Cce2SWBvo1a0L/nLL7/C/f/8WP77iQiTHJ5g8hWJ9e0B0VBRcLheczjD4RaBSwOYXFeO9ufOlLMXo3qMHBg8eCKdLKjAYREVllelOXFpdg3mLlqG0rBqdOnbBmaeehoQo4OOPP8ELr7yOvIISJKVm4I83/xH33n0r/nfv/8Oll/0QkfLdl9f4sXL1elTV+CwRe+CgCL16+RxEkdTf4EEj8Ps/3IJfXn89ho0chT1yDeXnFxu12bFDR5SUlOPBh5/Cx59sQFxcCi6/4kr84hc/lmsviZdBCPzgMK8Jypf63Lc/Rz6zRRlyLc7ATX+7C7/+839w/Z/+hf8+9LR8X3LNSfw9Eq+kvNo8BOko149H9HueXB/PvjQNi5avhqhrnHX2OfjvXXfirjtuxs03/xbpWZ1R6QM27diHtes3mvHNUVGRcjoPfIEwBBqtMbF5BYewaOnHIm7lYnVyrLAb1T5KWKtb/scr1pq6SErvhDGTJsEbYblI/NvyO1QURVG+XVTEKoqitDVMi2gjSsrKUHioyIw/TU5KRHpaEjJSExEVGYHqmjocLChCja8BH360CvMXfWSE4kmnnIR+fbsgP/cAysrLAZcbHTp2FEFldTveuXcvykUAh3ndSElJEBGbYlrCjkVjA0eNBkRUHTKi1O2KEHHrFEFchSVLtuLJZ2biL7fejQ+XrhM1EIWJw0fivFNPhtttdYutrKyRwxtMq+8NN1yHm278CX75i/MxaFBXfLh4OdZv2o6gpDdx0kT85Kor0DHRgQg548CB3dCpS0cRJG5UititqQ0YsVIp4u5gTgGzhnYJcWjfPhVVZQ146413sHvXAURGxKNzl66m2/Wr0+bj7rvvM63EPLg9uyWnpWJn9gG8O2cRKmsCaJ+Ziat+cgWGDe5gWqvT44FxQ7PQpX2UaenO3bMLVRUVItYbkZnWDhntrNmcWZ/8plqDoiguNh5hovADvnoRqKWmRXDxJ2uxYtUGREbHYorUUe8+veQckpIIseKyGsjXKoJ+O5av3owwEfWjR47A8CG9kFNUgxkiuPMKStEuNg6/uubHOOPU0aYrd7ScbED/LohuFyFF9Eteq+Gr94lwBg7sPyjXj4hqyfCE4cPwzz/9ETf98gJcecVUpKSFI7cwHzVVNXCHuVBX68eTT7yERQtWIiG+Pa744WW4+qpLERttjVk9sqz2vMciTPfloLCkQs7tEZFYhw/mL8MLL76J5159G0+8MgMLVq1DZUMjaiSB/fnlqPIF4QoPR+euHUH9vmrteixdvRFBEaWd+/TGD394AXp1ikKM7OvZJQld+vZA0O1BaX2jpF+FqAg3UhNj5cxh8BvxX2YE+4qVa7Bu/WY4XB44Jf26gB8VtVWokn2mW/r2A7IvBn2HjkLX3r1MKSys+01RFEU5cVARqyiK0tZoeiXNgX17USFC1Ol0oENGChLaRaN9ehI8EV5U1dRiT14BNu/eh1lzF+BgUZnpxjllymTERAHZcmzQ5xexFIeOImIj2XAlqVJwHCotQ0PQj7T0FHjDPewtfEwcZlZhlwjqUhwqLkWDw4Gyqirc9+gjuPaGG/Cfu+7DurWbkRyXgAvPPRs3/PJa9O6VJuk2YOfuPaioqoPHG4Uzzjgd50w9HUkx1ntcq2t8ImDXo7a+HnHx8Rg1ZoQIa3bBtSRFVU2Z6WIblAx6PBFwSj5Yhq3btqNcRCVVclaXLMTEe3EgP0eEygpTluqaGjz//LP4/U034o5//hOz356J+soKDOzfGz//6Y9FGHXGzk07sGXTLqmUCAwZPhrde3U/LGV4fp6HApYlP5SbjWBtLbyyMTM9DaKPmvY1z5vcLIKsVJhGfGyMed8rmydr6/w4WFiBd+Z8gDKpw+69emDi5DFS3nZwiyhjK3hVnYjdGj/enT0f+QdLkZaWhrOnnmq+z127d2LpkhXyXUShc+fuGDtuDGJ5mJyHeamrroC/zgeXK1zq2mNaK+v9QRzIyUWdiOio6AhcdP6ZGDowDXIpIKKpkvPzclBZWS0JuZB9IBcbN2yCPxA03ZzPO0++KzZAW1GlpOwYHVpOSFw/du/bj6pakZHuMIySfP32D7/F72/+HW655Wb89da/4MfXXI2UjPbIF6F7oLDQtDZHiTJOTU409bxp02YUFZVyOmeMGDkMnbu0h1viSDXD2ehHIFArp/PLdxuQ8jnhlrxGRESYrsoNDQ7kF5Rhf0EFPly6AiVlVejdrz8SU1NRK+UuKi3FgbxSLF66DIXF5VLfaZgoeUyWa5BVYGGXSVEURTlR4O+DoiiK0pYQAcIxlLm5B1FZUSVazY3MDqmIEuWRnBiHGDaNid+9O+cgps+ajQ9XrIZPPk86aTyGDullXu2ZfzAfQREx7VNTkJGeasYo1oreys49hBqfRBChk94hXXQDZZokd0wlyxY3672lbB0OiDjlOM7ohFjEJMSZiXUuPv883HHrX/HPP96E0UOyTNfTWhGTO3btgV9US1JyCiZPGIfkdk4juij96mqrsHfvXtSKAIqKikZ6enuzj/DHKzf7gJmYyul0iqCT8osS90m9bN+5E/UinqJjYtCnT2/T1TmvMB+5BQVwurxGEGeyxVXy1rdnd1x0zlTc9rc/49H/3YFLzzsZkS4RPtn5Io7CRAh50LVHT6QmeQ+fm+KG52eg2M7dvx+N9T5Es/WwYwe4ZAfnNbbmS7bexWoJISvweIb4uDgR3x7zffIdsWs2bMHKtRuByBiMHjMKvbolw+0MyvcrCUqdFpeVS9n2YuHij2VbFEaPGCHfZx+Tap6IzdLSCjl3BDp06ISU5HaytVlolxYVIVjvh0PO065dOyNk8/LyUFhQJKcPQ8fMdEwYPQzsQcu88bj6qnrs2b4DdSJ+Wf8TJ05AXJxcW45GHDqUj+qqkpBh0k1je5s+WTSaWY3ZxbzO50eMHDvllIm44Rfn4g8/uwC/vfYC3HjVeTh93GCpc5gHMgWFRXDI95nRPk0Ecjyq6xrkGtiHqqoa+e7kmpRrIEKucycrX6gor0JBfr6cPoCISI/pOcD8J7RLRHx8O8mBfAtBJ9aslbpdvREpaRk4/6ILzLXtCwSQm1+AdRu3YPlHK0Wnu831Mnxwf9PizjpgWvZfRVEU5cSh6WdAURRFaTuEwd8Qhn37RMRW1sIrzn3Pbl0QJYoqIToKGclJoq68WL9xu4jYeagoqUKPPn1xxmknIS5GxGZ+DvYd4EQ7AaSL2MnKTDVirLyyDgdyC8y7SJ3ecHH0M+BqmnXHIarTTOIk2MtQahrqsZstw9VVaBClNHHKODz5zMN4/fUX8MzTD+Off74BF5w2Al0SHPDK4TxfQeFB7M/OMYKV4rtHx0zTCkjRRRHR4Pebiab41lKvO1wEndMINv5w1fjrsXrFKuTn5IkgbsAQER6pyfEI1tVi9549qBfRFOH1opOIVb9o8lw5V7AxDN6IGFxx5dV4882X8NaM6XjqiUfw19/fhB+dPwlDusRDJBoCIrzKSsoRkDr2RkSJGIo3+WU+eX6mzUmI+IHdjXOzc+GTYzwuF7p17oRwySBHYVoC9ugCKJxNtlTYUr7iihrMWbgU+UXlyOraDSdPmmTqomNKAiI4oFfSKpc4S5atQkFBmYjqNJx52ilIlAwHg/WoLC9BwO+TEBCN6TQPCez23wMFh7Bh9Xo4RClHimge0K8vYqNdyM3JleOq4HG70KdXdyTEhBvhxsC8lx8qMWK+MdiI9LQUnHP2GejVq4sk7EP2/r1YtWql1AXfWMuaYUduW8KyTHwHbQOKikqQfeCgmdwrKsKJLh2TzffLc7BO+T3HSyYjgg2oyD+EorxCuOUCzEhMMCK2qrICtbX1ouHD4HR6RPR7zfE8W5UPWLt+p6RfIKd0ixBvj+5dupq0I9yR5pppMJONHZDv+32UldZg2NARGDdupAhevraoESUV1Zi3YCkOSp0mJKXg5JMmon2yp6kObFj/R/8eFUVRlG+eZhutKIqitAmoIdm9ku/ebAiGIUUETafMTNMFtF14BNqLIPS4wuCrrEbtwVLEtEvBjy65RIRuB9MTmWKzpKbejDvskJmOdu2ijdOem5eDg4UFIj2cSExuj46du5qWOYoNyhNO4sQuwEE5D8WRjZEwoioOZOehprZOdJnTjDnt0S0FmWkRSEsIQ6woMi9PIrhFdPKlKYUlpSgT0esL+uV8iWYyHksusAXTrMDhcsIpiqy+rgbl5WWmCylflbJk2SeYN3exGafZISMdZ5wxBfFRQHFRkZQjF3X19YiJjUWPHt3ZC1VET1DKYI3RrCyvZEMzMkVQZ7RzIUqEYGl5HUqqGUviNgYRDGuES8RjQARiwaH8w+/azSsoxiuvTseq1etMd9W8gnwUlRWh0elAWJgLCfGJpgxO/jUqkiXhlk/jElEeywm1wsLMjNCr1myQ8zsxevhw9O/R1ZQ11huOuEhZawiYlu4Pl3yEahH2Awb0w4D+/UzKbEl1SyEdDpcIWordcjNGmGUprvFh+sy5WLx0pZlxuk+fPhg9aqR5ZVL2/gMoLS41Lfk9enYDe4WzjHZui0tLsT87W9JtQHp6Crp1y8KECaMkzxFS73VY8uFq5OcVyzG25DuynLxO2eJfWlIBp8OJpNg4ZMl3xevJK0exfB5ZNjb6zQRQO+W6rJZ0PV4vMrM6IiYuTL4nt1zLbikjjwpDSUmZef8x3x28escuvDLzPSNOo2PjMXHcaHRIjjEiNz4mEjFR4QjKhbl+3WYsW/oR2sl3M2nyZGRkRCEqJsp0W161aiMWLlwm16wbo8aMxNgxIxAtp2I9sFRNl6yiKIpygqEiVlEU5YSmFQEkHnZuTgEKikUcuMOR2bETEtrFmV2R4V6kJoiIdUgkP6WXE8MHD8LkcSMRK6qhsaEBm7duRakIXJfEzercERGcJUk4ICL2kAgXCr0wpwdLln6M19//ENNmL8Tr783HewuWoFwEFPfTybdgh00RmSImDxzgJEFAUkIiOmdkIEp+YdiayNY2lygaClcTzLoDBUUlpotsgwi09PapiIxkTEtAsHNqdEw0OotwYktfwcGDePmlV/Him/PxwKPP4z+334tNm3cgJjoOU886A8OH9TGtc3tycnFIBD6FdHr7NKQkRyFcqrCj1FFMTAyqq6owd85sPPTgi3jr/U8wbcYCPPrki7jp5pvxwssvoy4QRFREOLqyRdXtRNDnw9zZ8/DY02/imZdm4c+3/gePPv0cympqm1oD683YSjao1tT68Oab7+K5598wreABvt+VBWqC32RooEALjxA56Q4TgV6OnP3Z5t2sp58yGUkirPkD7RUBF80By+Ee5GfnYvPmbVIvcTjt9JMlrlPOIXUr4rVz5y5o3z5d0nVg25btuP9/j+DJV2bhznsexaNPvGhm/O3UqSOuufpy9OoUK+UEdm3fLmK01nTD7tGjB8Lk+mCZrPpvkOshFzkFB1Evoj6lfTK6donE2JFD0DkrA76AD+ukjCvXbOKcXEKzO8HvzqQh1xpnuj5UVGT2Zqalml4CvCbcEsstscz1ENaIqrpa7NjNFvSAlC8WHdLTrVZaEZtsXWVrsa+qBu+8/T6efmY6Hn/xLfzjzv9h0fJV8IaHY4II0DOmTDQCmcKT94HXI/UjF+Sh4nLUi/Lt2rU7+vTsYfaHs8+3ZJITgJWXVImw7YDzL5iKrMxwI66ZDsVwc6k+DcvIoCiKonzzHMs+K4qiKN8qttw5Em7JzSlC9sFi+B1OZIoQjYy0ZsT1RrrEIW8PZ0O9iNhqpKan4KzTJqNbx2gjHgJ1ddi//wB85aXwhIv46drRTEhUI/t2iwAsra42zar5e/bizn/egWt/diOu+vlvcPX1v8VTr85ASQ1bNG3n3XLjGxuCIgTKUFBQgkB9EMmx7dAzIx2xEjG6oRHhEpwSVbQKXLLNITLC52vAvuwC89oYt4i5zIw0M7mUlSqlTSMiorw4+/zTMWzYUBElMfho6Ur85vo/4Pbb78fe7BJ06dobl112KS6++DzT0kvBuK+wyLwmhefokJkGzptE+vbsi8suvAgd2qegrLQAjzzyGK6/6Y/4zR//hnsefgqbdu1HbHKqmRgo3BmG8cMH46RxY9EuMg57d2bjX/+8B3/+191YsGIthowbj469epkW4cjkRHTq3g0R3giUilB85MmXcNvdj2NvfgVqwzwIiLplffHHluLJ7krLpVeElIszFDElNpF7PBg1fBjGjxpwOA5fwRMdaz2g4ARQDqcLA4YNw4iRg8x1wNZg1ujAgYNwzU9/KkKzM6rKavHKC2/hL/93O156YSbq6l0YOnQ4fv+bn+G0SQNNuqWFucjdv0/y5UBifIKZodq+0tgN2Ffvx57sfSitq0EwIhpZ3bogQfYN6NYRJ08aayYPyykuxVvvz0OJ1LcNvzd20zVLyW9uXj4qqirg8TrRuUN7RMvJzUMN2W9ByetDnT+A7bv2mlmTmZ+eWZ1Nt/NIqbjTTjkJE8ePMK3Su7fsxb/+9RD+9P/+ixWfbENSYidceN5U/OpnV6BXx0RTNtZ1pDcacbExaJR6Dcj1FxWbiPHyvfXoEodwSbddhEfyEYZAtR/J8Um44LxzMXJEL9NCHSHxGXjNmmzaWQ2Bm3i98btVFEVRvnmcmZmZt3LlmmuuMRsURVGUExxRG4WFpaioqUM3EVBnnH4K+vXKgFe2UyCEOd3mHanp6ek447QpOPPkiUiNcRkHn9198w8eQnRCGkYPHYQzThonojPC7CvML4Q/0CiCpQe6du+Jbl27mLG2vXt0k2VXnHrSJAzs3xceNyVi81NQvk6noqwKxRIyMzIxecJYnDx+mAhAJ5y2MgqlsRF+CQXFxUaUDRo4AGecOgVZGfEmH9YhDtOampnZCQOHDEGGCKDUtCR06pyBAQP64tRTT8W111yJqVMno30y2/RMsvhg7mIsWLZKFKIXJ50yCWNH9DWv44kRwd5XhF6v3j2RmBSH1JRE9OjeBQP69TH5vfLySzBu1HATj2WLi4tFn34DkJyairh2MXLeTIwbPQJXXH4prrj0fHRIijWtdWy1ZZzo6HikJaWiX+/umHrmFJx1xkmSlnk5jkBZzvqyK4NLB+olvxV1dXCER6KL1O+Ygf3wkwvPQ4+O7czsuxyO7Jfvka2Tbk84unbNwrDB/XHJBWdjaP/2pq6IU+RUNMe19u2F3iLWU1PaIS05Hr17d8GQQf0x9Qen4bprr8KYUd0RbrrKNqKutholxSVo1y4VkydOEBHcC3Exbskj8yrCT5Z5h4ol5TAMkHo7fdIodMlIMt99bFy8adFv3z5DrruuGDG0P6JEpFqdtYlV3mCwEdl5nEzLgz69e5vrp0fndERIBVvSnrH5zTWgPugw47QTk5IxfsRQnDxxBNpFOU2s5NQkyd8Acz2npaSgU2ZHDBrQBydNGocfXna+hKnonCHiVOK65AiOnHa7PWb2ZW9kpNwj3XHyhBE4/+yTkRbvNa/tYXdzl9trrvGTJo/D+eefiZQEt9XFmVkipjBWiewFhauVY2vJzfZ9oCiKonxzOMaMGWPM9bJly8wGRVEU5cSnQSx3nXjQNOCmRdBstbpB8n2j1ptbLWebLUqcGyissQFhjjCzncfwWAohHkNHnJ8Z3w78HCpWuU7ouPM4fjYdixtki/z3NeXHICtWHFk5vNGmEcEwq6stW4C55DnsLpxspeMh7BrLcnD8I+F5GY95YzdajgFmPAZuLyitxp//322Y9t4HSMnMwF/+3x9w3qmjzGRNVkfl5rphfDs9LlkWBuu8FnY92S1ujMt07PpiPIo9jrUldjkYGIdYQpNjgLmd8ewzOEy5GA6XX3a55KQuOZjHNQYb0OAMQ62cnENrmQceyX12+tzWIClwXKpfjqfwZb7t/YRp8xx2PbEtnWOb2Q2Zx4geRZgU3soj88rY/ObCTH3Z6fG8LD8/+5oqhJ+ZLmNbIpafrLrke1p9jQ4EJE8mn/LHHmPN2Zut0kj9NQZQFZDr0unh8GBOfmyuV6ZpvbaHObO+O6ZuB94DDB7ZzfMxlpRI0rfyzu+ZJbHPZH/HjMftDE3FMOkxDvMWyach9gbrj1kwLo8JhccyTUVRFOWbRUWsoihKG4SGm845HWtCZ5pbKSLowHO/Me5NNLniAvdz6iRrGwOP5TL0mOb4R8eO4xR1wsmF6kUYNYpIZnpmDGxoBo5ARJRD8tDU1ZaBUZmeEUshxzG3Pk4o1fQ5FEuEBFFdXY0D2QVYunwdnnp6Onbu24/JUybglj/dgH7dO5guogyh5aMgChUgXLfq8Mg64HnteuZnCjkeYwkx5oGtls1dhu06CV02d509Er/stdM2AlGiUcCZg9i92MAPTanJCVhmRmF8wvWgpEQRS9FI7HOHwnhMkUsbO2U7vrWfJbKkmkNKabce8y/FLdtGg/JJJLBJy04vNB3C/PEzZ7Lm92fvMw8TKBJ5pMM6Iz8GHEw5NAUbe4bn5muaIRTutWLwu6HkteS0dX1Y8a2U2XWZW23JTazU7WALXUPIificxqqVI7HOqSiKonzTWL94iqIoSpuCDrfdMsZgSQA66c0OOQ281bJmufLN4sRyvCnEeCzTYeBnO9jbGM921Lm002awCYry4ry+QYfPnIWE7v80ltxi10+eqzltqwX2sHoQdUNRxzzaQtQOdpnZ6rZpwzZc/8ub8N//3IOCAweRHhWFC06ejH6dO5iuxCyHnefQ8tjrTIv5sGE8brfrgvHs+mBgfLt8lI52HDs+gx2X25vPfmTgfjsutxzeRThTlAmygduYIcHOiw13saO4SyJwH4OdzJHBkm32Z5uW60yFrzTiowj7XHb5rMcT7CLN7uRB2WdNzmSXwYoTgnx3PCevPy5Nvs1Xa+eCsRkkPbYMS5ruRgZJV757PsxwNfJcR9aVdRSvaz4+8EuwxDXzZIluS5gyPzzG/n7dstXdGGbSNucw+ZfzmWDJ8sP5b7oEFUVRlBOTI35vFEVRlLZDszCx2l7pwNttXrY8YOA2LikG7HWKgWZBYEmKUFlhBwoBW5yEBussFo1NLaXWuSlERcrKqpl0qNVgrVCgOiheRFRYbWPW7iP0Q1MrHlt1TZC9DMwTpZbPH0BFeSU8Li+SExMxdtRw/N/vb8S5Z0xBrBTQFmDETt8qlyVYrG12HVr77GDHtQVUaFrN2HXbfEzLcDS4zyqHtTRxQw8MDcfEqiM72PkPDfzu7bZaO4QeE3ocZaoljK349j6uWV17LTlL8Wg/JLG/Fzs+g/3HOredho0dywr8a81a3ZyOFSQP5ntnsK4TpmUtrWCfk/A6tIOVsn2PyLpckGEiYi0RLkHSdbY4p52OdUBzaPHxiKAoiqJ882h3YkVRlLaIsdwtEI+am+nAt9xNZ5vOv72P658Fu7qGclhoCXZXTWK1n1IqWEtCQfBp4XJs7PNR1FldTgUjeIXQAjVtssdrVtcGUFpajYCvEeGeCCQmeDnRrxlfaR3WysGyjdLJzrEljI6D0CSJnezR+LzxW8YL5ajn4EGtHXhk7Yd+Z4TJmbr+nPBYqzOuJShbPydT/YzKsA9risYux3bO+C5ii8+RTgh23kJh2Y5IITS7h3eE1gg5vvMqiqIo3w7H418oiqIoJzh0vyky7Na90EBscfllsdNhsFqAee7mFsEvQmg+jd44LGhah2Vk62hMhAud0+PQLSseGeleTkwMp2SQLW1WG3GoeuG6JWAJ/1plaANYWT8yGA6vHJPQ7yy0rj8vdl190e/3MEzgSydyYsJvouXDAkVRFOWrp038biuKoigtsIVAaGjBMXZ9aZgmf0AY7PS/7PmOeWwriXOVospucWNeTLdf+WBEvFk2d2c9VghJ9vPBA0LDZ/F54x9rf+jxx4pn+PRObrG/s9Dv7fNiH28dd7xHfxaS3ledZEuYvh0O83WfVFEURfk64O+RoiiK0tYIbY2zwxfhKMeHbg4N3xTN3UqbOEpmGKulGA0VaOz2SkFLMRsarPgcU9nUUttK2sfk64p/rP2hx4eGVjnqjq+Iry59ftcmyL+vlVbr7KutJ/t6VOdKURTl60XtrKIoSluE3nLL8EU4xvEtNx3vKY43/jGx8xgaPhehktbGFi7c3rTfTtMOn8XXFb9lvM8TWt3I8HXS2vkYvgxfPJ2WR7SaQqvJh248YsdR4WMPjsW2X4+kKIqifPPoxE6KoignNDTRlnMdCDSgoaGxadbfptarkBZLxjyedqWWbrt9rL00Mww3rRPOEhsa34b5ac2ZP1r844VptJpOSPqh+STMU8ttNvZ0Ts1p2jFlW8hBdhqh6djHNB9rYccJjUuOJz7jHI4nOz51TMsNh2l5VnuLVdKvAyuvrZ/Xmgv4eGktp58/HR7N69WGq7z+7PXQJbHyaa9ZWBNMcQm4wsLMxGAmHROn+Whe6/b1zkcg2hqgKIryzaMiVlEU5YSF5pkhDMFAI/IOFqCw4BBqGxvgFw/b5WTHxVA3/KvDvP6mad3G5KblRqG1uORo8RXlq+Z4rlcb7v8UomDDvV5kZXZAfEy4Eah8H671yEMvZkVRlBMFFbGKoignLGzvoYl2iG/tQH29Dz5fAH6HQ0IYG2OP5IsoxtCmx5Z8atfxpi8JHM8hx5v/Y+W9NTT9Y9OW0zdRP3/6zIr1SqgjCZP7yhXmhNfjhFsUrCVig5Iy09Y2V0VRlBMFFbGKoignLHbHRTrPDjQ09WFsCHOY8Xi2C34crr6iKE20dt9QqtpSmBOCsStx2OGWWBWxiqIoJwoqYhVFUU5YjhSxtnut76FUlC8HHZ/PErEUsJzB2iJ0j6IoivJtoyJWURTlhCXUzW52oNkNsjUH3OJ4HO2jp3J0vs70j1ckaPrHpi2nf7xpk8+ffoOk39qDID4usttbmVpzisdbN4qiKMrXiYpYRVGUNsexHPwTRyi0bRFFNP1j03bT52Og1kQsUziy0/Dx5llRFEX5JtABHoqiKG0OOtZHC8dDa8d/VjgeWjv+WOF4aS2NY4XjpbU0jhWOl9bSOFY4XlpL41jheGktjWOF46W1NI4VPj8c4+psJYRJ+KJpKoqiKN8cKmIVRVEURVEURVGUNoOKWEVRFEVRFEVRFKXNoCJWURRFURRFURRFaTOoiFUURVEURVEURVHaDCpiFUVRFEVRFEVRlDaDilhFURRFURRFURSlzaAiVlEURVEURVEURWkzqIhVFEVRFEVRFEVR2gwqYhVFURRFURRFUZQ2g4pYRVEURVEURVEUpc2gIlZRFEVRFEVRFEVpM6iIVRRFURRFURRFUdoMKmIVRVEURVEURVGUNoOKWEVRFEVRFEVRFKXNoCJWURRFURRFURRFaTOoiFUURVEURVEURVHaDCpiFUVRFEVRFEVRlDaDilhFURRFURRFURSlzaAiVlEURVEURVEURWkzqIhVFEVRFEVRFEVR2gwqYhVFURRFURRFUZQ2g4pYRVEURVEURVEUpc2gIlZRFEVRFEVRFEVpM6iIVRRFURRFURRFUdoMKmIVRVEURVEURVGUNoOKWEVRFEVRFEVRFKXNoCJWURRFURRFURRFaTOoiFUURVEURVEURVHaDCpiFUVRFEVRFEVRlDaDilhFURRFURRFURSlzaAiVlEURVEURVEURWkzqIhVFEVRFEVRFEVR2gwqYhVFURRFURRFUZQ2g4pYRVEURVEURVEUpc2gIlZRFEVRFEVRFEVpM6iIVRRFURRFURRFUdoMKmIVRVEURVEURVGUNoOKWEVRFEVRFEVRFKXNoCJWURRFURRFURRFaTOoiFUURVEURVEURVHaDCpiFUVRFEVRFEVRlDaDilhFURRFURRFURSlzaAiVlEURVEURVEURWkzqIhVFEVRFEVRFEVR2gwqYhVFURRFURRFUZQ2g4pYRVEURVEURVEUpc2gIlZRFEVRFEVRFEVpM6iIVRRFURRFURRFUdoMKmIVRVEURVEURVGUNoOKWEVRFEVRFEVRFKXNoCJWURRFURRFURRFaTOoiFUURVEURVEURVHaDCpiFUVRFEVRFEVRlDaDilhFURRFURRFURSlzaAiVlEURVEURVEURWkzqIhVFEVRFEVRFEVR2gwqYhVFURRFURRFUZQ2g4pYRVEURVEURVEUpc2gIlZRFEVRFEVRFEVpM6iIVRRFUZQTgcampaIoiqIox0RFrKIoiqIoiqIoitJmUBGrKIqiKF8BjY2NrQZ7X0saQoLB0bRUFEVRFOWYqIhVFEVRlG8IW9g2SAigEX4JXGpPYkVRFEX5/KiIVRRFURRFURRFUdoMjjFjxpgHwMuWLTMbFEVRFOVExO6S63B8ut8t93F7y2XLfTatpdGSYNOSWG2l1jGBoB8OpxMNDQ2SJhAW5oD8l70hz4Vlx7p167B5yxazPmLECPTs0RMNjVbnYaYW5giDDw0IBoPmSJekGSapmHMxXZNHxiRNZWn6Z+Fo+vdpuM1xOI0jCa2bUFrbfrS4iqJ8W/D+Z6Atob1wiB2x7lHLHjTCZZZNGHMhf0LvY7mvD3N4u50mrVFzXHtrSxjjq2kJs/JiW8Ywsya2VdaCcBo7bJfGZf42mr1WDuw9rAXmx/qkfD9wZmZm3sqVa665xmxQlC9DqJMYCrefqCEUddYU5cSl5f3a8h4OXbcEprhBYeLWyH3Nz61xtHueKVmulA1dQ+tzWJgT23btwLwFizB7zhw43W6kpqWac9GVsuI1Ytrrr+Oxxx/HJ6tWomu37ujRqyca5XzczxAUlbly1SrMevcdlJaXIzw8AhFRUVacpmxJCeVv87mDssa0m/PWnF5oIA7WT4tys05C68KuQ9YDxXTLerL3KYpyotF8r3JIAuGd6pS/h8XlYWNg2YnDyGdzXzfd2837aMG4rfme5z6eicvQQL4aEUssm8YzibU2y4D89Rkha8lawvPRJtIOWrK1Wawf+Un5PvDVXX+KItAothbo3J2oITSfiqKcmFBM2UuGloKL6/bn0H329mMFO037HKH4A35xoI7c7msIYNHCD/H440/ijTfewvp1G2SrOIkSzU7HHwjA5XLB6/WapX2eUOrq6vDR8uV49ZVX8fBDD2PV6lVHuGBWdP5McyuXLQMd00/n2cbOC0NoWWnr7G2En+112kTS8rOiKCcKvO8d8ItcbRA7QOsQLlvC5ZNHgpPyL1Av/+tQU1OL/JIS7M7Lw+b9+0zYcmAftucewJ6iAuSUl6BE4tbK8fWSkk+O9kl6FInfHJZ9c5o1h+Q+TMrmRp0sS+tqUFBUgrLyavj9ltC1ZDb/UbBbrbNsedZW2O8f2p1Y+cqg41hTU2NCKC3FIZ2nr5rQNEPP93nO5WzqFkhnzePxIDIyEm63u2mvoijfNqH3MdcZ7HuWgevcZguugAhI2gF+tgWaHS8U21aELpmO3+9HWVkZVm9cj9i4OAwcOAhesQ3MBQPdp1emTcPjTz6NqspKXHTh+fjVL3+OyPAIkw4JBgPYsGEjNm3aaNIdMmQIevfuLevNorC0vAz/e+ABzJ49GzExMfjDH36PkyefxBMYd0xKZ4Tunj174QhzILNjJsIjIg7nl7C7cPOnZsIko2FSXuPsSRy77KwHuw7tz4T7GY+f7YcAFN/2fkVRTgx4JzOwmy0fYvH+Z+trg/yrrqlGUVEZ9uzdi/05uThQUIJDpSICqypRF/Afvu85dMHtdhm7k5GRgczMTHTqkIHOGelIiItFuNgCekFWbNvqHQk/W917m7HTt20UP4faq9awy+OSEnHJrtHlPj8+WbsOyz/5BNn7shETFYOB/ftj3OiRyExPg0fsISWtW+IyKN9PVMQqXxrbSK1fvx6PPPIIPv74Y+N42casJZ9l0L4IoWmGnvfznItxGChc+/Xrh6uvvhrjx483glZRlG+f0HvaFlh8+ETsffZnClhC8XXk/S/uXsORNomf7Pvfhsd9Io7Tiy++iHWbN2Ho8OH43e9+h+TkZLPfHCP/Vq5Zg/dnz0FSchKGDBqEAf37IryFzWA+G3hOSZ7det1u7redOgeqa2uwfsMGbNi4AaWlpSKGL0KnTh0lD3IGc1gYcnNzcc8994mQ3YNJJ03Eeeefj6zMTgg0spxMWMp+RDktuMVlndqcj/XEwHXWIbHrjPnkPn4OrV+KWEVRTiwo9PwhyxpfHQoKC7Ft23asXbcBm7ftRG7eQVTW1qG2Qe53uZ9dYpuc4R5z/3Msvtzw4qfVoyEoqYiR8Hq8iIuJQvdOHTBiyGAM7tcHXTt2QHJ8vBGqHChBQls7uWYecdGu8HOTHWoQGxIWYls+60EYrRGtmceIWAdKJN8zP1iMV6bPEPuXg8aaOvOwLjIqCn0GD8TVV/0Ig/v0lHM3wCt/3ZK35jM050/57qMiVvnS0Olhq8Udd9yBxx57DBUVFU172h40whdeeCH+/e9/o3v37k1bFUX5NrHFFx0i2huu25+5tJ0ke19Lp8kWuo6mSZXo6Jhxp03pMhBbyC1duhS33X47du/fh85du+DWW/+OQSJUTRwJgYagEcv1fr9p0XC5JIRxUqZmGM9y7KytVl65xvNZS3ZTDgQDZp+v3ne46zEVrCViHZg/f76I2PuRn18ognoQbv7jzejSuTMTNmnwRCGNuyyE2ceWWLcI6NCyhS7tOuK5CeNxH+uQebAFrl1HiqKcGNjitbimCjt278XqDZuwfM1qbNmxE7W+AFzhUUhITEZa+/ZITklFUlISokQAeiMj4OS9Lbaqvt5ves2VlVWgsLAAhQWFyM/LRW21+G8BH5LjojGsf2+MGjYEQ/r2RlZqe/Ogv7Uuu04aIRHDNdXVqKqqMjaFY/vj4uKM7fgs+2GLWLes+cVmfbxuE+569Cnsz85Du8hoZIZ7EaipRn55GbIlqfMvugDXXnYR2sfFNHUlZoss5S9tWqgxVL7r6MROypeGBoutBS+//DK2bNly2On5qsKxsOPQWLIVNSEhAdViSOmI2aSlpaFbt26mZTW0hTg8PBwdOnQwXWmYhs/nM8fR2A8bNgxdunQx8RRF+Xbh/cn71rYtFGC0O/xsi63QLsR23FDMPgnslst3tHJpZhiWpV/ue4raoIhcn6TjFFtRWHQIPhGYI0eNMl2B49u1M+mw+x7/Mj23iFfaFVeY1WIZaq3sdYl2BDwuNCbzy+DxekxZbCdRcmeWbKEtLipCdW01Jk6cgLFjx5p4TifFLutF0hAVyzFhnPnYKrfkTxZOScJOx8LOu+Xo2fXJYNeZlbY1xMLepyjKt4h5+Cb3ttgjhwjQWn8AO7MP4NWZs/DMa9Mwd9ly5FZUILl9OkaMHI1LLroUZ581FePGjkHf3r3QXkRsXFQkvHJfe2lr5J6OjYhAekoyenXrgsGD+mO8xJ00fhwyM9LhbHCgqKhERPEeLF+/CRt370Ojy4OYxAR4RVBStPIfH8LRwrA7b5nYqezsbJSXlaNShGxFZaURvREthj+0BtMRS2TSra2vx/wlSzFn4RJ0CvfgpFgvJsOHQc4gUkTkFvrqUSv2ul//fmgv+WGXZwaxYBJ4HrVX3ydUxCpfCUXiZL333numy1tL5/HrhM4fxShbT++9917j4G3bts2Iajph8fHxuOGGG/Cf//zHjEdbvXq1cQpJ165d8fe//x1//vOfjdO2detWI4ApbE855RR0ZmuHoignFKEC1u7uan+m02Sv245TsxCzWhmtjVZrxn5xusoqKxDXLl6EoBMBCjdJn93WsuT+nzR5MqaceioSkxKbHCRCd8lylUwexKm0UqcT9WlaOnChY2IlAbNgDDtW6Dpp3749Bg8ZjO49umPw0CFITEiQOhB3Tw5lV2W/OLQ5OTni/NWZ2Y1ZP+YcrA8p05H10Cxabez1ULsdWoehcRVF+eYJNFhzDzfKvV1aUYV5Hy7Bky++hLlLl+OQ+CyZ3brjjLPPwcWXXIpRI0Yh4PNj0/oNWPjBfMyZPRtz3n8fc2W5aMECLF640IRlSz7EksWLsXTZEuzavQuFhYVwSvq9evXChAkT0LtPPzjc4dhXUIit4tdt3LIFBQWHEB0dhaSEePMAkJaK/wIBP/Loc4l9ZYNBoojmOhGjlSJkY2NjP3NYAi2nZVMbUc3J7tasxbrN29Dd48ZEdyOG1JYj3V8Lzkqwy9+AWo8X/YYOQqbYRqZsW2A7P8r3BxWxypeGTk5xcbERsbt3727a+s1AR4si9rTTTsPpp59ujCXHs1HI0hFLTU3FBRdcgDFjxpjJWhaK8aaxpjNLY3355ZcbcXvw4EHTpb6kpMSI2ClTpiArK6vpLIqinCjYAosPnmh7eC9zGSpuQ4UXtx+G++RfTV09Zn8wD089+yz27t2LPv36Ijwi3GqpNWk5zAOwhIREeFzWc37bTTIuF9Nvisd/RsBym6TfGhSV1iFMhcGG+bG2tNxjQ8EaHRWNjp06GYfQKre1nSL2wIFsPPDQQ1iydCmiY2OQnJwEl5vtsvIDb7+n5zBNJQjZHlpXJLRu7aAoyrcD79iA3IP1srLzQA5eemsWXp4xA9v3HUDHnr3xg3PPw9SpZ6ODCMcN69fjnffexdsz38EnH63A/r37UCNi0hseidh27ZCUkoqEpGQTomPj4BTfia26B0SArt2wEStWr8GGLZtRWFSEdkmJGDpyBPoN6C9+lRP54jdt3bQVu3fthcvrRWxyO3jkeLbC+oMBFMn+CBGdSZK21xuOmtoa0/ONdrS1iTJpZ+iTmR40tNFSxqD88zU2YOuuPVizcTMygw0YLja9u78G0Y1BlNb6sKqiHlGdO2PE5AlI4wO9pvTE8stfscmtWlHlu4qKWOVLQ2Nki1g6hN80NIK1tbWmFXX58uWYO3euEaOkXgw4DSmfCHI7x7pxzAbFLpfsQswuMMw7J6biZ3Yv1pZYRTnxaE3AklABy32hNIswa+mQe3/bzp148NFHsVbu+Wxx4NLap6Fbly4iWD2mSy7jSlLmEH42Yk4+mg50sp3nouPV0mXi+rGEn7U5dB9P8tk0Mk882E5bglOEcU1tHaZPn45Z78xCTk62GeM2dOgQxMbEmuMoZY/MiXW+0PyFrrP++NmuX5vQdUVRvl54l5pX3NDYyL1XJ3fxR+s24ZHnX8KcJUtRJ5snn3o6LvrhFUjv0AEff7wC09+YgcVLlmDf/gOIi4nDkP4DcMrESThzysmYesbpOOOUk2X9FEyZNFHCJEyeMB7jR4/C2FEj0Lt7d6SnpZpWzfwD+7FFhOzaDetE3OaYh/rjJ0xAl65dUVxYjJ3bd2GXCNlysT0ZWVmIZndhsYVV5WWor6k2grVKfDHOk8KuxO1EPLe0yYS2hg0KnEMlPDICYSKUaV+dYoPrGxqxaetOlBccgjhlqGoQod3gwLrqOmx2uNBfyjBy3GjEiZjmI0Rr0ikuVcR+39CJnZQvDY3R9u3bcf3115tJSPj5m8R2sLikc9kSOricMIVQ7DIet9kOm51fbqMgHj58OG677TacfPLJZruiKN8u9j3K+9sWrHYLLB0kfmbgwyluO9xtWGB8G6ZC57BYHK5nX3gJM2fNQoeMDPz0mp9gwrhxZpZfTrTENAw8l5ybY04pZu1zcjKnUHnIlljCcag2Rni2Qmh34qPFORKep6n8h0/Js1sids7suXjt9WmoravBVVf+CGdNPUvqJMxM7OSREJonUyyTXLPds7HtoV1frE/b+TxcH4qifO3wzqRl4N1X5/dj2YbNePK1N7Bk9RoRrRk466ypRlhu3bEDb7/1FtZvWA+niMduXbtg9LDhGDZgIHp36YLUOC84HzrT4l3NdG1rwm2hy3oJ2bmF2Lh2PZauXoVVmzYhv7QM8fGJmDx5Mk4+5SS4xay+++ZbWL3iE8AVhjNOPwWXnHsWuqYkwldeitK8PFRWVosNbUBkVKR5bY/deyQU+lkUsPn5+camtpcyxScliYBlq3MYyn0BvP3+Qrwloh15uUisq0KkiNxgeCTih4/GJdddg169uoBenUtyb4lY+W2Qf0dOr6d819GWWOUrgS2x77///rfSEmvT0ikLhd1WQh3bUKfYXreXdkusTuykKCcGtoji0hastuDifcvQsvXQxt5m3Jwwh5msKTwyEhmZnZCa1h5Tz/qBeXDFlk0rXRPdQj5YXYXDUFZRgXkffCC2rghRfJe0xyPnp5ht5sizt26Pjsxj63FCCc1/8wlkhRtEjNJO9enXD/369sWYsWMQLXnjMRyfxpaVI9pimxQtt7DOGI/BXie2TWTdMtjbFUX55qC3Ul9Xg9Vr1uLpl1/DJ1t3oEOPXrjsh5eYoU7z587DrLffRH5OjnzuhLMvOBc/uuginDF2NPplJCPB64KnoREuvw+Rcg975dYPlzQ5Y7l5JU1jg7EPbrm9uQwXq5AUG4U+nbtg0OBB6N1/AJzhUcjJPYhNImj3792FrIx0TBg31vRY2bV3H3bu3A1/vR+dMjOQmpCA+MgoxMa0MxNsJqdYMyK3ZkPoi3FuErbC0t5EiM2KENHrNmNnRYg6JYeeCKzYtgPbqmsRP2AYkgaPxMDTz8IZF18qYj0dfCM3ZyVm+y27NHNptcKqvfo+oS2xypeGDo/dErtmzRozkycnI7H3fVk+jxN1tPOEOmek5WdiH8vJqVauXGm6EfN1QdoSqygnBvZ9S+fHFll2Cyy320/6TTxzO/vNO2E59jMonxmHYpSvl5APJq4/wHSs1kY6WvLJhCMtiSWaw5wuzF+8GHfdey+Cku7EseNw5Y9+hPT0NNnfiNq6WtOVNzcvDxWVFSgvLzdDGjicgeaF57GcuTAzMUq7dglI4Bi1xCS0i29nnD2PnIO5dDmtcgYbAvC6RSjL+TnhlBQFDjkXX49h14UxXbJOcd7QIKLVTSfQEqLcybqora0B30/L3iimFqyDTFp2m4Vdv+Y4wXY8WTf2PkVRvlp4J9otoYR3Ge9JTuRUK59WrV2PJ599Eeu27kI3EZWX/fhKsUUQ8ToLHy1fjkgRjRMnTDCtpN27ZyHRFYYoOd5XD2zfuwcbN29CaUkRxg8dghH9+8MjdiIoJ2GgraPt4LmbLIJZoxUMiDyslU+5VXVY+tFKvPP++9i8dTNSkpJw1hk/wJD+Q7Bm3Tq8+eYMsSNBnH/mqbjivHPQNTlexLGVor/JZoT+DaXeV4fcnFw0BoLIEHHsEftEMx50OFEvtTBr4RLc/9TzcETH4KZrf4IenTogPiYSMV6PEbBsYWZdsQRW6nYtakvs9wkVscqXhk6OLWLzxIm7/fbbMWLEiMPO4TcB82A5Z8cP88hjP/74Y/z1r381+eZsxmyNVRTl28e+v23Ram+zCRVZ7BLMvrR1NdU4VFSGN9+eiS7dumLy5EkId7mNCGyUdNg92LymxrhtljPJ7rrGqWxKzlqEobyqCv++8y7MWbBAnCwHpkw+Gdf+9KfiLNZj06aN2LJ1q5mZvcgIV58Zh08BGxQHz7h0zD8Tk2M9IigpNt2Sl5ioGGSkp2OAOKh9e/U243JTU5LgcTlMCwmnQ6E4DYhg5SRSTskcZxC164Iw/aB5l47lhlJUMy63FxUXY9asWea1GFPPmmrGysouc2yYHG45nBZ2HXLJwHPY9ju0fhVF+Wrg3cf3oxJjJ+Sf1TU2DBv37cXjImDniZjL6t4bV/z4x0hpn4ann30an6xYgeTEJFxw/nk47dQpSIkLN62pZM/O/Zi/YBE+XLkSOQcPmsmWLp96Fq679BLEed0iLhuMDbPOaP+VM/KeN9aP0yuFSXDBJ5/YzXj9tt149pVXzdhb2pCLL7wUI0ePwuLFizHzzTfhleN+duUVOG/KKUiKZjtvA/xNYpJnsizTkQQbg2ZeEg57iI2ONj1heG5OYpVfXomHnn0J0+fOx5AJk/HXG3+BRK/LdB9moF2kiD0S5t06m/L9QbsTK18Jdnditkacc8455p2tkewiEhHxjQT7XFweb7DT4EQE8+bNM5M7cXZivoJHUZRvH1tUhQqsltj7OIY1GAzgUEkZXp7+Bl6e9jp2iMD0yL3eQ+5pOmvEzERsHWgcOdv9odg0qcuS3dOY3opVq/DaG2+grLIKDpcTcQkJWL1uPWbMnIm5Imw3bN6C/bkHUVpehaqaevgCjfAHJQm3uFxONwIilv0OpziFYagTX6uy3o+y6joUV1Vj38ECrNmyFUs/WYmPVq3B9j17UV5dBac4bRHRUeb8LJebLbBNxf5U+ZvEpiU8WT9AtYj4V159BdNefx3r16+DS0RzNym/10M3UNKUOHZdELv+Qh888nPoUlGUrxbrUZQF72qOdS+Ve/flN9/Gwg+XICE5Bedfcini2iXghZdewsp168wQgqt+dDlOP2kikmO8RsDu3L0Lb777Hh5/4SUskjhlvgA6dOmG8RMmYcLosUhLSoBHbu0G3stiI3hPG1vHW1tCkzU0Hzi2lFaR6UbKGo/t2KUXguIb7dm9Bzv37BPfKQqjR41EMODHrh3bkZedg/YpqUjPzEAj0zf/rPTslEPh+d0isN1ej2V3TCyxm/J38869mD7zPVQGgjjpjNMwoldXyUezgGW+mq2UjVV7VlC+L6iIVT4T+4n/0RwZbmdX3Dlz5pgna2eddRY6dep02On8puC5PisQ2wHkMjSPfM3O7NmzTTc9FbGKcmLB+5T3K+2RfQ/b9y4xPSrko1/2u9weEbGleH/uB9i2c5cIyiA6ZWVh2MBBIgatrrLyR45iOhL431oYZ4q7uB5obEBZRTleFSG8cv1GSbtRtoUhN68Au8WRKygsRL3fL46YFzGxsWiXmGjO07NnTwwdNsz0SBk4cCAGDRiIwRL69+6DzpkdkRgXj1hxAiNdHjjlRIHaOlRVVKAwvwC7du3EytWfYJ04ojXV1cjKzERkuPX6H6uVprnch8tB4Wo+M3Asq8O0BC9atMiMZ6uvq0fHjh0xePAgRERwZJzlBDIVphFaj7ZdZH0yhO5TFOWrhd6VPYyB42DL5V798ONVeHXWu6Y1c+r556Frr554X/yrD5cuNX7JlT/8Ic6YOBLxbqdpkeRcJA8/+wLen78EJZXV6Nu/Ny6/8DxcefFFGD9yKDqlxsPjlHtdbvrQ21nufGPvjgi89826LB3iH0k8jvxPjo9CZ7FtDUE/tmzZgm27dqB9RjqGDBlkJmjavmMXquv96NG/rxkyYb+Y7OjWo8nuNIVGOZdfzl0lwnXhylWYueBDpIvNOufMKeiW2M6U0yk1ZI1/DU2XNWfZRaZpBeX7gnYnVj4XgUDAtLJyMD7XQ6HDs2/fPtx6662mRfZvf/sbRo0a1TRmyzYuXx22U3W8zhXHnSUlJVnObki+7HRWrVqF3/zmN6YrIMfEUsgqinJiwHvWtin2PctuweYdrBRxsokOob8hCI/LZWbIXLNuA5569nnTnfjiiy9EVnKycYLkIHO87fzY9oB/mZZxLBnF4cSHKz7CnXffi+37s81YMYRxBuQwY086dEhHRkYaunfviq5duqBTZifExcaZWZLZhdcIZpMmE5T/QUsg+vnaCBGoBQWF2L//ADbTKdy5A3n5B1FcUiL5YOQAxo0cjn/+6RZ0TEuzxsNKMra/djjPLDfzbD6ybuScpngO7BBB/NLLL8HldOHKK680XZfZHZlQPDOQpsVhmPY3ORxEUb6P8L6jreGgAwZ2392yay8ee+ZFLFm/ARMmTsAll12CJUuX4a233pE7OgzX/uTHOP2k8UgUU8SxoWT+kiW4++nn4XBHY8KkyZg8aQR6pKeZ8bGE5oC2g+HwwysJNqGf7SEGFJVm3CzXjaR1GJG9I78Qj77wEuYsXoT0jA649pprUV1dg+fFzlaUVeHHP/4hLpl6GtJctH3MsVVOS6Zb68SyjCw/U+ZDOKszc05pGe589Em8u/hjnD31B/jZ5ReiS3ysiFix9RJcUgoeaz/Qs7DXW5ZM+a6jIlb5XPD6eO2117B7924z02+oc0PHkrPMcVwsW0l69OiBZHEWuf2rhs5rqHg9HiHLCZsuu+wyDBs27PArd0hrIvbOO+/UMbGKcgIR2gLLpblr+VnuX271GyfIakF0momUnKgXG7T/QB4ioiKQnJIIryhTTp/UjJ0e3Sdrna2ahGeok7/PiMP21HMvoqiyRsSiS5w7zj7SiF69euG8887BSSePE+EaBbfkg84VWyCYUuhZaC0pMjl01YZxuJ2hoj6AfXm52LN/HzZv3Yr1GzajpOgQLjr3bPzkogsQIWVhFzoe05TL5rqQNFuKWBNL8uMTW33o0CEzk3KK2GTOWGyPqTUiVnLpkHVzbGjeuF9FrKJ8I9B2+SSU1Fbhjbffx3OvvoHwlDRc+eOr5D50iEB8FmVl1fjBGWfiivPPRmq02wi+wuwceOU+Dcix6/fuQ3xcOvr2ykKkGAu2XNIWMVhilDLREoy874+0g58Fjw9KHl2okrWPt23FEy+8gNVr1mPyxJNx0SWXYe4HCzBr5nvI6pqJP/3qOkzo3tnYQ57FnD3AN0Q0oC7oNzYqPDzcjIO1xK0Vr15yumLzVvztngeRW16L3/3q57iALc5i39gKawldyxZy5O2nYSrHUy6lraMiVjkmdGb4Pq+///3veP75501rrO08hUIhyO22IDwecdkSO/3WzkPoWDG0bOll64f9mfsptkPhtosvvtiUpVu3bp/Ko4pYRTlx4b1t39/2EIfGRl+TLXCYCUFMt1oKWFk3Yk6WQbZ+yj++O9XF1kxRfbzz7fvfOEYUsU0DTnkK7uOMwLXyYW9uLt6bOx8Ll3+EnXv2o94fhMPpQrgIw1HDh+Kv/+8WJMZGI6whYFp5XZIfnoHp8gwN4rhxxZxT9slmk0fmz+oibDYZp9S8VkPsFrspHzyYh8wOGchISZU4Is4lUsuW2MP2zsWZmrneLGL5iX1mrDUrPvPAyaw44RQFbbjpziz75T+3sS5NKrJNRayifL2Ye1TuNY5TpbfyyY5tuP+xp7Bx+y6ce9HFGDlqFKa9+io++eQTnHrSSbj+F79AO1GotBVrV2/AW9NeQ3piPC6/9BJkZHaAS+593uNM12555WfexbRIVrOCZXMoBI8Py6JxoqcaCXOXrpC8PoGa+gAu/dGPzHCF5595Dpt37MAVF1+In11yHlIj3CKmrQdmAbFre/fvR2FxkZlToAOHSURwxK2VR+a5WmzSc6+/hSdfnY6Mzt3wx9/8EoOz0sB51dkKyzKwHfbTLbE2TEn5PqG/UMoxoTPD8Q7btm0z4s52mujk2YHY27lkoJP5RYOdhk27du1M9+Q+ffoYocpzMh6XfKcrx51xDC4dLm6nuOU+CtWRI0ciNVWcwKZ97PZMUR6afkuOtU9RlBOHMBFadKxcIigrq6pRVV0j2+RnLcyJoNzHfjP0gWO7zMK4PQ0iVm1hFwq3WFstUctxpS5Jq1NmR1z302tw61/+gl///GcYNmQQYqIi4HQ0IDOjPeKjoowQpIB1y9Ip53QGRdCKHeJnl6TFJVtEnLLNKWLRbKdolHiQ4JBg4skyUs6flZpsXonRvl2COG2W+Gzpn1FkHhaaImDZokodfngpcVhuI5QluCQuJ3fijqDYwpraWlRUV5k6MjM1q2BVlG8euTdpdygw123agj2cIEkE3sABA7B161ZsEd+LryycMnkiMkTA8i7dvnMvpr35FtZs3mJ6m3hcTkRIOtb7Xzlu1JqUiXGNHTDBaoG11o8P5o8SkkKSopTdlIf374fJY8bCX1ePpUuWGL9p5IihYo+cWL1uA7bvzzHC3Bwt+/z19aitqUGd2GgOpyC2SeOSgruouMRMkhcQezZsyGBkpKYYu0l4dgpYuwzWUS2D8n3jeK9l5XsIZ+tlILZw/bqDfa7Y2Ficf/75uO+++/CPf/zDCFYaSwpSdlm+4YYb8MQTT+Dmm29GSkrKYQFKAft///d/ePDBB81YML58m1Dgfp5uznYeFEU5cWkIigPocCG3sAhPPv0sHnn0cWwQR7BOHCa5iY1wo9Cjg8PWT+v9iBa0FJa1OBKaELFCZhwpWz/ZLY9TIQ3q1gVXXXwx/nbzH3DLb67HeWeejinjx1vvLBSnyyVxrUAxa61zyeBheowjwd73qSAZ88ixHvlZdst6hJzf42DrsbWPr9cJzTBtnd1Satu9Y9mtpiioE1u+ddtWPPrYY3j2uWdRWVlpxC1nQVYU5ZuHd15hySGsW7cedSIKhw0dhgi3B6tWrUZxWRmGDhuKnt27G2FaW1aNZUuWYeW6tUjukI6xEyYgrX2aScfYLQ53kGVLuIV7bHF7PDB/9JqstlhrBG9SXBROPWk8unfKxL7du7Bt2xZ0ERuZnt4e2QeysWPXbvjkwKZHcOYNEPTROLMyRbnHY8tT5k0iNviwZesW7N6/H5Hir/Xs1w9REZStLBXzLmVrWlcUGxWxymcS2jpqB26zw9cBnTOeh+Mm+LoejmPlLJ9sebWhwO3duzcGDBhgQlxcnNlORy49PR1Dhw7FoEGD0J8v+fZYbxVjmipQFeU7gNzGjSJQa0SULV6yFLPeex+vv/EmnnvuRZSUlZvhBLat4pKilkKN48NCBRvHlIZ6RrQPpudGMGjEpSVCxSaJCI4SD7BXpwycd9op+P0vf45h/XuLY8W3Klpd3eiymbRoYyQ0bUFQxCuXTjdbQpu3N8dr2iYfG+VXucEZhiB/nV3W0gTu4z/JuymPwDKyfMyzbdfs/XYcG+vdsY3IycnBw488ghlvvYXXXn8DC5cvR7Wkw5lB7SNscawoyleFucM/Few7bfOm7ThwIBdJScniswxAfn6BeZ1Nh/QMTBwzFskxESbupm07seTjT4zVmTB5kvg+/Zvu/ab7//Da14AkThnplZVwCT0y0zGiXy8xRPXYsGEd3OFeyU9f+Pw+rF6/EaXllXKQMVxi2xxIEhGb3qkj2olItd7RbUGBXFJVg1UbNuNgcQm69+yBbl07GdHNYHqxSDCwgIrShP5SKV+als7SV4HtmPHdrTNnzsSLL75oJpZas2ZNUwzrlThvvPEGnn32WbM/Ly/PbGfLy44dOzBt2jS8+uqrePPNN83EUza2s6coStuGbQIcu0oxFxkVZd7hmtw+DVF8xQMFo2A/bDPCTj63DMReEnZHZqutP+A3DptT7AW79FLEsqueSwJfVxEd4YHHxRjNqfGRHsUmAydbCTStNzJNjlvlfhGTZiImCXZcW6SaYKfBZUjgbMmh+bTnBGhpz45ujxnPgcTEBDNEg93+5A/KxDb6JK0wV/NUKWojFeWrptlOhAY+VKuqrsWOnXtQXFKGzlldkCxCduOWrfD7AhjSfyB6dumMaIldI4csFR+IPU/69O2H8aPHIj4mxjjy1h1LG9f8zzyw4xpt35f20+R4M96eNo+too2Ij/Bi1OD+SE2MF8G9CwcL8tGvbx+xxRHYuXc/9uzPbupSbNkwmKEeEsS+hFoYPsQ7WFyGzbv3iZ10o0eP7kiK9ZqHhxSvh8tnF+HLFkX5zsBrQ1G+NLaR/KqCnSa7MX/00Uf43e9+h3vuuQd79uwxDinhO2lff/11/OEPfzCTTvH1PyQQCJjWBnYlZjfjWbNmmbiKony3aODrdLxunHbaFFx//a9w0SUX4vSzz0SMiFiKT7YockIntkIe6TYJ/NhiE2lsEPEpou7TQo52yQr2v9CttEoB+UXlTKP1EvyyThEbkHPXiwtXK6J43bYtmPHOLKzbugUV9XUSx2EC4zC+vU7B2loIhfbR6XJZ3aW5zw5HgcKcx8REx+DCCy7E2VOn4sYbb8Tpp59ude1rsrvHSEJRlK8Y9gopLi4R32avWAkHunTtJn6PHzvE14mMiMDwgYOQGMWpjYCd+3OwcvtWOEU8Th4/EVnt043QMxPFyZKBTj2D/Znhy2NbOS4k9UaniMswM9whq0M6unXJQk11FXbu2In0tDR0zOyI8spq7BEhW1dPiyjlFLtmhGwIdqq1/gA2bNuJndk5SExNQZ9e3REp2+0W2K+mDMp3EV7rivK5sMXjNw0nlOL7Z0v4/sQmR8uGsyUXFRWhtra2aYsF88rWV7bWUtTa0DHVVgZF+W7gdFhjpuLiYnHSpAn41XXXok/nrmYsa7OtsMQsb3tr1mIrWNs+7eZxE8fDmjGx4qSZMVmSVJiYP7c4cO6GMLgcnGDOiTq/CNONm/D8Sy9j0/bt8HFCqaZuch6J65HjOOET31lbVFGJl2e8jf/cdz/+ftvt+M8dd+LNmbOwfd9+lImjVxsIGofWIQ4px8R6WgRuY5c8uxWXLbtssaWLeLgVVwK7Ipv9Epezgtpjbp1NY3K5PmjAANx4ww2YeuYZSEpMMK/psFqardrg5FCKonz90N7klxVjZ14OImLi0F6EaW72AeTn5iE9OQW9OndGnMSpFgW4at0G7MspRMcOHTFsYD+0E5VHoecRe0SrY7/7uWXgPf15kKhmRvOWQUxPM8ZA2KtiexPamZbTcI8Xebn58Ho86CKitrK6ArtzD6IywAd6DvjlmGapzf4rPFryJ6G4qgqrtm5HeVUN+nTrju4pKYiX7RSyR9B03sNL5XuPvmJHOSYUg3z1zE033YSNGzeaGYLj4+ON80cnkcEWhVxnfNtBDCVUfNrxQ48L3f9VYuezvLzczPTXvXt3M0nU6NGjP5VH+xU7FMT//e9/cfLJJzftURTl28WyEbaZMA/UxHzY3W7NWFLZac/KG2pjQm0L13jXc6Ike585zpgCa93YBYlo1o1rSOQA2c5/PEGZ34cde/dg/sKFWLxoMQoLD2H0mNH41Y2/QWZSsul2zHfSMhcUlFX+eixduQp33fcAcg7mo0GO90hSkZFRiE1MRK8+fTFq2FD079UDndPbI84b8SkhyTKyvEduPTo8NwVrywOYDluIbXgatlo7ROByM6uOdcN/LW2koihflCOkoIFb6sSCzV72MW69639I6NAF1/30J1i/di1emvY6Tp80Gb/7+c+RGedGdnE5/vv4k3jv47W44MzTcMNVlyM93LJQfN0M7/WQ27pVbLtoCLUvTZuZH7YGfxrLkPCBnnmoZ2008asbA5i/ah3ufPAxNHqi8Icbr8f2nTvx5PMvYOzQIfjdtT9Bj5R2Ji6Po0Wxj7eXn2zdiX/c/wj25x3Er39+Hc6ePB4Z4U4pEwulNkg5OipilWPCcVcch8puZ5zFkjME87U17MJGJ89+FyuNIx0ee5yWvZ+tqFznxEq2AbVbdPm6HMJ4DF8Hdp7Wyo/CLbfcYsbJ3X///SpiFaVN0TSmlQqMn4wNcVhjSWXNErENnxKxLaGV4V3fmojl8YzgYCumCDqew+30muPM+eVvVU0d9u3PxrzlS7Bs5Urs3LWnqRdIoxmHe8UVl+OHF1+MGK8cV+czxzQ4HSirLMfjzz6PaTPfgTXSVvIh5/WLmA3IacPEFsbGRKNPj+743S9/iREiZrk/lK9DxPIUtI+sC7fbJetNDyH5WfapiFWUrwrL7wmFW6qCPrz+/jzc+fDj6DlkpLEfc2fPxoKly3ClrF9zyQVIcAObdh/AP/93P3YWVeCXP74SF04ZhwS5j9mSyTH7n6fF9bBd5I1v2xduatrMltJjiVhG5L+QR3vmvbEbcnLxr3sfxL68Qvz++l+jWmzig088iU7pabjlVz/H8K4dTXw7ZfuUDEzjlXdm495nXkFyair+7/c3YGCXDohHQGwQC8W2ZkVpHf2FUj4TGj4GTpGelJRkpkfnVOm2OFy8eDGWLFliuu/yVTaMw8DJlThWld19+a5WHmcfw4cmK8UJpAhOS0szgXGYrh342Q52nOMNPJav4uFEJhTSxmG1DbmiKG0EujpWoNjkmLH9+w+gtLQSgQAdMtqoL/ZzRnvQIOKNwtV+mEbxxmBPjcJ3y+4/mItnX3kZf/n3v/HUCy9h7YZNKK2oRH0gAL8cW1JeidffmomXp8/ArNkf4KmXX8Pdjz6Gf993P/778GOYt/Qj1InibhQX8JRTTsNll1+OfgMHmZZYf5gT+RVV2J1fiBr5Wba63X0xbN/088CyM77fF8TBgmJsEVFeVe+T8jqM0JUakVjHkaCiKMeFr96PsrIK8LlcdFQU/IF6VFSWw+0NN35LtGg4h+yjf1VZVYuoiEjExcQgXO5PCliXWAu2WIYOlThaOAzXTaDN5HaxgRL8kgne8yExPxPGjYmJRWRkpPHnDh06ZLoWczxveWUlyqqqJF37LM2B8AHkoeJirN+wERW11ejdpwfapySCU8yJ1TUP7RTlWKiIVT6TUONnr1OYcubfGTNmYPPmzUbEPv3002YMan19vZk1+JFHHsEHH3yA/Px8My6VXXo5ERMnWmLX5Pfffx+PPfaY2c9WDwamT+eRrbe24Q09/5flq0xLUZRvEktMUaxyaMAdd9yBW//2d7z7zvuoqqyGg0JW9nNcpz2281jYgtWied1unbUmg5J1EbAUde/Pm4uXX5+Grbv3oMYXgMPlQfcePXHZZZdj8JDhEs+Fg0WleOyZF/Cfu+/DYy++jBffnIU3Zs/Du4uW4sChUtQEG5HZKQvnX3ABrv3pT/Hvf/8T11zzE8TGxcHp9iA2IREx4rjameficPgc5TKlkAgOsaGt2Tq2wvJRgFlvClVV1Xhr5iz86c9/wT333odtO3Ya55ITSZn0FEX52ggEgiJQK83NFiPilFanuqbazBbO8aWEErPeV4+6+jqEu90iYqPNvck73LIJx3+nmvH1koCvodGMxzcPr9gLRfYFD1uJIzHns1YPw20usTcRXq/YTT5grIfTFYbI8AiT59r6WknTeizHEApNMF8jtHvPbsQlxGHI4AGIi44QYU4pzYeIKlGUY6NXiPKF4BO33Nxc0+X297//Pa6++mrTPZgzBLPbMSdcmjJlinlHqy1OuY1PE6dOnYq//vWvuOSSS8wrdChuKVp5PAWs7XxxaYcvy5EOq6IobYtmF4i2Z9Wqldi8eZN5eLZ2zVrzKgrutV+Iz651dO6OxhEWxXw4Yotx5Bgsl46vwglDclp7WTpQFwzA7Y3AGWeehVtu+TOu/9UNuPyHP0J6h06mpbW81ofCihoUVdejItCAygBQ1eBE0B0OZ3gkppx6Knr37I4ojxOZKclISWiHQG0NXJJ2upzDGx7OLBzOUpioV+aDP9bHKpfJM4+hzZR/PnFKDWabFeiamsmfJDAugy/gx6YtW7Bhw0bs2rYT69auQ20dOwkSiWCCoihfBw0i/AIBsV9h9IE8Yt+CpqeJ2+1BOIWhxGlsCKJWbASD1+s2Xf/ZCmtxFINwDGgHKusD2Lp7H16f9Q7ufvhRPPj445jx9kzs3rf38Hutbex12iAjGpo2cEHr4HE5ERnBvPKNEiJixQa5OcmdlIv+Hx8EtkZNbT02bNqE4rJiZGV1QK8eXcEBHNa4W5ZQJYpybPQKUT6To4lICsNwcbiioqJMV2NbhKanp+NHP/oRThVnjfvs42nMKFZ5DOPGxsaaz9z+WYQK2uMJ9rHHwm55Mca2aZ3BJnRb6HZFUb4daDuysjohOtKDgf16IS4uSrYeeW9yYiQzI2+YS4ITYUERgkGxQbJNbmQT2HnOzO4rditIp0tCQAQrxSqFq69pPUxMyMAB/dGlU5aITbFhkREYM24shg/qhfAIB0aOHIofXnohYjxepCYkYNDA/pg8aTwuOu9sXHXJhbj64vNx+Tk/wFUXnIuzT5qIFE8YYiSPzno/irJz2J8XQQll4syVSmDLRqODo9MscU4fkME87JOlPda1aWEF28xJnnfu3YMXX30FSz9ZIc5qHeroBAeDloBtYcMSEhPRu1cvseHhUqcdESc2O1zs87GtpqIox4e5k1sEsS8Bax4R4uS7pMUPoaiVm92899rEop/EVk7ZznWXiNgj7+IjPx0NnofeVo2ks2rDJtz78OO48/6H8cL0N/DC62/i9v89jAeeeQkbtu82KdqjUZumfLM+MAX2bw6BPT/4ui9GoXA1s7qzVVeMUgPtbSu55SO2/WVFWLxtGyrELg/r0xdZSYlGxFrdpK2lohwLFbHKl4bjXCleCQWj3R04tFU1VPzZApPG+rME5pfFFp6h51cUpa3R7ETROTr77LPNO6BvufkPGD9uDLzi1HEiJFohE0vWneJI8TU5gWAAW8VR2rlrl+m6Z7Dtkh3k4+EgKZiudrL9cKulbEtNa4/effvC4/WgrKICm7dsRkllDRr8AcSEOzH1tJPxrz/fjNv/9mfcfuufccetf8Gfb7wBf7rh57jl19fh/910PX7382uRmdQOroYAnIE6BOpqUF9dJT5hA8JEaG7duAn33H0P3l26GOW1taZLoXiHcDjFlkoI+v3Wa3ikbCyD1SXQClZZHKgR0frhsmV4/Omn8e+77sZ/739QxOwqlNdIXuU4p5Mjzuz49JXDMHnyJPzutzfhT7f8EWdPPQsecUhpMlkHR7qriqJ8McSQfCqIWBPbZSa5lPuNgtZs430vN6D9mbbM7XEbs+UP+CVYD7fMPWwl87nhMbkFBZgx+z1s2bIJKeHhGJaagsFJCUgTn+3jpR9h5vuzcbCsApy20wwtMOHwGUO2cF22iA/YIMGIWYpv2WYmjGv6zGPsIwmX9Y1BbBGbvG3fAcTEJ6BPt66IlAMpnBnYmfg4i6Z8D1ERq3xpKBB9Pp/VJYZWVjiWOKVx4zGc1ZPrXzfMi4pYRWnL8KfK6l4WFuY0PT/69euHM888E2kpKaZ11e5qa3VFkyVbA+TeLyopxvMvv4Tb7vkvpr05A/mHDh3hULXkSNNlCUW6UwVFJZJWmXHf/CKMN2/eiIryEkS4HHAGfWgX4cY5UyZiyqih6NMxDamRbsS7HeZdh2wnDhd3MNbrQlyEV5y0gAQ/oqK8OPmUybj00ouRlZmJBp8f69asx+333o/XZr6Losoqk4fKikqs37AB78yejQ1btyLIpmFxEC0xarmSXDJv+YeKsGrNWlT7AtibV4gZ787B32+7E7fffS/mLliI4nIpgxzOcskhEhpFoKfizDNOR4/u3RAuIt2yl1arDYOiKF8PtFN8a0JQbEp1dZV5+B8Rbr1ii62aNtGREYiOCjfDtaqrq424tO97hs8DpaS/IYhNO7ZhzbZN8DQGMDAhFqfGRWNKdDjGy3qsiMvlKz7GlpwDoPWhkKUNsMQsz2hbBWsLLXOjiO0GCbTNFOQ8j2nccDjhpCBvBfp/W7duR3FxCTqK7evQvr3ZzhZYFbDK50VFrPKFoBPJWX85URNfXcNX0nBsKycmsAUjxSONM+E2zg7M1tfnnnsOv/3tb/Hoo4+abfYxoUFRFOVo2F3/7R4foTaDDpRTRF5QnLGq+jqsXLvWvKN12doNeGPWuygoKTUz7wbC6JJxZk86kpbLxK5vdlps7ZSUxFULQ05hIR5/9jnMW7QItX4/HOJwOvw+OAN+uCQeHVBJBI4wF+rk8JrGMJRJyKuux7aDRdiSX4Scynocqm9AaaARNQ4v6sLC5RgXenXthpt+/jP86Q+/xcD+fdEg+d6fm48nnn0RjzzzPF54Ywb+cudduPkf/8Lf/3s3XnzzTRRyxk/mV7LNboZsjeE622dWrt+AtVu2oTrQgCrJVmm1z0w4NW/+Qtx119147bVp8NfVI4ytv3Is50J2SV143KxLlpx1EDR1I65o02e1yYrydWBEq/hTfHpWKfc1h1uFy+ea6hpUyedav9UGGhcXh4z0DDPWvaCgwHTHPR54BwfkHBzTX1RUjNrqWiSFe9HD68bAqnKMDtRidLgLGU4XyksqMOfDj7Bm7wFUynF2i6xf7KHPNP1aDxSZJi0Fx/CW8gGf2M+kpBQRqHWoqalFdHSUGdfrdNgv5bFgCnt278XWLdvFB4xA/z59kRYfC05jZYkSimS1OcpnoyJW+dzYjgyXHJN26aWX4vzzz0ffvn0xceJEXHnlleY1OnYrbGJiIi6++GIMGTLEGGoew89nnXUWevTogdNPPx2XX3754VfvqKOkKMpXgghLdrkrq6rEilVrUFJRBXdkFEaMHmNmB7a6DYujxEmTxOzQ9tD6WILYJGA+SzIoKi7Hy6+9jlnvvodacdY4AcvAPn3wkyuuQIe09hJPYrpcCLjc2FVRg8U792L6ilV4YPZcPPDBfDy4cDEeXrAYD32wEA/MW4DnV6zEvAO52FzrR4l4hg63G9Hi6I0bNhS//9UvMHnMaIR7POb1FK9Mn4E7H3wIM+X47Xn5KPf5sGLdOiwXUU7Balw9lsVk2oESEegffrgEJWVlcIgzSveX+XW7vcZx5AQxifHxiOa8BFJWtvZAtjWahwK0wVwyVRumy6AoyteBW2xHnPhGXrfHCFf6T/Fyj/r8PhwqKjI3OB316OhopKalmYmT+HoxX31zK+3ngXcxhahL7E27pEQxWV7U1dejrrockSJgI301cNZUwiW2oLrejxlz5uNP/7kTf/3vfZg2dwFWbdmBgyJU/Q1iIxvEPjaGiZR1St4cpjW1tKwcXk+45DMWdXX1qKqpQaTYXPp9jEP4l2Xh63P27NmLgwcL0KlTF/Tp1QcxIqitbsS2/bGOUZRjoSJW+ULQ2evcuTMuuugiMzMxxejw4cOtJ4oCDTHXBwwYYN7XaiYkEWPdpUsXI3x//OMfGxE8cOBAawxFk/BVFEVpDVtOGUlFc3EMk8GWWs4ncrCgAKvXrUedP4DYdgkYM2YcYqOjjpBlphVTNjDs3rMHH8yfjzUiFHNy81BZ48PCDz/E7HnzUCOOGTu5Deg/ADffcBPGjxiNCG+4eQdiUXUdFqzbhCdFbL64ah3e3L4HC4rLsFi2fyQJrwg6sKS2HgvKKzFDBOyjq9bigaXL8cG27cgRZ69GUvZIGCHi+HfXXYcpkyaZrtElZaU4VF6BOgpScQjrxe7mHirCe3Pn4VBpCQLBBgT8QWM/+W/VypXYKOVtkG1Oh9OMFWZvl04dO+GCc8/DGaeeiiknTRZHVcorddIS1osdFEX5+mFvtfapaUaklso9XVdXZ+5Xdineu3efEbK8U9kSy+7+vNd37twptq3wiPv1s+5Zez9lZ2ZmR6RlZKC4vhY7iguwp7oMe6srsCknGxX+eiR2yERSh07IK6vA2+zB8fAj+Oft/8Wd99yP5196DWvWbxLbVIl6sW3+xkbsFVFdWVmNxKRkKUcM8gsPwRcMIjk11YjYUFPNdb7Wa8fOXagXG9SjRy9kSXnD3ZTEVudoK7OfYeQVRXBmZmbeypVrrrnGbFCUUPiEn11X+E5Xtpay9VSumcOik0szBkLi2eNbKXDtSZu4zRrYb6VlL60WD2tpHLCm0BpH2/554XlycnIwe/Zs85nj6Dp06PCpdPPy8kycQCBgZlam4G6NL5sfRVGOj4B4NUXi4M2eOxcbNm1ERXUVYuPj4REHkOLNhmu8P8PEJsHlxIcff4R5i5eizhdE3z79cMl5UxEdGW7ZJ7E95jkum1vDXKjyBfDMK9Pw4JPPyHEr8cGSJZi9YD4WiIilw1jv96Nz1y646UYRsMMGiOgNQ5Wksz4/H698sgYztu7BVkkjX8RjidOLCncEalzhIkDDURvmtpZOD2rkvKWNDcgXUbu/qBL78kvE8WuH1LhIeEVRpyfGo1v3nsgWEV1WWYVBQ4fh4gsuxIghg7F1yxZUVdfiEMeRdeqErl27ilB1wy3lKC+vwttvv4X169fDGebEyJGjTWtuvc8ndRWHa392LSZPnoiUdu3MmF5WlmXKrPqjdeYr0jZu2oRFiz/Ert275RwZpoWoUcrE9pHQwPj6FFz5IoT6At+n31PaHRJa5qBURbnc02s3bUZBSRl69+pp/JN16zaiurwMA/v2Qaf2KcZMNYY5sG7bLuTk5SKzY0d0ysq0ZjJvEN9L7nkr9WPdl9Z5oxPaoRxB7NizB3klFThQWYf1lT6s8zUi0KcPLr/2J7js4vMxon9fpLdLQnVlDXYX5GPL7j34aN06fLRmHZav24ADh0pwqKYey9dswKYdO9FLju0/qD8WL1tm5hAYM3Y0hg/siwTJEDsUs7swvcG9Bw7ihelv4lCgAeedey4G9chCO8kah3VY9lwO+B5dF8oXR0Wsckz4I3MsEctxsHxXIwO385U6ZI8YRwpCbl8nRo/x+OodPnXkex43b95s9lEAs+sMxezR+LI/cipiFaVtw+5oB8Rxe+755/H+7DmmlbRX7z5ITkg4PJ6V2PdmQJzF0soKzJo7ByvFGYyMjsFpU6Zg7PAhcNnRTVxrUhTan93ZeXhj1jvYuz8HJeI8FhYdQp6I12oRmw0NnJ04DT+99lqMGzsG4WKuqhoasTYnF699vAJrSytxKDIG1R4Rqi4v6kUU+0S4BsSxDIgADMpns5QQkHPVO6z9tY1OHCotN+eJCI9Cu7gYhLvC0C42Fp07Z2HsuDG46MLzMWroEPTu3h2bt241rR4BOXdQHNcBfcRBjI0xbh91QZyscxxaVhZ7yVyMfQeypa5yTL3w9Tn9+/aViA1SZ3zI2FQFIWzZtg0PPvgoZs+Zh0oR0EOHDUV8XJzssca/teToVltRjk7ob+j35feUk18y2OP4DyPl9zWEYevOXdi9PxspqWno1qMn9mfnICf7AJIT49G3W2dEeb0IjwrH7pw87Ni2A0GfH726dkWS2IpISdNqQqBFa/2+5P1r38MUiglp7ZFfXI4Nu/bBHx2PBLGnXceMxRmXXYZRI4ciIzoSPdJTMWzQAAwdMgw9+/VG+3SrVx1nZ98rtm+VCO+lq9Zg067dqBOb26VHDzi9HixfsULsURimTJqAvlntERCfb+eB/fhEhO+6Tdux6KOVWCNiPK1rN1xwuvha7aJMV2JeC0bEfk+uCeXLo79ByheCwvDAgQN49tlnzQRNb7zxBg4dOmSMEEXq4sWLsXr1ajNpU0lJCd577z3s37/fTFQwa9Ys/O9//8P06dOxd+/ew62xiqIorUHnq6ysHCXFpaiqrIbHHYGoyFixG80/YcYBoh0xXpwDBcXF4hTuhz8YhMvlRPeunU3Lrd0KRNiV2HQnlvUdu3ZivzhabKX0eLzGdrGBIxBshFvE6cmnTMHECeMlLaA6EMS6ffvwzpoN2FBRi0Ph4Sh3O0W8ekWscu5hl6Rr2TTKZHYNNmNv5XMDKGbd8MGDMhGzReER2FBTjTc2bMSKgwWokDjMU5/unTF26EBktItBhKSYFOHBlFNORrt27USHNppX/KwSG8sJTBslnyzbwAEDcPXVP8bPr7vWTBLVp1dPqROgvKIM27dvR21NrdUaJHXwaZPrQEx0nKTXiLr6oBzDiWXqJM/s5KcoXy0VIoRWiNhh11i7hfK7DGcVpo9k91izoQWLi4lFfxGRFKrbKVBFAHbv1cu8OmvT1m1mxnGOgOfM5sMH9EV6QgK2rtuEVR+thq/ef7gF9vPCVtEEIxs9qHZFodP4yZh6ww247IZfYdzwoUh0uhAuexkjVjLYKyMRU8eNxG9+ehX+9Pub8Jsbb8DFl12K3oMGoZIPDOt9qBCbOG/JUjz9yisitHPh8njgERtTUFyB6bPn4D8PPIjbJNz5wAN4473ZKK2qRZesLuiYaOWErzNTO6McLypilS9EfX09Nm7caLqfcaImzlRsO4ecOp0Ge+jQoWbs64UXXmhaaIvFqWSL6K5du3DGGWdgkBjA0KeSPN52RENFLbfbQVGUY/NdvFf8jQ1o3z4NF118IU46eTIGDxmIdgkxh4VYqM3gKys8YU6UiOOXf6hYHEIHOqRnoHNGuhGUofCpP4+r8gfMLMZ8/U59wI/ho0fhSrFd5557NkaLUzf1zFNx5eWXITEmwvxo7hNROFtE5LqKSpSLA1otojcgwpkzBJt3I8p5ghKn4sBeFG/ZiKItm1C5bzfqC3PhCfjAaZbC5B/Fao0rDMVeNzZUV2PWxi3YXFZjZh5lOhHiTHpFSbul/Bwfy94i/G6ZZ9reRYsWirAvMmNcXbLd7QxDUrt4dEhLRbTHiZ49uyM+Pk5scg327dtvJmAxXbAlr5/GgcTEZIwaNRo/+MEPcM4554pgTpCysJa41wrfJfQ35duDD7cfe+wxXH/99XjxxReRnZ1tekGR75KoZZkoXouKilBYWGjuYfpHZkiD7OcVGOV1Yki/Pugo923O/v3YvXsPunfrYh5Ybdy8HSu37kS1VEmEyL2RgwZi7IgRqK2pwQeLlmCd7Ldeg/PZ1zInoeM5acOKDuWLTdiNQLAeA/r1wpC+vdApNhaxso8zm1ihEV65R9i/LlbW28myd0YaThs7Ar/48WW45f9uwdCRoxDm8iI6Ol5iOLFz9z5U1NTiQH4hHn3+Rfz17ntx/8uvYeP6zYip86FzUGy5CN54KX/RwYPGrtWbrFsT1X13vnnlm0C7EyvHhD/yrXUnpvjs2LEjRo4cabazy/CwYcOQkpJiuszwM4UrJ3bijxUFb7du3cznwYMHmzTYpZjxuT3UCbXhZ/4AsGXXXjIQe5zt54Fl0O7EyncVOkN0kvhwiN31OaHad+0abXQ0mpbRPn17Y7QIzO7du4t9iYBLymnGUTWV9/BS/q3esBHvLVqMqtp6DBrQH1MmjjWTOolBsOLYdSTLwtIyTH/rLRzIzYHL7cUll16C8y84D2NGj8CECWMxZMggJCUkwC3ir9JXj+kfr8DqQyXId4Wjyh2OetMi7IBHVGyNOKtlO3egbuM6NOzcDuzfB+RkIyiC1p+fgypxYF0ismMjoxGUcgUk+CUrDQ4naiurEd7oQO/UZESJIG1oCKBKhPInq1bjsSefwbsfLEBFZZVpae7QIR2Txo3DkP79EO12GRfQFIl/rBUUy7lWr1krgrcMsSK2J44di/ZJ4orSgW6KYwf+84ZHok+ffkbIDhw4AHGx0VL3nCSLLjL/8dSMbx3V1p+Csw54/7BVkCKD4oJDX/hZw9cb2JNrwYIF+OCDD7Bw4ULjM/D9p3yrASc5+i700OK1RX+C1xSvLT78p42mb0Q7zfvJuqdgWi73Zediy85daBT7MHhgf9RUVGPnThGaYl96iM1LkvvR6XEjJj4BObkHsWvfflRWVaOD+FMpCXFyP/Iubv2+5HlskegTG7hmyxbMW7Yc0ZLmD06aiJ4Z6ab1lZ6V/QIdPozj8AuH3P8OsVN89Mbj6YUxrFy9FvMXL5E4TjO5Z6b4VbnZ+xHu9iA2IgrFJYfEpmajtq4WvT1ejI6Pw6ioSKRFeK1ZlkuK0D4tGV07d0KE69M9Ptr2t698EzjGjBljrptly5aZDYoSCgUqJwq54YYbjDi99957IdfM4R8XCsSVK1eaLsWMQ5HKH6hnnnnGCFQaNnYXev75540A5rE07DToTz31lDhMfcz20B8r7qNw5o8cg3knmpybPwYcQ8vZjjMyMpCVlWXG2XJM7dFg/liGjz76CDfddJM59/333y+O8OgjWoAJy3HjjTealmS+9/aUU04x2+39Nm39h1X5bsH7gt3y7rnnHvPgZerUqea1V7wvjudhz4lMUFynoPzjvch3EVrdiB1wyq1pHLeme/KwXQo24rGXXsKdTz+J8qo6XHXZJfjdz69BfFS0EXCkuTXSgfc/XIbb/ns3cvMLkNGxE/56618xtH/fJpeNr6ChYxdmJkxau3c37l+6AvscXpS4o1BnxrrKfonkyzuIarGXKCgEakVsBnyHzwcRg3DL9xERCSRnIGPgcDhEiNaIc0gxGyYCOK7OhwHRkbhx7BD0S41DhJT3oAjg2++8G0s/WWUmhYqOjcOIEcNx7tlTMahXTySLMPcGxKWUumiUagmI+GVXZr4Bdqs4uf+5626sWLkK6Wnt8e+//D+MHTYYrsaglLrZrnGNZq5R6pUtwMGmLEtSkor1xljJohGwrG/Cv0e+/bFtwmuKYmrp0qVGZHxX7pkTHQq7RYsWYYuIKbuLLScqY4PKVVddZX7b2zr0NyybZfk8ZWVlxn8JfdDol3uL9xR7X7y9YAnuf+YF1Eh1/PTqq+ByevDUM8+hxu/H1ZddhAvOOgWRcnnWSdylH63Bsy++igN79uKMyRNw/ZUXoaOkTcvY8go297cETpAXFDtVFQjiiWlv4Plpr4vP1g+/u+6n6JfZ8YjjaB9cJm+W/WW7MW2KX5YUsLvzD+LBJ57BR2u3YMzYCfjBWWdj3vwP8NbMGRgxZCjOOe0H2LRrG96f+x78VRW4MC4WE6TIPeqqkC925sPqGswXOz3xnKm48keXo4PYNdaIVSu2kFaUY6MiVjkmxxKxNM50oPkE9aGHHjJx2MpKEfvcc88hKSkJP/zhD80kT08//bTpdsyWWxp0GnNu69evH0477TQjKDm1PMfSstWXTjlbamtqag7/wIXCHwH+4PH9tDyeS07lTlqKzlARy30cj6si9quH9aR18+0wZ84c/OIXvzBjzNlDgl34Gdg7gtd523XMee+JE9h0CwbF3vAaM+0NXIZcb/Y6r0O/vwG3/e9+PD3zLVTW+fHr667Fr350CWLCw5tFrMRn3OqaWtz58CN4Z848VIi9SWmfjl/+8heYPGk8otj11uShwXQBLhXnb8byVZi+Lxf57khUipPJMa5eccr8fFfi0iUiYPOAylLERHowtF9f9OnZE1V1tdi9cyc2btyAaokblGPDUjPQcew4BBLiUeOmHHQhXNRju6APF/fOwoUD+iLLzRmDy/Hnf/8L7y5YCG9kDM4R8Xrjr36BjKgIy9FjnbCCpPjszsxuzZzFlO5ncUkF/nHnnXh//nzzUPF3v/41zjn1VISLW2qVy4LHcUuD1EeY05KmpuZNXVmv8KGjza7ahPXPte+CiCX8jbB7+bS098rn43jrjbbqn//8J6ZNm2bsE30H+gt8BR/fHc8Wy7YO64T+DuGSPpTX6zUP4wlrjFcdP3F9e+5B3PvUc3h/8VJMmnQSLrjgAixYtBhvv/MeunTpiJtu+AUG9ehsZvml6H3vg6UiZF9EWrt4/Ov6X6Fnl0y5MzmW1dy9Eoj4aXK3Wl4U8+JETkkp/vsYZ2FfjnPOOQs/ExGZIvXNe5rHW0cG5bPV+4KB9zwFcKPDjbJAPV6c8RaefOEVxKdkiO93o5QtgAceeFD8vzLc+POf4byTJmDzgRw89OjDOLB9Cy6OicApjQH0LStGtteNebX1eDcQhrHnX4wrr7oS7aMjzVl5fhsVsspnoSJWOSatidixY8c27bUMM7sKU5Bee+21pgWI8WbOnImPP/7YdJuhKGT3oCuvvNK8W5bHUOi+9tpr6NSpE0aNGmVEK3/MOGMxux9TALNViUKVXX/5rkM640w7P59jOfZh9+7dppsw359GYc0WqPHjx5snnaEObUsRe99995n4KmK/evjdsWsYW9D5gEPr6uuHzjcfFHFyNY6TJJGRkeIETcJ1fOfolCnmc9vFcqGCYjcY5IY0LYJOuX9D78zQe768qhb/uvc+vDrnfXHFXPjDb67HTy4610w04mAaJp51TEVlJf5yx11YtnIVqkTQBmVbSkoy+vfvg/Fjx2DSuLFIiIoxjuHWkjI8v2wlPiyvR5HLi7owl6QeBne9DwdXrwK2bIQjUIfBmWm44sKzMWroULRPSUVAbFDhwTwsWbwYz77+BnYXlJgZQRMHD0dC/36ojowQp1RSknNHBHwYlRSNX00Yi37hDvjr/Xjo6afwhDirDqcXF19wvojRXyAurBEeEb0cD8syN0rZKF79FLCsCocTNZV1uOuhhzBt5tsIj4jAL39yDa68+CJEy7GOELvGlmROImNaYeVgVqXZa+rIqi9aS9Pq3eRm8u93QcSG2nd7Xe3WF+N46o3DH/hAeceOHea3lkN4evXqZUQe4XfR1r8Hc182BULfJ/ShIrdSxFqiEyjzB/DOh8tx72NPIdDgxOU/ugI9evXEk888j81bN2HsqGG49ocXomenjubeq6gLYvuu3WZ9qPhK0REcwc7pmuxrmssGOQdFLPdYLaprtu7Evx94HGUVJfj5tT/BDyaON+Ne+digucattlfrL9Phne9EcV01Zi9Zjqdfm4b84jIR2hdj5MgxmC52bfnyjzBu/Fj84qor0DM1HrmlVXjiuWfx4YL5GB30YUqUF31qK7FX7OHiyhpsT0rH+df9HKedNgXtnJ/+rmlz2urjV+WbQUWsckxCRSydZXZZDBWxhGOJOPNl7969zUQEPIYtrXzSSqeaT1TZ9dd+NY9t0Ol489i5c+filVdeMeP62L2YY1YpRil4OQ4uPDzcHEfjz2MpZNlCS6FEwcTjN23aZJ5unnPOOaZFiukQxrdF7G9/+1vzI6Ii9uuDwpVClrNQs97tOtY6+/rgfcmHQH/605+Qm5tr7hneo2zR4ARqbIHjQ6C2DK8lf0MQPrl/eQ/z3YjhThF9TdcXsa8x3q9FlbX483/+g3cWL4Q3PAZ//v1vceHpJ8PLLsTsG0yHjKtya3M24i0HcjB34SJ8uHQ5du3dJ6KT3XODIkDb4/Zb/44RIjQR1oCPDxbg8eUrsaHOhUoRsQFJhC209fkHUfThIjGGeeickoC//fpnOGXiSNln2Sw5FB7aLynDs9Om43/PvID9FXVwZnZHh9Gj0ZCWjDqX1T7qkfz1iPbghkljMDrKaRzU199+G3fe/wBqfI0487RT8Nebf4cEVxgiWI4AuztLQZpaYDm+lku6gP76Bjzw1FN49tVX5GMYfnzZZfj1T65GjDiMrYlYdkf2+SzHlQ6rUzLuohcp+9md2u5KTLj2XRCxrdHS5iufzfHaePoIHGpEe8Xfelu8fpcIvY64zjoy9qDJbnEvW0jt0aB1clcdKK3AEy++hrff/QBdenTHdb/8OQqKS/HCCy8gd98eXPCDk3G52PYu6amIlCrne2ZZ9ax9ns4tK81t2NYZ2BLLrsCkVmzQewuX4M7Hn0Vm+xTc/JtfY0DnjqZ1l6HZovJY2kqrFZehOuDD4k9W4YlXXsemPXsxYdJJOO+sqVizZj3enPEWEhKTcN11P8XkYb0RI/HZWrx4xRoRsi+gbuN69AxrRAdfDYoksYPucHQ9/Qf4kcTPTE0wE0m1hHlREascC53YSTkmNLj2xE50Hvm0lN0VCZ1nCko6mGw1ZWurbbTZ8sMZi9nSyvgUtxSZTINQ7HA2wgceeMC8pof7fvnLX+L//u//jIhleuwebDvfPAefXjIefwD4w8cxMxSjbMll9yM+0WV3ZIpjimZuY1zmiS227HLJ9ZbvurXRiZ2+PKxvtr7z++YEHQkJCSbws4avLnC8q73O+4QPDvggkj0h/vCHP5gHNnwQxF4Kdte1tgwnfHn8ySfx2ptvYPPWLejerRviozk7cfO9GLpeXluH9xbMx165p72ecNOa2rdrlmnptJwzKz4/cnxtTFIC+g0caN496/FEmN4efJjlEqF62skni5OVIk5cEJvyC7F0vwjWMK+IRRF5kg5fqFNXeBB1u3eLUfThpKFD8OOLzkesm/s5OYrcF2J3nGLDOP1SB7GHazduwp6cXPgbXYiRtF3yffrke2IrMDvw8a2PvVKT0CE6HC4RtQfzC4zArqyuQ1pqMiaMHoW4cJHIYk/trsRsRW2UpelKbKrCfMAGqa/VG9aL7WtAz67dMHroMIQ7Q+WoRGNUc26IHd2Jxx57wjwgLC4qRH8R8JS0Jp6Uw/4nn+A09fndw7o2NBxPOF74cJpzW7DXlW2jeH19kbROVFrWTcuy8bMRjXI7sSs/HyS1i/AiPiERO3bvww4RipV19RgyYhgixBfay3fJ7t4LhyjX7h07ISGK8xXzPuTdbv5Y9oZpHoZ7rH+kVOza/I8+wbJ1mzB00ABMHjMKCWJLKHx5LD00BopWy1ujAHbAH3Tgkw2b8czLr2GL5K1fv0G46MKLkZ2bi7ffnonqmhpMPvkkdOnaBdk5+QgXOxob4TFj8WPld6qyrhZ7K6qwR2xeZXwyBp16Gk6/8Bx06ZRhxDOtj51HG346siyKciR6fSjHhW2E2WrKyZv+9re/mXEt//nPf0xLJn+EKDb5jtjbb7/dONR/+ctfzBT67EJMgcj3xT7xxBNman2KRr5q59///rdpQbW7E1EgU1R+8sknpqX1nXfeMe+XnT9/vum+fPDgQeNkEs5Uylf5sIWVracffvihyc/y5ctNfkjLHw9F+a7A+40PZW699VZzD7DbPp1Dbv+uXPeccGeJiPR35szG4uXLUCq2xL63W0XKbQSXBI7jpHg9Wk1YVdQItzjSA/v0xGmnnYrExCQEgw1wiy0K84ibSO8upC45hlQ2mPe/cuZkkxcRlJGyLSs5BdFOF9yyja+9cZo8yI8tgwjJ+JgYpCQmwm3yGJQzc8yvHC/5NO+W5VLSOVw62WQ7+S75TgO+gNWtWjCHmfKJKGUZuZTtDAbJG4/lcZwQi/bXEqCtw4eMpWXWq3tmz34fq1atEseWrwyygkvSt4NTgqJ8lXzXfqdtG2SXK3Rpr9O20Z9iz7La2mojHrt2zMB5Z5+J5JRkLF66DPPlfhwweADOPf9cuCKi8f4HC/DCq9Owc88++IIBEZnWPf3pO5vnsGwfrQr/FZWUYuuOnea1OFmduyAmKsoIYR5Nq8KXHFktr9ZETtxWUd+AectW4IEnn8WqjVvRvXc/nHfOuWgUezJ37jwUFZdg8NChyOiQYXy9/z3wEJZ8tNK8ZztaTNdJY0bi1zdcj9/e+lf88t//wO/uuA2X/uwadO/RzQhnqyYU5fjRXyHlc2MbYzo67AZEschuu+yyyC7D/MwWE4pLdm+kE33uuecaYUpniGNg2N3xwQcfxL/+9S9s2LABI0aMMM73xRdfbFpuCWcr5AzCP/nJT0z42c9+ZrozM1DoUrBynd1r2OrKHwG2zI4bNw633HKLecchZ5rk+F1ODqUo32XY+s3ueOxhwJbYtt7yarlTRwaX2wVvRDii42KNsHTylTJseZR9FnZMizBRjLQ/lg9nrRunkaqvFZgSa40OFbsqN4qAdTjkUxhnHm6ET1w6ilX+YFKUErvVUzKHRk5CI8HFltG6erjleMYzAlaiMxthPF6Cn71XJLg49a/befhYOqJsVKWd5XEu2cL8mLyxT69sC/BYcRzrautlq6QqeWWwZ1o+UqzTgeakTKwCScVqnm2uAn4MDRKfO3n9REVFIiJS6js6ysoX02rln6Iox8YWqewNxl5tfEAfCmctpoClT3WooFBsQz2ivW6MGjEYp005GV65H+fOmYM1a1dj4smTcMZZZyEodunt2XPw4NPPYvm6DagSm0DhyTvy03clb25jLRAQ+5SdnYe8vAIkJ6WgU4dMRLn5gMo6zm59pZBlV+Aa+ZRdUobp77yHh154Cet37UX3/oNwgfhrXo8b0159Vfy1bejRs5fpFbdt23bTmFFbWwePiO2yqirsObAfvuoKdE1PxdihgzB29Aj079sdyfExZuwuX+vD4RbNhklRPj8qYpXjwn6yyDGPFI7ssjh58mQzHpbilQabXX8ZKHBPPvlkM8EMuz9S4BK2sHI8DGdO5RhU7mfrK8fPsmvxddddZyZ8oNGfMGEC/vjHP+Luu+82ratXX321cdS3bt1qxC8FLieRYtp05jnDIYUs88TulZwlmeNuKbyZ7y+K/eTUfnqqKN8modcjA7vd8x5q69en1QLw6eASAXvzzTfjkXv/h7/c/Edktk9HQIpquuA1NpjA7rJWy6bVxTbSG27ex8p73x8QmyQizrYAofXEtXDZESl7Of1VnJzLIyKZraK1QT/qxKmkwDXHSnrW7L0ONFCQivcXFLsTFu4FPC5U+OuwK3s/yiurEO4Uccp9TQLTKZ/dLi9ycw9KyLPSc8t3Fh4BSlLTtuqQMjhY4ga4RXhynJhbIgaMXeXINmD71m24/Y678PrMd7AtOweVLDeFLMskZXVJfL56iGcN47tm5V+ggS/JkLzKdrYss+5Cgzm34BSHuW/fPrj177fijjtuN686YduuSYv75Xh2iWawppBRFOVosOcD/Rg+bOcDfE5Iyc/0k+iP0E/iQyPa76jISHjFvnjY00GOTYmNxHmnjMePpp6K8Po6zJw+Ax/M/QCnjB+FK354MaLi4zB3+Qrc9tBjeHbGTGzNyzev3qH1MMi9SnvAuYn5gTK2ztcggjkPJcUlaN8+AR1TE0xX3oDs46t+iDWACyiXz4tEoN7+2JN44LnnsSu/AENGj8aPxQfjO2CnvT4Dq9dtRFaXzjjr7LORK+df/tFyeOR3aOSYUQiPCce9jz+Fm/7yDyO2t4rNo3znBFI8B20bAwU0X+XDniksd2hoFiimMCHByquiqIhVvhB0DGmAjyUOuS90SSeLMwrToHOyGTpInICG4pPb2HJ6xx13mNfnUIhOnz7dfKao5etCLrnkEvzmN78xrbRPPvmkGUPLp5h33XWXEavsrswWl27dupkWW3Yzfvvtt00XZP5otHUHX1G+69CStBY8Hi969+qFUcNGYMiAgfCK00fh2npsEX7iGHKMPm0LJ24qE9vgF4fyaIgeNS2m/EGMjoo0LZE0a5UVlThUUGBmNPaIWxUXG4MoL10wkYYUfxLYuhEVGwdn+/aAOHBrtm3D6++8i+yycvglDY5zYz58cv794sg++8IL2Ll3j3Ea45MTERETDYcIYzqZHHvGEsTHxSA2OsrIRIpFvhooKyNd8haNquoafPTJCtz9wIP42223YfaiRU1uqiVcWRbb0nGCqpraWlN2t1scZakT7mTc0BBKdFQUhg8dilEjRyCrc5bkyYphpxsaFEU5OvRJ+MCf83fwHfoc9sFt9FsI7QLnNOjRo4d5OJ/KSfjEdnGsO1sos5Lb4dJzzsQ5Z5wGV5gb0994G++9+x569OqDX/7mtxg6fgIOlpfjiRdfxr/uewDPTX8bq3bsxaE6P+rlBvVL+jViyOolLYZCsWfb9+1HvdiDzlmdkJKcZGwe7QdtT03Aj4OHirF49Vo8+NjTuO2/92Pewg8RKfbt7AvOx0Xig1VVV+PZ55/Dug0bkdkpC1NOOx35InDnzJsrdrYco8aMwTCxHUs/+URs0xLszMnHrPkf4sFnX8KaHbtR20iZ3dSrRQInP+fYevthWctg0dJKKYqFiljlC0Hja3fRCxWHoYKWcewl4/Ll5hwDy5ZYTt7E7o+cBKi4uBjPP/+8maGYEzKxtZXvfeXkUEyPTyn5tJLpMD4nDOJkTox36aWXmrQfeeQR85ofnoPxhw8fbl65w7Tfffdd8xSUqJBVlLYH7YDTwVGZlvNjCSrey7Q3n3ZwaC9iRLDxfmcrZFmliFgRs7KhdRsgm+wOshR6kSIW2cobqPfhkDhoZgI7cfNiIyOQIkI2rJFjSylkKTodcHnDkdaxExATj4LqOjw97XXc9+jjWPLJKuw6kI2tO3dj7oJF+O8DD+C9+fNR6fcjIiEeGd2y4I70Skp0Iq0ysXwJMVGIjxSbJ+tskRjSry/+9Ze/4OqrrkTvfn1YQBSJM7x+61bs2rcPAamQw2KTf8xqI3z1deJEV5oWIQ754ERfbJ09KlJmPhxgGtaQV5aulfpSFOUzod2g38L7jr6L/WCN78S3fScGTnLFOPabGDikgY/K+Bbq9IQ4nHPW6ThtyhS4nR7Menc2Xp32BhzucPzwxz/B+Zf+EEkdOmLFhs14+PmXcOu9/8PdTz+H91asxcbcfOwrLkGR5KM0GMT+oiLsEF/IHROLjlmd4Q73oqw+iF3ZeVixZh3efOd93PnQI7j97gfw+huzUFpaiTFjxuKnP/0pJo4bb4ZnPf3sM1i7aSO69+6FH5x9Nqoqq/HmW2+hoLAQgwYPxhni2+UczMcHHy6Bw+PFwBGjEJ2UinnLV+LZ197E5q274RM7Y6SsLJs6qijKF0JnJ1aOCY1M6OzEp512mnmayJbTtWvXmrF4HOPBd8KyZXbkyJHGgVyzZo3p4st3tnLW4HXr1pnujm+JsWNLK1tUBw4caJwrvh+W3Yc5IyjPx1f6sIvwq6++asbRcpKa1NRUs882+pzZmK2xbK3lE06ms2DBAjMbMrs288eAPxoci7tt2zbzA8FX/pAvMjtxy7iKonz1WH02mrFkWfNTez6tN+M+ZYcZaxpyWzKuFZ/dZsOwRWzHJ2JL6v1B9OraFaMGDzQzfIZMmWStSSKUamJeUFJeheWr12LBsuUoEZEYqKtFh+QkjBo6xEyO5IyIREFNDbaIw+ZzueF3UGJaMi9WxK076EBlURlqxbHbtHEjli7/GAsWLcW7cz7AzPfnYvPufajiq3mi45AxYDDcWVmo9ISjRtJmHui4xsnahG6ZGN4uFonBRngbGkWAupAo+eAMyu3Fdi375CNUVlcZ+3r5JZcgq32a6epry1O7lZivIpu7cDG2iYgOl7yfNHGC1EUX8xqOkKprQrZIAkbKm/1WDD46IPzLLWoLFeXzQd+ILbH0XRj4kJ2tsHwQT//EprV7yrROis/FmYcTxLZ06pSB+Lho5OzPwcaNm0QMbkOM+DVs+Rw8ZBjc3igcKinFLvFz1m/ehqUff4JP1q7H5p17jEjdnZePlZu3Y/WW7aiTWzwxKQXZOXlYsGQ5pr83RwTse5gttmLrgWxUB8PQb9BQXHThRTj77Kkmf7PenoW3Zs1EXlEhRowZjQsuuBClJSV4480Z4o/lYOiwobLtAlPGadNfx8FDh8yY3qt+dDnSkpOx/0AOdmzfgcoysVtir+Lj4+ClTaW5sQ3XUZFIR2AskbWqfK9REasck1ARS3HHSZz4yhw+TeQMwRSrFKgc48rxsT179jQCkoabApITPPHpHcfEMj5nLeY4WXYNpqjlseweTKHJiZ3OOussM0EAhShFJNOnI8aWV7aw8jyLFi0yr+bhkuNdOSMxhSnPx7wOHTrUvHqEYpmvHqHAZn54LNOgEGcZWv5wMH8qYhXl26OliOVdx+60xscRW2QErGm2FOdObJDxbcytyT/NoTHMJU5UET4W+1FZXYOUpESMHz4UMVGcP7jZITKHCv6AH1u378Rr02fgxWnTsWv/AQQkWrLYrdEiYIcO6I+IcK+ZUKVebMjmg/koFXFcL+cx2ZGEOIY2OiYWHonnZzfeQD2qAkHkit05VFEpjqEkGB0DT3oHJPbsjZhu3VEhjmyV0w2fpENhHtHYgMGdOuC0fl2QKWkmh4mwlXI2ipdXH7DKvGnzFsyb/wEagg0Y0n8gzp96NuIivE0i36JBVthKXFhYhPc+mI99ubmIFYf3dLGV3bMyzcRRdtltWCuckTlMHEu2AfOz1fZtxWXaXKotVJTPBx/o8+E+/ZTiokOoqa0xvglFLPeFPphviXmIZGwe781GM8yhc6eOZkImvz9gJoNat2GDaVAIF19nGIcAiJ/UpWtXxMbGmSEExeL/7BeBuWrNWiz96BNs2LoTZXU+lNXUYePmrVixcjW27tqDoqpahIvt6iQ2adxJJ+P0s87GhAnj4XGFYfHihXhzxgxslfhR7eJw0hmno+/gQVizchXmzJ5jukdzfhNOqFldW4U3RdTmiL0ZNmoEfnTR+RiQlY5uHTPM8Ii8nFxs3bZL6qIYaYnJSEuwZmk3dssU16qP1uF2O5CjxVO+T6iIVY5JqIjlOkUsWzE5joMtqZxIiTMMjx492rSIUiQyHltPuX/IkCFm3CtbSGeIIeTkTVdccYU5hqLyjTfeMMKR73TtKsaXsw6fd955xhhTyPJ1OhSgnKiJ3eGYj9tuu808xTznnHNMd2GOJ6H4pTHla3UoUDkjMsU0u+1wG8fi8gkh30nHrsyhLbH2UltiFeXbpXURa91/jSJcaT/2Z2eb+5r3NwWXFSskSNwGEX2lVdX4eO0alJRXIFKE5XhxqpLFgaQss2MTpl146BDue+BBzFuwECUVVWiQdDt07ISfXnUlzj3rTCSKveMETUFJNywiHEWicHPKKlElqZnxZJKYGZfqdiImIQ7xIpqdMZFo5LjWuHiEt0tAXEYm0nr0RLtefeAVG1UVGYVScWTrRMAGpZScLCnJ48KE3t0xPDYcnKvdXVeP3Xv2oVhEcAPHzfqCmD13DlaLUxobE4MzTz0NY0cMh1fOb4tYik+rJdaBXbv3YPb8BaaFpn37dPzg1CnISEkC31trlz8Uzh3AXi4c20bH2SP5Ma/vkX0qYhXl+OC9Ql8lTuxHfFysEa9xYoPCmybhCzYETYNA6D3F+5dY2yjqeO9R6ImQ9biR0SkTPXta/k2B2K1t27dh3bq1OHgwD5Fim7qK3zJq9CiMHTUaPXv0QocOmUhPz5DzJho74Gt0IF1sW/eePdGtWw/0HzQYYyZOxmni2/1/9s4CsI7jattH0hXLbJmZmSF22GFoqIEmDZUpbdI2aQpf/y9tvzJToE1DDZNDDpPtmJmZGSRLFvN/ntk70vpaMkWKZec88nj37s7Ozq605553z8D5F14oXbr3kH252TJ1ygfy+qsvy+zZs6RY7cLw4SPk0quulNbt2so7H7wv06dMdaOlnzpuvFz92WskL2+/+nPPy9o1a2XE8KFy8+evk1G9urnB8ppHEqSbCtm01HRZs2GrLF+6XEqLiqVj2zaSmdkqiMT6W6AXfLCFYUtsMgwTscZhCItYxF24KS6RTiKsNNVlSd9UYB+CE6HLW0f206SYKXEY0OmGG25wZTBfLKMRsx+xiwOFWPVzXHJupu3xohJwYuk3y9Q75GMqnU6dOrkRjulvMnXqVNeMGeHMZ5gxY4YTwzTtofnd0TYnjs1nGEbDECtiwYky/X/p6pXytwfuk0effUa2790j/QYNkCYqBA96OnGCEuKlWO3HrEULZYPamSS1R0MGDpC+Xbu4Sf3j1ZFzfbE0D1HLMhXIU6Z+JFu37ZC8kjLp2rO7fOf2b8kl554lTdUxZMxPnE2iwnxqrSJ1+7582ayOW7kTeYzWq6dmrogELTstQ9LadZD0Lt2lSY/e0qp7X8noovakTXspUPGZk5gseSpKS/So8rgErUO8JGmdTh/QRyb0yJQuWhaNDd+fOk1++ee/yHvTpsm0WbNk4eJFMm/REjdPbrMWzeSKyy+TgerURiqDJtcOvX43vrHeuDlz5zsRW6DOZp/efVT0ni8tVFh7IR8LYwfce++9MmnSay7C06d3b2ma0cTZQBOxhnF0uOeGZzs5yYlOpglLSExyTYUrqsrUTvFMBS+JGFHdyTc1TPS4x9awHdtXHn3+gOm0mjdLl+HDBkrPPr1UGEZkz97dru/93HnzZNHCRbJlw0bnT7Vo0VIGq6AcNWaktGrdUlasWKW2MEG+cOMN8oVrrpHTdfuQ/n2lSXKibF2/VubMmC6TXntZ3tTnf+nSxa5//KAhQ+SyK6+QKz97pfTp0V2mqj2Z9uFUrUMzueSii+Xic86VdRs2yLPPvyBbNm6WMSNGylc/f4Oc1b+nNNH6Um9sY7r6dN16qqjNaCqbtm6WZatWyE7159p36yqtWtKJQtx1QvVLNrM1xmGo/t4zjIaCwQ2YJ41IKIKVBAw1j5ClCTJCtC7nCDFLf1xEM+L05ptvdiMQ8+XgYZ1oLwKXvq8IUkBEI1yJEB8JnMswjMZD8ETGSXF5mQrZ1bJuyzZZuWGT7NqXqw5e7TajQp9jWl306NlLIuo0MuXNgiVLZcnyFfLqpDdUCC6SrH05UuVMSJWbD3XC2RPUmWqltiJRyoqLpKyw0H1BIgiZhia/qFAqKyokSXVqV91xycB+MqJNS2mhwtXN8qpiFkFLZLUwkqQpRUqS0qU0pYnsV1Gbm5oheclpwfZ4+tMmuCbINEhuqml0tw5yes8O0knP11LTOte8+XlZtHKlzF22VN6eOlWenfS6rFabWaYOb5dOnaV75056pN4d7Bb/tJ5MMuSd5/UbN0lhcbHatUrprHlp0ke+ulxD7PR6tZ9LFi+R1atXSakb1T260zCMj0EgzKofJ6b/UgtDk995Kjxf/+ADeW3KFJmhz/uewmIp0ee0Qh8+ps9y3ShcCgZ6w5tJ1jSqf2/5ys03yP/ceYfceu1nZdTA/hJfXiqzZ85wQYO/3/sP+d+f/1x+cs89cv/Dj8jmXeqHFRXJ5CmT5b57/ym///3v5Be6/5f/9wv5z3/+IxMnTpT169ZJW7Wdl5x/vnz7a1+VH9x+m1xz8bnSp1WGtEuJk3GDBspVF54vX7zlJhk5YqhM+WiyPPvcM5K1d5ecddp4+apuHzMwELDUlXr6l2a8mDvn9LFy4w3XSMfOHWXGgvnyj0celekrVkteZUXw8k0TdtEMj3EkmIg1GhyEIU19iXC2bNnSCUqELRFeoBmxj5rWBn1KvGClHwlR3lgQuZSBkGXgBPqgAPmJ/tL/ti68eK5LRBuGcfxp1ryZdOjcRTqoeGvbvpM6OsG0NGH8M0zTYwZiIvqYnJomBcUlsmTFSnl64svyJzf65p/k/Y+mSnEZMxcyeEqcjB41KugSoTYja9dumfze+5KdWyC7VSx/8NF0uf/BB2Xm7FmuL2orPWpM82S5ckh/GapCtlk8kRMkNdPkxEupitkSVZQIVQZ/KkxIlPwEXarjyrZKTXG6n4bEzeMq5Yxe3eSakX1kqHqnnbXs8rxCmfTyK7Jw0WKRRBW72Dy1YZUqyEs5h9a3Z7du0qZ5c4mr4BoCqc//wbjJgc1duXqNi8jSH7ZPL7WzaakSp85iXWCbaYHSvkMH6dqlq5sLvCYGZBjGsRPYJvc0qU/EU7tRfaCnn39Bfv2nP8r//eEP8tPf/Ebu+d3v5bEXXpRNu7LctDiIOvqwA/8zBFyipmRNzLPaIT1DTh86VL5x4+fkZ3d9V350x7fli7feLOPGjZF0fd537dwhy1QYL1+7TvYWFMrOfTny0azZ8uHkD11Xq+UrlktJWal0Vz+M7mJf/+pX5Id33inf+9Y35YrzzpF+bVs7e9dUUwtN544dIbd96QsytG8vefvt12Xi669IYUmhG8Tpq7eqsB3QVVL1UrnOoK5qwvTaicaSmiUlyHlnjJfPXXuVtOvQXj7QOvz78Sdk8aq1wQtDTXVbKMM4EGtObByScHNixKTvExsWfMEbwgOTh+M5bjZzhr35pgwePNgNxIRzxCBPDNzEiMYcw0TgDA5F5JTPHPfOO++4JYMxIUTDkdLdu3e7EYmpD4NBcQwDRTFIFH1q6StLfrYxuFNRUZErO/YaWJKPgZ1ef/11d77YPrGGYTQ8OGxhvOuGLEtJSdVnup+cedYEOeess6Vz+/aS4pylIBcvsnjZxeBHe7OzZao6anll5bJo5Ro30nBu7n5Zu26j7MvJdXO2nnnm6dK7d4+oRIuTlNR0tQUJMmvuPNmflyd79uyWdes3yBtqt55/4QV1+GbKps1bXJ/7ju3bSqIK1VYpSdIms5VzMouLitUDUyGLalSIyjIXrHPK9MK4tnI9GVHdSnXTUtSjG9S6uZzfp7dc0KOLDFNvrxsHFpXKKy9NlKdefEH2lxVLior3qz/7WfnsFVfIMLWfXTp1lG6aLjn7TOnVoZ1zGL3Q5MwukqErcxcslOdeeU3ySkqkqwre666+Rjq2bilJccFIqVHzdwC0XMFGY4exy23atJWEhGhzaT2AiJBhGMdAzKOzUe3L4y+9LBPffkfy9mZJSnmZ6z+anZMjS1atkaSUdPfiKS0pIryuq3B2gycxKIoUCMUgMpumz2ZLBn/q1F6GDO4vI4cNlTNOHS+njh0j7Tt1ls3bdkhccpqcefppcqkKzrNHDZcLJpwlF59/rlz1mUvkMxecJxNOGy+j+veU7pktpLmet0l8MGI6iW4ULgKsJ06JxMmKFStk0ptvyB71q+jO9cUbPy+D2rcM8qkNRLxSN7ptYKPjXe2D144p8QnSqXNHSWuSLlt2bHN2dm/2PmnTobO0bNlCtPhgBHoyG8YhCL75DKOBCAtFoF8qDhR9XomS4ngC0VUvUNmGkGTwFrYRHfDH1wXH+MQxHE/kl0Q5/jyHw9fBMIzjD089bltEH8v0xCTp0727DOnXVzq2UWcpgRdmQT7wrTV49mfPmS3/+tcD8sgjj0qBiktGKy4sq5D8YrU/kRQZOnqsDBw0OGpXGAE03s3NOGjgABk1aqSbo7qwsEgmfzhZZs2aI7l5BRKv51++apU88vh/Zd6q5VJaUSJt9ejRqUlyzaA+cuOoYXJ+rx4yqHlTaRdfJRkqX5MrSyW5qkxTqaToMlWXzePKpZ+K14uGDpLrTxkpF/dqL/3UO6SsovwCefmll+TfTzwuO/NzpTwxIqeddqp8/ppr5Mrzz5frL79Ubv/qF+Wnd35Xxg4fqs5g0E83bB25D4WFBW58gFwtL06vvU/ffiq+O+k1Rvvu1mJO2UTfvY4qkAcNHCjd9F5HIuQOXiOYbTSMY4Wnyz906p+oP7Jmw0aZMmOWFObnS7/mzeTCDu3lyjZt5NT0DMnYlyvTZ8yRtRs2qZOOXePZIwUyMJCCwasrL2SJeiJ2EY9EaDs2y5BBHdvI+MEDpHubVpJYWSbd27eTay67VD5/5cVy/aUXyGfPP1MuGT9STundRXq1TJe2aodo8ku7NQSrLxcR6p9+tnGObm3bSb9uPSU5Idn1hV23Zo0UltMORfPof1VaRZf0M7UNjsf+IIwrpUUkUc4dP1Zuue5a6dK5k0ybM08efvwJWbBkhdrWQMD6cxpGXfD3ZhgNDo4VDiOiEmeIdYQrzYpp/ouopQkw0+aQJk+eLG+//bYbRh4Ry/GHEqKUh1glOktZRG0RyZRPszr2HQ2HE82GYdQ/tT11bEuIS5BE9Whw0tJ0Q4IKVfqSuvw8q5oqEVm6zNHn/aPp02XL1m2yectWyduf50pxTdU0S0bzFjJm3KnSlhYfHK8QZcQ17NAuUy658ALpoM4kg4ukp6ZKm8xMGdh/oLRr10HKK6pkugrke/74B3W6Zku8itQOevwA/SY9p00T+dzQ7nLzqWPlunGj5OLhA+WMPt1lfI9OMq5nJzl7YC/dNkhunXCqfHnCKLm6VzsZkpIgnfQ8HbQiRbnZ8sSTj8t9Dz0km/fslsqkRBk2aoR88aabpFubTEnXurdOS5Z2TdMlU1NGSrJz9Pw1hGGEUJoKFpcUS9MmGTJ21ChpEZ2GpyoaKa6BEoLWKOwjuZeBmrgrwV7DMD4eNU9SeUW5bN+9R7JzcqVFSqoMTE+TUZXlMr6kSE5Tv2iA2p28vHyXB7tFFLa2pxYHnhSUGkhbujWkRFOSbivfny07Nq2Tkrxc6do2U3q3byOt1BBkJkVcX/xUTclVFZKkdUqp4rigqTJNln1fVs4dbuLLOft27SrXfuYyGdq7r6xfuVpefP5FWbBoiZSobeaoimjy9caakGjXgR1P1k+ZKWly0emnyk3XXScdu3SVqTNnyaNPPS1zli6TfD0m6OwRnN+X49fdi7WDfsL7a5Jx8mIi1mhwEJOMJEyf1Z07d7ppcYD+q4hNBmJifcCAAfL444/L3XffLXfddZf89re/dY4VTXsRvD7S4mEbAtcLVoQq00MwUjL9bIE5ZhnkieiMj/4eCufIRZNhGJ8sPOE8oTUp6GuKK8P/agUkTp9lFyVAcOmyTJ2iUl1hEBSa70ZSU2ToKeNlyKjR0rZVS5GSwqAJrRbAlDy9enSVYQP7SaLaE37iqvQseryTa1rmqSMGyyVnjpdTNM/lF14oP/vRj+Wvv/mNfOfr31K70ldKNP/iZRvkz/c9LP994WXZtneXOn4V0kodwe5an1PSRS7t2EJu7t1Rvj2yn9wxZqB8T9PXB/eQL+u2K1qmyamar5deUZfyUsnUZaJWYMXq9fLMy6/JroI8SUtLl7PGjpO79Zz9O3aWJN0fSdBKqrBEXAfzvOpntYFl2EX9x6ilNPflvpQXFUvzjHRJTYmTgX26ySnDBrp7xv1iNOYwekjU5uk91bIS4oLYj286zP+uT1v0s2EYHw9EaYkaJJZJFVXSRu1A56L90qs4XzqXl0kLfRYLdH3drl2yZm+25JSXSyl2Qo+lqW6y7idaynNJKxVvDwKLiPik5zyWUSQ7P1eWrlnjpujq2bO7tE1LcX1cidamas6k8kqpKiyWoux9UqAprqzMlZukiaVPYc+J9TQVwmcOHyTfuPozMqp/P1m5YrU8/NQLMm3hUskuK5cSrQdyNrAgQYPiYB1BHHzmelolJrmI7I3XXyMdunWRyQsXyn1qVyevWC/7dL/vI+tDGCzL9f9y3XpwYntwTDj5Y42TD+sTaxwSnJva+sQeDUQ1EZM0b0PE0l+VeVwpj6lvli5dKuecc45cdtllbr7Z0047zX0+77zz5KqrrnLzzfr+sOEIKaKW+WXZn5mZ6fq9Us+RI0e6eiJwKZ/5aTkv0QX6xNK/tq4+sZMmTXL1Io/1iTWMTxaeyNoS+BdLwbY418ed5rIIU2xBlQpVnmVeVnXRZ3fEqBGuLyhNYivUMStVMasrcvUVn5EzTxnj+nXR78pFG/1J1LVKUDHYvWtXOUPt0NlnnS19enSTVk3TpGOHztK2bRvZs3ev7Ni1x033tXjJIjeaZ6aK5S5t26qYLZdkFYE4fYzO2TyUGBiFbYzN3kTP00TtTNNIokTUw6pQRzK/uERmzJsre7KzVHymyueuuUZOHXuKazKMmHei1ddTHdnq/qm6rNGlgZBlMDteCrbObC3jRo9R0T5IkrScYOqK4D6GYToOrqdm0DwtR/NzPzkLTQANwzg2eOJI/ilCWG3PzZXFK1Y64dhOfZOWurdYBe3SkjKZrXZtuWbaoH7LkhUrZJv6JkQ1eUGXlJiiNi545ikveELVJOjCvXzSz4i23fn7ZXvefpm3fpO8NW2GVCUkymfULxrUtZ2zRYHNqJJcfe63btkiWVl71QZkS1FhkQs4YEf98++Tx39m7uxMtTXNW7eRbWoTl65eI5u3bpPmLZpL+3aZkqLCmdYf4CO5QTk1/7s6q61p07GTm0eXa128fLns3L1LWrVsLe3atJZEPY8/54GC1G8lQXi9BrbU2EjjZMJErHFI6kvEciwDLi1btswJT4QqwpSoLM2HmVMW4dq7d28nHomkdu/e3U2TgTEl+bI8HE9ehCnNiB999FE3ONTnP/95GThwoBPODAyFMMUoE4UlSns4EUuTZxOxhtE4oYvAsmXL5eWXX5Y33npbOnXpLJmtM51DBThEDEbURJ/57ipAR40YLn169pBEVaytWjSVa6+6TDq3zVRhGMQDwk6Pc3bUHtAnNiOjiaQkRZz4E3UuU5ISpEOHdmoXuklBQZHs2rNLcgryZP2G9dJbbcWw/v0kXYVxfFWllBWXSv6+HKksKnFRjjIV3IX790v27j2yY9NGWTxrtqxauMS9fMtIb+JEbLKec/2mzbJ67VopVdHduVMnGTl8uIpttX9asTiiyUE1nUccjpR6hzRYBGMOUPYQFa+9u/eQCH1+NcW5JsKaJTjUwcs95uN+8MEHJU+d3tTUNLWTzSRR7SWuI06xOYCG8fFAxPHYOTmmNoURx/erj7Jx8xbJ26UCMrdA1qutWFhaLjub6vPXtacUlJTK2vUbZOHiJTJr/gJZuHSFmy6sUgVplQrE1JRktQs8z0F3CZ5VNVUye/kyef7VSfLUK5PkrdkLZYvanQ4dOshnzj9PujRTX0htBc2FiwoKnN+TnJyk/lY354ft3rPX+UMMvoktPRRcT6Lamrad2kmLzHZuCp8lKkB37dotbVu3knbt27qWHeTDOpFYB7/0JKn9xubho23Ztk0WLVmi9cuX7h07SActi/zUJmrl3GfuZc0PL+j8j98fJI5jaZx8mIg1Dkl9iFhAQNL3ldGEEZdnnnmmm24Ho7l69WqZM2eOa1LsmwGDjwSEDWms8MRZoxnxSy+95OZFY5Ri5pHFCaVp8cMPPyyrVq1y23F+OY7mycxLC5TBdbGdeWsZnRgRe+GFF5qINYxGBs9pdvY+eeCBf8krr7wiG7dslsw2baVvv74uiujsgpoI77gk6udmKSnSs3NHGTVssIwZOUy6dmgvqbozUklzu6CZchjKoAQvimmq5/qHOXsTJ23bt5H+AwfK8jVrZKM6gKlqay696AIZ0KuXnjteSqvi5b2p0+Tefz0oH079SKZ89JF88NE0efPd9+Wl1ybJK6+/IZPeekemTJ8hzVpmSq8+fSU1PUkq4hJl666dMmfeXClRW8XgKOPGjpVWbpqb4Jq8jEXABrWruVaH7nYT7FBXtZvJ6uzSbDpCfmxdtAljcI0B2Pfnn39e3nnnbdcqhmgzUw0lxAdDRh1QvmEYxwR2BpnFE0uTf/qqd+3S2fXT37tvv+woLpPdKemS0Le3nHXddfLZa66T0SNGOjHI47onK0tWrFoj0+fOk+lz5sqKdetk9759UqHPaURtnESCab2mLVwof3jwYZk2dYZs2bxDsnIK3YjpqZEkGdpvgPRUwckoyAjZgvz9LgJLBLRZi+aSkpwsOTnBdIgEEMJ2wsM+krO1lZWBfdHtbdpnSvMWrWXX7r2ybMUK2alCNjOzjbThhWHUh8N+eZsSLpl1ymCk9U4dO0nLVi1l1Zq1snbVaklWuz506DBJwiBGYY2wBsua5F+4BS/dalLQkPnAMxonCyZijUNSXyIWg0fklOa9RGSZyoFmwBhPBCeDkDBkO28LEZjeIfVGNLxO5ICEuM3Pz3fO7L/+9S/3Bu+b3/yma0aHYGVgKIQt5dE0GbHMtdDMeO3atW6Kn7lz57ol6SN1NqkH4vriiy92otowjMZFJDFJtm3dJsuXL5fktFTp3qOH9O/fz9kRiJoJ57Ig3CoryiVe7UW6PvfNmzV3UU0cJgQuU+oIYk2XOD/ItrAD5P0eVw6RUISt2p28klL5QAXqhk1bpF1mplxx6SXSuV17FZcJsiMrWx59+ll5m/3btsvG7dtdE7tNO7bJjuwsKSgtkzJ1XAt1uWvPbmmnNo+Y8Jvvvitvv/++7Nq7W+tcIZVl5W4u2L4qjnHEqIoXse7a3FqwpK7Yao6jjTQCFvtIfZzg1UT/NJW3wTH+Jil79ux19m/nzl2uGfJll10uHdVmMmIz7qYv3zCMYyf8ssy1K9MHK11tVq+ePWXI4CEydPRoGXPOOXLmRRfKqDGjpFebZtKnY6Z7+TZKRdzQQQNcK7b4pGTZl5MjK1XQzl20SBYsXSaLdX2nis/Vm7fJK6+/JauWr5IukQQZrmKwX5N0aarn2r83iy71MqB3T2mtAjpSVS6VVRWuG0FlZYUkJyVKQWGhZGfnuOAC/lQs2Big5Rs+WKqKZ2yJe2mmy9YqWvHpmOJsmfpbO7ZvlYzUVNckOFXtdmBNamyWs1tsUPw21eKS2aadG1V9zeq1sj83VwYPHihtWjZ3dtsfR/6Dk/85cHtAzZpx8mAi1jgk9SVicahS1ZhhMGfNmuWinjT5pclwW/qSqTFkHln6zfIGkChoWMh6p8sbTOpCU2QiCH//+99dRPZb3/qWnHHGGU4sr1u3zglbhCt9bekn+95778maNWvcvLGci/TWW2+5xPVRL8QvkVpELGLWMIzGgbcDkUh0QLeUZDnjrLPkzLPOlMzM1q7vq8uDs6KeUeDABBFVxKlrHOuEHU6kbsemqFBT9yvIRx62qX1xx7Lqzhycu1IPpNkeac/+PHn9rbcle+8+SY5EpEN7tWHpqZKR0Vxmzl0gL7z6qnMqGWE4Qe1RRG1ZUmqKNNd6tu3QUdIyMmR/3n7Jy8+TdevXy+w5c+W1N16Xzer0Mf0GzXn79+kjI4YOlR5dO1c7bUEkQ9ej1wfBZwQsL/eqJFHvD/aWdd3sUgX73fUEV8T1eNLT06WXCuX27dtJ3z59ZcyYMZKWlmoi1jDqES9i3fPKs8lDVVUpLVPSXLSye/eu0rlrJ2mrYq2JKjk/zQ2jsbdukiY9O3WQUSOGycjRY6VP797SomULKSwpkY1btsniFatk3pKVMnfxctmiQrZNcoqc1ryJjE2Ol6EJlZKuz3JeYbFkl1fJwL59pGundpIYVymRhHgXVc1W0Zm9T5Muk5NTXTDB+18e/C6CBuRhjBF8pYj6XSkqTuPjEbG0/BDp3LGt1i1Ttu3ZLQvnz1Uhu13at2snHTp3qrYjLH3yYJn4zBmJujZp1kqWrVgpG7ZskV49uknPbl0lVe0aLwBqahWLu7vBajW1bTNOFkzEGoekPkQsZQCOJ2/4Nm3a5MQqRnDYsGHu7SJitlmzZi4aSj9WxCZNkDkGI8tbP85Pk2TeAr777rvyj3/8Q55++mlXn+9+97tOeOKQFRQUyFNPPSVPPvmkK5u/bQQp5WKUacpMGjVqVHUaPXq0m9z/6quvlptuusmJaN8P1zCM44V3QGockfLyCvc882Kq74D+bhCRYNTxGkclsDk+KdHDnSiL2qNAwAYyjUitylN3HMk7b+Qld7l+9AKW45auWSevqlAtLixw9mbBwkUye+5CWbpivXw4dYZs2rxVUlQInjPhbLnlxhvk/HMnaDpHLjrvPLns4otkQJ/esmHtWilQIZuzL0d2qI1FvGakp8nA/v2cHfrctde49UTmw41ej/qK1Y6eB0GrB7PmBH7Q/UKP4fr8peoBzmF09Q+ugx8gP/eTJsSDBg92EW3EPmVwuG+eZxjGsRMWsQwex7MccS1AgpYheBsk1n3yn92oxJpSNLVKTZI+nTvIiGFDgmeWAdxat5Xisojs3rtfygqKpTMiNq5MTqnIlz75e6VY7cOmvELJSsuQYUMGSt/uXSRRBTR1oe8/AQZefrVqlamCur37jA2sTcQyFWJOTo7zx3g5l56W7pYYG1q3MOpx21YtpL0K8x2798qSNWtl3Y6d0qp1a2mT2VrS1K+iVBL2JSxKuVbuh7NmiRGZv3SZrN26Tfr17CFD+/RRcR8ce2goNTbB4Y80TjxMxBqHBMP1cUVstUOoS4QqUdfFixe7RJmMVEwzNgZ1GjRokBO306ZNc4MsIXZp6sbIw/SnnThxohOnOJAIWgZgIgLLiMc4X94BZbACykfwUl/ELQNIYZzvuOMOueGGG+QsojhRQcs6CSHLdEAmYA2j8YEo4/lGeDnhqkumlsFBYbu3NTV4BybggP0q8hByOJPItQOjm5QVdYFYsiNaPimnQB3C7GytT6UUqogtKytT5y5LVq9dL7t279HjqqRzp47yxVtvlvNOGycDu3aRHvq5a9s20r5ZU+nSUW1ScrKsWbXGjQxMX7TBgwfJ5Zd9Rq6/7loZM3qUtGvVyo3K6aLDWl4gKw+E+0ETYrYTFamxW67Czh6Gccf7//jnyg7KcefAudYUbAUELMkwjI8DzxQp/Bw7e8KyluQIPb5sw9RxPE95YkK8tG7eTLp36yJD1G8aPmyYpKUmy7b1ayS9tEgGJlRJN02p5eWyoSoiC/OKpKh9Bzn1tFOke8f2btoxX35KSqrzzdJV5CbS7Be7GrUNHj7jP/mZImg2zKCayUlJ7gWcH2iOZZKKzZaZmdKyTVvZmZUty9etl42bN0uL5s2lU2ZbSUo80L9y1+YSHR6CQaoKtN5TZ8+SdVu2ygi1jcP795MMLTeosx7hTsd/taVY6tpunOiYiDUOSX2IWPAGEceTpiqIyhkzZrhEs2CELFHTLl26yKmnnuqio4wozLkZ0ZgmwCz379/vzn/NNde4/q9MwUMUF2EMRGw5B8aV0fWI7C5YsMAJY0Yuph6XX365Ox91QPiSMM58JvJrGEbjBTvkoY8qTg/EOl0BIS/QUZOH/DhOvP13L7/YGF3iWvriAgEbOGdO0Kn4bUHkcuhQGTNqtPTt3cc1qSsoyHd1Kysv1WWZnDfhLLn8koulSVLENQ1kKp0kytLqp0bipHePXs6elRQXyxVXXC43XP85OfO0U6WNOodJasPou8t0PVxDrMgGrqyissLZPPIjYmNFa+xndw3x6ggiVhHxmthWqWKcvD6xPbj+6DW7ow3DOBZ4lEg8R9XPsDcwR4MaAWyBe171cJ7NRF02SUqQVi3SpWXL5rJl41rZtWm9JOfvV5tTJVnFZTK/uEKWl1dK1/Gnyrlql9qkp0oihgiboscHLwIVWmA4m3Mg3i7w8pBmxvhLtKrDX3LzU4dEb7Wvp9s7dGgrrTp0lo3bd8qCRYu0bpsls1lT6da9W/Xl+wi1Pyufy/W6GDRv4qTXJbewSM454zTpp2I9/YDgAgXEJFcoKZa6thsnOiZijUOC4aoPERuGN3mMQsyS0TAZTImBlhCtRGRp2sagSkRFJ0yY4EQnovXaa6+Vz33uc66p3emnn+7EMEaUiOz8+fNlw4YN7lgELcKUiCpLBDADOCGW2X/JJZc4sYyx5fqAdZ8Mw2hc+OeUZfi5LVdnrrScUYbjXBM3uiGkp6epDUh24o7HuebZrnHOgudct1FeVOe5LdG83t9hF6tEaxm4RCWf+4yMTk9NkfatWjoRO3bkSBk/doz07t1TWjZvIpnNm8nnrrxCequdSdRzEE1lmaieJ05nRMtj6p5efXrLqFEj5bRxp0hmy2aSHGE6nSDq6kYUdufmc+AkhhNRYPYnRRLdNXBPYpN3LoP8wWcO2rc/VzZs2qgOaUSSkpPUtvPyDwcxyBsQPZeuHUkjPsMwGpjoY8gLKH7cuibf9Di9abpktGgim7L2yoY92bIir1DmFZfK6pQm0n70KfKZa66Vfl07SboexOjE+oBrwiawpHBSUG4Yb0MAG4LvRrCgxlYE+M/8H1gTkZaZLaVlm/ayJ3ufrF+zVvbu2ilpGU2lTfsOWgax12jzYbdkvHi15cVF8tzLr8jMeQukY9cucsVFF0gntbVBqOIQVFeHldhknIyYiDUOCY5PfYtYQGjSfJhBnYiQzp492wnN7du3u/1ERUk0cWG+Q/IRqWUdYUoTPPpmIFCfeeYZ+ec//+nqyIh6DFKCuEUU+2lyyMeABJTBNXTr1i1w6JRYQ+ypa7thGMcH7FF4yYi7wLyxjzz6iLMBvAjr0qVrSMTxnAeODM90zXMdrCPQyBvkOJCg9IBAzgVrREGCY4k4iDRLTZYObTJlcN9+MnLgIBk3YoT0691LUhITqkVrgpamR7pE4ENlpiSqEG7dsqWkqph01aTO7kw1/7t+Ynq8D5Z4EOlEVblGhC71Yd3fG6i51mCdfSWlZfLu++/Lf//7mGzbts01C2zatFn0XgV5a9aDqzYRaxjHmejzWK7/B2LvQPvE9hR9aDPbtZFO3btJRmYbiW+dKZmDBsmICefK+ZdcIkP79pSWalBobxbIx1g4ycEi9ligJOqH3WrXrrW0b9dBcrKyZPXKVbJx0yZp0rSJtGvfUVIwoNG8kFNYKO99OFWef/k1KVKf86zzJsjpo0dLMxXNh20nZ2bqU4eJWOOQ4PQ0hIjFAUOk0geWAVoom+l3GEGYvqs0AUbQEj0l0sqoxiS2MUUPfWIfeOAB+ctf/uKm0qGO9IPFKfPzzeK0IWSJutJnbdGiRc45YxAnzst6GPLHOn2GYTQesEdhkYbSYlqIiRNflFdefU2279wl5ZVVMnzoUElTgZiYkKh+TfAcswx+Al+H5AdKoki/LUzoTIE90OROr0t3vC453peVpKlpcoq0YLCUlETXJNglPQhnLlpEDbpO08Bgtlqiwlquqtm4KuRr4AAmaJn+HK5pc3Q9aBqsopWIM9s4Tre5aXTcBrfRXQMJGNBpq9rIf/373zJfbezaNWulQ4f2MnDQQLffRXicmubQ0LW5/w3D+ESpfo7dJ/cchwVseHeZbuFlE3OytlLx2m/YEBlx6qky7JRTZMTwQdI1s7k0SwgGh+Ll28ElhFP9QWmIz05tgj60W7Ztl0WLF8uGDRtlf16+pDdvJQkp6bK/qETW6La33vtAnnvpVdm0baeMHDNaLrvsEunWupWrNy/0Dlm7+q26cQJgItY4JA0lYr1AxAmjWTDCsm/fvm4k4j179rg5YxGzzAFLpJXBnEiPP/64PPHEE27f+vXrnUhlQCaaGzP3LNFcptehKTGJ8n10tlCdXYQyYpeILNFdBkLxdWHp1yG8bhjG8SP2WfRiNoH+neqLRZKSZNWa9RKfnCr9ho+QscOGuXlhcegQYF6s1iQinoHPQ/LuXCzuvFG7QCKOykjFrDuHUb1JmuUxurGLhiJW1cVMUOXqpvRRQc25KaY2EKio4qKiIlmrdmvHjp1SVUF0NyIJiYw0rE4r59Yf3zyv5hqC62JfRVwwhQ4C1jm4uk4KPuu9ou6qiBG6+YUFsmbdWtm1e7d07dZVrrzqKhe9Zm5ZJL9rNs390sS0GRaFNYzGgX/+sQXhxDZmYWUUY+wOYo9RgpskxEuzSIIwg7afsoe8AZQWm2r21ge+rtSL87dRMdquc0cnXtes2yxzlyyXafMWyvSFi+SNKR/Jy2+/Kx/OmOPm4T799DPkhmuvkgE9OkpGXKRawLoWKXUl41OHiVjjkDSUiI2FqCzNi+kDe9ppp0n//v1d/1UGD/CDNTGgAE2JibTSJ/a6665zIxNff/317jPHEKllRGP6x1JPmg1zDQhcymc6DPYjkonQdurUyZUN3lH1hNcNw2iEVKl4jMRJS+Zfbd9ORo8dK+dfcL6bzJ8+pwg8qPZxEJq6EsjR6Db36fA4e6BlEumlkJqy9TPluk9KdOUA+xFaBYSmm7dVE/16iYr+47775N33PpCly1dKuZ4ntVkzSVS7WF7J6MPB2XAKWYYTdXdCVT/xf21UR3C1TsmpKTJg4EBn/xhAz7VKSUgIBL9eB5FdF+XlGjVhP80WGkbjIPzs15Y8/jMi0i8DT8fjc4RT/eNLdrZL7Qi2uk/vPpLRtIkUFBbLrt27ZMeuHbJz907NVyU91Ge77JJL5JqrrpK+3TtImgpYL9R9apiaGicicePHj3ffekxpYhixIFxphvud73zHjfBL8139m4nurX+8w4RwZeROIrPFxcVuSZNgPzIeiX6v4VGJqR+DRP3qV79yQvXCCy+UX//6124kYt90mIGkfv/737upehDLP/3pT50j56emCDtr5rgZRuMB2xBOEBdf6URehT7fVfEJUlhcIskpqZKmrk6cikMHGpO8rCJ63XMd3edQe0OGoMg6KS4pUcEpkpyeFuTX4ygpUoXIPPjg8EBSsSBgGRyqQutTqPbtz2pXX351kl6LisfEFElivtjBA+W8886R4So4O7XJlIxon7BYq8SVlDsZe2i4Zc62cl90iW2nsISEiLsnVfo5Se+bE7EIWk3k9zbZMIzGD3bA2ZbourdCLA8UsZ88jGFQpPYyXoVpvlZu0/Y9sn7zRtm1d4/a73jp3L6DdOvcRVo1ay7N1NhRfzyzcPIRWcMAi8QahwQHhua3b775phOSDRWJ9XhniaUfZZhoLE2CGYCEJU2I/eh4HvLzmWbC1I8mxfSrZZ7YPn36uOZy4Ec+ZjvzzjKi6YABA1zZvmmxT4ZhND4OeEZVkBFlJCHEklSQ0fwVYYu4oxltSUWZikWa29K0N3iuiVjiIAWJ/2t/3hFy2ECmsnn7/ffk6eeek31qM5o1b+aaMON4xSfEB0159VwVWpQrk/VoyYFg1XWWWhZL6uYisSq88woKZBmDnWzfJfuLy6SwrFKKS8tly7ZtbsC7zRs2SJsWLaVbp07OidPDDsCdw/1/MNwjxGqlnpfmwnx2LwDiVSzrZ9ccO3osfWFd82al+iWB5g8vDcNo3PCkxgpXnnLWj/dTTB3c/LRak0S1KS2bpkuPzh1lUN/eMqhPL+nRvq20Sk+RdK2wF6z+Gnz9G8N1GI0HE7HGYaE5MYMnEe0877zzXDO0xgpCFhFLf9ctW7a4FgaMSkx/Wy9UEbT0l2UQKL+fPrNe6BqGcWIQjE5Mv1d+iIyqe6P/3FYVaPtycuUttV1Z2VluUBEEZ5Avqtaqqd0twuYh9jZu2ij3PvCATGbe6cWL3JRejLCZu3+/lJWVOtGclJzsWoogDOlL6gdJcuJQE8MP02QX8Rofl+Cip1m5ubJ15y7JKyqWnXuzZXdWjovGqmp0NarQshPKK+S00aOkd9fA7vqaeqEJRF3Y7p1V7+gVFBTKlKlT3QjwbmT3lLRAmHMKPTx4EaAZo/ldf9iQYCUvmIg1jMYLjzAvxoKnNYAnluRtQWN6gnnRGFi4GnuF7Qonv82LcL+tsV2LcXyx5sTGIeEt/vLly+WOO+6Q1atXu36oNM/FWfPg6IUdqoYCRyrsTIXXvbNJPRCqTMFDpHXSpElu2xe+8AX5wQ9+4CK1fCbR5PjnP/+5i3Z8/etfd02mw/PHmuNmGI0H/9x6WCt3//vBk/T5108V+tiWV5RLUXGJPPvc8/LwI49I586d5Gtf+Yqcdup4SYyPc6MFh2E04NogglmuNvDDKZPlHw/cLxu3bFURqjJYbU1ZudqcSIJ06dRBOnfq5F6e9e3d27UWIdHPn5dqdHuo1DLKy7VORUWSo8J6X26ObN2+XdZt3iIr1K5u0GV+UZmK7GQtO7CtFeUlkhqJk6suPE++//WvSmbTppKYXDPJhL8fCFI/MimOngt0KGjh519+We7/1wPOPmLjLrjgAmmSnhHcNZoVR++Ds3W6TiSWMhHivk+sYRiNG55iXmS5558NjRZnefSf2lutaGl0C0T3OLxY9eI1jM9jlskAE7HGYcnNzZU//elPcu+997rpbuiPimDEMQLvWIYdzMYADhj9aRG0RCFw4r72ta9VC1n2IXR/8YtfuBGRb775Zrn99ttdk2PDMBoXTrCFbAxrCFasUNihcdsrK2TL1q3yp7/+Rb/bZkhqSqpc89lr5Jvf+IoTsczb6g9iERax4b6sFWrjiJjuy9sv61Vozl+wUBYsWiKrN22R3dn7VJQW694KqdLz0Vw3NTnFzW1NVwhe9JFcnSsCwVhaWiKFhUVSpDapoLhIiktVfqpgjKNfqh5LhLa0pEzK3KjG5dK1XWv5ye3fknPGnSIpWn4k5uWhW+oVM0ck6hUZn+iuJc6J2J//5tfy2uuT3HgB5593vnz729929o+6uBQDdcW2RxDqWmc/VoBhGEZ94y0QlgwRHga7jCWLtUDYOvaZZTLARKxxWHBsiMK+9tprbtRfnCdS2KFsjCBiScwvy9Q7iFZELE3nXdNCddYQ5S+99JL89a9/dZGS//3f/5VLLrnEOZ8WhTCMxgP2JmxzWPMiNhYeXQZimjx1qvznoUelc6fO8oVbb5X+fXtKgoo93/cTeMrrErEMgsSUOqW6RGgWFJXI3uwc2bB5qyxdsULWbdgoG7dscOMGFBeXuEGREL7YR28/XL1jRo6izpFIkqRnNJEmTZtL527dXNq1e4/MmjVbCgqKJEmrcc5p4+Wn371NOrZsIUl6PFFXj7fBlFXu2gbj9FVJsssUNFuetWC+PP7kk5Kfny+33HKLG8QuOYnJOLjmquqoLbgauvkrFK0vQj887oBhGEZDUJuIhdpELHmd/XKfjE87JmKNo4LmxbzVx0HDgToR+kzt3btXHnvsMfnjH//onLK7777bRV2ZdgdHkFGQiTQzD+0NN9wg3/ve99w+wzAaD0ciYr1z4/qk6nJ/caGsXLNOmjVrLp06dtTtla4pcdDwuAYioK5o/Y+mwh420WSZ86AgK/RI1/80et78whLZtmu7bNu+Xe1MtuzYuUM2b9kiO3ftkn3Z2YGtpDwVhyyJCKelpUrvPn2lR/eeKq67SIuWLaV9h45Sqrb1r3//u7z8yqsSpwq0TauW8pO7vidXnXeGJOjJIgjjmqoFLxO1vkRiXf00sZu5XvmhfmW6f9OWzc4+d+rcWSIMXucuXe+BCtUDRKweT5SDTWhZRir29t0wjJMNnnQMx/EHW3WkItYwwpiINY6asDMZdiobI9SPJnFESh588EH597//LU2aNJHbbrvN9e9lsCfmjv3nP//p0tVXXy0/+tGPXJNic+AMo/Hg7Q6JZxMRRwTSi1iEGn1jXb9ONmg+hGNpNI/TeWXlkuSayOq2ygr3Ais9I0Pik5J1i+YgU8ik0W+Uj1qUloswVCEbVZJuu+YniEvzZSKwpaVlUlRSKoUlxVJSXFzdHLdMy+EFGikxMUmSU5IlJTlFMqI2hvrlqRf34eTJ8v77H8r6DZtk2JDB8vUvfUG6tG7u5m9NoAwqSGU4BhGrHytVcTLCMS1NsFuuKTDXoXmDnNH/dcF2diFg/YVVR4x1UeqEcpwTuwhnmkgbhnGy4R5+TTz7wfN/PDERaxwrNjqxcdTg9HjHx6835oTDyyArPXr0cP1jZ86c6QarYsAVputh7liisEy785nPfMY1ubPmxIbROPEClsRUNogvD5FFEvtw0pBxrHmS4iO6OWjqu2TJUvnvE0/Inux90q5DB0lJTQ1cOy3PJy8YARHrRzbGuXKnxcZUVUhEhV+ylp2mdiM9NVmapqVJq6ZNJbN5C2ndrJm00dQ6o4m0SE+T5nqeFD0uRUtAcBL1pCyaD/fu3k2GDxkqY0aOlNPGjZV2rRClREyRzypkg7NqtYJ6IWJ3qt2iq8eHkz+UVq1aS5s2mbqHeuq9QqRqVurr6sx6dJu/tmo7pwtGe0Z4M6Iy/Xj9PrOFhnGyc/yecWeOgtUDoEbYLcOoCxOxxjGDY3MiJJpA4/gy3yxClil1PvroI5k8ebJz/l544QUnaseOHSu33nqrm0fWX59hGI0LBBwi1T2fPKI1ixpxqfAiis9OxOpG1ktLSnU9TrL3Zcsjjz4mk954QxYuXeLsQ99+/SQhElFnqsadcmXpR4Qfx1EGKYGNiEvNQKSACKkTo9gazZuk5UU4p4rPBK0rTYEZkilZxSGfSUl6MNFVBCrCmibOlJORliptW7WSzKZpkuDKCEQzc9zymXO6dsW6kpufJw8/9qg89t/HZNnyFbI3K0uGDxsu6RnpTojStNhPm4NwdYfWXJ6j2s5RttabT4ymzBr3xe3yeQzDOAngeY4xBI7j85z7mnD2cML6HJ8aGScKwTeUYZzEEFnACcMhYwodRuikOTFTYuTk5Dhn96qrrpLvfve7bvogMKfNMBonvJQC90zrMr6CEXnjVBQmqNALRC7NdisqGGQpiF5GdH+c5pNIvJSrEtyVs0/2FeZLVSRBUtPSpEef3hJJSXbRV9fSlqUKTT2JO0difIKKYS0vDklMVDToW5uoKVk3JWnZJFcP3UuTZs7pkn52kU2O1DKpt7dJoDVz6wy0JFWI4HIVn+V6XeVadoUkUVa5lq/5qirKtAyaLle4ptTxSYnSf9BAadq8uaSo+GW+2tLyUhWuCa55s4u26rKKe4ag1npwVuqBPeQ+VTfRZh+jKJeVO2Hu6+jraRjGyYSznqF0/J5zzs4QcrGJ7YZxKKxPrPGpAucNh41Ribds2eL6xCFiO3To4KbhSU5WR1b3m+NmGI0Hnknwzy8CDDHLuhdbfGbpo4f+GLaxziBIZYQhdX9JaYl7/t979z1p0rSpXHHllW7qMEYjBvLTpxVhmZEWRDWZe9b3ucU6ID7j450EdccAZ0QAHwnkpfkuS5oF60mDiISuU03XfDlaGP+XlBRLlapLosWIc0YSTogkSk7efpn40kQpLSuTC84/XzqrLaO+RGCToh3N6NvLNjdyMuvRe1ZertcUFbOs+1Yr3FN/b1maPTQMwzAaGyZijU8dzqFVZw4HzcM2jzlshtH48M+of379M+xFKvj18Ge/zc35qvoWMasbgzIQwpqPeV3LiVZGH/0iFbBvv/W2rF6zVsaOGSMjhg+XphkZLvrqp+ehiS6p+iDlSAUsUAzT97AM6hsVsVoeMtzFTLXA3NwcWbFihcyYOUNGnTJGThk3nuoHx+lPIEz1nlQQXVXhGk+fVpoRx0tioMkdXKu7HypSGa6K60ewkvz99J99tNvbSI4zDMMwjMaEReuNTyU4arXhHV7DMBonRAwRXEQPeV5ZB55pL2CdWIsm8M90uF9oRPMnJyVLqgpYzeCaHbtIq4q/3Tt2yttvvy3PvfSK/PPfD8mylatdtPQAy4Ct0FRRhSRUMRmN4taGr1c4Bds5hnW2uU2ufkRhWaPp8/vTPpJf/ekP8ujTT8uLr74mu7KytC4J7tzVEVcVmylJiZKSEJFELSdSoddDu2gt190Czqk/LgKrQtef398/RKt/IRC+n+F7aBiGYRiNCROxxqcSHDPvyMViTpthND54XsMRQp5T/5l1xBd5WPcJqgWbJqKo9FsN+lzFuYGPfPL9sBg8aV92lhQVFEi5HpuYmiJNWjRzUhN5x7yxpMKyUtml+fYXFkipilHmaiWySiqL5mFqnXIncoN6UEcvEiHOzU8bJ3l5BbJtx3YpLmEO7qDfqlPaesZOnTuiKIORiLP2yo5du9gb5InixDlJz+RGH9alGzBKl/ShraxCpPJ1r/UpL3P3hntInUi8EPARWOrnBaxhGIZhNFZsdGLjU0fYOfPrsUvDMBoXXgQisBBdrPO8+sGJEGDsI/HZH+MJopYsaa6rIg6hpturR+9ln+an7ytTb3Xt1lWSUtNlxIjhMmbUKElOVKFHQZoxKZIki5cukwcfelimTpsuxaWl0rNXL92HbAzylGl9CosKJXd/nhTp0tWX+iEmOZmm7JxcefVVRkh/UebOmyfduneXtq1bawEqLqmcJgaeylKx3LFzZ7nyyiulb98+ksg90HIQq6pQtSitP8JVUyBiIdjOMrgnRFwR+kE93By4mhcxy/6ysjJ3lH9BAGYPDcMwjMaKiVjjU0usg2YOm2E0ThBbYWHlBSyCC/FK8uKLvCSEGZDXizU0H8oQQUtxPrnyg11u7tY0FY6dO3eTUcOGSN8ePdzgToFIDM5PninTZ8hzz02U1avWusGhRo4aJsnJTKTjcul5K+Sll16Se++7V9597z1pqeK0q5ZFFaqomtavoKBQnnn6aXnvvXdlz97dMmjQQOnRs2dQTYWSkpISpW+fPnLqKWNlQJ++kpKUpELY1dbViVGHKQ/Ry1ZEubtXJN3CffDXyLqbRkjXwTfJ5v6x9AncPQl9NgzDMIzGRPAtbxiGYRiNlFiBxTKILgbR2doErM/POik4TvdpUg0apBh9pkcEx+iSpsXNM5pKy+bNJcJIwLqd6C2JhrpELjMymriobZs2mSoIEwOBimDUxGBLu/fskaXLlsmSpUtlX04OezmJOwc4sdyli6SqSG7atLkUl5S4SHAYcrZrlSltWrZ2/XhdPXQrV+RK0c/+Wn1y29xPgFYl2F5NzUsBL1bD9wmqyzIMwzCMRoiNTmwYhmGcECBYPQgsPpOIKILf78UYAs3jRJmTn3yoEWsBNfkCEG9xQo/bmj0MjRTAmMbZ+3Jl69YdsmvXbunevYt07dpJEiKBtOQHQfr0U0+5aGyiiuyvfvWrcvbZZzuxyyjC5KO6CNxNmzdpGd1V0HaSpk2aOBHtxaWHqXEicchXzs91sEadon1uNXF2RiT2R9WI0iAvJ6Rcd7TeA5LH309/Tv8ywDAMwzAaIyZiDcMwjBOCsCj1eLEXFnxQW14nYmPy1Q55ovlcObruP2pC3HqB6wYBZi0Oaah10R/+p4nu/txc2b8/VxLiE6RF8+Yucuvryg9UaPn0n02OCvEAV6ijZg2RGhwVyFYIRKyvHP8zOnG0qsE9IavfwLVoYmTjYGNQF0/4nvnt/v4ahmEYRmPCRKxhGIZxQnMkQsvlQdEdkR4jUzRjja5zm/iIgEU6Hgh7gmitS3o+N5iUHoToZFtQYvh/f1SwhkQNctaOl741OWqOBvYhhX3ZWonoUpPbqP+5++Q3VOesJvZemog1DMMwGiPWVsgwDMP4dODE2JGkEDGb/SpfniRkZ7xLQV9aRCvjGDP4E9P4BHlr+rDWHAfBsQnRbUeSwmUEKTivT8EZo4nmwiSaBbv16FlrdG81iFUIR2ANwzAMo7HCd6BhGIZhnLAcSaQwyHM0qW4QnUQ8ScEcs8FAUMEyWGc7+Xze8Fy0PoWP9ftZ1pXCxwbJHx+koMfs4VPQF5b1GmLvof98JPfWMAzDMD5pTMQahmEYxidAECU1DMMwDOPjYiLWMAzDMAzDMAzDOGEwEWsYhmEYRr1ifWoNwzCMhsRErGEYhnHCcDTiyIRU/XC095xkfWkNwzCMhsRErGEYhvGJUFZWJnv27JEdO3bIzp07Xdq7d6/k5+dLeXm5y3O0gqmysvKojjEaDn4PJSUlMmXKFJk9e7aUlpZG9xiGYRhG/WLzxBqGYRgNDgJnxYoV8oMf/MAJ2ZYtW0pxcbEkJSVJ9+7d5eKLL5Zzzz1XUlNTXX4fyeO48DopPj5eKioqZN68ebJ79245/fTTpVmzZi5PmPCxh4KyEhIYR/jQxNYldv1Iz0c+iM0bezyfSVzvofDHxR5/OMjviT2v/+zzxJZf27m4j/v27ZOvfOUr7nf6v//7v7X+Xjy8gKjr2mor3zBOJvyzFcsn8XcfPrc9Z8aJikVijROWur4ADMNofOAoFRUVyebNm2XkyJHy3e9+V26//Xa56qqrXGT2Zz/7mbzwwgsuesez7SOzYQeLdS96EEAvv/yy/PWvf5Xs7Gy3DY7FOfNlHs6mxNYlliM5H+eoK1/sdj7XJvIo41iuMxaO8ylM+HN4f+z2WHgRkJGRId/+9rflhhtucOuH4lDiPFz+4X4vhnEi4p+t2GQYxpGR0Llz53tY+dKXvuQ2GMbHAWcD53PXrl2yePFiWbdunWzcuNE5rvv373dRl8TExEM6L7FQJm/4cVpjjXyswSevfQkYRuMDu0AE9qWXXpIJEybIjTfeKP369ZNRo0bJ4MGDZcGCBfLRRx/JoEGDpFOnTu45zs3NlVWrVsnatWud0OX5Tk9Pd01WicK+++67zrZ06NDB2Rf2paSkuPU1a9a4tGXLFmc72FdbtJUyyUNEl/3YLM6JMG7atKmzV9SFqPHSpUvdOvZt+fLlbp1II0vqt2TJElm/fr3k5eW5iHIkEqnV1hUUFDj7SB7ysr5p0yaXl22UR53ZRpNr7B9lc/+aN2/u6slxXB/RbeqP+Ec0so/jgebb1Ic82GHuG/cHOwyFhYXu3nIt27Ztc/ciLS3NlcH5eenAfo7Pyspyx3E85XM/2Mc94X6wj3tMGRzbpEkTadGihcu7YcMGl4fr496uXr3alc25uL/AMTk5OW7fypUrXX2p+9atW12Z/C78dRnGyQJ2EZvDc8TfPM88zzPPJs9acnJyNOeR+TfkoUyf90ieGXuujBMVa05s1Ds4aE899ZT87W9/c44NjhUOCs7KgAED5NJLL5Wzzz672pGKxRtfv6S8Dz/80H0+55xznJPHeqyRDm/zhNcNwzh+4FghxG655Ra59dZb5Xvf+150TyBgnnzySbn77rvlO9/5jtxxxx2ycOFCeeKJJ5yDh0Cj32zPnj3lxz/+sRM0f/rTn+TFF190grVv377Spk0b+dGPfuTsw9NPP+2EGY4g9qNt27by1a9+VS688MKDbAJi6o9//KMsW7ZMunXr5oQhYpFjsTff+ta3pHPnzk5Q8bIXG4bg47gvfOEL8rnPfc6J7//85z9OcCEcuZ4hQ4a4c5IfMRtm/vz58o1vfEMuueQSJ+4Qgwj29u3by5e//GVXT0TiH/7wB1m0aJETyji4vXr1cteIqH300Udlzpw5rjzqiiC88sorXX0QutTjgQcekDfffNPVlTq1atXK3XtsMKL73//+t8yaNcvdI/ZnZmbK9ddfL5/5zGec4CUyzu+F+48AHTp0qPzkJz9xYvW5555zdt4L9lNOOaX6d8qyR48eruk45f7f//2fq+uIESPctXLN3BPOxcsMykPo3nvvve7e8LeCeEfUck/uuusud21e4BvGyQJjAvzqV7+SiRMnOhvmWy/gL/Fy7+qrr3a2BEGLf3O4AAAv395//31n88aOHXuQn0UZEPab7JkyTlSOPBxmGEeAN5A4VbyJv+222+TBBx+Uf/3rX86xwRH7+c9/Lu+8845zxGojbFyBfIhYmg6GDTDGPGx8/TbDMBofh3KUeG4HDhzohA2ROIQRIgZRRb/K//73v66JKvsef/xxJ+p++MMfOjHGcb/5zW/kn//8pxNZRFRx3Nj/8MMPO4FKFBHRV5fNYfvUqVOdfUKkIe4uuOACJ0yxOwhC6kiUhOgvIu/vf/+7E5uIbAQ19o7jEHaI8MmTJzvHFAEZC+fD2XzmmWekd+/eTrz98pe/dNeMcEXkcU7uw9tvv+0EJS8FaXJNdJNrpWya7HJOzk/0mnuFoEZ04siyb/jw4e46uBfkx4Zinx966CFXV0QzQhU7jeNLXRDp3Ov777/fifBHHnnElY045nrYR31wsvl9/Pa3v3XnR7BybeShDv5+8wKCyDnXx0sIjkWcUidebHB9b731lkvXXXed+12Rr0uXLk68Xn755U6kg/8OMIyTAf6eeWHVsWNHZ3t4DnnuPvvZzzob8tOf/tS11CDfoWyofy541iZNmuQGVqsNyoj1mwzjRMU8fqNe8YYUw4gjiaNC9IBICVEHRC1vFIkQ4PzhqBEFwODiqOJA8fafiAbg9ODosX/u3Lny5z//2UVZ2M8AIkRPiNbg1D322GOu2RtlGobROMFGeDsRxjeF9c4aAz0RySN6xyBQp556qhN8PPuIIwQuNobUrl07J6KwLbTywBkcN26csz/0v+3fv391c+TaoDycSAYkQvT16dPHRQkZnIgIIiILiI4Q6bz55pudXUPUffDBB07UIQCJas6cOdPZIKKGRIOxU7HXjNjjGhHBRHOJMJ922mly0UUXyfbt291xNCPkfnANX//6151gpNk0EeE33nhDxowZ48Q0Qm/06NGuHAQuIwMT3cFuIva5DiLMRJMR/eeff767F4hxthHJ5hppwstLBGwu14No92KbyChRHX4fnI9rYRsOM3Xk5cEXv/hFdz5/nd455lrZxv0iMs39pck4wpRroekk8H3A38CZZ57p6nvGGWe460VQcy8oB8zpNk4m/Ise7BjPFjaHZ+Xzn/+8fO1rX3PPx/PPP++eaWCJuMXfwY+iewbPCDaKZ/jZZ591TZOxA7wswlbwDPOs0mWDl0733Xefe4HFc+7PH7ZPhnGiYCLWaBAwiCTvcPglzhbNzhCfOGq8sScKwJt8xCtv4n//+9+7qATOHFEVBCyGnOgEhhkxixNGhOSee+5xohZD/Ze//MUdh5D1TqJhGI0Dnse6nklsBU4WDhVCCrGIbUBc/eMf/5D/+Z//cRFKbAbiijze+QpD+Ygr8hGF5DgSUcDD2QNEMULWO3N8RhwTnUWUenuGkKZ+vtUHNop+uURMiVgSRSHySX6cUoS1F2CxIF4Ru0CZiDfqT8SXY0gITZKHqDIgYhHRHpoikg87iUOLHaTZNUIQqA/3DWeZe4tYxekl6sk9JuHkUmfyUBccae4lg3AxgBZlEjXCyUY0czzNv7Hf7OMcsdfq7yd15f4C95GmzdQHOB/1pPkw9h5xS2ScJtYIXn+/D/c7NIwTDf6mY/+u+UzLg7POOsu9vOIZxCbQuoGXU/g6dKXAB6KpPn4Pfc3xk7B1+E402+cZQtDyHJGfZsuI11deecW1UOEzUV5v38LJOBDsGvfFL+sinMfn8+skvrdIft/xwtfHr3u8/Q7vb8yYiDUahNr++NnGm3YGc+Eh9gN2+EgDbxVJRA5oYkaEAyeP/lBEKOifRsSVJnWU0bp1a9f0DKeRZmk04cOZfO+995yxNwyj8VGbbcBpw0lDqNCXEog+0HKDrgc0q6UJLALPOwGxYgnYhoNGv08iEghMBN3hHA8vkCiXJXk5hvOxj8+xjqaHPESBeaFGqxCfXn/9ddcEFzFc17FsJ5IJ/tycjwR+n8fXg3OSqKOPEvu8/lrDeXzZPiEeSdhPmhUTncG5pZ8rEZ7x48e7qCr9dmneSDSciA+/D5xkHGyiRLxwJLLKtWKniexQ7qHudSzUhzoiaokKI4iJGP/ud79zTZmvuOKKoyrPME4WeCaGDRvmRCj99HnGecnku2nhL9EaY/r06U6s0vqE55DWDDzbvEzjJRO+EnaIPv34S7xsY52XULx846WWt3NG7WCjiGjzncKLvLruFdu9XeaFIi8d2UbiZQGfeVmHTT6e95tzU0cCQvz+fV38Nup4POt3pJiINT4Rwg8Db9X5jEHGUcJh4Y0jg3sADiERBB4iIA/H4ByxnXyIYY6jSRr7gegAzQ5xhDAihmE0PhAtsRBBoDUFzz4vq3j2ca6I3iFq6GZAxIGWHID9IFEWjoF3COiawMsvvoj/3//7f87RI4JImbGCMAzH43D4EXopl5dsRARpikxz1trqDbxoI5KIc4P9wWHEJmGrcAwPZYtokYJjBFwHkVBsHWXWBnXgnrAkSo24p26IVd8010d/iaTi/NJMl2sncZ3kRYT6KDPbcXBxmNlG3Tmee0heRCoCnabANGVk4Cui5uxjZGn67CF2+Z0RMfJwH4G6+t9XLH6771KCw44TTv9nxk6gXyzR5bruvWGczPB3z/PJkoQPhGilawXrtOKgqxb98XkmsTfYHWwINon92Af2EwiYMGGCW+dYWpSwjoDxtpHj/blOdLBf2CvsImKdJV07fNQZEKMINoQltvFQcAzlYTMPJfC4h9xffh+8mCUq7gfG47uA81HO4c73SUAdGVCP7yD/PcXLYq6R7zPuVWPHRKzxiYBR5KHnwfVGE+PKZxw5IqwM/ESfNPq9eueK48jjDYY3tmwnD28aicASFaDZoG/SZhhG48I7RnxZErGjXxcDthG1RKwwGjH9TWk+im1ASCHCEGu0rkCQInQ4nrJw0hBf2AFG4KWPJ1+8vOBCYNHtgCguAzDRTeFQdoGyEIAMkERzPQZGod8Yzsd55513wKi4funLoy8rTWFp4keEg+vivJRFvcEfEwvCnXwIdiKhHIdQp4+pd3pi643zSZ3oe0sdGciJKCnrvODDWUVIIzpx5IjWcB7OQR858nLfGLiKWQkQ+eynHJoWcx2IYyKuv/71r11EnBcDXqAichlBmCaM/O64Rmw4vzPO6+vL7wC49liHjW3k8wm7TsLJRNAipnEEcQB982nDOBnhWfApFp5/BBO2wA9sRis1ukp4f4nnlxduPD88S2GbwXEeRBzPN6Ob4y/xYoomyLWd90TFXzd2DwHJ9fFyksAG3w1873CvvJDl+4XvD4Tl4QRb+Pd0pPfM+67eb+X3wWefjve999eCraY+Yfg7OhEwEWvUO7EPg4cHGGOCEWYQFKINGBUiLTRjI8JAxAQnzjui/kHyZXqjjHOD8aZpDG8deTNJE7hDNd0zDOP4wXPJlznP66uvvuqmrkFoMbIwYpHBmGgGjGAkKsjUKzzPdB/A8aKPFwIOZ85/+TJYHPaCF184ZbxRZjRbInrYh+9///uuXxjRVARWXWBnKJtBVegrRiQQO8VARtgk7A4OCedGrIUhekzdOR5bhoNIFBhRTqTDOzBhvD2jbBwoHFL6pzEIFZFIhCJ1Qsgh5r1Nwyayz4/MTJNp+qYSDeW+0ryXMQdYJ+qCk8uLPe7z7bff7gSnf0FAtw2aGvKSgCWjFNOsmPpyXn4H1M1HWhG8/H4Q7fRtRVz+4he/cPsol1Yx3HfqyPGUQ+I6/Dm5j/53xzovD8jD0k+/QzNifpfcQ/5G+P2z3TA+bdAyhNYZ+EvYGZ5HxgZgZHJsI34PzxzrYXjm/DMGdLPCV6LrAPYVX4mmxxwX+4LpRMbbScQp9glbSaSaEez9NGxh/5R7QUsPttdmp8P4sg+HL9/bOaNhsXlijXoF4+mnb2CgJpwtRuDEseFNF4MLEDGgiRqRU97gE4UheoCTRVMYHz3BSWPES4wRDh5LnFWcKyIBNDfDsNPvjEgIzhgOEJEcHEH/5tIwjMYBtoHmrTRj8k4WQg9niqa43unCjpB4e47jhigiOocNoSUHXQe8g4CjxyBFCCH60yKW6D/GG3fy0OceUccLNPbHOhaUh91gPlaEE4KLaCAv1Wiay7HA233e7GNrqC/OSrgsmohRV66Nl3A4Rtgq6h4LUVTmy2XAJPp8Ei3gert27erugy+bl3WUR9Ngri8MdSR6zHVxDmwh9eI4fzx15v5gO8nDfh/lBO4nZfgmzYxujEDlHrKPstnPOvXy+6grx3DfuX/YbT8gFE4xURDuG/WmLjjR5OPFpb+fvqkzTiTnwZ6z5AUC95i/FQau4aUCg04hoA3jZAMbx8sg+rRih/CNgFYJzNhAazP+9hk3hBdjPCeXXXaZe3mFCHvttdecv0QrFqbQwu7hEyHa7rzzTves4y/RHYP5ZnlhxrOMDWIbXQJ4Sei7c53oYPO4B9g87A022IPdwj5hg7x4x06G7bhfx26R39tSlr5JMnYa+x4+lrw+P/ecfHxfcF95ico5eVlLixa+Y/guIh/5ge8+//0Xxpfp83E+8oXrCVyP3842jkOY+88sfR39sdSR7iHYW2w79cGu0/ya7wLqSL39MeEU5nB1BF8nv4/68tnnY3ksJOgXyD2s0MnbMD4u/KHSz4C3h7wYwfnBoaGpGm8PicDggBIhwMDgyDAoAXkwOqyTj3b6RFh4O88fN0aYkYnJj1PGg0WkhEguTd84jrL5IsB4n3766S6Pf3gNwzh++OeQZ5KoAsIF0cUXJ8LKR1c95OcLGIHLFyzCC2GIWAo7JeTjbTt5KBcRhb0gL9tIlIEjgePmCZ+LF2zYKgQZL9xwODiO/N4JIPEFTz28sxcuA7gGf20sqUNdX8zYMAagYoRhppJBaJNwSsGXTd253tqiBFwr0WXuIcdSL3+cX1JnL0zJ4/vpeiiX/f5ecc0c4/dxTVwzx4f3UT77cOTYRz343VI2x1FnXgL4vKyTJ3wdiGF/zdhxRplnwD4cdP42+L3iNPLdwXRLOOCGcbLByxq6VeDj8Kzg+9B6BAGL0MQ+0CqF5xD/h/mffT9GjvP+ElFZXuADx9P1At+Il2vYEfwlWmVwPl7484KIIAKjH9O6IvYl2YkKwoj7xEs+bAx20ds87m/YBmH7uT/kRViyn+8Uv53vBPxSXq5RLvcOkYw9w74Dx/CikReRJJp/4wPj+1IP7ivfcZwX4eYH6KJevMAgcQ7yY0PZ578vOR/7qQsJ0UmZ1MV/1wEvCPlOoQyEsq83ZXAPKI+/BX8+6sh1+Dry9+G/GyiLPByHbeaa+MzfG8dQR74HKBu4dq7J15Hzso3roI7+WvzLBerONuro7xf14Hzhaz9STMQa9Qp/gBgAjCpGGaPJ20M/WTcj5vFWEWeFP1QeHh5wDCz9rnjQ6A/mm4GQeJDIwx88/c14SM8991zXRAQnh208CBhwHC3e/tMsj4ftaB4GwzAaFv/m9XBgKzysc5xfj6WubbUlbw/CdgF7hdPHFzVzzGJrjhXO4TmU7SEySasUmv7ysu5Y7ZQ/38exc4cqI3w9cDTnOdJj2c7vl+8ImiUz1y79m+lvS6sc7hFRJ8S2YZxs4Nx7gcnLHAIAROt4qcR81DT7960nsE34NTwrvNxB5ODrIEAYyRt/yb/so2UJdo2XR4hUompE2BDBtBhBvPKyiagiL9P8C6qTAUQRPiH3B2FE4r4BdgmbwxKxiS1mie9IHr4PEFhsR9zymbLwTX300ItYymE7eTmGvJTlRTS+KuIsVsSyPVwmoo/PlIed4zuSshB9tMbhb8TXFzHJcfjIiESO4TrxuRHbCF3K4xwIc/LxGV/ZnxuhyvkolzK5Hi9iqTdClPNxHZyL+8mSc3NO8nJeyqJcvju9OGUb5yE/94g6AOckWOWvlbIpg/pyPkAPUAe2HynWnNioV/gj5o/ZGxHWSd6I8EfKQwD+D5U/ev7geaAwpPzhs438vK3ieP6wyePfmJGHMnloeTj8cRgEykX4HomzbBhGw4Nd8BzJF1Q4PxzqmNi8UFf+2uqB3SEqyhfxVVdd5aKDDQ3NaBlwiW4UTIfxabdV/F5wwogsMaAUdh57TkscXizQVBl7bxgnG/zt4yshRMA78bR08NGpsGOPj4Pfg/jw0TL8LfwlfCNv4ygTIcR+8nE82zjO+0scR/n4WSw5ti7beSKBTfcCEP8RkUarEQQi107iWr24wydF5HP/EFXYZ+4DLxI4Fn+USCf5uf+MnUB5QHcLXgogFmmVQtmIPUQt+RHHsc2JEXDkJ+DCvce35ZzkIcDD74u8fCfx++NvgX38vrgmro2XD9hF/jaoM+WynxcTtAbyEWj+Bhi8CmFJCxdeiHBPCAqxDf+Zstjn687LDqDuXCd14G8OEcq94oUJS/6WEKDs53zcMxL3A3tOuSS2US4varh//B44H8dwL2h2zfXxYoVrPRpMxBonJd6QnwwG2TBOFvxz2djgi54v/LCz2JDgROCkeIfKCODvg/vC/cGp4XfB74TtLA3DMA4H9gJxhnBCZPGCAPGEKEPEEUnE7iIyEY9exGJzEKuIMPLxQpNtQHkMMMcxiFi6jPCyDbGGeESQInixWSTEJgKZc8WKWOwb3el85JHvH8pG0FEP6um/h2LtHoIVMYhYpQxePvBygqbhrDPAoI/m+vycE2FMPRCOwDm5TkQ44tsLcO4XIpZ8ffr0cfeG7eTnethPq0fqDtxXzhX+3iQP56SOtA7wdaRcymKbF9n8rsjL7woRyz08GuxbwWgw+OP06UioKz+feehJh8pT1z7DMIxDwZcpX7ThL+KGhPP4KEssn2b7xX0hGsKbfZwd/zuJdeQM42TkSP2Xw+X7NNsQwGYQ0SPaR2STcVgQXV60IUh9vjB8JrrI/cMGYXfwOwG75AUt+dhOOYhatnM+jvP5/fG1gTDE/gPHeFuHGPZNhzmWxGcEIP1NiZwSEWU74tH/nqkPiXP6VooeyiRRf84D/pxhIRkLZXFMuCx/v/w1ep+ce4ZYpo6IUcS9t92xcE5/XiAP989f/9Fi3wxGg+EfrNr+kGujrvx89g/0ofLEJsMwjCPBOwX+y7mhCdsnnIBwMg7E7ovxaeFIfZfD5TuSMk52vM1AMBLZRMwSWUUQEvH0hG0+980f5+/xoe4lApPjyRP2TyEsMmMhrxeAJF+HcBlsp8kv/aSJYLJkJGEixT76GYZjajunrw9C0a8D+WLLCBOuF/i6hSEPwpX6ER32iWbHRL9rO4cvl2V43QtY1o8GE7HGSUvsA2cYxvGFZ7IxJqjtS7qhia2HT0YNdk8MwzhavM1gSZSPqCIJkUTTWI8XUx7y+m2x+2JBIPO9QXkISOB8CDNSrN3y5fl9fj+fYyHKS+QYoYz4ppkwfVHpB+uPiy0fYutMHl9Hv8+fu7bzhvHlh8sMl00diWzTTJqoN/WjqTH9YLk3UNs5fB3CkC98niPFRKxhGIZhGIZhGCc0iDXfBzYM4gih5Jvu+m0eL6oQuhzrmxz7SCLNhtnmRRnH0iyWZsScEyHnX4Syr7Y6HA2USTNdmvUiYhllmv6inI9z+HodDq6XRKSTOobFI1HpY2nC66E8mg5TNwbBog8sA1ZRR38vYjlakXo4TMQahmEYhmEYxklMfQuIxgiijMGaaH7LKL4MMkRfUj/FDEKwtum6vDhlICaEI812mTqH5rKsM4CTbyLrRSRijbIQczShJXLKiMLk5Vw+uugJi7q61j3+PIhn6oDgpHkx1+SbDfs8h4K+wIwwTF9aroN6kWiaTLn+un05dZUXvg4PLwPo20vdKJNm2lw/5+GeUHa4XF9G+Bz+Onw6WkzEGoZhGJ9q+FL1yTAM42QkLBSORTDUxrGKj4bCCysihIhQ+mgi2Bh4yE/twuBH4IUVx7CO6CK6Sh4vZBHDLGkey4jEvgmx/74g+kgkkvP5fqtMmcPoxpyHvOF7zmd/Pl+Ov4ckLyq5Bj/dG6Kc0YcRyuz3x9WGP5eHc/lIru+/SnlEeRG3foCpMIcqPwwinggsUWNeElA2zYuB+xQuI3y9Yfz1eo7kvGFsih3DMAzDMAzDOIlB4CA4pk+fLh999JGbF5tpVz4ORAVJiCVSYwBhhKj00UDEE4ILYRWuI/sQnH4/+7yoIqLLPj4j9NjPdRKNpRw+e8HlmzBzPsoiP8mPJMy6HxmYbZwHsQyUQSLi6psPUzZwPpows508viw+M1CTH+WXuhIF5Rx+2h4Px/F7p26URaLJtJ8ih+P8SMS+2TGRVT4jwjkeqAt1ZD9NhrkHwLVTph9VmXqxj3zUw99Xzs/xnINoN3jBzXbuH1HyWPF7OEzEGoZhGIZhGMZxBIFDJA8BwFyatTV7PVoQCmFRgNh4/rX7c7YAAM7lSURBVPnn5YknnpC7775bzjzzzOieo4d6IoaJdl5yySVuQJ8TFS/EY++XJ7y9rnVP7DY+Q2w+BLLfFrvv41Db+Wqr5+Hw5Xhijz9cmf76ajuOhMiNLeNwZcZizYkNwzAMwzAM4ziAgMJ5J0L6zW9+U770pS/J+++/76JX3uE/FBwfJvaY2OMRCUTMDgXHIEJiywqDIJ45c6a89tprrqkqxOat69jGho/Q1iWgjmZ77DY+15YPEVfXvo9DbWXGfva/1yP9/dRWx8PV219fLGzz0eLY/YcrMxYTsYZhGIZhGIbxCYOI8M0t58yZ45pf0kwUEUuzTpz6wwkNL8A8HOPFQHg9DMLXCwmPb0oLHMN+ttFktDao69e+9jV57LHHZODAgW5b7LlqO7dxfDlS4XoikNC5c+d7WOHNj2EYhmEYhmEYDYsXEwhFBtt56aWXnBikzyHNiocOHSrqo7s89BucP3++GzyH/p6TJ0+WN9980w32Qx9DP4gQTXzXrl0r77zzjkyaNEnmzZtX3d+Qvo8I0uXLl7s0fvx4F00lkkpfSwYpQnSSZ/HixfLhhx+6Js2I5ClTprjzLVy40NU7MzPT1WvRokWuOTGDByFqaRI9a9YsVyZL+kuS1/ehPFk4mcT5kVxLY71eE7GGYRiGYRiG8QnihQHCE9E5e/Zsufzyy6VHjx6uaTHib/jw4S4fYvPZZ5+VRx55xDXhRUwiaN944w039cqAAQOcUEWc/vnPf3bH08QX4YsAZaCefv36ubIY6ZZ8Z5xxhhPHf/3rX51QRTTTzBjh+e9//9uNlcMx7733njz66KNuBFpEK1PIsB3x/PTTT8vLL78sp556qhPfL7zwgvzjH/9wopxEPbt3714txk8WGquoOxKoezjVxZHkOd5Yc2LDMAzDMAzD+IShWS9zmTJAElFPRgseNGiQE4gIUObf9M1+yUvklWlNEJ6PP/64TJgwwQlZxCJNkhEcbPvLX/7iRO/f/vY3J4ZfffVVJyrZ7yPAlNerVy83dQxNmRmNF5gmBUFNZBZx+9RTTznR+vDDDzvRet1117nILeejbv68zBFKnTjun//8pxO03/rWt9xnOJmasRqNAxOxhmEYhmEYhvEJw5QjRDZpkjt48GAnOBGV48aNc6KTaKsH0YmYvP76691IwMz9STSVYxCQNANGAF9zzTVu29atW91xNPUl2ovQjO0Hi8AcOXKkmwt1yZIlLuJLU2KE6ahRo6Rly5ZONK9atco1YSZKO2bMGLcNfJSOJtFEe4m6bt++3UVvKZO8RJZPJgHrr9k4/piINQzDMAzDMIxPGPqrEkUlwopARECSEEpEaGk6TB7EJ0KQ+T1ptkuE1H9mICjyI4jpk0pk9mc/+5kb6fiOO+5wfWOZWzQWjqH5MGIV0Uo0GEHNOSlryJAh0qlTJzd4E2L217/+tXzve9+TV155xUVtfR2AJZFkIq80S37wwQfltttuk4ceesiJ2boGhzKMj4OJWMMwDMMwDMP4hKG5MOIRwfrAAw/I5z//ebn55ptdv1aE7dSpU90SiHbWFQX0zXoZfAmxyTFjx46V888/X3r37u0EZ12wnwGlaL48Y8YMFxUmEkwElcGaTj/9dNc8+ec//7kbHOrvf/+76y8bjuoiYjkH0WTO/4c//EG6devmmj0zYBUC3YSsUd+YiDUMwzAMwzCMTwgfwSQKSx/Um266yU1V89///tf1PWUgpWuvvbZ6MCVGJEbE0qSYpScsahmkiUGbGOCJKOjdd9/tykCM+kiuJ3wcTYoZmIko7MSJE93UPkRnGfEYkb1x40YnXi+++GL54he/6CK/bCO6SzlezPKZkZFpknzaaae5SDDNn3fs2OEE7OHmpjWMo8VErGEYhmEYhmF8QiAoaSbMAEpMP/O5z33ORU3PPvtsOeuss9z6FVdc4UQiU9XQTJh1RKwXoH5Jf1eELU2AEaSMVswATIwS/Mtf/lI++OADdy6fHxCVHAf0ZT3llFNcP1cirPS3pW8t9aJfLmX89Kc/dVFVRkdGpJIHUcp1cG7K27x5s/zud79z4plIMiMcI2C7dOniygqLaMOoD0zEGoZhGIZhGMYngI+kMgUOgpDBj2iGC17o0TR32LBhLvpJfqKjDNbEVDVEQn0e+sciKP08sAhfpumhXy3RXAQqZdBkmBGFw8fQz9VD31em8yH6SlSWc/nRi9u1a+f6wdK/FVFKc2fyUBZldOzY0Z2bMmh6vHPnThdVXrBggYsEUx9fZ8OoT+LGjx/vnhjevhiGYRiGYRiG0XAgVhGJubm5LkLKoEhsC/czBQZQImKKCETwEvH0AzsBZdDkFxHJIE++XEQv4tdvo7+sP459lIPw5XwkmgL/8Y9/dHPK3nPPPa4/LbDvtddec31sL7roIidyKZPIKvuoH8ciZokEU0euiW0IaKYKYsk11nZ9xicH998TjsqfyJiINQzDMAzDMIzjyPEUGfRlvfPOO52YZmAmpvnxopPBohh46sorr3QDPR0tJ6N4MhoH9krEMAzDMAzDMBopCEGfDgcR2Nh0qOPYv3z5ctendcSIES7SGgbhSXSXdCSEz0XZhtFQmIg1DMMwDMMwjE+YusRpeHt435FEMskTmw4HfV+///3vuybDNE0GfxzRWJ9iia2nr6tfP5JzG8axYiLWMAzDMAzDMBoJRyNAD8WRlIM4HTBggJujFjF7KLFqGI0JE7GGYRiGYRiGYTjCwvdQAtgwjicmYg3DMAzDMAzDOAhGNK6PSKyJYaO+MRFrGIZhGIZhGJ8wPuIZm8LUtb0ujjb/4UDEMkDT4QZ2Cp+3tmQY9Y2JWMMwDMMwDMMwqvGRVz8nrY00bDQ2TMQahmEYhmEYhnEQPopqAzsZjQ0TsYZhGIZhGIZhVOPFqzUFNhorJmINwzAMwzAMwzCMEwYTsYZhGIZhGIZhHISfN9aaExuNDROxhmEYhmEYhmEchB/YyUSs0dgwEWsYhmEYhmEYhmGcMJiINQzDMAzDMAzDME4YTMQahmEYhmEYhlErzBFr88QajQ0TsYZhGIZhGIZhHAR9YhGwZWVl0S2G0TgwEWsYhmEYhmEYxkEwTyyDOtnATsaR4v9eGvpvxkSsYRiGYRiGYRjVeAGCiPXJMI6ET+pvxkSsYRiGYRiGYRgHwTyxn0RUzTCOFhOxhmEYhmEYhmEcBCLWorBGY8RErGEYhmEYhmEYB+GbhVok1mhsmIg1DMMwDMMwDKNObIodo7FhItYwDMMwDMMwjGp8E2LfJ9YwjhTfh7qh/25MxBqGYRiGYRiGcRCIWDAhaxwpvgm6fxHSUJiINQzDMAzDMAyjVkzAGo0RE7GGYRiGYRiGYRzEJ9Es1DCOBROxhmEYhmEYhmEchB+Z2AZ2MhobJmINwzAMwzAMwziIhIQEJ2RNxBqNDROxhmEYhmEYhmEchB+d2ETsiY1vFn4yNQ03EWsYhmEYhmEYxkH4EWZPJvHzacSPFux/nycDJmINwzAMwzAMw6gTE7FGY8NErGEYhmEYhmEYB0GfWMNojJiINQzDMAzDMAzjIE6m5qfGyYWJWMMwDMMwDMMw6sSaExuNDROxRr1iRs4wDMMwDOPkgNGJGZnY/DujsWEi1qhXrNmJYRiGYRjGyYGfYsdErNHYMBFrGIZhGIZhGMZBWHDCaKyYiDUMwzAMwzAM4yCIxBpGY8T+Mg3DMAzDMAzDqMY3H0bEEo2tqKhwnw2jsWAi1jAMwzAMwzCMg2CeWISsiVijsWEi1jAMwzAMwzCManxfWJY2OrHRGDERaxiGYRiGYRhGrZiANRojJmINwzAMwzAMw6gTE7JGY8NErFGvmJEzDMMwDMM4OfADOxlGY8NErFGvmKEzDMMwDMM4ecC3syCF0dgwEWsYhmEYhmEYxkGYgD154Pd4Mv0uTcQahmEYhmEYhnEACB4vYk3Invjwu/wkWkz6v5eG/psxEWsYhmEYhmEYRjWxAsRErHGkeLHc0ILZRKxhGIZhGIZhGHViItZobJiINQzDMAzDMAyjVj6JJqiGcbSYiDUMwzAMwzAM4yB8s9DKysroFsNoHJiINQzDMAzDMAyjVhISEqSioiL6yTAaByZiDcMwDMMwDMM4CKKw8fHxLhJr/WJPXPjd+XSyYCLWMAzDMAzDMIxaMRF74uObhZNOFkzEGoZhGIZhGIZxEF74IGCtX6zRmDARaxiGYRiGYRhGrXgRaxiNCROxhmEYhmEYhmHUCiLWorBGY8NErGEYhmEYhmEYtUKfWGtObDQ2TMQa9Yo1NzEMwzAMwzix8QMA4dd5AYuYNYzGgv01GoZhGIZhGIZRK9Yn1miMmIg1DMMwDMMwDKNWfHPiioqK6BbDOP6YiDUMwzAMwzAM4yCIwiYkJFQ3Kw4nwziemIg1DMMwDMMwDKNOTLgajQ0TsYZhGIZhGIZh1Ir1iTWOBv/Co6H/ZkzEGvWKH80OavvjZRs9KspD6eAeFhwXmwzDMAzDMIxPAu/D4deFRSxLnwyjNvzfTFgTNAQmYo0Gwxu9sKHzf9BsCadD07APgWEYhmEYhlE73p+zeWKNxoSJWKPBwNhh+MrLyyU3N1f27t0rBQUFUllVeZCAPVDIqmitCiXDMAzDMAzjuOBHJzYRazQmTMQa9YaPulZqoplwmUrTHXv3yOvvviN/e+A++eUffif/euRhmTVvruQV5AXHaMIk+ibG1U2L0a4+GYZhGIZhGJ8YBCF8AqbXYR1B65NhHE/ixo8f74Jg06ZNcxsM4+PgjJwatoLSElm9do08/fQz8uGUyZKXp6JV/9ISExOlc+fOcvnll8sFF1wgbdu2lXhVql6rssQskky/GoZhGIZhfLIQkCgrK3Ot6Pbv3y8ffvihFBcXi2oGadGihfPdUlNTXT6PF7uG8UmRoILiHla+9KUvuQ2G8XFwTU7UkO3dlyUTJ06UV1+bJO3bd5Dzz79Azj33PElLS5OVK1fJ2rXrpEePnipou0gkISF6tI/MVkmcrmAOzSgahmEYhmF8cuB75efny3PPPSd//etf5Z133pFZs2bJ+++/Lzk5OTJ06FDnz4V9NPPXGjcn4wsHawtgfGxoDuxHGi6prHBClP6v8xcskJTUFLnxppvkm7fdJjfdcot869vflgnnnivbd+yQOXPnyvKVK+W1N9+Q9z54T7bt3CYVVTQorpIKfb5I4Yfu43K0ZcWOouxT/dXIMAzDMAyj8YFIbdeunWzatEmWLFkiy5cvd6l58+ZunzUnPrFAuPrU0OBv+9SQ2F+g8bHhT9QniY9zopYmKPl5+ZKZmSk9e/aUjPR0SdLtNCXmc0paqsydP0/+8Kc/yq9/8xv59W9/I/99/HHZsnWrlFdWqphVIaupEiFLufXA0T64nBdJzvUccI2GYRiGYRgnKYiPhIQEGTNmjJx99tmSnJzstg8ZMkROPfVUSVefzgZ5MurikxLMJmKNegYRWyUlJaVSUVHumgpjCIM9wR9cYiSiBlJkxapVsmzZcslo2lRKKypkyrRpsmzVSicc9S/fDUxcn5FPjDJ9dvft2ydbVSxv2bLlgLRZ096sLCksLJSy8nI9b5XWuWEfQMMwDMMwjMaEFyD0fb3kkkukV69eri/sOeecI3379nV5LBJrHG/sL9CoV7zk8y9fKiurpFKFo1OtjjgVtRGXeInH5k6diM72ktLSMiksKHKDCfi89YVv1rBs2TLXv+OHP/yh/PjHP3bLu3/yY7n7f34id//0J/LD//c/8spbb0heSbGLwFKD2Fow+rIvzzAMwzAM42Qh7N8gVMeNGyfnnnuujB07Vi666CJp2rRpg0fYDONIMBFrfGJ4k4dpJMLporSRiBrJBKlwrVLinWGMj6v/P0vKZY7aOXPmyAcffODE7MaNG11Edt36dbJm3TpZuXq1vKf7Xn/zTdm2c4ebzzaY0dYwDMMwDOPkx0dhPfR/veaaa+TLX/6y9OnTxyKwRqPB/hKNhueAF3ZRUagGkmhsJDGRV31SHqhYiU+Id8kTFr6HS4ejtLRUtm3bJklJSXLFFVfIj370IxeNveeen8lP/99P5Wtf+5r07t3b9efdtXOniwi7N5LR48PEnru2PIZhGIZhGCciXshGIhHXN/a8885zfWFjRa5hHC9MxBofG/6I/CQ5XtAhSenTWi3w1OAF2+OkUldYMoBTua6XIRTjE4KkpZGQr5jIBJfXjwys+V2qcp8ZPVhlppTqNlJRZbkUVfimyHremOa+e/bscYm5zU4//XS5+OKL5ayzz5YzzzxTzj57gpv/rFOnTpKVleXylSJio9dQUVVZfY2Vei3Feq7C8lIp0e1+1OK60oG1MAzDMAzDOHFAyNKMmGUYL2hN1DZ+fDPxWN/4RMZErPGxwXSFzRePB+IP8elHFw7irMGS4ZLYyJJUwXp0VGPmmPWPF2XyB+qPdwLYpeAzIpbPxaWlsnTFcrn/gQfkPk1zFy2QguKiA4zq/oIC2bhls+xUcdqkeTNp0bq1256clCSJiUmSpAkD3bFjR9dUZmc0Esvoe5w/IS7eCeQNmzfJU889I/+4916ZOn2aZO3LltKqiuo6kTc2GYZhGIZhGMbx4mR84ZDQuXPne1j50pe+5DYYxrESFnEbVexNmz5dElUknnHmmZKZ2UZ4f1emO5lnbPac2a55b0JykmS2ayvlFRWSn58no0eNkj69ekpEhaSP8BL5DMQgD55PiNhKLaNEVqxYIU88/oRMfPklmTNnrqxavUaKy0qlaYvmUqnlLFm5XF5+9RV57oUXVMhukgGDB7k6pWSka1FEfoMSEd6MUsx8aOvWrZMdO3ZISUmJJGsd4xMjMm/ePHn0v4/Js888I3PnznV9ahG+mSqIk1NTnNANanYgQVzZMAzDMAzDMIz6wESsUW/EitiZM2c6EXv6aadL2zaBiC2pqJRliNhZs6W4pFgSU5KljYpYpr4pUBE75pAiNio29SdB1yqqKmT9hg3y8EMPyUcffeSaAnft2lWWr1whM/Tc6zaslyVLl8rDjz4ib73ztuzes0daZ2bKeeefL4OHDZEkN+9ZIDydkI3oup5346aN0TrOkhkzZsjq1atl4YIF8vQzT7t6t1bRyny3CF2ELcPOd9Zz00w5aAR9ICZiDcMwDMMwDKP+MBFr1BthEbvJidhZkpKSIqeedppkNGkipZWVUlhUJCtXrJS58+a66GuCity6RKwTfvqfa34cJSi/SkrKS2X5suXy6KOPyvTp06V///7yhVu/4Pq5tu/YUfZmZ8lSFbArVdCmp2fIOeeeI1dfc7Vc97nPychRIyU9Ld3NX+tFJ//HxSVI+3btZfCQwTJ8+Ahp166dFGt9EatEZxMjiW6Y+W9961ty5llnueOIAhOxzcjIcPOoJTF1ULQ8j4lYwzAMwzAMw6g/TMQa9UYgYp0clE1bNslH06ZJfkGBGw1406ZNskxF5/JlK5wg3LhxkxOxkaiIZS7ZWBHrBTFlhkVgeUW5LFq4UB577DF57/33ZciQIXLzLbe4ucw6tesgffr3lW7du0vz5s2ld6/e8tmrPyuXXXaZCtPh0rVjF8lITde/fCK9vtRgyf9Efps1bS59evSUQSpmKbtlq1bSskULuezyy+Tyyy+XAQMGSGvd1qZNGykvL3dimabFzWharNeSnJx8QI1NxBqGYRiGYRhG/RE3fvx4dIJMU8FhGMcKf0SMxMswSIjOqdM/kt/+/neyfMUKSUhIDKarqdQ9cfEqXJMlOSXVDfqUkpomQ4YOkdKyUtm9fbt88+tfl4svPF+SEyJaSjBOMeW5P1KFz1t2bJOHHvqPvPTSy9KrVx/59rdvk9GjR0tKYpJUaM6KSuR0UCfXgV1TTcw1gEGhKMsLzFiRGVxHIMmDhs0BwdYqN+AT52E6nv88+KC8+OKL0rF9e7nrrh/I+PHjJCHOj2Usrhl1bPmGYRiGYRiGYRwbNd65YXxMAnlXs84ovx3ad5BLLr5Ybr75Zrn1C1+QG2+6ScadMk7iExKksgpRG+SPix4YFnts8ilMQWGB7Nq92/W3HT1mjAwYMFCSVcAG0lXFKgMsVSfEa9wBf+iUh8T052I9LGgDAgHrynP/B4nobYL+nxgfkZRIkmS2ai0jRo6UDh06uD63e/fucU2jDcMwDMMwDMNoGEzEGvWOE7OVVVJeXiHtO7SXm1TA3n777XLHHXe4/qTnnHuua3J7JHNVBcL0QOirOnTIUIlEEmXZ0qWyYeMGKauslPJK4rCBMCbFk5zorBGhJP7oy8rLJTdvv2zdvl02bd/morv5xYUuAusJ6lcjzD18phzK3a2ilabN+fn5Mmb0GOnSpauK95oorGEYhmEYhmEY9YuJWKOecRK2WgAyeBKDOzXJaCIZ6eluBF+mrHE5DyFiA8EZ/IThiCbpTeSUcadIv379ZNmyZfLhh5Nlf26ui/wiWsM//hzluszNz5P1mzbKCxMnyq9+9Su588475bvf/a6K69vd+j0/u0f++/h/ZfHSxa6ZMMeSKt0PyyAB/+8rzJdZM2fKh5MnO1F+8SUXy8CBAyXRRKxhGIZhGIZhNBgmYo16JioffTthT+zH6P7aZOyhJmL2IrJnz55y5ZVXuma8U6dMkfkLFkhFOZHYmFNpWaVlZbJx0yZ55uln5J7/vUd+//vfy8uvvOxGN96Xs0/278+Tnbt2yQcffCh//evf5Ec//on8/e//kLnz5ktRcYlr9hw0LvYpmKN2s5Y5adIkyc3JkTPOOMM1k85ISq71mgzDMAzDMAzDqB9MxBpHBQKtrlQXtYlSt0XFYRzJbQlALh4OBmki8tlLhWy7dm1l9+5dsmnTRikrK43m8FJTpFwF7KLFi+T++++Tf/3rX7J+/XoZNWqUfPu2b8v//d//ya9//Wv53e9+L7/+1W/l7rt/JGeddbYUFhTKiy++JL/65a/kuWefk717sqKlBZRXBc2Wc3JzZefOndK0WTPp3bu3tGrStPq84Xvi12OTYRiNmxPzmT0xa20YhmGcHPiWjL41ZENhItY4YuifypBFdaVgip1oUuGKPK3SjURma6DPKoM+IUarpFJFZlxlhSTGx0mCZqusCMY4rgvKCuKtIhs3bZDNmzdJ165dpF+/vlqm7//K/kopKy2WxYsWyOOPPSbTpkyVbl27yje+/nW5+64fyJdvvVXOP+ssOWXESBkxZIiMGzNarr7ySvnpT38qP//5z+X888+TXTt2ytNPPSVvvv6G5OXudw8LIw0z8jANlzt36iR9+vSRosJCWbVqlezMzXY1D98H1mu7V6TgKgzDaKzEPr8HWib/hPvkn+jw9gOf8srysuiaUosBYMouRnIvLi6WgoICycvLc4k+96RCtTWlpaXB6OgVFS55J6FS7SjnrJIyXS+hNE2+1rWczDCMRonrxqTPOOlIRUBt+Xw5ft3Demx+vy12e22E8/j1Izm2tv3+OJKv68chXBZLj7+fYXzewyXj6HGDqkZTXdR2r0lHg80Taxwxh3KF2O73sdy0ZYtM+2iai5iedfbZ0rJlSydAiZauXrNa5syd4xyypKRESUtLVYctX52zYhk7doz06d1bhWLt71fYSlPerVu3ysSJE2XdunVy4UUXyoSzJ0jTjKZuP+cvU0dvyeLF8tB//iML5s93871+5StfUXF6vrRp2cLlI4UfL9ZTtb4dOneW/v36qwCvlFUrV8r6DRvcnLOdO3V2IyKTj3MkJiY6J3L16tWSlZUlPXv0lDbt27m+uQcK99qJPb9hGI0HnvFYm8fzynNbJ2SufqhZiX7AeeILvSpO0JoVqmULC8pk165s2bRxm6xYsUYWL1ous2bOk9mz5qvtnOWWpDmzF1Svs3/RwmWydMlK2bhhq+zYvkeys3LV3lVq8RE9P5Ynzk1r5s5dbUd1XfcdksPsNgyj/vFOe6wDHxYA4X1hURDe5vP4bR6fP5yH9XA5EPsZ/DHh9XD5/phwHvDniCV2my8vvD287kUn22LPAbWdx2/z2/0ydvuhPscmo2Go7V6TjgYTscYRgwmpMV+1oYZG/ychYj+aNk1SYkQskQYnYufMkaTEiBvoaevWLZKbmyO9evWQc885R9ohBPWntj/lsqpyN+jSYhWob77xporgJLn00ktdRDSeKXWiR9HX9a2335b33n9f+vTtK7fccrOcMm6cm0vW19EnOOBc+hBlNMmQrl26SFFxsSxatFCdzV3Ss1cvyWzTRhIII+sRiNi09DR1JjfKWhXTLVu0kMzMTLc9OSk5KEuh7NquxUSsYTRuvH3w8LweUsSSw30J65FVoZwqIAvz8mX3rr0qQFfJh+9Pl7ff+lDeeP19+eCD6TJ18iyZMnmmzJu7WMXsSlmxbK2sWrlBVq/aKKt1ybpLK9bLct23ePEqWbhgmcyfu1TmzFqkaaEsmL9U1q7ZoKI2R6qYhFtrygvCoNbUq2a11mQYxnEBAUUCnHj/OSysavscFnng97sX6dE8fh/wGdgPsccDefzx4cil/+zL8OX7c/gy/DGU4ff7PBA+56HK8OvsA7+/rjr4z7GEj/H5w3UI7/PH+zJJ4LcbjQ8TscYRw+OM6dNH3q3rI8/makcv2Bp83rJtm0ydOtWNTHyAiK0olzVr1si8+fOke/cectppp7lorf4dutF9R44cIWlJOF41lFWUaXlbZN6CeTJ58mR544035G0VqNu3b5dhw4bJueeeK61atnLl84N5WrxsqTz3wvNuKp3rb/y8nD1hgqRGglGRocY0cx0B/jogXo1W06ZNpU3rTDcoFFP5tFCR2rdvH0lR4e2vNaNJEydwZ8+e5ZoUL1my1EWJ9+zdI0UlxZKWkSapIUEbxkSsYTRuwjYBeF4PKWJdtFMTTo/+y88rcNHS+XMXyptvvidPPP6sTHrtPZk5Y6EK1fWyafNu2bUzW3L2FUhRYbmUlNCKhGbF8VJeFicVLDWxJFVWRNznstI4KS6ulLy8EsnJKdRzZMu6dZtV2C5VIbxI5qoY3rBhq2Rn56kti6iNTdFEZwiuiDoahtEYCAsrL5ZYJ4XFqM/jBaifj94f47sWMCMEhMsksQ7h4/1+n5elL89vAy9I+Ryukz+Gc7L0KfacdX32+T2skye83x8TrgOE97MM7w/v8ylcJsnjP7MPfH7w2/zSaHyYiDWOCGcQ9Dmml5V+cuKQPlpEKouKCzUVufXi0hIpVk9siwq5GTNmHCxi9bg169bKzJkzpWvXrnLVVVe5wZTOPPNM6dGju5aNc1YkpSoAi6OJwZjuvfdeefKJJ12ZiMRIQkR69e4l5553rpvWJjUqfDlHXlGBvPXWWy4SPGr0aJmgAjY9I0NKVAwXl5cGqaxEStRbJBWXlukySKVav8KiIufqcY609HQp0WuaN3++lGrewUOGSKvM1nqWgKqqwKhzXdnZ+2SD1nWpCt7Zs2fL4kWLpHmz5q6e1AvCptBErGE0XvyzyTI21Y46SOpXlpdVyI5tO2TO7Pny+qS35cXnX5U33/hQlixcqYJ1nxQVVKogxdFMkoQ4TQmJkhAfSnGJ6jRFVHwyhF1M0u1+PYE8op9D2+L0c0lJhWTt3S8rV6yTZUtXqh1aJmtWr5N92dnOptH6JaJOpzlmhtE48aLKi0NEFUt8DfAiK/yZRH6O88cAn/3x/rPfzzoJYveHP4PP78Wi3x+uA9tiP0O4zHB54TqwD2HtP/s8EHtOv98Ld39MbB2grv18Zt3XwecN5/fbPH6b0XiIGz9+vPsNTVOH3zAORblKO9790a/1o48+kgULFrpBRhhQiT8il3jG9UHfuXuvzFIhx+BHP/vZz9yUOGoWnCid9Prr8sc//dFFNkcMH+EEZiRChKEUi6FJDZcuvLnYs2ePzJ0710VGidwOGDBA2rZtKx3ad5AOHTu4ciPxET1EjZOur96wVsv/kxOSgwcPUrHczTXxpZ4eZ5iqz1Fj8LzxoynxqeNPdculy5bK7377Oxdx/cY3viGXX35ZdZ9dNYla7zI3+ArT9CBiEd0LFixwEeerr75avv2t25zzyAmpK/B/MAiVYRgnJs7i6T//FMfJpg3bZd68BW48gPXrN6lwzJOiwjLNk+L6w2LaePIRm1KlyxrTE4JyD8ZtPcCJYj34zMs0clQ7ZpqqKiskkohNq5LEJJHUtDjp2q2jjD91tIwdO1q69+gmyWnUwxURY4zYeMAGwzAaEJ5bH11l3QtYv81HWL3o8kLMCzn/2Qu1cH7wx/DZi0Xy+Py1CTtfh9rKJHGML5PEfj7zUj/8OXwNfj/bWPfniL1O8GVQF47x1wB8Bp+fvMB+Ep/9OcLX5c/JOim2TH+8zw/k93lOZLgmD9d9MmAi1jhiELH6yMvuPbvlz3/+k2vWGxgHXB5+dKnPRUWlrscnuKbDo0eNlh//5MfSq3sP12eVUTdfm/Sa/Pkvf5G9e7PUMHgnDCOGUQoeMrY64xI1MCnJKXL66afLN775DRnUd4DLE5iXAM6OQFSzJHNU8P5J67dy5Up15iqlpLgkKND9V/MQO/QjxwW1CM6p/0n37t3k9u/cLuefe55kZe2V++67Tz6cPFk++9nPyhe/+EVJS65pUhwGEb1n31554vEn5NVXX5WLL75YvvaVr0hGeoY7C+a2+lzRpWEYJzZZO/fJlCnTZPKHM2Tp0pVSWFiiNi0ilRXqDFWqDZNEZyexZ86PUEPpftQIYDNjqcvB8BbnQMtD3pot2FKSs836Ex+n6ypkJU4duji1mpp69uwuZ5x1qpx2+hjp1r2DpKSpZao+JZaV8tjgk2EYDYV/Zr24DIsqCAs18vHS338m8ZnjOJ7PXoj5/ewjT3i/sw9aFp8pn8T5+Az+HBxDPn+ML4/P/vjY/eDz+HNSnhePnId9sWUQbIDwdbOdMnz5teUPn8Ofk/3+HHwm+fvEPpKvI8f6c/g68pn9fGbpCa8bdcP99YTvWV3bjxUTscYR4yOxzI36hz/8XqZMniLjxo+Tfv36SYIaB/6QXFJDsGb9Bpk6dYqLgt5zzz3Sp2dPJ/AQsa9OmiR/+/vfpHXr1jJmzBhp0qQJxbvIQVBCYJwRvYjc7dt3uGbEA/oPkNu+fZv079vfuVVBzuB/wClExL7/wQfyl7/8WSJq4MaNGyfp6enVD074AaoNprWYP2+eFBQWyvfuuEPOnXCu5OblymOPPuZE6UUXXeSa3jdv0kzPfHBZXOOhRCxfC2YCDeNEwT/j4WedJ1gdobJKyc3ZL/PmLpF33/1AFi1aIjn7itUB07xuUKckt+TVFU2DY82Fasvol7imsFHg8NjM1UT3HGREwvnZGXs8nxGwHI9zFydpGUnStVt7OfPssTJ+/Gjp2auLxAV+q+KFLNdx0MkMw6hH8Eu88EI0gRd63tHHJyJ5UcU6S5/HCz8+A/spz+9nneSPCe/3n8Nlso86QVjQgi8z9hz+M+v+M8mLS//ZnwP8ZwiX4fd7cek/c53s94LU18mXyT5fJonPvk7h/b48v9+fg3X/uwiLXl+e0biwPrHGEePdmv37c+Wjj6ZJdnaWXH/9DXLllVfK8GHDZKhLQ2X4iOGSmpYuc+fOk+TkJJlwzgQ3cq+aOWeA1q5dGzT1HTLE/d2ddeaZMmbsWBk9aqSMHj1K02gZNWqUDB8+XIYOGaoiNENmz5ojGRlN5JRx46WNil/qgTPmTQoCEdi2bv06mfzhZOnevbt8+UtfdgM/jWQ+2BEjZNTIkQelkZpGRJedu3RxIw3n5OZqfUZJ1+7dpLysXJYtX+aaFdOPd9jQIZKu10cdYk0a9SgsLpQli5e4qXd69+7tzsEoyuzDbJoZNIwThcDSBNYP9Omt0qR+E/1Nn3jiOXnh+ddkxYq1Ulykjk9loiae8kTNh3il3ypRzuDpxwZW/7BN89A1gR8//3ScfqZ7BJ8TdMm6+xwfREsiujwwkZ/jSVEbo1X2tiZIuh0h7bZqqkyQkhKm+Nktq1auctP8RBKSpU2btpKUHNQ3uG5fgmEYDQWiCryARUR50cXSCzVEFXm8yPL7vfBjH9v8fuBzWBiSWI/9HK4Dn30dwtFOID/bvWgmf7gOfr8vI1xn8rCfz6yTyOuP8XUIf2bp63So/CQ+k/xnf4zPD+Eywtfp9/vr5Lr9OXx+o/FhvxXjiOBh9wn8Q5+QEK8Pe5Ib/TJ4axW4TsE0NAHONASHORCaFINRSNJjkyKJ6vKpsVRHLTFe13XJtmTdRzlJakzi9Tw0DcageHDMKAv8EhhMKjklWYoKC912df0kMUHLiyS7lBTR+kbXw9uof2Ji8MbRXyvRYIxacVGxu17EaFJ0tGGuK3xeNeXq6qrRrAiMXs29UgPqfgzDOPHA5pAQf/GStSdXXnzhVfnrX+6Xt96YIll7i9QQpGpK1mccwcmATUH01T/3CFnXsiSUnEit/kzeYN0LVideXZ4gRVQQJ2s5KSp8q5MeE6QESdU8pOSqeE1qTzUlaAossqL2KBC3nAtxnUhpkpdTLjOnLZI//P4+uf++/8rqlduFnh2Y2qgJMwyjgcBPCIskfBy2eXHoRRX+CXm86AqLR1JYLAJ52eZ9GX8O1n0etvnPLMkP3s/isz8HUL6vA/g6++P5HN5Gfl8nyvD7fZ2B/RAuI3xOPrOdzyx9Hfxn8vr84eNZ95/DZXjC+cN14Fhfvv9MMhonwV+bYRwVh36gD3zeD50XceqdLJ9wsZxLpwUlqnFx29WZKiwolOzsbMnNy5PyygqpqFKjFxKRHkbfTE1Jlf2aLycnR91PNVahnzDh85JqqDGaBYUFsjdrrySqsG7eorkTyZ6g9izj3KjHjGBcUlrqRmjmWP+lYBjGiQo2Q52k8io3V+t/HnxSHrj/cVm2ZJOUlyZLVWWKVFUkaVKHUUWum6PVNSMOBGyQ+OwtGwIS5xCnNFHtHEnXNbGPvFjBcOK4BC0zgeiurlcn3RYkPSqaKD0pISJJvBRUG8rRDCoVR53c8eTgWM6J4E5Wjy5J9mUVyisvvyN//eu/ZPLkuZKfV+JqbhhGw+EFEv6CF3JhUQX+s/dJvLDyn9nP5/JodJR1L9x8fi/MSOH9/hxe8Pr93nfxZXpBG64jiXWgPPb7c/DZl0kK7/fikG3ANl9m+HN4P/jzhT+Th/LYxjrJ5/Hn4DMpfE6PL9Pv9wn80mi8HPjbNIwomKXYFCaOEYl1I9t5zv2Dj/Dkx+Vx292qUlOKNxgk/gDJQmLdJxyvxDgiqEGTOfpwrVy5Qh76z4Pyz3/+U1579VU3LysiFTFL2fwA09pktsmU/fv3y7Zt29z0P4GQDdei5rwHJLdTS6qMGlTdmJuT6+akTYgkuFGRI4lB/19PhQrqDVs2yVtvvy2PPfaYq98777zjzhs+H/jP4W2GYTRG/JOKZYiXj6bOlr//7V8y6dX3VfCVSnlZsgrbJE2IV5oPq9OnQjGwYByjqHhk3YtIxKOL0qpN89HacHSWpFbU/QSWNPhBnCJiAyGqW6qT30b+aPJl6JJWLUFzZM6DQFaHzYns4Jpc02cVtnFOSCe76X/mzV0q/9DrfOWVN2Vfdr67jADuBc4jySyYYdQnYeGGL+XFohdS1T5TVKj5/N73KisrO6AMll6ghsUh+M9h8QccA/5zeVTA+vI4B8d48ejPiViNPae/Bp+fxH5/Pi+K/TnYz2f2+zy+jPBn1inH18F/Zp3kz0He2M8k/xn8furAtnAdfJl8NhovwV+qYYTg8casHJD0Oa6I+j6kOB5+1nWfPuWB+6TLBBWbulmTGh1WvCPo1CEpMB5unY+Ky6bwxxhRw5GgiXeA9MSI6EnatG4l48aOldYtW8jyZUvl6SefkF//6pfy/e9+VyY+/4LkZO9TIalGJ1pg68xMGThwkFSUV8jUKVNlx44dUlbBsFTVtXEE9Qwl3eGXasGkXI0n0Vz6765ZvUa6dOkiXTp3wT10ZfgrWbhksfzq17+We372M7n3/vtVzL4lefn50qt3bxkwaKCkpKa4vCTMO/czkN0nJxh/n4yGx+53/cOUNZWV6kTqg5qXWyyvvvS+3PuPx2XBvHUq9NTaVaWrFSAKiwhUq+FsBhaMhLOkcpUmwZFESUpMkTRdpqvTlqpOUorazhTdn6z2MkmNjU+JaiEimhL0pBGSrvtt8WoxquLUmYtTO6d5a1L09FqWulyaePGm1tMl+nQlSaKK06T4FEmky0QCzqYe4EYrVoukSyyn66qhm4jSVpYlyJZNe+XhB5/V9LTs3LZPjRcXWBZNRGi99TMMo75ANJWroCJ5e46g8mLQr4cFK0vye9jGZ/IdyWdEGut+my+PFC6fFM5PHfx+plrkM/sQp16w+jw+H/sPJRTDeYD9rFOm/0x+Lz59fv/ZXwPrvo5sI1/4Gv1+nyiDbf462OaPAV8/8pzIUH+f6ouGKPNosNGJjYPgsY11UQKJqEZD13eqKPzzn/8sc+bMke99//ty8UUXSUpCoh6nD70++Lzonz5rlvz6t7+RJk2ays9+do/07N6dBmxunthXX5skf/3b393IwT/4/p3SXkVngv4VOhfQPwhRo1GhRie/tERyC/LcgEu7d++WjRs3yvLly2Xx4sUyaNAgufOuu5xg5EiOYmqfBfMXyL333at13Slf/upX5Lzzz5MmGU1xL10eIr0sOSfHeUdu6/Zt8re//11Wrlgp3/jWN6VV69by7/sfcINR3XLLLXLZ5ZdJq+at3DHcj5KyEnn22Wfl0UcekczWmW5QKwZ/6tixo7Rv194J35TEmj60PgFm2a8bhtE4wHkJnCKRfVk58vLE1+X11z+QTRuzpaJMxSniUC0HiZ9q9GFmTlYsg3PENMURadUnPUmNYmBxDoceTxFR+3cAH8NJqNLiKlS8VmgZTrA6W40z59acLXP5XF4+6bdAXJna72Q586yxcs21l0jP3p0kOQWrRS6czECwG4bx8SgsLJQVK1bIpk2b3LrneAmDo8HXMTk5WYYMGSK9evVyn7Oyspyftnfv3moB3FCERVR4/XB4cerxx7Gd1KZNG+djtmvXrlooxx5jHF9MxBoHcaQidvac2fJ9FaFHK2JfeRUR+zcZj4i98y7poCI2on+Fzv9zDpISNRSI2Ar1lXDAmMAfQ8I5lixZLH/8wx9l95498v3vfU8mnHuOOwYjQzO67H375IXnn5dnnn3GNQG+SQXoOeec4wZ4ouSwiIWwiP2rili+UC79zGecaH73nXdk8KDB8uWvfEUGDx7kBljhPpRXlcuePbvlD7//g4rm+fIV3c8UPE2bNpMkdV5xDTkPZXMu78YGV2Yi1jAaIxUVtCKJ12d7nzz/zER5fdJ7si+7RB0x+r3qM4wjw09VVMRGbRWLhIhu1yX7kble7EaOWMQ2DFjVSmyoVsGLWMQ6L/z0/2gefnSJHdWfOKK+UiapqXFy2unD5cabr5X+A3qJ3hqXO+D4XZNhnAwQ7WMmg8cff9x1kfLRQnydEwEv/Bj0krn8b7zxRjdtItMiPv3002pH97joZkPB+cPi03M4semPCR8fXhL9bdGihVxxxRVuqkREOttNxB4Z/l5CQ96zE+MpMT598ABock1P1Jg7FzBq1BmwhAjn0KFDJT8/X+YtWCB7s7KcUwY4YM2aNZVzzzvXzUNLFPW///2vTJ48WfIK8zTHwe4kW9wUFQkqULUc+tpOmjRJ3n77bXeuK6+6Unr27OEeRs6CE4gDuHDhIlmj5Xfr2k0F7hDJyMhwDjCNl/lByLq6649hGI0XvnQRsDQF3rUrR557+mWZ+MIbsntHrlSUqFytUFuEGFUDUNMHVf9Xm4DtoN9pgkQHTYruY3TgCMJXf443XF/gWFBz/aG+al/pmwve0YjTLPH0k61M0vUUKSqMk/fenS3/uu9JWblss2ti7UK7jeCaDONExT+PJOan37p1qxvHo6ioyDVrbezJi20Sn/Py8mTnzp1uiQ/F9ezatct9LikpcXmKi4udoPXNfOsjcX7OR/L1IdWWN5x8Po7jd8DSNyVmP78ToslcA9uMxolFYo2DOF6RWOcWOScrhG6kCRz9cemXSx4csNKKUpkyZYrce+99khCJyFe/+lUZN36cexsY5Ar6R9Cc5elnnpGPPvpImjVv7uaMPeuss6RH167SvGkzSVEHjtwlWncE8Zp16+Tf/3lQPvjgAy0mTgYOHCifv/4GOePMM9yAUbh/CNiKqkrZvHmTnv9e13T5yiuucG8gyePxjmvgzgaw9OsWiTWMxkdWVp48/tiz8sak9yR7z34Vc4n6DCepo6NPLALPPbVqhdQ+uGc7HkEYJPekqwp0OZwYZMvxf1eMVcWGYptrLGxg0StVlZZXqPOmNi3YR+1J5ECxq9NXWSypqfEy/tRRcvPNn5NBw3sEXxL2GtwwPhYIpAULFsjf//53JwKbNm0q/fv3d8vGjI8U01oNPwuBylz7+GI0v33xxRflhRdecNvdeCKaiGY21kgm9SIhuAl8bNmyxUVjL730UrV5N0taWpoTu421/p9WTMQaB9HwIvY11yfWi1j6xAYiNnD+iAR41Ad0zYg5bzk2k3zOhsSp4Fwjf/zjn2TpsqVyyy23ytVXXy3pGenOuGJsoKysXDap2Jz40kR54/U3JDc3V7p16yZDBw+WPr37OGObqIaK5sfbtm6V2XPnyIoVK50hGzZiuNxwww0yetQoadm8pXNYy6OxVfqTzZo1U375y19JpX4Jfesb35RLLr3EzXNboT8IbU8gkwPY6j8R/6jZYxjG8SKIiIjk5RXKc8++LM889ZIU5unTXqo7qwdv4kkmcskov9ghorAM4KSWgYQTRD72qZWgn3/whB//p5yquIH5+BCqDja9oqrM1beMCIQbwElTdR4sf7nuK9b1CklKjpfzzjtLvv6NL0iHbi2CAo//5RnGCUtYxDIIZb9+/eTzn/+8DFYfpTGDn0Xd0Q4PPfSQ7FMfasSIEQeJWCKwZ599tlxzzTVOmDdWEch3QGJioruOV155xbXCIxBCU+Jbb73VRGwD4P10ONb7WuNpG8YnCrKUP+BAHle4wUQOBkFbFa8uliYX53B/53FSUFQoS5cuk81bNkub1pnSs0d3SUtNURGp0lCPwbkkJSclSa+ePeXrX/26/OhHP5IJakz3q5CdOPEl+Y2K7B//5Cdu+y9/+X/y0MMPycqVq6R3n95y2223yQ/u+oGcdupp0rx5EF1FpHuPjdq25rxaNoJ31epVbgADorRhAQscQWIrwtWnY3tkDcOob/gCLS2pkHfemiovPP+25OfRtAxpl6g79WnV/U6kuoeW11gqZ+MZ6ZdpIrA5ukOTaz4cXQZP+PF+yjk/ljNe6xUviZronxtRU0ZK1JSi4jxZIpKWkCzJbgRjXjdijYNECYkJERXvSVJemiDTPponTz7xvOTsUWEbNeM1ze38cYZhHC1E/hBSCCbmo6+PROu0Y0lETWsrj8Rc/Czr6ifqt/lEU13KbNasmROydLtKT09vVIk6cV0s+T1g00y01g/cR5/ChP9GjhUTsUaDc7BLE93C3230b5ctRHDxiaq3x+z3EAVds3q1vPHGG24OV97yDRs2XJISaUqsXwTqVOKGBT3TAjHbtGkTOeuMM+V73/ue3HPPPfLNb31TLrv8ctcEedSY0XLOOefK5z9/o/zkf34iP/2fn8qNN90o/fv3k4zUdHXvEvT8wU+0Om76DJrH0Om/ffv2Mn36dPdGslDFNS5jLH6Lv6SDcxiG0fBgSTRFF+E0ZcoMmTjxNTegU1kZX7h8PSJkWQbr7ke/cJmmxn356o9/ovl+djbMJQZRig6kxO7jxsEnD2odrrlaLBXd/NBPFhFL6xT6+fqc5HNjBqhtzdtfJO+/N1VefOE1yclRIas7ExLI4TrLajIM42QGMeL7ocYSK1TANz0uLw+muzE+XdSHWK0LE7HGJ8SBf7z+jzm8FdOGwxf1KQ9IHkRpdna2vPPOO7JgwXwZOGCAXHjhhdLKNfcNnC7EZhDfrTkGWcubwI4dOsoZp50h3/jqN+Rn9/xMfvvb38qvf/Nb+X/3/K98547b5fJLL5dBfftLenKaJOkxNA0mAothpmzKYnRPyktJTpHRo0e7PrYMBPXiCy+4viE0OTYMozEStiY1rFm9RZ575mVdblQjxIsvmg6HhKs+7wz4hMhz+3QdMGPhL2ZsGE9/OLGt9rM2PN5+HpywkwcmrhX7xo+b49ZFX/VaowKX63TNp+Mikp2VLy9NfENmz1ooZaW+VO+chq26YRifNmKFLAPIEbklwsm+2oTuofDHHEky6uZkvE8mYo2GQ58THpbgzVvNQ8M25zKpU8SzpI/UIR8q/9AFvbOCkYM3btooFeUV0rVb1+rmvt51ojya9QLb/DoOWBim20lNTJGMlDRN6ZIUH0y/410xlkFMV4/THThygGNHmXym2Q99bGmOsmHDRtmyeYs6dQ03nLxhGPWEMz6VkrUnSx5/9FlZs2KTVJUlSkSSJb4qUe2F2gM3CjEPfyDi3DKeZXS7K6Zu23U8oVb0g607xUVTdF2vJ7DMau+ccHVmTxM/QX9g1y+4KqIpSfbs2i+vvPy2bN7I6J10kGCoOnMpDONY8b5OfdoUBCTl+WioX3rcyyndFpvCL+fqA98891jw9Ymto0/s8+lYqc97bnxy2DeOcRD8UdTHHwbOHkalKqb5iDMWamu88YEjtT24Ui1btJB+ffu5vguzZs6SqVOnSm5ertuPu6VmzQ2VvnffXtmXl+OasABuJ/sAoRuI3boTJo1RkLNysmTbtm1SWFyo24O9nKe0vFTWr1/nosI5+/bJgAEDpEvXLu5to2EYjRw1Ogw6wjzQH02ZISXFzDFNl4Ro9JGkeYi6uqa0LgrLkx/81AbWBTkXTmw7dtfq44MdOzghWP0yWIeaq4taSyfWNamoDwa28leDY5wgSxatcM2Kc7OLdP/xvErDMGoDX4hpbmjBxsCWhYWF0T0fn6MRfojYmr7zR4bzH/UcjHDM2CPUPTYxJZGflujjCNGPI4BPFILvsyCdLNSHVjFOMvjzDjte3iwcqXnwhsQ5fJoqGfEyejD7XGRWP7uHCaGrP4cqm3q4OnGM5mzTKlMuv/xyOeecc9xofo8+9lggJPP3u3qXqLhE2P78Zz+T//nJT+SZZ56RjZs3SmFJIEKjbtlhU35RvsyfP1/+/Kc/y3e+/R154IEHZJ2KVoRwRVWFbNiwwW1j+p4+ffrK9TdcL0MGD3HzRXp83X0yDON4ok+hNza6umHdJnnn7Q8kP79ENySqTfITX2GVsGE87WoNokLWiTrsVnWOoN8rI6eXaXKvt1TMOVuliWUwSvGRQMYgBa/QgrioP5xyEtV+RjQlaApstM9XI0trjq45NqC2rX49ekVabnX/WBLXjD2Ljswc7NGfqMgvLiyTd96aItOmzpVybqErLly+YRjHC3ytFStWyOOPPy6/+tWv3KwSr776qpsWp76o9ukOA/mOVsQiXpcsWeLm+X/44YfrTIyOzLz+y5Ytc2Ld+6Ank1g70eB34FNDktC5c+d7WPnSl77kNhgG8OjjJPHnh3li6RPzqc6YNdNFJ8ePHy+9e/d2ws07Txi0HTt3ykzNAwy8lKnCE6eIt4IrV66QeXPnSh89bty4cZKWkubyBW5UcN4D0ELZRgrcKJGmzZpJzx493Bu4+Qvmy5o1ayQlOVly8/bLyy+9JI+r0Vu2bLns2rFTFi5cKMsxbnuzKE3S0tL1nCnV5wN/bftVuG7cslEmfzRVnnzySXnm6afd8Xv37pEVy1fI9m3bJS0jTfbs2SMvvPC8vPfe+zJgwEC55eabXf/Y9NQDr4VEI2Vff38+w/i42Bf1UeJuV/Re6T0rzC2QZ595SWZOXyzlZURgmQc2eGr5HwEXiY+4lhUuCstz7IRsdARi3cKvoDxRRV6zJhLXslnwwk79NEYnLme+WC2o5pVWbQTnq7FAARVxvGzDZqjN1BKY1KeJ1qNVUpKkxaugrqoU927QzUcWtAyhFGA+bS6jyv1d+K1B+WyiJQnXIHE079PK6jpCle4ZkYielc96XETP4YSxy6vbXRF6Hl+k2xsvJcXlkpu7X3r26iaZrZtrVv3GIL9hGLUSduxZZ37Y2bNnS0FBgWRmZsqwYcOkTZs20RzHBoJx1apVTgDOmTPHRWF37drltnGerl27uu5QcKzfIfh6GzdudD4SkVIGuWSuWFrJcR4ENPXoob7a0KFDXberI4F7gt2dMmWKPPXUU658zrNp0yYXPNi8ebNbso0laenSpW6qIgQ695CRkP0ow0dzffioiGHmiqUeffr0cb8PRo2Oxb5764Z741NdhJ+DMEdzX03EGrXD35b+HXkBC36JiJ058xAiVv/fm50tM2bMlOLiEhl/6qnSTg0yDiBNcHmzNm/uPDcf2imnnCKpSSl6VOCEkWpzf/w+/rjdOfRDy2bNpXPXLq4ZyZKlS9z8rtOmT5e58+ZJ0yZN5ILzz3fnLlahy2jGRFXn6nl5u9dNjWqqGnDK9DAg0zw99r777peXVAivUyPWokULF/E9e8IEdXTLZdnyZTJr1iz3pbBSzzdw0CAnYMeOHSMZaRk19YwmCDfCM4z64nBfEJ96vME6CL1n6nxNnzZHJr74huzLLtKPOCjIzeB+Yo0YwCloQhyISfa4+41AowhN5YkqcHt0ksjg3iL9u0t8k3TZl5Oj+pDWJkRHdaH/kSC6COG3hCur6/xuaz5Jy4SIjOrYWSZo6tG0uSSUVUh2fpGUauXKNVE/n7cCvakf3TldXSlPBamKyzK1v1Vq55JTI9Kkaaq0bd9aOnRsL02bZkhpWYk6cEWuFA5JwNZGE/UJSidBsOR+0C0kJydbWrVsKn379pCkZO5lUJ9qYj4ahhEQFrH4VvUhYhFuTPnHDA74W3379pWrrrrKTQmI30bq0KGDdOrUyT2/pGMhLGLxq+oSsZyXeW+ZwuZIQHxS/4kTJ8rWrVvd/LPDhw93YpgxSFhSZq9evaR///6uKxe+GlFYxCfHUBe20Sf4SMGe4U8iYgmMmIhtWLh/taWj4dj+co2TG++nHAM89PwRMj8rhqi0tMRFSxnR11NeXi7lFeVuP8L2WKGa3bt1l8997nNy3nnny57du2WbGq+hQ4fI177+dTfpNgLzRz/+sXzn9u/IcDWEW9V4L1UDxeBQ4B8XhHdOzj5n8BcvXqx1LHOTXP/iF7+QO+64w012/cMf/VAuu+wyyc/LUwG7Qrp37y5f0O0IcaLJ+vhFSzMMo1HCI1pRJVl7suW1V99We7FHnSycnKjyixJ8mQbOD1tJWCqaB7umwgnxQk/78uSIFGQ2le3tmsj6zs2keHB3yW/bTPJUNDohqXmqRyiuKf4wqDAMFKg7PqIltE1NlkHNm8tA/TQ8KU0GpjeTVL2OBKYBqmKguTh3DgZp8i8eg5eKWLYKPTdD4pVJm3YtZMSoQXLtdZfJnT+4Tf7vV/8jv/rNnfKj//menHv+6eqo6XFVmreqQpMW5kZiJgVi1Q1qFYuerLioVKZOmSkb1m/TG8Rx0X2GYRwVdUWnjhairitXrnTR1jPPPNOJQHwVRCaR2EWLFsn+/fudH/Zx+bh19vYF/BK/EVFK/S+44AIXyaUF3OrVq2XdunVOrLKkSxnz1Z577rlys/p7CFxE6IwZM1yfWWe3jlIYGScOwV+LYdQTzhipMI2oN4RxLCoqlrLSUvVpgh/eyvG2EcPCkOu1OkUxBA5lkA9jGRjMwD2Dzp07y4033ijf/e535a4f/EB+cNcPZMKECdK2VaY0UXHZp2dvufjSS9Vxu1Y6du4ke/dlyx41jqUqrHFEvbzmDRyGn+YkrVq1VmM/SgYPHCxN05pIciRZy+kjt9xyi9x1551y9/fvlNtv+7aMGzNGMhJTog9S/Xz5GIbRcFSq+Js5Y6EsXrhaKsqSpKoyWZMKRrUHQVsSxb1cw2Lp/7qJZUQNRaKuJ+kyomXEaf4SzZ+dliib0uNlU4bIhvQ4yUqOc/1jE8kXPZb+rIjfIyeYZ5ZRg3Exm1RWSuuKcsksK9VUJm11f5LaQc5B2RVaSc5JU2J3FdFlnO5My0iRIcMGyY23XCc/VrH6vz//vtx060UyakxPadE6UcoqiyUptURGjx0gzVukSXl5sR5fKRVaYWLJ7idqg0ls9S8rITDH8e6FwPRpC6WcYK5hGB8bnrMj6W8aCz4W0/0h+ohY4nfdf//98u677zp/iRkdiJQSRf24eDvwcYgtw4tilviK+JJEq4nsrl+/3jUrJppMs2LE+HPPPSfPP/+8NG3a1Pl+CF+uD4HL/QvfQ85FmWFxy35v02LrwmdfH6PxYSLWOJiPYZP8YE4IVPo/ENHMLyhQt0cNkv4UFhRKzr4cZzRoWoIhORq8kQnblKTEJNfE5KrPflY+q4nobFpSijsnURCWqcmp0rlLF5f25+VJVnZWYLR0H+ZNS5XCwiLXnwIRy3YEdjCVTvCgsGzTOlMuuehiuebqa2To4MGSHJ/oBnni2sjj88UmwzAaB7t375VpH82U/LwStUOJageS9BkNGgwH//Mc8zJO19V48EwjFMPPMrkqdE+p2q8StRMl2DEVvkUJotsCm0M6Vio5sZ6DvrXUimUyolgNWooK6BS1nxG1O8Rg4/VM5MeOOfGqdg0B2yqzpZx25hi57fYvy/d/8E25/vMXSt8BHVW07pfdWbtl555tmjbJ/vzdUlyaI1n7dkhpabHT73rpWoK/iporiddrdS8escHRbe5uxEWkoKBMZkyfLwvmr/ZGNcSB5RiGcTD4JB9XMHH8vn37XBQW8UrfVwQfXaUQfEQtaYaL0KXJLFHZWOF2LByq3h/nmvyxLPEbEeVEXL/xjW/Il7/8Zbn66qud/0eElutr3bq1a5JNazuaJHNMfVyf0Tjh+9kwDsY5MQenw4HDxQ+DLNEfgehmrhoTxGxpWakKyP3OeDKRPv0mjra/gquH86GCiICHkUPTUlIlJTHZfY6tL64gHf1bt2ol+3Nz3ejFvLl77qWJ8tLLE+WFl16Q1159VTZt3Fg9JRBOrBuoRamIilkGc0lXgdwio4mkRpLcA0SfV9ZqM5OfRtPJl41PhnHc4OGrTlGLoCJw8eLlsmzZanXwUJtqf2iSW50N8YoFi1oyXQ9GG8aCePsTWB76xPrmu8HR8VLuTsF+/SFfNO/R4Mp25WmJ7rxaD61jpJL66l5NwQjFlZqQ0sGruuBcuj0xXkaPHSHfueMbctcPvigXXDRYWrVOkn25u2X33k2yfedGyc3LloIiFbN7dsimzZtk2ozp8uKLL8q+nH1qkxmwqsrdMq6YEYsDce/uUE0E44AL02P0fm7csE2mfzRH9mfHTuNB5gMOMAyjAeDZJVpJv1AEHX4Y60Bklia6jGMCRGt9tPJYwA58EgLR+Xt6XYBAZSyW0047zTUhZqYKBtVEsDN4FT6lr5ezY6FjP+1wH3w6WTARa9QJrpF7ux9K/jNLvx6GyCXEqaOTkpoi8WpQ6HdRVlbuIqYYS/o6JKckS/NmzZ1DFJQT/BwO5zjqMsgZOJXBmneygn04krF1TFRh3W/AADeg03vvvSd/+ctf5He/+5389re/ld/r8onHH5ctmzdLYiQilWoQA4KjA7c2eGDCCQlOlIZl4PgemHydPk34LxCSYRwfeG6jFsD1x9ekqixvf4HMmD5P9u4t0O2M+asCLa7ELXlWeXHlnl2ELAJWf7Au4YSdQrzyKalSRaM7NiCwYXwOktvmd9ZKkD8oLca6RMV1lZ4jTs1ReWGpSEG+lOfnSVFBQWB39NriKyvUrjICp0jXrp3kq1+/Rb5751fl1DO6qr0slp279sj2HRvUDme7Qae2bFGhOWOmPPn083Lf/Q/LH/98vzz80HOyavVWrQn2OKgwTaEjaq9pQp2ohpcXeMFgV4lqtxN1qfcPka37EbrqGUlZSaUsWrBStm3Orrks9zvw3yaGYRwJ/jv0SFureXHimxLjdzHgEf4WIpYWZvQRJUKLEGRMj+3bt7v+owzK1JDf14cTTfiFiNBYfJ3CdSO6yiCdDC7K9IY0keYz0Eyaa8rKynItARHx3L/wPaQunI/k6+VfzPl7eLLCNfrU0Ph7GXs/69p+rBzZ02F8KqnzTyz09+/zBMtgB0I2KSnJGZRyNZxMv0C/WP2zlf26zsTbTZs0lRYtW8QY6MM/WHXVibJrfmrbViUZqekydvRoufaaa+TKK66QKy6/PJSCz7zVY8S+2AeMWlI7xCpLn8AvyeNEbUwyDON4EH1K3Rc2KV6WLV2pDt4qKS2hNzzbVCDqs+6jjbysYlodJ1/VBBAJDQZZcjk1AdvYF90aNhW6XmM6gpUD9h8BrqbRcwaR3iopLi+TvOISKdxfLEW5RVJaUOzmpnXT6egyPSNNTj/jFLnj+1+Vy68cL61axcuu3dmye9d2N2DdHnX8Fi1aIS9NfF2eePx5efqpV+X9d2bJssWbZcfWfCksiJNIQoaeKTrVkLNceg+ohEL/XKrEFn7cFD3KgTI/3gnubVu267mWSWWxbqzWrd6CGobRUOBP0XeUPqP0DyXiiqhD2CJa2bZlyxYnZmmWi3ilnynNjxtS2ByrYOE4rgnBSf2IsjKdzmOPPSb33Xefm6f/iSeecJFnRmBmRGdmj8DHHDRokBPr9SmYjCOnLsFc1/ZjhW8WwziIY37k1Vjg1jAcebu2bZ3R2b1nt+sXi4PIGzL6o7Zq3UodrVbRgwIa2sWh/F5du8tXvvgl+fHdP3TpJ5p+cNdd8oO7f+AGhfrKV74STBkUM2Ifx/KwHMoV8/tjU0Nfl2EYsehTFxWCUFVRKQV5TA02V7Zu2alfoIFIA/7HZvFDpBExRnL/qyH0pWATAyFLzprtB3LgHheljK4fDdgNDqTlCTowp6RYtubvl2wVifsqKmQfo75r5UrjK1XoVshFl54n3/z2F2XY2HZSVl4oO3ZukoL8feqslsjs2fPl0YeflPvve0TeemOKrFuzQ/L2lUtFaYpE4ppJUkIzSYxP07om6rXRR5j5cl0NlKD2vAT014KATah++ej3B4nPjC0wbx5zaxcEzWYcmq+6TMMwGgKirQg6/KwuXbq4sUnoD4s/NnbsWDcdDX1FEbkIPgZAYpRf8iBojye1CU2EDgIWIUtwAeGNMKUrGoKcptJsv/DCC+ULX/iCi74i0tuq73nqqae6vF4AGycn9q1i1AuYH8xEnG+CpwapefMWztDs2rkzGDCpoky2bd/uBnciSuvnDHMOkju+dkPj36SFE9GJcAr/BCXW/sNEE97h8mfz0WDXfLAe3xAZhnEccSHQ4ElHlO7YvksWLVzu+sLGqVirsQBqf3j242umkwlswPG3A9ReDZPsiyuXuft2yJu7N8jbezfL/MJs2R+plPQ2TeWmL18vN9xymbRsI7JnZ5bsVAG7L2uPzJs9Vx57+Bl5+omXZemiDVJSEFFR3kwi0lzFaxNJqEqTpPh0TSpm9X7EqcgMxkKuEfjA3UtQm+u3cFuxmBEvZN1tplm25tBlRUWVrFu7RVauXBcthnyk438/DeNEodrXiTZ99aku8GPwsxjAqaSkxE01Q5NitiHmBg4c6KKTCFpG7kUIMsAT/WSXLl3qRGzYx2osUBeCIYxpwsjKDFRFYp3UsWNHd33YbFoANmnSxF0394EIs6e26+IY7pv3AaExXbtxeGp+c4ZRB0fieiAQgV5me7L3yKRJk1zKy8tXQ5LjmrTk5ObI5s2bpKCwwBnRhx95RGbOnCWl5aX6h0iEAweI+Qmr3BtFBoWKTTRLZoAoluF0QD7dX3cKBpgilesXAqnaZJmPZRgnCTh70VSlzl9VnGzaxJQM29URjBFVfnGAeD1SY1C7OAsFgY8JIrAYJvq9Yp/y4qtkfVWRTC/Pk5m6XJFQrgK2uVx17SVyxTXnSXoTRl3eKbm5WW4O3A/fnyoTX5wks2YslpzsUrWrDHiXokIzVRJUtCbEkYI+wYzB7qrrKo1krbaIbq//5O6a/+DulW7RY2rum9uhTqBI1t4cWblijVTRatswjAYHgevnTqWVG9FImt4y2BHRV993FB8Lf8wP8ES01k/HEx4U6XhQ23lpFYewJMI8bdo0mTNnjruOhQsXyoIFC2T69Ony5JNPyr/+9S83SBXz4VLO5MmTXdPi2vraGicPfC8ZxkFgSrx7FmtWql2c6A4+Y2SQg6VVFbJ48RInUN99710nXPfs3eMMK1FYjOr+/XmyY+dOefHll+T5F1+Q7du2R8+j/6vx2bJ1i7yqAvjZ558PpeeqE3OCPceyrsT+WtLzofTB+++rEc8SN2WEO3dw/trWIbxuGMaJgLNM+uDGS0F+saxauV4KC8t0E5HGmq8+cjFtjHOgDujAGl6v6+n3liHYHz1jdYKavUdOzZkDiVlMNDYSJ7ubpMrWlIjsb5IiF3zmPLlMBWxSuqhtXS8FhbmSm5MnLz7/qrz68juyZeNuKS+PqGhNlURNEcSr6OcqIrJumCYnSuPVdvu+v3EMIqXbvHTlf18XF4ENJ81V3XolmocjGQKKgNH6tRtl757YUYoNw2gImCpn8eLFTpzS7JamtjQrJipLP1kvAOkfi6hl2adPH9dXlvnxEcAEAY4Xzo5gg2NAhLKdSHF5ebm7rlGjRrnRiU8//XTXTJpIrBe5/fr1c82LuR8IXfr/GicvCZ07d76HlS996Utug2F4vJvnnRhPnhq/6bNmun4UDHVOkxT6SFVWVUpxSamsWrNapk6fJm3at5fxp58me1UsFugxOzT/EhW4PXr2kNGnjJWs3FyJRBLkDDVGrVrQPzZokrZQDfEDD/5bXn3tNflo+nSZPnOGTJsRJNan63IG66HP4cS+2tLM6ZpYzpgumzdtUuPdzfXbZTTiwNGMk/y8PJk1c7Y6X1kyZvQYvbaekhiH6xe9H+rkqUVlrZraDK9hNDS1NXuyv0VP+D7Ey76sQnnppbdky6Y9uqemKXFwB+OCwZzUhnH72OMTQi2QaOGk/+uiTI8uSUqSos5tJK91E6nMSJLE8iqpWrdFWmTlS0Y5c7nSkDk45mjgGKKgFSoSK+MTpEJVoxYlyQkqRJMSZcK5p8tNN14uCekR2ZG1Q/bn75ON67fKC89NkrlzlkpxUZUkJjaRhAiRV702LScSF1FbFq9Xz7reBb3eCKMNR1OEPHpOEj2DD7zmIPFD3Zzg1bUKlC1/h7rb30vWKpk7W7cPGz5U2nVoFmwGvzSMTyFhm+3XWRJBJGqI4EKQjRgxwi2P1MZju5gn9f3333et2Jh6Br8M0UeXLvqNdujQwTW/pa8soxYPHarPZrt21aMZUy7H0K+UiGxsXWtLRH/pX0tkFJHJOUaOHOmaKjMKMuUiQhHKnI8uZIGdrbkG35SXbeHtCG1GIOYc+JmIc+aBpSnxjTfe6EQs50LQMqjT5s2bXYSZdSLMCFgGeBoyZIi0bNnyoPIhdhvr3D+aVzOHLteI0KfuNFWOJba8xg7X46mvujdEmUdDzetow6gF/kDqGmHX/+mydBPs6wqOFp9xtPr26yc33XSTnHLKKe4t3+uvvy7JagguvuQSOee88ySjWVN3HMcADwOuUfsO7eX888+Xa6+7Vq659hq5hqVP114r1/qkn6vXjzJddNFF0rJFCyeig9N7Y3aIh9A9rP6qjSOF36ulY0+1Ed5+on2RHg92bN8pW7dur/XxdVbHRWKDp/8wVqAWfO6gcP73Nu3jETTmZQqfFC20dXKq9GzWQk7r209uveJySWqdLNl7d0l+Qb5e2y6Z+OIbMm/uCikrUTGd0MRFX+Od9caKk7Cu0eustnU+HS3BMZRz8N+fim/9MsjZlytrVq+TcsaLOdbTGManlLpsfyw8f0RQae1GxBWhSnNimtPS1JaBjtiOwGOJYN64caO8/fbb1aP6MhUN67SUA4Tnob5/6pPwOfw5/bbY83OtNH9GJCO2k5OTnTBGpLKOACWxzqBVXAeR6EP1Jf404e31wTb72GmIMo8GE7HGITlS38ObCIxFiRoR4S1/YsQZl3POOUcGDhjoOuafPeFsOf2M0yVNDVCV/tF70Qv+IejevYd8+ctfljvvvLM6ff+uIN0ZTqH94XRXXUmP8emmm29yzU6SI8l6fcHPYXE3g9oeaFiNj0f4i8vSwYlnKjbVBfmNMMFzvXnzFtmfm+9kYW14CxA0pa1ZHivH+ltw5w5WHS4eW14mrZKS5ZTuPeXsbj1lbGYbabJ/v0h2vhQwYnH2Pnnz9Q9k+dL1Eh8drCkxLkWqKoiV0myYF3VB8+HoVQaF1wOxjov+xQY/KmJLcKzXb5DiYnMgDaMh8M8fzYYRsfQfxa8hukrrM8YeYTvRUoQrSxJR27lz57roL81zicAStST6SB9avmPC30F1UR/CJXyeus7nt7FEhM+ePVumTJkiH374obz11lvy4osvuusjes1AT0S0aU5M9BSxGzvbhNHwHOr3WZ+YiDXqFZqGJCTU/FkxEh7NPn78kx/Ln/70JydOO3XqzF+4VFQcOOoHf+r0q02ID5q3JUWSJDkxWRITEiUx/shTkqbkaGLdf06JLqv3JSa58/ETnN04GmINFF8cfEHyxtdv93ksNVwKOxyx9/zTi7/2OCktqtK/S6aQwN6obQqHSdUJowsDW8LClSWDKn18F+3o8fXAikb0d5gYHyeZkUQZmNpEhqgY7ZGTL/lz50v+9h1SmFcgM6fPlcULVoiUJ0l8pdo2UTtYFTQbjqtSAUv/V/0cqe/rcYXFlBi97fFqw2leuGH9enUmC2t+HYZh1BtEGonCIuAQpsz6QGSV72AGaqIpLD7XHXfcIXfffbdbfuc735HrrrvO5eWYvXv3OhFLRJPmukRuwQvUur5b6kPA1gVlh8/7/9s7D0C7qip/r9fTE0IaIYQQSoAUIPQgJEACAjYUYSwwUqQoRYSZcf6jqDgoOirFEWYEQVEsoEhTQWVQQToxNCEhEAIhvffklfvf3zp3vbffyb333fvyetb3snPaPnvvc+7d667f2eWATTqFKP/hD38oN954o3z/+9/Xd8XSqkwLLT34aCxBnCPkEbRcZ3uW1elcXMQ6bQd2woxF1vhghHh9wx6jx8qBkw6UITsPVVGKQeLLF5sW1nW8VVjWZ5g5uK5wyOQJUq+v0qkPwUQq6+yrI90MW0mbDC0d4D5W6fDDQOCH9JVXXpHrr79ex9b/6le/0h9W9qef6Hpom2Atshbi/bYO8fqOhV1zmWzatEmWLl0mW7bU6nYuYgFrExd1FlgmysNaPddR1iDV4XPtX9cgO2/eKkO21krl6nVSt26jzJv7jjz5+HOyaV1dOKcy2M7EqibitVIqGsqDGCeEq9PvgYX2QW0Cf2WhHCHfJUuWy8J3lyRZMt7EcZw2g/qGfWc8KKKNsae8Ygahx7FDDz1Ux8dOnTpVGxOmTZsmxx13nPaOQ+DSgouQpQsyXYp5HQ9jUTsT+82i9ZRGEew3rapjxozRd78y+zDvu6XFmcCYVyZyYpgYY39pnX388ce1hZmhbIhap+Mx/5DQnriIdbaDpi8na4n7kixxWjL1DVJZgWMFWYcsHNPObYjYsJmckfVxQiDO/AVvy09+cofcdNNNzcL3c4R0nJsJ3w/r3/++bj/11JP6Sp8k5/Cnlarpa2/5O6VjP5433HCDfPrTn5ZrrrlGHnnkEZ3wi6e7tMQQGJNSKOhrkTwUHey+8uNu64XuMw8Tdlwy+povZkTX+p+rvidGq3E1kYGJTepo9NFa+Gf2MKNqNiNVoa71Cfa0fwi96zLSt6xSGjbXycxnZsmC+UuCLWXmYdpew1/WxvE4kGtRO9tOF6PvhuVmpcD5pDV206YtsmzZCsnw/MBxnKIpRgDYpEh1dXX6e0yXYAQc3Yh5xQ4TEjE2lGM84OS3gHUEHkKQsaN0zeWdqghF4pAn6bEeY+WJy5XeF4diyHUeAf+QllW6AiOqf/Ob3+h1USbG+w4bNky7DhMYskZ5mcjp1ltvlQcffFCvE8Fur9vZsX8Duy58Fy20lrIpU6bo2UxN7Thp1PiF5dbgBalTFcLCxYvkuuuv1+nar7ziCjnpxBOlMjgsmK3NW7fIw3/8o9wYRCRPyC67/HMyfMTIcKwhOFSJYWtoqJeZweB8/dprZdCAAfLlL35R9h6zZ/ZoRp564gntKsJEA3y3mXRFGxL0eGE0jYaklRUDOO244+S8ILCGB6PHDMpJHtC0lrTWJiDAbrj+Bnn11dfks5/9jJxw4gztesyICm21zYS7oCK46fwdFcbP3HzzzfLLX/5Suy8ZM2bM0KnvbTY/fkT4sd0eQ+W0Dp5mH3vssTJx4kR1DHYczFqJzHn1HfnSF78pb81bKlIfvpMZe4iVkfJwT3jQVsWY0RAdC0GrZTgSUmA9V02nK53IxvB9Xtuvr6ycMkHe3XeE1A7vJ302Nkjd7/8me8xeKLtuqpMafeFr6baiLtgYrBKl6JWpk4Mqe8lHx4yT8Q18hnUiIwfJC/sMkuvuvUfeXLom5NBfqoKwZYbhJnAIE8tlZW6RuI62cEJD+E2oC6G2nolTeL83e7l3eiPDvlrpN6BaLv3cufKBD01N+mcHW+44DlUtqWsILN53+r3vfU9bQhGX55xzjkyYMEFFmwlLw4QrmADg/DvvvFN/h0mPYVy0Tn7kIx9RoZqGc3gAzftVOZc0+a0YP368fOxjH9MZjK37LrAkWH62j7yYQArxiNhktmAeaCOg7733Xvn1r3+tD15p/WWST8RzfC35IA4PYOkm/NBDD+l1cR8sb8O2WVJeWl2ZvfjII4/UWYvpSlzod8+uC0iDdVq0f/GLX8hvf/tbvb73ve99Wnb8yXT+dq5TmPi+tfU9cxHrFIQvX0si9uQgYhnHylezNlT63z/8kHznuu9Kv/795dDDDpP+QajqE/twMnEYC7t8xQp5+plnZLddRwUH8z9kryBiyYFOxrz+hhbUVatWBcMVjGZyalGQfkVw5HCqMF577b23Po3DePLqiFwtEnXknM1jGxF7wgyprkhELG6li9gm1q5dKy+99JI88MAD+iJ11vnBuvjii+WCCy7QJ6mA0XIR2zlw3/nu73hdqrBWCc88+ZJ88T++LiuWbwm2oXewAbGIDc4bY+67mIilJAhE/vqEfA6u7C3vHzZKDqJBIRR0w7D+cl/1WrnruWdldRC2lQ29whlJK2wTTSJW9+YyfttBYREbbGrY16tPmfzz2afJ2ed9WNSIOo6j2O/h9opYQEAypAefjNbYsWPHyjHHHKOvvMkF6ZEvLbb4/rwnltftIP54xyzClziWr62Tn+VpabS1iLV0uU4mmeLNFnR5Rlzm8iGIjwBnTC8Clm7HvFaIa4jvVS4418pD2qy7iO1euIh1CkKlLVbE4kAhYv/2xN/kG9+8Vua//Xao5OXBiAXnkW7FGAwSzUJLHWM2/v3f/13G7r5H2MPrJHAjcSGDIcMdMoOp/xcHZ2D4E+FEqRNDVRWWuUwa73skFv5mQRGrZQkxXcQq9tkgZvkBvfvuu/U1SvwAf/azn9VuTMC9d2Pf8diPMj/EO1YrLCTfTRYP/e4v8u1v3SRr19QHHZduiQ0itjyI2LKuI2L1jFCG2nL6r4iK2Mm9+sr0QUNk37XrpayyXNYN30luW/66PL9ypWws7yVV9clDxOZQ77IiVg9m70kB4nqadtjSFBKxdIPOZOqlqiYjZ3z8fXLBhR+Xqj6FHUrH2ZGw+oV9LiRi0/UwFmYmcNnHOgKsrq5OW2IRdfG5ueo2S15JQ6sn59iD5zgPOy8+3yAvZglmoiUaHWIRSxfg1rbEUi6LZ74ceaXvBfDbRojj233JFT+GOHae5dmTRWxc/u5W9nz4r4rTpiBUJ0yYKJd/7nL53GWXycVBCF7B+iWXyKUXXyyXsgzhsksvDcc/Jxecf77sMnyEfhHjKpWMn00qGuKz2kIQkDUtBLrUVQXRTIusiutgALenwjZV+8IGcUfCDD6BVj4eRlx11VVyxx13yMknn6xPQS2OxXc6Frv3O56ABa49ODH1GdmwfmNw1HCActRg9nXJ76aVKVxHMI57HLCvTDxhitSMHixVo4fKxv69Zdn6TUE4Yh0rG+tiOmRTKBruhYXtIzmfV+1sCE5hbXBkHccpHuogdbgl+008xBZLhBa/x4hRq8Npm0DAJyJYCybjTDnX4hvxOR0BZbZyI0QRrnZtiGwaPtLB7o+JVzvflk7PxkWs06YwmcegnQbJjOknyDnnnivnf/p8OT8IVQs8pTvv3PPk0yGcfdY/y8GTJ0vvYHCDmcz+FaYYU4pJiwOvltje10u4QWxO+keNHxiesh522GH6BJkfxx1TPDldifqG5BUUOEMN2iuje5AJ1YuWYV6xUxZ+pUeOHysDPnS09DtjuvQ/5ShZNryPLN26OUjFMqmic0j2vDRqUTvIAU1DL5yGUP6NmzZJba1PrOI4pYLfgTArFROp9gC/JRFqQjGO29I57UEsQO267RpyQTyLa+tOfuzz7YzPtr1wEesUBGeKUJYVgXHIBfuDfAlL2gdoDU1CZRTonltTzqzFxEni8tKbkJOmsQ35MssD0fliawhJ2jod3ZI8mkLa6JWYlZPF7qMZx55kJJ3uizo4Oo69THtlJDU8G1LfUeyQ2jkLuq91UBtsnD2hWCw/yz9YKMlUBTE4oFqkX9gxdpCs332gzGlYLxv1aHIGy0y4nmYhm0JpJWhbGMBRHmy+lqXziuE43Q4TZWkfJR/5BEq8Pw6QziMtem3ZFhR7LcSxVlXggXiuclh6uYLT+XTU5+Ei1ikIZsSeoWNGNITvpK3nIpntt+mP7fQ+He+a/SMdBC1/yZ7m6JHIsJZC8/NC2sGhTcbJsh6FbK4WvzV57cjE9yu97vfT6TRCtaZLa/gGJk4R29ivMixO9tFW2MEY1HJ9n2oQXdkjjIctFU5R8RpCfQh1ISGWpSTFgzfkNjapNmzUVoZEduojG6sb5M2qzfJa/Rp5edkCtcv15cnY2fqK8pBPRbPQEBzScCmaUmkl2D6srifOSyiDjkP2XhmOYyR1I6HRB0kFI14vRK7f2nhfOhi5jlloa0ycEuLrivdZQFDTmys+Jx3i+IQdna50H4r5HsWfXRxKgd9qxykZ+6K1g51rZ5JyU36MYL0awsgY6lHHcXoKSa3O1uysvYp/J5Mf2eRAVzBnFA2BSlkQ0jU11dKnb19pqKuT6rBdXZ+R+o1bJBOcvIZQ9uhSuhyJTaWEXeHOtj32O+g43ZliBMf2UkpdQcDSAssyV0izPWXvSXW4vT/DtsbKmw6l4CLWaTXJly0J+uXTrxPbtLw2SF2mTuoaQrClhfpkyXg1k40dY0aSssZGK4OQrc8+1Qshb0lKq1eO43QpQgUONip5TSl1PHl4BaX+aLY3NoQDsKhV4f9+ZcGhW7lOtry+QOreXCR91m0NgjaZy93pXHI5weyz/T3JSXY6D7NT8fdJ/a5siMm1L00xcdobqydWFgu0wLZUNjs3je1PH0/nkS+e071wEetsF4mhSboEA1+ojZs3yd//PlN+++Bv5d57fyMPPvCg3H///XLfvfdpuP+B+8P2A/LI//2fvPPOO0HQMqkAL7RI/oy2dNASw0XpeO0O6xVhWdiQ2zGO6v/EyxPXcZyuROKU8H9j/c46Kskm6xa6DnGp6JaMzO5f00uqg4B9+49/k41/niXy3Ouyf1lf6V9fHoRscPgY39GFKafrdg+1m2knuK6uTt5++2197Qjv3gSbNMcdZae1UH9ogeQ7xER1hM2bNzcGXpETB4tDyLc/DnY8TsuO8Z3mIX+jP9RGddnqBPUjnfemTZtk48aNeQNx02W3YPt5dZCFdDz2xfXRyuJ0P/w9sU5B6oI7Rdc2reTBdvFlWbhokXznuu/KzCBUr7jiSjlx+nSpqawOR5IxrS++8pJcf+ON8vLLLwUDWJ8YvnC+GT9ew9MQDFffPn3lpJNP0lmLBw/aWc9mmqcly5cFcfu2GjJejcHMwm3xtIUfAQwmBm3w4MH6InCmlm/gfYw00YRyLV6yWG684UZ59dXZ8pnPXKTvia0sZ4qqUDY1ciGoGO6ZTpnj9Ayoq2VSH+zHPb96ONTpH8rmTeVB8NUIDbCJLUpsUmVFlVRLVbAzYZ3qnRzRkBvOy/2e2N4bG6T2oeQ9sSM2J++JZbxt7vfNFqYuBOzp2F2HyRc++n6pe+l5GbR4pb5WZ876LfKTuW/I8soK2VTBxHgV25SXLa6nvcj3nlj+NTDrQbg/5eHCT3rfcfL5K86VvoOC3Sz1JnRxbFweLUcrVqyQ3//+93LfffepkP3mN78p06ZN28Y5bisR4BQmvu9d7Z7HZUMk5npP7Pjx4zUeAd8F4fXqq68Gv+pl9WHsmGHXGO9LE9+HQvFi+vXrJwcccIDss88+2sU3zpeyF/ue2E984hMyaNCgxu7AlGXDhg0yc+ZMmT9/vvpm7Ul8vbyG6JBDDpFdd9212T2hbD35PbE9ERexTkGaiViWwWlZuGixiti/z5oVROwVMuP446WXitjg2G3ZJH985BG57vrria2GuKoqHNOuugmV5RVqKDDc48btI5d//vMyccJEFao4Bc8++6z86Ec/kjfeeEO3K4ITiEvZSHM7kpCyJU2bTWsVweFDPG/ZslX23mdvOevMs+Swww+T8qoqlDUWKYjYJXJjEOCvIWI/e5FMDwKd8vKqi8QRxQOu0LiO43Rx6jNy371/ku98+39k08aKIGKrmkRssGVYlkTEVoY6zsROyQOz1orYXhvrpe6hJ2TM7EUyclOd9FKzh4g1o9Wy3bCYCER6qEzYa7T8v1NPkU1P/E2Gvbsm2NO+8o/1m+S2ea/L4qpyWRdEbC09S1Jps9V5Ijax9+UVDXLKB6YHG3+29B6QHOtJ4OSuXr1aHnvsMbnzzjvlz3/+syxfvlxGjx4t3/72t2Xq1Kn624lzbM670/6ov5IN1HXeJ4oY6yqvfaNcRjEiFhB6+EUvvviiCkOuhXMNrtPixstYaMXrFqcQ9r19z3veIx/72Mdkt91203zt3FJFLK/hszJQdxDkt9xyi8ybN69Z2dqK+Bptnevh3binnHKKfPjDH5YBAwbofuBYTxaxcfm7W9nz4SLWKUgsYhvCOn+I2O9ef52K2M8HAXrC8dOlBiEYoCvxH/70J/nef/+3jN9//yAEP6NP3zLBmQypaBx45ZVX5Lvf+a4MHTZUrrzySpmw/4SwN4nz8ksvyz333KNdjYFW3KTuJeen7IjSVB+bKiaVNNnPMvkhq6qq1NbdYSHfk4MRO2DSAdrCnMQtkyXhR4SW2Ndemy0XfebCIGKP1+5wlcFDwxHFta0P/llFdtIB7guGLm0c4h9Lth3H6WCyVfKxvzwnX7v6Olm1slbKM7QkIF1DvQyagrpdUV4pVRkeVNnsxBxs9tgsRQERG4Tr1oeelDGvLZbRQdD2VmVnQXMNIT90Ibb2iKQ1c6scffgBcvF7p8vyPz4qey8JtqesWl5bv05uf/M1WVBdJmsq20nExoY2hw3LL2J51Jecy/PLj33ig3Lu+R+RyuoGKQ+iuyeAvceu46AjYL/1rW/Jn8LvnnW75Dfv9NNPl/3DbyD7+K1wOg9a3I455hgZMmSIbnf2b3LsLxQrYufOnSu33367+k7WAyAmvqb0sdaijQjBlzniiCPk7LPP1vtofg8UI2LpvouIRQhSL6yc+E20wt52222yYMEC3VcMhT47jhXz2eILnnjiiXLaaadpq6zR00VsRxLfq/g+5dvfWlzEOgXBoULI0iLAi+sRfCZiZ73wgorY6cceJzXBKMCmSMQeeOCBctlll8mIESOSSZOyX16+xK+8/IpcffXVMmToEG3N3W/cfiH9+uBAlsnadWtl65at5Krxeajf6FJipJK1ZqSNC9g+lqzqedlKU1kZnNYgRHv17i3lwUib8TMRO3v2HBWxxwfjS/fnsrr6SMQGQVtZ1di1hm4+9qNCGhhCDL+tt0VFdRynRLIm4blnXpFrvna9vPP2KqkspzuxOTrZ1ziUV0QtsYmI5dRtLYqRX8TWBBFbux0iVmOGKFjCOhWxW+TCT50uH9p7L3nr7vtk3zVVIYkaeT2I2Fvfek3m15TJqiBig6sZzmyeNlud0xKbiFjuca/e5XL+hWfK6f90XFDfPUfExqxdu1aee+45nffhoYcektdff11/866//np13t3+dz78VtMSS33vCsT+SjEiFn8CcTVr1ix57bXXcorY9LYR7y/1u0g+VVVV2p140qRJum5+DxQrYo899lg566yzmolYWLNmjTz//PNaZ0otW67rLTYNBOlhhx0mY8eObdbg4CK2++Ei1ikIncIQsvVBYNZnK/DCxYuCiL1eRewVV3xejp+WW8ROnnxQELGfk2HDhmk3Xqvu9UEQvvTyS3LttdfK0CFD5fMhjXF77xuOJLMEbw1GrywYk141NRofYdtkKvKIWHX/Emwdg2NGpyF4WA30Iwzb5cFpra+vyxqgIEvDgnUCIvZ7N35P5sx5XS666MJgfKdpfmW1uJXBMQvnc09IA+NH+tYSS9lJw0Qsoav8aDrOjkOTLaByz5u7WK7+6nfklZffCnW4OitiE6mKnUHE1qiIZUxsMp0cKUSppGg/EQvErCurkNogYyurGuQ/r7pcDg228KUf/ETGb+gjlUHEvrphnfx44ZvtKmJjBy3tvEHh7sTJ+QMG9pYr/+0zctz0SVJeGXZ2jd6cbQ73BzH7zDPPyF133aWtZf/1X/8lRx11lB6L76XjxPWpGBFLwJ8gLsH2GfnWId4u9XtIfM7nAYCdy7atU5ZSRCzdiWNIB79p3bp1zcRkMeS7lnz7DSt/TbCpaf/MRWz3wz1spyiou1Rg/ctW5KQC0zbZvGIbjedk4zcSTkOK6qyVyTsvIpLUaP3kPAwcr+LR1/JoqA1O07ah6XhwImtr1fgwqZS9PoeQCV4WReGYlluLlZRtmzIalCO7alB2TS+ck+TT/IfF0uL+5E3XcZx2gPoWhSCyBg0aqMMW6OmRWJeIsEn3Ymp1VyITyoo0PWjyJNnvgH2EF8Ruatgqq9avlZWENau17IzhRai2R+nT9qxY7BzK1L9/f508r3xbjd2jwNbTLZGW12uuuUZbYZkIx445zvaAuKJOIfQYz9mnTx8VVRYQmdQ1AmM8bd22LcT7iwmky3nkb9/jtvw+q50I6ZFHfD3FBO5BOuTbHweLQ75mq5zui4tYpyBUbxw/nrRrZU/V99YYNARqRQUtIEHIBs8m+Jn6RWRmYtY3rFsns/7+d3nsr3+Vx//6mD7p+6suCwfGJj322OPyxN+ekMcf/5s8++wzMm/em40Cs2jCJXFddm3pc/X9ttl9Fs/isrQWWNvnOE7nQWvg7qNHS011TVZH4bgkD6Gah23rekdD7vUYQamTwYMHyPHHT5WBwyukYqdesuuB42Rdv2qZu36VzF2zXNYHBbspiMOtwXiqDu9iYP/oPjh4p8HJhe0A5hDbj2inq+LQoUOzex2n/dnWniWh8SF+jmOlhq6M+WFxaIli4zldFxexTotgutR+Yciy27nAMYS0UcD4NbWGhjgNGRWvFbTEhuPJlzCkGs4vC8feeWu+3HH7j+SbX/+GXPv1r8s3rvm6fP3r17QYeAJ+zTX/KV/72tXy1S9/Wa7+8lfk7l/eJevWrJXKICrJJx0aCQVpdl3hGhodw7BkwhU9zj6KGhl0rhfRasGgldZahe1HxHGctoQ6FYeYpAJXVIsMG76z9OvfR7et5TWxaUnAsrGKBWPsvxFFaR7UJiQ2gm0lyS6QjaVi1I7aehz4P6RhIaRHF92GTJ2UV9TLwQePl4MPnSCbN9fLusp6GXLIBJk/oEoeX7VQ5jZslrVBxNaGPMm2PCTHcId0aE+Syw0lb5ZNcm0N9cykUCfDhw2W/gN6pYxtzyb+DXCc1pD2LyzgRzCZmL3rlFCX7QlGyLUvPsYSf6TYYOe2pe8SXw+BfLimtgjcF5Z2H9LXY4H76A0NPYMyHxPrFEJdkWDA6upqE+cuVHzGxN5w443ywosv6qRMx06dKr2qmTClQTYHA/Lonx/V98QyHfupp56q3VLqgkHB2cFkMK703QUL5N5779UJMEhj7Ng9RWrrgmfYoLPwPfjgg7Jo0SKdSKA+nISILIZgFrWLHekwAQGTSzELnXUfiSHNuhC0AnAsBMakMDbl9dffkAsvukCOnTYtXHdwbesbdGInXrVDF2XG1DHDHcYdYwmx80LeZkjZT1yC4zhtCbVXa3AK6npTfX/sL7Pkum//jyx8Z20QWJVYiXAY6Yi+SoY2VFVUSlXYwn7YmY32ISacV15eJhvDgXV9+8jKI8fLonEjpG5EP6nZyJjYJ2TMa4tk9KY66a1TDVsZ4zIl64x9TUqRkJGtwb5skL32Hi0XX3aeHHDoWFmwdJGsX7VK3n75TbnnlvtkxeKVodBVsrWqtzSUJ+db2Jb2E1RBquq43fqGumBug3MY9iT7MZcN0q9flZxz3sfk9H86SSp5fkBRchXRcXZg8BFsTOySJUt0TCwzAU+YwBsbEvAhEGdz5szRsHnz5mb+RimUItwQe4wdZZbtPfbYQ/2xOF8EbqljYu18fCfGn/KaHd5EQV6FaCshTTp0k+b+2iuDDMrW08fE2jW0Vdnje9IZ98NFrFOQfCL2+htuaBSxxwWhh4jFCG0OBuuxxx+T7153nU6ShAGsqQniLZxqIhYTxvhUXnR95JFH6gzHewURW7tls1QFpwyjvmnTpkYB2BAcxmJFLDnwsh9t5Q0VCuHIGBKMEZWNYBUtLWIzYX3J4iU6KdXcSMRqK012duJExOLEBqc3+1ohDDnXHldgjpMnx1jnPiBsO6OSO07PhdqrNTgF9ayprr05d5F8+1s3y8xnZ0tDXVU4UhkOJ7KP4Q3000hEbEUHidiEpvTpzVEhmzavkyHDBsqFF54pM957mKzfsl4WrFokq5etll/95B6Z+dTsYIOqQxGCfQvKsDxTEUqOgN2mlFla5+gWAyJ2S2arCljsH63ICUGch+3hwwfKV67+NznoiDHJZZcHJzXYZcdxmihWxDIr8c9+9jMVfdS3tKBqL8gbP+2MM86Q3XffPbs3YXtELNf9wgsvyI9//GN9xU4x19MW14wPhk84Lfh2XBPjcQ3K5hM7dS/8F8VpkaSeWvePsBrVY7Zp/dQooYIj1Ji2/H3vf78cffTR2hK67777qkGeOHGiTAxLnuoReAfrjBkz9DU7wSTruSb4GFdEKy3LnQYPDsav2LBTMEoDdZINAi2wGHzS5YkbIbmO3CG5DLr0JU8FcQ7DkcTRzcbp1aum8YkkgXJTZvZZsH3kzzJ+2uc4TscyfPiQYJdGhfpbF3RUfQgYsWzQup41aokh09X2I8k3EZ7kTRtmrdTWbZbdx4ySc847SwUsE9YtW75INqzfEMT3LHlp5itSFqIjtpHd/Hw3BFHIvOmdgV4F4jXcP72W7G3Th53h366jRsqIXYYm91QFbDaC4zglYb4GD/dZmojVh0clBERZKcEe0G/cuLFNBKRhaSFkLaTLmg6UJ15vbSAv637cltfkNId7a6E98ZZYpyD2nlg1ZmGJiHvn3Xfl+huTltgrr7xSph97rPSqqtHX8OCx1AZDsXnrFjV8GBy+xHQhBsa84vggCKura6Rfv77aWqoCMxNcs+gLb6KyNuSbSMriqAh5VGTPNeKKZOu0xGpXZTayS7ow38B7Yl+bI5d97lKZOvUY7WpYSQjloDVWI2tojpXXcZyOgvrYVLebaF5HG4Jpeuh3f5JvfeNm2bQx7G/oFfbyeIr/sReVUlVeFep5sEPBECSTptPdN0fq29kSq0kH2MMrahjQ2tBQpy0wHz3jQ3L01H20VXPpigWyYtVyefGVOfLw3X+Q2mVbZfSA4XotS1evlVV1GdlcXhnsVplUqe3NRTsJ3GAHg0soWxo266vX9E+XXFew7eH34MMfPVE+c8kZUtU37CyrSy6fFnDHcRpBVBXTEksXYuK9GPwuE7OlCAStnyXEB+LzUJ73xB5yyCH6UD6mNS2x+HrmF65evVrfsUwXae5DIVpTfiP2zUiDctC6TBfpeJgX99RbYtuG+F61531yEesUBNdIRaxO1BEI38V3Frwr191wvYrYf/mXf2kuYvXLiuMUGQ11a5I1lsxCzCRQybsak5iIQ3Xvsl/8+EtfqojllRPFuG6kqU5qCAh0WhAWLVyYiNjZrzeKWN4jSZldxDpOV4P6mNiM5sR1lJpeLnNnvyFf+n/fltf+8Y5UVg4IQpVaTSwesmW7EyNmQ3J6ZqjPWCUmcGpmf7IidnPYuT6I2GVTJsjCIGLrVcTWZkXsYhWxvRqC2FNbp6eFUmD7mtJBxA7aqZ8cc8yR8v4PnCxj9u4vDcGXW7j0LdmwZb28Omeu/PJn90r9Oxvk+D0ny8EDR8iGTZvllcWL5G+L3pU1leWyJTheVXnHW+Tbv52Ei0DEbq7fpLZTP4WwTy8tXOwuI0fKZy85S45738Tsx5O9aLeRjtOMYkUsWEsivgZisBRRp/WzyPgWD7GJUO3Vq5eKWYj9nO0RsUZL4jXGypVeFoOVmyXBev7FZXER2/1op8e0Tk9DK36ylvyLK2/jusVIlrg0ODoNjW5OEoN1DEdTmwQk69ptlyMhugXGqJUSkjyCAQ4rcWD2Tw3BASXQ3KJdhMMfY+JocbVyFKaYOI7jdA656+ewEcNk3L57SU3varUPzQMPsYKlirsW5yMcTmYDjn9AyZP5gJO8sWGI37oQVARnQ11DfQh1wf5kpN+AvnLEkQfKxZeeK+d++gwVsJs2bJJ3F7+lvVhmz3lL7v3Nw7Jg3hIZ0Wug7FMzQPbYLLJPQ5VMGriz9A02tEJbYEO5g6Hcxt5pSbaFElJ+lkC83FdNDIvVRCbkRQdoterNTsrGD8d3GTlU9txz9yRhJXdajuM0oX5WCCZaYxBUHENQpocvFRNscsliAukTGDuKeGNfrjJtDyYIbehVugwEK0f6OPeAQPmKDXFa3A/yjwWs0/HwGVhoLW37rXR6LOqCqIFNljGJDOTPtmnBTbq3qThUly6JZ7ErKmjXTL64/E+LqJLju4wwpXW12KC5hTLGziOBrsMaQppI6KTtN/krlvgepIPjOJ0N9dDqYjAGSvIz139Afzn8yMNl6LCh6pDRA0NDONa4zAajcbhBBKmTYiwELV+NG36Qy4K43BJ2bQ3r9SEek8E1kHBVhey+1+5ywsknyGVXXiqfu/J8OfI9E6W8arMsX75Alqx4W1ZvWC1PPTtL7vrFb2X+G8uD/esr/esrZVhtRnbenJHhIey8pUH6hPQrVHQ3hHKGfFIhmWgpvpoESsoIfQ5ztNEucoArCzfDXkPUFBKw2QwsqQ1WtDZcYyyWOQUzWBWuccKEfWXo8KYJU5SmZBzHyVKKD0EchJcJsFgEtHUAlojMeN/2QjrxNVtoSSTHcVtDfK6L144n13doez9TcBHrtDl8TZnlM3w1oz9tXw1HEvHIMllP4kOjI5UKCNza8E1tKXAuaXEaThrdAuNQHY5YoGMMgRFa4dSctJXRdhyno8kajwh+JydPPkDG7btn2KALG22JoZ43ij0C/UZwcFqu+5pDiJacGbaCoqsM1oQxtbwurKa+Vmoq6mXAoGrZbfedZcaJR8plnztH/uOLl8hnPvtRec/UsdK3b5msXLVQJ3Bat26DrFyxRh556M/yq1/cL2+/tVjqtwYnMqSJYNahDA11Uh5Cr4Z6qQmqOAmioToVkgd6mRAamgWusb4sCNHyZFkdhHCF7udKCpFcqf6PeI5arZN9Sets/wH9ZP8Je0vT8LnkPMdxWg9iEmcfAUarbGsC5xYb7BzrvgzbIzbyYZNepvMl1NU1f89tWwTSMt+uPa7HyQ33uj3ut4+JdQpiY2JxWhgzytN2Jna67vrrZdYLL+iY2BnHHx+ctergwBAnGKHgWC1ZtlRWrlypaWAw+Oo2fn0xIOFfVVWlDB8+QsdJJG21OF3IXb6SbCfLpOtayyBGk2ByuTnpbVIn2DXS8fndcG2MiZ0z+3W59NKLZdqx06SyvFJFMYH24ySldGqO43Q8VouNFupmMCQ/v/N3ctsPfyGrV+Gc0coQxF1IgkmdCPoCnrDkdTDWYyOGPVXhx3hLsGPr+vWRhVPGy6J9d5P6Yf2lpq5BRrz2tkzZkJF9+/SV3XYZoi2vI3cZJn16V0tlVbAjlUHjbq2TzZs3ysYt62Tzlo1BwK6T1+e8IY8//qT84x9zZeuWCikvr5HqyhrpVdsgh/YdLB/abZwc1NBLttbXyeub18sdb/1DFpaXy4bg3KqczHHZ8Z0x2EcLKg8HOaX3VgRpELshgapMuG7sfNjf5HDQqouVZH9Gavkt4LU6GSwzf9mHkWF/dU2lTDvuKLnwM2fKiFG9E6OppctmlvznOE4WRJWNieU99YyJPeecc3RpUBcZWzp//vzGV+x0hAAjH7rijh8/XkaPHq1COoayt/YVOywZNsH1LF68uNlswdt7bYUaIEib1+pwf4cNG9YoooEy9eQxsXH5u1vZ8+Ei1ilIUSL2uCBig3eGiK2trZO5896Un9750+CMvapGDuLZgqlIGIedBu0k06dPlw984AO6DjzJ37RpoxoSjBqTP+EmJW0mzaESJnK1CVpGMJHs1QaWmLCTca9MUoUx7t+vn/QKBroyeJW4Y0zA0kzEXnaJvie2qoJ2ZfyxjIZs6qToOE6nQn2MK3oLdTPoqdmvviXf/e5NMvP5eSFmL50tnVMqELHBevACGxOxOvkcRi8CyYYrtzUktr5/H3l3yn6yaNxoqR86UMory+Xgiho5vu9OMiqc2lu7etRLeUhu69Yt6tA1ZGqlgVaGELBtLJctWy5vzJ0vK5avlfo6rEy1VJRXSk0oR78gMveu7CsTew2U3TPVKiDf3bpRntq0WlZXVcumkHh9EJmk1YxQ7LQJBPZZr5fKcOnr578r9ctWSd+gbKu1O0uSkjk5WN+68qT1gt8BJvDDudVtPZ48diwvz8jwXQbLZy4+R46dfoCUM+knSfBeIEU3klXHcZRiRewbb7whP/nJT+Sll17K+kZNdam9BAl1nLR5XeLHP/5xGTVqlO4zWiNiSc+ELNfyox/9SK8Nm9LWxGW1e0TejKc96aST5NRTT1VxavR0EdsTcRHrFKQUEYtLs7WuVh56+GH5znXflTWr18jOQ4Zoxa+s4KX8CbySYc3atbJ50yY54vDD5Qtf+ILssfseOtYKgfnMM8/I3Xf/ShYufDcYyebjrmIS+9FkRFizcWq6N3USzh9GCqOKkT333HN12vjeVb1CzjhnzUXsZZderMYXEUvZTcjGeTqO05lQH+OK3lj7cxOibtlUH5zBu+S2W++TrVt4DBZqdzilIgjWpNsuIjbI2SAgy3lKn1fE1gcR20sWHjVRFuwdnLvBwRnqXRNEZ53sFoRn70yQufVbQswG9LBkGBfbgFNIQCAHa1LGoIasfVVDF/YH8VoblpkQly7BvRvKZaeyaulXm5EBdXT9zQTh2iCLasqyAra8saU0Ta47QSyyYq6BPuG0jXPflvVPviADl62TnUJevA6NOOagNYlYfgPqpT44m9jKxJ8jTvKgsbK6Qo477ij5/JXnyYCh2UPgItZx8lKsiH3ttdfklltu0WVHvOOUPK2Vklfs4C/ts88+jXYBtkfEIlqfeuopvSZamNuauJysx9tM7DRjxgz55Cc/KYMHD87udRHbHXER6xSkGBE7PRKxODj33n+f3HTzzWrwMBKDdhqUvKA/W+ExBM/PnKlP4EaOGCFXfelLsteYPfVVOszc+fQzT8ttt90uCxa8k4hYUs5hK9QwRU4Ra81EbIrY4PBEEWN76GGHSTVdClMidvbsOfK5S2mJDSI2XJumnQ350nccp6PJ5cgVrp1Bh8krr7wu37jm5lDP3wmKriLYhopGEUu3Wh65lfNqLZpQsRvYlWyy9PDAImwJCa3vVy1Lj5oUROxuUrtTn8RABPEZDGGIWBeWIVSEE3U7EczqCIV/YUf4F+SwJsyOJB9ttiWO7g+iMpxbHWRzVShXdXCqyoKdYizr+nAqApbzMo1CsTnb9EbJotmE0C+I4kEr1krm0Zmy89vLZVjIg3MoY6O9Djto6dUuxCHwEDKZyZmck8d6CNURI3eWyz53oUw7Yd8kcaNZIZI0HcdJqCtCxALvhiXeC8HvQhgiuBBZ7Qnp827Ygw46SF/5M3DgwOyRBMreGhFLoPzLli2Txx9/XObOnauitrXEvl0u0sf79esnU6dOld13311nKzZcxLYd8b1qz/vkItYpSFEi9vjjpboieYcYgvO+B+6Xm2++SQ3fpZdeJrsOH5k4OllqG2pl1qxZcvXVV8vOgwfLl790leyzx57aEosIXrd+ncx76y3ZHIxfIeKKwTpbjaG5rVEQ2VaQ3sEw7z56tAzsnxjlcHVqRFXE3niDzAki9rJLLk1aYrMi1qAVJt52HKfrEwuzLZu3yp0/vV/uuOPXsm5NXdBcVTrUQAVssBHE0vfIhvg4NmBDIrA0VUH4bgk2cU1NmSydvI8s2X+sbBnQm5Oyxid2yNiXXRYF8XPEJdms/dqGlHNVFJSzLlj4+Quk31OzZa9VW2RwLfeC5BhzF9aw+WEbu14fBHl9ELG2TTnpfF0b9vfpWy0nvvco+fQFn5QhI8NvgRW/2Et2nB2I2MHH7zARa++JzSViOYewYcOG7J72JfavELLYwfS7abdHxFogjbVr1zbLrxSKPS8uN+cgXm2yLMNFbPfDRaxTkNaL2Jtl0qRJcskll8iuu+6qhtoqPGPAXnjxBfnqV78qQwfvrCJ23Ni9NB/Qllf9K0wiWxNYZ4sQNwIYzeOKbK7bGsRpLEfp6uci1nF6KjggsdMx/60VcsP1t8gTf/u71G8NgqwsODSI2HBMe3SEuMg0ljhvTXYl7M9UBNuYkfVl9fL24H6yfMTOUjegj/AKnSYRm7Vg5vi0ZNC2Ic8JuXannKviCOfQQrxinYxYsl5221Av/YMgTaZp4vqTLn9YYmx/MplTIl+TvWj2Gtlat0XG7jlSrrjyfDl8yp7JtO8cdCPpODmJxVApIpa4gD3qCAGFqEsLtxgTsbfeequsXr26aBEL9nDQKOZ68pWlUBkhPs66tWCbKI/L5CK2e5HL33ec7cKqNQaBF1OrwExV9kZT0Gx3sje4jeHPvprsa244mmjab7I3+bOz4r+mbRywRMBCMGDZNcdxejaxE7LrrjvLKaecICNGDAl2iIds7G06Dmoxsk5P7L/wDlb+qoPo7bdyvQx4Y6HIi2+IzJoj8vc4zE72vfB6OD43iVNUsPg5wkslhFznE14K6XP85XkyaMFK2WlzfbgWroyboBabm8UOvX7G5+oyG5L7xB2ol0E79ZPjjj9axu03JniFYW8yl5/jOG0I9Q4/ymYIZhtRW0rAjuXanw5x2ghVloWwshVLYkOCpUn7hWF/vgAWn6WFYiBeOh3bl4Z9xabrdD4uYp02Ja76GAN1/tThwXAkoRkpG0Lc9RvXy/y335I5c+bo2NQ5c17X9XSYrWF2szDn9XAshNcJc+fqmAtaftNfdJw0srbgOE7PxhwXo7JK5MCD9pdjph4u1dX2UCtB7ULW6bFAS2RYZMloz2FE7Ij6ctlrc0YO2JSRCRsyMj6E/dcTGmS/ddmwtr6EUCf7h2VJIeSRDuNDmJAz1IdjIaxtkANCOcdtzMiQrRmpYtKpcD1cI3ZYrxtHtj4EbYHNXnzjLWyQqqqMHHjgfjLjhGOCmKUNOxxOFo7jtCE0ChCwYbYeh3zQ2mjdZolndpB1jlmwdOwYkx+xzrls54M42Iq2wMqWK4AJbEhsciKu1VYVCHaehTjNNPG1ForndA28O7FTkFK7E4cYcv8D9+vETsxod+lll8mIESP0iMGEIK+8+g/5ype/IoP6928cE0uMuky9zJw5U1/RM//ttzV+Ro1I0/nNCLvTJkZ784WAYT7yyCly1llnyvAhQ7WDXwxuGSTnJ4bOuxM7zo5BMGdaj995Z71c+583ycsvzJatW7biKYX99AXhKGv8JT1EyoNyZcInphtm/GxlCLwXuzZEqA2+T2J6sgbIDJGB8dSUCmO55iJKLSJ/umXByqWPJGlgDTmSzLRs18j/2Hr2q/OXFbCNtjNE4vyGMqxnvey59xi55NKL5NDDR4v+BCSJJNjScZxmULcM/I5iuhPX1dXpBEgEuuji36TTAdtnYm3o0KE6tItJmVoSaFrns4IPWE96oeQWfpTpsccekx//+Mf6ruvJkycX1Z2Y9Cg/74l95ZVX5O3g6zHjciHsPHr37bzzznpNLMGuPR8cr62tzW7lhvS5Vq7jnnvukT/84Q96Dq+AZIJS707cNXER6xSk1SL2ppuS2YnPPFNG7LJLo5GhztfW1cvrr78uN9xwg4wYOky+ctVVsncQsbhFvGLn2Wefldtuvz0rYsPXMxje5qYjpJNdciBtRhLnM4jNiko5fvrxOp5h2OCd9VpyQ6lbJ2Jjo+YGzXG6C9TbpL6i2Z54LNij6/5X3pm/MAg33nwarAjGDvsS6rUKWEIQr2XBHpUF21KRKVcRq62VIaq+YpUEs+I1EYNGU37NybWPJJrvZyt3TLAjqRjBNoXSZTeawNZRxuQIzqmuZB8Wclqwhdj7cF1cAyaO7tMqc8M/HkJiq/sP7C0f/+Rp8tEzTpR+/Tk/mxZN1I7j5CX2G6hnLYlY4r/11lvy85//XF5++WUVhml/I06TddtGOJ5yyikqxmhdNTg/n89COR555BF58803VdgRcrXGUnZ6uy1atEhFKCL2/PPPL0rEAtfCWyrmzZvXrPwx6TKyPWTIEDnjjDN0hmGuKd+5BmIUsfzoo4/qJFLmj4KVh8B+rpXrJ9AK/f73v18+8YlP9AgRG5e/u5U9Hy5inYKUKmJ5Ef7vfvs7FYJ1tXWy0+DB0rtPb+3SC9ZthRn23nnnHTlw4kT58he/JHuOGauOEWHV6tWyePFi2bBpo7pl5YwBiSoca+on5kDj27K8IhjNQcGgjtB880FSuHQYMG+JdZyeTlLjs5aEHbJlo8hdv/xdCA/I4neXS0U574YOliQoNpaIV5ojG0VsOM7ERwhb3uVKKtiQehWHkXEKq8l2LGhjtnUMc8GMyYVeH5afbfOlNIlG1jVWVIDra2rDJjZYW1+C9U98HuxyyDdrg3kVWa/evWTGicfKp87+qIwc1UsLWFa2JaTLffH+xI5TiFhMFCtiZ8+erS2eLBFlJsRiMZJLmPTu3Vve+973ymmnnSYDBgzQfcTLJ2Ko+0888YTmtXz5cs3b8mLdQpwGy7q6OhWxF1xwgeyyyy4qYAuJWMJzzz2n74lFBOcizsOgLLQun3766TJ9+nSdZZi0CoHQvvvuu+XPf/6zim1r9Y3TJg3SZmmt3KTNAwBELK/lSeeTLpvT8VTstttuX2GFFxk7ThqqbNZ86Toe1Np16/Ql1YuDwT3qqKNk7NixyfsUORwqNa2pCxculGXLl8mKFctl9arVsmbNGlmzdq2sC2HFypUqYnmadty0Y7XbMU+59Pzw17dXHxk2ZKiM2mWkhl2DCB05rHnYhX0h6LF8Ydgw6d9/gDpsia0pbHAwUHQlefrpp0O5V8gRhx8ue+yxh15bfKaJZMdxuiPUXgsJjI/dfbcxsmH9evn7Cy/oAzBqujotWUcFKWdOlT6S093BLqq+DcuwjW2oCCuIWwukhAXhFT3Ngh4jlEfruUN5iK8hrFsZWg6hiOV59lP27DroZgi84sxmIU6sfwRCPpxQXVMphxw6Sc4+959k9B79uDgp4124+mSRNIsT5o7jJH4HD+2feeYZ9YsQaLyekGUMLY74TAgsxCC+CWKRtz9YGDlyZLPAPtI65phjZFjwh6w11WxBGsrC+2hptbT30SJqEXPEJ28LMYhqfDjyQsgSF7H96quv6vmUFT8PQW35UpZevXrp63tYUr50+bk+WxJo4R0zZowceOCBcsQRR8igQYM0rZbg9T8Ic7otI7bt9TqUwa7Hxg0DYpZjpE8+e++99zbXDLnuodOxeEusU5BSW2KDaZTa+lp5d+G7smb1GjUYBDwkvmgYBgxleTAIGOXdR+0mQwbuFI4kDhNOFI6XuU+4bRzDSUyTz3ywn6AtKQHkN2fni5+4a8lTOG+JdZwdkKyBeHf+WrnlB3fI3x57Vtav3SyZesRj3BLLdoXUZwUdfxXBprHE2lQ1sJaPtA0jpoWWKT5dw/ZvezzI1KYEw2HtPhzscm0GAZudjI/TsnHoahwOB0evTA46eLz88zlnyAGT95CKaqJlVN8mlpSV4q7HcXZU9OFYFvyOYsbEAnEZR8oSAUU6ccgF4gyhyFhSBCVwbi4BRhqbN2+Whx56SFsu6Xo7atQoCTpBW3HNf6OFllZURCECFlF46KGHyqmnnqqCjzj33Xdfi2NiuQ7OR7yny2/li8tp5aYcCGKW8fF8aeDX3X777TpUjfuBCB4/fnyjMCXeG2+8oUKXV+yQDoKZlt4TTzxRHyhY3jHpbafj0Z8ex2lLqoKgHbPbGJk0cZJMPmiyHHboYXLoIYfKYSEcMvlgOfTgQ+TgAyfLxPETZdDAQSpQMT0ENUrRH3v5P1frRKG/YF6apZsQx0j+2JcQtjBItuk4zo5FMBS7jh4gZ571UTnsiAOkuoZJm7Ymoo6WyfBriU1hyAT7Ghrqwnqd1NXXhmVtOBYcxLLkkdi2Afi5jYPZn+ICljB/yJWrHWNOgabAVE+8DZY34RCY7qQ2nFAbHDfGu3KuQrYBthvU+W2QPfcaI6d+5GSZOCkIWJ7mJUfV6ctkcHDDnpQj6TjO9kO9wkehWyuCsn///rpkwiZaDBGIuQLxEGsmYFvC8kFgAmJu2rRp+r5UwtFHH635InYRoLSiHnbYYfLhD39Y50FB0BYL/h7xBw8erJM0xYF96cD1cK12TblEZGKLmtugeB95MinUBz/4QR3vetJJJ8m+++6rQhrBzXFEK/s5Tgux5ZNO1+l8+CV1nCIIlTiHwegs2tKUNEraFq6Po94K6zg9kKhS7zF2uHzqU6fL4UdMEobj19cHIRvkXgMvQNVZeWm1zPZM0WUQtMFBxEmsrw+OX+QwtTWMXa1rFjLZYOuhpM1COn6SBj1qcFE1hGtgnCtOqzp7Yd82IdjGPffeQz517ifkPcdMkqrqsNO8hy70u+A4PRX8k5Z8lLYEW0B+iEWEJi25tAI//vjj8vvf/17HsbKPbsJMskTLJvHauoyJXW0eTGCXCmVDpHJN9ARknVZaZiOmOzdjZRHItMAyjhjh7MK1a+Mi1ikI5ogOFyzNNDH0CdGHs6b71PFJKnqyZn9N29uSHE2fEf8l7mLxIf5L0oY476YjcYwErqUsMdzZJY6exeM6re3EcZzug9blbCgIlTuE8iqRPfcZJWed/fEg2A6Xvv16BRuQWBgVrklsXSZJsi9JP7hXUhvELsvgbumsvklIYmXPigJsuz9t2wh08g1SM7U3CcmrdLBdcQgpkW8I5K9BY5NDUl6cQa4puS7OqAjL8ux5pBr2VFXIuP33ko998iNyxJR9pZLpC6LhYfpboMFxnI7EhG2pIU0++4h9ID7HGFfK63QQsEuXLlUhuP/+++vER7vvvrtu50snHxa/UEiX3UI+WjoOCGFakZl9mVmUEbB1dXXayjtjxgztQkxrM3EogxGn21IeTsfgItYpCF8Q7brbaBjCMruf1oe4GgeTk10zChszziVGY4tAKnCMQCeYdMgVn6DnhP8Su9O8RHosz18jem7YQ2Aze4Fcr1aWOEHHcbo8Zrtadjqo3EHmZYLjFkTafhPGyKcv/JQcM+1I6du3d6PQywSjoLYhiR2JQGxTELEa6mm7DSFIWURseTjO07/GMy00Wi0NmnIoJq2l9aG8cUCEJvGbW0LOKQ/5V2gI9jobsFeckqRMoCs0gWtEwBKSdY43kIdUhvVEvDI+tqyyXPbeby/5RBCwx06fLDXJ5KZNBpHX6YTz4nvc8n12HKctSNe7UkJMo88TgmHrxGWyJybzfPDBB/WtErRg0vJKl1xaYu01N5Z2nE4+iolTKpa/hXzQYkwLLGN2n3zySb0+WmDpKn3yySdrd2JEbaN9jO5FS2k7HYv65Y5TKtqtow4nqjm4Q/ZXCsSOQ5r08YIh2BdCc/cwf4jBOGGgeY1G+pjjOD0bc1ZYMuZzn/HD5bxPnyXTTzxaBg3uF+xCc+uGvUD0hTU9x8QsSxWMtHQy229YFgPnkk5wk5IdaXRCqVQIP+NJ/KaAIFWZG4RofUOd1GWDbodQF8qjXYhDnCY7Gf7K6lRss13Tq0oOOXySXHjRWXL8CQdIbwSsXXjjWY7j9ETUtgVbxERHzz//vE7UNHfuXG1xRcDShZjJnBCwhexbVxN9XBNC/Be/+IUKc8bCImrf85736Lt0mdFZbXAoM76g0ZWuwWmi6RNynBawim0gZNevWy/Lly2XJUuXaBcTAuttHZYuazlY3MWNYaksDvtLCavWrpEttbXqC3KtuGmJW+g4Tk8HG6eTOKkETBg9ZpCcc+7H5dQPnyy7jhoq5RU8nWdKpGwcztE/uhDzfxIQiQhZBKMGttkfjImFpJtviB+HEIe/RCTGwVbDSXEIbJsGeQfxjFANZTAhreN3tVzESOJpXuEcQiidhkGDB8iJ750uF1x4thx86BipsLlakuxCHskEUY7jtB2J/cnW9U4i9vEQcQsWLNAW2Pnz5+s+ug6fcMIJOnsycfEDiWdlz1X+fNdU6JxiiM9PhxjKSRmxgUzexCzEzK7MOhNlTZ06VSdx2m233TQO8RHrhFjIOsWT77Noa/wVO06L8AXBZTPnDKP27e9+R37/0ENy8MEHy6CBAzVee5F0o2sdiUEuPoG6ujqZ/dpsqampliuvuEKOnTpNelXVCC8QUlPGzXDfzXF6IPzgIkxDJdc6TvtmJYZP2bhW5KknZsk9v34wOEAvBmcnOEYVVZLRYRXW2sArH6Kn9/wXkuO1PPauVzuusfWc5pCW/iiXRJPoxmlAqOI72GzDCFk9pv+znW1JRfCGSJSd93tXVFbILrsOCYL9A3LCicfJiF1ClByz2WXvkk505zhOacSOPaLJXrHD+2IZZ3r22WfrDLqdAaIU0XrnnXfqK3Z4JQ3dbVnyvtfTTjtN3weL+DNxGItYIP4DDzyg3XWZLOm4447TV+ww63B7EN/PxA43B5/1tttuk6efflrjUl6bWfnII4+Uj3zkI3pt1qJs1wSWtm3nSt/pPFzEOi3CF8RELB3dFi9ZJP97yy1y3/33aaXP4Cm1I9rgkF0vBm1UYEkoYHCa0kycRsQy8cuC0dp/3Di5/POXy0EHHCi9K6tVwKoJI2L+JB3H6ZZQsZssAuC88DKvZnU++Dhvvb5Wfv7ze+Svf31CVq5cpfsQpsGdC1GDrAs2xHwqtUFhneMqYPnTtEib1DkvQW0VcTg/j03lHdqGxcE+JqI0gXInjlfSGqxrnBZW9JpCGuasWUFpMe7Xv7dMnDROPvChE2XasZOksrce0vOUpqxdxDrOdmDCCGIRy4y/iCkmS+J1NS3RVoIqLg8P8tEDf/jDHxrf30oYPXq0fOhDH9J3viJogaWVweKBiVhm/eVVPLyXlbGmTJaULnO83drric+Lr8Xg/buU57XXXlORDnSDPuKII/Tdtrxih8+BY7S+golWaIsyOu2Di1inRfiCIGJZMnFJfTByb741T96cN09qt9aG/U3Gqz0g5WJSN9MSL3EUG9HVaLsZIWY2k/qGetl558H6JHRQf1qZcU1xUR3H6Zk0icDmhFqfNj7BB1q1okEee/wp+f3vHpZXX5kjmzfyCh4EbLU6OUmXZDrcJnYlEbmJNUoemSWJluu0eWp9EueogIOEnW06bHkkKdGaqpgRU2iRVeuscZI9yVqTuW6Qmpoq2W30KDniyEPklPcdL2P3HJCoU+KQH4Yvu87Cgh1yHKc0Yn8J8TRr1iwVsQsXLlRxRSunianWUKrQSpeH1lPEp22PHDlShTXdbpkACfGKyLPz0kvOtZbYdevW6ZjTvn37NhOGaeIy5CNXnGKulWtAWNP6ilClPJMnT9Z3244bN05fFRRD/DjdfOvO9hF/nq29ry5inRbhC5KI2MQF4qvG832e3mdCZde9Td/FNkddtWK+36EMaRNpFYNlrkqiPl/YXR6Wldlr4DldXUioInI88emKKYLjON0RKn/WADQja1FyHNqySWT+vIXyyB8flz8/+rS8++4K2VqLuMQiYkWCIxTOw4JoV+KMWRPLK27pDUcIYZV1yy6xuFn0Bz8EM0SNDgA7mqcLTT1Ymuw2kzuRPnPO06g7aKf+ctR7DpPjjjtGxk/YUwYN1ejJZWN4iUrIJsCC3wLc6/zuqOM4hYiddwTTzJkz5aabbtJurwg9WkOLEXX5yNeKmI90XpzPeQhpugDTikoL7E477dSs9RXU3qXOZ6zpww8/rJMnrVy5srE8ueKWQkvnFrpWuyYeEtAdmi7ECFgT5Hau5cG2rZd6P52Ow0WskwO+Ek3GAlerLgRcIdvbdJT1eKvtaV6a/GBaLKRJ9m/rdrGfvQQ7L1deudJ0HGcHIW0UImNRu1Hk1VcXyAP3PyxPPzNLVqxYJVu2bgnHKoKITR6EJSI2lx1pcp6MZNsyLNbpw4IRrykuIlbHwuKMhb+Ghlopr0jKMnDgTrLPuL3k5FNmyBFTJkr//iEFJm9CoZI9KjV7boKlTVpZse04TqtI12m6ETP778svv6wCcHtaYSG2KcWILspjZUJU2zatrnS55d2prFOuOL34vBhaO1999VVtiUWYG/niFwP5FnMt+SBfBOuoUaO0W/SECRP0WglxyzLBRK11PY4/j+0pg9P2uIh1csBXosnQsNbQKACT/cn/iTPT3lU66ZjXMlaOuDx2FbbMVVZvVXAcJzdZy4EiNBpXw7Hs/kytyJo1DTJ79jx55pnn5emnnw3O21LZuH6zjl0tl0qpwPkJp5izlJzIfzmcM9WkwaFKthrhvHRc3UehSD46zjp2k1SqqoJTVl4vg3ceKBMmjpejjjpKDjpoguyyW1WT/uU0WyqWux1I/ic3i+Z203FKp7H+B1hHLDH+lLGbdHltS4oRXVYe4hJsm262tMTaWNbYtlg8i5uG61i1apW+ooeW5TRxPsVgeRv5zs+XJvuxvXTVHj58uArXWKTaeRYPOM66bUO6HE7n4iLWyQFfibQhiNwVPRT+66DKXKyIzUX6KnLhXYUdx8kNlidYh1jEgo5DMKsUbKMdD4t1q0XemrdAnn/uJXnumZky7835smLZ2hArxGscu2rpmWPYlD6bmTy21cZqmSPFNqhDh7ULDhjjb601pawiOG39+8pee+0uEyftI+MnjpO99t5DRo7sJ+XNh4HlISkvwjVZ0lGavJJfhGR6F8dxSiEttGzb6nNbkk90pctgWHy1KVGcXOlwPFc6xI3Pz5dOrnMLYfHTZSmUjsW1MqVBoOYS2aTJsfR5udJwOg8XsU4O+EqkjQIuS3a/HWqsy6VW6o4wAkkh1bFrgfyliYS74zg7IMmT+iYrEZaNgjVrD+N9Rti9dbME8bpBXv3HbJn57D/kzTfmycIFC2XJ0qVSWVkVnCRea8PZwc6E0xPnyNLJ3Z2QyZyIRlwmc9LJnbQISctIeXlIMyTKqyN2HzNa9tl3D5kwcT854KD9ZdRu/aQqO+Mwr7kNWjeYOLsGs3U4c3pAt5Jj7E3iJVuJiKWkvHpsW+LrcBwnTanibXvIJ7pylcH2sYyPk0audNLxjHR8W0+nn+vcfFga6bTifEqFc0kHERt3GWYfx6wFNs5je/Jz2h4XsU4OmhsW3Qr/Nau7GJBmO7pqxW5+LaXhxspxehKx01ScM2ItI2lbRzqWFtvZ4zpjcHY7e7h+q0jtFpGli1fL22+9LXPnvinvvrtYFi5aKiuWr5aNGzfLxk2bZNPGTSpAk/fIWprZdBXLMxGTjG2tqekVBGuNDBg4QPr376dd//YcO0b2CIEZh3cZNSgcC5FDMuXbKM6QSpldnzlwaRELyTRVSd7QVKbcUhvicjuOE2N2KLZHELfEtpVYypdOOu/Wki+dOF+LY/u2J+90GunrKyYP4nCc+01AwCJY7f5znGDbPia2dOL7n++e5fuMSrnHLmIdx3EcpySanM188PvMxE6K/SZzWtCJG9eLbNiwRRYFIbt0yTJZsnSZvD3/HVm7br3U1dYFYbtJ6ut5b2HzfKqrK6WyskLHczG2a5ddRur4rt12GyUjd91F+vWtlD59RSrpKkzW+F5pf0BbkFvCHTXHaS9w3s2Bx2G39bSI6kpY2QzKHJcxvZ0LO27Xa7A/va81kI7lkS4vWBkJHCewjj21bcSstcD6mNiuj4tYx3EcxykJ2iZzOV04O+w3JxUVWZ7oRvN9OJVobMdzuIQ4WzaLbN3SILVByOJA1THxSJRNWUiIV0TgdPXpUylViFVaWK0B1RoMLD9C4/mshEBhmjli8bqRa5/jOG0BtsFEG6KIdQSUiaxYNHUFrHyFBFxcdrs22wcsSaM9IQ/Lj7ytHGniYzapEyEuvwnaOE2I153Ox0Ws4ziO45REIRELwSnS4wjY4PTEjg+TO7GdPr0U34hz7Xw7j2Xj/vCfitWm8jQLBR0xU9iO47QHJqDipQk8E1IxFi9NewuqON+4fLkgLsfsOMt0ufNdR1sR5w+WH0tbj4/bfeaBIftN0Oaatdjixuc7nU/zmuI4juM4TivAuWkKwRXV/4PXE7azzhsLc4KaoiahKEggBASqvniWEHbZ+SzLg7NpL6VlzGscx4Klkzc4jtNemBBimV6P9xkmwtKhPSklr/h4vri2P9dx9uUK20t8Ly09W1qLqwlW22aSJ+A8jiHe26IsTvvgItZxHMdxSgLHKFfA2aHFwgLb0T6iKHG8fA5S2K8iNB2C09UYwvY25/OzHkIy/XAIjZkGrJyO43QmsVBlHRFFiPd3Fog2E27xei4ob7rMdk4cbH8a9lkauYLdl2IC8XMRp8WSPBGoaQHLtsWzsrIeT+zkdC1cxDrOdoChyxUcx+nJ4CyZSIzFooVc+wjRKg6XBt27LTn3szPK08631ta8aKQigpW57XCb6Di5MUFFiFv8rOtuKVg6loYR70+HOM94fwxltKWJwDjYMVuH+Hh8zJYQ77frJf2YOH6xkJZdVzp9YB/H2Ed+lmda0Np9aE0ZujLxtbUnlk86r3z7W0vzb4zjOCWBgcsVHMfpyVDH8wV+Vi2wDfE6xPFDSG1qyEmctgUi4xCEUPB8O2DnpEOcXtvhNtFxCoNDHwut1pBPGNj+fMGgjto+q7N2nPV8AjadTiHi9AhsW+sngXXuA+smJkuB+Jwf30vW2Z/Oj9bV9D7bJoDt60l01DVZPum88u1vLfxiOY7jOI7TbSlVfJpgjUPPctYcpzuBqDKh2BGQTzo/tm1fLOTYlws7lg5g4jEtCuPjiEeum2DbxCGwTSgWOx+YvR3YJm9L08oBtm3nxFBG+zycro1/Qo7jOI7jOI7TCcQiqyXhZnEJMbn2kZ4Jt/g8i5eOb8fsHERcOk5rsHQtLbtOhKIJTvaZoLXjpeZNfNKj3OlrsG2OE9gmcDy+TpaEfNdu6ThdAxexjuM4juM4jtPBxCIL4WbCKh8mstICK9/+mDhOS/FiEbc9wi3OL06P9E3Act1sE1iPtwth6RnEZ5+lEe+zPC1Ntq1McRyne+Ei1nEcx3Ecx3E6AQSULU1ktQWkZ62budJFtCH2Cok30rDyFYtdh4nDmLhM5Gti0uIDS46zv1AAW7fzLU3Lw+AY8TjGNcfn2HHL0+k+uIh1iobKn49Cx4rBDM/2plMqHZ2f4zgdS2fZlrYBhyoOjuP0NGJBZUIrhn0WWmvPODfG0rA8YzFry/Q5hu1nSSANa/1Mi+J0GnYOWDwrg60TSsXOZ5lOI52nxbH9th6fV+gexNe3o8O9sNAZuIh1iobKnO+LmquilwLnW/jHP/4hd9xxhyxevDh7tH1ID+jnJdedWRkdx2l7YtvSvaC86eA4Tk8ktk+smyAEa1VMBwSXTV4Uh3yQrgk1S8Pyta69kLaVbMfBymXbYGNNCVY2E4SGxTXi8430dnvCdZDfu+++K3fffbc888wzsnXrVi03+9OC3NkW+ww78nOLKZsyZYp+Qn/72990h+MUgkq9YMECWbt2rRpPE4J8gYcOHSojRoxoZgxbw89//nP5wQ9+IF/60pdk6tSpahDbktgoIVwRzW+99ZYcdthhsssuu2SPOI7jOI7jdDy1tbXqZ+Fv4acY5r/gc1VVVcnIkSNl55131n1GWniZyIj3L1++XB5//HH12w499FBNK00+YWJpLVq0SJYtW9YopNP06dNHRo0aJX379tXtfOm1N7nKBuzHv3zuuefkv/7rv+TYY4+Vf/7nf5b169fLI488InvttZdMmDBBampqsmc00VnX4jSnYrfddvsKK+eee67ucJxCbNiwQa6//nr55je/KX/+85/l97//vTz88MPypz/9ScXr/vvvv02FNwMSV3r22XbawLz66qsya9YsOfzww2XMmDGNT/PieHauPUmzdUgfsyXG9v/+7/80HTP6q1evll/+8pdy//33y8SJE9Xg2vlGrvJDej+GPP3k0XEcx3Ecp1QQVzfccIP86le/koceekgf8OOv4Hshsmg5HD58uOy9994a33wRW+L7xD4J+/FbCC+++KKmjQ+Er4XgjH0azmPb0ophHy2WDz74oHz/+9/X5QMPPCA/+tGP1JeiUeyPf/yjNg7ss88+KpRjLO04jzgvW+f8Rx99VIYMGSL9+vXTY7nIVU7bZ2lbXnbM7gvHEeMI+j322EMOOugg9UG/+tWvqrA/8MAD1adl30svvSSDBg3Se+UUxu41pD+btsRbYp2SWLlypXzxi1+UuXPnyuWXX64G1L6srPNUMG380oY0H5YO3TpuueUW+fznPy/HH3+8VFdX6/58IB7ztdaasKQsL7/8slxyySVy5plnyjnnnKPHedr59ttvy5o1a2T06NEycODAxq4w+YivLRctHXccx3EcxykEfsk777yjLbEILUTiqlWr5IILLpCxY8eqr7Lrrrtu0xJbDOvWrVPfp1evXrL77rsX7EGX7wE9DQMM+8Lnwb+66aabtCHjk5/8pPTv318Daad9OOLjF7Ik3Xz+1u9+9zv5xje+oa2kRxxxRHZvc4FkaaRJ+53Ei/0yKwP3cObMmXLttdfKcccdJ5/61KfUL5w9e7beVxpSOO/HP/6xCvOrrrpKhbml4b5e5+ItsU5J0M3iL3/5i1bes88+W58AIlwJvXv3lldeeUXeeOMN2WmnndRwEQ8DTMvqm2++qUZh06ZNGg/D8frrr6tRxtiZoaN7L8cwWhhAjPjTTz+tT8MQmaRJNxvirFixQp/SYaww+HPmzNGnkzwxI12emHHe/PnztcWYJ5gYLdKgHOS7ZcsWTW/YsGGN3V5ICyP2/PPP6xJDjbEnLc7nPrz22msaj3woywsvvKBpcu25uuY4juM4juMY+CJGWmThc9CKyTAnWiJpmWX/GWecod1caTiguzE+E8Lr73//u/pZ+En4XYhUfBME5tKlS1WoDhgwQNPfvHmz7sOnGTx4sPpAxKO3HV2NOQ/fh3j4Sfg0Vj6WlIMyUQaGkZH/E088oeX68Ic/rL4b/h7p4RtRdsrGNumZL4X/hc9IfvhvHMeXxL9CxOL70fqJn8U1sY6/F5eFcziX6yct4B5wjBZU8gXW8emWLFmi/ib+HmnFLbG0vJIPfqf5m5SdsuC3Um7EO+fj6wFxrDxOx+Ii1ikJDBpdcumCwjgKjAAVHgOGMbrzzjvl9ttv16dx4bulBgKjwpM0DABG4mc/+5n88Ic/lMcee0wNB12SEX883cJ4YZAxRlOmTNHuvXRV4Wkc5+63336aJgbummuukXnz5smRRx6p5SFdnpY9+eST2r2ZbiikO378eDVCP/nJT9TQ8QSSbioYHUv/tttuU9GMkMVA/fSnP5Xvfe97Ktgxovfdd5/mhbHmySei+H//939VGHM//vCHP+h1kDc/EoyliA2t4zithyfm7VWXepoDwvUYPdn+lPK5pePaPerJ98fpHvAdtBATb7OO34KvgWB7z3veo+KRLr34KvRco6EAHwTBhp+C34KfReshfhbdfRFmNDwgBPGFvvWtb6lgxZdD8DJMDJ+HfPChSA9hihi1ll8rj9UpW5I2jQQI7kMOOUQbEBCed9xxh9x6663q7z311FPaDZqH/+PGjVNhzH78O/KiAQKRScMES/wufC3ic134VviWlMPuz8aNG7UL83e/+10tN+lxbaRPufH7aMGmYYM88AvvvfdeFehcE/eRiZ3ojWoiFp/13//931Wwcj2Ug3NtDDDpcy6BclhZnNyYvYW2vlf5+0w6Th4QrRjISy+9VAfB03Xka1/7mnY15ukbxtBmeQOMB4boqKOOUpGKIaJbLwaWMRmMQUBI0kXZvuzxknQwYpYe4NRivAiAuMbgfOxjH5P/+Z//UaN18MEH61gSRDHdkskTI3X66aerwfv4xz+uxp50+WHgugAj94tf/EIOOOAAue6669QAn3feeWpU77rrLn1iSbkw0M8++6zsueee8vWvf12+/e1vawX9zW9+o/fCDZvjtA1el5w0pXwniIvN5nfDtv075XQ3+A5bALr54rvwkJ5GhP/3//6fCkIeovP9pnvsd77zHW1YYBgVghRBSz0wHwrfyeoGfgv+Gj4ZvhnjQhFtjMOl9dLyhVz1J102xvEiAE877TQV20zYecwxx6iwRNAioEmbB/40Svz3f/+3+nCIWLr1XnTRRXotDC3j2CmnnKItoHHe9JJDxNIbEL+OOVu4bvw50mWJwMdfYwgcgp+WbET6b3/7W/XnYlEM3At623FvaKW++OKL5ayzzlKBy3A68mAcsZ0T3xdnW7hPFtoaF7FOSVBZ+SJSsWk5xcAQaJ2kqwqtnowhoGsIxg+BSBcOup1MmjRJz0FMvve979VWT1prmRUYcUvXYMDwxJAfRibdsmn7CTwRu/DCC+XUU0/Vp2+kiyHGSGN8SZ8nbghde6rIMp0XTzsRq3QTwejzRBGRimGlnFwLLbIYOfJnH2KYJ5m0HB999NH6Q4CQJ47jONsPDgXOmtcpB/ge8GATe90S/GbhyJrDz3eJbf8uOd0dvtt8j/Gl/umf/kkFIr4YjQmILoQgvdd4WJ/LzyLgPxm0jPLAn4YJWjzp5YZvg0+D4CwW0sX/s5Zj8qSFlJ5qbFNv8aUQ3vTmQyzSm45Wz/e9733qu9FabD4b5Sfgd+byAyk3IhV/k+uloYJuzQb+IA0R3B98UBpf8FNpjcWOkGY+IUr+NLxQHrp303uP+VOsW7b5xE7n4CLWKRmMHobi3/7t3/Tp2X/+53/qRAMYIIwnXV1oeaVllfEajLNg5l+MBkaGllGeDPLU8F/+5V+01RQDBmljwLYFDI1h8cyI45TQBYQnfZSLJ2d0Y8E4cl7aSHFOLieGdDCyGD2MFeD8kB/CluN0neZcRDuG1cZF8IQQQ0c3mnj8iOP0NKwu5fvhzwfxiz3H4lHfePJNCwMCJB84RDhLDCFwRMe7mcgr9XMqllzp2mfcXnkCNprvA90fcZYLYb8dfC8Y7kIPIMpmvwntXVbH2R4K+RF2jEYCfC/zkfBPaKGkJxoth5/5zGe0RZZ9aV8oBt+OMbiINasjiDWEHFh+xdQX6hsNCNRPWj0Z7sWknQwVo0cc/iINCQhm/Ch6vdHiSi84E8zYfvLiemxp6wZClzG4+Jb4lP/6r/+qXajtt4K4XA95WPnx0cgfO0JLLGnavUvD+ZwXL23djjudh4tYp1Vg7BBxFhBt7EPIWbdhurggZHEsJ0+erGKPJ190vcWRwMAhCjEwZhDSYFg4zjJ+es42AQPCPoTxf/zHf6iTwhM5ysF5MZQPo2gz7VFuljFsYwzNWMUGk/gmYEkrbbysTHau4/QE+C7To4GJLai3dKGnLtp3PP6uU/cYGsDDJOo/8Yxi6gRxLBjUVxsnz0OpfJAfM0wylMHsRHtBeRg2YK0aXQ16gvBwkW57OJP57Ov2wmfD94H5AbgfCOc4L/sczUbbKziKaUEtBNdkk+nZkJJCYJcpCxMJ0l3Svh+U1YLjdGf4Dtv3mjGedK3lQQ/1Dt8FIcqSOLF9jG1tsRRbZ7APtOTeeOONOg7VXmfI+NJPfOIT2gpLF126LX/605/WVlHKjPimXJYH65SZbfOxDHxNWm/p/oyYpeswYpj5Sgzip6+TspnfCvE9SWP5WZw4f6dzcRHrtCkYBbrf0orJ2AuevvEkj67EgIjFwcJgMdaUCZXo8sIscIYZGwwGYpQngxhfnujhFBNIA4fJhC1dU3Bq6FKDA81U73QHxsAZlq493csFBpIuKzg7TB7FNnnzxI5WZeuq7Dg7CvxgU9eYnI2hAF/+8pe1fqTrEPWQ8eRf+MIXtGfGr3/9a30glAvOzRVibNuWsXDOBROLIGqsV0d78te//lUn/mBoQVcEkYjzSo8YKHTftgceKjCpHT1qrrjiCu0+mAs+GxzVyy67TOcOaKn1tCW4Hr5vLEtxKImP8+o43Rn7zuf67vMdZwIihkUxvIn3uPKQCXtlr0Bsqc7kOl5KPQP8PnylhQsXagswfhf+Ifnzu8A2AXuNX4Wo5TeGVlr8OfvtoJ5jZ8ifc9OQBvYOn5PfHVpj6ZXDRKIc4xy6Q7NtD8/wQ5nck7G3+Hv50gaO4QNyXykHaTpdBxexTsngTGKYcFhpnWHwPk/WMDwYArpp8HSNbYQsXYmtay5GDCNAqwnn3nzzzfoCb4yLOSQsAeOF8aAbCEKWfOiOwtN8a3EFzqEbL0/1eMqOI0ULBN1SMIRmnMibeEwowHFaEKwrCXlyXXQzoTs068xOzGQEPDmk2xpOIeNFuD4cISsrZYxpjXPlOF0Zvss8UGKyNB7uUK9xFMDqKw96mJ2SYQP2cnvqnEE86gZ1h2B1xALHrO4QcomNuE5ZPINJP3h4NW3aNN2Oj1l6lr7Bdpp0HGA7DoBtSZ8fH4/jx/vjc6xMcZ7x0vbbvWDdti0d20cwmIEUx/Vzn/uctsDE6diDP+xwrmswiG/H7Pxc8D1gjBi2ldYP7DKfk8UnPxxqhnswDIXvRHw9tiQQ167N9tlxKwtx7DuTxtLg2uJ7xNLOoeXFWl8cp7Ox77l91/PBcXyZ+LtvS6tPHCceD+/xh+gJhz9EYwL+DC201AVLJ189jPOwNM2Pygd1inMsDbo4Y4vpKcFkm/hjzJBMIwMTgTLMDLGNcKVs99xzjz4QIz7+IvnZq314IEqwcbRWrwG7wizL2DsmauK3yfxGuw4ewpIvkzrh+5Ef3Y15IwU9BEnP7IWdwzUA60A80qFFmesgX2jpvnQUdt+t3N2BuMxxKAUXsU5JWIXGODLWghbVc845RwfNIy4RhTi7zOxLpcdJwvG1MRXM6DZ9+nTtcsg4DUQpT+FweoljxpWljcugZZcnbHQ14Yk/XRoxcgz+t67GrNOVhOnhKRPGCkPOhAdWZpxrnvbxFI50ENEYxNipIa1jjz1Wzj//fBXqzMBM3gheJneipRcoF8YVY2k/BDhPnG+B/aVWSMfpith3monOqEdM0sG4JatbgE3gQQ8zQ1Kn7Rh1gIdUPBCiLvE6N2aaxAngmNUR0uMVWbT2MkkbvTTocUE6BOoX59ASfPbZZ6tg5Sm+nc+TdewJraOUFbFNNzabvZJx8rRGMEOndUsmHmnz+ga6sdF7g9ZCnCET6fngvNiZAisrIOhpnWSClauvvlq7ucUP1SgvzhTHsZ90tcPGcT3EowwcZyZ4hkpgL2nRxMbRqkkrK7aQ+/mlL31JnUIgf+4L9pjXRlBG0iN97C72j27X2DgcO1opDPLG1pEfk58waR12j8+NfHPBOdh6hpFQBh4SAuXgGJ8rDipj1/j+sM/uG3G4DpxcyoPt5sEmn5mdD3Tbpvxc65VXXqmOKvaVOHY/+bz4/tGNmt8kbDwOPE4xccxOx+c4TmfD99FCIagL+Fb4Hfb9tfPYbw93ABv90Y9+VIdsYfPoakv9wJfifKt/pEOw88ynsfpCPJa2rxDEI+BLUVbS+uAHP6j1kJ4XzFWCXcdmkS4PveiBh13APmCfEbT77ruvdg/mfBpDeDiJCMcmYVM5Ny4LtofrZ94E7ChiFzvO5KHmn9ECzZA28sEmv/jii/o7gy9KeUmP/Ox+2r3kGGkAvisNMrRsUxZ+X+w+dgWs7ITuQlzmOJRC2ZQpU/RXgh87x2kJnCHEHc4WT7sxVnzpMAIYE7qPUOmt+y1xmAnYBClGAQeLJ3AYVbqcYMhIj64dbLOOE8OTNI5hKEjH8iUOXUAQzBgoBC1pkx5PGnFaOI+neLQKIJCJDzjTOILEZT/Gjadr1h3Fuh+TBmUgP/KgbFwb5ac8NmkBwpt0uGb242xxDmnRqus4PQEEFw4IP/rUZZ5mI6RwFID685WvfEXrFoIHh4SZwolDXcE5QTxRJ7AhOAC0FiI4WCJW6e2Ac0E9o75TBxFS5EHedOFltkye8GNDSOP973+/OkeIZkQfYpGHa+xncg8cOGZMpwzUbc5hedVVVzW+hoF0GaePvcBOYLuwNThSODpmE7AxBk/9uSZ6hPA0P4Yn/NwfxnVhG7BX1q0XB+qEE07Q8b20HpAm+WJrEOiIc8Qq9oT0cciwJYBN4x7jyLFkpk3Ox/nivtENj3OYLZ4HCh/60IfkpJNO0lYP4nGfGC9MmbDV2E9aNnj4RxdwysmDPdKgTDiXCFrifOADH9BWXXqpxHCviI//gBhHjOJ48lnyOWET6aXDBIA41dhG7jcPGXG0aaG1CWcoP58HXdV5+Mhnx73FPvMwAkHKOdhc4nMPcSw5xqQ2TB5Dunx3+BzN1vNd+OxnP6u/U9wLysDn15JT7jhdBeovfgj+jYky86nwpajLzEpM6yvfa/bzoA67jR3F7lLvsU3YM/wZ9nOuTXKEXcZno94Sl3Sov8ShntPbgnPziQzSxm6SHrYDG0Zc0qUO8zCL+m3ClXgcxzZTn7kGromyYc/xtQCfinpMetgFyhZDGanr+GNcE/eA67F7gZ2lFx92BrtG/WfJ9SB+KYPdC84hD/xD7h12hPJQFsqOGOcaOc96nwD3O999cdoZRCzBcQoRDIWGYsgXr5jzc8Vp7XmtobXpcF58bnrbcbozb775ZubEE0/MBMGQmTlzZmbq1KmZIHwywbnR40EcZYKgyHzjG9/IBKGY2XfffTNBhGSCI5UJDkLm4Ycfzrz00ku6vXLlykwQNZkgXjO/+c1vMkF0ZH76059mDj744EwQhZlVq1ZlgrOg+QRhp3l88pOfzATHJHPddddlgrOSmTdvXiaIvczkyZMzf/nLX7QMDzzwQCaIHl1CcFwy++23X+b000/PPP3005ngvGg5OCeIGY0TnKdMEI6ZGTNmZJ588slMcGQ07csvvzwzbdq0zJw5czRemptvvjkzduxYPSfNY489lpk4cWImCE0tP2k+99xzmaOPPjoTxLjahSBqM3fffXcmOEqZ4MRlgvOYOfPMMzNBOGt87hP3KDhJmSB8M0GUZoJw17g/+MEPMsGxypx//vmZIDAzwYHL3H777XrPg4jUMhB/0qRJ+hlwDp/BxRdfrHFuu+02ve7gGGY+9alP6ecWxGQmOJuZIHT1s3355ZczwSnVe3nAAQdkbrjhhsbPOoY4XOf06dMzjz76qJaV+FwvcA7fE747L7zwgt73Y489NhOEqn7GlIly3nvvvfq589lyLdxbyhIc20wQwZkgjDNXXXWVlptw6623ZoJw1fvFdzM495lzzz1XP+sg6DPB0cy88sormYsuukg/21mzZunnf+WVV2bOO++8TBACWj7H6Q4U40vEPkdb+B7UEYKlS7DttqIt0mopjWuvvVZtL3YhF3ZtRno7vgcxtp3rmNNx+KNIpyh4ylTsk6Z88Yo5v7VPs1p7XprtSSc+l/W2KpPjdBX4TtMaRrdQxrXztJon6XQvptcDrYM8zYbw+6LxeXpP6yPjIXlaD/TO4Ck2rQU8gWdSNloS6JLKfp7EM0SAeDyB5yn4uHHj9CX1PCmnDIy34ol53KU4hrx5ik7XMoY00NJISzItmzz5B56s04pJSwGthwwfoAWQ8f60jBJKJQhfbU2kdZJJRkiTrsq0RNPdljx5in/aaac1thjSAkE3Ou4H95Mn/5Sf7n+Un/tA+WkB4FppzeDVFJxDywlj9bnvtNRArvtBqwT3lC7CtGZwH2jlpkWEz44WTD4fesDQ0kN63GdaLTgenDkNEKdv69xrPhPi0FpMepSHz5bvBWnF59HqQ1dpPnMmoOH6+GxpAaec3C9alIlDS9DJJ5+sLTiUnS6G3BPyAPJhUi/uL/eaLuF0saYlmWME7rGV33G6E8X4EsQpJl6x5EqvlPRz2aA0bVHeYtJI26s4GPm24/Rtn8WzpdN5uIh1HMdxCsIPOQERgLhBrCC+GGNJd1NeYn/iiSfqi+Tjbpqs050MUYioYMwS4ot3AjIW0wQq3bkQdDZ2Pu04NDQkM5XTdRbYZj3tVICtW5kRYbaP8lgagGhECCGcrasaXW15LQTlpItrKZgQJB9EHWkhyBGFdNtlTD1iDdFMl2NeBcE9Ydwps7VzL+z+seReWxc+gl0H12DdnIHt+J7lA8HKPbc8uKesI5o5RrdcJseziVgYk0v3O7r1cpx48b2OIX8ebhB4qEEXasQs3xnEclxeYD/XizDlc7fys6RcfG94SEGw6yVvgl0DcfkucN+Jz+fI/eW+81kyDo5uzHSxJh27bsfpyRRjC9qbrlAGbAUPxHhgiD0w++H0HNyiO12ermAMW6I7lNFxWot9v1niBDDBBS12jENk0iTGIzFuEuEGCAuDlk4mEmLcKxN9MM6UJaLIxCjiiDFTtLilnQwTHrEDYuu2nav+WasbecTH0+u00E2ZMkVbYnm3IgKbcZaM56W1rxBxOQikR3kRn7TAIgKZcIR0SZPxwuTH2FPGAyOwecUYYhahx7kmzuL0DUufffE95lrjePngHEuTdUvD8kPUI7qZ/IrJYHjQQGsyIpbPKM4zDeXiQQCt3bR88r3g3bG0wDPumXMtHyA9QNAjQu3zYmmt0SZWEbvE4XwCcUxQs+Secs/Jm3vOxGGUn3vOwxMerti1O47TMlbXcoXuAmWllwp2F9uUvo62DE5z7HcmbXPz7W8tLmIdx3GcojABhUNAayxdipnhlsmYELYmjIhngUk56PLLREMIthkzZmirK+KDH3+WtHgiculCag4BAopJPRBWlmbaWYh/DG2duLZt6zHxfkQ3gUmgmLADQU2rIHEQ1RaXZQxlBmsBtYDoQrAhqmilRpSTHvFp0UTs02LIDMp0CWYWXSbAQkTTLdjuL7BM52uk74PdG5alwnnWGk73aVrUee0ZDyiYuOr000/XsprINNJls/tks9EzezQTaeFEItZjyJPvAF2a6fJLqy33jvOZxZnZoulKzfeCVlTyZj/HyYeuw3xepEOgpZu0mOyJz80+R+LSdZx73pp74zhO98Yecln9x1447Y/Z5vT9zre/tbhVdxzHcQpiIglY0rWTmYLpforAmDp1qrbgEQ+hgShiPwGBSxdPXp/D7LC07PGuPbojAw4GQgchQmsoswsTj3GNxKMbaJxmPhAsBIvD0oRVjMUDWpNt1tx//dd/1XyZzfLyyy/X1jzi5frBJW0E6h133KHxLTDbLrMhM37zrrvu0hZWZuZl1mRey8B7VBFrCDTyZPwmLbKMw6XrLWIrXd54m3LkEmOUh8A9ag2ki7OHoOeeU1bKzP1gJl9a02kJbQnSYGwz3wfEIy2g9lqd9HURj9mn2c93gvyYNZpZRGkBp+s14pkxs4cddpjcfvvtepxAC6s9IADicc9p1WV2Z1pfmXGaz5FX9vDwoJjyO47jON2HiuBgfIUV3r/mOI7jOGloDUUI0DWUljGEFOMOafFim1ZWxiMiYhCdCBjeFb3//vtrixsClcmBaJVlbBKtsbwGgeNMcsQ+hB1Cg3OZ7Akhw4RAiB32MXaSCYAQvYhLWg4RbYxfRSgzFpW8ee0K59AllX2kQVlN/NHiS16Ml0RQIsRJg9ZiWgQpJ+fzCh5aArmmNKSLCCcPWv6YrIlAK+ykSZNUuCGQeW0DAXHK/UCsI/ZpyeY4LZ9cKxM00RWWe0VZaJUlXUQa+208KffH3uuKuLPu26TPREm83oYWcT4v7hnXOGHCBL1Oykfedt0IV/ImTUQiefP+VSbr4vPiOPeEfUxSxXXxmcXwOSAc7aEGDyu4X7ZkHDDXbfeQsvP50T0Z4cn95Z6RD+VHmPIZI0S5Ds6jzEwKhUinbOzjtTlcK/eQe01+xCEtPhdaabk2Plt6DDApGGVlH/eee4B4Tj+ccBzHcboP/p5Yx3EcJy/WgobDHzv+8ToCwVphId7Pum3nws7NRfpYPuFRKA2ELqItF+ny5sPiGS3FL0ShsrZEfP351iG9XQw8YOBhBBNNXXTRRdm9ohM80TrKGGFaOwvdC4QmmGiFXNdbqOytgTyg0H2Ny9EWeTqO4zidS+t+SR3HcZwdApx9c/hj4RGLmfh4HMfWDYREfF46TnwM0qIkTtuWhELiJZ+ARXBZeeP0jFz7jJaOWUhfr4m8mHxpFIPFS9/nmGLSt21adO21Nryu5q9//au2xDKmlZbalkC8psuS67OxONyf+P4bbKeD7Y+XMYW+A3E6hFx5Oo7jON0Lb4l1HMdxSsIEQCHxlAsTEPlo6XiaUuPH5Dt3e9IEOz9XOuyDeH8p+eVL0/aVklYauiAzDvi3v/2tdpe2iZHois34VFpp0xM0tVSetsLSzJd2S3l2VDkdZ3vgO2n4d7Ntie+tsaPd4/b4fnX2d9ZFrOM4juM4OqaYcae8IgcBy1hXxp0yhpjtQq2djuM4XRl/SNDzcBHrOI7jOE6L4AS68+c4TnfERWzPwx+rOo7jOI7TjNjhM9zxcxynu2L2y+1Y+8Pvh4X2xEWs4ziO4ziO4zg9GhewHQP32UJ74iLWcRzHcRzHcRzH6RDaorXWRazjOI7jOI20dxcwx3EcZ8cgn1hti9ZaF7GO4ziO4zTS3l3AHMdxnB2DthCr+XAR6ziO4ziO4ziO04PJ1SLanXER6ziO4ziO4ziO00PpSeLVcBHrOI7jOI7jOI7TQ2nPbr2dhYtYx3Ecx8mBdb3qiU+wW6InOTqO4zhOx9FRv50uYp2CdNQX0XEcp6vRE59cO47TdXAfy2kLutr3qJjfzrjMcSgFF7FOQYr5IjqO4ziO4zil4T6W0xZ0x+9RXOY4lIKLWMdxHMdxHMdxHKfb4CLWcRzHcRzHcRzH6Ta4iHUcx3Ecx3Ecx3G6DS5iHcdxHMdxHMdxejCtmTypK+Mi1nEcx3Fy0NoZEx3HcRynq9GayZNaQ77fznz7W4uLWMdxHMfJQWtnTHQcx3GcHZV8v5359rcWF7GO4ziO4ziO4zhOt8FFrOM4juM4juM4jtNtcBHrOI7jOI7jOI7jdBtcxDqO4ziO4ziO4zjdBhexjuM4juM4jtOJtPXMrY4T0x7fr/ZIsxRcxDqO4ziO4zhOJ9LWM7c6Tkx7fL/aI81ScBHrOI7jOI7jOI7jbDcd1ULrItZxHMdxHMdxHMfpNriIdRzHcRzHcRzHcbabjupm7CLWaZHOHLTtOI7jOI7jOE7PoS26HLuIdVqkMwdtO47jOI7jOI7T/cgnVtuitdZFrOM4juM4juM4jtOmtIVYzYeLWMdxHMdxHMdxnB5KvhbR7oyLWMdxHMdxHMdxHKfb4CLWcRzHcRzHcRynh9Ke3Xo7CxexjuM4jpODntj9ynEcx3Hak4767XQR6xSko76IjuM4XY2e+OTacZyug/tYTlvQ1b5Hxfx2xmWOQym4iHUKUswX0XEcx3EcxykN97GctqA7fo/iMsehFFzEOo7jOI7jOI7jON0GF7GO4ziO4ziO4zhOt8FFrOM4juM4juM4jtNtcBHrOI7jOI7jOI7TQ2nt5EldGRexjuM4jpODnvij7ziO4+x4tHbypNaQ77cz3/7W4iLWcRzHcXLQkT/6juM4jtMTyPfbmW9/a3ER6ziO4ziO4ziO43QbXMQ6juM4juM4juM43QYXsY7jOI7jOI7jOE63wUWs4ziO4ziO4ziO021wEes4juM4juM4nUhbz9zqODHt8f1qjzRLwUWs4ziO4ziO43QibT1zq+PEtMf3qz3SLAUXsY7jOI7jOI7jOM5201EttC5iHcdxHMdxHMdxnG6Di1jHcRzHcRzHcRxnu+mobsYuYp2CdFSXAMdxHMdxHMdxnGJwEesUpKOepjiO4ziO4ziO0zUppkErX5z2aAxzEes4juM4juM4juN0G1zEOo7jOI7jOI7jON0GF7GO4ziO4ziO4zhOt8FFrOM4juM4juM4jtNtcBHrOI7jOI7jOI7jdBvKpkyZotNFPfHEE7rDcRzHcRzHcRzHcbomIv8fd8/PwAOgFhcAAAAASUVORK5CYII=)"
      ],
      "metadata": {
        "id": "6SjYgs2jK2eh"
      }
    },
    {
      "cell_type": "markdown",
      "source": [
        "Importing the dependemcies"
      ],
      "metadata": {
        "id": "Rp9KuKJQjXNA"
      }
    },
    {
      "cell_type": "code",
      "source": [
        "import numpy as np\n",
        "import pandas as pd\n",
        "from sklearn.preprocessing import StandardScaler\n",
        "from sklearn.model_selection import train_test_split\n",
        "from sklearn import svm\n",
        "from sklearn.metrics import accuracy_score\n"
      ],
      "metadata": {
        "id": "ugoxotgjKIQ6"
      },
      "execution_count": null,
      "outputs": []
    },
    {
      "cell_type": "markdown",
      "source": [
        "Data collection and analysis\n",
        "PIMA Diabetes dataset"
      ],
      "metadata": {
        "id": "X-C3RSM1kN-R"
      }
    },
    {
      "cell_type": "code",
      "source": [
        "# loading the diabetes dataset to a pandas dataframe\n",
        "diabetes_dataset = pd.read_csv('/content/diabetes.csv')"
      ],
      "metadata": {
        "id": "VOUbck6qkKIA"
      },
      "execution_count": null,
      "outputs": []
    },
    {
      "cell_type": "code",
      "source": [
        "diabetes_dataset.head()"
      ],
      "metadata": {
        "colab": {
          "base_uri": "https://localhost:8080/",
          "height": 270
        },
        "id": "zauCwRHWkpMp",
        "outputId": "624c4c36-0a48-4f7e-c900-ba4b8d62091b"
      },
      "execution_count": null,
      "outputs": [
        {
          "output_type": "execute_result",
          "data": {
            "text/plain": [
              "   Pregnancies  Glucose  BloodPressure  SkinThickness  Insulin   BMI  \\\n",
              "0            6      148             72             35        0  33.6   \n",
              "1            1       85             66             29        0  26.6   \n",
              "2            8      183             64              0        0  23.3   \n",
              "3            1       89             66             23       94  28.1   \n",
              "4            0      137             40             35      168  43.1   \n",
              "\n",
              "   DiabetesPedigreeFunction  Age  Outcome  \n",
              "0                     0.627   50        1  \n",
              "1                     0.351   31        0  \n",
              "2                     0.672   32        1  \n",
              "3                     0.167   21        0  \n",
              "4                     2.288   33        1  "
            ],
            "text/html": [
              "\n",
              "  <div id=\"df-b21076ae-8407-479d-952d-d4ab5257704e\">\n",
              "    <div class=\"colab-df-container\">\n",
              "      <div>\n",
              "<style scoped>\n",
              "    .dataframe tbody tr th:only-of-type {\n",
              "        vertical-align: middle;\n",
              "    }\n",
              "\n",
              "    .dataframe tbody tr th {\n",
              "        vertical-align: top;\n",
              "    }\n",
              "\n",
              "    .dataframe thead th {\n",
              "        text-align: right;\n",
              "    }\n",
              "</style>\n",
              "<table border=\"1\" class=\"dataframe\">\n",
              "  <thead>\n",
              "    <tr style=\"text-align: right;\">\n",
              "      <th></th>\n",
              "      <th>Pregnancies</th>\n",
              "      <th>Glucose</th>\n",
              "      <th>BloodPressure</th>\n",
              "      <th>SkinThickness</th>\n",
              "      <th>Insulin</th>\n",
              "      <th>BMI</th>\n",
              "      <th>DiabetesPedigreeFunction</th>\n",
              "      <th>Age</th>\n",
              "      <th>Outcome</th>\n",
              "    </tr>\n",
              "  </thead>\n",
              "  <tbody>\n",
              "    <tr>\n",
              "      <th>0</th>\n",
              "      <td>6</td>\n",
              "      <td>148</td>\n",
              "      <td>72</td>\n",
              "      <td>35</td>\n",
              "      <td>0</td>\n",
              "      <td>33.6</td>\n",
              "      <td>0.627</td>\n",
              "      <td>50</td>\n",
              "      <td>1</td>\n",
              "    </tr>\n",
              "    <tr>\n",
              "      <th>1</th>\n",
              "      <td>1</td>\n",
              "      <td>85</td>\n",
              "      <td>66</td>\n",
              "      <td>29</td>\n",
              "      <td>0</td>\n",
              "      <td>26.6</td>\n",
              "      <td>0.351</td>\n",
              "      <td>31</td>\n",
              "      <td>0</td>\n",
              "    </tr>\n",
              "    <tr>\n",
              "      <th>2</th>\n",
              "      <td>8</td>\n",
              "      <td>183</td>\n",
              "      <td>64</td>\n",
              "      <td>0</td>\n",
              "      <td>0</td>\n",
              "      <td>23.3</td>\n",
              "      <td>0.672</td>\n",
              "      <td>32</td>\n",
              "      <td>1</td>\n",
              "    </tr>\n",
              "    <tr>\n",
              "      <th>3</th>\n",
              "      <td>1</td>\n",
              "      <td>89</td>\n",
              "      <td>66</td>\n",
              "      <td>23</td>\n",
              "      <td>94</td>\n",
              "      <td>28.1</td>\n",
              "      <td>0.167</td>\n",
              "      <td>21</td>\n",
              "      <td>0</td>\n",
              "    </tr>\n",
              "    <tr>\n",
              "      <th>4</th>\n",
              "      <td>0</td>\n",
              "      <td>137</td>\n",
              "      <td>40</td>\n",
              "      <td>35</td>\n",
              "      <td>168</td>\n",
              "      <td>43.1</td>\n",
              "      <td>2.288</td>\n",
              "      <td>33</td>\n",
              "      <td>1</td>\n",
              "    </tr>\n",
              "  </tbody>\n",
              "</table>\n",
              "</div>\n",
              "      <button class=\"colab-df-convert\" onclick=\"convertToInteractive('df-b21076ae-8407-479d-952d-d4ab5257704e')\"\n",
              "              title=\"Convert this dataframe to an interactive table.\"\n",
              "              style=\"display:none;\">\n",
              "        \n",
              "  <svg xmlns=\"http://www.w3.org/2000/svg\" height=\"24px\"viewBox=\"0 0 24 24\"\n",
              "       width=\"24px\">\n",
              "    <path d=\"M0 0h24v24H0V0z\" fill=\"none\"/>\n",
              "    <path d=\"M18.56 5.44l.94 2.06.94-2.06 2.06-.94-2.06-.94-.94-2.06-.94 2.06-2.06.94zm-11 1L8.5 8.5l.94-2.06 2.06-.94-2.06-.94L8.5 2.5l-.94 2.06-2.06.94zm10 10l.94 2.06.94-2.06 2.06-.94-2.06-.94-.94-2.06-.94 2.06-2.06.94z\"/><path d=\"M17.41 7.96l-1.37-1.37c-.4-.4-.92-.59-1.43-.59-.52 0-1.04.2-1.43.59L10.3 9.45l-7.72 7.72c-.78.78-.78 2.05 0 2.83L4 21.41c.39.39.9.59 1.41.59.51 0 1.02-.2 1.41-.59l7.78-7.78 2.81-2.81c.8-.78.8-2.07 0-2.86zM5.41 20L4 18.59l7.72-7.72 1.47 1.35L5.41 20z\"/>\n",
              "  </svg>\n",
              "      </button>\n",
              "      \n",
              "  <style>\n",
              "    .colab-df-container {\n",
              "      display:flex;\n",
              "      flex-wrap:wrap;\n",
              "      gap: 12px;\n",
              "    }\n",
              "\n",
              "    .colab-df-convert {\n",
              "      background-color: #E8F0FE;\n",
              "      border: none;\n",
              "      border-radius: 50%;\n",
              "      cursor: pointer;\n",
              "      display: none;\n",
              "      fill: #1967D2;\n",
              "      height: 32px;\n",
              "      padding: 0 0 0 0;\n",
              "      width: 32px;\n",
              "    }\n",
              "\n",
              "    .colab-df-convert:hover {\n",
              "      background-color: #E2EBFA;\n",
              "      box-shadow: 0px 1px 2px rgba(60, 64, 67, 0.3), 0px 1px 3px 1px rgba(60, 64, 67, 0.15);\n",
              "      fill: #174EA6;\n",
              "    }\n",
              "\n",
              "    [theme=dark] .colab-df-convert {\n",
              "      background-color: #3B4455;\n",
              "      fill: #D2E3FC;\n",
              "    }\n",
              "\n",
              "    [theme=dark] .colab-df-convert:hover {\n",
              "      background-color: #434B5C;\n",
              "      box-shadow: 0px 1px 3px 1px rgba(0, 0, 0, 0.15);\n",
              "      filter: drop-shadow(0px 1px 2px rgba(0, 0, 0, 0.3));\n",
              "      fill: #FFFFFF;\n",
              "    }\n",
              "  </style>\n",
              "\n",
              "      <script>\n",
              "        const buttonEl =\n",
              "          document.querySelector('#df-b21076ae-8407-479d-952d-d4ab5257704e button.colab-df-convert');\n",
              "        buttonEl.style.display =\n",
              "          google.colab.kernel.accessAllowed ? 'block' : 'none';\n",
              "\n",
              "        async function convertToInteractive(key) {\n",
              "          const element = document.querySelector('#df-b21076ae-8407-479d-952d-d4ab5257704e');\n",
              "          const dataTable =\n",
              "            await google.colab.kernel.invokeFunction('convertToInteractive',\n",
              "                                                     [key], {});\n",
              "          if (!dataTable) return;\n",
              "\n",
              "          const docLinkHtml = 'Like what you see? Visit the ' +\n",
              "            '<a target=\"_blank\" href=https://colab.research.google.com/notebooks/data_table.ipynb>data table notebook</a>'\n",
              "            + ' to learn more about interactive tables.';\n",
              "          element.innerHTML = '';\n",
              "          dataTable['output_type'] = 'display_data';\n",
              "          await google.colab.output.renderOutput(dataTable, element);\n",
              "          const docLink = document.createElement('div');\n",
              "          docLink.innerHTML = docLinkHtml;\n",
              "          element.appendChild(docLink);\n",
              "        }\n",
              "      </script>\n",
              "    </div>\n",
              "  </div>\n",
              "  "
            ]
          },
          "metadata": {},
          "execution_count": 4
        }
      ]
    },
    {
      "cell_type": "code",
      "source": [
        "# getting the statistical measures of data\n",
        "diabetes_dataset.describe()"
      ],
      "metadata": {
        "colab": {
          "base_uri": "https://localhost:8080/",
          "height": 364
        },
        "id": "bHhggxoxktNL",
        "outputId": "6932032b-e514-4bbb-d251-aba836e71512"
      },
      "execution_count": null,
      "outputs": [
        {
          "output_type": "execute_result",
          "data": {
            "text/plain": [
              "       Pregnancies     Glucose  BloodPressure  SkinThickness     Insulin  \\\n",
              "count   768.000000  768.000000     768.000000     768.000000  768.000000   \n",
              "mean      3.845052  120.894531      69.105469      20.536458   79.799479   \n",
              "std       3.369578   31.972618      19.355807      15.952218  115.244002   \n",
              "min       0.000000    0.000000       0.000000       0.000000    0.000000   \n",
              "25%       1.000000   99.000000      62.000000       0.000000    0.000000   \n",
              "50%       3.000000  117.000000      72.000000      23.000000   30.500000   \n",
              "75%       6.000000  140.250000      80.000000      32.000000  127.250000   \n",
              "max      17.000000  199.000000     122.000000      99.000000  846.000000   \n",
              "\n",
              "              BMI  DiabetesPedigreeFunction         Age     Outcome  \n",
              "count  768.000000                768.000000  768.000000  768.000000  \n",
              "mean    31.992578                  0.471876   33.240885    0.348958  \n",
              "std      7.884160                  0.331329   11.760232    0.476951  \n",
              "min      0.000000                  0.078000   21.000000    0.000000  \n",
              "25%     27.300000                  0.243750   24.000000    0.000000  \n",
              "50%     32.000000                  0.372500   29.000000    0.000000  \n",
              "75%     36.600000                  0.626250   41.000000    1.000000  \n",
              "max     67.100000                  2.420000   81.000000    1.000000  "
            ],
            "text/html": [
              "\n",
              "  <div id=\"df-2b2b9ce2-73c5-4b77-ac37-8d6c78826d35\">\n",
              "    <div class=\"colab-df-container\">\n",
              "      <div>\n",
              "<style scoped>\n",
              "    .dataframe tbody tr th:only-of-type {\n",
              "        vertical-align: middle;\n",
              "    }\n",
              "\n",
              "    .dataframe tbody tr th {\n",
              "        vertical-align: top;\n",
              "    }\n",
              "\n",
              "    .dataframe thead th {\n",
              "        text-align: right;\n",
              "    }\n",
              "</style>\n",
              "<table border=\"1\" class=\"dataframe\">\n",
              "  <thead>\n",
              "    <tr style=\"text-align: right;\">\n",
              "      <th></th>\n",
              "      <th>Pregnancies</th>\n",
              "      <th>Glucose</th>\n",
              "      <th>BloodPressure</th>\n",
              "      <th>SkinThickness</th>\n",
              "      <th>Insulin</th>\n",
              "      <th>BMI</th>\n",
              "      <th>DiabetesPedigreeFunction</th>\n",
              "      <th>Age</th>\n",
              "      <th>Outcome</th>\n",
              "    </tr>\n",
              "  </thead>\n",
              "  <tbody>\n",
              "    <tr>\n",
              "      <th>count</th>\n",
              "      <td>768.000000</td>\n",
              "      <td>768.000000</td>\n",
              "      <td>768.000000</td>\n",
              "      <td>768.000000</td>\n",
              "      <td>768.000000</td>\n",
              "      <td>768.000000</td>\n",
              "      <td>768.000000</td>\n",
              "      <td>768.000000</td>\n",
              "      <td>768.000000</td>\n",
              "    </tr>\n",
              "    <tr>\n",
              "      <th>mean</th>\n",
              "      <td>3.845052</td>\n",
              "      <td>120.894531</td>\n",
              "      <td>69.105469</td>\n",
              "      <td>20.536458</td>\n",
              "      <td>79.799479</td>\n",
              "      <td>31.992578</td>\n",
              "      <td>0.471876</td>\n",
              "      <td>33.240885</td>\n",
              "      <td>0.348958</td>\n",
              "    </tr>\n",
              "    <tr>\n",
              "      <th>std</th>\n",
              "      <td>3.369578</td>\n",
              "      <td>31.972618</td>\n",
              "      <td>19.355807</td>\n",
              "      <td>15.952218</td>\n",
              "      <td>115.244002</td>\n",
              "      <td>7.884160</td>\n",
              "      <td>0.331329</td>\n",
              "      <td>11.760232</td>\n",
              "      <td>0.476951</td>\n",
              "    </tr>\n",
              "    <tr>\n",
              "      <th>min</th>\n",
              "      <td>0.000000</td>\n",
              "      <td>0.000000</td>\n",
              "      <td>0.000000</td>\n",
              "      <td>0.000000</td>\n",
              "      <td>0.000000</td>\n",
              "      <td>0.000000</td>\n",
              "      <td>0.078000</td>\n",
              "      <td>21.000000</td>\n",
              "      <td>0.000000</td>\n",
              "    </tr>\n",
              "    <tr>\n",
              "      <th>25%</th>\n",
              "      <td>1.000000</td>\n",
              "      <td>99.000000</td>\n",
              "      <td>62.000000</td>\n",
              "      <td>0.000000</td>\n",
              "      <td>0.000000</td>\n",
              "      <td>27.300000</td>\n",
              "      <td>0.243750</td>\n",
              "      <td>24.000000</td>\n",
              "      <td>0.000000</td>\n",
              "    </tr>\n",
              "    <tr>\n",
              "      <th>50%</th>\n",
              "      <td>3.000000</td>\n",
              "      <td>117.000000</td>\n",
              "      <td>72.000000</td>\n",
              "      <td>23.000000</td>\n",
              "      <td>30.500000</td>\n",
              "      <td>32.000000</td>\n",
              "      <td>0.372500</td>\n",
              "      <td>29.000000</td>\n",
              "      <td>0.000000</td>\n",
              "    </tr>\n",
              "    <tr>\n",
              "      <th>75%</th>\n",
              "      <td>6.000000</td>\n",
              "      <td>140.250000</td>\n",
              "      <td>80.000000</td>\n",
              "      <td>32.000000</td>\n",
              "      <td>127.250000</td>\n",
              "      <td>36.600000</td>\n",
              "      <td>0.626250</td>\n",
              "      <td>41.000000</td>\n",
              "      <td>1.000000</td>\n",
              "    </tr>\n",
              "    <tr>\n",
              "      <th>max</th>\n",
              "      <td>17.000000</td>\n",
              "      <td>199.000000</td>\n",
              "      <td>122.000000</td>\n",
              "      <td>99.000000</td>\n",
              "      <td>846.000000</td>\n",
              "      <td>67.100000</td>\n",
              "      <td>2.420000</td>\n",
              "      <td>81.000000</td>\n",
              "      <td>1.000000</td>\n",
              "    </tr>\n",
              "  </tbody>\n",
              "</table>\n",
              "</div>\n",
              "      <button class=\"colab-df-convert\" onclick=\"convertToInteractive('df-2b2b9ce2-73c5-4b77-ac37-8d6c78826d35')\"\n",
              "              title=\"Convert this dataframe to an interactive table.\"\n",
              "              style=\"display:none;\">\n",
              "        \n",
              "  <svg xmlns=\"http://www.w3.org/2000/svg\" height=\"24px\"viewBox=\"0 0 24 24\"\n",
              "       width=\"24px\">\n",
              "    <path d=\"M0 0h24v24H0V0z\" fill=\"none\"/>\n",
              "    <path d=\"M18.56 5.44l.94 2.06.94-2.06 2.06-.94-2.06-.94-.94-2.06-.94 2.06-2.06.94zm-11 1L8.5 8.5l.94-2.06 2.06-.94-2.06-.94L8.5 2.5l-.94 2.06-2.06.94zm10 10l.94 2.06.94-2.06 2.06-.94-2.06-.94-.94-2.06-.94 2.06-2.06.94z\"/><path d=\"M17.41 7.96l-1.37-1.37c-.4-.4-.92-.59-1.43-.59-.52 0-1.04.2-1.43.59L10.3 9.45l-7.72 7.72c-.78.78-.78 2.05 0 2.83L4 21.41c.39.39.9.59 1.41.59.51 0 1.02-.2 1.41-.59l7.78-7.78 2.81-2.81c.8-.78.8-2.07 0-2.86zM5.41 20L4 18.59l7.72-7.72 1.47 1.35L5.41 20z\"/>\n",
              "  </svg>\n",
              "      </button>\n",
              "      \n",
              "  <style>\n",
              "    .colab-df-container {\n",
              "      display:flex;\n",
              "      flex-wrap:wrap;\n",
              "      gap: 12px;\n",
              "    }\n",
              "\n",
              "    .colab-df-convert {\n",
              "      background-color: #E8F0FE;\n",
              "      border: none;\n",
              "      border-radius: 50%;\n",
              "      cursor: pointer;\n",
              "      display: none;\n",
              "      fill: #1967D2;\n",
              "      height: 32px;\n",
              "      padding: 0 0 0 0;\n",
              "      width: 32px;\n",
              "    }\n",
              "\n",
              "    .colab-df-convert:hover {\n",
              "      background-color: #E2EBFA;\n",
              "      box-shadow: 0px 1px 2px rgba(60, 64, 67, 0.3), 0px 1px 3px 1px rgba(60, 64, 67, 0.15);\n",
              "      fill: #174EA6;\n",
              "    }\n",
              "\n",
              "    [theme=dark] .colab-df-convert {\n",
              "      background-color: #3B4455;\n",
              "      fill: #D2E3FC;\n",
              "    }\n",
              "\n",
              "    [theme=dark] .colab-df-convert:hover {\n",
              "      background-color: #434B5C;\n",
              "      box-shadow: 0px 1px 3px 1px rgba(0, 0, 0, 0.15);\n",
              "      filter: drop-shadow(0px 1px 2px rgba(0, 0, 0, 0.3));\n",
              "      fill: #FFFFFF;\n",
              "    }\n",
              "  </style>\n",
              "\n",
              "      <script>\n",
              "        const buttonEl =\n",
              "          document.querySelector('#df-2b2b9ce2-73c5-4b77-ac37-8d6c78826d35 button.colab-df-convert');\n",
              "        buttonEl.style.display =\n",
              "          google.colab.kernel.accessAllowed ? 'block' : 'none';\n",
              "\n",
              "        async function convertToInteractive(key) {\n",
              "          const element = document.querySelector('#df-2b2b9ce2-73c5-4b77-ac37-8d6c78826d35');\n",
              "          const dataTable =\n",
              "            await google.colab.kernel.invokeFunction('convertToInteractive',\n",
              "                                                     [key], {});\n",
              "          if (!dataTable) return;\n",
              "\n",
              "          const docLinkHtml = 'Like what you see? Visit the ' +\n",
              "            '<a target=\"_blank\" href=https://colab.research.google.com/notebooks/data_table.ipynb>data table notebook</a>'\n",
              "            + ' to learn more about interactive tables.';\n",
              "          element.innerHTML = '';\n",
              "          dataTable['output_type'] = 'display_data';\n",
              "          await google.colab.output.renderOutput(dataTable, element);\n",
              "          const docLink = document.createElement('div');\n",
              "          docLink.innerHTML = docLinkHtml;\n",
              "          element.appendChild(docLink);\n",
              "        }\n",
              "      </script>\n",
              "    </div>\n",
              "  </div>\n",
              "  "
            ]
          },
          "metadata": {},
          "execution_count": 5
        }
      ]
    },
    {
      "cell_type": "code",
      "source": [
        "diabetes_dataset['Outcome'].value_counts()"
      ],
      "metadata": {
        "colab": {
          "base_uri": "https://localhost:8080/"
        },
        "id": "3tba78edk7PC",
        "outputId": "76bdff39-1f3e-40c2-99ab-6770936e37cb"
      },
      "execution_count": null,
      "outputs": [
        {
          "output_type": "execute_result",
          "data": {
            "text/plain": [
              "0    500\n",
              "1    268\n",
              "Name: Outcome, dtype: int64"
            ]
          },
          "metadata": {},
          "execution_count": 7
        }
      ]
    },
    {
      "cell_type": "markdown",
      "source": [
        "0 -> not diabetic\n",
        "\n",
        "\n",
        "1 -> diabetic\n",
        "\n",
        "\n",
        "\n",
        "\n",
        "\n"
      ],
      "metadata": {
        "id": "Op0ZJ5YLlW-Y"
      }
    },
    {
      "cell_type": "code",
      "source": [
        "diabetes_dataset.groupby('Outcome').mean()"
      ],
      "metadata": {
        "colab": {
          "base_uri": "https://localhost:8080/",
          "height": 207
        },
        "id": "ye5ilPwDlPk-",
        "outputId": "d10ae43b-5176-472d-bb36-4f4fe8085c20"
      },
      "execution_count": null,
      "outputs": [
        {
          "output_type": "execute_result",
          "data": {
            "text/plain": [
              "         Pregnancies     Glucose  BloodPressure  SkinThickness     Insulin  \\\n",
              "Outcome                                                                      \n",
              "0           3.298000  109.980000      68.184000      19.664000   68.792000   \n",
              "1           4.865672  141.257463      70.824627      22.164179  100.335821   \n",
              "\n",
              "               BMI  DiabetesPedigreeFunction        Age  \n",
              "Outcome                                                  \n",
              "0        30.304200                  0.429734  31.190000  \n",
              "1        35.142537                  0.550500  37.067164  "
            ],
            "text/html": [
              "\n",
              "  <div id=\"df-2c5eb6ad-d83e-481f-9728-6e037e66652f\">\n",
              "    <div class=\"colab-df-container\">\n",
              "      <div>\n",
              "<style scoped>\n",
              "    .dataframe tbody tr th:only-of-type {\n",
              "        vertical-align: middle;\n",
              "    }\n",
              "\n",
              "    .dataframe tbody tr th {\n",
              "        vertical-align: top;\n",
              "    }\n",
              "\n",
              "    .dataframe thead th {\n",
              "        text-align: right;\n",
              "    }\n",
              "</style>\n",
              "<table border=\"1\" class=\"dataframe\">\n",
              "  <thead>\n",
              "    <tr style=\"text-align: right;\">\n",
              "      <th></th>\n",
              "      <th>Pregnancies</th>\n",
              "      <th>Glucose</th>\n",
              "      <th>BloodPressure</th>\n",
              "      <th>SkinThickness</th>\n",
              "      <th>Insulin</th>\n",
              "      <th>BMI</th>\n",
              "      <th>DiabetesPedigreeFunction</th>\n",
              "      <th>Age</th>\n",
              "    </tr>\n",
              "    <tr>\n",
              "      <th>Outcome</th>\n",
              "      <th></th>\n",
              "      <th></th>\n",
              "      <th></th>\n",
              "      <th></th>\n",
              "      <th></th>\n",
              "      <th></th>\n",
              "      <th></th>\n",
              "      <th></th>\n",
              "    </tr>\n",
              "  </thead>\n",
              "  <tbody>\n",
              "    <tr>\n",
              "      <th>0</th>\n",
              "      <td>3.298000</td>\n",
              "      <td>109.980000</td>\n",
              "      <td>68.184000</td>\n",
              "      <td>19.664000</td>\n",
              "      <td>68.792000</td>\n",
              "      <td>30.304200</td>\n",
              "      <td>0.429734</td>\n",
              "      <td>31.190000</td>\n",
              "    </tr>\n",
              "    <tr>\n",
              "      <th>1</th>\n",
              "      <td>4.865672</td>\n",
              "      <td>141.257463</td>\n",
              "      <td>70.824627</td>\n",
              "      <td>22.164179</td>\n",
              "      <td>100.335821</td>\n",
              "      <td>35.142537</td>\n",
              "      <td>0.550500</td>\n",
              "      <td>37.067164</td>\n",
              "    </tr>\n",
              "  </tbody>\n",
              "</table>\n",
              "</div>\n",
              "      <button class=\"colab-df-convert\" onclick=\"convertToInteractive('df-2c5eb6ad-d83e-481f-9728-6e037e66652f')\"\n",
              "              title=\"Convert this dataframe to an interactive table.\"\n",
              "              style=\"display:none;\">\n",
              "        \n",
              "  <svg xmlns=\"http://www.w3.org/2000/svg\" height=\"24px\"viewBox=\"0 0 24 24\"\n",
              "       width=\"24px\">\n",
              "    <path d=\"M0 0h24v24H0V0z\" fill=\"none\"/>\n",
              "    <path d=\"M18.56 5.44l.94 2.06.94-2.06 2.06-.94-2.06-.94-.94-2.06-.94 2.06-2.06.94zm-11 1L8.5 8.5l.94-2.06 2.06-.94-2.06-.94L8.5 2.5l-.94 2.06-2.06.94zm10 10l.94 2.06.94-2.06 2.06-.94-2.06-.94-.94-2.06-.94 2.06-2.06.94z\"/><path d=\"M17.41 7.96l-1.37-1.37c-.4-.4-.92-.59-1.43-.59-.52 0-1.04.2-1.43.59L10.3 9.45l-7.72 7.72c-.78.78-.78 2.05 0 2.83L4 21.41c.39.39.9.59 1.41.59.51 0 1.02-.2 1.41-.59l7.78-7.78 2.81-2.81c.8-.78.8-2.07 0-2.86zM5.41 20L4 18.59l7.72-7.72 1.47 1.35L5.41 20z\"/>\n",
              "  </svg>\n",
              "      </button>\n",
              "      \n",
              "  <style>\n",
              "    .colab-df-container {\n",
              "      display:flex;\n",
              "      flex-wrap:wrap;\n",
              "      gap: 12px;\n",
              "    }\n",
              "\n",
              "    .colab-df-convert {\n",
              "      background-color: #E8F0FE;\n",
              "      border: none;\n",
              "      border-radius: 50%;\n",
              "      cursor: pointer;\n",
              "      display: none;\n",
              "      fill: #1967D2;\n",
              "      height: 32px;\n",
              "      padding: 0 0 0 0;\n",
              "      width: 32px;\n",
              "    }\n",
              "\n",
              "    .colab-df-convert:hover {\n",
              "      background-color: #E2EBFA;\n",
              "      box-shadow: 0px 1px 2px rgba(60, 64, 67, 0.3), 0px 1px 3px 1px rgba(60, 64, 67, 0.15);\n",
              "      fill: #174EA6;\n",
              "    }\n",
              "\n",
              "    [theme=dark] .colab-df-convert {\n",
              "      background-color: #3B4455;\n",
              "      fill: #D2E3FC;\n",
              "    }\n",
              "\n",
              "    [theme=dark] .colab-df-convert:hover {\n",
              "      background-color: #434B5C;\n",
              "      box-shadow: 0px 1px 3px 1px rgba(0, 0, 0, 0.15);\n",
              "      filter: drop-shadow(0px 1px 2px rgba(0, 0, 0, 0.3));\n",
              "      fill: #FFFFFF;\n",
              "    }\n",
              "  </style>\n",
              "\n",
              "      <script>\n",
              "        const buttonEl =\n",
              "          document.querySelector('#df-2c5eb6ad-d83e-481f-9728-6e037e66652f button.colab-df-convert');\n",
              "        buttonEl.style.display =\n",
              "          google.colab.kernel.accessAllowed ? 'block' : 'none';\n",
              "\n",
              "        async function convertToInteractive(key) {\n",
              "          const element = document.querySelector('#df-2c5eb6ad-d83e-481f-9728-6e037e66652f');\n",
              "          const dataTable =\n",
              "            await google.colab.kernel.invokeFunction('convertToInteractive',\n",
              "                                                     [key], {});\n",
              "          if (!dataTable) return;\n",
              "\n",
              "          const docLinkHtml = 'Like what you see? Visit the ' +\n",
              "            '<a target=\"_blank\" href=https://colab.research.google.com/notebooks/data_table.ipynb>data table notebook</a>'\n",
              "            + ' to learn more about interactive tables.';\n",
              "          element.innerHTML = '';\n",
              "          dataTable['output_type'] = 'display_data';\n",
              "          await google.colab.output.renderOutput(dataTable, element);\n",
              "          const docLink = document.createElement('div');\n",
              "          docLink.innerHTML = docLinkHtml;\n",
              "          element.appendChild(docLink);\n",
              "        }\n",
              "      </script>\n",
              "    </div>\n",
              "  </div>\n",
              "  "
            ]
          },
          "metadata": {},
          "execution_count": 8
        }
      ]
    },
    {
      "cell_type": "code",
      "source": [
        "# separating the data and labels\n",
        "X = diabetes_dataset.drop(columns='Outcome', axis=1)\n",
        "Y = diabetes_dataset['Outcome']"
      ],
      "metadata": {
        "id": "XVppfmGaltxH"
      },
      "execution_count": null,
      "outputs": []
    },
    {
      "cell_type": "code",
      "source": [
        "print(X)"
      ],
      "metadata": {
        "colab": {
          "base_uri": "https://localhost:8080/"
        },
        "id": "AfPscQRFmDZQ",
        "outputId": "67d4af27-9eb2-46fd-df16-c7c586887585"
      },
      "execution_count": null,
      "outputs": [
        {
          "output_type": "stream",
          "name": "stdout",
          "text": [
            "     Pregnancies  Glucose  BloodPressure  SkinThickness  Insulin   BMI  \\\n",
            "0              6      148             72             35        0  33.6   \n",
            "1              1       85             66             29        0  26.6   \n",
            "2              8      183             64              0        0  23.3   \n",
            "3              1       89             66             23       94  28.1   \n",
            "4              0      137             40             35      168  43.1   \n",
            "..           ...      ...            ...            ...      ...   ...   \n",
            "763           10      101             76             48      180  32.9   \n",
            "764            2      122             70             27        0  36.8   \n",
            "765            5      121             72             23      112  26.2   \n",
            "766            1      126             60              0        0  30.1   \n",
            "767            1       93             70             31        0  30.4   \n",
            "\n",
            "     DiabetesPedigreeFunction  Age  \n",
            "0                       0.627   50  \n",
            "1                       0.351   31  \n",
            "2                       0.672   32  \n",
            "3                       0.167   21  \n",
            "4                       2.288   33  \n",
            "..                        ...  ...  \n",
            "763                     0.171   63  \n",
            "764                     0.340   27  \n",
            "765                     0.245   30  \n",
            "766                     0.349   47  \n",
            "767                     0.315   23  \n",
            "\n",
            "[768 rows x 8 columns]\n"
          ]
        }
      ]
    },
    {
      "cell_type": "code",
      "source": [
        "print(Y)"
      ],
      "metadata": {
        "colab": {
          "base_uri": "https://localhost:8080/"
        },
        "id": "q25daIiXmEgg",
        "outputId": "d75d349d-17d6-4a30-a63b-beced08711ba"
      },
      "execution_count": null,
      "outputs": [
        {
          "output_type": "stream",
          "name": "stdout",
          "text": [
            "0      1\n",
            "1      0\n",
            "2      1\n",
            "3      0\n",
            "4      1\n",
            "      ..\n",
            "763    0\n",
            "764    0\n",
            "765    0\n",
            "766    1\n",
            "767    0\n",
            "Name: Outcome, Length: 768, dtype: int64\n"
          ]
        }
      ]
    },
    {
      "cell_type": "markdown",
      "source": [
        "Data Standardized"
      ],
      "metadata": {
        "id": "QNNAJn11mUXe"
      }
    },
    {
      "cell_type": "code",
      "source": [
        "scaler = StandardScaler()"
      ],
      "metadata": {
        "id": "qb6vbGxamHzR"
      },
      "execution_count": null,
      "outputs": []
    },
    {
      "cell_type": "code",
      "source": [
        "scaler.fit(X)"
      ],
      "metadata": {
        "colab": {
          "base_uri": "https://localhost:8080/"
        },
        "id": "0CMX12Abma07",
        "outputId": "6d0e7dea-23ca-4317-da15-087c6af94c24"
      },
      "execution_count": null,
      "outputs": [
        {
          "output_type": "execute_result",
          "data": {
            "text/plain": [
              "StandardScaler()"
            ]
          },
          "metadata": {},
          "execution_count": 14
        }
      ]
    },
    {
      "cell_type": "code",
      "source": [
        "Standardized_data = scaler.transform(X)"
      ],
      "metadata": {
        "id": "fI31nKf2mcXy"
      },
      "execution_count": null,
      "outputs": []
    },
    {
      "cell_type": "code",
      "source": [
        "print(Standardized_data)"
      ],
      "metadata": {
        "colab": {
          "base_uri": "https://localhost:8080/"
        },
        "id": "Qqcvqr9ZmnT0",
        "outputId": "a9e9aaa4-cc1c-4bd8-f403-d6d39336ee8a"
      },
      "execution_count": null,
      "outputs": [
        {
          "output_type": "stream",
          "name": "stdout",
          "text": [
            "[[ 0.63994726  0.84832379  0.14964075 ...  0.20401277  0.46849198\n",
            "   1.4259954 ]\n",
            " [-0.84488505 -1.12339636 -0.16054575 ... -0.68442195 -0.36506078\n",
            "  -0.19067191]\n",
            " [ 1.23388019  1.94372388 -0.26394125 ... -1.10325546  0.60439732\n",
            "  -0.10558415]\n",
            " ...\n",
            " [ 0.3429808   0.00330087  0.14964075 ... -0.73518964 -0.68519336\n",
            "  -0.27575966]\n",
            " [-0.84488505  0.1597866  -0.47073225 ... -0.24020459 -0.37110101\n",
            "   1.17073215]\n",
            " [-0.84488505 -0.8730192   0.04624525 ... -0.20212881 -0.47378505\n",
            "  -0.87137393]]\n"
          ]
        }
      ]
    },
    {
      "cell_type": "code",
      "source": [
        "X = Standardized_data\n",
        "Y = diabetes_dataset['Outcome']"
      ],
      "metadata": {
        "id": "WPsFEl1BmrC9"
      },
      "execution_count": null,
      "outputs": []
    },
    {
      "cell_type": "code",
      "source": [
        "print(X)\n",
        "print(Y)"
      ],
      "metadata": {
        "colab": {
          "base_uri": "https://localhost:8080/"
        },
        "id": "hPPOFnK8m6TO",
        "outputId": "b73c9ded-3a26-4430-9152-d329e9b45d60"
      },
      "execution_count": null,
      "outputs": [
        {
          "output_type": "stream",
          "name": "stdout",
          "text": [
            "[[ 0.63994726  0.84832379  0.14964075 ...  0.20401277  0.46849198\n",
            "   1.4259954 ]\n",
            " [-0.84488505 -1.12339636 -0.16054575 ... -0.68442195 -0.36506078\n",
            "  -0.19067191]\n",
            " [ 1.23388019  1.94372388 -0.26394125 ... -1.10325546  0.60439732\n",
            "  -0.10558415]\n",
            " ...\n",
            " [ 0.3429808   0.00330087  0.14964075 ... -0.73518964 -0.68519336\n",
            "  -0.27575966]\n",
            " [-0.84488505  0.1597866  -0.47073225 ... -0.24020459 -0.37110101\n",
            "   1.17073215]\n",
            " [-0.84488505 -0.8730192   0.04624525 ... -0.20212881 -0.47378505\n",
            "  -0.87137393]]\n",
            "0      1\n",
            "1      0\n",
            "2      1\n",
            "3      0\n",
            "4      1\n",
            "      ..\n",
            "763    0\n",
            "764    0\n",
            "765    0\n",
            "766    1\n",
            "767    0\n",
            "Name: Outcome, Length: 768, dtype: int64\n"
          ]
        }
      ]
    },
    {
      "cell_type": "markdown",
      "source": [
        "Spliting the data into training data and testing data"
      ],
      "metadata": {
        "id": "nnKiZvVYnDfo"
      }
    },
    {
      "cell_type": "code",
      "source": [
        "X_train, X_test, Y_train, Y_test = train_test_split(X,Y, test_size=0.2, random_state=2)"
      ],
      "metadata": {
        "id": "bSZ6UBbxm-DW"
      },
      "execution_count": null,
      "outputs": []
    },
    {
      "cell_type": "code",
      "source": [
        "print(X.shape,X_train.shape, X_test.shape)"
      ],
      "metadata": {
        "colab": {
          "base_uri": "https://localhost:8080/"
        },
        "id": "-N0eSeeSnmtT",
        "outputId": "a6649dce-b473-4c8e-bc69-37112f62cdd4"
      },
      "execution_count": null,
      "outputs": [
        {
          "output_type": "stream",
          "name": "stdout",
          "text": [
            "(768, 8) (614, 8) (154, 8)\n"
          ]
        }
      ]
    },
    {
      "cell_type": "markdown",
      "source": [
        "# Handling the imbalanced dataset"
      ],
      "metadata": {
        "id": "ouWY-9F_n3pF"
      }
    },
    {
      "cell_type": "markdown",
      "source": [
        "### Imbalance\n",
        "A dataset with an unequal class distribution"
      ],
      "metadata": {
        "id": "DRSQOEWEoA-E"
      }
    },
    {
      "cell_type": "code",
      "source": [
        "import numpy as np\n",
        "import pandas as pd\n"
      ],
      "metadata": {
        "id": "k51FsL9sn-qU"
      },
      "execution_count": null,
      "outputs": []
    },
    {
      "cell_type": "code",
      "source": [
        "credit_card_data = pd.read_csv('/content/credit_data.csv')"
      ],
      "metadata": {
        "id": "tDP_Z2g9szGm"
      },
      "execution_count": null,
      "outputs": []
    },
    {
      "cell_type": "code",
      "source": [
        "credit_card_data.head()"
      ],
      "metadata": {
        "colab": {
          "base_uri": "https://localhost:8080/",
          "height": 299
        },
        "id": "w9bt0S53s5yr",
        "outputId": "e6506980-7f65-4fd7-dca0-9556d1234b28"
      },
      "execution_count": null,
      "outputs": [
        {
          "output_type": "execute_result",
          "data": {
            "text/plain": [
              "   Time        V1        V2        V3        V4        V5        V6        V7  \\\n",
              "0     0 -1.359807 -0.072781  2.536347  1.378155 -0.338321  0.462388  0.239599   \n",
              "1     0  1.191857  0.266151  0.166480  0.448154  0.060018 -0.082361 -0.078803   \n",
              "2     1 -1.358354 -1.340163  1.773209  0.379780 -0.503198  1.800499  0.791461   \n",
              "3     1 -0.966272 -0.185226  1.792993 -0.863291 -0.010309  1.247203  0.237609   \n",
              "4     2 -1.158233  0.877737  1.548718  0.403034 -0.407193  0.095921  0.592941   \n",
              "\n",
              "         V8        V9  ...       V21       V22       V23       V24       V25  \\\n",
              "0  0.098698  0.363787  ... -0.018307  0.277838 -0.110474  0.066928  0.128539   \n",
              "1  0.085102 -0.255425  ... -0.225775 -0.638672  0.101288 -0.339846  0.167170   \n",
              "2  0.247676 -1.514654  ...  0.247998  0.771679  0.909412 -0.689281 -0.327642   \n",
              "3  0.377436 -1.387024  ... -0.108300  0.005274 -0.190321 -1.175575  0.647376   \n",
              "4 -0.270533  0.817739  ... -0.009431  0.798278 -0.137458  0.141267 -0.206010   \n",
              "\n",
              "        V26       V27       V28  Amount  Class  \n",
              "0 -0.189115  0.133558 -0.021053  149.62    0.0  \n",
              "1  0.125895 -0.008983  0.014724    2.69    0.0  \n",
              "2 -0.139097 -0.055353 -0.059752  378.66    0.0  \n",
              "3 -0.221929  0.062723  0.061458  123.50    0.0  \n",
              "4  0.502292  0.219422  0.215153   69.99    0.0  \n",
              "\n",
              "[5 rows x 31 columns]"
            ],
            "text/html": [
              "\n",
              "  <div id=\"df-f2a18cd3-9d52-4df4-9b62-5aa36c99955e\">\n",
              "    <div class=\"colab-df-container\">\n",
              "      <div>\n",
              "<style scoped>\n",
              "    .dataframe tbody tr th:only-of-type {\n",
              "        vertical-align: middle;\n",
              "    }\n",
              "\n",
              "    .dataframe tbody tr th {\n",
              "        vertical-align: top;\n",
              "    }\n",
              "\n",
              "    .dataframe thead th {\n",
              "        text-align: right;\n",
              "    }\n",
              "</style>\n",
              "<table border=\"1\" class=\"dataframe\">\n",
              "  <thead>\n",
              "    <tr style=\"text-align: right;\">\n",
              "      <th></th>\n",
              "      <th>Time</th>\n",
              "      <th>V1</th>\n",
              "      <th>V2</th>\n",
              "      <th>V3</th>\n",
              "      <th>V4</th>\n",
              "      <th>V5</th>\n",
              "      <th>V6</th>\n",
              "      <th>V7</th>\n",
              "      <th>V8</th>\n",
              "      <th>V9</th>\n",
              "      <th>...</th>\n",
              "      <th>V21</th>\n",
              "      <th>V22</th>\n",
              "      <th>V23</th>\n",
              "      <th>V24</th>\n",
              "      <th>V25</th>\n",
              "      <th>V26</th>\n",
              "      <th>V27</th>\n",
              "      <th>V28</th>\n",
              "      <th>Amount</th>\n",
              "      <th>Class</th>\n",
              "    </tr>\n",
              "  </thead>\n",
              "  <tbody>\n",
              "    <tr>\n",
              "      <th>0</th>\n",
              "      <td>0</td>\n",
              "      <td>-1.359807</td>\n",
              "      <td>-0.072781</td>\n",
              "      <td>2.536347</td>\n",
              "      <td>1.378155</td>\n",
              "      <td>-0.338321</td>\n",
              "      <td>0.462388</td>\n",
              "      <td>0.239599</td>\n",
              "      <td>0.098698</td>\n",
              "      <td>0.363787</td>\n",
              "      <td>...</td>\n",
              "      <td>-0.018307</td>\n",
              "      <td>0.277838</td>\n",
              "      <td>-0.110474</td>\n",
              "      <td>0.066928</td>\n",
              "      <td>0.128539</td>\n",
              "      <td>-0.189115</td>\n",
              "      <td>0.133558</td>\n",
              "      <td>-0.021053</td>\n",
              "      <td>149.62</td>\n",
              "      <td>0.0</td>\n",
              "    </tr>\n",
              "    <tr>\n",
              "      <th>1</th>\n",
              "      <td>0</td>\n",
              "      <td>1.191857</td>\n",
              "      <td>0.266151</td>\n",
              "      <td>0.166480</td>\n",
              "      <td>0.448154</td>\n",
              "      <td>0.060018</td>\n",
              "      <td>-0.082361</td>\n",
              "      <td>-0.078803</td>\n",
              "      <td>0.085102</td>\n",
              "      <td>-0.255425</td>\n",
              "      <td>...</td>\n",
              "      <td>-0.225775</td>\n",
              "      <td>-0.638672</td>\n",
              "      <td>0.101288</td>\n",
              "      <td>-0.339846</td>\n",
              "      <td>0.167170</td>\n",
              "      <td>0.125895</td>\n",
              "      <td>-0.008983</td>\n",
              "      <td>0.014724</td>\n",
              "      <td>2.69</td>\n",
              "      <td>0.0</td>\n",
              "    </tr>\n",
              "    <tr>\n",
              "      <th>2</th>\n",
              "      <td>1</td>\n",
              "      <td>-1.358354</td>\n",
              "      <td>-1.340163</td>\n",
              "      <td>1.773209</td>\n",
              "      <td>0.379780</td>\n",
              "      <td>-0.503198</td>\n",
              "      <td>1.800499</td>\n",
              "      <td>0.791461</td>\n",
              "      <td>0.247676</td>\n",
              "      <td>-1.514654</td>\n",
              "      <td>...</td>\n",
              "      <td>0.247998</td>\n",
              "      <td>0.771679</td>\n",
              "      <td>0.909412</td>\n",
              "      <td>-0.689281</td>\n",
              "      <td>-0.327642</td>\n",
              "      <td>-0.139097</td>\n",
              "      <td>-0.055353</td>\n",
              "      <td>-0.059752</td>\n",
              "      <td>378.66</td>\n",
              "      <td>0.0</td>\n",
              "    </tr>\n",
              "    <tr>\n",
              "      <th>3</th>\n",
              "      <td>1</td>\n",
              "      <td>-0.966272</td>\n",
              "      <td>-0.185226</td>\n",
              "      <td>1.792993</td>\n",
              "      <td>-0.863291</td>\n",
              "      <td>-0.010309</td>\n",
              "      <td>1.247203</td>\n",
              "      <td>0.237609</td>\n",
              "      <td>0.377436</td>\n",
              "      <td>-1.387024</td>\n",
              "      <td>...</td>\n",
              "      <td>-0.108300</td>\n",
              "      <td>0.005274</td>\n",
              "      <td>-0.190321</td>\n",
              "      <td>-1.175575</td>\n",
              "      <td>0.647376</td>\n",
              "      <td>-0.221929</td>\n",
              "      <td>0.062723</td>\n",
              "      <td>0.061458</td>\n",
              "      <td>123.50</td>\n",
              "      <td>0.0</td>\n",
              "    </tr>\n",
              "    <tr>\n",
              "      <th>4</th>\n",
              "      <td>2</td>\n",
              "      <td>-1.158233</td>\n",
              "      <td>0.877737</td>\n",
              "      <td>1.548718</td>\n",
              "      <td>0.403034</td>\n",
              "      <td>-0.407193</td>\n",
              "      <td>0.095921</td>\n",
              "      <td>0.592941</td>\n",
              "      <td>-0.270533</td>\n",
              "      <td>0.817739</td>\n",
              "      <td>...</td>\n",
              "      <td>-0.009431</td>\n",
              "      <td>0.798278</td>\n",
              "      <td>-0.137458</td>\n",
              "      <td>0.141267</td>\n",
              "      <td>-0.206010</td>\n",
              "      <td>0.502292</td>\n",
              "      <td>0.219422</td>\n",
              "      <td>0.215153</td>\n",
              "      <td>69.99</td>\n",
              "      <td>0.0</td>\n",
              "    </tr>\n",
              "  </tbody>\n",
              "</table>\n",
              "<p>5 rows × 31 columns</p>\n",
              "</div>\n",
              "      <button class=\"colab-df-convert\" onclick=\"convertToInteractive('df-f2a18cd3-9d52-4df4-9b62-5aa36c99955e')\"\n",
              "              title=\"Convert this dataframe to an interactive table.\"\n",
              "              style=\"display:none;\">\n",
              "        \n",
              "  <svg xmlns=\"http://www.w3.org/2000/svg\" height=\"24px\"viewBox=\"0 0 24 24\"\n",
              "       width=\"24px\">\n",
              "    <path d=\"M0 0h24v24H0V0z\" fill=\"none\"/>\n",
              "    <path d=\"M18.56 5.44l.94 2.06.94-2.06 2.06-.94-2.06-.94-.94-2.06-.94 2.06-2.06.94zm-11 1L8.5 8.5l.94-2.06 2.06-.94-2.06-.94L8.5 2.5l-.94 2.06-2.06.94zm10 10l.94 2.06.94-2.06 2.06-.94-2.06-.94-.94-2.06-.94 2.06-2.06.94z\"/><path d=\"M17.41 7.96l-1.37-1.37c-.4-.4-.92-.59-1.43-.59-.52 0-1.04.2-1.43.59L10.3 9.45l-7.72 7.72c-.78.78-.78 2.05 0 2.83L4 21.41c.39.39.9.59 1.41.59.51 0 1.02-.2 1.41-.59l7.78-7.78 2.81-2.81c.8-.78.8-2.07 0-2.86zM5.41 20L4 18.59l7.72-7.72 1.47 1.35L5.41 20z\"/>\n",
              "  </svg>\n",
              "      </button>\n",
              "      \n",
              "  <style>\n",
              "    .colab-df-container {\n",
              "      display:flex;\n",
              "      flex-wrap:wrap;\n",
              "      gap: 12px;\n",
              "    }\n",
              "\n",
              "    .colab-df-convert {\n",
              "      background-color: #E8F0FE;\n",
              "      border: none;\n",
              "      border-radius: 50%;\n",
              "      cursor: pointer;\n",
              "      display: none;\n",
              "      fill: #1967D2;\n",
              "      height: 32px;\n",
              "      padding: 0 0 0 0;\n",
              "      width: 32px;\n",
              "    }\n",
              "\n",
              "    .colab-df-convert:hover {\n",
              "      background-color: #E2EBFA;\n",
              "      box-shadow: 0px 1px 2px rgba(60, 64, 67, 0.3), 0px 1px 3px 1px rgba(60, 64, 67, 0.15);\n",
              "      fill: #174EA6;\n",
              "    }\n",
              "\n",
              "    [theme=dark] .colab-df-convert {\n",
              "      background-color: #3B4455;\n",
              "      fill: #D2E3FC;\n",
              "    }\n",
              "\n",
              "    [theme=dark] .colab-df-convert:hover {\n",
              "      background-color: #434B5C;\n",
              "      box-shadow: 0px 1px 3px 1px rgba(0, 0, 0, 0.15);\n",
              "      filter: drop-shadow(0px 1px 2px rgba(0, 0, 0, 0.3));\n",
              "      fill: #FFFFFF;\n",
              "    }\n",
              "  </style>\n",
              "\n",
              "      <script>\n",
              "        const buttonEl =\n",
              "          document.querySelector('#df-f2a18cd3-9d52-4df4-9b62-5aa36c99955e button.colab-df-convert');\n",
              "        buttonEl.style.display =\n",
              "          google.colab.kernel.accessAllowed ? 'block' : 'none';\n",
              "\n",
              "        async function convertToInteractive(key) {\n",
              "          const element = document.querySelector('#df-f2a18cd3-9d52-4df4-9b62-5aa36c99955e');\n",
              "          const dataTable =\n",
              "            await google.colab.kernel.invokeFunction('convertToInteractive',\n",
              "                                                     [key], {});\n",
              "          if (!dataTable) return;\n",
              "\n",
              "          const docLinkHtml = 'Like what you see? Visit the ' +\n",
              "            '<a target=\"_blank\" href=https://colab.research.google.com/notebooks/data_table.ipynb>data table notebook</a>'\n",
              "            + ' to learn more about interactive tables.';\n",
              "          element.innerHTML = '';\n",
              "          dataTable['output_type'] = 'display_data';\n",
              "          await google.colab.output.renderOutput(dataTable, element);\n",
              "          const docLink = document.createElement('div');\n",
              "          docLink.innerHTML = docLinkHtml;\n",
              "          element.appendChild(docLink);\n",
              "        }\n",
              "      </script>\n",
              "    </div>\n",
              "  </div>\n",
              "  "
            ]
          },
          "metadata": {},
          "execution_count": 25
        }
      ]
    },
    {
      "cell_type": "code",
      "source": [
        "credit_card_data.shape"
      ],
      "metadata": {
        "colab": {
          "base_uri": "https://localhost:8080/"
        },
        "id": "w2AUFQZIs_4S",
        "outputId": "8fc3d057-56fd-4f85-b86e-d5d5dd95a339"
      },
      "execution_count": null,
      "outputs": [
        {
          "output_type": "execute_result",
          "data": {
            "text/plain": [
              "(15936, 31)"
            ]
          },
          "metadata": {},
          "execution_count": 26
        }
      ]
    },
    {
      "cell_type": "code",
      "source": [
        "credit_card_data.isnull().sum()"
      ],
      "metadata": {
        "colab": {
          "base_uri": "https://localhost:8080/"
        },
        "id": "DjvNL2u_tGcb",
        "outputId": "591c3315-68bd-44e4-9a90-846f4c50d27c"
      },
      "execution_count": null,
      "outputs": [
        {
          "output_type": "execute_result",
          "data": {
            "text/plain": [
              "Time      0\n",
              "V1        0\n",
              "V2        0\n",
              "V3        0\n",
              "V4        0\n",
              "V5        0\n",
              "V6        0\n",
              "V7        0\n",
              "V8        0\n",
              "V9        0\n",
              "V10       0\n",
              "V11       0\n",
              "V12       0\n",
              "V13       0\n",
              "V14       0\n",
              "V15       0\n",
              "V16       0\n",
              "V17       0\n",
              "V18       0\n",
              "V19       0\n",
              "V20       0\n",
              "V21       0\n",
              "V22       0\n",
              "V23       1\n",
              "V24       1\n",
              "V25       1\n",
              "V26       1\n",
              "V27       1\n",
              "V28       1\n",
              "Amount    1\n",
              "Class     1\n",
              "dtype: int64"
            ]
          },
          "metadata": {},
          "execution_count": 27
        }
      ]
    },
    {
      "cell_type": "code",
      "source": [
        "# determine the distribution for two classes\n",
        "credit_card_data['Class'].value_counts()"
      ],
      "metadata": {
        "colab": {
          "base_uri": "https://localhost:8080/"
        },
        "id": "_xwHiWaGtftP",
        "outputId": "1d9af61d-cb8d-41f7-fd06-6ebd91e05729"
      },
      "execution_count": null,
      "outputs": [
        {
          "output_type": "execute_result",
          "data": {
            "text/plain": [
              "0.0    15862\n",
              "1.0       73\n",
              "Name: Class, dtype: int64"
            ]
          },
          "metadata": {},
          "execution_count": 30
        }
      ]
    },
    {
      "cell_type": "markdown",
      "source": [
        "This is highly imbalance Dataset"
      ],
      "metadata": {
        "id": "jobe5p7xt8Ky"
      }
    },
    {
      "cell_type": "markdown",
      "source": [
        "0--> legit transition\n",
        "\n",
        "1--> fraudulent transaction"
      ],
      "metadata": {
        "id": "3zSzyYw5uDq-"
      }
    },
    {
      "cell_type": "code",
      "source": [
        "# separating the legit and fraudulent transaction\n",
        "legit = credit_card_data[credit_card_data.Class==0]\n",
        "fraud = credit_card_data[credit_card_data.Class==1]"
      ],
      "metadata": {
        "id": "HFTLJfRjtvRg"
      },
      "execution_count": null,
      "outputs": []
    },
    {
      "cell_type": "code",
      "source": [
        "print(legit.shape)\n",
        "print(fraud.shape)"
      ],
      "metadata": {
        "colab": {
          "base_uri": "https://localhost:8080/"
        },
        "id": "2I6vUDkvufOF",
        "outputId": "8ff3ad4a-9880-4b46-9cf1-df55ca7d4ec4"
      },
      "execution_count": null,
      "outputs": [
        {
          "output_type": "stream",
          "name": "stdout",
          "text": [
            "(15862, 31)\n",
            "(73, 31)\n"
          ]
        }
      ]
    },
    {
      "cell_type": "markdown",
      "source": [
        "### Under-sampling\n",
        "Under-sampling is a technique used to balance an imbalanced dataset. It is a method where the majority class samples are reduced to make the number of samples in the majority class and minority class equal. In an imbalanced dataset, the majority class usually has a much larger number of samples compared to the minority class, and this can create problems in machine learning algorithms, as they may be biased towards the majority class.\n",
        "\n",
        "**Under-sampling works by randomly selecting a subset of the majority class samples** to reduce its size so that it matches the size of the minority class. This way, the resulting dataset is balanced, and the machine learning algorithm can learn from a more representative sample of both classes. However, the **disadvantage of under-sampling** is that valuable information from the majority class may be lost when reducing the size of its samples."
      ],
      "metadata": {
        "id": "xf26PObVulpN"
      }
    },
    {
      "cell_type": "markdown",
      "source": [
        "Building a sample dataset containing simillar distribution of legit & fraudulent trnasactional"
      ],
      "metadata": {
        "id": "FkJdMYGjxHBm"
      }
    },
    {
      "cell_type": "code",
      "source": [
        "legit_sample = legit.sample(n=75)"
      ],
      "metadata": {
        "id": "txMFBU8qujek"
      },
      "execution_count": null,
      "outputs": []
    },
    {
      "cell_type": "code",
      "source": [
        "print(legit_sample.shape)"
      ],
      "metadata": {
        "colab": {
          "base_uri": "https://localhost:8080/"
        },
        "id": "8ZaP2Iyaxji9",
        "outputId": "fd395b89-d85d-46e1-8be2-cd0f95fc8c5c"
      },
      "execution_count": null,
      "outputs": [
        {
          "output_type": "stream",
          "name": "stdout",
          "text": [
            "(75, 31)\n"
          ]
        }
      ]
    },
    {
      "cell_type": "markdown",
      "source": [
        "Concantenate the two dataframe"
      ],
      "metadata": {
        "id": "RWKbJL0lxtCq"
      }
    },
    {
      "cell_type": "code",
      "source": [
        "new_dataset = pd.concat([legit_sample, fraud], axis=0)"
      ],
      "metadata": {
        "id": "FN1jDHsQxmAQ"
      },
      "execution_count": null,
      "outputs": []
    },
    {
      "cell_type": "code",
      "source": [
        "new_dataset.head()"
      ],
      "metadata": {
        "colab": {
          "base_uri": "https://localhost:8080/",
          "height": 299
        },
        "id": "X_n_6mS6yEls",
        "outputId": "d12a6542-b53b-46ad-cf5f-7d2816e986db"
      },
      "execution_count": null,
      "outputs": [
        {
          "output_type": "execute_result",
          "data": {
            "text/plain": [
              "        Time        V1        V2        V3        V4        V5        V6  \\\n",
              "9876   14556  0.631799 -0.823947  1.223744  2.035845 -0.982106  0.893219   \n",
              "3349    2899  1.167954  0.125881  0.879225  0.786664 -0.869120 -1.111867   \n",
              "2652    2187 -0.879468  1.010551  1.392045 -1.285551 -0.350980 -0.846060   \n",
              "12987  22814  1.176016 -0.057574  0.277868  0.103664 -0.140781  0.081321   \n",
              "2230    1757 -0.969733  0.865992 -0.349486  2.944240  0.387280  0.162082   \n",
              "\n",
              "             V7        V8        V9  ...       V21       V22       V23  \\\n",
              "9876  -0.532392  0.349031  2.413296  ... -0.390884 -0.956180 -0.056847   \n",
              "3349  -0.079887 -0.243691  0.073567  ...  0.201747  0.641861 -0.059488   \n",
              "2652   0.436285  0.101183  0.475171  ... -0.119343 -0.137874  0.066295   \n",
              "12987 -0.376681  0.169831  1.391336  ... -0.090583 -0.032177  0.047935   \n",
              "2230   0.771453  0.274922 -1.523198  ...  0.167151  0.525416 -0.065168   \n",
              "\n",
              "            V24       V25       V26       V27       V28  Amount  Class  \n",
              "9876   0.136792  0.231415 -0.595626  0.015182  0.047028  213.91    0.0  \n",
              "3349   1.002315  0.426409  0.449189 -0.014699  0.027996   26.00    0.0  \n",
              "2652   0.430079 -0.271870  0.741732  0.402253  0.191646    3.84    0.0  \n",
              "12987 -0.308744  0.129750  1.047897 -0.099122 -0.027934    2.50    0.0  \n",
              "2230  -0.413519 -1.048478  0.149283  0.432932  0.008957  151.67    0.0  \n",
              "\n",
              "[5 rows x 31 columns]"
            ],
            "text/html": [
              "\n",
              "  <div id=\"df-aece663f-7a6b-4c39-9376-a93390ffab6e\">\n",
              "    <div class=\"colab-df-container\">\n",
              "      <div>\n",
              "<style scoped>\n",
              "    .dataframe tbody tr th:only-of-type {\n",
              "        vertical-align: middle;\n",
              "    }\n",
              "\n",
              "    .dataframe tbody tr th {\n",
              "        vertical-align: top;\n",
              "    }\n",
              "\n",
              "    .dataframe thead th {\n",
              "        text-align: right;\n",
              "    }\n",
              "</style>\n",
              "<table border=\"1\" class=\"dataframe\">\n",
              "  <thead>\n",
              "    <tr style=\"text-align: right;\">\n",
              "      <th></th>\n",
              "      <th>Time</th>\n",
              "      <th>V1</th>\n",
              "      <th>V2</th>\n",
              "      <th>V3</th>\n",
              "      <th>V4</th>\n",
              "      <th>V5</th>\n",
              "      <th>V6</th>\n",
              "      <th>V7</th>\n",
              "      <th>V8</th>\n",
              "      <th>V9</th>\n",
              "      <th>...</th>\n",
              "      <th>V21</th>\n",
              "      <th>V22</th>\n",
              "      <th>V23</th>\n",
              "      <th>V24</th>\n",
              "      <th>V25</th>\n",
              "      <th>V26</th>\n",
              "      <th>V27</th>\n",
              "      <th>V28</th>\n",
              "      <th>Amount</th>\n",
              "      <th>Class</th>\n",
              "    </tr>\n",
              "  </thead>\n",
              "  <tbody>\n",
              "    <tr>\n",
              "      <th>9876</th>\n",
              "      <td>14556</td>\n",
              "      <td>0.631799</td>\n",
              "      <td>-0.823947</td>\n",
              "      <td>1.223744</td>\n",
              "      <td>2.035845</td>\n",
              "      <td>-0.982106</td>\n",
              "      <td>0.893219</td>\n",
              "      <td>-0.532392</td>\n",
              "      <td>0.349031</td>\n",
              "      <td>2.413296</td>\n",
              "      <td>...</td>\n",
              "      <td>-0.390884</td>\n",
              "      <td>-0.956180</td>\n",
              "      <td>-0.056847</td>\n",
              "      <td>0.136792</td>\n",
              "      <td>0.231415</td>\n",
              "      <td>-0.595626</td>\n",
              "      <td>0.015182</td>\n",
              "      <td>0.047028</td>\n",
              "      <td>213.91</td>\n",
              "      <td>0.0</td>\n",
              "    </tr>\n",
              "    <tr>\n",
              "      <th>3349</th>\n",
              "      <td>2899</td>\n",
              "      <td>1.167954</td>\n",
              "      <td>0.125881</td>\n",
              "      <td>0.879225</td>\n",
              "      <td>0.786664</td>\n",
              "      <td>-0.869120</td>\n",
              "      <td>-1.111867</td>\n",
              "      <td>-0.079887</td>\n",
              "      <td>-0.243691</td>\n",
              "      <td>0.073567</td>\n",
              "      <td>...</td>\n",
              "      <td>0.201747</td>\n",
              "      <td>0.641861</td>\n",
              "      <td>-0.059488</td>\n",
              "      <td>1.002315</td>\n",
              "      <td>0.426409</td>\n",
              "      <td>0.449189</td>\n",
              "      <td>-0.014699</td>\n",
              "      <td>0.027996</td>\n",
              "      <td>26.00</td>\n",
              "      <td>0.0</td>\n",
              "    </tr>\n",
              "    <tr>\n",
              "      <th>2652</th>\n",
              "      <td>2187</td>\n",
              "      <td>-0.879468</td>\n",
              "      <td>1.010551</td>\n",
              "      <td>1.392045</td>\n",
              "      <td>-1.285551</td>\n",
              "      <td>-0.350980</td>\n",
              "      <td>-0.846060</td>\n",
              "      <td>0.436285</td>\n",
              "      <td>0.101183</td>\n",
              "      <td>0.475171</td>\n",
              "      <td>...</td>\n",
              "      <td>-0.119343</td>\n",
              "      <td>-0.137874</td>\n",
              "      <td>0.066295</td>\n",
              "      <td>0.430079</td>\n",
              "      <td>-0.271870</td>\n",
              "      <td>0.741732</td>\n",
              "      <td>0.402253</td>\n",
              "      <td>0.191646</td>\n",
              "      <td>3.84</td>\n",
              "      <td>0.0</td>\n",
              "    </tr>\n",
              "    <tr>\n",
              "      <th>12987</th>\n",
              "      <td>22814</td>\n",
              "      <td>1.176016</td>\n",
              "      <td>-0.057574</td>\n",
              "      <td>0.277868</td>\n",
              "      <td>0.103664</td>\n",
              "      <td>-0.140781</td>\n",
              "      <td>0.081321</td>\n",
              "      <td>-0.376681</td>\n",
              "      <td>0.169831</td>\n",
              "      <td>1.391336</td>\n",
              "      <td>...</td>\n",
              "      <td>-0.090583</td>\n",
              "      <td>-0.032177</td>\n",
              "      <td>0.047935</td>\n",
              "      <td>-0.308744</td>\n",
              "      <td>0.129750</td>\n",
              "      <td>1.047897</td>\n",
              "      <td>-0.099122</td>\n",
              "      <td>-0.027934</td>\n",
              "      <td>2.50</td>\n",
              "      <td>0.0</td>\n",
              "    </tr>\n",
              "    <tr>\n",
              "      <th>2230</th>\n",
              "      <td>1757</td>\n",
              "      <td>-0.969733</td>\n",
              "      <td>0.865992</td>\n",
              "      <td>-0.349486</td>\n",
              "      <td>2.944240</td>\n",
              "      <td>0.387280</td>\n",
              "      <td>0.162082</td>\n",
              "      <td>0.771453</td>\n",
              "      <td>0.274922</td>\n",
              "      <td>-1.523198</td>\n",
              "      <td>...</td>\n",
              "      <td>0.167151</td>\n",
              "      <td>0.525416</td>\n",
              "      <td>-0.065168</td>\n",
              "      <td>-0.413519</td>\n",
              "      <td>-1.048478</td>\n",
              "      <td>0.149283</td>\n",
              "      <td>0.432932</td>\n",
              "      <td>0.008957</td>\n",
              "      <td>151.67</td>\n",
              "      <td>0.0</td>\n",
              "    </tr>\n",
              "  </tbody>\n",
              "</table>\n",
              "<p>5 rows × 31 columns</p>\n",
              "</div>\n",
              "      <button class=\"colab-df-convert\" onclick=\"convertToInteractive('df-aece663f-7a6b-4c39-9376-a93390ffab6e')\"\n",
              "              title=\"Convert this dataframe to an interactive table.\"\n",
              "              style=\"display:none;\">\n",
              "        \n",
              "  <svg xmlns=\"http://www.w3.org/2000/svg\" height=\"24px\"viewBox=\"0 0 24 24\"\n",
              "       width=\"24px\">\n",
              "    <path d=\"M0 0h24v24H0V0z\" fill=\"none\"/>\n",
              "    <path d=\"M18.56 5.44l.94 2.06.94-2.06 2.06-.94-2.06-.94-.94-2.06-.94 2.06-2.06.94zm-11 1L8.5 8.5l.94-2.06 2.06-.94-2.06-.94L8.5 2.5l-.94 2.06-2.06.94zm10 10l.94 2.06.94-2.06 2.06-.94-2.06-.94-.94-2.06-.94 2.06-2.06.94z\"/><path d=\"M17.41 7.96l-1.37-1.37c-.4-.4-.92-.59-1.43-.59-.52 0-1.04.2-1.43.59L10.3 9.45l-7.72 7.72c-.78.78-.78 2.05 0 2.83L4 21.41c.39.39.9.59 1.41.59.51 0 1.02-.2 1.41-.59l7.78-7.78 2.81-2.81c.8-.78.8-2.07 0-2.86zM5.41 20L4 18.59l7.72-7.72 1.47 1.35L5.41 20z\"/>\n",
              "  </svg>\n",
              "      </button>\n",
              "      \n",
              "  <style>\n",
              "    .colab-df-container {\n",
              "      display:flex;\n",
              "      flex-wrap:wrap;\n",
              "      gap: 12px;\n",
              "    }\n",
              "\n",
              "    .colab-df-convert {\n",
              "      background-color: #E8F0FE;\n",
              "      border: none;\n",
              "      border-radius: 50%;\n",
              "      cursor: pointer;\n",
              "      display: none;\n",
              "      fill: #1967D2;\n",
              "      height: 32px;\n",
              "      padding: 0 0 0 0;\n",
              "      width: 32px;\n",
              "    }\n",
              "\n",
              "    .colab-df-convert:hover {\n",
              "      background-color: #E2EBFA;\n",
              "      box-shadow: 0px 1px 2px rgba(60, 64, 67, 0.3), 0px 1px 3px 1px rgba(60, 64, 67, 0.15);\n",
              "      fill: #174EA6;\n",
              "    }\n",
              "\n",
              "    [theme=dark] .colab-df-convert {\n",
              "      background-color: #3B4455;\n",
              "      fill: #D2E3FC;\n",
              "    }\n",
              "\n",
              "    [theme=dark] .colab-df-convert:hover {\n",
              "      background-color: #434B5C;\n",
              "      box-shadow: 0px 1px 3px 1px rgba(0, 0, 0, 0.15);\n",
              "      filter: drop-shadow(0px 1px 2px rgba(0, 0, 0, 0.3));\n",
              "      fill: #FFFFFF;\n",
              "    }\n",
              "  </style>\n",
              "\n",
              "      <script>\n",
              "        const buttonEl =\n",
              "          document.querySelector('#df-aece663f-7a6b-4c39-9376-a93390ffab6e button.colab-df-convert');\n",
              "        buttonEl.style.display =\n",
              "          google.colab.kernel.accessAllowed ? 'block' : 'none';\n",
              "\n",
              "        async function convertToInteractive(key) {\n",
              "          const element = document.querySelector('#df-aece663f-7a6b-4c39-9376-a93390ffab6e');\n",
              "          const dataTable =\n",
              "            await google.colab.kernel.invokeFunction('convertToInteractive',\n",
              "                                                     [key], {});\n",
              "          if (!dataTable) return;\n",
              "\n",
              "          const docLinkHtml = 'Like what you see? Visit the ' +\n",
              "            '<a target=\"_blank\" href=https://colab.research.google.com/notebooks/data_table.ipynb>data table notebook</a>'\n",
              "            + ' to learn more about interactive tables.';\n",
              "          element.innerHTML = '';\n",
              "          dataTable['output_type'] = 'display_data';\n",
              "          await google.colab.output.renderOutput(dataTable, element);\n",
              "          const docLink = document.createElement('div');\n",
              "          docLink.innerHTML = docLinkHtml;\n",
              "          element.appendChild(docLink);\n",
              "        }\n",
              "      </script>\n",
              "    </div>\n",
              "  </div>\n",
              "  "
            ]
          },
          "metadata": {},
          "execution_count": 36
        }
      ]
    },
    {
      "cell_type": "code",
      "source": [
        "new_dataset.tail()"
      ],
      "metadata": {
        "colab": {
          "base_uri": "https://localhost:8080/",
          "height": 299
        },
        "id": "XUs3EKFKyGsb",
        "outputId": "81a1be74-81b6-4cf7-fdad-2c6ea274dc39"
      },
      "execution_count": null,
      "outputs": [
        {
          "output_type": "execute_result",
          "data": {
            "text/plain": [
              "        Time         V1         V2         V3        V4         V5        V6  \\\n",
              "15566  26961 -23.237920  13.487386 -25.188773  6.261733 -17.345188 -4.534989   \n",
              "15736  27163 -23.914101  13.765942 -25.733734  6.290918 -17.784824 -4.572498   \n",
              "15751  27187 -24.590245  14.044567 -26.278701  6.320089 -18.224513 -4.609968   \n",
              "15781  27219 -25.266355  14.323254 -26.823673  6.349248 -18.664251 -4.647403   \n",
              "15810  27252 -25.942434  14.601998 -27.368650  6.378395 -19.104033 -4.684806   \n",
              "\n",
              "              V7         V8        V9  ...       V21       V22       V23  \\\n",
              "15566 -17.100492  15.374630 -3.845567  ...  1.769708 -1.691973 -1.045673   \n",
              "15736 -17.390764  15.794136 -3.819832  ...  1.773399 -1.748426 -1.093104   \n",
              "15751 -17.681003  16.213627 -3.794093  ...  1.777063 -1.804874 -1.140605   \n",
              "15781 -17.971212  16.633103 -3.768351  ...  1.780701 -1.861318 -1.188167   \n",
              "15810 -18.261393  17.052566 -3.742605  ...  1.784316 -1.917759 -1.235787   \n",
              "\n",
              "            V24       V25       V26       V27       V28  Amount  Class  \n",
              "15566  0.143386  1.611577 -0.221576  1.481233  0.438125   99.99    1.0  \n",
              "15736  0.147807  1.663792 -0.221024  1.458076  0.430315   99.99    1.0  \n",
              "15751  0.152234  1.715997 -0.220471  1.434951  0.422492   99.99    1.0  \n",
              "15781  0.156667  1.768192 -0.219916  1.411855  0.414656   99.99    1.0  \n",
              "15810  0.161105  1.820378 -0.219359  1.388786  0.406810   99.99    1.0  \n",
              "\n",
              "[5 rows x 31 columns]"
            ],
            "text/html": [
              "\n",
              "  <div id=\"df-2ed8f7a6-687e-478c-b66d-20fe85bea0a7\">\n",
              "    <div class=\"colab-df-container\">\n",
              "      <div>\n",
              "<style scoped>\n",
              "    .dataframe tbody tr th:only-of-type {\n",
              "        vertical-align: middle;\n",
              "    }\n",
              "\n",
              "    .dataframe tbody tr th {\n",
              "        vertical-align: top;\n",
              "    }\n",
              "\n",
              "    .dataframe thead th {\n",
              "        text-align: right;\n",
              "    }\n",
              "</style>\n",
              "<table border=\"1\" class=\"dataframe\">\n",
              "  <thead>\n",
              "    <tr style=\"text-align: right;\">\n",
              "      <th></th>\n",
              "      <th>Time</th>\n",
              "      <th>V1</th>\n",
              "      <th>V2</th>\n",
              "      <th>V3</th>\n",
              "      <th>V4</th>\n",
              "      <th>V5</th>\n",
              "      <th>V6</th>\n",
              "      <th>V7</th>\n",
              "      <th>V8</th>\n",
              "      <th>V9</th>\n",
              "      <th>...</th>\n",
              "      <th>V21</th>\n",
              "      <th>V22</th>\n",
              "      <th>V23</th>\n",
              "      <th>V24</th>\n",
              "      <th>V25</th>\n",
              "      <th>V26</th>\n",
              "      <th>V27</th>\n",
              "      <th>V28</th>\n",
              "      <th>Amount</th>\n",
              "      <th>Class</th>\n",
              "    </tr>\n",
              "  </thead>\n",
              "  <tbody>\n",
              "    <tr>\n",
              "      <th>15566</th>\n",
              "      <td>26961</td>\n",
              "      <td>-23.237920</td>\n",
              "      <td>13.487386</td>\n",
              "      <td>-25.188773</td>\n",
              "      <td>6.261733</td>\n",
              "      <td>-17.345188</td>\n",
              "      <td>-4.534989</td>\n",
              "      <td>-17.100492</td>\n",
              "      <td>15.374630</td>\n",
              "      <td>-3.845567</td>\n",
              "      <td>...</td>\n",
              "      <td>1.769708</td>\n",
              "      <td>-1.691973</td>\n",
              "      <td>-1.045673</td>\n",
              "      <td>0.143386</td>\n",
              "      <td>1.611577</td>\n",
              "      <td>-0.221576</td>\n",
              "      <td>1.481233</td>\n",
              "      <td>0.438125</td>\n",
              "      <td>99.99</td>\n",
              "      <td>1.0</td>\n",
              "    </tr>\n",
              "    <tr>\n",
              "      <th>15736</th>\n",
              "      <td>27163</td>\n",
              "      <td>-23.914101</td>\n",
              "      <td>13.765942</td>\n",
              "      <td>-25.733734</td>\n",
              "      <td>6.290918</td>\n",
              "      <td>-17.784824</td>\n",
              "      <td>-4.572498</td>\n",
              "      <td>-17.390764</td>\n",
              "      <td>15.794136</td>\n",
              "      <td>-3.819832</td>\n",
              "      <td>...</td>\n",
              "      <td>1.773399</td>\n",
              "      <td>-1.748426</td>\n",
              "      <td>-1.093104</td>\n",
              "      <td>0.147807</td>\n",
              "      <td>1.663792</td>\n",
              "      <td>-0.221024</td>\n",
              "      <td>1.458076</td>\n",
              "      <td>0.430315</td>\n",
              "      <td>99.99</td>\n",
              "      <td>1.0</td>\n",
              "    </tr>\n",
              "    <tr>\n",
              "      <th>15751</th>\n",
              "      <td>27187</td>\n",
              "      <td>-24.590245</td>\n",
              "      <td>14.044567</td>\n",
              "      <td>-26.278701</td>\n",
              "      <td>6.320089</td>\n",
              "      <td>-18.224513</td>\n",
              "      <td>-4.609968</td>\n",
              "      <td>-17.681003</td>\n",
              "      <td>16.213627</td>\n",
              "      <td>-3.794093</td>\n",
              "      <td>...</td>\n",
              "      <td>1.777063</td>\n",
              "      <td>-1.804874</td>\n",
              "      <td>-1.140605</td>\n",
              "      <td>0.152234</td>\n",
              "      <td>1.715997</td>\n",
              "      <td>-0.220471</td>\n",
              "      <td>1.434951</td>\n",
              "      <td>0.422492</td>\n",
              "      <td>99.99</td>\n",
              "      <td>1.0</td>\n",
              "    </tr>\n",
              "    <tr>\n",
              "      <th>15781</th>\n",
              "      <td>27219</td>\n",
              "      <td>-25.266355</td>\n",
              "      <td>14.323254</td>\n",
              "      <td>-26.823673</td>\n",
              "      <td>6.349248</td>\n",
              "      <td>-18.664251</td>\n",
              "      <td>-4.647403</td>\n",
              "      <td>-17.971212</td>\n",
              "      <td>16.633103</td>\n",
              "      <td>-3.768351</td>\n",
              "      <td>...</td>\n",
              "      <td>1.780701</td>\n",
              "      <td>-1.861318</td>\n",
              "      <td>-1.188167</td>\n",
              "      <td>0.156667</td>\n",
              "      <td>1.768192</td>\n",
              "      <td>-0.219916</td>\n",
              "      <td>1.411855</td>\n",
              "      <td>0.414656</td>\n",
              "      <td>99.99</td>\n",
              "      <td>1.0</td>\n",
              "    </tr>\n",
              "    <tr>\n",
              "      <th>15810</th>\n",
              "      <td>27252</td>\n",
              "      <td>-25.942434</td>\n",
              "      <td>14.601998</td>\n",
              "      <td>-27.368650</td>\n",
              "      <td>6.378395</td>\n",
              "      <td>-19.104033</td>\n",
              "      <td>-4.684806</td>\n",
              "      <td>-18.261393</td>\n",
              "      <td>17.052566</td>\n",
              "      <td>-3.742605</td>\n",
              "      <td>...</td>\n",
              "      <td>1.784316</td>\n",
              "      <td>-1.917759</td>\n",
              "      <td>-1.235787</td>\n",
              "      <td>0.161105</td>\n",
              "      <td>1.820378</td>\n",
              "      <td>-0.219359</td>\n",
              "      <td>1.388786</td>\n",
              "      <td>0.406810</td>\n",
              "      <td>99.99</td>\n",
              "      <td>1.0</td>\n",
              "    </tr>\n",
              "  </tbody>\n",
              "</table>\n",
              "<p>5 rows × 31 columns</p>\n",
              "</div>\n",
              "      <button class=\"colab-df-convert\" onclick=\"convertToInteractive('df-2ed8f7a6-687e-478c-b66d-20fe85bea0a7')\"\n",
              "              title=\"Convert this dataframe to an interactive table.\"\n",
              "              style=\"display:none;\">\n",
              "        \n",
              "  <svg xmlns=\"http://www.w3.org/2000/svg\" height=\"24px\"viewBox=\"0 0 24 24\"\n",
              "       width=\"24px\">\n",
              "    <path d=\"M0 0h24v24H0V0z\" fill=\"none\"/>\n",
              "    <path d=\"M18.56 5.44l.94 2.06.94-2.06 2.06-.94-2.06-.94-.94-2.06-.94 2.06-2.06.94zm-11 1L8.5 8.5l.94-2.06 2.06-.94-2.06-.94L8.5 2.5l-.94 2.06-2.06.94zm10 10l.94 2.06.94-2.06 2.06-.94-2.06-.94-.94-2.06-.94 2.06-2.06.94z\"/><path d=\"M17.41 7.96l-1.37-1.37c-.4-.4-.92-.59-1.43-.59-.52 0-1.04.2-1.43.59L10.3 9.45l-7.72 7.72c-.78.78-.78 2.05 0 2.83L4 21.41c.39.39.9.59 1.41.59.51 0 1.02-.2 1.41-.59l7.78-7.78 2.81-2.81c.8-.78.8-2.07 0-2.86zM5.41 20L4 18.59l7.72-7.72 1.47 1.35L5.41 20z\"/>\n",
              "  </svg>\n",
              "      </button>\n",
              "      \n",
              "  <style>\n",
              "    .colab-df-container {\n",
              "      display:flex;\n",
              "      flex-wrap:wrap;\n",
              "      gap: 12px;\n",
              "    }\n",
              "\n",
              "    .colab-df-convert {\n",
              "      background-color: #E8F0FE;\n",
              "      border: none;\n",
              "      border-radius: 50%;\n",
              "      cursor: pointer;\n",
              "      display: none;\n",
              "      fill: #1967D2;\n",
              "      height: 32px;\n",
              "      padding: 0 0 0 0;\n",
              "      width: 32px;\n",
              "    }\n",
              "\n",
              "    .colab-df-convert:hover {\n",
              "      background-color: #E2EBFA;\n",
              "      box-shadow: 0px 1px 2px rgba(60, 64, 67, 0.3), 0px 1px 3px 1px rgba(60, 64, 67, 0.15);\n",
              "      fill: #174EA6;\n",
              "    }\n",
              "\n",
              "    [theme=dark] .colab-df-convert {\n",
              "      background-color: #3B4455;\n",
              "      fill: #D2E3FC;\n",
              "    }\n",
              "\n",
              "    [theme=dark] .colab-df-convert:hover {\n",
              "      background-color: #434B5C;\n",
              "      box-shadow: 0px 1px 3px 1px rgba(0, 0, 0, 0.15);\n",
              "      filter: drop-shadow(0px 1px 2px rgba(0, 0, 0, 0.3));\n",
              "      fill: #FFFFFF;\n",
              "    }\n",
              "  </style>\n",
              "\n",
              "      <script>\n",
              "        const buttonEl =\n",
              "          document.querySelector('#df-2ed8f7a6-687e-478c-b66d-20fe85bea0a7 button.colab-df-convert');\n",
              "        buttonEl.style.display =\n",
              "          google.colab.kernel.accessAllowed ? 'block' : 'none';\n",
              "\n",
              "        async function convertToInteractive(key) {\n",
              "          const element = document.querySelector('#df-2ed8f7a6-687e-478c-b66d-20fe85bea0a7');\n",
              "          const dataTable =\n",
              "            await google.colab.kernel.invokeFunction('convertToInteractive',\n",
              "                                                     [key], {});\n",
              "          if (!dataTable) return;\n",
              "\n",
              "          const docLinkHtml = 'Like what you see? Visit the ' +\n",
              "            '<a target=\"_blank\" href=https://colab.research.google.com/notebooks/data_table.ipynb>data table notebook</a>'\n",
              "            + ' to learn more about interactive tables.';\n",
              "          element.innerHTML = '';\n",
              "          dataTable['output_type'] = 'display_data';\n",
              "          await google.colab.output.renderOutput(dataTable, element);\n",
              "          const docLink = document.createElement('div');\n",
              "          docLink.innerHTML = docLinkHtml;\n",
              "          element.appendChild(docLink);\n",
              "        }\n",
              "      </script>\n",
              "    </div>\n",
              "  </div>\n",
              "  "
            ]
          },
          "metadata": {},
          "execution_count": 37
        }
      ]
    },
    {
      "cell_type": "code",
      "source": [
        "new_dataset['Class'].value_counts()"
      ],
      "metadata": {
        "colab": {
          "base_uri": "https://localhost:8080/"
        },
        "id": "TUyTNE9vyMIc",
        "outputId": "7fae8030-2d48-4d5d-a9b7-5a91b55b41b0"
      },
      "execution_count": null,
      "outputs": [
        {
          "output_type": "execute_result",
          "data": {
            "text/plain": [
              "0.0    75\n",
              "1.0    73\n",
              "Name: Class, dtype: int64"
            ]
          },
          "metadata": {},
          "execution_count": 38
        }
      ]
    },
    {
      "cell_type": "markdown",
      "source": [
        "# Feature Extraction of text data: Tf-idf Vectorizer\n",
        "- **Feature extraction** is a process in machine learning and data analysis where relevant information is extracted from raw data and transformed into a set of features that can be easily understood and used by machine learning algorithms. These features are a condensed representation of the original data, and they are designed to capture the important information and relationships in the data that are relevant for the task at hand.\n",
        "- *The goal of feature extraction is to reduce the amount of data that needs to be processed*, simplify the data, and improve the performance of machine learning algorithms by reducing overfitting, noise, and irrelevant information. By extracting meaningful features, machine learning algorithms can make predictions or decisions more accurately and efficiently."
      ],
      "metadata": {
        "id": "G_0Hg325yjVC"
      }
    },
    {
      "cell_type": "markdown",
      "source": [
        "***The mapping from textual data to real valued vectors is called feature extraction***\n",
        "\n",
        "- **Bag Of Word(BOW)**: List of unique words in the text corpus\n",
        "- **Term Frequency-Inverse DOcument Frequency(TF-IDF)**: To count the number of times each word appears in a document\n"
      ],
      "metadata": {
        "id": "GSCgKqyezVjL"
      }
    },
    {
      "cell_type": "markdown",
      "source": [
        "![Screenshot (366).png](data:image/png;base64,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)"
      ],
      "metadata": {
        "id": "RjMAVrXk8FRr"
      }
    },
    {
      "cell_type": "markdown",
      "source": [
        "# Numerical Dataset Pre-Processing"
      ],
      "metadata": {
        "id": "UtN8BcaY-1pS"
      }
    },
    {
      "cell_type": "code",
      "source": [
        "# IMPORT the Dependences\n",
        "\n",
        "import numpy as np\n",
        "import pandas as pd\n",
        "from sklearn.preprocessing import StandardScaler\n",
        "from sklearn.model_selection import train_test_split"
      ],
      "metadata": {
        "id": "8pUHHMxA99Rk"
      },
      "execution_count": 4,
      "outputs": []
    },
    {
      "cell_type": "markdown",
      "source": [
        "Data collection and Preprocessing"
      ],
      "metadata": {
        "id": "6mPBdUA0_bxc"
      }
    },
    {
      "cell_type": "code",
      "source": [
        "# loading data from csv file to pandas dataframe\n",
        "diabetes_data = pd.read_csv('/content/diabetes.csv')"
      ],
      "metadata": {
        "id": "78wFcAfD_ayb"
      },
      "execution_count": 5,
      "outputs": []
    },
    {
      "cell_type": "code",
      "source": [
        "diabetes_data.head()"
      ],
      "metadata": {
        "id": "86YRqneU_oYh",
        "outputId": "d86e379f-4b8d-4c89-9a18-f1d769145e5a",
        "colab": {
          "base_uri": "https://localhost:8080/",
          "height": 206
        }
      },
      "execution_count": 6,
      "outputs": [
        {
          "output_type": "execute_result",
          "data": {
            "text/plain": [
              "   Pregnancies  Glucose  BloodPressure  SkinThickness  Insulin   BMI  \\\n",
              "0            6      148             72             35        0  33.6   \n",
              "1            1       85             66             29        0  26.6   \n",
              "2            8      183             64              0        0  23.3   \n",
              "3            1       89             66             23       94  28.1   \n",
              "4            0      137             40             35      168  43.1   \n",
              "\n",
              "   DiabetesPedigreeFunction  Age  Outcome  \n",
              "0                     0.627   50        1  \n",
              "1                     0.351   31        0  \n",
              "2                     0.672   32        1  \n",
              "3                     0.167   21        0  \n",
              "4                     2.288   33        1  "
            ],
            "text/html": [
              "\n",
              "  <div id=\"df-3cf493ff-7c3e-48eb-aac0-fb3880523c39\">\n",
              "    <div class=\"colab-df-container\">\n",
              "      <div>\n",
              "<style scoped>\n",
              "    .dataframe tbody tr th:only-of-type {\n",
              "        vertical-align: middle;\n",
              "    }\n",
              "\n",
              "    .dataframe tbody tr th {\n",
              "        vertical-align: top;\n",
              "    }\n",
              "\n",
              "    .dataframe thead th {\n",
              "        text-align: right;\n",
              "    }\n",
              "</style>\n",
              "<table border=\"1\" class=\"dataframe\">\n",
              "  <thead>\n",
              "    <tr style=\"text-align: right;\">\n",
              "      <th></th>\n",
              "      <th>Pregnancies</th>\n",
              "      <th>Glucose</th>\n",
              "      <th>BloodPressure</th>\n",
              "      <th>SkinThickness</th>\n",
              "      <th>Insulin</th>\n",
              "      <th>BMI</th>\n",
              "      <th>DiabetesPedigreeFunction</th>\n",
              "      <th>Age</th>\n",
              "      <th>Outcome</th>\n",
              "    </tr>\n",
              "  </thead>\n",
              "  <tbody>\n",
              "    <tr>\n",
              "      <th>0</th>\n",
              "      <td>6</td>\n",
              "      <td>148</td>\n",
              "      <td>72</td>\n",
              "      <td>35</td>\n",
              "      <td>0</td>\n",
              "      <td>33.6</td>\n",
              "      <td>0.627</td>\n",
              "      <td>50</td>\n",
              "      <td>1</td>\n",
              "    </tr>\n",
              "    <tr>\n",
              "      <th>1</th>\n",
              "      <td>1</td>\n",
              "      <td>85</td>\n",
              "      <td>66</td>\n",
              "      <td>29</td>\n",
              "      <td>0</td>\n",
              "      <td>26.6</td>\n",
              "      <td>0.351</td>\n",
              "      <td>31</td>\n",
              "      <td>0</td>\n",
              "    </tr>\n",
              "    <tr>\n",
              "      <th>2</th>\n",
              "      <td>8</td>\n",
              "      <td>183</td>\n",
              "      <td>64</td>\n",
              "      <td>0</td>\n",
              "      <td>0</td>\n",
              "      <td>23.3</td>\n",
              "      <td>0.672</td>\n",
              "      <td>32</td>\n",
              "      <td>1</td>\n",
              "    </tr>\n",
              "    <tr>\n",
              "      <th>3</th>\n",
              "      <td>1</td>\n",
              "      <td>89</td>\n",
              "      <td>66</td>\n",
              "      <td>23</td>\n",
              "      <td>94</td>\n",
              "      <td>28.1</td>\n",
              "      <td>0.167</td>\n",
              "      <td>21</td>\n",
              "      <td>0</td>\n",
              "    </tr>\n",
              "    <tr>\n",
              "      <th>4</th>\n",
              "      <td>0</td>\n",
              "      <td>137</td>\n",
              "      <td>40</td>\n",
              "      <td>35</td>\n",
              "      <td>168</td>\n",
              "      <td>43.1</td>\n",
              "      <td>2.288</td>\n",
              "      <td>33</td>\n",
              "      <td>1</td>\n",
              "    </tr>\n",
              "  </tbody>\n",
              "</table>\n",
              "</div>\n",
              "      <button class=\"colab-df-convert\" onclick=\"convertToInteractive('df-3cf493ff-7c3e-48eb-aac0-fb3880523c39')\"\n",
              "              title=\"Convert this dataframe to an interactive table.\"\n",
              "              style=\"display:none;\">\n",
              "        \n",
              "  <svg xmlns=\"http://www.w3.org/2000/svg\" height=\"24px\"viewBox=\"0 0 24 24\"\n",
              "       width=\"24px\">\n",
              "    <path d=\"M0 0h24v24H0V0z\" fill=\"none\"/>\n",
              "    <path d=\"M18.56 5.44l.94 2.06.94-2.06 2.06-.94-2.06-.94-.94-2.06-.94 2.06-2.06.94zm-11 1L8.5 8.5l.94-2.06 2.06-.94-2.06-.94L8.5 2.5l-.94 2.06-2.06.94zm10 10l.94 2.06.94-2.06 2.06-.94-2.06-.94-.94-2.06-.94 2.06-2.06.94z\"/><path d=\"M17.41 7.96l-1.37-1.37c-.4-.4-.92-.59-1.43-.59-.52 0-1.04.2-1.43.59L10.3 9.45l-7.72 7.72c-.78.78-.78 2.05 0 2.83L4 21.41c.39.39.9.59 1.41.59.51 0 1.02-.2 1.41-.59l7.78-7.78 2.81-2.81c.8-.78.8-2.07 0-2.86zM5.41 20L4 18.59l7.72-7.72 1.47 1.35L5.41 20z\"/>\n",
              "  </svg>\n",
              "      </button>\n",
              "      \n",
              "  <style>\n",
              "    .colab-df-container {\n",
              "      display:flex;\n",
              "      flex-wrap:wrap;\n",
              "      gap: 12px;\n",
              "    }\n",
              "\n",
              "    .colab-df-convert {\n",
              "      background-color: #E8F0FE;\n",
              "      border: none;\n",
              "      border-radius: 50%;\n",
              "      cursor: pointer;\n",
              "      display: none;\n",
              "      fill: #1967D2;\n",
              "      height: 32px;\n",
              "      padding: 0 0 0 0;\n",
              "      width: 32px;\n",
              "    }\n",
              "\n",
              "    .colab-df-convert:hover {\n",
              "      background-color: #E2EBFA;\n",
              "      box-shadow: 0px 1px 2px rgba(60, 64, 67, 0.3), 0px 1px 3px 1px rgba(60, 64, 67, 0.15);\n",
              "      fill: #174EA6;\n",
              "    }\n",
              "\n",
              "    [theme=dark] .colab-df-convert {\n",
              "      background-color: #3B4455;\n",
              "      fill: #D2E3FC;\n",
              "    }\n",
              "\n",
              "    [theme=dark] .colab-df-convert:hover {\n",
              "      background-color: #434B5C;\n",
              "      box-shadow: 0px 1px 3px 1px rgba(0, 0, 0, 0.15);\n",
              "      filter: drop-shadow(0px 1px 2px rgba(0, 0, 0, 0.3));\n",
              "      fill: #FFFFFF;\n",
              "    }\n",
              "  </style>\n",
              "\n",
              "      <script>\n",
              "        const buttonEl =\n",
              "          document.querySelector('#df-3cf493ff-7c3e-48eb-aac0-fb3880523c39 button.colab-df-convert');\n",
              "        buttonEl.style.display =\n",
              "          google.colab.kernel.accessAllowed ? 'block' : 'none';\n",
              "\n",
              "        async function convertToInteractive(key) {\n",
              "          const element = document.querySelector('#df-3cf493ff-7c3e-48eb-aac0-fb3880523c39');\n",
              "          const dataTable =\n",
              "            await google.colab.kernel.invokeFunction('convertToInteractive',\n",
              "                                                     [key], {});\n",
              "          if (!dataTable) return;\n",
              "\n",
              "          const docLinkHtml = 'Like what you see? Visit the ' +\n",
              "            '<a target=\"_blank\" href=https://colab.research.google.com/notebooks/data_table.ipynb>data table notebook</a>'\n",
              "            + ' to learn more about interactive tables.';\n",
              "          element.innerHTML = '';\n",
              "          dataTable['output_type'] = 'display_data';\n",
              "          await google.colab.output.renderOutput(dataTable, element);\n",
              "          const docLink = document.createElement('div');\n",
              "          docLink.innerHTML = docLinkHtml;\n",
              "          element.appendChild(docLink);\n",
              "        }\n",
              "      </script>\n",
              "    </div>\n",
              "  </div>\n",
              "  "
            ]
          },
          "metadata": {},
          "execution_count": 6
        }
      ]
    },
    {
      "cell_type": "code",
      "source": [
        "diabetes_data.shape"
      ],
      "metadata": {
        "id": "LRHVrVwV_s7R",
        "outputId": "8ebc3336-67c1-4e1e-fbfd-4332cd1dacb5",
        "colab": {
          "base_uri": "https://localhost:8080/"
        }
      },
      "execution_count": 7,
      "outputs": [
        {
          "output_type": "execute_result",
          "data": {
            "text/plain": [
              "(768, 9)"
            ]
          },
          "metadata": {},
          "execution_count": 7
        }
      ]
    },
    {
      "cell_type": "code",
      "source": [
        "diabetes_data.describe()"
      ],
      "metadata": {
        "id": "oSIh1p-h_6GS",
        "outputId": "140867eb-8f7c-4263-c29d-f2ecdd8b999b",
        "colab": {
          "base_uri": "https://localhost:8080/",
          "height": 300
        }
      },
      "execution_count": 9,
      "outputs": [
        {
          "output_type": "execute_result",
          "data": {
            "text/plain": [
              "       Pregnancies     Glucose  BloodPressure  SkinThickness     Insulin  \\\n",
              "count   768.000000  768.000000     768.000000     768.000000  768.000000   \n",
              "mean      3.845052  120.894531      69.105469      20.536458   79.799479   \n",
              "std       3.369578   31.972618      19.355807      15.952218  115.244002   \n",
              "min       0.000000    0.000000       0.000000       0.000000    0.000000   \n",
              "25%       1.000000   99.000000      62.000000       0.000000    0.000000   \n",
              "50%       3.000000  117.000000      72.000000      23.000000   30.500000   \n",
              "75%       6.000000  140.250000      80.000000      32.000000  127.250000   \n",
              "max      17.000000  199.000000     122.000000      99.000000  846.000000   \n",
              "\n",
              "              BMI  DiabetesPedigreeFunction         Age     Outcome  \n",
              "count  768.000000                768.000000  768.000000  768.000000  \n",
              "mean    31.992578                  0.471876   33.240885    0.348958  \n",
              "std      7.884160                  0.331329   11.760232    0.476951  \n",
              "min      0.000000                  0.078000   21.000000    0.000000  \n",
              "25%     27.300000                  0.243750   24.000000    0.000000  \n",
              "50%     32.000000                  0.372500   29.000000    0.000000  \n",
              "75%     36.600000                  0.626250   41.000000    1.000000  \n",
              "max     67.100000                  2.420000   81.000000    1.000000  "
            ],
            "text/html": [
              "\n",
              "  <div id=\"df-9996809a-6d9c-4ce8-a8fb-38e59b95835b\">\n",
              "    <div class=\"colab-df-container\">\n",
              "      <div>\n",
              "<style scoped>\n",
              "    .dataframe tbody tr th:only-of-type {\n",
              "        vertical-align: middle;\n",
              "    }\n",
              "\n",
              "    .dataframe tbody tr th {\n",
              "        vertical-align: top;\n",
              "    }\n",
              "\n",
              "    .dataframe thead th {\n",
              "        text-align: right;\n",
              "    }\n",
              "</style>\n",
              "<table border=\"1\" class=\"dataframe\">\n",
              "  <thead>\n",
              "    <tr style=\"text-align: right;\">\n",
              "      <th></th>\n",
              "      <th>Pregnancies</th>\n",
              "      <th>Glucose</th>\n",
              "      <th>BloodPressure</th>\n",
              "      <th>SkinThickness</th>\n",
              "      <th>Insulin</th>\n",
              "      <th>BMI</th>\n",
              "      <th>DiabetesPedigreeFunction</th>\n",
              "      <th>Age</th>\n",
              "      <th>Outcome</th>\n",
              "    </tr>\n",
              "  </thead>\n",
              "  <tbody>\n",
              "    <tr>\n",
              "      <th>count</th>\n",
              "      <td>768.000000</td>\n",
              "      <td>768.000000</td>\n",
              "      <td>768.000000</td>\n",
              "      <td>768.000000</td>\n",
              "      <td>768.000000</td>\n",
              "      <td>768.000000</td>\n",
              "      <td>768.000000</td>\n",
              "      <td>768.000000</td>\n",
              "      <td>768.000000</td>\n",
              "    </tr>\n",
              "    <tr>\n",
              "      <th>mean</th>\n",
              "      <td>3.845052</td>\n",
              "      <td>120.894531</td>\n",
              "      <td>69.105469</td>\n",
              "      <td>20.536458</td>\n",
              "      <td>79.799479</td>\n",
              "      <td>31.992578</td>\n",
              "      <td>0.471876</td>\n",
              "      <td>33.240885</td>\n",
              "      <td>0.348958</td>\n",
              "    </tr>\n",
              "    <tr>\n",
              "      <th>std</th>\n",
              "      <td>3.369578</td>\n",
              "      <td>31.972618</td>\n",
              "      <td>19.355807</td>\n",
              "      <td>15.952218</td>\n",
              "      <td>115.244002</td>\n",
              "      <td>7.884160</td>\n",
              "      <td>0.331329</td>\n",
              "      <td>11.760232</td>\n",
              "      <td>0.476951</td>\n",
              "    </tr>\n",
              "    <tr>\n",
              "      <th>min</th>\n",
              "      <td>0.000000</td>\n",
              "      <td>0.000000</td>\n",
              "      <td>0.000000</td>\n",
              "      <td>0.000000</td>\n",
              "      <td>0.000000</td>\n",
              "      <td>0.000000</td>\n",
              "      <td>0.078000</td>\n",
              "      <td>21.000000</td>\n",
              "      <td>0.000000</td>\n",
              "    </tr>\n",
              "    <tr>\n",
              "      <th>25%</th>\n",
              "      <td>1.000000</td>\n",
              "      <td>99.000000</td>\n",
              "      <td>62.000000</td>\n",
              "      <td>0.000000</td>\n",
              "      <td>0.000000</td>\n",
              "      <td>27.300000</td>\n",
              "      <td>0.243750</td>\n",
              "      <td>24.000000</td>\n",
              "      <td>0.000000</td>\n",
              "    </tr>\n",
              "    <tr>\n",
              "      <th>50%</th>\n",
              "      <td>3.000000</td>\n",
              "      <td>117.000000</td>\n",
              "      <td>72.000000</td>\n",
              "      <td>23.000000</td>\n",
              "      <td>30.500000</td>\n",
              "      <td>32.000000</td>\n",
              "      <td>0.372500</td>\n",
              "      <td>29.000000</td>\n",
              "      <td>0.000000</td>\n",
              "    </tr>\n",
              "    <tr>\n",
              "      <th>75%</th>\n",
              "      <td>6.000000</td>\n",
              "      <td>140.250000</td>\n",
              "      <td>80.000000</td>\n",
              "      <td>32.000000</td>\n",
              "      <td>127.250000</td>\n",
              "      <td>36.600000</td>\n",
              "      <td>0.626250</td>\n",
              "      <td>41.000000</td>\n",
              "      <td>1.000000</td>\n",
              "    </tr>\n",
              "    <tr>\n",
              "      <th>max</th>\n",
              "      <td>17.000000</td>\n",
              "      <td>199.000000</td>\n",
              "      <td>122.000000</td>\n",
              "      <td>99.000000</td>\n",
              "      <td>846.000000</td>\n",
              "      <td>67.100000</td>\n",
              "      <td>2.420000</td>\n",
              "      <td>81.000000</td>\n",
              "      <td>1.000000</td>\n",
              "    </tr>\n",
              "  </tbody>\n",
              "</table>\n",
              "</div>\n",
              "      <button class=\"colab-df-convert\" onclick=\"convertToInteractive('df-9996809a-6d9c-4ce8-a8fb-38e59b95835b')\"\n",
              "              title=\"Convert this dataframe to an interactive table.\"\n",
              "              style=\"display:none;\">\n",
              "        \n",
              "  <svg xmlns=\"http://www.w3.org/2000/svg\" height=\"24px\"viewBox=\"0 0 24 24\"\n",
              "       width=\"24px\">\n",
              "    <path d=\"M0 0h24v24H0V0z\" fill=\"none\"/>\n",
              "    <path d=\"M18.56 5.44l.94 2.06.94-2.06 2.06-.94-2.06-.94-.94-2.06-.94 2.06-2.06.94zm-11 1L8.5 8.5l.94-2.06 2.06-.94-2.06-.94L8.5 2.5l-.94 2.06-2.06.94zm10 10l.94 2.06.94-2.06 2.06-.94-2.06-.94-.94-2.06-.94 2.06-2.06.94z\"/><path d=\"M17.41 7.96l-1.37-1.37c-.4-.4-.92-.59-1.43-.59-.52 0-1.04.2-1.43.59L10.3 9.45l-7.72 7.72c-.78.78-.78 2.05 0 2.83L4 21.41c.39.39.9.59 1.41.59.51 0 1.02-.2 1.41-.59l7.78-7.78 2.81-2.81c.8-.78.8-2.07 0-2.86zM5.41 20L4 18.59l7.72-7.72 1.47 1.35L5.41 20z\"/>\n",
              "  </svg>\n",
              "      </button>\n",
              "      \n",
              "  <style>\n",
              "    .colab-df-container {\n",
              "      display:flex;\n",
              "      flex-wrap:wrap;\n",
              "      gap: 12px;\n",
              "    }\n",
              "\n",
              "    .colab-df-convert {\n",
              "      background-color: #E8F0FE;\n",
              "      border: none;\n",
              "      border-radius: 50%;\n",
              "      cursor: pointer;\n",
              "      display: none;\n",
              "      fill: #1967D2;\n",
              "      height: 32px;\n",
              "      padding: 0 0 0 0;\n",
              "      width: 32px;\n",
              "    }\n",
              "\n",
              "    .colab-df-convert:hover {\n",
              "      background-color: #E2EBFA;\n",
              "      box-shadow: 0px 1px 2px rgba(60, 64, 67, 0.3), 0px 1px 3px 1px rgba(60, 64, 67, 0.15);\n",
              "      fill: #174EA6;\n",
              "    }\n",
              "\n",
              "    [theme=dark] .colab-df-convert {\n",
              "      background-color: #3B4455;\n",
              "      fill: #D2E3FC;\n",
              "    }\n",
              "\n",
              "    [theme=dark] .colab-df-convert:hover {\n",
              "      background-color: #434B5C;\n",
              "      box-shadow: 0px 1px 3px 1px rgba(0, 0, 0, 0.15);\n",
              "      filter: drop-shadow(0px 1px 2px rgba(0, 0, 0, 0.3));\n",
              "      fill: #FFFFFF;\n",
              "    }\n",
              "  </style>\n",
              "\n",
              "      <script>\n",
              "        const buttonEl =\n",
              "          document.querySelector('#df-9996809a-6d9c-4ce8-a8fb-38e59b95835b button.colab-df-convert');\n",
              "        buttonEl.style.display =\n",
              "          google.colab.kernel.accessAllowed ? 'block' : 'none';\n",
              "\n",
              "        async function convertToInteractive(key) {\n",
              "          const element = document.querySelector('#df-9996809a-6d9c-4ce8-a8fb-38e59b95835b');\n",
              "          const dataTable =\n",
              "            await google.colab.kernel.invokeFunction('convertToInteractive',\n",
              "                                                     [key], {});\n",
              "          if (!dataTable) return;\n",
              "\n",
              "          const docLinkHtml = 'Like what you see? Visit the ' +\n",
              "            '<a target=\"_blank\" href=https://colab.research.google.com/notebooks/data_table.ipynb>data table notebook</a>'\n",
              "            + ' to learn more about interactive tables.';\n",
              "          element.innerHTML = '';\n",
              "          dataTable['output_type'] = 'display_data';\n",
              "          await google.colab.output.renderOutput(dataTable, element);\n",
              "          const docLink = document.createElement('div');\n",
              "          docLink.innerHTML = docLinkHtml;\n",
              "          element.appendChild(docLink);\n",
              "        }\n",
              "      </script>\n",
              "    </div>\n",
              "  </div>\n",
              "  "
            ]
          },
          "metadata": {},
          "execution_count": 9
        }
      ]
    },
    {
      "cell_type": "markdown",
      "source": [
        "Separating feature and target"
      ],
      "metadata": {
        "id": "jJG4ZBWfAQew"
      }
    },
    {
      "cell_type": "code",
      "source": [
        "X = diabetes_data.drop(columns='Outcome', axis=1)\n",
        "Y = diabetes_data['Outcome']"
      ],
      "metadata": {
        "id": "Xs8A_VeTAFGk"
      },
      "execution_count": 10,
      "outputs": []
    },
    {
      "cell_type": "code",
      "source": [
        "print(X)\n",
        "print(Y)"
      ],
      "metadata": {
        "id": "K_o24aJmAhOm",
        "outputId": "589a5f87-ba03-43bd-ff0b-98c0ead39d1a",
        "colab": {
          "base_uri": "https://localhost:8080/"
        }
      },
      "execution_count": 11,
      "outputs": [
        {
          "output_type": "stream",
          "name": "stdout",
          "text": [
            "     Pregnancies  Glucose  BloodPressure  SkinThickness  Insulin   BMI  \\\n",
            "0              6      148             72             35        0  33.6   \n",
            "1              1       85             66             29        0  26.6   \n",
            "2              8      183             64              0        0  23.3   \n",
            "3              1       89             66             23       94  28.1   \n",
            "4              0      137             40             35      168  43.1   \n",
            "..           ...      ...            ...            ...      ...   ...   \n",
            "763           10      101             76             48      180  32.9   \n",
            "764            2      122             70             27        0  36.8   \n",
            "765            5      121             72             23      112  26.2   \n",
            "766            1      126             60              0        0  30.1   \n",
            "767            1       93             70             31        0  30.4   \n",
            "\n",
            "     DiabetesPedigreeFunction  Age  \n",
            "0                       0.627   50  \n",
            "1                       0.351   31  \n",
            "2                       0.672   32  \n",
            "3                       0.167   21  \n",
            "4                       2.288   33  \n",
            "..                        ...  ...  \n",
            "763                     0.171   63  \n",
            "764                     0.340   27  \n",
            "765                     0.245   30  \n",
            "766                     0.349   47  \n",
            "767                     0.315   23  \n",
            "\n",
            "[768 rows x 8 columns]\n",
            "0      1\n",
            "1      0\n",
            "2      1\n",
            "3      0\n",
            "4      1\n",
            "      ..\n",
            "763    0\n",
            "764    0\n",
            "765    0\n",
            "766    1\n",
            "767    0\n",
            "Name: Outcome, Length: 768, dtype: int64\n"
          ]
        }
      ]
    },
    {
      "cell_type": "markdown",
      "source": [
        "Data standardization"
      ],
      "metadata": {
        "id": "C2rIe_SFA7os"
      }
    },
    {
      "cell_type": "code",
      "source": [
        "scalar = StandardScaler()"
      ],
      "metadata": {
        "id": "QkdMaxZcAlsI"
      },
      "execution_count": 12,
      "outputs": []
    },
    {
      "cell_type": "code",
      "source": [
        "standardized_data= scalar.fit_transform(X)"
      ],
      "metadata": {
        "id": "9oaokv5UBK3E"
      },
      "execution_count": 15,
      "outputs": []
    },
    {
      "cell_type": "code",
      "source": [
        "print(standardized_data)"
      ],
      "metadata": {
        "id": "2Rf7CJlPBRgE",
        "outputId": "013a2e79-a83f-43bb-f420-a9e1e39a3f63",
        "colab": {
          "base_uri": "https://localhost:8080/"
        }
      },
      "execution_count": 16,
      "outputs": [
        {
          "output_type": "stream",
          "name": "stdout",
          "text": [
            "[[ 0.63994726  0.84832379  0.14964075 ...  0.20401277  0.46849198\n",
            "   1.4259954 ]\n",
            " [-0.84488505 -1.12339636 -0.16054575 ... -0.68442195 -0.36506078\n",
            "  -0.19067191]\n",
            " [ 1.23388019  1.94372388 -0.26394125 ... -1.10325546  0.60439732\n",
            "  -0.10558415]\n",
            " ...\n",
            " [ 0.3429808   0.00330087  0.14964075 ... -0.73518964 -0.68519336\n",
            "  -0.27575966]\n",
            " [-0.84488505  0.1597866  -0.47073225 ... -0.24020459 -0.37110101\n",
            "   1.17073215]\n",
            " [-0.84488505 -0.8730192   0.04624525 ... -0.20212881 -0.47378505\n",
            "  -0.87137393]]\n"
          ]
        }
      ]
    },
    {
      "cell_type": "code",
      "source": [
        "X = standardized_data"
      ],
      "metadata": {
        "id": "1qIMMpZpBi9Z"
      },
      "execution_count": 17,
      "outputs": []
    },
    {
      "cell_type": "code",
      "source": [
        "print(X)"
      ],
      "metadata": {
        "id": "74HYTecDBnTe",
        "outputId": "17a59d09-3f6d-4ef1-a731-89d7ec93d79b",
        "colab": {
          "base_uri": "https://localhost:8080/"
        }
      },
      "execution_count": 18,
      "outputs": [
        {
          "output_type": "stream",
          "name": "stdout",
          "text": [
            "[[ 0.63994726  0.84832379  0.14964075 ...  0.20401277  0.46849198\n",
            "   1.4259954 ]\n",
            " [-0.84488505 -1.12339636 -0.16054575 ... -0.68442195 -0.36506078\n",
            "  -0.19067191]\n",
            " [ 1.23388019  1.94372388 -0.26394125 ... -1.10325546  0.60439732\n",
            "  -0.10558415]\n",
            " ...\n",
            " [ 0.3429808   0.00330087  0.14964075 ... -0.73518964 -0.68519336\n",
            "  -0.27575966]\n",
            " [-0.84488505  0.1597866  -0.47073225 ... -0.24020459 -0.37110101\n",
            "   1.17073215]\n",
            " [-0.84488505 -0.8730192   0.04624525 ... -0.20212881 -0.47378505\n",
            "  -0.87137393]]\n"
          ]
        }
      ]
    },
    {
      "cell_type": "markdown",
      "source": [
        "Spliting the datast into training and testing data"
      ],
      "metadata": {
        "id": "zOSRvaYVGnIF"
      }
    },
    {
      "cell_type": "code",
      "source": [
        "X_train, X_test, Y_train, Y_test = train_test_split(X,Y, test_size=0.2, random_state = 2)"
      ],
      "metadata": {
        "id": "ziIG7vbRBqI3"
      },
      "execution_count": 21,
      "outputs": []
    },
    {
      "cell_type": "code",
      "source": [
        "print(X_train.shape,X_test.shape)"
      ],
      "metadata": {
        "id": "iNzaOIbaG75A",
        "outputId": "0c83f1df-0db9-4ac7-bc94-2d3be4b322af",
        "colab": {
          "base_uri": "https://localhost:8080/"
        }
      },
      "execution_count": 22,
      "outputs": [
        {
          "output_type": "stream",
          "name": "stdout",
          "text": [
            "(614, 8) (154, 8)\n"
          ]
        }
      ]
    },
    {
      "cell_type": "markdown",
      "source": [
        "# Text Data Pre-processing"
      ],
      "metadata": {
        "id": "WDXvrdFFH2pG"
      }
    },
    {
      "cell_type": "code",
      "source": [
        "from google.colab import drive\n",
        "drive.mount('/content/drive')"
      ],
      "metadata": {
        "id": "s2mcxiZhHL0P",
        "outputId": "3a39e093-1b54-4949-a365-fe17565eaf39",
        "colab": {
          "base_uri": "https://localhost:8080/"
        }
      },
      "execution_count": 1,
      "outputs": [
        {
          "output_type": "stream",
          "name": "stdout",
          "text": [
            "Drive already mounted at /content/drive; to attempt to forcibly remount, call drive.mount(\"/content/drive\", force_remount=True).\n"
          ]
        }
      ]
    },
    {
      "cell_type": "code",
      "source": [
        "# importing the dependencies\n",
        "import numpy as np\n",
        "import pandas as pd\n",
        "import re\n",
        "import nltk\n",
        "from nltk.corpus import stopwords\n",
        "from nltk.stem.porter import PorterStemmer\n",
        "from sklearn.feature_extraction.text import TfidfVectorizer\n",
        "from sklearn.model_selection import train_test_split"
      ],
      "metadata": {
        "id": "bW4WuhTIOw32"
      },
      "execution_count": 75,
      "outputs": []
    },
    {
      "cell_type": "code",
      "source": [
        "nltk.download('stopwords')"
      ],
      "metadata": {
        "id": "Mz80lACquvez",
        "outputId": "a07da9fa-d70c-43e6-e95e-e89e9ab92f75",
        "colab": {
          "base_uri": "https://localhost:8080/"
        }
      },
      "execution_count": 76,
      "outputs": [
        {
          "output_type": "stream",
          "name": "stderr",
          "text": [
            "[nltk_data] Downloading package stopwords to /root/nltk_data...\n",
            "[nltk_data]   Package stopwords is already up-to-date!\n"
          ]
        },
        {
          "output_type": "execute_result",
          "data": {
            "text/plain": [
              "True"
            ]
          },
          "metadata": {},
          "execution_count": 76
        }
      ]
    },
    {
      "cell_type": "code",
      "source": [
        "print(stopwords.words('english'))  \n",
        "# stopwords are words in a paragraph which are repearted lots of time but don't have much meaning"
      ],
      "metadata": {
        "id": "HM0SUdpeuzML",
        "outputId": "55962516-45ce-4b3c-e4f0-16474108717b",
        "colab": {
          "base_uri": "https://localhost:8080/"
        }
      },
      "execution_count": 77,
      "outputs": [
        {
          "output_type": "stream",
          "name": "stdout",
          "text": [
            "['i', 'me', 'my', 'myself', 'we', 'our', 'ours', 'ourselves', 'you', \"you're\", \"you've\", \"you'll\", \"you'd\", 'your', 'yours', 'yourself', 'yourselves', 'he', 'him', 'his', 'himself', 'she', \"she's\", 'her', 'hers', 'herself', 'it', \"it's\", 'its', 'itself', 'they', 'them', 'their', 'theirs', 'themselves', 'what', 'which', 'who', 'whom', 'this', 'that', \"that'll\", 'these', 'those', 'am', 'is', 'are', 'was', 'were', 'be', 'been', 'being', 'have', 'has', 'had', 'having', 'do', 'does', 'did', 'doing', 'a', 'an', 'the', 'and', 'but', 'if', 'or', 'because', 'as', 'until', 'while', 'of', 'at', 'by', 'for', 'with', 'about', 'against', 'between', 'into', 'through', 'during', 'before', 'after', 'above', 'below', 'to', 'from', 'up', 'down', 'in', 'out', 'on', 'off', 'over', 'under', 'again', 'further', 'then', 'once', 'here', 'there', 'when', 'where', 'why', 'how', 'all', 'any', 'both', 'each', 'few', 'more', 'most', 'other', 'some', 'such', 'no', 'nor', 'not', 'only', 'own', 'same', 'so', 'than', 'too', 'very', 's', 't', 'can', 'will', 'just', 'don', \"don't\", 'should', \"should've\", 'now', 'd', 'll', 'm', 'o', 're', 've', 'y', 'ain', 'aren', \"aren't\", 'couldn', \"couldn't\", 'didn', \"didn't\", 'doesn', \"doesn't\", 'hadn', \"hadn't\", 'hasn', \"hasn't\", 'haven', \"haven't\", 'isn', \"isn't\", 'ma', 'mightn', \"mightn't\", 'mustn', \"mustn't\", 'needn', \"needn't\", 'shan', \"shan't\", 'shouldn', \"shouldn't\", 'wasn', \"wasn't\", 'weren', \"weren't\", 'won', \"won't\", 'wouldn', \"wouldn't\"]\n"
          ]
        }
      ]
    },
    {
      "cell_type": "markdown",
      "source": [
        "Data Pre-processing"
      ],
      "metadata": {
        "id": "l652FOQSvVOo"
      }
    },
    {
      "cell_type": "code",
      "source": [
        "# lload the data to a pandas dataframe\n",
        "news_data = pd.read_csv('/content/drive/MyDrive/dataset/fake_news_dataset.csv')"
      ],
      "metadata": {
        "id": "gL0naEcru5IN"
      },
      "execution_count": 78,
      "outputs": []
    },
    {
      "cell_type": "code",
      "source": [
        "# first five rows of dataset\n",
        "news_data.head()"
      ],
      "metadata": {
        "id": "Tf2nrr-BvhTJ",
        "outputId": "4d39324b-2122-4b90-dca7-66bb47a8406a",
        "colab": {
          "base_uri": "https://localhost:8080/",
          "height": 206
        }
      },
      "execution_count": 79,
      "outputs": [
        {
          "output_type": "execute_result",
          "data": {
            "text/plain": [
              "   id                                              title              author  \\\n",
              "0   0  House Dem Aide: We Didn’t Even See Comey’s Let...       Darrell Lucus   \n",
              "1   1  FLYNN: Hillary Clinton, Big Woman on Campus - ...     Daniel J. Flynn   \n",
              "2   2                  Why the Truth Might Get You Fired  Consortiumnews.com   \n",
              "3   3  15 Civilians Killed In Single US Airstrike Hav...     Jessica Purkiss   \n",
              "4   4  Iranian woman jailed for fictional unpublished...      Howard Portnoy   \n",
              "\n",
              "                                                text  label  \n",
              "0  House Dem Aide: We Didn’t Even See Comey’s Let...      1  \n",
              "1  Ever get the feeling your life circles the rou...      0  \n",
              "2  Why the Truth Might Get You Fired October 29, ...      1  \n",
              "3  Videos 15 Civilians Killed In Single US Airstr...      1  \n",
              "4  Print \\nAn Iranian woman has been sentenced to...      1  "
            ],
            "text/html": [
              "\n",
              "  <div id=\"df-0c8cb01e-a27b-4d44-8f8d-c0eeef0c5ec3\">\n",
              "    <div class=\"colab-df-container\">\n",
              "      <div>\n",
              "<style scoped>\n",
              "    .dataframe tbody tr th:only-of-type {\n",
              "        vertical-align: middle;\n",
              "    }\n",
              "\n",
              "    .dataframe tbody tr th {\n",
              "        vertical-align: top;\n",
              "    }\n",
              "\n",
              "    .dataframe thead th {\n",
              "        text-align: right;\n",
              "    }\n",
              "</style>\n",
              "<table border=\"1\" class=\"dataframe\">\n",
              "  <thead>\n",
              "    <tr style=\"text-align: right;\">\n",
              "      <th></th>\n",
              "      <th>id</th>\n",
              "      <th>title</th>\n",
              "      <th>author</th>\n",
              "      <th>text</th>\n",
              "      <th>label</th>\n",
              "    </tr>\n",
              "  </thead>\n",
              "  <tbody>\n",
              "    <tr>\n",
              "      <th>0</th>\n",
              "      <td>0</td>\n",
              "      <td>House Dem Aide: We Didn’t Even See Comey’s Let...</td>\n",
              "      <td>Darrell Lucus</td>\n",
              "      <td>House Dem Aide: We Didn’t Even See Comey’s Let...</td>\n",
              "      <td>1</td>\n",
              "    </tr>\n",
              "    <tr>\n",
              "      <th>1</th>\n",
              "      <td>1</td>\n",
              "      <td>FLYNN: Hillary Clinton, Big Woman on Campus - ...</td>\n",
              "      <td>Daniel J. Flynn</td>\n",
              "      <td>Ever get the feeling your life circles the rou...</td>\n",
              "      <td>0</td>\n",
              "    </tr>\n",
              "    <tr>\n",
              "      <th>2</th>\n",
              "      <td>2</td>\n",
              "      <td>Why the Truth Might Get You Fired</td>\n",
              "      <td>Consortiumnews.com</td>\n",
              "      <td>Why the Truth Might Get You Fired October 29, ...</td>\n",
              "      <td>1</td>\n",
              "    </tr>\n",
              "    <tr>\n",
              "      <th>3</th>\n",
              "      <td>3</td>\n",
              "      <td>15 Civilians Killed In Single US Airstrike Hav...</td>\n",
              "      <td>Jessica Purkiss</td>\n",
              "      <td>Videos 15 Civilians Killed In Single US Airstr...</td>\n",
              "      <td>1</td>\n",
              "    </tr>\n",
              "    <tr>\n",
              "      <th>4</th>\n",
              "      <td>4</td>\n",
              "      <td>Iranian woman jailed for fictional unpublished...</td>\n",
              "      <td>Howard Portnoy</td>\n",
              "      <td>Print \\nAn Iranian woman has been sentenced to...</td>\n",
              "      <td>1</td>\n",
              "    </tr>\n",
              "  </tbody>\n",
              "</table>\n",
              "</div>\n",
              "      <button class=\"colab-df-convert\" onclick=\"convertToInteractive('df-0c8cb01e-a27b-4d44-8f8d-c0eeef0c5ec3')\"\n",
              "              title=\"Convert this dataframe to an interactive table.\"\n",
              "              style=\"display:none;\">\n",
              "        \n",
              "  <svg xmlns=\"http://www.w3.org/2000/svg\" height=\"24px\"viewBox=\"0 0 24 24\"\n",
              "       width=\"24px\">\n",
              "    <path d=\"M0 0h24v24H0V0z\" fill=\"none\"/>\n",
              "    <path d=\"M18.56 5.44l.94 2.06.94-2.06 2.06-.94-2.06-.94-.94-2.06-.94 2.06-2.06.94zm-11 1L8.5 8.5l.94-2.06 2.06-.94-2.06-.94L8.5 2.5l-.94 2.06-2.06.94zm10 10l.94 2.06.94-2.06 2.06-.94-2.06-.94-.94-2.06-.94 2.06-2.06.94z\"/><path d=\"M17.41 7.96l-1.37-1.37c-.4-.4-.92-.59-1.43-.59-.52 0-1.04.2-1.43.59L10.3 9.45l-7.72 7.72c-.78.78-.78 2.05 0 2.83L4 21.41c.39.39.9.59 1.41.59.51 0 1.02-.2 1.41-.59l7.78-7.78 2.81-2.81c.8-.78.8-2.07 0-2.86zM5.41 20L4 18.59l7.72-7.72 1.47 1.35L5.41 20z\"/>\n",
              "  </svg>\n",
              "      </button>\n",
              "      \n",
              "  <style>\n",
              "    .colab-df-container {\n",
              "      display:flex;\n",
              "      flex-wrap:wrap;\n",
              "      gap: 12px;\n",
              "    }\n",
              "\n",
              "    .colab-df-convert {\n",
              "      background-color: #E8F0FE;\n",
              "      border: none;\n",
              "      border-radius: 50%;\n",
              "      cursor: pointer;\n",
              "      display: none;\n",
              "      fill: #1967D2;\n",
              "      height: 32px;\n",
              "      padding: 0 0 0 0;\n",
              "      width: 32px;\n",
              "    }\n",
              "\n",
              "    .colab-df-convert:hover {\n",
              "      background-color: #E2EBFA;\n",
              "      box-shadow: 0px 1px 2px rgba(60, 64, 67, 0.3), 0px 1px 3px 1px rgba(60, 64, 67, 0.15);\n",
              "      fill: #174EA6;\n",
              "    }\n",
              "\n",
              "    [theme=dark] .colab-df-convert {\n",
              "      background-color: #3B4455;\n",
              "      fill: #D2E3FC;\n",
              "    }\n",
              "\n",
              "    [theme=dark] .colab-df-convert:hover {\n",
              "      background-color: #434B5C;\n",
              "      box-shadow: 0px 1px 3px 1px rgba(0, 0, 0, 0.15);\n",
              "      filter: drop-shadow(0px 1px 2px rgba(0, 0, 0, 0.3));\n",
              "      fill: #FFFFFF;\n",
              "    }\n",
              "  </style>\n",
              "\n",
              "      <script>\n",
              "        const buttonEl =\n",
              "          document.querySelector('#df-0c8cb01e-a27b-4d44-8f8d-c0eeef0c5ec3 button.colab-df-convert');\n",
              "        buttonEl.style.display =\n",
              "          google.colab.kernel.accessAllowed ? 'block' : 'none';\n",
              "\n",
              "        async function convertToInteractive(key) {\n",
              "          const element = document.querySelector('#df-0c8cb01e-a27b-4d44-8f8d-c0eeef0c5ec3');\n",
              "          const dataTable =\n",
              "            await google.colab.kernel.invokeFunction('convertToInteractive',\n",
              "                                                     [key], {});\n",
              "          if (!dataTable) return;\n",
              "\n",
              "          const docLinkHtml = 'Like what you see? Visit the ' +\n",
              "            '<a target=\"_blank\" href=https://colab.research.google.com/notebooks/data_table.ipynb>data table notebook</a>'\n",
              "            + ' to learn more about interactive tables.';\n",
              "          element.innerHTML = '';\n",
              "          dataTable['output_type'] = 'display_data';\n",
              "          await google.colab.output.renderOutput(dataTable, element);\n",
              "          const docLink = document.createElement('div');\n",
              "          docLink.innerHTML = docLinkHtml;\n",
              "          element.appendChild(docLink);\n",
              "        }\n",
              "      </script>\n",
              "    </div>\n",
              "  </div>\n",
              "  "
            ]
          },
          "metadata": {},
          "execution_count": 79
        }
      ]
    },
    {
      "cell_type": "markdown",
      "source": [
        "0 --> real news\n",
        "\n",
        "1--> fake news"
      ],
      "metadata": {
        "id": "q2VtlC9Nv8Sy"
      }
    },
    {
      "cell_type": "code",
      "source": [
        "# checking if a dataset is a balance dataset or not\n",
        "news_data['label'].value_counts()"
      ],
      "metadata": {
        "id": "KspMvueuvp85",
        "outputId": "79a43697-e314-4ddf-e3f2-170773e2b92f",
        "colab": {
          "base_uri": "https://localhost:8080/"
        }
      },
      "execution_count": 80,
      "outputs": [
        {
          "output_type": "execute_result",
          "data": {
            "text/plain": [
              "1    10413\n",
              "0    10387\n",
              "Name: label, dtype: int64"
            ]
          },
          "metadata": {},
          "execution_count": 80
        }
      ]
    },
    {
      "cell_type": "code",
      "source": [
        "news_data.shape"
      ],
      "metadata": {
        "id": "OmDZNn25vy3q",
        "outputId": "ceea1f1a-0440-4c59-8c5c-f676c21d1785",
        "colab": {
          "base_uri": "https://localhost:8080/"
        }
      },
      "execution_count": 81,
      "outputs": [
        {
          "output_type": "execute_result",
          "data": {
            "text/plain": [
              "(20800, 5)"
            ]
          },
          "metadata": {},
          "execution_count": 81
        }
      ]
    },
    {
      "cell_type": "code",
      "source": [
        "# checking for missing value\n",
        "news_data.isnull().sum()"
      ],
      "metadata": {
        "id": "Bf30QpAOwDkV",
        "outputId": "07ae4a23-dbf8-4829-cdf3-ef271649d2de",
        "colab": {
          "base_uri": "https://localhost:8080/"
        }
      },
      "execution_count": 82,
      "outputs": [
        {
          "output_type": "execute_result",
          "data": {
            "text/plain": [
              "id           0\n",
              "title      558\n",
              "author    1957\n",
              "text        39\n",
              "label        0\n",
              "dtype: int64"
            ]
          },
          "metadata": {},
          "execution_count": 82
        }
      ]
    },
    {
      "cell_type": "code",
      "source": [
        "# replacing the missing value with null string\n",
        "news_data = news_data.fillna('')"
      ],
      "metadata": {
        "id": "M145i9PFwP32"
      },
      "execution_count": 83,
      "outputs": []
    },
    {
      "cell_type": "code",
      "source": [
        "# lets merge the author name and news title\n",
        "news_data['content'] = news_data['author']+''+news_data['title']"
      ],
      "metadata": {
        "id": "aqjL4SEQwsLR"
      },
      "execution_count": 84,
      "outputs": []
    },
    {
      "cell_type": "code",
      "source": [
        "news_data.head()"
      ],
      "metadata": {
        "id": "DEXptHTUxEm8",
        "outputId": "7f143ee0-eddb-43c4-b884-005a0e283945",
        "colab": {
          "base_uri": "https://localhost:8080/",
          "height": 337
        }
      },
      "execution_count": 85,
      "outputs": [
        {
          "output_type": "execute_result",
          "data": {
            "text/plain": [
              "   id                                              title              author  \\\n",
              "0   0  House Dem Aide: We Didn’t Even See Comey’s Let...       Darrell Lucus   \n",
              "1   1  FLYNN: Hillary Clinton, Big Woman on Campus - ...     Daniel J. Flynn   \n",
              "2   2                  Why the Truth Might Get You Fired  Consortiumnews.com   \n",
              "3   3  15 Civilians Killed In Single US Airstrike Hav...     Jessica Purkiss   \n",
              "4   4  Iranian woman jailed for fictional unpublished...      Howard Portnoy   \n",
              "\n",
              "                                                text  label  \\\n",
              "0  House Dem Aide: We Didn’t Even See Comey’s Let...      1   \n",
              "1  Ever get the feeling your life circles the rou...      0   \n",
              "2  Why the Truth Might Get You Fired October 29, ...      1   \n",
              "3  Videos 15 Civilians Killed In Single US Airstr...      1   \n",
              "4  Print \\nAn Iranian woman has been sentenced to...      1   \n",
              "\n",
              "                                             content  \n",
              "0  Darrell LucusHouse Dem Aide: We Didn’t Even Se...  \n",
              "1  Daniel J. FlynnFLYNN: Hillary Clinton, Big Wom...  \n",
              "2  Consortiumnews.comWhy the Truth Might Get You ...  \n",
              "3  Jessica Purkiss15 Civilians Killed In Single U...  \n",
              "4  Howard PortnoyIranian woman jailed for fiction...  "
            ],
            "text/html": [
              "\n",
              "  <div id=\"df-045123cb-1764-4111-b376-ef410101f1da\">\n",
              "    <div class=\"colab-df-container\">\n",
              "      <div>\n",
              "<style scoped>\n",
              "    .dataframe tbody tr th:only-of-type {\n",
              "        vertical-align: middle;\n",
              "    }\n",
              "\n",
              "    .dataframe tbody tr th {\n",
              "        vertical-align: top;\n",
              "    }\n",
              "\n",
              "    .dataframe thead th {\n",
              "        text-align: right;\n",
              "    }\n",
              "</style>\n",
              "<table border=\"1\" class=\"dataframe\">\n",
              "  <thead>\n",
              "    <tr style=\"text-align: right;\">\n",
              "      <th></th>\n",
              "      <th>id</th>\n",
              "      <th>title</th>\n",
              "      <th>author</th>\n",
              "      <th>text</th>\n",
              "      <th>label</th>\n",
              "      <th>content</th>\n",
              "    </tr>\n",
              "  </thead>\n",
              "  <tbody>\n",
              "    <tr>\n",
              "      <th>0</th>\n",
              "      <td>0</td>\n",
              "      <td>House Dem Aide: We Didn’t Even See Comey’s Let...</td>\n",
              "      <td>Darrell Lucus</td>\n",
              "      <td>House Dem Aide: We Didn’t Even See Comey’s Let...</td>\n",
              "      <td>1</td>\n",
              "      <td>Darrell LucusHouse Dem Aide: We Didn’t Even Se...</td>\n",
              "    </tr>\n",
              "    <tr>\n",
              "      <th>1</th>\n",
              "      <td>1</td>\n",
              "      <td>FLYNN: Hillary Clinton, Big Woman on Campus - ...</td>\n",
              "      <td>Daniel J. Flynn</td>\n",
              "      <td>Ever get the feeling your life circles the rou...</td>\n",
              "      <td>0</td>\n",
              "      <td>Daniel J. FlynnFLYNN: Hillary Clinton, Big Wom...</td>\n",
              "    </tr>\n",
              "    <tr>\n",
              "      <th>2</th>\n",
              "      <td>2</td>\n",
              "      <td>Why the Truth Might Get You Fired</td>\n",
              "      <td>Consortiumnews.com</td>\n",
              "      <td>Why the Truth Might Get You Fired October 29, ...</td>\n",
              "      <td>1</td>\n",
              "      <td>Consortiumnews.comWhy the Truth Might Get You ...</td>\n",
              "    </tr>\n",
              "    <tr>\n",
              "      <th>3</th>\n",
              "      <td>3</td>\n",
              "      <td>15 Civilians Killed In Single US Airstrike Hav...</td>\n",
              "      <td>Jessica Purkiss</td>\n",
              "      <td>Videos 15 Civilians Killed In Single US Airstr...</td>\n",
              "      <td>1</td>\n",
              "      <td>Jessica Purkiss15 Civilians Killed In Single U...</td>\n",
              "    </tr>\n",
              "    <tr>\n",
              "      <th>4</th>\n",
              "      <td>4</td>\n",
              "      <td>Iranian woman jailed for fictional unpublished...</td>\n",
              "      <td>Howard Portnoy</td>\n",
              "      <td>Print \\nAn Iranian woman has been sentenced to...</td>\n",
              "      <td>1</td>\n",
              "      <td>Howard PortnoyIranian woman jailed for fiction...</td>\n",
              "    </tr>\n",
              "  </tbody>\n",
              "</table>\n",
              "</div>\n",
              "      <button class=\"colab-df-convert\" onclick=\"convertToInteractive('df-045123cb-1764-4111-b376-ef410101f1da')\"\n",
              "              title=\"Convert this dataframe to an interactive table.\"\n",
              "              style=\"display:none;\">\n",
              "        \n",
              "  <svg xmlns=\"http://www.w3.org/2000/svg\" height=\"24px\"viewBox=\"0 0 24 24\"\n",
              "       width=\"24px\">\n",
              "    <path d=\"M0 0h24v24H0V0z\" fill=\"none\"/>\n",
              "    <path d=\"M18.56 5.44l.94 2.06.94-2.06 2.06-.94-2.06-.94-.94-2.06-.94 2.06-2.06.94zm-11 1L8.5 8.5l.94-2.06 2.06-.94-2.06-.94L8.5 2.5l-.94 2.06-2.06.94zm10 10l.94 2.06.94-2.06 2.06-.94-2.06-.94-.94-2.06-.94 2.06-2.06.94z\"/><path d=\"M17.41 7.96l-1.37-1.37c-.4-.4-.92-.59-1.43-.59-.52 0-1.04.2-1.43.59L10.3 9.45l-7.72 7.72c-.78.78-.78 2.05 0 2.83L4 21.41c.39.39.9.59 1.41.59.51 0 1.02-.2 1.41-.59l7.78-7.78 2.81-2.81c.8-.78.8-2.07 0-2.86zM5.41 20L4 18.59l7.72-7.72 1.47 1.35L5.41 20z\"/>\n",
              "  </svg>\n",
              "      </button>\n",
              "      \n",
              "  <style>\n",
              "    .colab-df-container {\n",
              "      display:flex;\n",
              "      flex-wrap:wrap;\n",
              "      gap: 12px;\n",
              "    }\n",
              "\n",
              "    .colab-df-convert {\n",
              "      background-color: #E8F0FE;\n",
              "      border: none;\n",
              "      border-radius: 50%;\n",
              "      cursor: pointer;\n",
              "      display: none;\n",
              "      fill: #1967D2;\n",
              "      height: 32px;\n",
              "      padding: 0 0 0 0;\n",
              "      width: 32px;\n",
              "    }\n",
              "\n",
              "    .colab-df-convert:hover {\n",
              "      background-color: #E2EBFA;\n",
              "      box-shadow: 0px 1px 2px rgba(60, 64, 67, 0.3), 0px 1px 3px 1px rgba(60, 64, 67, 0.15);\n",
              "      fill: #174EA6;\n",
              "    }\n",
              "\n",
              "    [theme=dark] .colab-df-convert {\n",
              "      background-color: #3B4455;\n",
              "      fill: #D2E3FC;\n",
              "    }\n",
              "\n",
              "    [theme=dark] .colab-df-convert:hover {\n",
              "      background-color: #434B5C;\n",
              "      box-shadow: 0px 1px 3px 1px rgba(0, 0, 0, 0.15);\n",
              "      filter: drop-shadow(0px 1px 2px rgba(0, 0, 0, 0.3));\n",
              "      fill: #FFFFFF;\n",
              "    }\n",
              "  </style>\n",
              "\n",
              "      <script>\n",
              "        const buttonEl =\n",
              "          document.querySelector('#df-045123cb-1764-4111-b376-ef410101f1da button.colab-df-convert');\n",
              "        buttonEl.style.display =\n",
              "          google.colab.kernel.accessAllowed ? 'block' : 'none';\n",
              "\n",
              "        async function convertToInteractive(key) {\n",
              "          const element = document.querySelector('#df-045123cb-1764-4111-b376-ef410101f1da');\n",
              "          const dataTable =\n",
              "            await google.colab.kernel.invokeFunction('convertToInteractive',\n",
              "                                                     [key], {});\n",
              "          if (!dataTable) return;\n",
              "\n",
              "          const docLinkHtml = 'Like what you see? Visit the ' +\n",
              "            '<a target=\"_blank\" href=https://colab.research.google.com/notebooks/data_table.ipynb>data table notebook</a>'\n",
              "            + ' to learn more about interactive tables.';\n",
              "          element.innerHTML = '';\n",
              "          dataTable['output_type'] = 'display_data';\n",
              "          await google.colab.output.renderOutput(dataTable, element);\n",
              "          const docLink = document.createElement('div');\n",
              "          docLink.innerHTML = docLinkHtml;\n",
              "          element.appendChild(docLink);\n",
              "        }\n",
              "      </script>\n",
              "    </div>\n",
              "  </div>\n",
              "  "
            ]
          },
          "metadata": {},
          "execution_count": 85
        }
      ]
    },
    {
      "cell_type": "code",
      "source": [
        "# separating feature and target\n",
        "X = news_data.drop(columns = 'label', axis=1)\n",
        "Y = news_data['label']"
      ],
      "metadata": {
        "id": "lBfnJBLcxNRd"
      },
      "execution_count": 86,
      "outputs": []
    },
    {
      "cell_type": "code",
      "source": [
        "print(X)\n",
        "print(Y)"
      ],
      "metadata": {
        "id": "yRfIdBBVxkA_",
        "outputId": "67d24f77-e20a-46f8-9743-5eb9a9febced",
        "colab": {
          "base_uri": "https://localhost:8080/"
        }
      },
      "execution_count": 87,
      "outputs": [
        {
          "output_type": "stream",
          "name": "stdout",
          "text": [
            "          id                                              title  \\\n",
            "0          0  House Dem Aide: We Didn’t Even See Comey’s Let...   \n",
            "1          1  FLYNN: Hillary Clinton, Big Woman on Campus - ...   \n",
            "2          2                  Why the Truth Might Get You Fired   \n",
            "3          3  15 Civilians Killed In Single US Airstrike Hav...   \n",
            "4          4  Iranian woman jailed for fictional unpublished...   \n",
            "...      ...                                                ...   \n",
            "20795  20795  Rapper T.I.: Trump a ’Poster Child For White S...   \n",
            "20796  20796  N.F.L. Playoffs: Schedule, Matchups and Odds -...   \n",
            "20797  20797  Macy’s Is Said to Receive Takeover Approach by...   \n",
            "20798  20798  NATO, Russia To Hold Parallel Exercises In Bal...   \n",
            "20799  20799                          What Keeps the F-35 Alive   \n",
            "\n",
            "                                          author  \\\n",
            "0                                  Darrell Lucus   \n",
            "1                                Daniel J. Flynn   \n",
            "2                             Consortiumnews.com   \n",
            "3                                Jessica Purkiss   \n",
            "4                                 Howard Portnoy   \n",
            "...                                          ...   \n",
            "20795                              Jerome Hudson   \n",
            "20796                           Benjamin Hoffman   \n",
            "20797  Michael J. de la Merced and Rachel Abrams   \n",
            "20798                                Alex Ansary   \n",
            "20799                              David Swanson   \n",
            "\n",
            "                                                    text  \\\n",
            "0      House Dem Aide: We Didn’t Even See Comey’s Let...   \n",
            "1      Ever get the feeling your life circles the rou...   \n",
            "2      Why the Truth Might Get You Fired October 29, ...   \n",
            "3      Videos 15 Civilians Killed In Single US Airstr...   \n",
            "4      Print \\nAn Iranian woman has been sentenced to...   \n",
            "...                                                  ...   \n",
            "20795  Rapper T. I. unloaded on black celebrities who...   \n",
            "20796  When the Green Bay Packers lost to the Washing...   \n",
            "20797  The Macy’s of today grew from the union of sev...   \n",
            "20798  NATO, Russia To Hold Parallel Exercises In Bal...   \n",
            "20799    David Swanson is an author, activist, journa...   \n",
            "\n",
            "                                                 content  \n",
            "0      Darrell LucusHouse Dem Aide: We Didn’t Even Se...  \n",
            "1      Daniel J. FlynnFLYNN: Hillary Clinton, Big Wom...  \n",
            "2      Consortiumnews.comWhy the Truth Might Get You ...  \n",
            "3      Jessica Purkiss15 Civilians Killed In Single U...  \n",
            "4      Howard PortnoyIranian woman jailed for fiction...  \n",
            "...                                                  ...  \n",
            "20795  Jerome HudsonRapper T.I.: Trump a ’Poster Chil...  \n",
            "20796  Benjamin HoffmanN.F.L. Playoffs: Schedule, Mat...  \n",
            "20797  Michael J. de la Merced and Rachel AbramsMacy’...  \n",
            "20798  Alex AnsaryNATO, Russia To Hold Parallel Exerc...  \n",
            "20799             David SwansonWhat Keeps the F-35 Alive  \n",
            "\n",
            "[20800 rows x 5 columns]\n",
            "0        1\n",
            "1        0\n",
            "2        1\n",
            "3        1\n",
            "4        1\n",
            "        ..\n",
            "20795    0\n",
            "20796    0\n",
            "20797    0\n",
            "20798    1\n",
            "20799    1\n",
            "Name: label, Length: 20800, dtype: int64\n"
          ]
        }
      ]
    },
    {
      "cell_type": "markdown",
      "source": [
        "### Steming\n",
        "steming is the processing the reducing a word to its root word.\n",
        "Stemming is a process in natural language processing (NLP) that involves reducing words to their base or root form. The idea behind stemming is to remove the suffixes (or endings) of words in order to map related words to the same stem, regardless of the tense or plural form they may appear in. This can be useful in many NLP tasks, such as text classification or information retrieval, as it allows words with similar meanings to be treated as the same term.\n",
        "\n",
        "For example, the stem of the words \"jumps,\" \"jumped,\" and \"jumping\" is \"jump.\" By stemming these words, they can all be represented by the same term, which makes it easier to identify their common features and classify them together.\n",
        "\n",
        "There are several algorithms for stemming words in NLP, including the Porter stemmer, Snowball stemmer, and the Lancaster stemmer. These algorithms use different techniques to remove suffixes from words, such as heuristics, rules, and machine learning. The choice of stemmer depends on the task and the desired trade-off between accuracy and computational efficiency.\n",
        "\n",
        "\n",
        "\n",
        "\n",
        "\n",
        "\n"
      ],
      "metadata": {
        "id": "bRwSMFDGxqhx"
      }
    },
    {
      "cell_type": "code",
      "source": [
        "port_stem = PorterStemmer()"
      ],
      "metadata": {
        "id": "3Mb2nufwxmiq"
      },
      "execution_count": 88,
      "outputs": []
    },
    {
      "cell_type": "code",
      "source": [
        "def stemming(content):\n",
        "  stemmed_content = re.sub('[^a-zA-Z]',' ',content)\n",
        "  stemmed_content= stemmed_content.lower().split()\n",
        "  stemmed_content = [port_stem.stem(word) for word in stemmed_content if not word in stopwords.words('english')]\n",
        "  stemmed_content = ' '.join(stemmed_content)\n",
        "  return stemmed_content\n"
      ],
      "metadata": {
        "id": "0vmiybLn5hEJ"
      },
      "execution_count": 89,
      "outputs": []
    },
    {
      "cell_type": "code",
      "source": [
        "news_data['content'] = news_data['content'].apply(stemming)"
      ],
      "metadata": {
        "id": "4m2aFdVL61gg"
      },
      "execution_count": 90,
      "outputs": []
    },
    {
      "cell_type": "code",
      "source": [
        "\n",
        "print(news_data['content'])"
      ],
      "metadata": {
        "id": "s0hg7LrR7B07",
        "outputId": "0042e1d1-edd1-42bb-d142-bcf911b1e33c",
        "colab": {
          "base_uri": "https://localhost:8080/"
        }
      },
      "execution_count": 92,
      "outputs": [
        {
          "output_type": "stream",
          "name": "stdout",
          "text": [
            "0        darrel lucushous dem aid even see comey letter...\n",
            "1        daniel j flynnflynn hillari clinton big woman ...\n",
            "2                consortiumnew comwhi truth might get fire\n",
            "3        jessica purkiss civilian kill singl us airstri...\n",
            "4        howard portnoyiranian woman jail fiction unpub...\n",
            "                               ...                        \n",
            "20795    jerom hudsonrapp trump poster child white supr...\n",
            "20796    benjamin hoffmann f l playoff schedul matchup ...\n",
            "20797    michael j de la merc rachel abramsmaci said re...\n",
            "20798    alex ansarynato russia hold parallel exercis b...\n",
            "20799                        david swansonwhat keep f aliv\n",
            "Name: content, Length: 20800, dtype: object\n"
          ]
        }
      ]
    },
    {
      "cell_type": "code",
      "source": [
        "X = news_data['content'].values\n",
        "Y = news_data['label'].values"
      ],
      "metadata": {
        "id": "zFoiE4vX7Oat"
      },
      "execution_count": 93,
      "outputs": []
    },
    {
      "cell_type": "code",
      "source": [
        "print(X)\n",
        "print(Y)"
      ],
      "metadata": {
        "id": "7TLqOsVq-F9Z",
        "outputId": "64bdc7c7-fce7-4f00-ddfd-e1837482f24b",
        "colab": {
          "base_uri": "https://localhost:8080/"
        }
      },
      "execution_count": 94,
      "outputs": [
        {
          "output_type": "stream",
          "name": "stdout",
          "text": [
            "['darrel lucushous dem aid even see comey letter jason chaffetz tweet'\n",
            " 'daniel j flynnflynn hillari clinton big woman campu breitbart'\n",
            " 'consortiumnew comwhi truth might get fire' ...\n",
            " 'michael j de la merc rachel abramsmaci said receiv takeov approach hudson bay new york time'\n",
            " 'alex ansarynato russia hold parallel exercis balkan'\n",
            " 'david swansonwhat keep f aliv']\n",
            "[1 0 1 ... 0 1 1]\n"
          ]
        }
      ]
    },
    {
      "cell_type": "code",
      "source": [
        "Y.shape"
      ],
      "metadata": {
        "id": "HT_BzslH-IjR",
        "outputId": "fb3c5733-b45a-4385-ba56-099e338ba4a5",
        "colab": {
          "base_uri": "https://localhost:8080/"
        }
      },
      "execution_count": 95,
      "outputs": [
        {
          "output_type": "execute_result",
          "data": {
            "text/plain": [
              "(20800,)"
            ]
          },
          "metadata": {},
          "execution_count": 95
        }
      ]
    },
    {
      "cell_type": "code",
      "source": [
        "X.shape"
      ],
      "metadata": {
        "id": "imfKZebi-LOK",
        "outputId": "c5d528fb-0350-4e12-bd92-9834a8999dca",
        "colab": {
          "base_uri": "https://localhost:8080/"
        }
      },
      "execution_count": 96,
      "outputs": [
        {
          "output_type": "execute_result",
          "data": {
            "text/plain": [
              "(20800,)"
            ]
          },
          "metadata": {},
          "execution_count": 96
        }
      ]
    },
    {
      "cell_type": "code",
      "source": [
        "# converting the textual data to feature vector\n",
        "vectorizer = TfidfVectorizer()\n",
        "vectorizer.fit(X)\n",
        "\n",
        "X = vectorizer.transform(X)"
      ],
      "metadata": {
        "id": "qQphuPUk-NYB"
      },
      "execution_count": 97,
      "outputs": []
    },
    {
      "cell_type": "code",
      "source": [
        "print(X)"
      ],
      "metadata": {
        "id": "KRSKBZf-HrLd",
        "outputId": "2306e4ae-95c6-46a8-9d02-7385fd02933e",
        "colab": {
          "base_uri": "https://localhost:8080/"
        }
      },
      "execution_count": 98,
      "outputs": [
        {
          "output_type": "stream",
          "name": "stdout",
          "text": [
            "  (0, 26340)\t0.28088379401596425\n",
            "  (0, 22724)\t0.2552336018069161\n",
            "  (0, 15019)\t0.43006226759639316\n",
            "  (0, 14555)\t0.29177259684200296\n",
            "  (0, 12782)\t0.24619727512767195\n",
            "  (0, 8022)\t0.23133661742488731\n",
            "  (0, 6273)\t0.2839932825877813\n",
            "  (0, 5969)\t0.35488202138141456\n",
            "  (0, 5006)\t0.2472595823572816\n",
            "  (0, 4211)\t0.3625320323150658\n",
            "  (0, 578)\t0.2694167078545385\n",
            "  (1, 27923)\t0.36911845953845024\n",
            "  (1, 11313)\t0.24166773097712638\n",
            "  (1, 8772)\t0.5258635625386451\n",
            "  (1, 5916)\t0.31810058109638056\n",
            "  (1, 4767)\t0.23338756776626793\n",
            "  (1, 3859)\t0.45980466668763476\n",
            "  (1, 3281)\t0.18652439327549428\n",
            "  (1, 2622)\t0.3562953366945267\n",
            "  (2, 26235)\t0.3665032495181434\n",
            "  (2, 16361)\t0.43295215406038445\n",
            "  (2, 9454)\t0.30743020569262086\n",
            "  (2, 8567)\t0.3411947414020896\n",
            "  (2, 5240)\t0.40440534260277944\n",
            "  (2, 5121)\t0.5511414848555652\n",
            "  :\t:\n",
            "  (20797, 25776)\t0.08220218573989037\n",
            "  (20797, 25319)\t0.3119640221826561\n",
            "  (20797, 22086)\t0.24902354987792552\n",
            "  (20797, 20778)\t0.2729578683228216\n",
            "  (20797, 20493)\t0.249994989010826\n",
            "  (20797, 17505)\t0.08090456115716123\n",
            "  (20797, 16315)\t0.1785200594251359\n",
            "  (20797, 16217)\t0.3273246827604847\n",
            "  (20797, 14104)\t0.22761807337911874\n",
            "  (20797, 11692)\t0.2992170910232368\n",
            "  (20797, 6088)\t0.21253094503918346\n",
            "  (20797, 2257)\t0.3357782642976524\n",
            "  (20797, 1249)\t0.3072223353708335\n",
            "  (20797, 72)\t0.38829670969848273\n",
            "  (20798, 21937)\t0.2284042880065583\n",
            "  (20798, 18760)\t0.43981843518920394\n",
            "  (20798, 11434)\t0.3219420705942853\n",
            "  (20798, 8095)\t0.40266358130888547\n",
            "  (20798, 1921)\t0.43981843518920394\n",
            "  (20798, 1081)\t0.4638903157542853\n",
            "  (20798, 697)\t0.2827933658592677\n",
            "  (20799, 25148)\t0.6713314187498636\n",
            "  (20799, 13329)\t0.4138037375613909\n",
            "  (20799, 6018)\t0.345590335823275\n",
            "  (20799, 732)\t0.5085743925573473\n"
          ]
        }
      ]
    },
    {
      "cell_type": "code",
      "source": [],
      "metadata": {
        "id": "f5_JNdnOHtSN"
      },
      "execution_count": null,
      "outputs": []
    }
  ]
}