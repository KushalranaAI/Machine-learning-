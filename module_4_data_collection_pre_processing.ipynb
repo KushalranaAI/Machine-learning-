{
  "nbformat": 4,
  "nbformat_minor": 0,
  "metadata": {
    "colab": {
      "provenance": [],
      "authorship_tag": "ABX9TyN2myWydp8OnKpMbrglcNKx",
      "include_colab_link": true
    },
    "kernelspec": {
      "name": "python3",
      "display_name": "Python 3"
    },
    "language_info": {
      "name": "python"
    }
  },
  "cells": [
    {
      "cell_type": "markdown",
      "metadata": {
        "id": "view-in-github",
        "colab_type": "text"
      },
      "source": [
        "<a href=\"https://colab.research.google.com/github/KushalranaAI/Machine-learning-/blob/main/module_4_data_collection_pre_processing.ipynb\" target=\"_parent\"><img src=\"https://colab.research.google.com/assets/colab-badge.svg\" alt=\"Open In Colab\"/></a>"
      ]
    },
    {
      "cell_type": "markdown",
      "source": [
        "Where to collect data for machine learning?"
      ],
      "metadata": {
        "id": "xPId-HTMzI5J"
      }
    },
    {
      "cell_type": "markdown",
      "source": [
        "Question need to be answer or understnad:\n",
        "1. Importance of Data in Machine Learning?\n",
        "- Ans: Data is crucial in machine learning as it is the input used to train algorithms and make predictions. The quality and quantity of data can greatly affect the accuracy and performance of a model. Good data should be representative, diverse, and labeled, and should avoid bias to ensure the model can generalize to new examples. The more data a model is trained on, the better it will be able to learn patterns and make predictions, but too much data can also lead to overfitting. Therefore, finding the right balance of data quality and quantity is important in machine learning.\n",
        "2. Where to collect the data?\n",
        "- kaggle\n",
        "- UCI machine learning repository\n",
        "- Google dataset search\n",
        "\n",
        "3. Demonstration of data collection."
      ],
      "metadata": {
        "id": "NufK8qr6zQdc"
      }
    },
    {
      "cell_type": "markdown",
      "source": [
        "Importing dataset using kaggle API\n"
      ],
      "metadata": {
        "id": "XTajQR1RrwOl"
      }
    },
    {
      "cell_type": "code",
      "execution_count": 16,
      "metadata": {
        "id": "pnuNI-T0Ex9c",
        "colab": {
          "base_uri": "https://localhost:8080/"
        },
        "outputId": "93382f29-a9d3-4ac6-ab34-b0c7f43fe295"
      },
      "outputs": [
        {
          "output_type": "stream",
          "name": "stdout",
          "text": [
            "Looking in indexes: https://pypi.org/simple, https://us-python.pkg.dev/colab-wheels/public/simple/\n",
            "Requirement already satisfied: kaggle in /usr/local/lib/python3.8/dist-packages (1.5.12)\n",
            "Requirement already satisfied: python-slugify in /usr/local/lib/python3.8/dist-packages (from kaggle) (8.0.0)\n",
            "Requirement already satisfied: urllib3 in /usr/local/lib/python3.8/dist-packages (from kaggle) (1.24.3)\n",
            "Requirement already satisfied: six>=1.10 in /usr/local/lib/python3.8/dist-packages (from kaggle) (1.15.0)\n",
            "Requirement already satisfied: python-dateutil in /usr/local/lib/python3.8/dist-packages (from kaggle) (2.8.2)\n",
            "Requirement already satisfied: requests in /usr/local/lib/python3.8/dist-packages (from kaggle) (2.25.1)\n",
            "Requirement already satisfied: tqdm in /usr/local/lib/python3.8/dist-packages (from kaggle) (4.64.1)\n",
            "Requirement already satisfied: certifi in /usr/local/lib/python3.8/dist-packages (from kaggle) (2022.12.7)\n",
            "Requirement already satisfied: text-unidecode>=1.3 in /usr/local/lib/python3.8/dist-packages (from python-slugify->kaggle) (1.3)\n",
            "Requirement already satisfied: idna<3,>=2.5 in /usr/local/lib/python3.8/dist-packages (from requests->kaggle) (2.10)\n",
            "Requirement already satisfied: chardet<5,>=3.0.2 in /usr/local/lib/python3.8/dist-packages (from requests->kaggle) (4.0.0)\n"
          ]
        }
      ],
      "source": [
        "! pip install kaggle"
      ]
    },
    {
      "cell_type": "code",
      "source": [
        "! mkdir ~/.kaggle1"
      ],
      "metadata": {
        "id": "s6zA07-dstFK"
      },
      "execution_count": 20,
      "outputs": []
    },
    {
      "cell_type": "code",
      "source": [
        "! cp kaggle.json ~/.kaggle1/\n",
        "import json\n",
        "token = {\"username\":\"kushalrana\",\"key\":\"c16b1a373464c70b5382e43e1c729e77\"}\n",
        "with open('/root/.kaggle/kaggle.json', 'w') as file:\n",
        "    json.dump(token, file)"
      ],
      "metadata": {
        "id": "dEtHsVaUs-Xp"
      },
      "execution_count": 25,
      "outputs": []
    },
    {
      "cell_type": "code",
      "source": [
        "! chmod 600 ~/.kaggle1/kaggle.json"
      ],
      "metadata": {
        "id": "J838scUqtDVf"
      },
      "execution_count": 26,
      "outputs": []
    },
    {
      "cell_type": "code",
      "source": [
        "!kaggle competitions download -c LANL-Earthquake-Prediction"
      ],
      "metadata": {
        "colab": {
          "base_uri": "https://localhost:8080/"
        },
        "id": "QORO36a2wW9m",
        "outputId": "86e795f2-b739-4e9a-e2e6-b44026ca5341"
      },
      "execution_count": 28,
      "outputs": [
        {
          "output_type": "stream",
          "name": "stdout",
          "text": [
            "Downloading LANL-Earthquake-Prediction.zip to /content\n",
            "100% 2.27G/2.27G [00:19<00:00, 133MB/s]\n",
            "100% 2.27G/2.27G [00:19<00:00, 128MB/s]\n"
          ]
        }
      ]
    },
    {
      "cell_type": "code",
      "source": [
        "# extract a compressed file\n",
        "from zipfile import ZipFile\n",
        "dataset = '/content/LANL-Earthquake-Prediction.zip'\n",
        "\n",
        "with ZipFile(dataset,'r') as zip:\n",
        "  zip.extractall()\n",
        "  print('The dataset is Extracted')"
      ],
      "metadata": {
        "colab": {
          "base_uri": "https://localhost:8080/"
        },
        "id": "5xUtfosywfKb",
        "outputId": "77cee488-184c-4b17-c3e4-692963a5e0d7"
      },
      "execution_count": 29,
      "outputs": [
        {
          "output_type": "stream",
          "name": "stdout",
          "text": [
            "The dataset is Extracted\n"
          ]
        }
      ]
    },
    {
      "cell_type": "code",
      "source": [
        "import pandas as pd\n",
        "dataset1=pd.read_csv('/content/train.csv')\n",
        "dataset1.head()"
      ],
      "metadata": {
        "id": "A8OLzV4Iyfwb"
      },
      "execution_count": null,
      "outputs": []
    },
    {
      "cell_type": "markdown",
      "source": [
        "### Handling the missing value"
      ],
      "metadata": {
        "id": "HMmHMB01zUBK"
      }
    },
    {
      "cell_type": "markdown",
      "source": [
        "Handling missing values in a dataset is a common challenge in data pre-processing and there are several methods to deal with it. Some of the most common methods include:\n",
        "\n",
        "1. Deletion: This involves removing the entire row or column with missing values. This method is appropriate when the missing values are only a small portion of the dataset, and if the missing values are not randomly distributed.\n",
        "\n",
        "2. Imputation: This involves replacing missing values with substitute values. There are several imputation methods, such as:\n",
        "\n",
        "- Mean/Median/Mode Imputation: This method replaces missing values with the mean, median, or mode of the non-missing values in the same column.\n",
        "- Regression Imputation: This method uses regression analysis to predict missing values based on the values of other variables in the dataset.\n",
        "- Multiple Imputation: This method uses statistical models to create several imputed datasets, each with different missing values filled in, and then combines the results to provide a final estimate.\n",
        "3. Interpolation: This involves estimating missing values based on the values of other observations in the dataset.\n",
        "\n",
        "4. Extrapolation: This involves estimating missing values based on values outside the range of the observed data.\n",
        "\n",
        "5. Data Wrangling: This involves using other available sources of data or knowledge to infer missing values.\n",
        "\n",
        "The appropriate method depends on the amount of missing data, the reason for the missing values, and the structure of the dataset. It's important to choose a method that preserves the underlying relationships in the data and doesn't introduce any significant biases.\n",
        "\n",
        "\n",
        "\n"
      ],
      "metadata": {
        "id": "LSKALeGp0ABg"
      }
    },
    {
      "cell_type": "code",
      "source": [
        "# importing the libraries\n",
        "import pandas as pd\n",
        "import matplotlib.pyplot as plt\n",
        "import seaborn as sns"
      ],
      "metadata": {
        "id": "aGFFz2O_zO_P"
      },
      "execution_count": 1,
      "outputs": []
    },
    {
      "cell_type": "code",
      "source": [
        "# loading the dataset \n",
        "dataset = pd.read_csv('/content/Placement_Dataset.csv')"
      ],
      "metadata": {
        "id": "G5R2Vyiv0sbY"
      },
      "execution_count": 3,
      "outputs": []
    },
    {
      "cell_type": "code",
      "source": [
        "# to see the first five rows of dataset\n",
        "dataset.head()"
      ],
      "metadata": {
        "colab": {
          "base_uri": "https://localhost:8080/",
          "height": 250
        },
        "id": "3uIu5Dz703Ej",
        "outputId": "8ed2ed20-99d3-45d7-aa27-149d2a3c2046"
      },
      "execution_count": 4,
      "outputs": [
        {
          "output_type": "execute_result",
          "data": {
            "text/plain": [
              "   sl_no gender  ssc_p    ssc_b  hsc_p    hsc_b     hsc_s  degree_p  \\\n",
              "0      1      M  67.00   Others  91.00   Others  Commerce     58.00   \n",
              "1      2      M  79.33  Central  78.33   Others   Science     77.48   \n",
              "2      3      M  65.00  Central  68.00  Central      Arts     64.00   \n",
              "3      4      M  56.00  Central  52.00  Central   Science     52.00   \n",
              "4      5      M  85.80  Central  73.60  Central  Commerce     73.30   \n",
              "\n",
              "    degree_t workex  etest_p specialisation  mba_p      status    salary  \n",
              "0   Sci&Tech     No     55.0         Mkt&HR  58.80      Placed  270000.0  \n",
              "1   Sci&Tech    Yes     86.5        Mkt&Fin  66.28      Placed  200000.0  \n",
              "2  Comm&Mgmt     No     75.0        Mkt&Fin  57.80      Placed  250000.0  \n",
              "3   Sci&Tech     No     66.0         Mkt&HR  59.43  Not Placed       NaN  \n",
              "4  Comm&Mgmt     No     96.8        Mkt&Fin  55.50      Placed  425000.0  "
            ],
            "text/html": [
              "\n",
              "  <div id=\"df-3133fbdb-f5ee-4450-9a8f-ad6083eae537\">\n",
              "    <div class=\"colab-df-container\">\n",
              "      <div>\n",
              "<style scoped>\n",
              "    .dataframe tbody tr th:only-of-type {\n",
              "        vertical-align: middle;\n",
              "    }\n",
              "\n",
              "    .dataframe tbody tr th {\n",
              "        vertical-align: top;\n",
              "    }\n",
              "\n",
              "    .dataframe thead th {\n",
              "        text-align: right;\n",
              "    }\n",
              "</style>\n",
              "<table border=\"1\" class=\"dataframe\">\n",
              "  <thead>\n",
              "    <tr style=\"text-align: right;\">\n",
              "      <th></th>\n",
              "      <th>sl_no</th>\n",
              "      <th>gender</th>\n",
              "      <th>ssc_p</th>\n",
              "      <th>ssc_b</th>\n",
              "      <th>hsc_p</th>\n",
              "      <th>hsc_b</th>\n",
              "      <th>hsc_s</th>\n",
              "      <th>degree_p</th>\n",
              "      <th>degree_t</th>\n",
              "      <th>workex</th>\n",
              "      <th>etest_p</th>\n",
              "      <th>specialisation</th>\n",
              "      <th>mba_p</th>\n",
              "      <th>status</th>\n",
              "      <th>salary</th>\n",
              "    </tr>\n",
              "  </thead>\n",
              "  <tbody>\n",
              "    <tr>\n",
              "      <th>0</th>\n",
              "      <td>1</td>\n",
              "      <td>M</td>\n",
              "      <td>67.00</td>\n",
              "      <td>Others</td>\n",
              "      <td>91.00</td>\n",
              "      <td>Others</td>\n",
              "      <td>Commerce</td>\n",
              "      <td>58.00</td>\n",
              "      <td>Sci&amp;Tech</td>\n",
              "      <td>No</td>\n",
              "      <td>55.0</td>\n",
              "      <td>Mkt&amp;HR</td>\n",
              "      <td>58.80</td>\n",
              "      <td>Placed</td>\n",
              "      <td>270000.0</td>\n",
              "    </tr>\n",
              "    <tr>\n",
              "      <th>1</th>\n",
              "      <td>2</td>\n",
              "      <td>M</td>\n",
              "      <td>79.33</td>\n",
              "      <td>Central</td>\n",
              "      <td>78.33</td>\n",
              "      <td>Others</td>\n",
              "      <td>Science</td>\n",
              "      <td>77.48</td>\n",
              "      <td>Sci&amp;Tech</td>\n",
              "      <td>Yes</td>\n",
              "      <td>86.5</td>\n",
              "      <td>Mkt&amp;Fin</td>\n",
              "      <td>66.28</td>\n",
              "      <td>Placed</td>\n",
              "      <td>200000.0</td>\n",
              "    </tr>\n",
              "    <tr>\n",
              "      <th>2</th>\n",
              "      <td>3</td>\n",
              "      <td>M</td>\n",
              "      <td>65.00</td>\n",
              "      <td>Central</td>\n",
              "      <td>68.00</td>\n",
              "      <td>Central</td>\n",
              "      <td>Arts</td>\n",
              "      <td>64.00</td>\n",
              "      <td>Comm&amp;Mgmt</td>\n",
              "      <td>No</td>\n",
              "      <td>75.0</td>\n",
              "      <td>Mkt&amp;Fin</td>\n",
              "      <td>57.80</td>\n",
              "      <td>Placed</td>\n",
              "      <td>250000.0</td>\n",
              "    </tr>\n",
              "    <tr>\n",
              "      <th>3</th>\n",
              "      <td>4</td>\n",
              "      <td>M</td>\n",
              "      <td>56.00</td>\n",
              "      <td>Central</td>\n",
              "      <td>52.00</td>\n",
              "      <td>Central</td>\n",
              "      <td>Science</td>\n",
              "      <td>52.00</td>\n",
              "      <td>Sci&amp;Tech</td>\n",
              "      <td>No</td>\n",
              "      <td>66.0</td>\n",
              "      <td>Mkt&amp;HR</td>\n",
              "      <td>59.43</td>\n",
              "      <td>Not Placed</td>\n",
              "      <td>NaN</td>\n",
              "    </tr>\n",
              "    <tr>\n",
              "      <th>4</th>\n",
              "      <td>5</td>\n",
              "      <td>M</td>\n",
              "      <td>85.80</td>\n",
              "      <td>Central</td>\n",
              "      <td>73.60</td>\n",
              "      <td>Central</td>\n",
              "      <td>Commerce</td>\n",
              "      <td>73.30</td>\n",
              "      <td>Comm&amp;Mgmt</td>\n",
              "      <td>No</td>\n",
              "      <td>96.8</td>\n",
              "      <td>Mkt&amp;Fin</td>\n",
              "      <td>55.50</td>\n",
              "      <td>Placed</td>\n",
              "      <td>425000.0</td>\n",
              "    </tr>\n",
              "  </tbody>\n",
              "</table>\n",
              "</div>\n",
              "      <button class=\"colab-df-convert\" onclick=\"convertToInteractive('df-3133fbdb-f5ee-4450-9a8f-ad6083eae537')\"\n",
              "              title=\"Convert this dataframe to an interactive table.\"\n",
              "              style=\"display:none;\">\n",
              "        \n",
              "  <svg xmlns=\"http://www.w3.org/2000/svg\" height=\"24px\"viewBox=\"0 0 24 24\"\n",
              "       width=\"24px\">\n",
              "    <path d=\"M0 0h24v24H0V0z\" fill=\"none\"/>\n",
              "    <path d=\"M18.56 5.44l.94 2.06.94-2.06 2.06-.94-2.06-.94-.94-2.06-.94 2.06-2.06.94zm-11 1L8.5 8.5l.94-2.06 2.06-.94-2.06-.94L8.5 2.5l-.94 2.06-2.06.94zm10 10l.94 2.06.94-2.06 2.06-.94-2.06-.94-.94-2.06-.94 2.06-2.06.94z\"/><path d=\"M17.41 7.96l-1.37-1.37c-.4-.4-.92-.59-1.43-.59-.52 0-1.04.2-1.43.59L10.3 9.45l-7.72 7.72c-.78.78-.78 2.05 0 2.83L4 21.41c.39.39.9.59 1.41.59.51 0 1.02-.2 1.41-.59l7.78-7.78 2.81-2.81c.8-.78.8-2.07 0-2.86zM5.41 20L4 18.59l7.72-7.72 1.47 1.35L5.41 20z\"/>\n",
              "  </svg>\n",
              "      </button>\n",
              "      \n",
              "  <style>\n",
              "    .colab-df-container {\n",
              "      display:flex;\n",
              "      flex-wrap:wrap;\n",
              "      gap: 12px;\n",
              "    }\n",
              "\n",
              "    .colab-df-convert {\n",
              "      background-color: #E8F0FE;\n",
              "      border: none;\n",
              "      border-radius: 50%;\n",
              "      cursor: pointer;\n",
              "      display: none;\n",
              "      fill: #1967D2;\n",
              "      height: 32px;\n",
              "      padding: 0 0 0 0;\n",
              "      width: 32px;\n",
              "    }\n",
              "\n",
              "    .colab-df-convert:hover {\n",
              "      background-color: #E2EBFA;\n",
              "      box-shadow: 0px 1px 2px rgba(60, 64, 67, 0.3), 0px 1px 3px 1px rgba(60, 64, 67, 0.15);\n",
              "      fill: #174EA6;\n",
              "    }\n",
              "\n",
              "    [theme=dark] .colab-df-convert {\n",
              "      background-color: #3B4455;\n",
              "      fill: #D2E3FC;\n",
              "    }\n",
              "\n",
              "    [theme=dark] .colab-df-convert:hover {\n",
              "      background-color: #434B5C;\n",
              "      box-shadow: 0px 1px 3px 1px rgba(0, 0, 0, 0.15);\n",
              "      filter: drop-shadow(0px 1px 2px rgba(0, 0, 0, 0.3));\n",
              "      fill: #FFFFFF;\n",
              "    }\n",
              "  </style>\n",
              "\n",
              "      <script>\n",
              "        const buttonEl =\n",
              "          document.querySelector('#df-3133fbdb-f5ee-4450-9a8f-ad6083eae537 button.colab-df-convert');\n",
              "        buttonEl.style.display =\n",
              "          google.colab.kernel.accessAllowed ? 'block' : 'none';\n",
              "\n",
              "        async function convertToInteractive(key) {\n",
              "          const element = document.querySelector('#df-3133fbdb-f5ee-4450-9a8f-ad6083eae537');\n",
              "          const dataTable =\n",
              "            await google.colab.kernel.invokeFunction('convertToInteractive',\n",
              "                                                     [key], {});\n",
              "          if (!dataTable) return;\n",
              "\n",
              "          const docLinkHtml = 'Like what you see? Visit the ' +\n",
              "            '<a target=\"_blank\" href=https://colab.research.google.com/notebooks/data_table.ipynb>data table notebook</a>'\n",
              "            + ' to learn more about interactive tables.';\n",
              "          element.innerHTML = '';\n",
              "          dataTable['output_type'] = 'display_data';\n",
              "          await google.colab.output.renderOutput(dataTable, element);\n",
              "          const docLink = document.createElement('div');\n",
              "          docLink.innerHTML = docLinkHtml;\n",
              "          element.appendChild(docLink);\n",
              "        }\n",
              "      </script>\n",
              "    </div>\n",
              "  </div>\n",
              "  "
            ]
          },
          "metadata": {},
          "execution_count": 4
        }
      ]
    },
    {
      "cell_type": "code",
      "source": [
        "dataset.shape"
      ],
      "metadata": {
        "colab": {
          "base_uri": "https://localhost:8080/"
        },
        "id": "bgBJk1B81Nrk",
        "outputId": "4df66ba1-3397-4550-e719-4aaa305b3f1e"
      },
      "execution_count": 5,
      "outputs": [
        {
          "output_type": "execute_result",
          "data": {
            "text/plain": [
              "(215, 15)"
            ]
          },
          "metadata": {},
          "execution_count": 5
        }
      ]
    },
    {
      "cell_type": "code",
      "source": [
        "# checking the missing values in a dataset\n",
        "dataset.isnull().sum()"
      ],
      "metadata": {
        "colab": {
          "base_uri": "https://localhost:8080/"
        },
        "id": "GkNkmkoW1W46",
        "outputId": "650f49a8-ff4f-43a8-91a0-9d456f36881d"
      },
      "execution_count": 6,
      "outputs": [
        {
          "output_type": "execute_result",
          "data": {
            "text/plain": [
              "sl_no              0\n",
              "gender             0\n",
              "ssc_p              0\n",
              "ssc_b              0\n",
              "hsc_p              0\n",
              "hsc_b              0\n",
              "hsc_s              0\n",
              "degree_p           0\n",
              "degree_t           0\n",
              "workex             0\n",
              "etest_p            0\n",
              "specialisation     0\n",
              "mba_p              0\n",
              "status             0\n",
              "salary            67\n",
              "dtype: int64"
            ]
          },
          "metadata": {},
          "execution_count": 6
        }
      ]
    },
    {
      "cell_type": "markdown",
      "source": [
        "### Central Tendencies\n",
        "Central tendencies refer to a summary measure that gives us an idea of where the majority of the data in a dataset lies. There are three common measures of central tendency: mean, median, and mode.\n",
        "\n",
        "- Mean: The mean is the average of a set of numbers and is calculated by summing all the values and dividing by the total number of values. The mean is sensitive to outliers and extreme values, so it may not always give a representative picture of the data.\n",
        "\n",
        "- Median: The median is the middle value of a set of numbers when the data is ordered from smallest to largest. If there are an odd number of observations, the median is the middle value. If there are an even number of observations, the median is the average of the two middle values. The median is a robust statistic, meaning that it is not affected by outliers or extreme values.\n",
        "\n",
        "- Mode: The mode is the most frequently occurring value in a dataset. A dataset can have one mode, multiple modes, or no mode at all. The mode is a useful measure of central tendency for nominal or ordinal data, but it is not useful for continuous or interval data.\n",
        "\n",
        "It's important to choose the appropriate measure of central tendency depending on the type of data and the goals of the analysis. For example, if the data has a skewed distribution, the median may be a more appropriate measure of central tendency than the mean."
      ],
      "metadata": {
        "id": "J1TiytSf1tr2"
      }
    },
    {
      "cell_type": "code",
      "source": [
        "# analyze a distribution of data in a salary column\n",
        "fig, ax = plt.subplots(figsize =(8,8))\n",
        "sns.distplot(dataset.salary)\n"
      ],
      "metadata": {
        "colab": {
          "base_uri": "https://localhost:8080/",
          "height": 580
        },
        "id": "MP5p6Kp-1bL_",
        "outputId": "855688a3-f67a-407b-f177-47e9e3b8d076"
      },
      "execution_count": 8,
      "outputs": [
        {
          "output_type": "stream",
          "name": "stderr",
          "text": [
            "/usr/local/lib/python3.8/dist-packages/seaborn/distributions.py:2619: FutureWarning: `distplot` is a deprecated function and will be removed in a future version. Please adapt your code to use either `displot` (a figure-level function with similar flexibility) or `histplot` (an axes-level function for histograms).\n",
            "  warnings.warn(msg, FutureWarning)\n"
          ]
        },
        {
          "output_type": "execute_result",
          "data": {
            "text/plain": [
              "<matplotlib.axes._subplots.AxesSubplot at 0x7fa8c97c2fa0>"
            ]
          },
          "metadata": {},
          "execution_count": 8
        },
        {
          "output_type": "display_data",
          "data": {
            "text/plain": [
              "<Figure size 576x576 with 1 Axes>"
            ],
            "image/png": "[encoded data removed]"
          },
          "metadata": {
            "needs_background": "light"
          }
        }
      ]
    },
    {
      "cell_type": "code",
      "source": [
        "# using imputation to handle a missing value\n",
        "# Replace the missing value with MEdium value\n",
        "\n",
        "dataset['salary'].fillna(dataset['salary'].median(), inplace =True)"
      ],
      "metadata": {
        "id": "gepQ8vXQ23w4"
      },
      "execution_count": 9,
      "outputs": []
    },
    {
      "cell_type": "code",
      "source": [
        "dataset.head()"
      ],
      "metadata": {
        "colab": {
          "base_uri": "https://localhost:8080/",
          "height": 250
        },
        "id": "R5rzQuDG6bAe",
        "outputId": "8a78f542-23dc-47f9-c8ea-176d7a639236"
      },
      "execution_count": 10,
      "outputs": [
        {
          "output_type": "execute_result",
          "data": {
            "text/plain": [
              "   sl_no gender  ssc_p    ssc_b  hsc_p    hsc_b     hsc_s  degree_p  \\\n",
              "0      1      M  67.00   Others  91.00   Others  Commerce     58.00   \n",
              "1      2      M  79.33  Central  78.33   Others   Science     77.48   \n",
              "2      3      M  65.00  Central  68.00  Central      Arts     64.00   \n",
              "3      4      M  56.00  Central  52.00  Central   Science     52.00   \n",
              "4      5      M  85.80  Central  73.60  Central  Commerce     73.30   \n",
              "\n",
              "    degree_t workex  etest_p specialisation  mba_p      status    salary  \n",
              "0   Sci&Tech     No     55.0         Mkt&HR  58.80      Placed  270000.0  \n",
              "1   Sci&Tech    Yes     86.5        Mkt&Fin  66.28      Placed  200000.0  \n",
              "2  Comm&Mgmt     No     75.0        Mkt&Fin  57.80      Placed  250000.0  \n",
              "3   Sci&Tech     No     66.0         Mkt&HR  59.43  Not Placed  265000.0  \n",
              "4  Comm&Mgmt     No     96.8        Mkt&Fin  55.50      Placed  425000.0  "
            ],
            "text/html": [
              "\n",
              "  <div id=\"df-99e7ef7c-414e-4a5b-a1cc-3480f3067fa1\">\n",
              "    <div class=\"colab-df-container\">\n",
              "      <div>\n",
              "<style scoped>\n",
              "    .dataframe tbody tr th:only-of-type {\n",
              "        vertical-align: middle;\n",
              "    }\n",
              "\n",
              "    .dataframe tbody tr th {\n",
              "        vertical-align: top;\n",
              "    }\n",
              "\n",
              "    .dataframe thead th {\n",
              "        text-align: right;\n",
              "    }\n",
              "</style>\n",
              "<table border=\"1\" class=\"dataframe\">\n",
              "  <thead>\n",
              "    <tr style=\"text-align: right;\">\n",
              "      <th></th>\n",
              "      <th>sl_no</th>\n",
              "      <th>gender</th>\n",
              "      <th>ssc_p</th>\n",
              "      <th>ssc_b</th>\n",
              "      <th>hsc_p</th>\n",
              "      <th>hsc_b</th>\n",
              "      <th>hsc_s</th>\n",
              "      <th>degree_p</th>\n",
              "      <th>degree_t</th>\n",
              "      <th>workex</th>\n",
              "      <th>etest_p</th>\n",
              "      <th>specialisation</th>\n",
              "      <th>mba_p</th>\n",
              "      <th>status</th>\n",
              "      <th>salary</th>\n",
              "    </tr>\n",
              "  </thead>\n",
              "  <tbody>\n",
              "    <tr>\n",
              "      <th>0</th>\n",
              "      <td>1</td>\n",
              "      <td>M</td>\n",
              "      <td>67.00</td>\n",
              "      <td>Others</td>\n",
              "      <td>91.00</td>\n",
              "      <td>Others</td>\n",
              "      <td>Commerce</td>\n",
              "      <td>58.00</td>\n",
              "      <td>Sci&amp;Tech</td>\n",
              "      <td>No</td>\n",
              "      <td>55.0</td>\n",
              "      <td>Mkt&amp;HR</td>\n",
              "      <td>58.80</td>\n",
              "      <td>Placed</td>\n",
              "      <td>270000.0</td>\n",
              "    </tr>\n",
              "    <tr>\n",
              "      <th>1</th>\n",
              "      <td>2</td>\n",
              "      <td>M</td>\n",
              "      <td>79.33</td>\n",
              "      <td>Central</td>\n",
              "      <td>78.33</td>\n",
              "      <td>Others</td>\n",
              "      <td>Science</td>\n",
              "      <td>77.48</td>\n",
              "      <td>Sci&amp;Tech</td>\n",
              "      <td>Yes</td>\n",
              "      <td>86.5</td>\n",
              "      <td>Mkt&amp;Fin</td>\n",
              "      <td>66.28</td>\n",
              "      <td>Placed</td>\n",
              "      <td>200000.0</td>\n",
              "    </tr>\n",
              "    <tr>\n",
              "      <th>2</th>\n",
              "      <td>3</td>\n",
              "      <td>M</td>\n",
              "      <td>65.00</td>\n",
              "      <td>Central</td>\n",
              "      <td>68.00</td>\n",
              "      <td>Central</td>\n",
              "      <td>Arts</td>\n",
              "      <td>64.00</td>\n",
              "      <td>Comm&amp;Mgmt</td>\n",
              "      <td>No</td>\n",
              "      <td>75.0</td>\n",
              "      <td>Mkt&amp;Fin</td>\n",
              "      <td>57.80</td>\n",
              "      <td>Placed</td>\n",
              "      <td>250000.0</td>\n",
              "    </tr>\n",
              "    <tr>\n",
              "      <th>3</th>\n",
              "      <td>4</td>\n",
              "      <td>M</td>\n",
              "      <td>56.00</td>\n",
              "      <td>Central</td>\n",
              "      <td>52.00</td>\n",
              "      <td>Central</td>\n",
              "      <td>Science</td>\n",
              "      <td>52.00</td>\n",
              "      <td>Sci&amp;Tech</td>\n",
              "      <td>No</td>\n",
              "      <td>66.0</td>\n",
              "      <td>Mkt&amp;HR</td>\n",
              "      <td>59.43</td>\n",
              "      <td>Not Placed</td>\n",
              "      <td>265000.0</td>\n",
              "    </tr>\n",
              "    <tr>\n",
              "      <th>4</th>\n",
              "      <td>5</td>\n",
              "      <td>M</td>\n",
              "      <td>85.80</td>\n",
              "      <td>Central</td>\n",
              "      <td>73.60</td>\n",
              "      <td>Central</td>\n",
              "      <td>Commerce</td>\n",
              "      <td>73.30</td>\n",
              "      <td>Comm&amp;Mgmt</td>\n",
              "      <td>No</td>\n",
              "      <td>96.8</td>\n",
              "      <td>Mkt&amp;Fin</td>\n",
              "      <td>55.50</td>\n",
              "      <td>Placed</td>\n",
              "      <td>425000.0</td>\n",
              "    </tr>\n",
              "  </tbody>\n",
              "</table>\n",
              "</div>\n",
              "      <button class=\"colab-df-convert\" onclick=\"convertToInteractive('df-99e7ef7c-414e-4a5b-a1cc-3480f3067fa1')\"\n",
              "              title=\"Convert this dataframe to an interactive table.\"\n",
              "              style=\"display:none;\">\n",
              "        \n",
              "  <svg xmlns=\"http://www.w3.org/2000/svg\" height=\"24px\"viewBox=\"0 0 24 24\"\n",
              "       width=\"24px\">\n",
              "    <path d=\"M0 0h24v24H0V0z\" fill=\"none\"/>\n",
              "    <path d=\"M18.56 5.44l.94 2.06.94-2.06 2.06-.94-2.06-.94-.94-2.06-.94 2.06-2.06.94zm-11 1L8.5 8.5l.94-2.06 2.06-.94-2.06-.94L8.5 2.5l-.94 2.06-2.06.94zm10 10l.94 2.06.94-2.06 2.06-.94-2.06-.94-.94-2.06-.94 2.06-2.06.94z\"/><path d=\"M17.41 7.96l-1.37-1.37c-.4-.4-.92-.59-1.43-.59-.52 0-1.04.2-1.43.59L10.3 9.45l-7.72 7.72c-.78.78-.78 2.05 0 2.83L4 21.41c.39.39.9.59 1.41.59.51 0 1.02-.2 1.41-.59l7.78-7.78 2.81-2.81c.8-.78.8-2.07 0-2.86zM5.41 20L4 18.59l7.72-7.72 1.47 1.35L5.41 20z\"/>\n",
              "  </svg>\n",
              "      </button>\n",
              "      \n",
              "  <style>\n",
              "    .colab-df-container {\n",
              "      display:flex;\n",
              "      flex-wrap:wrap;\n",
              "      gap: 12px;\n",
              "    }\n",
              "\n",
              "    .colab-df-convert {\n",
              "      background-color: #E8F0FE;\n",
              "      border: none;\n",
              "      border-radius: 50%;\n",
              "      cursor: pointer;\n",
              "      display: none;\n",
              "      fill: #1967D2;\n",
              "      height: 32px;\n",
              "      padding: 0 0 0 0;\n",
              "      width: 32px;\n",
              "    }\n",
              "\n",
              "    .colab-df-convert:hover {\n",
              "      background-color: #E2EBFA;\n",
              "      box-shadow: 0px 1px 2px rgba(60, 64, 67, 0.3), 0px 1px 3px 1px rgba(60, 64, 67, 0.15);\n",
              "      fill: #174EA6;\n",
              "    }\n",
              "\n",
              "    [theme=dark] .colab-df-convert {\n",
              "      background-color: #3B4455;\n",
              "      fill: #D2E3FC;\n",
              "    }\n",
              "\n",
              "    [theme=dark] .colab-df-convert:hover {\n",
              "      background-color: #434B5C;\n",
              "      box-shadow: 0px 1px 3px 1px rgba(0, 0, 0, 0.15);\n",
              "      filter: drop-shadow(0px 1px 2px rgba(0, 0, 0, 0.3));\n",
              "      fill: #FFFFFF;\n",
              "    }\n",
              "  </style>\n",
              "\n",
              "      <script>\n",
              "        const buttonEl =\n",
              "          document.querySelector('#df-99e7ef7c-414e-4a5b-a1cc-3480f3067fa1 button.colab-df-convert');\n",
              "        buttonEl.style.display =\n",
              "          google.colab.kernel.accessAllowed ? 'block' : 'none';\n",
              "\n",
              "        async function convertToInteractive(key) {\n",
              "          const element = document.querySelector('#df-99e7ef7c-414e-4a5b-a1cc-3480f3067fa1');\n",
              "          const dataTable =\n",
              "            await google.colab.kernel.invokeFunction('convertToInteractive',\n",
              "                                                     [key], {});\n",
              "          if (!dataTable) return;\n",
              "\n",
              "          const docLinkHtml = 'Like what you see? Visit the ' +\n",
              "            '<a target=\"_blank\" href=https://colab.research.google.com/notebooks/data_table.ipynb>data table notebook</a>'\n",
              "            + ' to learn more about interactive tables.';\n",
              "          element.innerHTML = '';\n",
              "          dataTable['output_type'] = 'display_data';\n",
              "          await google.colab.output.renderOutput(dataTable, element);\n",
              "          const docLink = document.createElement('div');\n",
              "          docLink.innerHTML = docLinkHtml;\n",
              "          element.appendChild(docLink);\n",
              "        }\n",
              "      </script>\n",
              "    </div>\n",
              "  </div>\n",
              "  "
            ]
          },
          "metadata": {},
          "execution_count": 10
        }
      ]
    },
    {
      "cell_type": "code",
      "source": [
        "dataset.isnull().sum()"
      ],
      "metadata": {
        "colab": {
          "base_uri": "https://localhost:8080/"
        },
        "id": "6UIvkfUn6deY",
        "outputId": "b0df96be-a503-4190-b5a2-dcb7f4a6f846"
      },
      "execution_count": 11,
      "outputs": [
        {
          "output_type": "execute_result",
          "data": {
            "text/plain": [
              "sl_no             0\n",
              "gender            0\n",
              "ssc_p             0\n",
              "ssc_b             0\n",
              "hsc_p             0\n",
              "hsc_b             0\n",
              "hsc_s             0\n",
              "degree_p          0\n",
              "degree_t          0\n",
              "workex            0\n",
              "etest_p           0\n",
              "specialisation    0\n",
              "mba_p             0\n",
              "status            0\n",
              "salary            0\n",
              "dtype: int64"
            ]
          },
          "metadata": {},
          "execution_count": 11
        }
      ]
    },
    {
      "cell_type": "code",
      "source": [
        "## droping method\n",
        "salary_dataset = pd.read_csv('/content/Placement_Dataset.csv')"
      ],
      "metadata": {
        "id": "EmPEaMff6i5A"
      },
      "execution_count": 12,
      "outputs": []
    },
    {
      "cell_type": "code",
      "source": [
        "## drop the missng value\n",
        "salary_dataset = salary_dataset.dropna(how = 'any')"
      ],
      "metadata": {
        "id": "PFOycSbJ7Rk_"
      },
      "execution_count": 13,
      "outputs": []
    },
    {
      "cell_type": "code",
      "source": [
        "salary_dataset.isnull().sum()"
      ],
      "metadata": {
        "colab": {
          "base_uri": "https://localhost:8080/"
        },
        "id": "r4ZeTuFD7iX5",
        "outputId": "d45f1359-2e65-4c4a-efac-85a0e96a3444"
      },
      "execution_count": 14,
      "outputs": [
        {
          "output_type": "execute_result",
          "data": {
            "text/plain": [
              "sl_no             0\n",
              "gender            0\n",
              "ssc_p             0\n",
              "ssc_b             0\n",
              "hsc_p             0\n",
              "hsc_b             0\n",
              "hsc_s             0\n",
              "degree_p          0\n",
              "degree_t          0\n",
              "workex            0\n",
              "etest_p           0\n",
              "specialisation    0\n",
              "mba_p             0\n",
              "status            0\n",
              "salary            0\n",
              "dtype: int64"
            ]
          },
          "metadata": {},
          "execution_count": 14
        }
      ]
    },
    {
      "cell_type": "code",
      "source": [
        "salary_dataset.shape"
      ],
      "metadata": {
        "colab": {
          "base_uri": "https://localhost:8080/"
        },
        "id": "7WfgW6KJ7nNs",
        "outputId": "3add2ed0-7055-414e-8dd3-6d551dbe248e"
      },
      "execution_count": 15,
      "outputs": [
        {
          "output_type": "execute_result",
          "data": {
            "text/plain": [
              "(148, 15)"
            ]
          },
          "metadata": {},
          "execution_count": 15
        }
      ]
    },
    {
      "cell_type": "markdown",
      "source": [
        "# Data standardization\n",
        "Data standardization is a process of transforming the values in a dataset to have a common scale. This is useful when comparing values that have different units or scales, or when working with algorithms that are sensitive to the scale of the input data.\n",
        "\n",
        "There are two common methods of standardizing data:\n",
        "\n",
        "- Min-Max Scaling: This method transforms the data to a scale between 0 and 1 by subtracting the minimum value from each data point and dividing by the range (maximum value minus minimum value).\n",
        "\n",
        "- Standardization: This method transforms the data to have a mean of 0 and a standard deviation of 1. The standardization is done by subtracting the mean from each data point and dividing by the standard deviation.\n",
        "\n",
        "Standardizing data can improve the performance of some machine learning algorithms and is often a required pre-processing step for many data analysis tasks. However, it's important to note that standardization can have an impact on the interpretation of the data and its relationship to other variables, so it's important to choose the appropriate method and carefully consider the implications of the transformation."
      ],
      "metadata": {
        "id": "N1r_y2p07u6V"
      }
    },
    {
      "cell_type": "code",
      "source": [
        "import numpy as np\n",
        "import pandas as pd\n",
        "import sklearn.datasets\n",
        "from sklearn.preprocessing import StandardScaler\n",
        "from sklearn.model_selection import train_test_split"
      ],
      "metadata": {
        "id": "Q88lyeWD7reX"
      },
      "execution_count": 16,
      "outputs": []
    },
    {
      "cell_type": "code",
      "source": [
        "# loading the datasets\n",
        "dataset = sklearn.datasets.load_breast_cancer()"
      ],
      "metadata": {
        "id": "XS4gWehO9VxX"
      },
      "execution_count": 17,
      "outputs": []
    },
    {
      "cell_type": "code",
      "source": [
        "print(dataset)"
      ],
      "metadata": {
        "colab": {
          "base_uri": "https://localhost:8080/"
        },
        "id": "Mxw_6x_w9e-F",
        "outputId": "013f2711-52e1-4e89-e219-3a68545758e9"
      },
      "execution_count": 18,
      "outputs": [
        {
          "output_type": "stream",
          "name": "stdout",
          "text": [
            "{'data': array([[1.799e+01, 1.038e+01, 1.228e+02, ..., 2.654e-01, 4.601e-01,\n",
            "        1.189e-01],\n",
            "       [2.057e+01, 1.777e+01, 1.329e+02, ..., 1.860e-01, 2.750e-01,\n",
            "        8.902e-02],\n",
            "       [1.969e+01, 2.125e+01, 1.300e+02, ..., 2.430e-01, 3.613e-01,\n",
            "        8.758e-02],\n",
            "       ...,\n",
            "       [1.660e+01, 2.808e+01, 1.083e+02, ..., 1.418e-01, 2.218e-01,\n",
            "        7.820e-02],\n",
            "       [2.060e+01, 2.933e+01, 1.401e+02, ..., 2.650e-01, 4.087e-01,\n",
            "        1.240e-01],\n",
            "       [7.760e+00, 2.454e+01, 4.792e+01, ..., 0.000e+00, 2.871e-01,\n",
            "        7.039e-02]]), 'target': array([0, 0, 0, 0, 0, 0, 0, 0, 0, 0, 0, 0, 0, 0, 0, 0, 0, 0, 0, 1, 1, 1,\n",
            "       0, 0, 0, 0, 0, 0, 0, 0, 0, 0, 0, 0, 0, 0, 0, 1, 0, 0, 0, 0, 0, 0,\n",
            "       0, 0, 1, 0, 1, 1, 1, 1, 1, 0, 0, 1, 0, 0, 1, 1, 1, 1, 0, 1, 0, 0,\n",
            "       1, 1, 1, 1, 0, 1, 0, 0, 1, 0, 1, 0, 0, 1, 1, 1, 0, 0, 1, 0, 0, 0,\n",
            "       1, 1, 1, 0, 1, 1, 0, 0, 1, 1, 1, 0, 0, 1, 1, 1, 1, 0, 1, 1, 0, 1,\n",
            "       1, 1, 1, 1, 1, 1, 1, 0, 0, 0, 1, 0, 0, 1, 1, 1, 0, 0, 1, 0, 1, 0,\n",
            "       0, 1, 0, 0, 1, 1, 0, 1, 1, 0, 1, 1, 1, 1, 0, 1, 1, 1, 1, 1, 1, 1,\n",
            "       1, 1, 0, 1, 1, 1, 1, 0, 0, 1, 0, 1, 1, 0, 0, 1, 1, 0, 0, 1, 1, 1,\n",
            "       1, 0, 1, 1, 0, 0, 0, 1, 0, 1, 0, 1, 1, 1, 0, 1, 1, 0, 0, 1, 0, 0,\n",
            "       0, 0, 1, 0, 0, 0, 1, 0, 1, 0, 1, 1, 0, 1, 0, 0, 0, 0, 1, 1, 0, 0,\n",
            "       1, 1, 1, 0, 1, 1, 1, 1, 1, 0, 0, 1, 1, 0, 1, 1, 0, 0, 1, 0, 1, 1,\n",
            "       1, 1, 0, 1, 1, 1, 1, 1, 0, 1, 0, 0, 0, 0, 0, 0, 0, 0, 0, 0, 0, 0,\n",
            "       0, 0, 1, 1, 1, 1, 1, 1, 0, 1, 0, 1, 1, 0, 1, 1, 0, 1, 0, 0, 1, 1,\n",
            "       1, 1, 1, 1, 1, 1, 1, 1, 1, 1, 1, 0, 1, 1, 0, 1, 0, 1, 1, 1, 1, 1,\n",
            "       1, 1, 1, 1, 1, 1, 1, 1, 1, 0, 1, 1, 1, 0, 1, 0, 1, 1, 1, 1, 0, 0,\n",
            "       0, 1, 1, 1, 1, 0, 1, 0, 1, 0, 1, 1, 1, 0, 1, 1, 1, 1, 1, 1, 1, 0,\n",
            "       0, 0, 1, 1, 1, 1, 1, 1, 1, 1, 1, 1, 1, 0, 0, 1, 0, 0, 0, 1, 0, 0,\n",
            "       1, 1, 1, 1, 1, 0, 1, 1, 1, 1, 1, 0, 1, 1, 1, 0, 1, 1, 0, 0, 1, 1,\n",
            "       1, 1, 1, 1, 0, 1, 1, 1, 1, 1, 1, 1, 0, 1, 1, 1, 1, 1, 0, 1, 1, 0,\n",
            "       1, 1, 1, 1, 1, 1, 1, 1, 1, 1, 1, 1, 0, 1, 0, 0, 1, 0, 1, 1, 1, 1,\n",
            "       1, 0, 1, 1, 0, 1, 0, 1, 1, 0, 1, 0, 1, 1, 1, 1, 1, 1, 1, 1, 0, 0,\n",
            "       1, 1, 1, 1, 1, 1, 0, 1, 1, 1, 1, 1, 1, 1, 1, 1, 1, 0, 1, 1, 1, 1,\n",
            "       1, 1, 1, 0, 1, 0, 1, 1, 0, 1, 1, 1, 1, 1, 0, 0, 1, 0, 1, 0, 1, 1,\n",
            "       1, 1, 1, 0, 1, 1, 0, 1, 0, 1, 0, 0, 1, 1, 1, 0, 1, 1, 1, 1, 1, 1,\n",
            "       1, 1, 1, 1, 1, 0, 1, 0, 0, 1, 1, 1, 1, 1, 1, 1, 1, 1, 1, 1, 1, 1,\n",
            "       1, 1, 1, 1, 1, 1, 1, 1, 1, 1, 1, 1, 0, 0, 0, 0, 0, 0, 1]), 'frame': None, 'target_names': array(['malignant', 'benign'], dtype='<U9'), 'DESCR': '.. _breast_cancer_dataset:\\n\\nBreast cancer wisconsin (diagnostic) dataset\\n--------------------------------------------\\n\\n**Data Set Characteristics:**\\n\\n    :Number of Instances: 569\\n\\n    :Number of Attributes: 30 numeric, predictive attributes and the class\\n\\n    :Attribute Information:\\n        - radius (mean of distances from center to points on the perimeter)\\n        - texture (standard deviation of gray-scale values)\\n        - perimeter\\n        - area\\n        - smoothness (local variation in radius lengths)\\n        - compactness (perimeter^2 / area - 1.0)\\n        - concavity (severity of concave portions of the contour)\\n        - concave points (number of concave portions of the contour)\\n        - symmetry\\n        - fractal dimension (\"coastline approximation\" - 1)\\n\\n        The mean, standard error, and \"worst\" or largest (mean of the three\\n        worst/largest values) of these features were computed for each image,\\n        resulting in 30 features.  For instance, field 0 is Mean Radius, field\\n        10 is Radius SE, field 20 is Worst Radius.\\n\\n        - class:\\n                - WDBC-Malignant\\n                - WDBC-Benign\\n\\n    :Summary Statistics:\\n\\n    ===================================== ====== ======\\n                                           Min    Max\\n    ===================================== ====== ======\\n    radius (mean):                        6.981  28.11\\n    texture (mean):                       9.71   39.28\\n    perimeter (mean):                     43.79  188.5\\n    area (mean):                          143.5  2501.0\\n    smoothness (mean):                    0.053  0.163\\n    compactness (mean):                   0.019  0.345\\n    concavity (mean):                     0.0    0.427\\n    concave points (mean):                0.0    0.201\\n    symmetry (mean):                      0.106  0.304\\n    fractal dimension (mean):             0.05   0.097\\n    radius (standard error):              0.112  2.873\\n    texture (standard error):             0.36   4.885\\n    perimeter (standard error):           0.757  21.98\\n    area (standard error):                6.802  542.2\\n    smoothness (standard error):          0.002  0.031\\n    compactness (standard error):         0.002  0.135\\n    concavity (standard error):           0.0    0.396\\n    concave points (standard error):      0.0    0.053\\n    symmetry (standard error):            0.008  0.079\\n    fractal dimension (standard error):   0.001  0.03\\n    radius (worst):                       7.93   36.04\\n    texture (worst):                      12.02  49.54\\n    perimeter (worst):                    50.41  251.2\\n    area (worst):                         185.2  4254.0\\n    smoothness (worst):                   0.071  0.223\\n    compactness (worst):                  0.027  1.058\\n    concavity (worst):                    0.0    1.252\\n    concave points (worst):               0.0    0.291\\n    symmetry (worst):                     0.156  0.664\\n    fractal dimension (worst):            0.055  0.208\\n    ===================================== ====== ======\\n\\n    :Missing Attribute Values: None\\n\\n    :Class Distribution: 212 - Malignant, 357 - Benign\\n\\n    :Creator:  Dr. William H. Wolberg, W. Nick Street, Olvi L. Mangasarian\\n\\n    :Donor: Nick Street\\n\\n    :Date: November, 1995\\n\\nThis is a copy of UCI ML Breast Cancer Wisconsin (Diagnostic) datasets.\\nhttps://goo.gl/U2Uwz2\\n\\nFeatures are computed from a digitized image of a fine needle\\naspirate (FNA) of a breast mass.  They describe\\ncharacteristics of the cell nuclei present in the image.\\n\\nSeparating plane described above was obtained using\\nMultisurface Method-Tree (MSM-T) [K. P. Bennett, \"Decision Tree\\nConstruction Via Linear Programming.\" Proceedings of the 4th\\nMidwest Artificial Intelligence and Cognitive Science Society,\\npp. 97-101, 1992], a classification method which uses linear\\nprogramming to construct a decision tree.  Relevant features\\nwere selected using an exhaustive search in the space of 1-4\\nfeatures and 1-3 separating planes.\\n\\nThe actual linear program used to obtain the separating plane\\nin the 3-dimensional space is that described in:\\n[K. P. Bennett and O. L. Mangasarian: \"Robust Linear\\nProgramming Discrimination of Two Linearly Inseparable Sets\",\\nOptimization Methods and Software 1, 1992, 23-34].\\n\\nThis database is also available through the UW CS ftp server:\\n\\nftp ftp.cs.wisc.edu\\ncd math-prog/cpo-dataset/machine-learn/WDBC/\\n\\n.. topic:: References\\n\\n   - W.N. Street, W.H. Wolberg and O.L. Mangasarian. Nuclear feature extraction \\n     for breast tumor diagnosis. IS&T/SPIE 1993 International Symposium on \\n     Electronic Imaging: Science and Technology, volume 1905, pages 861-870,\\n     San Jose, CA, 1993.\\n   - O.L. Mangasarian, W.N. Street and W.H. Wolberg. Breast cancer diagnosis and \\n     prognosis via linear programming. Operations Research, 43(4), pages 570-577, \\n     July-August 1995.\\n   - W.H. Wolberg, W.N. Street, and O.L. Mangasarian. Machine learning techniques\\n     to diagnose breast cancer from fine-needle aspirates. Cancer Letters 77 (1994) \\n     163-171.', 'feature_names': array(['mean radius', 'mean texture', 'mean perimeter', 'mean area',\n",
            "       'mean smoothness', 'mean compactness', 'mean concavity',\n",
            "       'mean concave points', 'mean symmetry', 'mean fractal dimension',\n",
            "       'radius error', 'texture error', 'perimeter error', 'area error',\n",
            "       'smoothness error', 'compactness error', 'concavity error',\n",
            "       'concave points error', 'symmetry error',\n",
            "       'fractal dimension error', 'worst radius', 'worst texture',\n",
            "       'worst perimeter', 'worst area', 'worst smoothness',\n",
            "       'worst compactness', 'worst concavity', 'worst concave points',\n",
            "       'worst symmetry', 'worst fractal dimension'], dtype='<U23'), 'filename': 'breast_cancer.csv', 'data_module': 'sklearn.datasets.data'}\n"
          ]
        }
      ]
    },
    {
      "cell_type": "code",
      "source": [
        "# loading the data to a pandas dataframe\n",
        "df = pd.DataFrame(dataset.data, columns=dataset.feature_names)"
      ],
      "metadata": {
        "id": "Bo0YB5Jw9hLo"
      },
      "execution_count": 21,
      "outputs": []
    },
    {
      "cell_type": "code",
      "source": [
        "df.head()"
      ],
      "metadata": {
        "colab": {
          "base_uri": "https://localhost:8080/",
          "height": 334
        },
        "id": "4UvFzVRJ-B1Y",
        "outputId": "9f7ef22e-ac73-48aa-d48e-18d460bd00fd"
      },
      "execution_count": 22,
      "outputs": [
        {
          "output_type": "execute_result",
          "data": {
            "text/plain": [
              "   mean radius  mean texture  mean perimeter  mean area  mean smoothness  \\\n",
              "0        17.99         10.38          122.80     1001.0          0.11840   \n",
              "1        20.57         17.77          132.90     1326.0          0.08474   \n",
              "2        19.69         21.25          130.00     1203.0          0.10960   \n",
              "3        11.42         20.38           77.58      386.1          0.14250   \n",
              "4        20.29         14.34          135.10     1297.0          0.10030   \n",
              "\n",
              "   mean compactness  mean concavity  mean concave points  mean symmetry  \\\n",
              "0           0.27760          0.3001              0.14710         0.2419   \n",
              "1           0.07864          0.0869              0.07017         0.1812   \n",
              "2           0.15990          0.1974              0.12790         0.2069   \n",
              "3           0.28390          0.2414              0.10520         0.2597   \n",
              "4           0.13280          0.1980              0.10430         0.1809   \n",
              "\n",
              "   mean fractal dimension  ...  worst radius  worst texture  worst perimeter  \\\n",
              "0                 0.07871  ...         25.38          17.33           184.60   \n",
              "1                 0.05667  ...         24.99          23.41           158.80   \n",
              "2                 0.05999  ...         23.57          25.53           152.50   \n",
              "3                 0.09744  ...         14.91          26.50            98.87   \n",
              "4                 0.05883  ...         22.54          16.67           152.20   \n",
              "\n",
              "   worst area  worst smoothness  worst compactness  worst concavity  \\\n",
              "0      2019.0            0.1622             0.6656           0.7119   \n",
              "1      1956.0            0.1238             0.1866           0.2416   \n",
              "2      1709.0            0.1444             0.4245           0.4504   \n",
              "3       567.7            0.2098             0.8663           0.6869   \n",
              "4      1575.0            0.1374             0.2050           0.4000   \n",
              "\n",
              "   worst concave points  worst symmetry  worst fractal dimension  \n",
              "0                0.2654          0.4601                  0.11890  \n",
              "1                0.1860          0.2750                  0.08902  \n",
              "2                0.2430          0.3613                  0.08758  \n",
              "3                0.2575          0.6638                  0.17300  \n",
              "4                0.1625          0.2364                  0.07678  \n",
              "\n",
              "[5 rows x 30 columns]"
            ],
            "text/html": [
              "\n",
              "  <div id=\"df-6e319284-6504-4ae9-ac73-facecfe736cf\">\n",
              "    <div class=\"colab-df-container\">\n",
              "      <div>\n",
              "<style scoped>\n",
              "    .dataframe tbody tr th:only-of-type {\n",
              "        vertical-align: middle;\n",
              "    }\n",
              "\n",
              "    .dataframe tbody tr th {\n",
              "        vertical-align: top;\n",
              "    }\n",
              "\n",
              "    .dataframe thead th {\n",
              "        text-align: right;\n",
              "    }\n",
              "</style>\n",
              "<table border=\"1\" class=\"dataframe\">\n",
              "  <thead>\n",
              "    <tr style=\"text-align: right;\">\n",
              "      <th></th>\n",
              "      <th>mean radius</th>\n",
              "      <th>mean texture</th>\n",
              "      <th>mean perimeter</th>\n",
              "      <th>mean area</th>\n",
              "      <th>mean smoothness</th>\n",
              "      <th>mean compactness</th>\n",
              "      <th>mean concavity</th>\n",
              "      <th>mean concave points</th>\n",
              "      <th>mean symmetry</th>\n",
              "      <th>mean fractal dimension</th>\n",
              "      <th>...</th>\n",
              "      <th>worst radius</th>\n",
              "      <th>worst texture</th>\n",
              "      <th>worst perimeter</th>\n",
              "      <th>worst area</th>\n",
              "      <th>worst smoothness</th>\n",
              "      <th>worst compactness</th>\n",
              "      <th>worst concavity</th>\n",
              "      <th>worst concave points</th>\n",
              "      <th>worst symmetry</th>\n",
              "      <th>worst fractal dimension</th>\n",
              "    </tr>\n",
              "  </thead>\n",
              "  <tbody>\n",
              "    <tr>\n",
              "      <th>0</th>\n",
              "      <td>17.99</td>\n",
              "      <td>10.38</td>\n",
              "      <td>122.80</td>\n",
              "      <td>1001.0</td>\n",
              "      <td>0.11840</td>\n",
              "      <td>0.27760</td>\n",
              "      <td>0.3001</td>\n",
              "      <td>0.14710</td>\n",
              "      <td>0.2419</td>\n",
              "      <td>0.07871</td>\n",
              "      <td>...</td>\n",
              "      <td>25.38</td>\n",
              "      <td>17.33</td>\n",
              "      <td>184.60</td>\n",
              "      <td>2019.0</td>\n",
              "      <td>0.1622</td>\n",
              "      <td>0.6656</td>\n",
              "      <td>0.7119</td>\n",
              "      <td>0.2654</td>\n",
              "      <td>0.4601</td>\n",
              "      <td>0.11890</td>\n",
              "    </tr>\n",
              "    <tr>\n",
              "      <th>1</th>\n",
              "      <td>20.57</td>\n",
              "      <td>17.77</td>\n",
              "      <td>132.90</td>\n",
              "      <td>1326.0</td>\n",
              "      <td>0.08474</td>\n",
              "      <td>0.07864</td>\n",
              "      <td>0.0869</td>\n",
              "      <td>0.07017</td>\n",
              "      <td>0.1812</td>\n",
              "      <td>0.05667</td>\n",
              "      <td>...</td>\n",
              "      <td>24.99</td>\n",
              "      <td>23.41</td>\n",
              "      <td>158.80</td>\n",
              "      <td>1956.0</td>\n",
              "      <td>0.1238</td>\n",
              "      <td>0.1866</td>\n",
              "      <td>0.2416</td>\n",
              "      <td>0.1860</td>\n",
              "      <td>0.2750</td>\n",
              "      <td>0.08902</td>\n",
              "    </tr>\n",
              "    <tr>\n",
              "      <th>2</th>\n",
              "      <td>19.69</td>\n",
              "      <td>21.25</td>\n",
              "      <td>130.00</td>\n",
              "      <td>1203.0</td>\n",
              "      <td>0.10960</td>\n",
              "      <td>0.15990</td>\n",
              "      <td>0.1974</td>\n",
              "      <td>0.12790</td>\n",
              "      <td>0.2069</td>\n",
              "      <td>0.05999</td>\n",
              "      <td>...</td>\n",
              "      <td>23.57</td>\n",
              "      <td>25.53</td>\n",
              "      <td>152.50</td>\n",
              "      <td>1709.0</td>\n",
              "      <td>0.1444</td>\n",
              "      <td>0.4245</td>\n",
              "      <td>0.4504</td>\n",
              "      <td>0.2430</td>\n",
              "      <td>0.3613</td>\n",
              "      <td>0.08758</td>\n",
              "    </tr>\n",
              "    <tr>\n",
              "      <th>3</th>\n",
              "      <td>11.42</td>\n",
              "      <td>20.38</td>\n",
              "      <td>77.58</td>\n",
              "      <td>386.1</td>\n",
              "      <td>0.14250</td>\n",
              "      <td>0.28390</td>\n",
              "      <td>0.2414</td>\n",
              "      <td>0.10520</td>\n",
              "      <td>0.2597</td>\n",
              "      <td>0.09744</td>\n",
              "      <td>...</td>\n",
              "      <td>14.91</td>\n",
              "      <td>26.50</td>\n",
              "      <td>98.87</td>\n",
              "      <td>567.7</td>\n",
              "      <td>0.2098</td>\n",
              "      <td>0.8663</td>\n",
              "      <td>0.6869</td>\n",
              "      <td>0.2575</td>\n",
              "      <td>0.6638</td>\n",
              "      <td>0.17300</td>\n",
              "    </tr>\n",
              "    <tr>\n",
              "      <th>4</th>\n",
              "      <td>20.29</td>\n",
              "      <td>14.34</td>\n",
              "      <td>135.10</td>\n",
              "      <td>1297.0</td>\n",
              "      <td>0.10030</td>\n",
              "      <td>0.13280</td>\n",
              "      <td>0.1980</td>\n",
              "      <td>0.10430</td>\n",
              "      <td>0.1809</td>\n",
              "      <td>0.05883</td>\n",
              "      <td>...</td>\n",
              "      <td>22.54</td>\n",
              "      <td>16.67</td>\n",
              "      <td>152.20</td>\n",
              "      <td>1575.0</td>\n",
              "      <td>0.1374</td>\n",
              "      <td>0.2050</td>\n",
              "      <td>0.4000</td>\n",
              "      <td>0.1625</td>\n",
              "      <td>0.2364</td>\n",
              "      <td>0.07678</td>\n",
              "    </tr>\n",
              "  </tbody>\n",
              "</table>\n",
              "<p>5 rows × 30 columns</p>\n",
              "</div>\n",
              "      <button class=\"colab-df-convert\" onclick=\"convertToInteractive('df-6e319284-6504-4ae9-ac73-facecfe736cf')\"\n",
              "              title=\"Convert this dataframe to an interactive table.\"\n",
              "              style=\"display:none;\">\n",
              "        \n",
              "  <svg xmlns=\"http://www.w3.org/2000/svg\" height=\"24px\"viewBox=\"0 0 24 24\"\n",
              "       width=\"24px\">\n",
              "    <path d=\"M0 0h24v24H0V0z\" fill=\"none\"/>\n",
              "    <path d=\"M18.56 5.44l.94 2.06.94-2.06 2.06-.94-2.06-.94-.94-2.06-.94 2.06-2.06.94zm-11 1L8.5 8.5l.94-2.06 2.06-.94-2.06-.94L8.5 2.5l-.94 2.06-2.06.94zm10 10l.94 2.06.94-2.06 2.06-.94-2.06-.94-.94-2.06-.94 2.06-2.06.94z\"/><path d=\"M17.41 7.96l-1.37-1.37c-.4-.4-.92-.59-1.43-.59-.52 0-1.04.2-1.43.59L10.3 9.45l-7.72 7.72c-.78.78-.78 2.05 0 2.83L4 21.41c.39.39.9.59 1.41.59.51 0 1.02-.2 1.41-.59l7.78-7.78 2.81-2.81c.8-.78.8-2.07 0-2.86zM5.41 20L4 18.59l7.72-7.72 1.47 1.35L5.41 20z\"/>\n",
              "  </svg>\n",
              "      </button>\n",
              "      \n",
              "  <style>\n",
              "    .colab-df-container {\n",
              "      display:flex;\n",
              "      flex-wrap:wrap;\n",
              "      gap: 12px;\n",
              "    }\n",
              "\n",
              "    .colab-df-convert {\n",
              "      background-color: #E8F0FE;\n",
              "      border: none;\n",
              "      border-radius: 50%;\n",
              "      cursor: pointer;\n",
              "      display: none;\n",
              "      fill: #1967D2;\n",
              "      height: 32px;\n",
              "      padding: 0 0 0 0;\n",
              "      width: 32px;\n",
              "    }\n",
              "\n",
              "    .colab-df-convert:hover {\n",
              "      background-color: #E2EBFA;\n",
              "      box-shadow: 0px 1px 2px rgba(60, 64, 67, 0.3), 0px 1px 3px 1px rgba(60, 64, 67, 0.15);\n",
              "      fill: #174EA6;\n",
              "    }\n",
              "\n",
              "    [theme=dark] .colab-df-convert {\n",
              "      background-color: #3B4455;\n",
              "      fill: #D2E3FC;\n",
              "    }\n",
              "\n",
              "    [theme=dark] .colab-df-convert:hover {\n",
              "      background-color: #434B5C;\n",
              "      box-shadow: 0px 1px 3px 1px rgba(0, 0, 0, 0.15);\n",
              "      filter: drop-shadow(0px 1px 2px rgba(0, 0, 0, 0.3));\n",
              "      fill: #FFFFFF;\n",
              "    }\n",
              "  </style>\n",
              "\n",
              "      <script>\n",
              "        const buttonEl =\n",
              "          document.querySelector('#df-6e319284-6504-4ae9-ac73-facecfe736cf button.colab-df-convert');\n",
              "        buttonEl.style.display =\n",
              "          google.colab.kernel.accessAllowed ? 'block' : 'none';\n",
              "\n",
              "        async function convertToInteractive(key) {\n",
              "          const element = document.querySelector('#df-6e319284-6504-4ae9-ac73-facecfe736cf');\n",
              "          const dataTable =\n",
              "            await google.colab.kernel.invokeFunction('convertToInteractive',\n",
              "                                                     [key], {});\n",
              "          if (!dataTable) return;\n",
              "\n",
              "          const docLinkHtml = 'Like what you see? Visit the ' +\n",
              "            '<a target=\"_blank\" href=https://colab.research.google.com/notebooks/data_table.ipynb>data table notebook</a>'\n",
              "            + ' to learn more about interactive tables.';\n",
              "          element.innerHTML = '';\n",
              "          dataTable['output_type'] = 'display_data';\n",
              "          await google.colab.output.renderOutput(dataTable, element);\n",
              "          const docLink = document.createElement('div');\n",
              "          docLink.innerHTML = docLinkHtml;\n",
              "          element.appendChild(docLink);\n",
              "        }\n",
              "      </script>\n",
              "    </div>\n",
              "  </div>\n",
              "  "
            ]
          },
          "metadata": {},
          "execution_count": 22
        }
      ]
    },
    {
      "cell_type": "code",
      "source": [
        "df.shape"
      ],
      "metadata": {
        "colab": {
          "base_uri": "https://localhost:8080/"
        },
        "id": "OZtQBc9d-KSS",
        "outputId": "450bbb8c-933e-44a9-a929-eac370e05926"
      },
      "execution_count": 23,
      "outputs": [
        {
          "output_type": "execute_result",
          "data": {
            "text/plain": [
              "(569, 30)"
            ]
          },
          "metadata": {},
          "execution_count": 23
        }
      ]
    },
    {
      "cell_type": "code",
      "source": [
        "X = df\n",
        "Y = dataset.target"
      ],
      "metadata": {
        "id": "djtviBwo-ZsF"
      },
      "execution_count": 27,
      "outputs": []
    },
    {
      "cell_type": "code",
      "source": [
        "print(X)"
      ],
      "metadata": {
        "colab": {
          "base_uri": "https://localhost:8080/"
        },
        "id": "t9R-fnIF-mw-",
        "outputId": "ce12b130-bb9b-4936-d6af-2485df965f0e"
      },
      "execution_count": 28,
      "outputs": [
        {
          "output_type": "stream",
          "name": "stdout",
          "text": [
            "     mean radius  mean texture  mean perimeter  mean area  mean smoothness  \\\n",
            "0          17.99         10.38          122.80     1001.0          0.11840   \n",
            "1          20.57         17.77          132.90     1326.0          0.08474   \n",
            "2          19.69         21.25          130.00     1203.0          0.10960   \n",
            "3          11.42         20.38           77.58      386.1          0.14250   \n",
            "4          20.29         14.34          135.10     1297.0          0.10030   \n",
            "..           ...           ...             ...        ...              ...   \n",
            "564        21.56         22.39          142.00     1479.0          0.11100   \n",
            "565        20.13         28.25          131.20     1261.0          0.09780   \n",
            "566        16.60         28.08          108.30      858.1          0.08455   \n",
            "567        20.60         29.33          140.10     1265.0          0.11780   \n",
            "568         7.76         24.54           47.92      181.0          0.05263   \n",
            "\n",
            "     mean compactness  mean concavity  mean concave points  mean symmetry  \\\n",
            "0             0.27760         0.30010              0.14710         0.2419   \n",
            "1             0.07864         0.08690              0.07017         0.1812   \n",
            "2             0.15990         0.19740              0.12790         0.2069   \n",
            "3             0.28390         0.24140              0.10520         0.2597   \n",
            "4             0.13280         0.19800              0.10430         0.1809   \n",
            "..                ...             ...                  ...            ...   \n",
            "564           0.11590         0.24390              0.13890         0.1726   \n",
            "565           0.10340         0.14400              0.09791         0.1752   \n",
            "566           0.10230         0.09251              0.05302         0.1590   \n",
            "567           0.27700         0.35140              0.15200         0.2397   \n",
            "568           0.04362         0.00000              0.00000         0.1587   \n",
            "\n",
            "     mean fractal dimension  ...  worst radius  worst texture  \\\n",
            "0                   0.07871  ...        25.380          17.33   \n",
            "1                   0.05667  ...        24.990          23.41   \n",
            "2                   0.05999  ...        23.570          25.53   \n",
            "3                   0.09744  ...        14.910          26.50   \n",
            "4                   0.05883  ...        22.540          16.67   \n",
            "..                      ...  ...           ...            ...   \n",
            "564                 0.05623  ...        25.450          26.40   \n",
            "565                 0.05533  ...        23.690          38.25   \n",
            "566                 0.05648  ...        18.980          34.12   \n",
            "567                 0.07016  ...        25.740          39.42   \n",
            "568                 0.05884  ...         9.456          30.37   \n",
            "\n",
            "     worst perimeter  worst area  worst smoothness  worst compactness  \\\n",
            "0             184.60      2019.0           0.16220            0.66560   \n",
            "1             158.80      1956.0           0.12380            0.18660   \n",
            "2             152.50      1709.0           0.14440            0.42450   \n",
            "3              98.87       567.7           0.20980            0.86630   \n",
            "4             152.20      1575.0           0.13740            0.20500   \n",
            "..               ...         ...               ...                ...   \n",
            "564           166.10      2027.0           0.14100            0.21130   \n",
            "565           155.00      1731.0           0.11660            0.19220   \n",
            "566           126.70      1124.0           0.11390            0.30940   \n",
            "567           184.60      1821.0           0.16500            0.86810   \n",
            "568            59.16       268.6           0.08996            0.06444   \n",
            "\n",
            "     worst concavity  worst concave points  worst symmetry  \\\n",
            "0             0.7119                0.2654          0.4601   \n",
            "1             0.2416                0.1860          0.2750   \n",
            "2             0.4504                0.2430          0.3613   \n",
            "3             0.6869                0.2575          0.6638   \n",
            "4             0.4000                0.1625          0.2364   \n",
            "..               ...                   ...             ...   \n",
            "564           0.4107                0.2216          0.2060   \n",
            "565           0.3215                0.1628          0.2572   \n",
            "566           0.3403                0.1418          0.2218   \n",
            "567           0.9387                0.2650          0.4087   \n",
            "568           0.0000                0.0000          0.2871   \n",
            "\n",
            "     worst fractal dimension  \n",
            "0                    0.11890  \n",
            "1                    0.08902  \n",
            "2                    0.08758  \n",
            "3                    0.17300  \n",
            "4                    0.07678  \n",
            "..                       ...  \n",
            "564                  0.07115  \n",
            "565                  0.06637  \n",
            "566                  0.07820  \n",
            "567                  0.12400  \n",
            "568                  0.07039  \n",
            "\n",
            "[569 rows x 30 columns]\n"
          ]
        }
      ]
    },
    {
      "cell_type": "markdown",
      "source": [
        "Splitting the data into training data and test data\n"
      ],
      "metadata": {
        "id": "0xHH8X5p-ykU"
      }
    },
    {
      "cell_type": "code",
      "source": [
        "X_train, X_test, Y_train, Y_test = train_test_split(X,Y, test_size=0.2, random_state=3)"
      ],
      "metadata": {
        "id": "HTAw4CQ0-vSl"
      },
      "execution_count": 29,
      "outputs": []
    },
    {
      "cell_type": "code",
      "source": [
        "print(X.shape,X_train.shape, X_test.shape)"
      ],
      "metadata": {
        "colab": {
          "base_uri": "https://localhost:8080/"
        },
        "id": "PlHlBdH-_7dg",
        "outputId": "2a306bc2-acbc-4146-c571-e63640f6e09d"
      },
      "execution_count": 30,
      "outputs": [
        {
          "output_type": "stream",
          "name": "stdout",
          "text": [
            "(569, 30) (455, 30) (114, 30)\n"
          ]
        }
      ]
    },
    {
      "cell_type": "markdown",
      "source": [
        "Standardize the data"
      ],
      "metadata": {
        "id": "ZyR5XatbAFgG"
      }
    },
    {
      "cell_type": "code",
      "source": [
        "print(dataset.data.std())"
      ],
      "metadata": {
        "colab": {
          "base_uri": "https://localhost:8080/"
        },
        "id": "4sS0teSmABL2",
        "outputId": "426de60a-23c7-46be-cefb-a993e239ce6f"
      },
      "execution_count": 31,
      "outputs": [
        {
          "output_type": "stream",
          "name": "stdout",
          "text": [
            "228.29740508276657\n"
          ]
        }
      ]
    },
    {
      "cell_type": "code",
      "source": [
        "scaler = StandardScaler()"
      ],
      "metadata": {
        "id": "R8E9Llv5ANTl"
      },
      "execution_count": 32,
      "outputs": []
    },
    {
      "cell_type": "code",
      "source": [
        "scaler.fit(X_train)"
      ],
      "metadata": {
        "colab": {
          "base_uri": "https://localhost:8080/"
        },
        "id": "3cCYbS3_AlP9",
        "outputId": "ab4849dd-c7d4-49dc-9350-87a7f17f45a8"
      },
      "execution_count": 33,
      "outputs": [
        {
          "output_type": "execute_result",
          "data": {
            "text/plain": [
              "StandardScaler()"
            ]
          },
          "metadata": {},
          "execution_count": 33
        }
      ]
    },
    {
      "cell_type": "code",
      "source": [
        "X_train_standardized = scaler.transform(X_train)"
      ],
      "metadata": {
        "id": "oMRxNGq0AokD"
      },
      "execution_count": 34,
      "outputs": []
    },
    {
      "cell_type": "code",
      "source": [
        "print(X_train_standardized)"
      ],
      "metadata": {
        "colab": {
          "base_uri": "https://localhost:8080/"
        },
        "id": "pZyqg-cZAzTl",
        "outputId": "a110763d-4a8b-401a-8413-b3ce0a08fe26"
      },
      "execution_count": 35,
      "outputs": [
        {
          "output_type": "stream",
          "name": "stdout",
          "text": [
            "[[ 1.40381088  1.79283426  1.37960065 ...  1.044121    0.52295995\n",
            "   0.64990763]\n",
            " [ 1.16565505 -0.14461158  1.07121375 ...  0.5940779   0.44153782\n",
            "  -0.85281516]\n",
            " [-0.0307278  -0.77271123 -0.09822185 ... -0.64047556 -0.31161687\n",
            "  -0.69292805]\n",
            " ...\n",
            " [ 1.06478904  0.20084323  0.89267396 ...  0.01694621  3.06583565\n",
            "  -1.29952679]\n",
            " [ 1.51308238  2.3170559   1.67987211 ...  1.14728703 -0.16599653\n",
            "   0.82816016]\n",
            " [-0.73678981 -1.02636686 -0.74380549 ... -0.31826862 -0.40713129\n",
            "  -0.38233653]]\n"
          ]
        }
      ]
    },
    {
      "cell_type": "code",
      "source": [
        "X_test_standardized = scaler.transform(X_test)"
      ],
      "metadata": {
        "id": "6G5QH0vdA34h"
      },
      "execution_count": 36,
      "outputs": []
    },
    {
      "cell_type": "code",
      "source": [
        "print(X_train_standardized.std())"
      ],
      "metadata": {
        "colab": {
          "base_uri": "https://localhost:8080/"
        },
        "id": "e-_ejOv8BGU0",
        "outputId": "643e1cdb-b62c-454b-ef50-2ce3c0e8684a"
      },
      "execution_count": 38,
      "outputs": [
        {
          "output_type": "stream",
          "name": "stdout",
          "text": [
            "1.0\n"
          ]
        }
      ]
    },
    {
      "cell_type": "code",
      "source": [
        "print(X_test_standardized.std())"
      ],
      "metadata": {
        "colab": {
          "base_uri": "https://localhost:8080/"
        },
        "id": "qqjTeAf8BMY6",
        "outputId": "1e39e7b9-3a7f-4f81-e1b2-067d1de645db"
      },
      "execution_count": 40,
      "outputs": [
        {
          "output_type": "stream",
          "name": "stdout",
          "text": [
            "0.8654541077212674\n"
          ]
        }
      ]
    },
    {
      "cell_type": "markdown",
      "source": [
        "# Label Encoding\n",
        "Label Encoding is a method of transforming categorical variables into numerical values. This is done by assigning a unique numerical value to each category in a categorical variable. The transformed variables can then be used as input to machine learning algorithms, which typically require numerical input data.\n",
        "\n",
        "For example, suppose we have a categorical variable \"color\" with three categories: red, green, and blue. Label encoding would transform these categories into numerical values, such as red=1, green=2, blue=3.\n",
        "\n",
        "Label encoding is a simple method, but it has some drawbacks. For example, it can introduce an arbitrary ordering of the categories that may not reflect any underlying relationship. Additionally, algorithms such as linear regression can assign different weights to the encoded categories, which can lead to biased results.\n",
        "\n",
        "To overcome these limitations, another encoding method called One-Hot Encoding is often used, which creates a separate binary column for each category and assigns a value of 1 or 0 to indicate the presence or absence of that category in a particular row. This method does not introduce any arbitrary ordering of the categories and is often used with algorithms that can handle sparse data, such as decision trees and neural networks."
      ],
      "metadata": {
        "id": "Qvkwi4rYBdtZ"
      }
    },
    {
      "cell_type": "code",
      "source": [
        " # importing the dependencies\n",
        " import pandas as pd\n",
        " from sklearn.preprocessing import LabelEncoder"
      ],
      "metadata": {
        "id": "IviqsgL7BTzT"
      },
      "execution_count": 41,
      "outputs": []
    },
    {
      "cell_type": "markdown",
      "source": [
        "Label encoding of bread cancer dataset"
      ],
      "metadata": {
        "id": "EKJt1H3ZC8Kq"
      }
    },
    {
      "cell_type": "code",
      "source": [
        "# loading a data from csv file to pandas dataframe\n",
        "cancer_data = pd.read_csv('/content/breast_cancer_data.csv')"
      ],
      "metadata": {
        "id": "dzrzQUc-C6bJ"
      },
      "execution_count": 42,
      "outputs": []
    },
    {
      "cell_type": "code",
      "source": [
        "cancer_data.head()"
      ],
      "metadata": {
        "colab": {
          "base_uri": "https://localhost:8080/",
          "height": 317
        },
        "id": "Sy6AI_rIDNFV",
        "outputId": "026340f9-d881-44cf-8ad0-3555bee5cf30"
      },
      "execution_count": 43,
      "outputs": [
        {
          "output_type": "execute_result",
          "data": {
            "text/plain": [
              "         id diagnosis  radius_mean  texture_mean  perimeter_mean  area_mean  \\\n",
              "0    842302         M        17.99         10.38          122.80     1001.0   \n",
              "1    842517         M        20.57         17.77          132.90     1326.0   \n",
              "2  84300903         M        19.69         21.25          130.00     1203.0   \n",
              "3  84348301         M        11.42         20.38           77.58      386.1   \n",
              "4  84358402         M        20.29         14.34          135.10     1297.0   \n",
              "\n",
              "   smoothness_mean  compactness_mean  concavity_mean  concave points_mean  \\\n",
              "0          0.11840           0.27760          0.3001              0.14710   \n",
              "1          0.08474           0.07864          0.0869              0.07017   \n",
              "2          0.10960           0.15990          0.1974              0.12790   \n",
              "3          0.14250           0.28390          0.2414              0.10520   \n",
              "4          0.10030           0.13280          0.1980              0.10430   \n",
              "\n",
              "   ...  texture_worst  perimeter_worst  area_worst  smoothness_worst  \\\n",
              "0  ...          17.33           184.60      2019.0            0.1622   \n",
              "1  ...          23.41           158.80      1956.0            0.1238   \n",
              "2  ...          25.53           152.50      1709.0            0.1444   \n",
              "3  ...          26.50            98.87       567.7            0.2098   \n",
              "4  ...          16.67           152.20      1575.0            0.1374   \n",
              "\n",
              "   compactness_worst  concavity_worst  concave points_worst  symmetry_worst  \\\n",
              "0             0.6656           0.7119                0.2654          0.4601   \n",
              "1             0.1866           0.2416                0.1860          0.2750   \n",
              "2             0.4245           0.4504                0.2430          0.3613   \n",
              "3             0.8663           0.6869                0.2575          0.6638   \n",
              "4             0.2050           0.4000                0.1625          0.2364   \n",
              "\n",
              "   fractal_dimension_worst  Unnamed: 32  \n",
              "0                  0.11890          NaN  \n",
              "1                  0.08902          NaN  \n",
              "2                  0.08758          NaN  \n",
              "3                  0.17300          NaN  \n",
              "4                  0.07678          NaN  \n",
              "\n",
              "[5 rows x 33 columns]"
            ],
            "text/html": [
              "\n",
              "  <div id=\"df-0b70d024-8b20-4d6d-a1dc-6de676ccf82b\">\n",
              "    <div class=\"colab-df-container\">\n",
              "      <div>\n",
              "<style scoped>\n",
              "    .dataframe tbody tr th:only-of-type {\n",
              "        vertical-align: middle;\n",
              "    }\n",
              "\n",
              "    .dataframe tbody tr th {\n",
              "        vertical-align: top;\n",
              "    }\n",
              "\n",
              "    .dataframe thead th {\n",
              "        text-align: right;\n",
              "    }\n",
              "</style>\n",
              "<table border=\"1\" class=\"dataframe\">\n",
              "  <thead>\n",
              "    <tr style=\"text-align: right;\">\n",
              "      <th></th>\n",
              "      <th>id</th>\n",
              "      <th>diagnosis</th>\n",
              "      <th>radius_mean</th>\n",
              "      <th>texture_mean</th>\n",
              "      <th>perimeter_mean</th>\n",
              "      <th>area_mean</th>\n",
              "      <th>smoothness_mean</th>\n",
              "      <th>compactness_mean</th>\n",
              "      <th>concavity_mean</th>\n",
              "      <th>concave points_mean</th>\n",
              "      <th>...</th>\n",
              "      <th>texture_worst</th>\n",
              "      <th>perimeter_worst</th>\n",
              "      <th>area_worst</th>\n",
              "      <th>smoothness_worst</th>\n",
              "      <th>compactness_worst</th>\n",
              "      <th>concavity_worst</th>\n",
              "      <th>concave points_worst</th>\n",
              "      <th>symmetry_worst</th>\n",
              "      <th>fractal_dimension_worst</th>\n",
              "      <th>Unnamed: 32</th>\n",
              "    </tr>\n",
              "  </thead>\n",
              "  <tbody>\n",
              "    <tr>\n",
              "      <th>0</th>\n",
              "      <td>842302</td>\n",
              "      <td>M</td>\n",
              "      <td>17.99</td>\n",
              "      <td>10.38</td>\n",
              "      <td>122.80</td>\n",
              "      <td>1001.0</td>\n",
              "      <td>0.11840</td>\n",
              "      <td>0.27760</td>\n",
              "      <td>0.3001</td>\n",
              "      <td>0.14710</td>\n",
              "      <td>...</td>\n",
              "      <td>17.33</td>\n",
              "      <td>184.60</td>\n",
              "      <td>2019.0</td>\n",
              "      <td>0.1622</td>\n",
              "      <td>0.6656</td>\n",
              "      <td>0.7119</td>\n",
              "      <td>0.2654</td>\n",
              "      <td>0.4601</td>\n",
              "      <td>0.11890</td>\n",
              "      <td>NaN</td>\n",
              "    </tr>\n",
              "    <tr>\n",
              "      <th>1</th>\n",
              "      <td>842517</td>\n",
              "      <td>M</td>\n",
              "      <td>20.57</td>\n",
              "      <td>17.77</td>\n",
              "      <td>132.90</td>\n",
              "      <td>1326.0</td>\n",
              "      <td>0.08474</td>\n",
              "      <td>0.07864</td>\n",
              "      <td>0.0869</td>\n",
              "      <td>0.07017</td>\n",
              "      <td>...</td>\n",
              "      <td>23.41</td>\n",
              "      <td>158.80</td>\n",
              "      <td>1956.0</td>\n",
              "      <td>0.1238</td>\n",
              "      <td>0.1866</td>\n",
              "      <td>0.2416</td>\n",
              "      <td>0.1860</td>\n",
              "      <td>0.2750</td>\n",
              "      <td>0.08902</td>\n",
              "      <td>NaN</td>\n",
              "    </tr>\n",
              "    <tr>\n",
              "      <th>2</th>\n",
              "      <td>84300903</td>\n",
              "      <td>M</td>\n",
              "      <td>19.69</td>\n",
              "      <td>21.25</td>\n",
              "      <td>130.00</td>\n",
              "      <td>1203.0</td>\n",
              "      <td>0.10960</td>\n",
              "      <td>0.15990</td>\n",
              "      <td>0.1974</td>\n",
              "      <td>0.12790</td>\n",
              "      <td>...</td>\n",
              "      <td>25.53</td>\n",
              "      <td>152.50</td>\n",
              "      <td>1709.0</td>\n",
              "      <td>0.1444</td>\n",
              "      <td>0.4245</td>\n",
              "      <td>0.4504</td>\n",
              "      <td>0.2430</td>\n",
              "      <td>0.3613</td>\n",
              "      <td>0.08758</td>\n",
              "      <td>NaN</td>\n",
              "    </tr>\n",
              "    <tr>\n",
              "      <th>3</th>\n",
              "      <td>84348301</td>\n",
              "      <td>M</td>\n",
              "      <td>11.42</td>\n",
              "      <td>20.38</td>\n",
              "      <td>77.58</td>\n",
              "      <td>386.1</td>\n",
              "      <td>0.14250</td>\n",
              "      <td>0.28390</td>\n",
              "      <td>0.2414</td>\n",
              "      <td>0.10520</td>\n",
              "      <td>...</td>\n",
              "      <td>26.50</td>\n",
              "      <td>98.87</td>\n",
              "      <td>567.7</td>\n",
              "      <td>0.2098</td>\n",
              "      <td>0.8663</td>\n",
              "      <td>0.6869</td>\n",
              "      <td>0.2575</td>\n",
              "      <td>0.6638</td>\n",
              "      <td>0.17300</td>\n",
              "      <td>NaN</td>\n",
              "    </tr>\n",
              "    <tr>\n",
              "      <th>4</th>\n",
              "      <td>84358402</td>\n",
              "      <td>M</td>\n",
              "      <td>20.29</td>\n",
              "      <td>14.34</td>\n",
              "      <td>135.10</td>\n",
              "      <td>1297.0</td>\n",
              "      <td>0.10030</td>\n",
              "      <td>0.13280</td>\n",
              "      <td>0.1980</td>\n",
              "      <td>0.10430</td>\n",
              "      <td>...</td>\n",
              "      <td>16.67</td>\n",
              "      <td>152.20</td>\n",
              "      <td>1575.0</td>\n",
              "      <td>0.1374</td>\n",
              "      <td>0.2050</td>\n",
              "      <td>0.4000</td>\n",
              "      <td>0.1625</td>\n",
              "      <td>0.2364</td>\n",
              "      <td>0.07678</td>\n",
              "      <td>NaN</td>\n",
              "    </tr>\n",
              "  </tbody>\n",
              "</table>\n",
              "<p>5 rows × 33 columns</p>\n",
              "</div>\n",
              "      <button class=\"colab-df-convert\" onclick=\"convertToInteractive('df-0b70d024-8b20-4d6d-a1dc-6de676ccf82b')\"\n",
              "              title=\"Convert this dataframe to an interactive table.\"\n",
              "              style=\"display:none;\">\n",
              "        \n",
              "  <svg xmlns=\"http://www.w3.org/2000/svg\" height=\"24px\"viewBox=\"0 0 24 24\"\n",
              "       width=\"24px\">\n",
              "    <path d=\"M0 0h24v24H0V0z\" fill=\"none\"/>\n",
              "    <path d=\"M18.56 5.44l.94 2.06.94-2.06 2.06-.94-2.06-.94-.94-2.06-.94 2.06-2.06.94zm-11 1L8.5 8.5l.94-2.06 2.06-.94-2.06-.94L8.5 2.5l-.94 2.06-2.06.94zm10 10l.94 2.06.94-2.06 2.06-.94-2.06-.94-.94-2.06-.94 2.06-2.06.94z\"/><path d=\"M17.41 7.96l-1.37-1.37c-.4-.4-.92-.59-1.43-.59-.52 0-1.04.2-1.43.59L10.3 9.45l-7.72 7.72c-.78.78-.78 2.05 0 2.83L4 21.41c.39.39.9.59 1.41.59.51 0 1.02-.2 1.41-.59l7.78-7.78 2.81-2.81c.8-.78.8-2.07 0-2.86zM5.41 20L4 18.59l7.72-7.72 1.47 1.35L5.41 20z\"/>\n",
              "  </svg>\n",
              "      </button>\n",
              "      \n",
              "  <style>\n",
              "    .colab-df-container {\n",
              "      display:flex;\n",
              "      flex-wrap:wrap;\n",
              "      gap: 12px;\n",
              "    }\n",
              "\n",
              "    .colab-df-convert {\n",
              "      background-color: #E8F0FE;\n",
              "      border: none;\n",
              "      border-radius: 50%;\n",
              "      cursor: pointer;\n",
              "      display: none;\n",
              "      fill: #1967D2;\n",
              "      height: 32px;\n",
              "      padding: 0 0 0 0;\n",
              "      width: 32px;\n",
              "    }\n",
              "\n",
              "    .colab-df-convert:hover {\n",
              "      background-color: #E2EBFA;\n",
              "      box-shadow: 0px 1px 2px rgba(60, 64, 67, 0.3), 0px 1px 3px 1px rgba(60, 64, 67, 0.15);\n",
              "      fill: #174EA6;\n",
              "    }\n",
              "\n",
              "    [theme=dark] .colab-df-convert {\n",
              "      background-color: #3B4455;\n",
              "      fill: #D2E3FC;\n",
              "    }\n",
              "\n",
              "    [theme=dark] .colab-df-convert:hover {\n",
              "      background-color: #434B5C;\n",
              "      box-shadow: 0px 1px 3px 1px rgba(0, 0, 0, 0.15);\n",
              "      filter: drop-shadow(0px 1px 2px rgba(0, 0, 0, 0.3));\n",
              "      fill: #FFFFFF;\n",
              "    }\n",
              "  </style>\n",
              "\n",
              "      <script>\n",
              "        const buttonEl =\n",
              "          document.querySelector('#df-0b70d024-8b20-4d6d-a1dc-6de676ccf82b button.colab-df-convert');\n",
              "        buttonEl.style.display =\n",
              "          google.colab.kernel.accessAllowed ? 'block' : 'none';\n",
              "\n",
              "        async function convertToInteractive(key) {\n",
              "          const element = document.querySelector('#df-0b70d024-8b20-4d6d-a1dc-6de676ccf82b');\n",
              "          const dataTable =\n",
              "            await google.colab.kernel.invokeFunction('convertToInteractive',\n",
              "                                                     [key], {});\n",
              "          if (!dataTable) return;\n",
              "\n",
              "          const docLinkHtml = 'Like what you see? Visit the ' +\n",
              "            '<a target=\"_blank\" href=https://colab.research.google.com/notebooks/data_table.ipynb>data table notebook</a>'\n",
              "            + ' to learn more about interactive tables.';\n",
              "          element.innerHTML = '';\n",
              "          dataTable['output_type'] = 'display_data';\n",
              "          await google.colab.output.renderOutput(dataTable, element);\n",
              "          const docLink = document.createElement('div');\n",
              "          docLink.innerHTML = docLinkHtml;\n",
              "          element.appendChild(docLink);\n",
              "        }\n",
              "      </script>\n",
              "    </div>\n",
              "  </div>\n",
              "  "
            ]
          },
          "metadata": {},
          "execution_count": 43
        }
      ]
    },
    {
      "cell_type": "code",
      "source": [
        "cancer_data.shape"
      ],
      "metadata": {
        "colab": {
          "base_uri": "https://localhost:8080/"
        },
        "id": "m_xaARa3DQPE",
        "outputId": "c5a93ace-a40c-47d6-d26e-f69f19ceb698"
      },
      "execution_count": 45,
      "outputs": [
        {
          "output_type": "execute_result",
          "data": {
            "text/plain": [
              "(569, 33)"
            ]
          },
          "metadata": {},
          "execution_count": 45
        }
      ]
    },
    {
      "cell_type": "code",
      "source": [
        "# finding the count of different labels\n",
        "cancer_data['diagnosis'].value_counts()"
      ],
      "metadata": {
        "colab": {
          "base_uri": "https://localhost:8080/"
        },
        "id": "lOGpqH4fDWg4",
        "outputId": "6798e721-0d76-4944-db8a-a599d4c3d735"
      },
      "execution_count": 48,
      "outputs": [
        {
          "output_type": "execute_result",
          "data": {
            "text/plain": [
              "B    357\n",
              "M    212\n",
              "Name: diagnosis, dtype: int64"
            ]
          },
          "metadata": {},
          "execution_count": 48
        }
      ]
    },
    {
      "cell_type": "code",
      "source": [
        "# load the label encoder function\n",
        "label_encode = LabelEncoder()"
      ],
      "metadata": {
        "id": "MI0ib-kvDtxl"
      },
      "execution_count": 49,
      "outputs": []
    },
    {
      "cell_type": "code",
      "source": [
        "labels = label_encode.fit_transform(cancer_data.diagnosis)"
      ],
      "metadata": {
        "id": "T_ESKPJ7D-RP"
      },
      "execution_count": 50,
      "outputs": []
    },
    {
      "cell_type": "code",
      "source": [
        "## apending the label to the dataframe\n",
        "cancer_data['target']= labels"
      ],
      "metadata": {
        "id": "rVzRiVE2ENvZ"
      },
      "execution_count": 51,
      "outputs": []
    },
    {
      "cell_type": "code",
      "source": [
        "cancer_data.head()"
      ],
      "metadata": {
        "colab": {
          "base_uri": "https://localhost:8080/",
          "height": 317
        },
        "id": "qX2ivL_NEVuk",
        "outputId": "d45d9e7e-bf57-4569-d81d-08b9b99501aa"
      },
      "execution_count": 52,
      "outputs": [
        {
          "output_type": "execute_result",
          "data": {
            "text/plain": [
              "         id diagnosis  radius_mean  texture_mean  perimeter_mean  area_mean  \\\n",
              "0    842302         M        17.99         10.38          122.80     1001.0   \n",
              "1    842517         M        20.57         17.77          132.90     1326.0   \n",
              "2  84300903         M        19.69         21.25          130.00     1203.0   \n",
              "3  84348301         M        11.42         20.38           77.58      386.1   \n",
              "4  84358402         M        20.29         14.34          135.10     1297.0   \n",
              "\n",
              "   smoothness_mean  compactness_mean  concavity_mean  concave points_mean  \\\n",
              "0          0.11840           0.27760          0.3001              0.14710   \n",
              "1          0.08474           0.07864          0.0869              0.07017   \n",
              "2          0.10960           0.15990          0.1974              0.12790   \n",
              "3          0.14250           0.28390          0.2414              0.10520   \n",
              "4          0.10030           0.13280          0.1980              0.10430   \n",
              "\n",
              "   ...  perimeter_worst  area_worst  smoothness_worst  compactness_worst  \\\n",
              "0  ...           184.60      2019.0            0.1622             0.6656   \n",
              "1  ...           158.80      1956.0            0.1238             0.1866   \n",
              "2  ...           152.50      1709.0            0.1444             0.4245   \n",
              "3  ...            98.87       567.7            0.2098             0.8663   \n",
              "4  ...           152.20      1575.0            0.1374             0.2050   \n",
              "\n",
              "   concavity_worst  concave points_worst  symmetry_worst  \\\n",
              "0           0.7119                0.2654          0.4601   \n",
              "1           0.2416                0.1860          0.2750   \n",
              "2           0.4504                0.2430          0.3613   \n",
              "3           0.6869                0.2575          0.6638   \n",
              "4           0.4000                0.1625          0.2364   \n",
              "\n",
              "   fractal_dimension_worst  Unnamed: 32  target  \n",
              "0                  0.11890          NaN       1  \n",
              "1                  0.08902          NaN       1  \n",
              "2                  0.08758          NaN       1  \n",
              "3                  0.17300          NaN       1  \n",
              "4                  0.07678          NaN       1  \n",
              "\n",
              "[5 rows x 34 columns]"
            ],
            "text/html": [
              "\n",
              "  <div id=\"df-cc094947-681b-4653-848c-389b07c64827\">\n",
              "    <div class=\"colab-df-container\">\n",
              "      <div>\n",
              "<style scoped>\n",
              "    .dataframe tbody tr th:only-of-type {\n",
              "        vertical-align: middle;\n",
              "    }\n",
              "\n",
              "    .dataframe tbody tr th {\n",
              "        vertical-align: top;\n",
              "    }\n",
              "\n",
              "    .dataframe thead th {\n",
              "        text-align: right;\n",
              "    }\n",
              "</style>\n",
              "<table border=\"1\" class=\"dataframe\">\n",
              "  <thead>\n",
              "    <tr style=\"text-align: right;\">\n",
              "      <th></th>\n",
              "      <th>id</th>\n",
              "      <th>diagnosis</th>\n",
              "      <th>radius_mean</th>\n",
              "      <th>texture_mean</th>\n",
              "      <th>perimeter_mean</th>\n",
              "      <th>area_mean</th>\n",
              "      <th>smoothness_mean</th>\n",
              "      <th>compactness_mean</th>\n",
              "      <th>concavity_mean</th>\n",
              "      <th>concave points_mean</th>\n",
              "      <th>...</th>\n",
              "      <th>perimeter_worst</th>\n",
              "      <th>area_worst</th>\n",
              "      <th>smoothness_worst</th>\n",
              "      <th>compactness_worst</th>\n",
              "      <th>concavity_worst</th>\n",
              "      <th>concave points_worst</th>\n",
              "      <th>symmetry_worst</th>\n",
              "      <th>fractal_dimension_worst</th>\n",
              "      <th>Unnamed: 32</th>\n",
              "      <th>target</th>\n",
              "    </tr>\n",
              "  </thead>\n",
              "  <tbody>\n",
              "    <tr>\n",
              "      <th>0</th>\n",
              "      <td>842302</td>\n",
              "      <td>M</td>\n",
              "      <td>17.99</td>\n",
              "      <td>10.38</td>\n",
              "      <td>122.80</td>\n",
              "      <td>1001.0</td>\n",
              "      <td>0.11840</td>\n",
              "      <td>0.27760</td>\n",
              "      <td>0.3001</td>\n",
              "      <td>0.14710</td>\n",
              "      <td>...</td>\n",
              "      <td>184.60</td>\n",
              "      <td>2019.0</td>\n",
              "      <td>0.1622</td>\n",
              "      <td>0.6656</td>\n",
              "      <td>0.7119</td>\n",
              "      <td>0.2654</td>\n",
              "      <td>0.4601</td>\n",
              "      <td>0.11890</td>\n",
              "      <td>NaN</td>\n",
              "      <td>1</td>\n",
              "    </tr>\n",
              "    <tr>\n",
              "      <th>1</th>\n",
              "      <td>842517</td>\n",
              "      <td>M</td>\n",
              "      <td>20.57</td>\n",
              "      <td>17.77</td>\n",
              "      <td>132.90</td>\n",
              "      <td>1326.0</td>\n",
              "      <td>0.08474</td>\n",
              "      <td>0.07864</td>\n",
              "      <td>0.0869</td>\n",
              "      <td>0.07017</td>\n",
              "      <td>...</td>\n",
              "      <td>158.80</td>\n",
              "      <td>1956.0</td>\n",
              "      <td>0.1238</td>\n",
              "      <td>0.1866</td>\n",
              "      <td>0.2416</td>\n",
              "      <td>0.1860</td>\n",
              "      <td>0.2750</td>\n",
              "      <td>0.08902</td>\n",
              "      <td>NaN</td>\n",
              "      <td>1</td>\n",
              "    </tr>\n",
              "    <tr>\n",
              "      <th>2</th>\n",
              "      <td>84300903</td>\n",
              "      <td>M</td>\n",
              "      <td>19.69</td>\n",
              "      <td>21.25</td>\n",
              "      <td>130.00</td>\n",
              "      <td>1203.0</td>\n",
              "      <td>0.10960</td>\n",
              "      <td>0.15990</td>\n",
              "      <td>0.1974</td>\n",
              "      <td>0.12790</td>\n",
              "      <td>...</td>\n",
              "      <td>152.50</td>\n",
              "      <td>1709.0</td>\n",
              "      <td>0.1444</td>\n",
              "      <td>0.4245</td>\n",
              "      <td>0.4504</td>\n",
              "      <td>0.2430</td>\n",
              "      <td>0.3613</td>\n",
              "      <td>0.08758</td>\n",
              "      <td>NaN</td>\n",
              "      <td>1</td>\n",
              "    </tr>\n",
              "    <tr>\n",
              "      <th>3</th>\n",
              "      <td>84348301</td>\n",
              "      <td>M</td>\n",
              "      <td>11.42</td>\n",
              "      <td>20.38</td>\n",
              "      <td>77.58</td>\n",
              "      <td>386.1</td>\n",
              "      <td>0.14250</td>\n",
              "      <td>0.28390</td>\n",
              "      <td>0.2414</td>\n",
              "      <td>0.10520</td>\n",
              "      <td>...</td>\n",
              "      <td>98.87</td>\n",
              "      <td>567.7</td>\n",
              "      <td>0.2098</td>\n",
              "      <td>0.8663</td>\n",
              "      <td>0.6869</td>\n",
              "      <td>0.2575</td>\n",
              "      <td>0.6638</td>\n",
              "      <td>0.17300</td>\n",
              "      <td>NaN</td>\n",
              "      <td>1</td>\n",
              "    </tr>\n",
              "    <tr>\n",
              "      <th>4</th>\n",
              "      <td>84358402</td>\n",
              "      <td>M</td>\n",
              "      <td>20.29</td>\n",
              "      <td>14.34</td>\n",
              "      <td>135.10</td>\n",
              "      <td>1297.0</td>\n",
              "      <td>0.10030</td>\n",
              "      <td>0.13280</td>\n",
              "      <td>0.1980</td>\n",
              "      <td>0.10430</td>\n",
              "      <td>...</td>\n",
              "      <td>152.20</td>\n",
              "      <td>1575.0</td>\n",
              "      <td>0.1374</td>\n",
              "      <td>0.2050</td>\n",
              "      <td>0.4000</td>\n",
              "      <td>0.1625</td>\n",
              "      <td>0.2364</td>\n",
              "      <td>0.07678</td>\n",
              "      <td>NaN</td>\n",
              "      <td>1</td>\n",
              "    </tr>\n",
              "  </tbody>\n",
              "</table>\n",
              "<p>5 rows × 34 columns</p>\n",
              "</div>\n",
              "      <button class=\"colab-df-convert\" onclick=\"convertToInteractive('df-cc094947-681b-4653-848c-389b07c64827')\"\n",
              "              title=\"Convert this dataframe to an interactive table.\"\n",
              "              style=\"display:none;\">\n",
              "        \n",
              "  <svg xmlns=\"http://www.w3.org/2000/svg\" height=\"24px\"viewBox=\"0 0 24 24\"\n",
              "       width=\"24px\">\n",
              "    <path d=\"M0 0h24v24H0V0z\" fill=\"none\"/>\n",
              "    <path d=\"M18.56 5.44l.94 2.06.94-2.06 2.06-.94-2.06-.94-.94-2.06-.94 2.06-2.06.94zm-11 1L8.5 8.5l.94-2.06 2.06-.94-2.06-.94L8.5 2.5l-.94 2.06-2.06.94zm10 10l.94 2.06.94-2.06 2.06-.94-2.06-.94-.94-2.06-.94 2.06-2.06.94z\"/><path d=\"M17.41 7.96l-1.37-1.37c-.4-.4-.92-.59-1.43-.59-.52 0-1.04.2-1.43.59L10.3 9.45l-7.72 7.72c-.78.78-.78 2.05 0 2.83L4 21.41c.39.39.9.59 1.41.59.51 0 1.02-.2 1.41-.59l7.78-7.78 2.81-2.81c.8-.78.8-2.07 0-2.86zM5.41 20L4 18.59l7.72-7.72 1.47 1.35L5.41 20z\"/>\n",
              "  </svg>\n",
              "      </button>\n",
              "      \n",
              "  <style>\n",
              "    .colab-df-container {\n",
              "      display:flex;\n",
              "      flex-wrap:wrap;\n",
              "      gap: 12px;\n",
              "    }\n",
              "\n",
              "    .colab-df-convert {\n",
              "      background-color: #E8F0FE;\n",
              "      border: none;\n",
              "      border-radius: 50%;\n",
              "      cursor: pointer;\n",
              "      display: none;\n",
              "      fill: #1967D2;\n",
              "      height: 32px;\n",
              "      padding: 0 0 0 0;\n",
              "      width: 32px;\n",
              "    }\n",
              "\n",
              "    .colab-df-convert:hover {\n",
              "      background-color: #E2EBFA;\n",
              "      box-shadow: 0px 1px 2px rgba(60, 64, 67, 0.3), 0px 1px 3px 1px rgba(60, 64, 67, 0.15);\n",
              "      fill: #174EA6;\n",
              "    }\n",
              "\n",
              "    [theme=dark] .colab-df-convert {\n",
              "      background-color: #3B4455;\n",
              "      fill: #D2E3FC;\n",
              "    }\n",
              "\n",
              "    [theme=dark] .colab-df-convert:hover {\n",
              "      background-color: #434B5C;\n",
              "      box-shadow: 0px 1px 3px 1px rgba(0, 0, 0, 0.15);\n",
              "      filter: drop-shadow(0px 1px 2px rgba(0, 0, 0, 0.3));\n",
              "      fill: #FFFFFF;\n",
              "    }\n",
              "  </style>\n",
              "\n",
              "      <script>\n",
              "        const buttonEl =\n",
              "          document.querySelector('#df-cc094947-681b-4653-848c-389b07c64827 button.colab-df-convert');\n",
              "        buttonEl.style.display =\n",
              "          google.colab.kernel.accessAllowed ? 'block' : 'none';\n",
              "\n",
              "        async function convertToInteractive(key) {\n",
              "          const element = document.querySelector('#df-cc094947-681b-4653-848c-389b07c64827');\n",
              "          const dataTable =\n",
              "            await google.colab.kernel.invokeFunction('convertToInteractive',\n",
              "                                                     [key], {});\n",
              "          if (!dataTable) return;\n",
              "\n",
              "          const docLinkHtml = 'Like what you see? Visit the ' +\n",
              "            '<a target=\"_blank\" href=https://colab.research.google.com/notebooks/data_table.ipynb>data table notebook</a>'\n",
              "            + ' to learn more about interactive tables.';\n",
              "          element.innerHTML = '';\n",
              "          dataTable['output_type'] = 'display_data';\n",
              "          await google.colab.output.renderOutput(dataTable, element);\n",
              "          const docLink = document.createElement('div');\n",
              "          docLink.innerHTML = docLinkHtml;\n",
              "          element.appendChild(docLink);\n",
              "        }\n",
              "      </script>\n",
              "    </div>\n",
              "  </div>\n",
              "  "
            ]
          },
          "metadata": {},
          "execution_count": 52
        }
      ]
    },
    {
      "cell_type": "code",
      "source": [
        "cancer_data['target'].value_counts()"
      ],
      "metadata": {
        "colab": {
          "base_uri": "https://localhost:8080/"
        },
        "id": "QEjyPh0PEdeK",
        "outputId": "fe532964-90e2-424a-b4e4-8c8e3373b4da"
      },
      "execution_count": 54,
      "outputs": [
        {
          "output_type": "execute_result",
          "data": {
            "text/plain": [
              "0    357\n",
              "1    212\n",
              "Name: target, dtype: int64"
            ]
          },
          "metadata": {},
          "execution_count": 54
        }
      ]
    },
    {
      "cell_type": "markdown",
      "source": [
        "Endcoing the iris data set"
      ],
      "metadata": {
        "id": "--Jy5PXyE796"
      }
    },
    {
      "cell_type": "code",
      "source": [
        "iris_data = pd.read_csv('/content/iris_data.csv')"
      ],
      "metadata": {
        "id": "Mo2Qy4h2Emas"
      },
      "execution_count": 55,
      "outputs": []
    },
    {
      "cell_type": "code",
      "source": [
        "iris_data.head()"
      ],
      "metadata": {
        "colab": {
          "base_uri": "https://localhost:8080/",
          "height": 206
        },
        "id": "qVo5lRb0FKMl",
        "outputId": "672a04c9-f734-4af2-8dc5-65161c5e0ff2"
      },
      "execution_count": 56,
      "outputs": [
        {
          "output_type": "execute_result",
          "data": {
            "text/plain": [
              "   Id  SepalLengthCm  SepalWidthCm  PetalLengthCm  PetalWidthCm      Species\n",
              "0   1            5.1           3.5            1.4           0.2  Iris-setosa\n",
              "1   2            4.9           3.0            1.4           0.2  Iris-setosa\n",
              "2   3            4.7           3.2            1.3           0.2  Iris-setosa\n",
              "3   4            4.6           3.1            1.5           0.2  Iris-setosa\n",
              "4   5            5.0           3.6            1.4           0.2  Iris-setosa"
            ],
            "text/html": [
              "\n",
              "  <div id=\"df-388d50cd-19d2-4839-8c55-2737c9d5687b\">\n",
              "    <div class=\"colab-df-container\">\n",
              "      <div>\n",
              "<style scoped>\n",
              "    .dataframe tbody tr th:only-of-type {\n",
              "        vertical-align: middle;\n",
              "    }\n",
              "\n",
              "    .dataframe tbody tr th {\n",
              "        vertical-align: top;\n",
              "    }\n",
              "\n",
              "    .dataframe thead th {\n",
              "        text-align: right;\n",
              "    }\n",
              "</style>\n",
              "<table border=\"1\" class=\"dataframe\">\n",
              "  <thead>\n",
              "    <tr style=\"text-align: right;\">\n",
              "      <th></th>\n",
              "      <th>Id</th>\n",
              "      <th>SepalLengthCm</th>\n",
              "      <th>SepalWidthCm</th>\n",
              "      <th>PetalLengthCm</th>\n",
              "      <th>PetalWidthCm</th>\n",
              "      <th>Species</th>\n",
              "    </tr>\n",
              "  </thead>\n",
              "  <tbody>\n",
              "    <tr>\n",
              "      <th>0</th>\n",
              "      <td>1</td>\n",
              "      <td>5.1</td>\n",
              "      <td>3.5</td>\n",
              "      <td>1.4</td>\n",
              "      <td>0.2</td>\n",
              "      <td>Iris-setosa</td>\n",
              "    </tr>\n",
              "    <tr>\n",
              "      <th>1</th>\n",
              "      <td>2</td>\n",
              "      <td>4.9</td>\n",
              "      <td>3.0</td>\n",
              "      <td>1.4</td>\n",
              "      <td>0.2</td>\n",
              "      <td>Iris-setosa</td>\n",
              "    </tr>\n",
              "    <tr>\n",
              "      <th>2</th>\n",
              "      <td>3</td>\n",
              "      <td>4.7</td>\n",
              "      <td>3.2</td>\n",
              "      <td>1.3</td>\n",
              "      <td>0.2</td>\n",
              "      <td>Iris-setosa</td>\n",
              "    </tr>\n",
              "    <tr>\n",
              "      <th>3</th>\n",
              "      <td>4</td>\n",
              "      <td>4.6</td>\n",
              "      <td>3.1</td>\n",
              "      <td>1.5</td>\n",
              "      <td>0.2</td>\n",
              "      <td>Iris-setosa</td>\n",
              "    </tr>\n",
              "    <tr>\n",
              "      <th>4</th>\n",
              "      <td>5</td>\n",
              "      <td>5.0</td>\n",
              "      <td>3.6</td>\n",
              "      <td>1.4</td>\n",
              "      <td>0.2</td>\n",
              "      <td>Iris-setosa</td>\n",
              "    </tr>\n",
              "  </tbody>\n",
              "</table>\n",
              "</div>\n",
              "      <button class=\"colab-df-convert\" onclick=\"convertToInteractive('df-388d50cd-19d2-4839-8c55-2737c9d5687b')\"\n",
              "              title=\"Convert this dataframe to an interactive table.\"\n",
              "              style=\"display:none;\">\n",
              "        \n",
              "  <svg xmlns=\"http://www.w3.org/2000/svg\" height=\"24px\"viewBox=\"0 0 24 24\"\n",
              "       width=\"24px\">\n",
              "    <path d=\"M0 0h24v24H0V0z\" fill=\"none\"/>\n",
              "    <path d=\"M18.56 5.44l.94 2.06.94-2.06 2.06-.94-2.06-.94-.94-2.06-.94 2.06-2.06.94zm-11 1L8.5 8.5l.94-2.06 2.06-.94-2.06-.94L8.5 2.5l-.94 2.06-2.06.94zm10 10l.94 2.06.94-2.06 2.06-.94-2.06-.94-.94-2.06-.94 2.06-2.06.94z\"/><path d=\"M17.41 7.96l-1.37-1.37c-.4-.4-.92-.59-1.43-.59-.52 0-1.04.2-1.43.59L10.3 9.45l-7.72 7.72c-.78.78-.78 2.05 0 2.83L4 21.41c.39.39.9.59 1.41.59.51 0 1.02-.2 1.41-.59l7.78-7.78 2.81-2.81c.8-.78.8-2.07 0-2.86zM5.41 20L4 18.59l7.72-7.72 1.47 1.35L5.41 20z\"/>\n",
              "  </svg>\n",
              "      </button>\n",
              "      \n",
              "  <style>\n",
              "    .colab-df-container {\n",
              "      display:flex;\n",
              "      flex-wrap:wrap;\n",
              "      gap: 12px;\n",
              "    }\n",
              "\n",
              "    .colab-df-convert {\n",
              "      background-color: #E8F0FE;\n",
              "      border: none;\n",
              "      border-radius: 50%;\n",
              "      cursor: pointer;\n",
              "      display: none;\n",
              "      fill: #1967D2;\n",
              "      height: 32px;\n",
              "      padding: 0 0 0 0;\n",
              "      width: 32px;\n",
              "    }\n",
              "\n",
              "    .colab-df-convert:hover {\n",
              "      background-color: #E2EBFA;\n",
              "      box-shadow: 0px 1px 2px rgba(60, 64, 67, 0.3), 0px 1px 3px 1px rgba(60, 64, 67, 0.15);\n",
              "      fill: #174EA6;\n",
              "    }\n",
              "\n",
              "    [theme=dark] .colab-df-convert {\n",
              "      background-color: #3B4455;\n",
              "      fill: #D2E3FC;\n",
              "    }\n",
              "\n",
              "    [theme=dark] .colab-df-convert:hover {\n",
              "      background-color: #434B5C;\n",
              "      box-shadow: 0px 1px 3px 1px rgba(0, 0, 0, 0.15);\n",
              "      filter: drop-shadow(0px 1px 2px rgba(0, 0, 0, 0.3));\n",
              "      fill: #FFFFFF;\n",
              "    }\n",
              "  </style>\n",
              "\n",
              "      <script>\n",
              "        const buttonEl =\n",
              "          document.querySelector('#df-388d50cd-19d2-4839-8c55-2737c9d5687b button.colab-df-convert');\n",
              "        buttonEl.style.display =\n",
              "          google.colab.kernel.accessAllowed ? 'block' : 'none';\n",
              "\n",
              "        async function convertToInteractive(key) {\n",
              "          const element = document.querySelector('#df-388d50cd-19d2-4839-8c55-2737c9d5687b');\n",
              "          const dataTable =\n",
              "            await google.colab.kernel.invokeFunction('convertToInteractive',\n",
              "                                                     [key], {});\n",
              "          if (!dataTable) return;\n",
              "\n",
              "          const docLinkHtml = 'Like what you see? Visit the ' +\n",
              "            '<a target=\"_blank\" href=https://colab.research.google.com/notebooks/data_table.ipynb>data table notebook</a>'\n",
              "            + ' to learn more about interactive tables.';\n",
              "          element.innerHTML = '';\n",
              "          dataTable['output_type'] = 'display_data';\n",
              "          await google.colab.output.renderOutput(dataTable, element);\n",
              "          const docLink = document.createElement('div');\n",
              "          docLink.innerHTML = docLinkHtml;\n",
              "          element.appendChild(docLink);\n",
              "        }\n",
              "      </script>\n",
              "    </div>\n",
              "  </div>\n",
              "  "
            ]
          },
          "metadata": {},
          "execution_count": 56
        }
      ]
    },
    {
      "cell_type": "code",
      "source": [
        "iris_data['Species'].value_counts()"
      ],
      "metadata": {
        "colab": {
          "base_uri": "https://localhost:8080/"
        },
        "id": "XCjjhPwDFPJW",
        "outputId": "e6c8a3f8-5d27-4566-f056-35a482e7a7e7"
      },
      "execution_count": 58,
      "outputs": [
        {
          "output_type": "execute_result",
          "data": {
            "text/plain": [
              "Iris-setosa        50\n",
              "Iris-versicolor    50\n",
              "Iris-virginica     50\n",
              "Name: Species, dtype: int64"
            ]
          },
          "metadata": {},
          "execution_count": 58
        }
      ]
    },
    {
      "cell_type": "code",
      "source": [
        "# loadint the label encoder\n",
        "label_encoder_1= LabelEncoder()"
      ],
      "metadata": {
        "id": "27DPGdmeFW3W"
      },
      "execution_count": 59,
      "outputs": []
    },
    {
      "cell_type": "code",
      "source": [
        "iris_labels = label_encoder_1.fit_transform(iris_data.Species )"
      ],
      "metadata": {
        "id": "z4xIM1WmFkjw"
      },
      "execution_count": 62,
      "outputs": []
    },
    {
      "cell_type": "code",
      "source": [
        "iris_data['target']= iris_labels"
      ],
      "metadata": {
        "id": "FSykfMJ2Fyid"
      },
      "execution_count": 63,
      "outputs": []
    },
    {
      "cell_type": "code",
      "source": [
        "iris_data.head()"
      ],
      "metadata": {
        "colab": {
          "base_uri": "https://localhost:8080/",
          "height": 206
        },
        "id": "ql3FsN-OF795",
        "outputId": "65b55349-5764-4947-de92-2d0bdb0035d0"
      },
      "execution_count": 64,
      "outputs": [
        {
          "output_type": "execute_result",
          "data": {
            "text/plain": [
              "   Id  SepalLengthCm  SepalWidthCm  PetalLengthCm  PetalWidthCm      Species  \\\n",
              "0   1            5.1           3.5            1.4           0.2  Iris-setosa   \n",
              "1   2            4.9           3.0            1.4           0.2  Iris-setosa   \n",
              "2   3            4.7           3.2            1.3           0.2  Iris-setosa   \n",
              "3   4            4.6           3.1            1.5           0.2  Iris-setosa   \n",
              "4   5            5.0           3.6            1.4           0.2  Iris-setosa   \n",
              "\n",
              "   target  \n",
              "0       0  \n",
              "1       0  \n",
              "2       0  \n",
              "3       0  \n",
              "4       0  "
            ],
            "text/html": [
              "\n",
              "  <div id=\"df-d0422258-2cdb-434d-95a9-51733df05999\">\n",
              "    <div class=\"colab-df-container\">\n",
              "      <div>\n",
              "<style scoped>\n",
              "    .dataframe tbody tr th:only-of-type {\n",
              "        vertical-align: middle;\n",
              "    }\n",
              "\n",
              "    .dataframe tbody tr th {\n",
              "        vertical-align: top;\n",
              "    }\n",
              "\n",
              "    .dataframe thead th {\n",
              "        text-align: right;\n",
              "    }\n",
              "</style>\n",
              "<table border=\"1\" class=\"dataframe\">\n",
              "  <thead>\n",
              "    <tr style=\"text-align: right;\">\n",
              "      <th></th>\n",
              "      <th>Id</th>\n",
              "      <th>SepalLengthCm</th>\n",
              "      <th>SepalWidthCm</th>\n",
              "      <th>PetalLengthCm</th>\n",
              "      <th>PetalWidthCm</th>\n",
              "      <th>Species</th>\n",
              "      <th>target</th>\n",
              "    </tr>\n",
              "  </thead>\n",
              "  <tbody>\n",
              "    <tr>\n",
              "      <th>0</th>\n",
              "      <td>1</td>\n",
              "      <td>5.1</td>\n",
              "      <td>3.5</td>\n",
              "      <td>1.4</td>\n",
              "      <td>0.2</td>\n",
              "      <td>Iris-setosa</td>\n",
              "      <td>0</td>\n",
              "    </tr>\n",
              "    <tr>\n",
              "      <th>1</th>\n",
              "      <td>2</td>\n",
              "      <td>4.9</td>\n",
              "      <td>3.0</td>\n",
              "      <td>1.4</td>\n",
              "      <td>0.2</td>\n",
              "      <td>Iris-setosa</td>\n",
              "      <td>0</td>\n",
              "    </tr>\n",
              "    <tr>\n",
              "      <th>2</th>\n",
              "      <td>3</td>\n",
              "      <td>4.7</td>\n",
              "      <td>3.2</td>\n",
              "      <td>1.3</td>\n",
              "      <td>0.2</td>\n",
              "      <td>Iris-setosa</td>\n",
              "      <td>0</td>\n",
              "    </tr>\n",
              "    <tr>\n",
              "      <th>3</th>\n",
              "      <td>4</td>\n",
              "      <td>4.6</td>\n",
              "      <td>3.1</td>\n",
              "      <td>1.5</td>\n",
              "      <td>0.2</td>\n",
              "      <td>Iris-setosa</td>\n",
              "      <td>0</td>\n",
              "    </tr>\n",
              "    <tr>\n",
              "      <th>4</th>\n",
              "      <td>5</td>\n",
              "      <td>5.0</td>\n",
              "      <td>3.6</td>\n",
              "      <td>1.4</td>\n",
              "      <td>0.2</td>\n",
              "      <td>Iris-setosa</td>\n",
              "      <td>0</td>\n",
              "    </tr>\n",
              "  </tbody>\n",
              "</table>\n",
              "</div>\n",
              "      <button class=\"colab-df-convert\" onclick=\"convertToInteractive('df-d0422258-2cdb-434d-95a9-51733df05999')\"\n",
              "              title=\"Convert this dataframe to an interactive table.\"\n",
              "              style=\"display:none;\">\n",
              "        \n",
              "  <svg xmlns=\"http://www.w3.org/2000/svg\" height=\"24px\"viewBox=\"0 0 24 24\"\n",
              "       width=\"24px\">\n",
              "    <path d=\"M0 0h24v24H0V0z\" fill=\"none\"/>\n",
              "    <path d=\"M18.56 5.44l.94 2.06.94-2.06 2.06-.94-2.06-.94-.94-2.06-.94 2.06-2.06.94zm-11 1L8.5 8.5l.94-2.06 2.06-.94-2.06-.94L8.5 2.5l-.94 2.06-2.06.94zm10 10l.94 2.06.94-2.06 2.06-.94-2.06-.94-.94-2.06-.94 2.06-2.06.94z\"/><path d=\"M17.41 7.96l-1.37-1.37c-.4-.4-.92-.59-1.43-.59-.52 0-1.04.2-1.43.59L10.3 9.45l-7.72 7.72c-.78.78-.78 2.05 0 2.83L4 21.41c.39.39.9.59 1.41.59.51 0 1.02-.2 1.41-.59l7.78-7.78 2.81-2.81c.8-.78.8-2.07 0-2.86zM5.41 20L4 18.59l7.72-7.72 1.47 1.35L5.41 20z\"/>\n",
              "  </svg>\n",
              "      </button>\n",
              "      \n",
              "  <style>\n",
              "    .colab-df-container {\n",
              "      display:flex;\n",
              "      flex-wrap:wrap;\n",
              "      gap: 12px;\n",
              "    }\n",
              "\n",
              "    .colab-df-convert {\n",
              "      background-color: #E8F0FE;\n",
              "      border: none;\n",
              "      border-radius: 50%;\n",
              "      cursor: pointer;\n",
              "      display: none;\n",
              "      fill: #1967D2;\n",
              "      height: 32px;\n",
              "      padding: 0 0 0 0;\n",
              "      width: 32px;\n",
              "    }\n",
              "\n",
              "    .colab-df-convert:hover {\n",
              "      background-color: #E2EBFA;\n",
              "      box-shadow: 0px 1px 2px rgba(60, 64, 67, 0.3), 0px 1px 3px 1px rgba(60, 64, 67, 0.15);\n",
              "      fill: #174EA6;\n",
              "    }\n",
              "\n",
              "    [theme=dark] .colab-df-convert {\n",
              "      background-color: #3B4455;\n",
              "      fill: #D2E3FC;\n",
              "    }\n",
              "\n",
              "    [theme=dark] .colab-df-convert:hover {\n",
              "      background-color: #434B5C;\n",
              "      box-shadow: 0px 1px 3px 1px rgba(0, 0, 0, 0.15);\n",
              "      filter: drop-shadow(0px 1px 2px rgba(0, 0, 0, 0.3));\n",
              "      fill: #FFFFFF;\n",
              "    }\n",
              "  </style>\n",
              "\n",
              "      <script>\n",
              "        const buttonEl =\n",
              "          document.querySelector('#df-d0422258-2cdb-434d-95a9-51733df05999 button.colab-df-convert');\n",
              "        buttonEl.style.display =\n",
              "          google.colab.kernel.accessAllowed ? 'block' : 'none';\n",
              "\n",
              "        async function convertToInteractive(key) {\n",
              "          const element = document.querySelector('#df-d0422258-2cdb-434d-95a9-51733df05999');\n",
              "          const dataTable =\n",
              "            await google.colab.kernel.invokeFunction('convertToInteractive',\n",
              "                                                     [key], {});\n",
              "          if (!dataTable) return;\n",
              "\n",
              "          const docLinkHtml = 'Like what you see? Visit the ' +\n",
              "            '<a target=\"_blank\" href=https://colab.research.google.com/notebooks/data_table.ipynb>data table notebook</a>'\n",
              "            + ' to learn more about interactive tables.';\n",
              "          element.innerHTML = '';\n",
              "          dataTable['output_type'] = 'display_data';\n",
              "          await google.colab.output.renderOutput(dataTable, element);\n",
              "          const docLink = document.createElement('div');\n",
              "          docLink.innerHTML = docLinkHtml;\n",
              "          element.appendChild(docLink);\n",
              "        }\n",
              "      </script>\n",
              "    </div>\n",
              "  </div>\n",
              "  "
            ]
          },
          "metadata": {},
          "execution_count": 64
        }
      ]
    },
    {
      "cell_type": "code",
      "source": [
        "iris_data['target'].value_counts()"
      ],
      "metadata": {
        "colab": {
          "base_uri": "https://localhost:8080/"
        },
        "id": "mHsk_3AyGCXF",
        "outputId": "5abfdc12-2335-4df5-9bdb-8607106fcc70"
      },
      "execution_count": 65,
      "outputs": [
        {
          "output_type": "execute_result",
          "data": {
            "text/plain": [
              "0    50\n",
              "1    50\n",
              "2    50\n",
              "Name: target, dtype: int64"
            ]
          },
          "metadata": {},
          "execution_count": 65
        }
      ]
    },
    {
      "cell_type": "markdown",
      "source": [
        "# Train Test split in Machine learning"
      ],
      "metadata": {
        "id": "zKfQcv-rGSht"
      }
    },
    {
      "cell_type": "markdown",
      "source": [
        "![Screenshot (364).png](data:image/png;base64,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)"
      ],
      "metadata": {
        "id": "6SjYgs2jK2eh"
      }
    },
    {
      "cell_type": "code",
      "source": [],
      "metadata": {
        "id": "ugoxotgjKIQ6"
      },
      "execution_count": null,
      "outputs": []
    }
  ]
}